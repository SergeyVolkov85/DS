{
 "cells": [
  {
   "cell_type": "markdown",
   "metadata": {},
   "source": [
    "Привет, меня зовут Артем Хуршудов. Сегодня я проверю твой проект.\n",
    "<br> Дальнейшее общение будет происходить на \"ты\" если это не вызывает никаких проблем.\n",
    "<br> Желательно реагировать на каждый мой комментарий ('исправил', 'не понятно как исправить ошибку', ...)\n",
    "<br> Пожалуйста, не удаляй комментарии ревьюера, так как они повышают качество повторного ревью.\n",
    "\n",
    "Комментарии будут в <font color='green'>зеленой</font>, <font color='blue'>синей</font> или <font color='red'>красной</font> рамках:\n",
    "\n",
    "<div class=\"alert alert-block alert-success\">\n",
    "<b>Успех:</b> Если все сделано отлично\n",
    "</div>\n",
    "\n",
    "<div class=\"alert alert-block alert-info\">\n",
    "<b>Совет: </b> Если можно немного улучшить\n",
    "</div>\n",
    "\n",
    "<div class=\"alert alert-block alert-danger\">\n",
    "<b>Ошибка:</b> Если требуются исправления. Работа не может быть принята с красными комментариями.\n",
    "</div>\n",
    "\n",
    "-------------------\n",
    "\n",
    "Будет очень хорошо, если ты будешь помечать свои действия следующим образом:\n",
    "<div class=\"alert alert-block alert-warning\">\n",
    "<b>Комментарий студента:</b> ...\n",
    "</div>\n",
    "\n",
    "<div class=\"alert alert-block alert-warning\">\n",
    "<b>Изменения:</b> Были внесены следующие изменения ...\n",
    "</div>\n",
    "\n",
    "### <font color='orange'>Общее впечатление</font>\n",
    "* Большое спасибо за проделанную работу. Видно, что приложено много усилий.\n",
    "* Отлично, что правильно использованы train/valid/test наборы.\n",
    "* Выводы и рассуждения получились содержательными, их было интересно читать.\n",
    "* Над этим проектом нужно будет еще немного поработать. Однако, изменения не должны занять много времени.\n",
    "* С радостью отвечу на твои вопросы, если они есть. Лучше всего их собрать в следующей ячейке. Жду новую версию проекта."
   ]
  },
  {
   "cell_type": "markdown",
   "metadata": {},
   "source": [
    "### <font color='orange'>Общее впечатление (ревью 2)</font>\n",
    "* Для удобства все новые комментарии обозначены фразой \"ревью 2\".\n",
    "* Удачи в доработке!\n",
    "\n",
    "### <font color='orange'>Общее впечатление (ревью 3)</font>\n",
    "* Новый комментарий обозначен фразой \"ревью 3\"."
   ]
  },
  {
   "cell_type": "markdown",
   "metadata": {},
   "source": [
    "### <font color='orange'>Общее впечатление (ревью 4)</font>\n",
    "* После исправлений проект улучшился и теперь он может быть зачтен.\n",
    "* Удачи в дальнейшем обучении и следующих работах!"
   ]
  },
  {
   "cell_type": "markdown",
   "metadata": {},
   "source": [
    "# Рекомендация тарифов"
   ]
  },
  {
   "cell_type": "markdown",
   "metadata": {},
   "source": [
    "В вашем распоряжении данные о поведении клиентов, которые уже перешли на эти тарифы (из проекта курса «Статистический анализ данных»). Нужно построить модель для задачи классификации, которая выберет подходящий тариф. Предобработка данных не понадобится — вы её уже сделали.\n",
    "\n",
    "Постройте модель с максимально большим значением *accuracy*. Чтобы сдать проект успешно, нужно довести долю правильных ответов по крайней мере до 0.75. Проверьте *accuracy* на тестовой выборке самостоятельно."
   ]
  },
  {
   "cell_type": "markdown",
   "metadata": {},
   "source": [
    "## Откройте и изучите файл"
   ]
  },
  {
   "cell_type": "code",
   "execution_count": 31,
   "metadata": {},
   "outputs": [],
   "source": [
    "import pandas as pd\n",
    "import numpy as np\n",
    "from sklearn.tree import DecisionTreeClassifier\n",
    "from sklearn.linear_model import LogisticRegression\n",
    "from sklearn.dummy import DummyClassifier\n",
    "from sklearn.tree import DecisionTreeRegressor\n",
    "from sklearn.ensemble import RandomForestRegressor\n",
    "from sklearn.ensemble import RandomForestClassifier\n",
    "import pandas as pd\n",
    "from sklearn.tree import DecisionTreeRegressor\n",
    "from sklearn.ensemble import RandomForestRegressor\n",
    "from sklearn.linear_model import LinearRegression\n",
    "from sklearn.model_selection import train_test_split\n",
    "from sklearn.metrics import mean_squared_error\n",
    "df = pd.read_csv('/datasets/users_behavior.csv')"
   ]
  },
  {
   "cell_type": "markdown",
   "metadata": {},
   "source": [
    "<div class=\"alert alert-block alert-success\">\n",
    "<b>Успех:</b> Отлично, что все импорты собраны в первой ячейке ноутбука! Если у того, кто будет запускать твой ноутбук будут отсутствовать некоторые библиотеки, то он это увидит сразу, а не в процессе!\n",
    "</div>"
   ]
  },
  {
   "cell_type": "markdown",
   "metadata": {},
   "source": []
  },
  {
   "cell_type": "code",
   "execution_count": 32,
   "metadata": {},
   "outputs": [
    {
     "data": {
      "text/html": [
       "<div>\n",
       "<style scoped>\n",
       "    .dataframe tbody tr th:only-of-type {\n",
       "        vertical-align: middle;\n",
       "    }\n",
       "\n",
       "    .dataframe tbody tr th {\n",
       "        vertical-align: top;\n",
       "    }\n",
       "\n",
       "    .dataframe thead th {\n",
       "        text-align: right;\n",
       "    }\n",
       "</style>\n",
       "<table border=\"1\" class=\"dataframe\">\n",
       "  <thead>\n",
       "    <tr style=\"text-align: right;\">\n",
       "      <th></th>\n",
       "      <th>calls</th>\n",
       "      <th>minutes</th>\n",
       "      <th>messages</th>\n",
       "      <th>mb_used</th>\n",
       "      <th>is_ultra</th>\n",
       "    </tr>\n",
       "  </thead>\n",
       "  <tbody>\n",
       "    <tr>\n",
       "      <td>0</td>\n",
       "      <td>40.0</td>\n",
       "      <td>311.90</td>\n",
       "      <td>83.0</td>\n",
       "      <td>19915.42</td>\n",
       "      <td>0</td>\n",
       "    </tr>\n",
       "    <tr>\n",
       "      <td>1</td>\n",
       "      <td>85.0</td>\n",
       "      <td>516.75</td>\n",
       "      <td>56.0</td>\n",
       "      <td>22696.96</td>\n",
       "      <td>0</td>\n",
       "    </tr>\n",
       "    <tr>\n",
       "      <td>2</td>\n",
       "      <td>77.0</td>\n",
       "      <td>467.66</td>\n",
       "      <td>86.0</td>\n",
       "      <td>21060.45</td>\n",
       "      <td>0</td>\n",
       "    </tr>\n",
       "    <tr>\n",
       "      <td>3</td>\n",
       "      <td>106.0</td>\n",
       "      <td>745.53</td>\n",
       "      <td>81.0</td>\n",
       "      <td>8437.39</td>\n",
       "      <td>1</td>\n",
       "    </tr>\n",
       "    <tr>\n",
       "      <td>4</td>\n",
       "      <td>66.0</td>\n",
       "      <td>418.74</td>\n",
       "      <td>1.0</td>\n",
       "      <td>14502.75</td>\n",
       "      <td>0</td>\n",
       "    </tr>\n",
       "  </tbody>\n",
       "</table>\n",
       "</div>"
      ],
      "text/plain": [
       "   calls  minutes  messages   mb_used  is_ultra\n",
       "0   40.0   311.90      83.0  19915.42         0\n",
       "1   85.0   516.75      56.0  22696.96         0\n",
       "2   77.0   467.66      86.0  21060.45         0\n",
       "3  106.0   745.53      81.0   8437.39         1\n",
       "4   66.0   418.74       1.0  14502.75         0"
      ]
     },
     "execution_count": 32,
     "metadata": {},
     "output_type": "execute_result"
    }
   ],
   "source": [
    "df.head()"
   ]
  },
  {
   "cell_type": "markdown",
   "metadata": {},
   "source": [
    "Посмотрим тип данных"
   ]
  },
  {
   "cell_type": "code",
   "execution_count": 33,
   "metadata": {},
   "outputs": [
    {
     "name": "stdout",
     "output_type": "stream",
     "text": [
      "<class 'pandas.core.frame.DataFrame'>\n",
      "RangeIndex: 3214 entries, 0 to 3213\n",
      "Data columns (total 5 columns):\n",
      "calls       3214 non-null float64\n",
      "minutes     3214 non-null float64\n",
      "messages    3214 non-null float64\n",
      "mb_used     3214 non-null float64\n",
      "is_ultra    3214 non-null int64\n",
      "dtypes: float64(4), int64(1)\n",
      "memory usage: 125.7 KB\n"
     ]
    }
   ],
   "source": [
    "df.info()"
   ]
  },
  {
   "cell_type": "markdown",
   "metadata": {},
   "source": [
    "Изменим тип поля messages на int, потому что дробных сообщений быть не может"
   ]
  },
  {
   "cell_type": "code",
   "execution_count": 34,
   "metadata": {},
   "outputs": [],
   "source": [
    "df['messages']=df['messages'].astype(int)"
   ]
  },
  {
   "cell_type": "code",
   "execution_count": 35,
   "metadata": {},
   "outputs": [
    {
     "data": {
      "text/plain": [
       "0       83\n",
       "1       56\n",
       "2       86\n",
       "3       81\n",
       "4        1\n",
       "        ..\n",
       "3209    20\n",
       "3210     0\n",
       "3211    70\n",
       "3212    90\n",
       "3213     6\n",
       "Name: messages, Length: 3214, dtype: int64"
      ]
     },
     "execution_count": 35,
     "metadata": {},
     "output_type": "execute_result"
    }
   ],
   "source": [
    "df['messages']"
   ]
  },
  {
   "cell_type": "markdown",
   "metadata": {},
   "source": [
    "Проверим дубликаты"
   ]
  },
  {
   "cell_type": "code",
   "execution_count": 36,
   "metadata": {},
   "outputs": [
    {
     "data": {
      "text/plain": [
       "0"
      ]
     },
     "execution_count": 36,
     "metadata": {},
     "output_type": "execute_result"
    }
   ],
   "source": [
    "df.duplicated().sum()"
   ]
  },
  {
   "cell_type": "code",
   "execution_count": 37,
   "metadata": {},
   "outputs": [
    {
     "data": {
      "text/plain": [
       "Index(['calls', 'minutes', 'messages', 'mb_used', 'is_ultra'], dtype='object')"
      ]
     },
     "execution_count": 37,
     "metadata": {},
     "output_type": "execute_result"
    }
   ],
   "source": [
    "df.columns"
   ]
  },
  {
   "cell_type": "markdown",
   "metadata": {},
   "source": [
    "Проверим значения содержащиеся в столбцах"
   ]
  },
  {
   "cell_type": "code",
   "execution_count": 38,
   "metadata": {
    "scrolled": true
   },
   "outputs": [
    {
     "data": {
      "text/html": [
       "<div>\n",
       "<style scoped>\n",
       "    .dataframe tbody tr th:only-of-type {\n",
       "        vertical-align: middle;\n",
       "    }\n",
       "\n",
       "    .dataframe tbody tr th {\n",
       "        vertical-align: top;\n",
       "    }\n",
       "\n",
       "    .dataframe thead th {\n",
       "        text-align: right;\n",
       "    }\n",
       "</style>\n",
       "<table border=\"1\" class=\"dataframe\">\n",
       "  <thead>\n",
       "    <tr style=\"text-align: right;\">\n",
       "      <th></th>\n",
       "      <th>calls</th>\n",
       "      <th>minutes</th>\n",
       "      <th>messages</th>\n",
       "      <th>mb_used</th>\n",
       "      <th>is_ultra</th>\n",
       "    </tr>\n",
       "  </thead>\n",
       "  <tbody>\n",
       "    <tr>\n",
       "      <td>count</td>\n",
       "      <td>3214.000000</td>\n",
       "      <td>3214.000000</td>\n",
       "      <td>3214.000000</td>\n",
       "      <td>3214.000000</td>\n",
       "      <td>3214.000000</td>\n",
       "    </tr>\n",
       "    <tr>\n",
       "      <td>mean</td>\n",
       "      <td>63.038892</td>\n",
       "      <td>438.208787</td>\n",
       "      <td>38.281269</td>\n",
       "      <td>17207.673836</td>\n",
       "      <td>0.306472</td>\n",
       "    </tr>\n",
       "    <tr>\n",
       "      <td>std</td>\n",
       "      <td>33.236368</td>\n",
       "      <td>234.569872</td>\n",
       "      <td>36.148326</td>\n",
       "      <td>7570.968246</td>\n",
       "      <td>0.461100</td>\n",
       "    </tr>\n",
       "    <tr>\n",
       "      <td>min</td>\n",
       "      <td>0.000000</td>\n",
       "      <td>0.000000</td>\n",
       "      <td>0.000000</td>\n",
       "      <td>0.000000</td>\n",
       "      <td>0.000000</td>\n",
       "    </tr>\n",
       "    <tr>\n",
       "      <td>25%</td>\n",
       "      <td>40.000000</td>\n",
       "      <td>274.575000</td>\n",
       "      <td>9.000000</td>\n",
       "      <td>12491.902500</td>\n",
       "      <td>0.000000</td>\n",
       "    </tr>\n",
       "    <tr>\n",
       "      <td>50%</td>\n",
       "      <td>62.000000</td>\n",
       "      <td>430.600000</td>\n",
       "      <td>30.000000</td>\n",
       "      <td>16943.235000</td>\n",
       "      <td>0.000000</td>\n",
       "    </tr>\n",
       "    <tr>\n",
       "      <td>75%</td>\n",
       "      <td>82.000000</td>\n",
       "      <td>571.927500</td>\n",
       "      <td>57.000000</td>\n",
       "      <td>21424.700000</td>\n",
       "      <td>1.000000</td>\n",
       "    </tr>\n",
       "    <tr>\n",
       "      <td>max</td>\n",
       "      <td>244.000000</td>\n",
       "      <td>1632.060000</td>\n",
       "      <td>224.000000</td>\n",
       "      <td>49745.730000</td>\n",
       "      <td>1.000000</td>\n",
       "    </tr>\n",
       "  </tbody>\n",
       "</table>\n",
       "</div>"
      ],
      "text/plain": [
       "             calls      minutes     messages       mb_used     is_ultra\n",
       "count  3214.000000  3214.000000  3214.000000   3214.000000  3214.000000\n",
       "mean     63.038892   438.208787    38.281269  17207.673836     0.306472\n",
       "std      33.236368   234.569872    36.148326   7570.968246     0.461100\n",
       "min       0.000000     0.000000     0.000000      0.000000     0.000000\n",
       "25%      40.000000   274.575000     9.000000  12491.902500     0.000000\n",
       "50%      62.000000   430.600000    30.000000  16943.235000     0.000000\n",
       "75%      82.000000   571.927500    57.000000  21424.700000     1.000000\n",
       "max     244.000000  1632.060000   224.000000  49745.730000     1.000000"
      ]
     },
     "execution_count": 38,
     "metadata": {},
     "output_type": "execute_result"
    }
   ],
   "source": [
    "df.describe()"
   ]
  },
  {
   "cell_type": "markdown",
   "metadata": {
    "scrolled": true
   },
   "source": [
    "ВЫВОД:\n",
    "1. Пропущенных значений нет\n",
    "2. Типы столбцов в порядке\n",
    "3. Дубликатов нет"
   ]
  },
  {
   "cell_type": "markdown",
   "metadata": {},
   "source": [
    "<div class=\"alert alert-block alert-success\">\n",
    "<b>Успех:</b> Данные загружены корректно, первичный осмотр проведен.\n",
    "</div>"
   ]
  },
  {
   "cell_type": "markdown",
   "metadata": {},
   "source": [
    "## Разбейте данные на выборки"
   ]
  },
  {
   "cell_type": "markdown",
   "metadata": {},
   "source": [
    "Разобьем выборки на  60:20:20.\n"
   ]
  },
  {
   "cell_type": "code",
   "execution_count": 39,
   "metadata": {},
   "outputs": [],
   "source": [
    "#train, test = train_test_split(df, test_size=0.4, random_state=12345)\n"
   ]
  },
  {
   "cell_type": "code",
   "execution_count": 40,
   "metadata": {},
   "outputs": [],
   "source": [
    "train_df, othr_df = train_test_split(df, test_size=0.40, random_state=12345)\n",
    "valid_df, test_df = train_test_split(vnt_df, test_size=0.50, random_state=12345)"
   ]
  },
  {
   "cell_type": "code",
   "execution_count": 62,
   "metadata": {},
   "outputs": [
    {
     "name": "stdout",
     "output_type": "stream",
     "text": [
      "Размер тренировочной выборки 1928\n",
      "Размер валидационной выборки 643\n",
      "Размер тестовой выборки 643\n"
     ]
    }
   ],
   "source": [
    "print('Размер тренировочной выборки', train_df.shape[0])\n",
    "print('Размер валидационной выборки', valid_df.shape[0])\n",
    "print('Размер тестовой выборки', test_df.shape[0])"
   ]
  },
  {
   "cell_type": "code",
   "execution_count": 63,
   "metadata": {},
   "outputs": [],
   "source": [
    "train_df_features = train_df.drop(['is_ultra'], axis=1)\n",
    "train_df_target = train_df['is_ultra']\n",
    "valid_df_features = valid_df.drop(['is_ultra'], axis=1)\n",
    "valid_df_target = valid_df['is_ultra']\n",
    "test_df_features = test_df.drop(['is_ultra'], axis=1)\n",
    "test_df_target = test_df['is_ultra']"
   ]
  },
  {
   "cell_type": "code",
   "execution_count": 43,
   "metadata": {},
   "outputs": [],
   "source": [
    "#features = df.drop(['is_ultra'], axis=1)\n",
    "#target = df['is_ultra']\n"
   ]
  },
  {
   "cell_type": "markdown",
   "metadata": {},
   "source": [
    "#Необходимо создать тестовую выборку и валидационную 20% на 20 %"
   ]
  },
  {
   "cell_type": "code",
   "execution_count": 44,
   "metadata": {},
   "outputs": [],
   "source": [
    "#features_val, features_test, target_val, target_test = train_test_split(features, target, test_size=0.2, random_state=12345)\n",
    "#features_train, features_test, target_train, targe_test = train_test_split(features,  target, test_size=0.8)\n",
    "#features_val, features_train,  target_val, target_train, = train_test_split(features,target, test_size=0.8, random_state=12345)\n",
    "#x_test, x_val, y_test, y_val = train_test_split(x_test, y_test, test_size=0.5)"
   ]
  },
  {
   "cell_type": "code",
   "execution_count": 46,
   "metadata": {},
   "outputs": [],
   "source": [
    "#features_train = train.drop('is_ultra', axis=1)\n",
    "#target_train = train['is_ultra']\n"
   ]
  },
  {
   "cell_type": "code",
   "execution_count": 47,
   "metadata": {},
   "outputs": [],
   "source": [
    "#features_train.info()\n"
   ]
  },
  {
   "cell_type": "code",
   "execution_count": 48,
   "metadata": {},
   "outputs": [],
   "source": [
    "#features_test.info()\n"
   ]
  },
  {
   "cell_type": "code",
   "execution_count": 49,
   "metadata": {},
   "outputs": [],
   "source": [
    "#features_val.info()\n"
   ]
  },
  {
   "cell_type": "markdown",
   "metadata": {},
   "source": [
    "features_train, target_train - обучающая выборка\n",
    "\n",
    "features_val, target_val - валидационная выборка\n",
    "\n",
    "features_test, target_test - тестовая выборка\n"
   ]
  },
  {
   "cell_type": "markdown",
   "metadata": {},
   "source": [
    "<div class=\"alert alert-block alert-danger\">\n",
    "<b>Ошибка:</b> Пожалуйста, напечатай размеры каждой из выборок и убедись, что ты сделал все верно.\n",
    "</div>"
   ]
  },
  {
   "cell_type": "markdown",
   "metadata": {},
   "source": [
    "<div class=\"alert alert-block alert-warning\">\n",
    "<b>Изменения:</b> Проверил размеры воборки, все совпало, всего у нас 3214, в \"тренировочной выборке\" 1928, что соответствует 60 % и  1607,что 40 %. \n",
    "</div>"
   ]
  },
  {
   "cell_type": "markdown",
   "metadata": {},
   "source": [
    "<div class=\"alert alert-block alert-danger\">\n",
    "<b>Ошибка (ревью 2):</b> 1928 + 1607 = 3535, а не 3214. А размер валидационной? Все выборки должны быть независимыми, то есть не иметь общего объекта. Ошибка заключается в коде, который создает валидационную выборку.\n",
    "</div>"
   ]
  },
  {
   "cell_type": "markdown",
   "metadata": {},
   "source": [
    "<div class=\"alert alert-block alert-warning\">\n",
    "<b>Изменения:</b> Артем, спасибо! За исправления, я вчера, когда отправил, завис с этим моментом, только после отправки начал думаь,ч то что-то не так,  и как выяснилось не зря думал...Мои коллеги по группе вообще для выделения использовали дополнительный импорт файлов, я хотел использовать именно все данные, которые дали в теоретическом курсе, проверь пожалуйста, сейчас вроде так.\n",
    "</div>"
   ]
  },
  {
   "cell_type": "markdown",
   "metadata": {},
   "source": [
    "<div class=\"alert alert-block alert-danger\">\n",
    "\n",
    "<b>Ошибка (ревью 3):</b> Не совсем. Давай сделаем так: \n",
    "1. Изначальный датафрейм разделим на features и target.\n",
    "2. Полученные наборы разобьем на train и other в соотношении 60:40.\n",
    "3. other разобьем на valid, test в соотношении 50:50.\n",
    "4. В итоге получится 60:20:20.\n",
    "</div>"
   ]
  },
  {
   "cell_type": "markdown",
   "metadata": {},
   "source": [
    "<div class=\"alert alert-block alert-warning\">\n",
    "<b>Изменения:</b> Артем, спасибо! Надеюсь сейчас верно тебя понял! Я чуть переименовал переменный, т.к. уже начал запутываться...\n",
    "</div>"
   ]
  },
  {
   "cell_type": "markdown",
   "metadata": {},
   "source": [
    "## Исследуйте модели"
   ]
  },
  {
   "cell_type": "markdown",
   "metadata": {},
   "source": [
    "Дерево решений"
   ]
  },
  {
   "cell_type": "code",
   "execution_count": 50,
   "metadata": {
    "scrolled": true
   },
   "outputs": [
    {
     "name": "stdout",
     "output_type": "stream",
     "text": [
      "Глубина дерева: 3     Качество: 0.7853810264385692\n"
     ]
    }
   ],
   "source": [
    "best_accuracy = 0\n",
    "best_depth = 0\n",
    "for depth in range(1,101):\n",
    "    model = DecisionTreeClassifier(max_depth=depth, random_state=12345)\n",
    "    model.fit(train_df_features, train_df_target)\n",
    "    accuracy = model.score(valid_df_features, valid_df_target)\n",
    "    if accuracy > best_accuracy:\n",
    "        # print(\"Глубина дерева:\", depth,\"    Качество:\" ,accuracy)\n",
    "        best_accuracy = accuracy\n",
    "        best_depth = depth\n",
    "print(\"Глубина дерева:\", best_depth, \"    Качество:\", best_accuracy)"
   ]
  },
  {
   "cell_type": "markdown",
   "metadata": {},
   "source": [
    "<div class=\"alert alert-block alert-success\">\n",
    "<b>Успех:</b> ПОдбор параметров реализован правильно.\n",
    "</div>"
   ]
  },
  {
   "cell_type": "markdown",
   "metadata": {
    "scrolled": true
   },
   "source": [
    "Логическая регрессия"
   ]
  },
  {
   "cell_type": "code",
   "execution_count": 51,
   "metadata": {
    "scrolled": true
   },
   "outputs": [
    {
     "name": "stdout",
     "output_type": "stream",
     "text": [
      "Качество: 0.7589424572317263\n"
     ]
    },
    {
     "name": "stderr",
     "output_type": "stream",
     "text": [
      "/opt/conda/lib/python3.7/site-packages/sklearn/linear_model/logistic.py:432: FutureWarning: Default solver will be changed to 'lbfgs' in 0.22. Specify a solver to silence this warning.\n",
      "  FutureWarning)\n"
     ]
    }
   ],
   "source": [
    "model = LogisticRegression()\n",
    "model.fit(train_df_features, train_df_target)\n",
    "accuracy = model.score(valid_df_features, valid_df_target)\n",
    "print(\"Качество:\", accuracy)"
   ]
  },
  {
   "cell_type": "markdown",
   "metadata": {
    "scrolled": true
   },
   "source": [
    "Линейная регрессия"
   ]
  },
  {
   "cell_type": "code",
   "execution_count": 52,
   "metadata": {
    "scrolled": false
   },
   "outputs": [],
   "source": [
    "#model = LinearRegression()  # инициализируйте модель LinearRegression\n",
    "#model.fit(features_train, target_train) # обучите модель на тренировочной выборке\n",
    "#accuracy = model.score(features_val, target_val)\n",
    "#print(\"Качество:\", accuracy)"
   ]
  },
  {
   "cell_type": "markdown",
   "metadata": {
    "scrolled": true
   },
   "source": [
    "Какой-то не правдободобный вывод, думаю линейную регрессию брать нельзя..."
   ]
  },
  {
   "cell_type": "markdown",
   "metadata": {
    "scrolled": true
   },
   "source": [
    "<div class=\"alert alert-block alert-warning\">\n",
    "<b>Изменения:</b>Где можно почитать информацию, в каком случае используется линенйая регрессия.\n",
    "</div>"
   ]
  },
  {
   "cell_type": "markdown",
   "metadata": {},
   "source": [
    "<div class=\"alert alert-block alert-info\">\n",
    "\n",
    "<b>Совет (ревью 2): </b> Линейная регрессия – алгоритм для решения задачи регрессии. В данном случае ее применении не имеет особого смысла, так как у нас задача классификации. Более того, `.score` возвращает не accuracy в данном случае.\n",
    "</div>"
   ]
  },
  {
   "cell_type": "markdown",
   "metadata": {
    "scrolled": true
   },
   "source": [
    "Случайный лес"
   ]
  },
  {
   "cell_type": "code",
   "execution_count": 53,
   "metadata": {
    "scrolled": true
   },
   "outputs": [
    {
     "name": "stdout",
     "output_type": "stream",
     "text": [
      "Глубина дерева: 8     Количество деревьев: 40   Качество: 0.8087091757387247\n"
     ]
    }
   ],
   "source": [
    "best_accuracy = 0\n",
    "best_est = 0\n",
    "best_depth = 0\n",
    "for est in range(10, 60, 10):\n",
    "    for depth in range (1, 10):\n",
    "        model = RandomForestClassifier(max_depth=depth, n_estimators=est, random_state=12345)\n",
    "        model.fit(train_df_features, train_df_target)\n",
    "        accuracy = model.score(valid_df_features, valid_df_target)\n",
    "        if accuracy > best_accuracy:\n",
    "            best_accuracy = accuracy\n",
    "            best_depth = depth\n",
    "            best_est = est\n",
    "print(\"Глубина дерева:\", best_depth, \"    Количество деревьев:\", best_est,  \"  Качество:\", best_accuracy)"
   ]
  },
  {
   "cell_type": "markdown",
   "metadata": {
    "scrolled": true
   },
   "source": [
    "<div class=\"alert alert-block alert-success\">\n",
    "<b>Успех:</b> Радует, что в данном случае ты выбираешь сразу несколько параметров.\n",
    "</div>"
   ]
  },
  {
   "cell_type": "markdown",
   "metadata": {},
   "source": [
    "## Проверьте модель на тестовой выборке"
   ]
  },
  {
   "cell_type": "markdown",
   "metadata": {},
   "source": []
  },
  {
   "cell_type": "code",
   "execution_count": 54,
   "metadata": {},
   "outputs": [
    {
     "name": "stdout",
     "output_type": "stream",
     "text": [
      "Качество: 0.7744945567651633\n"
     ]
    }
   ],
   "source": [
    "model = DecisionTreeClassifier(max_depth=11, random_state=12345)\n",
    "model.fit(train_df_features, train_df_target)\n",
    "accuracy = model.score(test_df_features, test_df_target)\n",
    "print(\"Качество:\", accuracy)"
   ]
  },
  {
   "cell_type": "markdown",
   "metadata": {},
   "source": []
  },
  {
   "cell_type": "code",
   "execution_count": 55,
   "metadata": {},
   "outputs": [
    {
     "name": "stdout",
     "output_type": "stream",
     "text": [
      "Качество: 0.7402799377916018\n"
     ]
    },
    {
     "name": "stderr",
     "output_type": "stream",
     "text": [
      "/opt/conda/lib/python3.7/site-packages/sklearn/linear_model/logistic.py:432: FutureWarning: Default solver will be changed to 'lbfgs' in 0.22. Specify a solver to silence this warning.\n",
      "  FutureWarning)\n"
     ]
    }
   ],
   "source": [
    "model = LogisticRegression()\n",
    "model.fit(train_df_features, train_df_target)\n",
    "accuracy = model.score(test_df_features, test_df_target)\n",
    "print(\"Качество:\", accuracy)"
   ]
  },
  {
   "cell_type": "markdown",
   "metadata": {},
   "source": []
  },
  {
   "cell_type": "code",
   "execution_count": 56,
   "metadata": {},
   "outputs": [
    {
     "name": "stdout",
     "output_type": "stream",
     "text": [
      "Качество: 0.80248833592535\n"
     ]
    }
   ],
   "source": [
    "model = RandomForestClassifier(max_depth=7, n_estimators=40,random_state=12345)\n",
    "model.fit(train_df_features, train_df_target)\n",
    "accuracy = model.score(test_df_features, test_df_target)\n",
    "print(\"Качество:\", accuracy)"
   ]
  },
  {
   "cell_type": "markdown",
   "metadata": {},
   "source": [
    "ВЫВОД:\n",
    "\n",
    "Наилучшее качество (0.816) достигается при использовании дерево решений с гулбиной"
   ]
  },
  {
   "cell_type": "markdown",
   "metadata": {},
   "source": [
    "<div class=\"alert alert-block alert-warning\">\n",
    "<b>Изменения:</b>Получается вывод поменялся на лес решений с качеством 0,802\n",
    "</div>"
   ]
  },
  {
   "cell_type": "markdown",
   "metadata": {},
   "source": [
    "<div class=\"alert alert-block alert-success\">\n",
    "<b>Успех:</b> Тестирование было сделано абслютно верно, молодец!\n",
    "</div>"
   ]
  },
  {
   "cell_type": "markdown",
   "metadata": {},
   "source": [
    "## (бонус) Проверьте модели на адекватность"
   ]
  },
  {
   "cell_type": "code",
   "execution_count": null,
   "metadata": {},
   "outputs": [],
   "source": []
  },
  {
   "cell_type": "code",
   "execution_count": 57,
   "metadata": {},
   "outputs": [
    {
     "name": "stdout",
     "output_type": "stream",
     "text": [
      "Качество наивного прогноза : 0.536547433903577\n",
      "Качество нашего прогноза : 0.80248833592535\n"
     ]
    }
   ],
   "source": [
    "dmb = DummyClassifier(strategy=\"stratified\" ,random_state=12345)\n",
    "dmb.fit(train_df_features, train_df_target)\n",
    "acc = dmb.score(test_df_features, test_df_target)\n",
    "print(\"Качество наивного прогноза :\", acc)\n",
    "print(\"Качество нашего прогноза :\", accuracy)"
   ]
  },
  {
   "cell_type": "code",
   "execution_count": null,
   "metadata": {},
   "outputs": [],
   "source": []
  },
  {
   "cell_type": "code",
   "execution_count": 58,
   "metadata": {},
   "outputs": [
    {
     "name": "stdout",
     "output_type": "stream",
     "text": [
      "Качество наивного прогноза : 0.6842923794712286\n",
      "Качество нашего прогноза : 0.80248833592535\n"
     ]
    }
   ],
   "source": [
    "dmb = DummyClassifier(strategy='most_frequent', random_state=12345)\n",
    "dmb.fit(train_df_features, train_df_target)\n",
    "acc = dmb.score(test_df_features, test_df_target)\n",
    "print(\"Качество наивного прогноза :\", acc)\n",
    "print(\"Качество нашего прогноза :\", accuracy)"
   ]
  },
  {
   "cell_type": "code",
   "execution_count": null,
   "metadata": {},
   "outputs": [],
   "source": []
  },
  {
   "cell_type": "code",
   "execution_count": 59,
   "metadata": {},
   "outputs": [
    {
     "name": "stdout",
     "output_type": "stream",
     "text": [
      "Качество наивного прогноза : 0.4821150855365474\n",
      "Качество нашего прогноза : 0.80248833592535\n"
     ]
    }
   ],
   "source": [
    "dmb = DummyClassifier(strategy='uniform', random_state=12345)\n",
    "dmb.fit(train_df_features, train_df_target)\n",
    "acc = dmb.score(test_df_features, test_df_target)\n",
    "print(\"Качество наивного прогноза :\", acc)\n",
    "print(\"Качество нашего прогноза :\", accuracy)"
   ]
  },
  {
   "cell_type": "markdown",
   "metadata": {},
   "source": [
    "Вывод:\n",
    "    \n",
    "    Наилучшее качество (0.816) достигается при использовании дерево решений с гулбиной 10."
   ]
  },
  {
   "cell_type": "markdown",
   "metadata": {},
   "source": [
    "Вывод:\n",
    "    \n",
    "<div class=\"alert alert-block alert-warning\">\n",
    "<b> Наилучшее качество (0.802) достигается при использовании леса решений с гулбиной 8 и кол-во деревьев 40:</b> ...\n",
    "</div> \n",
    "  \n",
    " ."
   ]
  },
  {
   "cell_type": "markdown",
   "metadata": {},
   "source": [
    "<div class=\"alert alert-block alert-success\">\n",
    "<b>Успех:</b> Отлично, именно это и есть проверка на адеватность.\n",
    "</div>"
   ]
  },
  {
   "cell_type": "markdown",
   "metadata": {},
   "source": [
    "Вывод:\n",
    "    \n",
    "<div class=\"alert alert-block alert-warning\">\n",
    "<b> Я правильно понял, изменение размеров выборки повлияло на обучение нашей модели.</b> ...\n",
    "</div> \n",
    "  \n",
    " ."
   ]
  },
  {
   "cell_type": "markdown",
   "metadata": {},
   "source": [
    "## Чек-лист готовности проекта"
   ]
  },
  {
   "cell_type": "markdown",
   "metadata": {},
   "source": [
    "Поставьте 'x' в выполненных пунктах. Далее нажмите Shift+Enter."
   ]
  },
  {
   "cell_type": "markdown",
   "metadata": {},
   "source": [
    "- [x] Jupyter Notebook открыт\n",
    "- [x] Весь код исполняется без ошибок\n",
    "- [x] Ячейки с кодом расположены в порядке исполнения\n",
    "- [x] Выполнено задание 1: данные загружены и изучены\n",
    "- [x] Выполнено задание 2: данные разбиты на три выборки\n",
    "- [x] Выполнено задание 3: проведено исследование моделей\n",
    "    - [x] Рассмотрено больше одной модели\n",
    "    - [x] Рассмотрено хотя бы 3 значения гипепараметров для какой-нибудь модели\n",
    "    - [x] Написаны выводы по результатам исследования\n",
    "- [x] Выполнено задание 3: Проведено тестирование\n",
    "- [x] Удалось достичь accuracy не меньше 0.75\n"
   ]
  },
  {
   "cell_type": "code",
   "execution_count": null,
   "metadata": {},
   "outputs": [],
   "source": []
  }
 ],
 "metadata": {
  "ExecuteTimeLog": [
   {
    "duration": 1023,
    "start_time": "2021-08-20T08:18:45.860Z"
   },
   {
    "duration": 18,
    "start_time": "2021-08-20T08:18:51.739Z"
   },
   {
    "duration": 8,
    "start_time": "2021-08-20T08:25:18.385Z"
   },
   {
    "duration": 7,
    "start_time": "2021-08-20T08:28:56.528Z"
   },
   {
    "duration": 3,
    "start_time": "2021-08-20T08:32:59.761Z"
   },
   {
    "duration": 6,
    "start_time": "2021-08-20T08:33:09.903Z"
   },
   {
    "duration": 359,
    "start_time": "2021-08-20T08:34:17.794Z"
   },
   {
    "duration": 7,
    "start_time": "2021-08-20T08:34:28.928Z"
   },
   {
    "duration": 279,
    "start_time": "2021-08-20T08:34:55.064Z"
   },
   {
    "duration": 4,
    "start_time": "2021-08-20T08:35:03.929Z"
   },
   {
    "duration": 23,
    "start_time": "2021-08-20T08:36:54.444Z"
   },
   {
    "duration": 19,
    "start_time": "2021-08-20T09:07:53.745Z"
   },
   {
    "duration": 8,
    "start_time": "2021-08-20T09:07:54.952Z"
   },
   {
    "duration": 6,
    "start_time": "2021-08-20T09:07:55.864Z"
   },
   {
    "duration": 4,
    "start_time": "2021-08-20T09:07:56.681Z"
   },
   {
    "duration": 5,
    "start_time": "2021-08-20T09:07:57.112Z"
   },
   {
    "duration": 6,
    "start_time": "2021-08-20T09:07:58.032Z"
   },
   {
    "duration": 4,
    "start_time": "2021-08-20T09:07:58.497Z"
   },
   {
    "duration": 22,
    "start_time": "2021-08-20T09:07:59.439Z"
   },
   {
    "duration": 4,
    "start_time": "2021-08-20T09:10:02.220Z"
   },
   {
    "duration": 292,
    "start_time": "2021-08-20T09:24:15.415Z"
   },
   {
    "duration": 37,
    "start_time": "2021-08-20T09:25:20.610Z"
   },
   {
    "duration": 290,
    "start_time": "2021-08-20T09:25:26.089Z"
   },
   {
    "duration": 4,
    "start_time": "2021-08-20T09:25:44.696Z"
   },
   {
    "duration": 6,
    "start_time": "2021-08-20T09:46:32.501Z"
   },
   {
    "duration": 4,
    "start_time": "2021-08-20T09:46:33.643Z"
   },
   {
    "duration": 261,
    "start_time": "2021-08-20T09:47:16.549Z"
   },
   {
    "duration": 5,
    "start_time": "2021-08-20T09:47:27.037Z"
   },
   {
    "duration": 4,
    "start_time": "2021-08-20T09:48:21.146Z"
   },
   {
    "duration": 304,
    "start_time": "2021-08-20T09:56:33.205Z"
   },
   {
    "duration": 19,
    "start_time": "2021-08-20T09:57:25.062Z"
   },
   {
    "duration": 18,
    "start_time": "2021-08-20T09:57:29.321Z"
   },
   {
    "duration": 21,
    "start_time": "2021-08-20T09:57:29.341Z"
   },
   {
    "duration": 16,
    "start_time": "2021-08-20T09:57:29.365Z"
   },
   {
    "duration": 7,
    "start_time": "2021-08-20T09:57:29.383Z"
   },
   {
    "duration": 14,
    "start_time": "2021-08-20T09:57:29.391Z"
   },
   {
    "duration": 16,
    "start_time": "2021-08-20T09:57:29.407Z"
   },
   {
    "duration": 14,
    "start_time": "2021-08-20T09:57:29.425Z"
   },
   {
    "duration": 29,
    "start_time": "2021-08-20T09:57:29.442Z"
   },
   {
    "duration": 5,
    "start_time": "2021-08-20T09:57:29.472Z"
   },
   {
    "duration": 17,
    "start_time": "2021-08-20T09:57:29.478Z"
   },
   {
    "duration": 11,
    "start_time": "2021-08-20T09:57:29.497Z"
   },
   {
    "duration": 17,
    "start_time": "2021-08-20T09:57:29.510Z"
   },
   {
    "duration": 109,
    "start_time": "2021-08-20T09:57:29.529Z"
   },
   {
    "duration": -36,
    "start_time": "2021-08-20T09:57:29.676Z"
   },
   {
    "duration": 58,
    "start_time": "2021-08-20T09:58:30.222Z"
   },
   {
    "duration": 104,
    "start_time": "2021-08-20T09:58:50.369Z"
   },
   {
    "duration": 54,
    "start_time": "2021-08-20T09:58:59.720Z"
   },
   {
    "duration": 57,
    "start_time": "2021-08-20T09:59:09.850Z"
   },
   {
    "duration": 46,
    "start_time": "2021-08-20T10:01:07.018Z"
   },
   {
    "duration": 90,
    "start_time": "2021-08-20T10:01:15.068Z"
   },
   {
    "duration": 50,
    "start_time": "2021-08-20T10:01:20.690Z"
   },
   {
    "duration": 40,
    "start_time": "2021-08-20T10:01:26.410Z"
   },
   {
    "duration": 56,
    "start_time": "2021-08-20T10:01:31.421Z"
   },
   {
    "duration": 397,
    "start_time": "2021-08-20T10:02:30.082Z"
   },
   {
    "duration": 55,
    "start_time": "2021-08-20T10:02:44.345Z"
   },
   {
    "duration": 271,
    "start_time": "2021-08-20T10:08:52.200Z"
   },
   {
    "duration": 20,
    "start_time": "2021-08-20T10:09:27.930Z"
   },
   {
    "duration": 19,
    "start_time": "2021-08-20T10:09:32.709Z"
   },
   {
    "duration": 12,
    "start_time": "2021-08-20T10:09:32.730Z"
   },
   {
    "duration": 9,
    "start_time": "2021-08-20T10:09:32.743Z"
   },
   {
    "duration": 8,
    "start_time": "2021-08-20T10:09:32.754Z"
   },
   {
    "duration": 18,
    "start_time": "2021-08-20T10:09:32.764Z"
   },
   {
    "duration": 7,
    "start_time": "2021-08-20T10:09:32.783Z"
   },
   {
    "duration": 6,
    "start_time": "2021-08-20T10:09:32.792Z"
   },
   {
    "duration": 27,
    "start_time": "2021-08-20T10:09:32.800Z"
   },
   {
    "duration": 4,
    "start_time": "2021-08-20T10:09:32.829Z"
   },
   {
    "duration": 8,
    "start_time": "2021-08-20T10:09:32.835Z"
   },
   {
    "duration": 11,
    "start_time": "2021-08-20T10:09:32.844Z"
   },
   {
    "duration": 5,
    "start_time": "2021-08-20T10:09:32.857Z"
   },
   {
    "duration": 55,
    "start_time": "2021-08-20T10:09:32.864Z"
   },
   {
    "duration": 26,
    "start_time": "2021-08-20T10:09:32.920Z"
   },
   {
    "duration": 8,
    "start_time": "2021-08-20T10:13:00.816Z"
   },
   {
    "duration": 260,
    "start_time": "2021-08-20T10:28:04.920Z"
   },
   {
    "duration": 277,
    "start_time": "2021-08-20T10:28:34.705Z"
   },
   {
    "duration": 299,
    "start_time": "2021-08-20T10:28:56.505Z"
   },
   {
    "duration": 274,
    "start_time": "2021-08-20T10:29:28.774Z"
   },
   {
    "duration": 275,
    "start_time": "2021-08-20T10:29:58.922Z"
   },
   {
    "duration": 4107,
    "start_time": "2021-08-20T10:30:24.290Z"
   },
   {
    "duration": 3855,
    "start_time": "2021-08-20T10:30:36.465Z"
   },
   {
    "duration": 4006,
    "start_time": "2021-08-20T10:30:51.963Z"
   },
   {
    "duration": 90,
    "start_time": "2021-08-20T10:35:55.639Z"
   },
   {
    "duration": 271,
    "start_time": "2021-08-20T10:36:29.593Z"
   },
   {
    "duration": 20,
    "start_time": "2021-08-20T10:37:03.075Z"
   },
   {
    "duration": 290,
    "start_time": "2021-08-20T10:37:10.428Z"
   },
   {
    "duration": 3203,
    "start_time": "2021-08-20T10:37:43.776Z"
   },
   {
    "duration": 2822,
    "start_time": "2021-08-20T10:40:53.691Z"
   },
   {
    "duration": 4248,
    "start_time": "2021-08-20T10:48:20.494Z"
   },
   {
    "duration": 3247,
    "start_time": "2021-08-20T10:48:47.643Z"
   },
   {
    "duration": 12,
    "start_time": "2021-08-20T11:53:48.096Z"
   },
   {
    "duration": 12,
    "start_time": "2021-08-20T11:53:59.759Z"
   },
   {
    "duration": 14,
    "start_time": "2021-08-20T11:55:31.736Z"
   },
   {
    "duration": 2090,
    "start_time": "2021-08-20T11:57:12.354Z"
   },
   {
    "duration": 3548,
    "start_time": "2021-08-20T11:57:25.683Z"
   },
   {
    "duration": 2476,
    "start_time": "2021-08-20T11:57:34.545Z"
   },
   {
    "duration": 103,
    "start_time": "2021-08-20T11:58:01.908Z"
   },
   {
    "duration": 276,
    "start_time": "2021-08-20T12:02:25.456Z"
   },
   {
    "duration": 21,
    "start_time": "2021-08-20T12:02:51.561Z"
   },
   {
    "duration": 7,
    "start_time": "2021-08-20T12:02:57.137Z"
   },
   {
    "duration": 6,
    "start_time": "2021-08-20T12:03:18.105Z"
   },
   {
    "duration": 6,
    "start_time": "2021-08-20T12:03:35.473Z"
   },
   {
    "duration": 3362,
    "start_time": "2021-08-20T12:34:42.389Z"
   },
   {
    "duration": 4197,
    "start_time": "2021-08-20T12:34:56.894Z"
   },
   {
    "duration": 3160,
    "start_time": "2021-08-20T12:35:15.894Z"
   },
   {
    "duration": 2328,
    "start_time": "2021-08-20T12:36:19.624Z"
   },
   {
    "duration": 1534,
    "start_time": "2021-08-20T12:36:28.367Z"
   },
   {
    "duration": 20,
    "start_time": "2021-08-20T12:36:38.180Z"
   },
   {
    "duration": 32,
    "start_time": "2021-08-20T12:36:38.202Z"
   },
   {
    "duration": 30,
    "start_time": "2021-08-20T12:36:38.237Z"
   },
   {
    "duration": 16,
    "start_time": "2021-08-20T12:36:38.270Z"
   },
   {
    "duration": 9,
    "start_time": "2021-08-20T12:36:38.288Z"
   },
   {
    "duration": 13,
    "start_time": "2021-08-20T12:36:38.298Z"
   },
   {
    "duration": 18,
    "start_time": "2021-08-20T12:36:38.312Z"
   },
   {
    "duration": 37,
    "start_time": "2021-08-20T12:36:38.333Z"
   },
   {
    "duration": 6,
    "start_time": "2021-08-20T12:36:38.372Z"
   },
   {
    "duration": 24,
    "start_time": "2021-08-20T12:36:38.380Z"
   },
   {
    "duration": 24,
    "start_time": "2021-08-20T12:36:38.406Z"
   },
   {
    "duration": 26,
    "start_time": "2021-08-20T12:36:38.432Z"
   },
   {
    "duration": 69,
    "start_time": "2021-08-20T12:36:38.460Z"
   },
   {
    "duration": 15,
    "start_time": "2021-08-20T12:36:38.531Z"
   },
   {
    "duration": 12,
    "start_time": "2021-08-20T12:36:38.548Z"
   },
   {
    "duration": 1492,
    "start_time": "2021-08-20T12:36:38.562Z"
   },
   {
    "duration": 12,
    "start_time": "2021-08-20T12:36:40.056Z"
   },
   {
    "duration": 19,
    "start_time": "2021-08-20T12:36:40.070Z"
   },
   {
    "duration": 128,
    "start_time": "2021-08-20T12:36:40.091Z"
   },
   {
    "duration": 7,
    "start_time": "2021-08-20T12:36:40.221Z"
   },
   {
    "duration": 17,
    "start_time": "2021-08-20T12:36:40.229Z"
   },
   {
    "duration": 16,
    "start_time": "2021-08-20T12:36:40.248Z"
   },
   {
    "duration": 12,
    "start_time": "2021-08-20T12:47:16.534Z"
   },
   {
    "duration": 12,
    "start_time": "2021-08-20T12:47:20.650Z"
   },
   {
    "duration": 14,
    "start_time": "2021-08-20T12:48:28.805Z"
   },
   {
    "duration": 80,
    "start_time": "2021-08-20T12:57:39.318Z"
   },
   {
    "duration": 368,
    "start_time": "2021-08-21T16:55:00.141Z"
   },
   {
    "duration": 1367,
    "start_time": "2021-08-21T16:55:05.852Z"
   },
   {
    "duration": 21,
    "start_time": "2021-08-21T16:55:07.222Z"
   },
   {
    "duration": 15,
    "start_time": "2021-08-21T16:55:07.246Z"
   },
   {
    "duration": 5,
    "start_time": "2021-08-21T16:55:07.264Z"
   },
   {
    "duration": 16,
    "start_time": "2021-08-21T16:55:07.271Z"
   },
   {
    "duration": 13,
    "start_time": "2021-08-21T16:55:07.290Z"
   },
   {
    "duration": 6,
    "start_time": "2021-08-21T16:55:07.306Z"
   },
   {
    "duration": 77,
    "start_time": "2021-08-21T16:55:07.316Z"
   },
   {
    "duration": 7,
    "start_time": "2021-08-21T16:55:07.396Z"
   },
   {
    "duration": 8,
    "start_time": "2021-08-21T16:55:07.406Z"
   },
   {
    "duration": 11,
    "start_time": "2021-08-21T16:55:07.416Z"
   },
   {
    "duration": 30,
    "start_time": "2021-08-21T16:55:07.432Z"
   },
   {
    "duration": 20,
    "start_time": "2021-08-21T16:55:07.465Z"
   },
   {
    "duration": 98,
    "start_time": "2021-08-21T16:55:07.488Z"
   },
   {
    "duration": 26,
    "start_time": "2021-08-21T16:55:07.588Z"
   },
   {
    "duration": 10,
    "start_time": "2021-08-21T16:55:07.617Z"
   },
   {
    "duration": 2164,
    "start_time": "2021-08-21T16:55:07.629Z"
   },
   {
    "duration": 21,
    "start_time": "2021-08-21T16:55:09.796Z"
   },
   {
    "duration": 60,
    "start_time": "2021-08-21T16:55:09.820Z"
   },
   {
    "duration": 175,
    "start_time": "2021-08-21T16:55:09.883Z"
   },
   {
    "duration": 8,
    "start_time": "2021-08-21T16:55:10.062Z"
   },
   {
    "duration": 16,
    "start_time": "2021-08-21T16:55:10.073Z"
   },
   {
    "duration": 19,
    "start_time": "2021-08-21T16:55:10.093Z"
   },
   {
    "duration": 401,
    "start_time": "2021-08-21T16:56:05.826Z"
   },
   {
    "duration": 9,
    "start_time": "2021-08-21T16:56:35.257Z"
   },
   {
    "duration": 8,
    "start_time": "2021-08-21T16:57:19.409Z"
   },
   {
    "duration": 9,
    "start_time": "2021-08-21T16:57:24.322Z"
   },
   {
    "duration": 313,
    "start_time": "2021-08-21T16:58:10.867Z"
   },
   {
    "duration": 282,
    "start_time": "2021-08-21T16:58:17.251Z"
   },
   {
    "duration": 22,
    "start_time": "2021-08-21T16:58:20.735Z"
   },
   {
    "duration": 14,
    "start_time": "2021-08-21T16:58:20.760Z"
   },
   {
    "duration": 11,
    "start_time": "2021-08-21T16:58:20.777Z"
   },
   {
    "duration": 6,
    "start_time": "2021-08-21T16:58:20.790Z"
   },
   {
    "duration": 21,
    "start_time": "2021-08-21T16:58:20.798Z"
   },
   {
    "duration": 46,
    "start_time": "2021-08-21T16:58:20.822Z"
   },
   {
    "duration": 9,
    "start_time": "2021-08-21T16:58:20.871Z"
   },
   {
    "duration": 51,
    "start_time": "2021-08-21T16:58:20.886Z"
   },
   {
    "duration": 9,
    "start_time": "2021-08-21T16:58:20.963Z"
   },
   {
    "duration": 11,
    "start_time": "2021-08-21T16:58:20.975Z"
   },
   {
    "duration": 10,
    "start_time": "2021-08-21T16:58:20.988Z"
   },
   {
    "duration": 10,
    "start_time": "2021-08-21T16:58:21.001Z"
   },
   {
    "duration": 324,
    "start_time": "2021-08-21T16:58:21.013Z"
   },
   {
    "duration": -134,
    "start_time": "2021-08-21T16:58:21.474Z"
   },
   {
    "duration": -147,
    "start_time": "2021-08-21T16:58:21.488Z"
   },
   {
    "duration": -149,
    "start_time": "2021-08-21T16:58:21.491Z"
   },
   {
    "duration": -150,
    "start_time": "2021-08-21T16:58:21.493Z"
   },
   {
    "duration": -151,
    "start_time": "2021-08-21T16:58:21.496Z"
   },
   {
    "duration": -158,
    "start_time": "2021-08-21T16:58:21.504Z"
   },
   {
    "duration": -161,
    "start_time": "2021-08-21T16:58:21.508Z"
   },
   {
    "duration": -162,
    "start_time": "2021-08-21T16:58:21.510Z"
   },
   {
    "duration": -163,
    "start_time": "2021-08-21T16:58:21.513Z"
   },
   {
    "duration": -164,
    "start_time": "2021-08-21T16:58:21.516Z"
   },
   {
    "duration": -164,
    "start_time": "2021-08-21T16:58:21.519Z"
   },
   {
    "duration": -164,
    "start_time": "2021-08-21T16:58:21.521Z"
   },
   {
    "duration": 9,
    "start_time": "2021-08-21T16:58:36.443Z"
   },
   {
    "duration": 9,
    "start_time": "2021-08-21T17:05:11.801Z"
   },
   {
    "duration": 9,
    "start_time": "2021-08-21T17:05:13.937Z"
   },
   {
    "duration": 8,
    "start_time": "2021-08-21T17:06:33.700Z"
   },
   {
    "duration": 8,
    "start_time": "2021-08-21T17:08:46.149Z"
   },
   {
    "duration": 27,
    "start_time": "2021-08-21T17:08:50.560Z"
   },
   {
    "duration": 14,
    "start_time": "2021-08-21T17:08:50.590Z"
   },
   {
    "duration": 16,
    "start_time": "2021-08-21T17:08:50.608Z"
   },
   {
    "duration": 34,
    "start_time": "2021-08-21T17:08:50.628Z"
   },
   {
    "duration": 9,
    "start_time": "2021-08-21T17:08:50.666Z"
   },
   {
    "duration": 12,
    "start_time": "2021-08-21T17:08:50.678Z"
   },
   {
    "duration": 7,
    "start_time": "2021-08-21T17:08:50.693Z"
   },
   {
    "duration": 86,
    "start_time": "2021-08-21T17:08:50.706Z"
   },
   {
    "duration": 7,
    "start_time": "2021-08-21T17:08:50.797Z"
   },
   {
    "duration": 21,
    "start_time": "2021-08-21T17:08:50.807Z"
   },
   {
    "duration": 31,
    "start_time": "2021-08-21T17:08:50.831Z"
   },
   {
    "duration": 5,
    "start_time": "2021-08-21T17:08:50.864Z"
   },
   {
    "duration": 11,
    "start_time": "2021-08-21T17:08:50.872Z"
   },
   {
    "duration": 9,
    "start_time": "2021-08-21T17:08:50.886Z"
   },
   {
    "duration": 10,
    "start_time": "2021-08-21T17:08:50.897Z"
   },
   {
    "duration": 114,
    "start_time": "2021-08-21T17:08:50.909Z"
   },
   {
    "duration": 37,
    "start_time": "2021-08-21T17:08:51.026Z"
   },
   {
    "duration": 10,
    "start_time": "2021-08-21T17:08:51.066Z"
   },
   {
    "duration": 2170,
    "start_time": "2021-08-21T17:08:51.079Z"
   },
   {
    "duration": 22,
    "start_time": "2021-08-21T17:08:53.251Z"
   },
   {
    "duration": 26,
    "start_time": "2021-08-21T17:08:53.276Z"
   },
   {
    "duration": 196,
    "start_time": "2021-08-21T17:08:53.304Z"
   },
   {
    "duration": 9,
    "start_time": "2021-08-21T17:08:53.504Z"
   },
   {
    "duration": 8,
    "start_time": "2021-08-21T17:08:53.515Z"
   },
   {
    "duration": 37,
    "start_time": "2021-08-21T17:08:53.525Z"
   },
   {
    "duration": 7,
    "start_time": "2021-08-21T17:10:01.983Z"
   },
   {
    "duration": 6,
    "start_time": "2021-08-21T17:10:10.341Z"
   },
   {
    "duration": 7,
    "start_time": "2021-08-21T17:10:15.621Z"
   },
   {
    "duration": 1421,
    "start_time": "2021-08-22T08:15:29.980Z"
   },
   {
    "duration": 21,
    "start_time": "2021-08-22T08:15:31.404Z"
   },
   {
    "duration": 19,
    "start_time": "2021-08-22T08:15:31.428Z"
   },
   {
    "duration": 25,
    "start_time": "2021-08-22T08:15:31.450Z"
   },
   {
    "duration": 23,
    "start_time": "2021-08-22T08:15:31.477Z"
   },
   {
    "duration": 17,
    "start_time": "2021-08-22T08:15:31.503Z"
   },
   {
    "duration": 11,
    "start_time": "2021-08-22T08:15:31.523Z"
   },
   {
    "duration": 36,
    "start_time": "2021-08-22T08:15:31.538Z"
   },
   {
    "duration": 6,
    "start_time": "2021-08-22T08:15:31.577Z"
   },
   {
    "duration": 8,
    "start_time": "2021-08-22T08:15:31.585Z"
   },
   {
    "duration": 19,
    "start_time": "2021-08-22T08:15:31.595Z"
   },
   {
    "duration": 12,
    "start_time": "2021-08-22T08:15:31.617Z"
   },
   {
    "duration": 24,
    "start_time": "2021-08-22T08:15:31.632Z"
   },
   {
    "duration": 8,
    "start_time": "2021-08-22T08:15:31.658Z"
   },
   {
    "duration": 90,
    "start_time": "2021-08-22T08:15:31.668Z"
   },
   {
    "duration": 33,
    "start_time": "2021-08-22T08:15:31.761Z"
   },
   {
    "duration": 104,
    "start_time": "2021-08-22T08:15:31.858Z"
   },
   {
    "duration": 2343,
    "start_time": "2021-08-22T08:15:31.965Z"
   },
   {
    "duration": 17,
    "start_time": "2021-08-22T08:15:34.310Z"
   },
   {
    "duration": 41,
    "start_time": "2021-08-22T08:15:34.329Z"
   },
   {
    "duration": 164,
    "start_time": "2021-08-22T08:15:34.372Z"
   },
   {
    "duration": 18,
    "start_time": "2021-08-22T08:15:34.538Z"
   },
   {
    "duration": 7,
    "start_time": "2021-08-22T08:15:34.560Z"
   },
   {
    "duration": 11,
    "start_time": "2021-08-22T08:15:34.569Z"
   },
   {
    "duration": 8,
    "start_time": "2021-08-22T08:18:04.369Z"
   },
   {
    "duration": 5,
    "start_time": "2021-08-22T08:18:05.708Z"
   },
   {
    "duration": 8,
    "start_time": "2021-08-22T08:18:06.400Z"
   },
   {
    "duration": 9,
    "start_time": "2021-08-22T08:18:09.824Z"
   },
   {
    "duration": 496,
    "start_time": "2021-08-22T08:18:53.453Z"
   },
   {
    "duration": 27,
    "start_time": "2021-08-22T08:18:59.124Z"
   },
   {
    "duration": 14,
    "start_time": "2021-08-22T08:18:59.154Z"
   },
   {
    "duration": 16,
    "start_time": "2021-08-22T08:18:59.171Z"
   },
   {
    "duration": 10,
    "start_time": "2021-08-22T08:18:59.189Z"
   },
   {
    "duration": 13,
    "start_time": "2021-08-22T08:18:59.202Z"
   },
   {
    "duration": 40,
    "start_time": "2021-08-22T08:18:59.217Z"
   },
   {
    "duration": 5,
    "start_time": "2021-08-22T08:18:59.259Z"
   },
   {
    "duration": 39,
    "start_time": "2021-08-22T08:18:59.269Z"
   },
   {
    "duration": 7,
    "start_time": "2021-08-22T08:18:59.311Z"
   },
   {
    "duration": 17,
    "start_time": "2021-08-22T08:18:59.320Z"
   },
   {
    "duration": 12,
    "start_time": "2021-08-22T08:18:59.356Z"
   },
   {
    "duration": 10,
    "start_time": "2021-08-22T08:18:59.370Z"
   },
   {
    "duration": 14,
    "start_time": "2021-08-22T08:18:59.382Z"
   },
   {
    "duration": 19,
    "start_time": "2021-08-22T08:18:59.398Z"
   },
   {
    "duration": 385,
    "start_time": "2021-08-22T08:18:59.419Z"
   },
   {
    "duration": -803,
    "start_time": "2021-08-22T08:19:00.610Z"
   },
   {
    "duration": -813,
    "start_time": "2021-08-22T08:19:00.621Z"
   },
   {
    "duration": -818,
    "start_time": "2021-08-22T08:19:00.627Z"
   },
   {
    "duration": -824,
    "start_time": "2021-08-22T08:19:00.634Z"
   },
   {
    "duration": -828,
    "start_time": "2021-08-22T08:19:00.640Z"
   },
   {
    "duration": -833,
    "start_time": "2021-08-22T08:19:00.646Z"
   },
   {
    "duration": -839,
    "start_time": "2021-08-22T08:19:00.653Z"
   },
   {
    "duration": -844,
    "start_time": "2021-08-22T08:19:00.659Z"
   },
   {
    "duration": -849,
    "start_time": "2021-08-22T08:19:00.666Z"
   },
   {
    "duration": -853,
    "start_time": "2021-08-22T08:19:00.671Z"
   },
   {
    "duration": 359,
    "start_time": "2021-08-22T08:19:09.775Z"
   },
   {
    "duration": 5,
    "start_time": "2021-08-22T08:19:35.607Z"
   },
   {
    "duration": 9,
    "start_time": "2021-08-22T08:19:49.551Z"
   },
   {
    "duration": 27,
    "start_time": "2021-08-22T08:20:06.325Z"
   },
   {
    "duration": 24,
    "start_time": "2021-08-22T08:20:06.355Z"
   },
   {
    "duration": 17,
    "start_time": "2021-08-22T08:20:06.383Z"
   },
   {
    "duration": 11,
    "start_time": "2021-08-22T08:20:06.404Z"
   },
   {
    "duration": 12,
    "start_time": "2021-08-22T08:20:06.418Z"
   },
   {
    "duration": 32,
    "start_time": "2021-08-22T08:20:06.433Z"
   },
   {
    "duration": 6,
    "start_time": "2021-08-22T08:20:06.468Z"
   },
   {
    "duration": 38,
    "start_time": "2021-08-22T08:20:06.478Z"
   },
   {
    "duration": 41,
    "start_time": "2021-08-22T08:20:06.520Z"
   },
   {
    "duration": 8,
    "start_time": "2021-08-22T08:20:06.564Z"
   },
   {
    "duration": 15,
    "start_time": "2021-08-22T08:20:06.574Z"
   },
   {
    "duration": 16,
    "start_time": "2021-08-22T08:20:06.592Z"
   },
   {
    "duration": 13,
    "start_time": "2021-08-22T08:20:06.610Z"
   },
   {
    "duration": 37,
    "start_time": "2021-08-22T08:20:06.626Z"
   },
   {
    "duration": 13,
    "start_time": "2021-08-22T08:20:06.665Z"
   },
   {
    "duration": 102,
    "start_time": "2021-08-22T08:20:06.681Z"
   },
   {
    "duration": 169,
    "start_time": "2021-08-22T08:20:06.786Z"
   },
   {
    "duration": 13,
    "start_time": "2021-08-22T08:20:06.958Z"
   },
   {
    "duration": 2388,
    "start_time": "2021-08-22T08:20:06.974Z"
   },
   {
    "duration": 18,
    "start_time": "2021-08-22T08:20:09.364Z"
   },
   {
    "duration": 25,
    "start_time": "2021-08-22T08:20:09.384Z"
   },
   {
    "duration": 188,
    "start_time": "2021-08-22T08:20:09.412Z"
   },
   {
    "duration": 8,
    "start_time": "2021-08-22T08:20:09.604Z"
   },
   {
    "duration": 8,
    "start_time": "2021-08-22T08:20:09.615Z"
   },
   {
    "duration": 38,
    "start_time": "2021-08-22T08:20:09.626Z"
   },
   {
    "duration": 8,
    "start_time": "2021-08-22T08:21:23.561Z"
   },
   {
    "duration": 6,
    "start_time": "2021-08-22T08:21:25.770Z"
   },
   {
    "duration": 9,
    "start_time": "2021-08-22T08:21:26.552Z"
   },
   {
    "duration": 8,
    "start_time": "2021-08-22T08:21:34.696Z"
   },
   {
    "duration": 9,
    "start_time": "2021-08-22T08:21:36.921Z"
   },
   {
    "duration": 10,
    "start_time": "2021-08-22T08:21:38.897Z"
   },
   {
    "duration": 9,
    "start_time": "2021-08-22T08:21:59.562Z"
   },
   {
    "duration": 5,
    "start_time": "2021-08-22T08:22:01.305Z"
   },
   {
    "duration": 9,
    "start_time": "2021-08-22T08:22:02.010Z"
   },
   {
    "duration": 9,
    "start_time": "2021-08-22T08:22:05.891Z"
   },
   {
    "duration": 9,
    "start_time": "2021-08-22T08:22:06.882Z"
   },
   {
    "duration": 395,
    "start_time": "2021-08-22T08:22:21.794Z"
   },
   {
    "duration": 25,
    "start_time": "2021-08-22T08:22:31.743Z"
   },
   {
    "duration": 16,
    "start_time": "2021-08-22T08:22:31.770Z"
   },
   {
    "duration": 18,
    "start_time": "2021-08-22T08:22:31.789Z"
   },
   {
    "duration": 10,
    "start_time": "2021-08-22T08:22:31.810Z"
   },
   {
    "duration": 35,
    "start_time": "2021-08-22T08:22:31.822Z"
   },
   {
    "duration": 9,
    "start_time": "2021-08-22T08:22:31.859Z"
   },
   {
    "duration": 7,
    "start_time": "2021-08-22T08:22:31.870Z"
   },
   {
    "duration": 37,
    "start_time": "2021-08-22T08:22:31.881Z"
   },
   {
    "duration": 38,
    "start_time": "2021-08-22T08:22:31.920Z"
   },
   {
    "duration": 10,
    "start_time": "2021-08-22T08:22:31.960Z"
   },
   {
    "duration": 15,
    "start_time": "2021-08-22T08:22:31.972Z"
   },
   {
    "duration": 11,
    "start_time": "2021-08-22T08:22:31.989Z"
   },
   {
    "duration": 25,
    "start_time": "2021-08-22T08:22:32.003Z"
   },
   {
    "duration": 18,
    "start_time": "2021-08-22T08:22:32.030Z"
   },
   {
    "duration": 370,
    "start_time": "2021-08-22T08:22:32.051Z"
   },
   {
    "duration": -345,
    "start_time": "2021-08-22T08:22:32.769Z"
   },
   {
    "duration": -347,
    "start_time": "2021-08-22T08:22:32.772Z"
   },
   {
    "duration": -349,
    "start_time": "2021-08-22T08:22:32.776Z"
   },
   {
    "duration": -350,
    "start_time": "2021-08-22T08:22:32.778Z"
   },
   {
    "duration": -351,
    "start_time": "2021-08-22T08:22:32.781Z"
   },
   {
    "duration": -352,
    "start_time": "2021-08-22T08:22:32.783Z"
   },
   {
    "duration": -354,
    "start_time": "2021-08-22T08:22:32.787Z"
   },
   {
    "duration": -356,
    "start_time": "2021-08-22T08:22:32.790Z"
   },
   {
    "duration": -357,
    "start_time": "2021-08-22T08:22:32.793Z"
   },
   {
    "duration": -357,
    "start_time": "2021-08-22T08:22:32.795Z"
   },
   {
    "duration": 8,
    "start_time": "2021-08-22T08:22:58.586Z"
   },
   {
    "duration": 3,
    "start_time": "2021-08-22T08:26:52.479Z"
   },
   {
    "duration": 8,
    "start_time": "2021-08-22T08:26:53.453Z"
   },
   {
    "duration": 7,
    "start_time": "2021-08-22T08:26:54.526Z"
   },
   {
    "duration": 8,
    "start_time": "2021-08-22T08:26:55.118Z"
   },
   {
    "duration": 8,
    "start_time": "2021-08-22T08:26:57.743Z"
   },
   {
    "duration": 8,
    "start_time": "2021-08-22T08:26:58.847Z"
   },
   {
    "duration": 24,
    "start_time": "2021-08-22T08:27:04.164Z"
   },
   {
    "duration": 17,
    "start_time": "2021-08-22T08:27:04.192Z"
   },
   {
    "duration": 10,
    "start_time": "2021-08-22T08:27:04.212Z"
   },
   {
    "duration": 9,
    "start_time": "2021-08-22T08:27:04.224Z"
   },
   {
    "duration": 25,
    "start_time": "2021-08-22T08:27:04.236Z"
   },
   {
    "duration": 16,
    "start_time": "2021-08-22T08:27:04.264Z"
   },
   {
    "duration": 6,
    "start_time": "2021-08-22T08:27:04.282Z"
   },
   {
    "duration": 67,
    "start_time": "2021-08-22T08:27:04.290Z"
   },
   {
    "duration": 7,
    "start_time": "2021-08-22T08:27:04.361Z"
   },
   {
    "duration": 10,
    "start_time": "2021-08-22T08:27:04.371Z"
   },
   {
    "duration": 10,
    "start_time": "2021-08-22T08:27:04.383Z"
   },
   {
    "duration": 14,
    "start_time": "2021-08-22T08:27:04.395Z"
   },
   {
    "duration": 21,
    "start_time": "2021-08-22T08:27:04.412Z"
   },
   {
    "duration": 24,
    "start_time": "2021-08-22T08:27:04.436Z"
   },
   {
    "duration": 14,
    "start_time": "2021-08-22T08:27:04.462Z"
   },
   {
    "duration": 12,
    "start_time": "2021-08-22T08:27:04.479Z"
   },
   {
    "duration": 97,
    "start_time": "2021-08-22T08:27:04.494Z"
   },
   {
    "duration": 71,
    "start_time": "2021-08-22T08:27:04.594Z"
   },
   {
    "duration": 96,
    "start_time": "2021-08-22T08:27:04.668Z"
   },
   {
    "duration": 2368,
    "start_time": "2021-08-22T08:27:04.768Z"
   },
   {
    "duration": 26,
    "start_time": "2021-08-22T08:27:07.139Z"
   },
   {
    "duration": 25,
    "start_time": "2021-08-22T08:27:07.168Z"
   },
   {
    "duration": 188,
    "start_time": "2021-08-22T08:27:07.196Z"
   },
   {
    "duration": 8,
    "start_time": "2021-08-22T08:27:07.387Z"
   },
   {
    "duration": 7,
    "start_time": "2021-08-22T08:27:07.397Z"
   },
   {
    "duration": 7,
    "start_time": "2021-08-22T08:27:07.406Z"
   },
   {
    "duration": 9,
    "start_time": "2021-08-22T08:27:13.270Z"
   },
   {
    "duration": 6,
    "start_time": "2021-08-22T08:27:35.880Z"
   },
   {
    "duration": 6,
    "start_time": "2021-08-22T08:27:36.807Z"
   },
   {
    "duration": 9,
    "start_time": "2021-08-22T08:27:37.663Z"
   },
   {
    "duration": 8,
    "start_time": "2021-08-22T08:27:38.664Z"
   },
   {
    "duration": 9,
    "start_time": "2021-08-22T08:27:41.751Z"
   },
   {
    "duration": 7,
    "start_time": "2021-08-22T08:28:26.542Z"
   },
   {
    "duration": 6,
    "start_time": "2021-08-22T08:28:27.528Z"
   },
   {
    "duration": 9,
    "start_time": "2021-08-22T08:28:28.296Z"
   },
   {
    "duration": 9,
    "start_time": "2021-08-22T08:28:29.137Z"
   },
   {
    "duration": 8,
    "start_time": "2021-08-22T08:28:31.687Z"
   },
   {
    "duration": 7,
    "start_time": "2021-08-22T08:28:52.344Z"
   },
   {
    "duration": 5,
    "start_time": "2021-08-22T08:28:53.160Z"
   },
   {
    "duration": 9,
    "start_time": "2021-08-22T08:28:53.695Z"
   },
   {
    "duration": 9,
    "start_time": "2021-08-22T08:28:54.631Z"
   },
   {
    "duration": 9,
    "start_time": "2021-08-22T08:28:57.751Z"
   },
   {
    "duration": 369,
    "start_time": "2021-08-22T08:29:29.459Z"
   },
   {
    "duration": 8,
    "start_time": "2021-08-22T08:29:59.873Z"
   },
   {
    "duration": 5,
    "start_time": "2021-08-22T08:30:01.017Z"
   },
   {
    "duration": 8,
    "start_time": "2021-08-22T08:30:01.680Z"
   },
   {
    "duration": 8,
    "start_time": "2021-08-22T08:30:04.001Z"
   },
   {
    "duration": 8,
    "start_time": "2021-08-22T08:30:06.610Z"
   },
   {
    "duration": 9,
    "start_time": "2021-08-22T08:30:15.922Z"
   },
   {
    "duration": 6,
    "start_time": "2021-08-22T08:30:16.858Z"
   },
   {
    "duration": 8,
    "start_time": "2021-08-22T08:30:17.634Z"
   },
   {
    "duration": 14,
    "start_time": "2021-08-22T08:30:20.525Z"
   },
   {
    "duration": 8,
    "start_time": "2021-08-22T08:30:22.554Z"
   },
   {
    "duration": 7,
    "start_time": "2021-08-22T08:30:28.084Z"
   },
   {
    "duration": 5,
    "start_time": "2021-08-22T08:30:29.650Z"
   },
   {
    "duration": 8,
    "start_time": "2021-08-22T08:30:30.873Z"
   },
   {
    "duration": 8,
    "start_time": "2021-08-22T08:30:31.809Z"
   },
   {
    "duration": 9,
    "start_time": "2021-08-22T08:30:34.098Z"
   },
   {
    "duration": 8,
    "start_time": "2021-08-22T08:31:21.467Z"
   },
   {
    "duration": 6,
    "start_time": "2021-08-22T08:31:23.267Z"
   },
   {
    "duration": 9,
    "start_time": "2021-08-22T08:31:24.299Z"
   },
   {
    "duration": 8,
    "start_time": "2021-08-22T08:31:25.155Z"
   },
   {
    "duration": 9,
    "start_time": "2021-08-22T08:31:29.898Z"
   },
   {
    "duration": 365,
    "start_time": "2021-08-22T08:32:07.940Z"
   },
   {
    "duration": 373,
    "start_time": "2021-08-22T08:32:21.996Z"
   },
   {
    "duration": 415,
    "start_time": "2021-08-22T08:33:20.253Z"
   },
   {
    "duration": 7,
    "start_time": "2021-08-22T08:34:05.982Z"
   },
   {
    "duration": 6,
    "start_time": "2021-08-22T08:34:07.415Z"
   },
   {
    "duration": 10,
    "start_time": "2021-08-22T08:34:08.117Z"
   },
   {
    "duration": 8,
    "start_time": "2021-08-22T08:34:09.101Z"
   },
   {
    "duration": 9,
    "start_time": "2021-08-22T08:34:12.653Z"
   },
   {
    "duration": 8,
    "start_time": "2021-08-22T08:37:58.272Z"
   },
   {
    "duration": 5,
    "start_time": "2021-08-22T08:37:59.114Z"
   },
   {
    "duration": 9,
    "start_time": "2021-08-22T08:37:59.729Z"
   },
   {
    "duration": 8,
    "start_time": "2021-08-22T08:38:02.120Z"
   },
   {
    "duration": 9,
    "start_time": "2021-08-22T08:38:03.815Z"
   },
   {
    "duration": 8,
    "start_time": "2021-08-22T08:40:02.299Z"
   },
   {
    "duration": 5,
    "start_time": "2021-08-22T08:40:03.187Z"
   },
   {
    "duration": 8,
    "start_time": "2021-08-22T08:40:03.787Z"
   },
   {
    "duration": 8,
    "start_time": "2021-08-22T08:40:04.683Z"
   },
   {
    "duration": 9,
    "start_time": "2021-08-22T08:40:08.347Z"
   },
   {
    "duration": 8,
    "start_time": "2021-08-22T08:40:16.499Z"
   },
   {
    "duration": 6,
    "start_time": "2021-08-22T08:40:18.115Z"
   },
   {
    "duration": 3,
    "start_time": "2021-08-22T08:40:20.536Z"
   },
   {
    "duration": 8,
    "start_time": "2021-08-22T08:40:26.529Z"
   },
   {
    "duration": 6,
    "start_time": "2021-08-22T08:40:27.641Z"
   },
   {
    "duration": 8,
    "start_time": "2021-08-22T08:40:28.401Z"
   },
   {
    "duration": 8,
    "start_time": "2021-08-22T08:40:30.971Z"
   },
   {
    "duration": 8,
    "start_time": "2021-08-22T08:40:33.388Z"
   },
   {
    "duration": 8,
    "start_time": "2021-08-22T08:40:40.010Z"
   },
   {
    "duration": 7,
    "start_time": "2021-08-22T08:41:24.611Z"
   },
   {
    "duration": 364,
    "start_time": "2021-08-22T08:42:14.077Z"
   },
   {
    "duration": 7,
    "start_time": "2021-08-22T08:42:26.141Z"
   },
   {
    "duration": 6,
    "start_time": "2021-08-22T08:42:27.069Z"
   },
   {
    "duration": 3,
    "start_time": "2021-08-22T08:42:28.564Z"
   },
   {
    "duration": 354,
    "start_time": "2021-08-22T08:42:29.093Z"
   },
   {
    "duration": 10,
    "start_time": "2021-08-22T08:42:37.694Z"
   },
   {
    "duration": 6,
    "start_time": "2021-08-22T08:42:40.118Z"
   },
   {
    "duration": 11,
    "start_time": "2021-08-22T08:42:40.710Z"
   },
   {
    "duration": 9,
    "start_time": "2021-08-22T08:42:42.835Z"
   },
   {
    "duration": 9,
    "start_time": "2021-08-22T08:42:48.462Z"
   },
   {
    "duration": 10,
    "start_time": "2021-08-22T08:42:59.405Z"
   },
   {
    "duration": 6,
    "start_time": "2021-08-22T08:43:00.341Z"
   },
   {
    "duration": 8,
    "start_time": "2021-08-22T08:43:01.022Z"
   },
   {
    "duration": 9,
    "start_time": "2021-08-22T08:43:02.583Z"
   },
   {
    "duration": 9,
    "start_time": "2021-08-22T08:43:04.070Z"
   },
   {
    "duration": 10,
    "start_time": "2021-08-22T08:43:15.189Z"
   },
   {
    "duration": 6,
    "start_time": "2021-08-22T08:43:16.221Z"
   },
   {
    "duration": 10,
    "start_time": "2021-08-22T08:43:16.772Z"
   },
   {
    "duration": 9,
    "start_time": "2021-08-22T08:43:17.606Z"
   },
   {
    "duration": 9,
    "start_time": "2021-08-22T08:43:20.940Z"
   },
   {
    "duration": 10,
    "start_time": "2021-08-22T08:45:11.983Z"
   },
   {
    "duration": 6,
    "start_time": "2021-08-22T08:45:13.247Z"
   },
   {
    "duration": 9,
    "start_time": "2021-08-22T08:45:14.200Z"
   },
   {
    "duration": 8,
    "start_time": "2021-08-22T08:45:16.624Z"
   },
   {
    "duration": 8,
    "start_time": "2021-08-22T08:45:19.359Z"
   },
   {
    "duration": 10,
    "start_time": "2021-08-22T08:45:45.291Z"
   },
   {
    "duration": 5,
    "start_time": "2021-08-22T08:45:46.513Z"
   },
   {
    "duration": 9,
    "start_time": "2021-08-22T08:45:48.416Z"
   },
   {
    "duration": 9,
    "start_time": "2021-08-22T08:45:49.649Z"
   },
   {
    "duration": 9,
    "start_time": "2021-08-22T08:45:51.848Z"
   },
   {
    "duration": 10,
    "start_time": "2021-08-22T08:46:11.752Z"
   },
   {
    "duration": 6,
    "start_time": "2021-08-22T08:46:12.305Z"
   },
   {
    "duration": 9,
    "start_time": "2021-08-22T08:46:12.847Z"
   },
   {
    "duration": 8,
    "start_time": "2021-08-22T08:46:13.521Z"
   },
   {
    "duration": 10,
    "start_time": "2021-08-22T08:46:15.531Z"
   },
   {
    "duration": 10,
    "start_time": "2021-08-22T08:46:38.466Z"
   },
   {
    "duration": 6,
    "start_time": "2021-08-22T08:46:39.113Z"
   },
   {
    "duration": 9,
    "start_time": "2021-08-22T08:46:39.673Z"
   },
   {
    "duration": 9,
    "start_time": "2021-08-22T08:46:40.728Z"
   },
   {
    "duration": 10,
    "start_time": "2021-08-22T08:46:43.027Z"
   },
   {
    "duration": 10,
    "start_time": "2021-08-22T08:47:23.777Z"
   },
   {
    "duration": 5,
    "start_time": "2021-08-22T08:47:24.850Z"
   },
   {
    "duration": 9,
    "start_time": "2021-08-22T08:47:25.393Z"
   },
   {
    "duration": 8,
    "start_time": "2021-08-22T08:47:26.290Z"
   },
   {
    "duration": 10,
    "start_time": "2021-08-22T08:47:31.178Z"
   },
   {
    "duration": 7,
    "start_time": "2021-08-22T08:47:31.753Z"
   },
   {
    "duration": 9,
    "start_time": "2021-08-22T08:47:32.266Z"
   },
   {
    "duration": 8,
    "start_time": "2021-08-22T08:47:33.051Z"
   },
   {
    "duration": 8,
    "start_time": "2021-08-22T08:47:34.850Z"
   },
   {
    "duration": 10,
    "start_time": "2021-08-22T08:47:40.250Z"
   },
   {
    "duration": 6,
    "start_time": "2021-08-22T08:47:40.850Z"
   },
   {
    "duration": 9,
    "start_time": "2021-08-22T08:47:41.330Z"
   },
   {
    "duration": 9,
    "start_time": "2021-08-22T08:47:42.074Z"
   },
   {
    "duration": 9,
    "start_time": "2021-08-22T08:47:43.979Z"
   },
   {
    "duration": 10,
    "start_time": "2021-08-22T08:47:50.213Z"
   },
   {
    "duration": 5,
    "start_time": "2021-08-22T08:47:51.049Z"
   },
   {
    "duration": 9,
    "start_time": "2021-08-22T08:47:51.682Z"
   },
   {
    "duration": 8,
    "start_time": "2021-08-22T08:47:53.330Z"
   },
   {
    "duration": 12,
    "start_time": "2021-08-22T08:47:54.153Z"
   },
   {
    "duration": 24,
    "start_time": "2021-08-22T08:52:36.828Z"
   },
   {
    "duration": 21,
    "start_time": "2021-08-22T08:52:36.855Z"
   },
   {
    "duration": 12,
    "start_time": "2021-08-22T08:52:36.880Z"
   },
   {
    "duration": 4,
    "start_time": "2021-08-22T08:52:36.896Z"
   },
   {
    "duration": 13,
    "start_time": "2021-08-22T08:52:36.902Z"
   },
   {
    "duration": 44,
    "start_time": "2021-08-22T08:52:36.917Z"
   },
   {
    "duration": 8,
    "start_time": "2021-08-22T08:52:36.964Z"
   },
   {
    "duration": 35,
    "start_time": "2021-08-22T08:52:36.977Z"
   },
   {
    "duration": 43,
    "start_time": "2021-08-22T08:52:37.015Z"
   },
   {
    "duration": 17,
    "start_time": "2021-08-22T08:52:37.062Z"
   },
   {
    "duration": 6,
    "start_time": "2021-08-22T08:52:37.082Z"
   },
   {
    "duration": 13,
    "start_time": "2021-08-22T08:52:37.091Z"
   },
   {
    "duration": 8,
    "start_time": "2021-08-22T08:52:37.106Z"
   },
   {
    "duration": 11,
    "start_time": "2021-08-22T08:52:37.116Z"
   },
   {
    "duration": 14,
    "start_time": "2021-08-22T08:52:37.156Z"
   },
   {
    "duration": 10,
    "start_time": "2021-08-22T08:52:37.174Z"
   },
   {
    "duration": 389,
    "start_time": "2021-08-22T08:52:37.187Z"
   },
   {
    "duration": -103,
    "start_time": "2021-08-22T08:52:37.683Z"
   },
   {
    "duration": -107,
    "start_time": "2021-08-22T08:52:37.688Z"
   },
   {
    "duration": -109,
    "start_time": "2021-08-22T08:52:37.692Z"
   },
   {
    "duration": -112,
    "start_time": "2021-08-22T08:52:37.696Z"
   },
   {
    "duration": -116,
    "start_time": "2021-08-22T08:52:37.701Z"
   },
   {
    "duration": -118,
    "start_time": "2021-08-22T08:52:37.704Z"
   },
   {
    "duration": -119,
    "start_time": "2021-08-22T08:52:37.707Z"
   },
   {
    "duration": -121,
    "start_time": "2021-08-22T08:52:37.710Z"
   },
   {
    "duration": -123,
    "start_time": "2021-08-22T08:52:37.713Z"
   },
   {
    "duration": 388,
    "start_time": "2021-08-22T08:52:55.152Z"
   },
   {
    "duration": 410,
    "start_time": "2021-08-22T08:53:46.459Z"
   },
   {
    "duration": 1344,
    "start_time": "2021-08-22T08:54:10.597Z"
   },
   {
    "duration": 25,
    "start_time": "2021-08-22T08:54:11.944Z"
   },
   {
    "duration": 27,
    "start_time": "2021-08-22T08:54:11.972Z"
   },
   {
    "duration": 22,
    "start_time": "2021-08-22T08:54:12.001Z"
   },
   {
    "duration": 30,
    "start_time": "2021-08-22T08:54:12.026Z"
   },
   {
    "duration": 19,
    "start_time": "2021-08-22T08:54:12.059Z"
   },
   {
    "duration": 22,
    "start_time": "2021-08-22T08:54:12.081Z"
   },
   {
    "duration": 63,
    "start_time": "2021-08-22T08:54:12.109Z"
   },
   {
    "duration": 7,
    "start_time": "2021-08-22T08:54:12.175Z"
   },
   {
    "duration": 21,
    "start_time": "2021-08-22T08:54:12.184Z"
   },
   {
    "duration": 13,
    "start_time": "2021-08-22T08:54:12.207Z"
   },
   {
    "duration": 29,
    "start_time": "2021-08-22T08:54:12.222Z"
   },
   {
    "duration": 25,
    "start_time": "2021-08-22T08:54:12.253Z"
   },
   {
    "duration": 33,
    "start_time": "2021-08-22T08:54:12.281Z"
   },
   {
    "duration": 21,
    "start_time": "2021-08-22T08:54:12.316Z"
   },
   {
    "duration": 22,
    "start_time": "2021-08-22T08:54:12.339Z"
   },
   {
    "duration": 511,
    "start_time": "2021-08-22T08:54:12.364Z"
   },
   {
    "duration": -90,
    "start_time": "2021-08-22T08:54:12.968Z"
   },
   {
    "duration": -91,
    "start_time": "2021-08-22T08:54:12.970Z"
   },
   {
    "duration": -92,
    "start_time": "2021-08-22T08:54:12.973Z"
   },
   {
    "duration": -95,
    "start_time": "2021-08-22T08:54:12.977Z"
   },
   {
    "duration": -95,
    "start_time": "2021-08-22T08:54:12.979Z"
   },
   {
    "duration": -97,
    "start_time": "2021-08-22T08:54:12.982Z"
   },
   {
    "duration": -98,
    "start_time": "2021-08-22T08:54:12.984Z"
   },
   {
    "duration": -101,
    "start_time": "2021-08-22T08:54:12.989Z"
   },
   {
    "duration": -106,
    "start_time": "2021-08-22T08:54:12.995Z"
   },
   {
    "duration": 366,
    "start_time": "2021-08-22T08:54:50.560Z"
   },
   {
    "duration": 11,
    "start_time": "2021-08-22T08:56:06.751Z"
   },
   {
    "duration": 5,
    "start_time": "2021-08-22T08:56:08.550Z"
   },
   {
    "duration": 8,
    "start_time": "2021-08-22T08:56:09.280Z"
   },
   {
    "duration": 7,
    "start_time": "2021-08-22T08:56:11.368Z"
   },
   {
    "duration": 8,
    "start_time": "2021-08-22T08:56:12.055Z"
   },
   {
    "duration": 78,
    "start_time": "2021-08-22T08:56:16.680Z"
   },
   {
    "duration": 26,
    "start_time": "2021-08-22T08:56:21.975Z"
   },
   {
    "duration": 11,
    "start_time": "2021-08-22T08:56:24.511Z"
   },
   {
    "duration": 2077,
    "start_time": "2021-08-22T08:56:27.791Z"
   },
   {
    "duration": 368,
    "start_time": "2021-08-22T08:56:33.928Z"
   },
   {
    "duration": 365,
    "start_time": "2021-08-22T08:56:51.473Z"
   },
   {
    "duration": 23,
    "start_time": "2021-08-22T08:56:57.343Z"
   },
   {
    "duration": 14,
    "start_time": "2021-08-22T08:56:57.368Z"
   },
   {
    "duration": 10,
    "start_time": "2021-08-22T08:56:57.385Z"
   },
   {
    "duration": 4,
    "start_time": "2021-08-22T08:56:57.398Z"
   },
   {
    "duration": 12,
    "start_time": "2021-08-22T08:56:57.404Z"
   },
   {
    "duration": 9,
    "start_time": "2021-08-22T08:56:57.456Z"
   },
   {
    "duration": 8,
    "start_time": "2021-08-22T08:56:57.467Z"
   },
   {
    "duration": 55,
    "start_time": "2021-08-22T08:56:57.477Z"
   },
   {
    "duration": 20,
    "start_time": "2021-08-22T08:56:57.537Z"
   },
   {
    "duration": 5,
    "start_time": "2021-08-22T08:56:57.560Z"
   },
   {
    "duration": 10,
    "start_time": "2021-08-22T08:56:57.567Z"
   },
   {
    "duration": 16,
    "start_time": "2021-08-22T08:56:57.579Z"
   },
   {
    "duration": 8,
    "start_time": "2021-08-22T08:56:57.597Z"
   },
   {
    "duration": 14,
    "start_time": "2021-08-22T08:56:57.607Z"
   },
   {
    "duration": 34,
    "start_time": "2021-08-22T08:56:57.623Z"
   },
   {
    "duration": 17,
    "start_time": "2021-08-22T08:56:57.660Z"
   },
   {
    "duration": 110,
    "start_time": "2021-08-22T08:56:57.680Z"
   },
   {
    "duration": 26,
    "start_time": "2021-08-22T08:56:57.792Z"
   },
   {
    "duration": 36,
    "start_time": "2021-08-22T08:56:57.820Z"
   },
   {
    "duration": 2069,
    "start_time": "2021-08-22T08:56:57.859Z"
   },
   {
    "duration": 382,
    "start_time": "2021-08-22T08:56:59.930Z"
   },
   {
    "duration": -72,
    "start_time": "2021-08-22T08:57:00.386Z"
   },
   {
    "duration": -104,
    "start_time": "2021-08-22T08:57:00.420Z"
   },
   {
    "duration": -106,
    "start_time": "2021-08-22T08:57:00.424Z"
   },
   {
    "duration": -115,
    "start_time": "2021-08-22T08:57:00.435Z"
   },
   {
    "duration": -117,
    "start_time": "2021-08-22T08:57:00.438Z"
   },
   {
    "duration": 364,
    "start_time": "2021-08-22T08:57:03.263Z"
   },
   {
    "duration": 1611,
    "start_time": "2021-08-22T08:57:24.806Z"
   },
   {
    "duration": 29,
    "start_time": "2021-08-22T08:57:26.421Z"
   },
   {
    "duration": 9,
    "start_time": "2021-08-22T08:57:26.457Z"
   },
   {
    "duration": 12,
    "start_time": "2021-08-22T08:57:26.469Z"
   },
   {
    "duration": 12,
    "start_time": "2021-08-22T08:57:26.483Z"
   },
   {
    "duration": 12,
    "start_time": "2021-08-22T08:57:26.497Z"
   },
   {
    "duration": 7,
    "start_time": "2021-08-22T08:57:26.512Z"
   },
   {
    "duration": 42,
    "start_time": "2021-08-22T08:57:26.557Z"
   },
   {
    "duration": 6,
    "start_time": "2021-08-22T08:57:26.602Z"
   },
   {
    "duration": 8,
    "start_time": "2021-08-22T08:57:26.610Z"
   },
   {
    "duration": 8,
    "start_time": "2021-08-22T08:57:26.620Z"
   },
   {
    "duration": 10,
    "start_time": "2021-08-22T08:57:26.656Z"
   },
   {
    "duration": 5,
    "start_time": "2021-08-22T08:57:26.668Z"
   },
   {
    "duration": 23,
    "start_time": "2021-08-22T08:57:26.675Z"
   },
   {
    "duration": 15,
    "start_time": "2021-08-22T08:57:26.700Z"
   },
   {
    "duration": 12,
    "start_time": "2021-08-22T08:57:26.717Z"
   },
   {
    "duration": 101,
    "start_time": "2021-08-22T08:57:26.731Z"
   },
   {
    "duration": 36,
    "start_time": "2021-08-22T08:57:26.834Z"
   },
   {
    "duration": 9,
    "start_time": "2021-08-22T08:57:26.872Z"
   },
   {
    "duration": 2110,
    "start_time": "2021-08-22T08:57:26.883Z"
   },
   {
    "duration": 535,
    "start_time": "2021-08-22T08:57:28.996Z"
   },
   {
    "duration": -44,
    "start_time": "2021-08-22T08:57:29.578Z"
   },
   {
    "duration": -53,
    "start_time": "2021-08-22T08:57:29.588Z"
   },
   {
    "duration": -58,
    "start_time": "2021-08-22T08:57:29.595Z"
   },
   {
    "duration": -61,
    "start_time": "2021-08-22T08:57:29.599Z"
   },
   {
    "duration": -68,
    "start_time": "2021-08-22T08:57:29.607Z"
   },
   {
    "duration": 350,
    "start_time": "2021-08-22T08:57:43.796Z"
   },
   {
    "duration": 364,
    "start_time": "2021-08-22T08:57:46.661Z"
   },
   {
    "duration": 350,
    "start_time": "2021-08-22T08:57:48.148Z"
   },
   {
    "duration": 24,
    "start_time": "2021-08-22T08:58:50.978Z"
   },
   {
    "duration": 33,
    "start_time": "2021-08-22T08:58:51.004Z"
   },
   {
    "duration": 14,
    "start_time": "2021-08-22T08:58:51.040Z"
   },
   {
    "duration": 7,
    "start_time": "2021-08-22T08:58:51.057Z"
   },
   {
    "duration": 12,
    "start_time": "2021-08-22T08:58:51.066Z"
   },
   {
    "duration": 23,
    "start_time": "2021-08-22T08:58:51.081Z"
   },
   {
    "duration": 10,
    "start_time": "2021-08-22T08:58:51.106Z"
   },
   {
    "duration": 54,
    "start_time": "2021-08-22T08:58:51.118Z"
   },
   {
    "duration": 6,
    "start_time": "2021-08-22T08:58:51.176Z"
   },
   {
    "duration": 16,
    "start_time": "2021-08-22T08:58:51.185Z"
   },
   {
    "duration": 19,
    "start_time": "2021-08-22T08:58:51.203Z"
   },
   {
    "duration": 9,
    "start_time": "2021-08-22T08:58:51.224Z"
   },
   {
    "duration": 18,
    "start_time": "2021-08-22T08:58:51.236Z"
   },
   {
    "duration": 20,
    "start_time": "2021-08-22T08:58:51.256Z"
   },
   {
    "duration": 11,
    "start_time": "2021-08-22T08:58:51.279Z"
   },
   {
    "duration": 13,
    "start_time": "2021-08-22T08:58:51.292Z"
   },
   {
    "duration": 98,
    "start_time": "2021-08-22T08:58:51.307Z"
   },
   {
    "duration": 152,
    "start_time": "2021-08-22T08:58:51.407Z"
   },
   {
    "duration": 92,
    "start_time": "2021-08-22T08:58:51.563Z"
   },
   {
    "duration": 2383,
    "start_time": "2021-08-22T08:58:51.659Z"
   },
   {
    "duration": 25,
    "start_time": "2021-08-22T08:58:54.044Z"
   },
   {
    "duration": 32,
    "start_time": "2021-08-22T08:58:54.072Z"
   },
   {
    "duration": 171,
    "start_time": "2021-08-22T08:58:54.106Z"
   },
   {
    "duration": 8,
    "start_time": "2021-08-22T08:58:54.279Z"
   },
   {
    "duration": 19,
    "start_time": "2021-08-22T08:58:54.290Z"
   },
   {
    "duration": 19,
    "start_time": "2021-08-22T08:58:54.312Z"
   },
   {
    "duration": 11,
    "start_time": "2021-08-22T08:59:29.798Z"
   },
   {
    "duration": 3,
    "start_time": "2021-08-22T08:59:30.565Z"
   },
   {
    "duration": 5,
    "start_time": "2021-08-22T08:59:31.075Z"
   },
   {
    "duration": 8,
    "start_time": "2021-08-22T08:59:31.580Z"
   },
   {
    "duration": 8,
    "start_time": "2021-08-22T08:59:34.429Z"
   },
   {
    "duration": 8,
    "start_time": "2021-08-22T08:59:36.502Z"
   },
   {
    "duration": 10,
    "start_time": "2021-08-22T08:59:45.613Z"
   },
   {
    "duration": 4,
    "start_time": "2021-08-22T08:59:47.261Z"
   },
   {
    "duration": 6,
    "start_time": "2021-08-22T08:59:47.741Z"
   },
   {
    "duration": 9,
    "start_time": "2021-08-22T08:59:48.239Z"
   },
   {
    "duration": 9,
    "start_time": "2021-08-22T08:59:48.869Z"
   },
   {
    "duration": 9,
    "start_time": "2021-08-22T08:59:49.781Z"
   },
   {
    "duration": 10,
    "start_time": "2021-08-22T09:00:27.791Z"
   },
   {
    "duration": 23,
    "start_time": "2021-08-22T09:00:30.845Z"
   },
   {
    "duration": 23,
    "start_time": "2021-08-22T09:00:30.871Z"
   },
   {
    "duration": 20,
    "start_time": "2021-08-22T09:00:30.897Z"
   },
   {
    "duration": 5,
    "start_time": "2021-08-22T09:00:30.920Z"
   },
   {
    "duration": 30,
    "start_time": "2021-08-22T09:00:30.927Z"
   },
   {
    "duration": 31,
    "start_time": "2021-08-22T09:00:30.960Z"
   },
   {
    "duration": 34,
    "start_time": "2021-08-22T09:00:30.993Z"
   },
   {
    "duration": 70,
    "start_time": "2021-08-22T09:00:31.031Z"
   },
   {
    "duration": 28,
    "start_time": "2021-08-22T09:00:31.104Z"
   },
   {
    "duration": 22,
    "start_time": "2021-08-22T09:00:31.135Z"
   },
   {
    "duration": 47,
    "start_time": "2021-08-22T09:00:31.159Z"
   },
   {
    "duration": 14,
    "start_time": "2021-08-22T09:00:31.208Z"
   },
   {
    "duration": 27,
    "start_time": "2021-08-22T09:00:31.224Z"
   },
   {
    "duration": 23,
    "start_time": "2021-08-22T09:00:31.253Z"
   },
   {
    "duration": 32,
    "start_time": "2021-08-22T09:00:31.278Z"
   },
   {
    "duration": 44,
    "start_time": "2021-08-22T09:00:31.313Z"
   },
   {
    "duration": 106,
    "start_time": "2021-08-22T09:00:31.359Z"
   },
   {
    "duration": 23,
    "start_time": "2021-08-22T09:00:31.468Z"
   },
   {
    "duration": 13,
    "start_time": "2021-08-22T09:00:31.493Z"
   },
   {
    "duration": 2149,
    "start_time": "2021-08-22T09:00:31.508Z"
   },
   {
    "duration": 17,
    "start_time": "2021-08-22T09:00:33.660Z"
   },
   {
    "duration": 24,
    "start_time": "2021-08-22T09:00:33.679Z"
   },
   {
    "duration": 183,
    "start_time": "2021-08-22T09:00:33.707Z"
   },
   {
    "duration": 8,
    "start_time": "2021-08-22T09:00:33.892Z"
   },
   {
    "duration": 14,
    "start_time": "2021-08-22T09:00:33.902Z"
   },
   {
    "duration": 8,
    "start_time": "2021-08-22T09:00:33.919Z"
   },
   {
    "duration": 1451,
    "start_time": "2021-08-22T19:03:32.459Z"
   },
   {
    "duration": 21,
    "start_time": "2021-08-22T19:03:33.913Z"
   },
   {
    "duration": 12,
    "start_time": "2021-08-22T19:03:33.937Z"
   },
   {
    "duration": 13,
    "start_time": "2021-08-22T19:03:33.951Z"
   },
   {
    "duration": 15,
    "start_time": "2021-08-22T19:03:33.967Z"
   },
   {
    "duration": 13,
    "start_time": "2021-08-22T19:03:33.984Z"
   },
   {
    "duration": 4,
    "start_time": "2021-08-22T19:03:33.999Z"
   },
   {
    "duration": 62,
    "start_time": "2021-08-22T19:03:34.007Z"
   },
   {
    "duration": 3,
    "start_time": "2021-08-22T19:03:34.072Z"
   },
   {
    "duration": 12,
    "start_time": "2021-08-22T19:03:34.078Z"
   },
   {
    "duration": 7,
    "start_time": "2021-08-22T19:03:34.092Z"
   },
   {
    "duration": 11,
    "start_time": "2021-08-22T19:03:34.102Z"
   },
   {
    "duration": 15,
    "start_time": "2021-08-22T19:03:34.116Z"
   },
   {
    "duration": 4,
    "start_time": "2021-08-22T19:03:34.161Z"
   },
   {
    "duration": 19,
    "start_time": "2021-08-22T19:03:34.167Z"
   },
   {
    "duration": 506,
    "start_time": "2021-08-22T19:03:34.189Z"
   },
   {
    "duration": -98,
    "start_time": "2021-08-22T19:03:34.796Z"
   },
   {
    "duration": -130,
    "start_time": "2021-08-22T19:03:34.830Z"
   },
   {
    "duration": -132,
    "start_time": "2021-08-22T19:03:34.833Z"
   },
   {
    "duration": -137,
    "start_time": "2021-08-22T19:03:34.840Z"
   },
   {
    "duration": -142,
    "start_time": "2021-08-22T19:03:34.846Z"
   },
   {
    "duration": -143,
    "start_time": "2021-08-22T19:03:34.849Z"
   },
   {
    "duration": -144,
    "start_time": "2021-08-22T19:03:34.851Z"
   },
   {
    "duration": -151,
    "start_time": "2021-08-22T19:03:34.860Z"
   },
   {
    "duration": -152,
    "start_time": "2021-08-22T19:03:34.863Z"
   },
   {
    "duration": -154,
    "start_time": "2021-08-22T19:03:34.866Z"
   },
   {
    "duration": -154,
    "start_time": "2021-08-22T19:03:34.868Z"
   },
   {
    "duration": -159,
    "start_time": "2021-08-22T19:03:34.874Z"
   },
   {
    "duration": -159,
    "start_time": "2021-08-22T19:03:34.876Z"
   },
   {
    "duration": 432,
    "start_time": "2021-08-22T19:04:00.565Z"
   },
   {
    "duration": 1420,
    "start_time": "2021-08-22T19:07:11.197Z"
   },
   {
    "duration": 86,
    "start_time": "2021-08-22T19:08:03.949Z"
   },
   {
    "duration": 91,
    "start_time": "2021-08-22T19:08:16.135Z"
   },
   {
    "duration": 196,
    "start_time": "2021-08-22T19:08:50.672Z"
   },
   {
    "duration": 12,
    "start_time": "2021-08-22T19:08:58.399Z"
   },
   {
    "duration": 84,
    "start_time": "2021-08-22T19:09:03.512Z"
   },
   {
    "duration": 3,
    "start_time": "2021-08-22T19:10:08.514Z"
   },
   {
    "duration": 31,
    "start_time": "2021-08-22T19:10:33.859Z"
   },
   {
    "duration": 2639,
    "start_time": "2021-08-22T19:11:52.738Z"
   },
   {
    "duration": 3850,
    "start_time": "2021-08-22T19:12:16.586Z"
   },
   {
    "duration": 4919,
    "start_time": "2021-08-22T19:12:26.396Z"
   },
   {
    "duration": 1316,
    "start_time": "2021-08-22T19:13:07.772Z"
   },
   {
    "duration": 1403,
    "start_time": "2021-08-23T06:20:08.565Z"
   },
   {
    "duration": 24,
    "start_time": "2021-08-23T06:20:09.971Z"
   },
   {
    "duration": 10,
    "start_time": "2021-08-23T06:20:09.998Z"
   },
   {
    "duration": 7,
    "start_time": "2021-08-23T06:20:10.011Z"
   },
   {
    "duration": 17,
    "start_time": "2021-08-23T06:20:10.021Z"
   },
   {
    "duration": 29,
    "start_time": "2021-08-23T06:20:10.041Z"
   },
   {
    "duration": 6,
    "start_time": "2021-08-23T06:20:10.072Z"
   },
   {
    "duration": 36,
    "start_time": "2021-08-23T06:20:10.081Z"
   },
   {
    "duration": 3,
    "start_time": "2021-08-23T06:20:10.120Z"
   },
   {
    "duration": 44,
    "start_time": "2021-08-23T06:20:10.126Z"
   },
   {
    "duration": 9,
    "start_time": "2021-08-23T06:20:10.172Z"
   },
   {
    "duration": 10,
    "start_time": "2021-08-23T06:20:10.183Z"
   },
   {
    "duration": 10,
    "start_time": "2021-08-23T06:20:10.195Z"
   },
   {
    "duration": 7,
    "start_time": "2021-08-23T06:20:10.207Z"
   },
   {
    "duration": 9,
    "start_time": "2021-08-23T06:20:10.216Z"
   },
   {
    "duration": 8,
    "start_time": "2021-08-23T06:20:10.227Z"
   },
   {
    "duration": 29,
    "start_time": "2021-08-23T06:20:10.238Z"
   },
   {
    "duration": 5,
    "start_time": "2021-08-23T06:20:10.270Z"
   },
   {
    "duration": 7,
    "start_time": "2021-08-23T06:20:10.277Z"
   },
   {
    "duration": 1197,
    "start_time": "2021-08-23T06:20:10.287Z"
   },
   {
    "duration": 26,
    "start_time": "2021-08-23T06:20:11.486Z"
   },
   {
    "duration": 3,
    "start_time": "2021-08-23T06:20:11.514Z"
   },
   {
    "duration": 4389,
    "start_time": "2021-08-23T06:20:11.521Z"
   },
   {
    "duration": 409,
    "start_time": "2021-08-23T06:20:15.913Z"
   },
   {
    "duration": -127,
    "start_time": "2021-08-23T06:20:16.451Z"
   },
   {
    "duration": -159,
    "start_time": "2021-08-23T06:20:16.485Z"
   },
   {
    "duration": -173,
    "start_time": "2021-08-23T06:20:16.500Z"
   },
   {
    "duration": -186,
    "start_time": "2021-08-23T06:20:16.514Z"
   },
   {
    "duration": -192,
    "start_time": "2021-08-23T06:20:16.521Z"
   },
   {
    "duration": 18,
    "start_time": "2021-08-23T06:21:32.047Z"
   },
   {
    "duration": 26,
    "start_time": "2021-08-23T06:21:54.126Z"
   },
   {
    "duration": 164,
    "start_time": "2021-08-23T06:22:12.057Z"
   },
   {
    "duration": 9,
    "start_time": "2021-08-23T06:23:05.558Z"
   },
   {
    "duration": 9,
    "start_time": "2021-08-23T06:23:27.616Z"
   },
   {
    "duration": 9,
    "start_time": "2021-08-23T06:23:45.184Z"
   },
   {
    "duration": 22,
    "start_time": "2021-08-23T06:25:10.808Z"
   },
   {
    "duration": 32,
    "start_time": "2021-08-23T06:25:10.833Z"
   },
   {
    "duration": 22,
    "start_time": "2021-08-23T06:25:10.868Z"
   },
   {
    "duration": 14,
    "start_time": "2021-08-23T06:25:10.893Z"
   },
   {
    "duration": 20,
    "start_time": "2021-08-23T06:25:10.909Z"
   },
   {
    "duration": 22,
    "start_time": "2021-08-23T06:25:10.931Z"
   },
   {
    "duration": 10,
    "start_time": "2021-08-23T06:25:10.955Z"
   },
   {
    "duration": 44,
    "start_time": "2021-08-23T06:25:10.969Z"
   },
   {
    "duration": 3,
    "start_time": "2021-08-23T06:25:11.016Z"
   },
   {
    "duration": 17,
    "start_time": "2021-08-23T06:25:11.021Z"
   },
   {
    "duration": 12,
    "start_time": "2021-08-23T06:25:11.041Z"
   },
   {
    "duration": 16,
    "start_time": "2021-08-23T06:25:11.056Z"
   },
   {
    "duration": 14,
    "start_time": "2021-08-23T06:25:11.075Z"
   },
   {
    "duration": 12,
    "start_time": "2021-08-23T06:25:11.092Z"
   },
   {
    "duration": 12,
    "start_time": "2021-08-23T06:25:11.106Z"
   },
   {
    "duration": 9,
    "start_time": "2021-08-23T06:25:11.121Z"
   },
   {
    "duration": 10,
    "start_time": "2021-08-23T06:25:11.132Z"
   },
   {
    "duration": 7,
    "start_time": "2021-08-23T06:25:11.145Z"
   },
   {
    "duration": 13,
    "start_time": "2021-08-23T06:25:11.154Z"
   },
   {
    "duration": 1306,
    "start_time": "2021-08-23T06:25:11.169Z"
   },
   {
    "duration": 23,
    "start_time": "2021-08-23T06:25:12.477Z"
   },
   {
    "duration": 3,
    "start_time": "2021-08-23T06:25:12.503Z"
   },
   {
    "duration": 4610,
    "start_time": "2021-08-23T06:25:12.512Z"
   },
   {
    "duration": 16,
    "start_time": "2021-08-23T06:25:17.125Z"
   },
   {
    "duration": 44,
    "start_time": "2021-08-23T06:25:17.144Z"
   },
   {
    "duration": 177,
    "start_time": "2021-08-23T06:25:17.190Z"
   },
   {
    "duration": 10,
    "start_time": "2021-08-23T06:25:17.369Z"
   },
   {
    "duration": 10,
    "start_time": "2021-08-23T06:25:17.381Z"
   },
   {
    "duration": 15,
    "start_time": "2021-08-23T06:25:17.393Z"
   },
   {
    "duration": 6,
    "start_time": "2021-08-23T06:27:56.340Z"
   },
   {
    "duration": 6,
    "start_time": "2021-08-23T06:28:06.130Z"
   },
   {
    "duration": 6,
    "start_time": "2021-08-23T06:28:12.044Z"
   },
   {
    "duration": 9,
    "start_time": "2021-08-23T06:28:48.810Z"
   }
  ],
  "kernelspec": {
   "display_name": "Python 3",
   "language": "python",
   "name": "python3"
  },
  "language_info": {
   "codemirror_mode": {
    "name": "ipython",
    "version": 3
   },
   "file_extension": ".py",
   "mimetype": "text/x-python",
   "name": "python",
   "nbconvert_exporter": "python",
   "pygments_lexer": "ipython3",
   "version": "3.8.8"
  },
  "toc": {
   "base_numbering": 1,
   "nav_menu": {},
   "number_sections": true,
   "sideBar": true,
   "skip_h1_title": true,
   "title_cell": "Table of Contents",
   "title_sidebar": "Contents",
   "toc_cell": false,
   "toc_position": {},
   "toc_section_display": true,
   "toc_window_display": false
  }
 },
 "nbformat": 4,
 "nbformat_minor": 2
}
