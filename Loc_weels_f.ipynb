{
 "cells": [
  {
   "cell_type": "markdown",
   "metadata": {},
   "source": [
    "# Выбор локации для скважины"
   ]
  },
  {
   "cell_type": "markdown",
   "metadata": {},
   "source": [
    "Допустим, вы работаете в добывающей компании «ГлавРосГосНефть». Нужно решить, где бурить новую скважину.\n",
    "\n",
    "Вам предоставлены пробы нефти в трёх регионах: в каждом 10 000 месторождений, где измерили качество нефти и объём её запасов. Постройте модель машинного обучения, которая поможет определить регион, где добыча принесёт наибольшую прибыль. Проанализируйте возможную прибыль и риски техникой *Bootstrap.*\n",
    "\n",
    "Шаги для выбора локации:\n",
    "\n",
    "- В избранном регионе ищут месторождения, для каждого определяют значения признаков;\n",
    "- Строят модель и оценивают объём запасов;\n",
    "- Выбирают месторождения с самым высокими оценками значений. Количество месторождений зависит от бюджета компании и стоимости разработки одной скважины;\n",
    "- Прибыль равна суммарной прибыли отобранных месторождений."
   ]
  },
  {
   "cell_type": "markdown",
   "metadata": {},
   "source": [
    "•\tf0, f1, f2 — три признака точек (неважно, что они означают, но сами признаки значимы);\n",
    "\n",
    "•\tproduct — объём запасов в скважине (тыс. баррелей).\n",
    "\n",
    "Условия задачи:\n",
    "\n",
    "•\tДля обучения модели подходит только линейная регрессия (остальные — недостаточно предсказуемые).\n",
    "\n",
    "•\tПри разведке региона исследуют 500 точек, из которых с помощью машинного обучения выбирают 200 лучших для разработки.\n",
    "\n",
    "•\tБюджет на разработку скважин в регионе — 10 млрд рублей.\n",
    "\n",
    "•\tПри нынешних ценах один баррель сырья приносит 450 рублей дохода. Доход с каждой единицы продукта составляет 450 тыс. \n",
    "рублей, поскольку объём указан в тысячах баррелей.\n",
    "\n",
    "•\tПосле оценки рисков нужно оставить лишь те регионы, в которых вероятность убытков меньше 2.5%. Среди них выбирают регион с наибольшей средней прибылью.\n",
    "\n",
    "Данные синтетические: детали контрактов и характеристики месторождений не разглашаются.\n"
   ]
  },
  {
   "cell_type": "markdown",
   "metadata": {},
   "source": [
    "## Загрузка и подготовка данных"
   ]
  },
  {
   "cell_type": "code",
   "execution_count": 2,
   "metadata": {},
   "outputs": [],
   "source": [
    "import pandas as pd\n",
    "import numpy as np\n",
    "import scipy.stats as st\n",
    "from sklearn.preprocessing import StandardScaler\n",
    "from sklearn.linear_model import LinearRegression\n",
    "\n",
    "from sklearn.metrics import mean_squared_error\n",
    "from sklearn.model_selection import train_test_split\n",
    "from sklearn.preprocessing import MinMaxScaler\n",
    "\n",
    "import matplotlib.pyplot as plt\n",
    "\n",
    "\n",
    "import warnings\n",
    "warnings.filterwarnings(\"ignore\")"
   ]
  },
  {
   "cell_type": "code",
   "execution_count": 3,
   "metadata": {},
   "outputs": [],
   "source": [
    "df1 = pd.read_csv('/datasets/geo_data_0.csv')\n",
    "df2 = pd.read_csv('/datasets/geo_data_1.csv')\n",
    "df3 = pd.read_csv('/datasets/geo_data_2.csv')"
   ]
  },
  {
   "cell_type": "code",
   "execution_count": 4,
   "metadata": {},
   "outputs": [
    {
     "data": {
      "text/html": [
       "<div>\n",
       "<style scoped>\n",
       "    .dataframe tbody tr th:only-of-type {\n",
       "        vertical-align: middle;\n",
       "    }\n",
       "\n",
       "    .dataframe tbody tr th {\n",
       "        vertical-align: top;\n",
       "    }\n",
       "\n",
       "    .dataframe thead th {\n",
       "        text-align: right;\n",
       "    }\n",
       "</style>\n",
       "<table border=\"1\" class=\"dataframe\">\n",
       "  <thead>\n",
       "    <tr style=\"text-align: right;\">\n",
       "      <th></th>\n",
       "      <th>id</th>\n",
       "      <th>f0</th>\n",
       "      <th>f1</th>\n",
       "      <th>f2</th>\n",
       "      <th>product</th>\n",
       "    </tr>\n",
       "  </thead>\n",
       "  <tbody>\n",
       "    <tr>\n",
       "      <td>0</td>\n",
       "      <td>txEyH</td>\n",
       "      <td>0.705745</td>\n",
       "      <td>-0.497823</td>\n",
       "      <td>1.221170</td>\n",
       "      <td>105.280062</td>\n",
       "    </tr>\n",
       "    <tr>\n",
       "      <td>1</td>\n",
       "      <td>2acmU</td>\n",
       "      <td>1.334711</td>\n",
       "      <td>-0.340164</td>\n",
       "      <td>4.365080</td>\n",
       "      <td>73.037750</td>\n",
       "    </tr>\n",
       "    <tr>\n",
       "      <td>2</td>\n",
       "      <td>409Wp</td>\n",
       "      <td>1.022732</td>\n",
       "      <td>0.151990</td>\n",
       "      <td>1.419926</td>\n",
       "      <td>85.265647</td>\n",
       "    </tr>\n",
       "    <tr>\n",
       "      <td>3</td>\n",
       "      <td>iJLyR</td>\n",
       "      <td>-0.032172</td>\n",
       "      <td>0.139033</td>\n",
       "      <td>2.978566</td>\n",
       "      <td>168.620776</td>\n",
       "    </tr>\n",
       "    <tr>\n",
       "      <td>4</td>\n",
       "      <td>Xdl7t</td>\n",
       "      <td>1.988431</td>\n",
       "      <td>0.155413</td>\n",
       "      <td>4.751769</td>\n",
       "      <td>154.036647</td>\n",
       "    </tr>\n",
       "  </tbody>\n",
       "</table>\n",
       "</div>"
      ],
      "text/plain": [
       "      id        f0        f1        f2     product\n",
       "0  txEyH  0.705745 -0.497823  1.221170  105.280062\n",
       "1  2acmU  1.334711 -0.340164  4.365080   73.037750\n",
       "2  409Wp  1.022732  0.151990  1.419926   85.265647\n",
       "3  iJLyR -0.032172  0.139033  2.978566  168.620776\n",
       "4  Xdl7t  1.988431  0.155413  4.751769  154.036647"
      ]
     },
     "execution_count": 4,
     "metadata": {},
     "output_type": "execute_result"
    }
   ],
   "source": [
    "df1.head(5)"
   ]
  },
  {
   "cell_type": "code",
   "execution_count": 5,
   "metadata": {},
   "outputs": [
    {
     "data": {
      "text/html": [
       "<div>\n",
       "<style scoped>\n",
       "    .dataframe tbody tr th:only-of-type {\n",
       "        vertical-align: middle;\n",
       "    }\n",
       "\n",
       "    .dataframe tbody tr th {\n",
       "        vertical-align: top;\n",
       "    }\n",
       "\n",
       "    .dataframe thead th {\n",
       "        text-align: right;\n",
       "    }\n",
       "</style>\n",
       "<table border=\"1\" class=\"dataframe\">\n",
       "  <thead>\n",
       "    <tr style=\"text-align: right;\">\n",
       "      <th></th>\n",
       "      <th>id</th>\n",
       "      <th>f0</th>\n",
       "      <th>f1</th>\n",
       "      <th>f2</th>\n",
       "      <th>product</th>\n",
       "    </tr>\n",
       "  </thead>\n",
       "  <tbody>\n",
       "    <tr>\n",
       "      <td>0</td>\n",
       "      <td>kBEdx</td>\n",
       "      <td>-15.001348</td>\n",
       "      <td>-8.276000</td>\n",
       "      <td>-0.005876</td>\n",
       "      <td>3.179103</td>\n",
       "    </tr>\n",
       "    <tr>\n",
       "      <td>1</td>\n",
       "      <td>62mP7</td>\n",
       "      <td>14.272088</td>\n",
       "      <td>-3.475083</td>\n",
       "      <td>0.999183</td>\n",
       "      <td>26.953261</td>\n",
       "    </tr>\n",
       "    <tr>\n",
       "      <td>2</td>\n",
       "      <td>vyE1P</td>\n",
       "      <td>6.263187</td>\n",
       "      <td>-5.948386</td>\n",
       "      <td>5.001160</td>\n",
       "      <td>134.766305</td>\n",
       "    </tr>\n",
       "    <tr>\n",
       "      <td>3</td>\n",
       "      <td>KcrkZ</td>\n",
       "      <td>-13.081196</td>\n",
       "      <td>-11.506057</td>\n",
       "      <td>4.999415</td>\n",
       "      <td>137.945408</td>\n",
       "    </tr>\n",
       "    <tr>\n",
       "      <td>4</td>\n",
       "      <td>AHL4O</td>\n",
       "      <td>12.702195</td>\n",
       "      <td>-8.147433</td>\n",
       "      <td>5.004363</td>\n",
       "      <td>134.766305</td>\n",
       "    </tr>\n",
       "  </tbody>\n",
       "</table>\n",
       "</div>"
      ],
      "text/plain": [
       "      id         f0         f1        f2     product\n",
       "0  kBEdx -15.001348  -8.276000 -0.005876    3.179103\n",
       "1  62mP7  14.272088  -3.475083  0.999183   26.953261\n",
       "2  vyE1P   6.263187  -5.948386  5.001160  134.766305\n",
       "3  KcrkZ -13.081196 -11.506057  4.999415  137.945408\n",
       "4  AHL4O  12.702195  -8.147433  5.004363  134.766305"
      ]
     },
     "execution_count": 5,
     "metadata": {},
     "output_type": "execute_result"
    }
   ],
   "source": [
    "df2.head(5)"
   ]
  },
  {
   "cell_type": "code",
   "execution_count": 6,
   "metadata": {},
   "outputs": [
    {
     "data": {
      "text/html": [
       "<div>\n",
       "<style scoped>\n",
       "    .dataframe tbody tr th:only-of-type {\n",
       "        vertical-align: middle;\n",
       "    }\n",
       "\n",
       "    .dataframe tbody tr th {\n",
       "        vertical-align: top;\n",
       "    }\n",
       "\n",
       "    .dataframe thead th {\n",
       "        text-align: right;\n",
       "    }\n",
       "</style>\n",
       "<table border=\"1\" class=\"dataframe\">\n",
       "  <thead>\n",
       "    <tr style=\"text-align: right;\">\n",
       "      <th></th>\n",
       "      <th>id</th>\n",
       "      <th>f0</th>\n",
       "      <th>f1</th>\n",
       "      <th>f2</th>\n",
       "      <th>product</th>\n",
       "    </tr>\n",
       "  </thead>\n",
       "  <tbody>\n",
       "    <tr>\n",
       "      <td>0</td>\n",
       "      <td>fwXo0</td>\n",
       "      <td>-1.146987</td>\n",
       "      <td>0.963328</td>\n",
       "      <td>-0.828965</td>\n",
       "      <td>27.758673</td>\n",
       "    </tr>\n",
       "    <tr>\n",
       "      <td>1</td>\n",
       "      <td>WJtFt</td>\n",
       "      <td>0.262778</td>\n",
       "      <td>0.269839</td>\n",
       "      <td>-2.530187</td>\n",
       "      <td>56.069697</td>\n",
       "    </tr>\n",
       "    <tr>\n",
       "      <td>2</td>\n",
       "      <td>ovLUW</td>\n",
       "      <td>0.194587</td>\n",
       "      <td>0.289035</td>\n",
       "      <td>-5.586433</td>\n",
       "      <td>62.871910</td>\n",
       "    </tr>\n",
       "    <tr>\n",
       "      <td>3</td>\n",
       "      <td>q6cA6</td>\n",
       "      <td>2.236060</td>\n",
       "      <td>-0.553760</td>\n",
       "      <td>0.930038</td>\n",
       "      <td>114.572842</td>\n",
       "    </tr>\n",
       "    <tr>\n",
       "      <td>4</td>\n",
       "      <td>WPMUX</td>\n",
       "      <td>-0.515993</td>\n",
       "      <td>1.716266</td>\n",
       "      <td>5.899011</td>\n",
       "      <td>149.600746</td>\n",
       "    </tr>\n",
       "  </tbody>\n",
       "</table>\n",
       "</div>"
      ],
      "text/plain": [
       "      id        f0        f1        f2     product\n",
       "0  fwXo0 -1.146987  0.963328 -0.828965   27.758673\n",
       "1  WJtFt  0.262778  0.269839 -2.530187   56.069697\n",
       "2  ovLUW  0.194587  0.289035 -5.586433   62.871910\n",
       "3  q6cA6  2.236060 -0.553760  0.930038  114.572842\n",
       "4  WPMUX -0.515993  1.716266  5.899011  149.600746"
      ]
     },
     "execution_count": 6,
     "metadata": {},
     "output_type": "execute_result"
    }
   ],
   "source": [
    "df3.head(5)"
   ]
  },
  {
   "cell_type": "code",
   "execution_count": 7,
   "metadata": {},
   "outputs": [
    {
     "data": {
      "text/plain": [
       "(100000, 5)"
      ]
     },
     "execution_count": 7,
     "metadata": {},
     "output_type": "execute_result"
    }
   ],
   "source": [
    "df1.shape"
   ]
  },
  {
   "cell_type": "code",
   "execution_count": 8,
   "metadata": {},
   "outputs": [
    {
     "data": {
      "text/plain": [
       "(100000, 5)"
      ]
     },
     "execution_count": 8,
     "metadata": {},
     "output_type": "execute_result"
    }
   ],
   "source": [
    "df2.shape"
   ]
  },
  {
   "cell_type": "code",
   "execution_count": 9,
   "metadata": {},
   "outputs": [
    {
     "data": {
      "text/plain": [
       "(100000, 5)"
      ]
     },
     "execution_count": 9,
     "metadata": {},
     "output_type": "execute_result"
    }
   ],
   "source": [
    "df3.shape    "
   ]
  },
  {
   "cell_type": "code",
   "execution_count": 10,
   "metadata": {},
   "outputs": [
    {
     "data": {
      "text/plain": [
       "0"
      ]
     },
     "execution_count": 10,
     "metadata": {},
     "output_type": "execute_result"
    }
   ],
   "source": [
    "df1.isna().sum().sum()"
   ]
  },
  {
   "cell_type": "code",
   "execution_count": 11,
   "metadata": {},
   "outputs": [
    {
     "data": {
      "text/plain": [
       "0"
      ]
     },
     "execution_count": 11,
     "metadata": {},
     "output_type": "execute_result"
    }
   ],
   "source": [
    "df2.isna().sum().sum()"
   ]
  },
  {
   "cell_type": "code",
   "execution_count": 12,
   "metadata": {},
   "outputs": [
    {
     "data": {
      "text/plain": [
       "0"
      ]
     },
     "execution_count": 12,
     "metadata": {},
     "output_type": "execute_result"
    }
   ],
   "source": [
    "df3.isna().sum().sum()"
   ]
  },
  {
   "cell_type": "code",
   "execution_count": 13,
   "metadata": {},
   "outputs": [
    {
     "data": {
      "text/plain": [
       "0"
      ]
     },
     "execution_count": 13,
     "metadata": {},
     "output_type": "execute_result"
    }
   ],
   "source": [
    "df1.duplicated().sum()"
   ]
  },
  {
   "cell_type": "code",
   "execution_count": 14,
   "metadata": {},
   "outputs": [
    {
     "data": {
      "text/plain": [
       "0"
      ]
     },
     "execution_count": 14,
     "metadata": {},
     "output_type": "execute_result"
    }
   ],
   "source": [
    "df2.duplicated().sum()"
   ]
  },
  {
   "cell_type": "code",
   "execution_count": 15,
   "metadata": {},
   "outputs": [
    {
     "data": {
      "text/plain": [
       "0"
      ]
     },
     "execution_count": 15,
     "metadata": {},
     "output_type": "execute_result"
    }
   ],
   "source": [
    "df3.duplicated().sum()"
   ]
  },
  {
   "cell_type": "code",
   "execution_count": 16,
   "metadata": {},
   "outputs": [],
   "source": [
    "data1 = df1.drop('id', axis=1)"
   ]
  },
  {
   "cell_type": "code",
   "execution_count": 17,
   "metadata": {},
   "outputs": [
    {
     "data": {
      "text/html": [
       "<div>\n",
       "<style scoped>\n",
       "    .dataframe tbody tr th:only-of-type {\n",
       "        vertical-align: middle;\n",
       "    }\n",
       "\n",
       "    .dataframe tbody tr th {\n",
       "        vertical-align: top;\n",
       "    }\n",
       "\n",
       "    .dataframe thead th {\n",
       "        text-align: right;\n",
       "    }\n",
       "</style>\n",
       "<table border=\"1\" class=\"dataframe\">\n",
       "  <thead>\n",
       "    <tr style=\"text-align: right;\">\n",
       "      <th></th>\n",
       "      <th>f0</th>\n",
       "      <th>f1</th>\n",
       "      <th>f2</th>\n",
       "      <th>product</th>\n",
       "    </tr>\n",
       "  </thead>\n",
       "  <tbody>\n",
       "    <tr>\n",
       "      <td>count</td>\n",
       "      <td>100000.000000</td>\n",
       "      <td>100000.000000</td>\n",
       "      <td>100000.000000</td>\n",
       "      <td>100000.000000</td>\n",
       "    </tr>\n",
       "    <tr>\n",
       "      <td>mean</td>\n",
       "      <td>0.500419</td>\n",
       "      <td>0.250143</td>\n",
       "      <td>2.502647</td>\n",
       "      <td>92.500000</td>\n",
       "    </tr>\n",
       "    <tr>\n",
       "      <td>std</td>\n",
       "      <td>0.871832</td>\n",
       "      <td>0.504433</td>\n",
       "      <td>3.248248</td>\n",
       "      <td>44.288691</td>\n",
       "    </tr>\n",
       "    <tr>\n",
       "      <td>min</td>\n",
       "      <td>-1.408605</td>\n",
       "      <td>-0.848218</td>\n",
       "      <td>-12.088328</td>\n",
       "      <td>0.000000</td>\n",
       "    </tr>\n",
       "    <tr>\n",
       "      <td>25%</td>\n",
       "      <td>-0.072580</td>\n",
       "      <td>-0.200881</td>\n",
       "      <td>0.287748</td>\n",
       "      <td>56.497507</td>\n",
       "    </tr>\n",
       "    <tr>\n",
       "      <td>50%</td>\n",
       "      <td>0.502360</td>\n",
       "      <td>0.250252</td>\n",
       "      <td>2.515969</td>\n",
       "      <td>91.849972</td>\n",
       "    </tr>\n",
       "    <tr>\n",
       "      <td>75%</td>\n",
       "      <td>1.073581</td>\n",
       "      <td>0.700646</td>\n",
       "      <td>4.715088</td>\n",
       "      <td>128.564089</td>\n",
       "    </tr>\n",
       "    <tr>\n",
       "      <td>max</td>\n",
       "      <td>2.362331</td>\n",
       "      <td>1.343769</td>\n",
       "      <td>16.003790</td>\n",
       "      <td>185.364347</td>\n",
       "    </tr>\n",
       "  </tbody>\n",
       "</table>\n",
       "</div>"
      ],
      "text/plain": [
       "                  f0             f1             f2        product\n",
       "count  100000.000000  100000.000000  100000.000000  100000.000000\n",
       "mean        0.500419       0.250143       2.502647      92.500000\n",
       "std         0.871832       0.504433       3.248248      44.288691\n",
       "min        -1.408605      -0.848218     -12.088328       0.000000\n",
       "25%        -0.072580      -0.200881       0.287748      56.497507\n",
       "50%         0.502360       0.250252       2.515969      91.849972\n",
       "75%         1.073581       0.700646       4.715088     128.564089\n",
       "max         2.362331       1.343769      16.003790     185.364347"
      ]
     },
     "execution_count": 17,
     "metadata": {},
     "output_type": "execute_result"
    }
   ],
   "source": [
    "data1.describe()"
   ]
  },
  {
   "cell_type": "code",
   "execution_count": 18,
   "metadata": {},
   "outputs": [
    {
     "data": {
      "text/plain": [
       "<Figure size 432x288 with 0 Axes>"
      ]
     },
     "metadata": {},
     "output_type": "display_data"
    },
    {
     "data": {
      "image/png": "[encoded data removed]",
      "text/plain": [
       "<Figure size 432x288 with 1 Axes>"
      ]
     },
     "metadata": {
      "needs_background": "light"
     },
     "output_type": "display_data"
    },
    {
     "data": {
      "text/plain": [
       "<Figure size 432x288 with 0 Axes>"
      ]
     },
     "metadata": {},
     "output_type": "display_data"
    },
    {
     "data": {
      "image/png": "[encoded data removed]",
      "text/plain": [
       "<Figure size 432x288 with 1 Axes>"
      ]
     },
     "metadata": {
      "needs_background": "light"
     },
     "output_type": "display_data"
    },
    {
     "data": {
      "text/plain": [
       "<Figure size 432x288 with 0 Axes>"
      ]
     },
     "metadata": {},
     "output_type": "display_data"
    },
    {
     "data": {
      "image/png": "[encoded data removed]",
      "text/plain": [
       "<Figure size 432x288 with 1 Axes>"
      ]
     },
     "metadata": {
      "needs_background": "light"
     },
     "output_type": "display_data"
    },
    {
     "data": {
      "text/plain": [
       "<Figure size 432x288 with 0 Axes>"
      ]
     },
     "metadata": {},
     "output_type": "display_data"
    },
    {
     "data": {
      "image/png": "[encoded data removed]",
      "text/plain": [
       "<Figure size 432x288 with 1 Axes>"
      ]
     },
     "metadata": {
      "needs_background": "light"
     },
     "output_type": "display_data"
    }
   ],
   "source": [
    "for column in data1:\n",
    "    plt.figure()\n",
    "    data1.hist([column])"
   ]
  },
  {
   "cell_type": "code",
   "execution_count": 19,
   "metadata": {},
   "outputs": [],
   "source": [
    "data2 = df2.drop('id', axis=1)"
   ]
  },
  {
   "cell_type": "code",
   "execution_count": 20,
   "metadata": {},
   "outputs": [
    {
     "data": {
      "text/html": [
       "<div>\n",
       "<style scoped>\n",
       "    .dataframe tbody tr th:only-of-type {\n",
       "        vertical-align: middle;\n",
       "    }\n",
       "\n",
       "    .dataframe tbody tr th {\n",
       "        vertical-align: top;\n",
       "    }\n",
       "\n",
       "    .dataframe thead th {\n",
       "        text-align: right;\n",
       "    }\n",
       "</style>\n",
       "<table border=\"1\" class=\"dataframe\">\n",
       "  <thead>\n",
       "    <tr style=\"text-align: right;\">\n",
       "      <th></th>\n",
       "      <th>f0</th>\n",
       "      <th>f1</th>\n",
       "      <th>f2</th>\n",
       "      <th>product</th>\n",
       "    </tr>\n",
       "  </thead>\n",
       "  <tbody>\n",
       "    <tr>\n",
       "      <td>count</td>\n",
       "      <td>100000.000000</td>\n",
       "      <td>100000.000000</td>\n",
       "      <td>100000.000000</td>\n",
       "      <td>100000.000000</td>\n",
       "    </tr>\n",
       "    <tr>\n",
       "      <td>mean</td>\n",
       "      <td>1.141296</td>\n",
       "      <td>-4.796579</td>\n",
       "      <td>2.494541</td>\n",
       "      <td>68.825000</td>\n",
       "    </tr>\n",
       "    <tr>\n",
       "      <td>std</td>\n",
       "      <td>8.965932</td>\n",
       "      <td>5.119872</td>\n",
       "      <td>1.703572</td>\n",
       "      <td>45.944423</td>\n",
       "    </tr>\n",
       "    <tr>\n",
       "      <td>min</td>\n",
       "      <td>-31.609576</td>\n",
       "      <td>-26.358598</td>\n",
       "      <td>-0.018144</td>\n",
       "      <td>0.000000</td>\n",
       "    </tr>\n",
       "    <tr>\n",
       "      <td>25%</td>\n",
       "      <td>-6.298551</td>\n",
       "      <td>-8.267985</td>\n",
       "      <td>1.000021</td>\n",
       "      <td>26.953261</td>\n",
       "    </tr>\n",
       "    <tr>\n",
       "      <td>50%</td>\n",
       "      <td>1.153055</td>\n",
       "      <td>-4.813172</td>\n",
       "      <td>2.011479</td>\n",
       "      <td>57.085625</td>\n",
       "    </tr>\n",
       "    <tr>\n",
       "      <td>75%</td>\n",
       "      <td>8.621015</td>\n",
       "      <td>-1.332816</td>\n",
       "      <td>3.999904</td>\n",
       "      <td>107.813044</td>\n",
       "    </tr>\n",
       "    <tr>\n",
       "      <td>max</td>\n",
       "      <td>29.421755</td>\n",
       "      <td>18.734063</td>\n",
       "      <td>5.019721</td>\n",
       "      <td>137.945408</td>\n",
       "    </tr>\n",
       "  </tbody>\n",
       "</table>\n",
       "</div>"
      ],
      "text/plain": [
       "                  f0             f1             f2        product\n",
       "count  100000.000000  100000.000000  100000.000000  100000.000000\n",
       "mean        1.141296      -4.796579       2.494541      68.825000\n",
       "std         8.965932       5.119872       1.703572      45.944423\n",
       "min       -31.609576     -26.358598      -0.018144       0.000000\n",
       "25%        -6.298551      -8.267985       1.000021      26.953261\n",
       "50%         1.153055      -4.813172       2.011479      57.085625\n",
       "75%         8.621015      -1.332816       3.999904     107.813044\n",
       "max        29.421755      18.734063       5.019721     137.945408"
      ]
     },
     "execution_count": 20,
     "metadata": {},
     "output_type": "execute_result"
    }
   ],
   "source": [
    "data2.describe()"
   ]
  },
  {
   "cell_type": "code",
   "execution_count": 21,
   "metadata": {},
   "outputs": [
    {
     "data": {
      "text/plain": [
       "<Figure size 432x288 with 0 Axes>"
      ]
     },
     "metadata": {},
     "output_type": "display_data"
    },
    {
     "data": {
      "image/png": "[encoded data removed]",
      "text/plain": [
       "<Figure size 432x288 with 1 Axes>"
      ]
     },
     "metadata": {
      "needs_background": "light"
     },
     "output_type": "display_data"
    },
    {
     "data": {
      "text/plain": [
       "<Figure size 432x288 with 0 Axes>"
      ]
     },
     "metadata": {},
     "output_type": "display_data"
    },
    {
     "data": {
      "image/png": "[encoded data removed]",
      "text/plain": [
       "<Figure size 432x288 with 1 Axes>"
      ]
     },
     "metadata": {
      "needs_background": "light"
     },
     "output_type": "display_data"
    },
    {
     "data": {
      "text/plain": [
       "<Figure size 432x288 with 0 Axes>"
      ]
     },
     "metadata": {},
     "output_type": "display_data"
    },
    {
     "data": {
      "image/png": "[encoded data removed]",
      "text/plain": [
       "<Figure size 432x288 with 1 Axes>"
      ]
     },
     "metadata": {
      "needs_background": "light"
     },
     "output_type": "display_data"
    },
    {
     "data": {
      "text/plain": [
       "<Figure size 432x288 with 0 Axes>"
      ]
     },
     "metadata": {},
     "output_type": "display_data"
    },
    {
     "data": {
      "image/png": "[encoded data removed]",
      "text/plain": [
       "<Figure size 432x288 with 1 Axes>"
      ]
     },
     "metadata": {
      "needs_background": "light"
     },
     "output_type": "display_data"
    }
   ],
   "source": [
    "for column in data2:\n",
    "    plt.figure()\n",
    "    data2.hist([column])"
   ]
  },
  {
   "cell_type": "code",
   "execution_count": 22,
   "metadata": {},
   "outputs": [],
   "source": [
    "data3 = df3.drop('id', axis=1)"
   ]
  },
  {
   "cell_type": "code",
   "execution_count": 23,
   "metadata": {},
   "outputs": [
    {
     "data": {
      "text/html": [
       "<div>\n",
       "<style scoped>\n",
       "    .dataframe tbody tr th:only-of-type {\n",
       "        vertical-align: middle;\n",
       "    }\n",
       "\n",
       "    .dataframe tbody tr th {\n",
       "        vertical-align: top;\n",
       "    }\n",
       "\n",
       "    .dataframe thead th {\n",
       "        text-align: right;\n",
       "    }\n",
       "</style>\n",
       "<table border=\"1\" class=\"dataframe\">\n",
       "  <thead>\n",
       "    <tr style=\"text-align: right;\">\n",
       "      <th></th>\n",
       "      <th>f0</th>\n",
       "      <th>f1</th>\n",
       "      <th>f2</th>\n",
       "      <th>product</th>\n",
       "    </tr>\n",
       "  </thead>\n",
       "  <tbody>\n",
       "    <tr>\n",
       "      <td>count</td>\n",
       "      <td>100000.000000</td>\n",
       "      <td>100000.000000</td>\n",
       "      <td>100000.000000</td>\n",
       "      <td>100000.000000</td>\n",
       "    </tr>\n",
       "    <tr>\n",
       "      <td>mean</td>\n",
       "      <td>0.002023</td>\n",
       "      <td>-0.002081</td>\n",
       "      <td>2.495128</td>\n",
       "      <td>95.000000</td>\n",
       "    </tr>\n",
       "    <tr>\n",
       "      <td>std</td>\n",
       "      <td>1.732045</td>\n",
       "      <td>1.730417</td>\n",
       "      <td>3.473445</td>\n",
       "      <td>44.749921</td>\n",
       "    </tr>\n",
       "    <tr>\n",
       "      <td>min</td>\n",
       "      <td>-8.760004</td>\n",
       "      <td>-7.084020</td>\n",
       "      <td>-11.970335</td>\n",
       "      <td>0.000000</td>\n",
       "    </tr>\n",
       "    <tr>\n",
       "      <td>25%</td>\n",
       "      <td>-1.162288</td>\n",
       "      <td>-1.174820</td>\n",
       "      <td>0.130359</td>\n",
       "      <td>59.450441</td>\n",
       "    </tr>\n",
       "    <tr>\n",
       "      <td>50%</td>\n",
       "      <td>0.009424</td>\n",
       "      <td>-0.009482</td>\n",
       "      <td>2.484236</td>\n",
       "      <td>94.925613</td>\n",
       "    </tr>\n",
       "    <tr>\n",
       "      <td>75%</td>\n",
       "      <td>1.158535</td>\n",
       "      <td>1.163678</td>\n",
       "      <td>4.858794</td>\n",
       "      <td>130.595027</td>\n",
       "    </tr>\n",
       "    <tr>\n",
       "      <td>max</td>\n",
       "      <td>7.238262</td>\n",
       "      <td>7.844801</td>\n",
       "      <td>16.739402</td>\n",
       "      <td>190.029838</td>\n",
       "    </tr>\n",
       "  </tbody>\n",
       "</table>\n",
       "</div>"
      ],
      "text/plain": [
       "                  f0             f1             f2        product\n",
       "count  100000.000000  100000.000000  100000.000000  100000.000000\n",
       "mean        0.002023      -0.002081       2.495128      95.000000\n",
       "std         1.732045       1.730417       3.473445      44.749921\n",
       "min        -8.760004      -7.084020     -11.970335       0.000000\n",
       "25%        -1.162288      -1.174820       0.130359      59.450441\n",
       "50%         0.009424      -0.009482       2.484236      94.925613\n",
       "75%         1.158535       1.163678       4.858794     130.595027\n",
       "max         7.238262       7.844801      16.739402     190.029838"
      ]
     },
     "execution_count": 23,
     "metadata": {},
     "output_type": "execute_result"
    }
   ],
   "source": [
    "data3.describe()"
   ]
  },
  {
   "cell_type": "code",
   "execution_count": 24,
   "metadata": {},
   "outputs": [
    {
     "data": {
      "text/plain": [
       "<Figure size 432x288 with 0 Axes>"
      ]
     },
     "metadata": {},
     "output_type": "display_data"
    },
    {
     "data": {
      "image/png": "[encoded data removed]",
      "text/plain": [
       "<Figure size 432x288 with 1 Axes>"
      ]
     },
     "metadata": {
      "needs_background": "light"
     },
     "output_type": "display_data"
    },
    {
     "data": {
      "text/plain": [
       "<Figure size 432x288 with 0 Axes>"
      ]
     },
     "metadata": {},
     "output_type": "display_data"
    },
    {
     "data": {
      "image/png": "[encoded data removed]",
      "text/plain": [
       "<Figure size 432x288 with 1 Axes>"
      ]
     },
     "metadata": {
      "needs_background": "light"
     },
     "output_type": "display_data"
    },
    {
     "data": {
      "text/plain": [
       "<Figure size 432x288 with 0 Axes>"
      ]
     },
     "metadata": {},
     "output_type": "display_data"
    },
    {
     "data": {
      "image/png": "[encoded data removed]",
      "text/plain": [
       "<Figure size 432x288 with 1 Axes>"
      ]
     },
     "metadata": {
      "needs_background": "light"
     },
     "output_type": "display_data"
    },
    {
     "data": {
      "text/plain": [
       "<Figure size 432x288 with 0 Axes>"
      ]
     },
     "metadata": {},
     "output_type": "display_data"
    },
    {
     "data": {
      "image/png": "[encoded data removed]",
      "text/plain": [
       "<Figure size 432x288 with 1 Axes>"
      ]
     },
     "metadata": {
      "needs_background": "light"
     },
     "output_type": "display_data"
    }
   ],
   "source": [
    "for column in data3:\n",
    "    plt.figure()\n",
    "    data3.hist([column])"
   ]
  },
  {
   "cell_type": "code",
   "execution_count": 25,
   "metadata": {},
   "outputs": [],
   "source": [
    "#plt.matshow(data1.corr())\n",
    "#plt.show()\n"
   ]
  },
  {
   "cell_type": "code",
   "execution_count": 26,
   "metadata": {},
   "outputs": [],
   "source": [
    "#plt.hist(data3['product'], alpha = 0.3 )"
   ]
  },
  {
   "cell_type": "markdown",
   "metadata": {},
   "source": [
    "ВЫВОД:\n",
    "\n",
    "   \n",
    "Результаты первичной обработки:\n",
    "\n",
    "Пропуски - отсутствуют\n",
    "\n",
    "Типы столбцов - корректны\n",
    "\n",
    "Названия столбцов - корректны\n",
    "\n",
    "Дубликаты - отсутствуют\n",
    "\n",
    "Объем запасов - положительный\n",
    "\n",
    "Удален столбец id, т.к. не несет информации для обучения модели"
   ]
  },
  {
   "cell_type": "markdown",
   "metadata": {},
   "source": [
    "## Обучение и проверка модели"
   ]
  },
  {
   "cell_type": "markdown",
   "metadata": {},
   "source": [
    "### Разделим выборки"
   ]
  },
  {
   "cell_type": "code",
   "execution_count": 27,
   "metadata": {},
   "outputs": [],
   "source": [
    "train_1, valid_1 = train_test_split(data1, test_size=0.25, random_state=12345)\n",
    "train_2, valid_2 = train_test_split(data2, test_size=0.25, random_state=12345)\n",
    "train_3, valid_3 = train_test_split(data3, test_size=0.25, random_state=12345)"
   ]
  },
  {
   "cell_type": "code",
   "execution_count": 28,
   "metadata": {},
   "outputs": [
    {
     "name": "stdout",
     "output_type": "stream",
     "text": [
      "(75000, 4) (25000, 4)\n",
      "(75000, 4) (25000, 4)\n",
      "(75000, 4) (25000, 4)\n"
     ]
    }
   ],
   "source": [
    "print(train_1.shape, valid_1.shape)\n",
    "print(train_2.shape, valid_2.shape)\n",
    "print(train_3.shape, valid_3.shape)"
   ]
  },
  {
   "cell_type": "markdown",
   "metadata": {},
   "source": [
    "### Разделим каждую выборку на features - признаки и target — целевой признак"
   ]
  },
  {
   "cell_type": "code",
   "execution_count": 29,
   "metadata": {},
   "outputs": [],
   "source": [
    "features1 = data1.drop(['product'], axis=1)\n",
    "target1 = data1['product']\n",
    "\n",
    "features2 = data2.drop(['product'], axis=1)\n",
    "target2 = data2['product']\n",
    "\n",
    "features3 = data3.drop(['product'], axis=1)\n",
    "target3 = data3['product']"
   ]
  },
  {
   "cell_type": "code",
   "execution_count": 30,
   "metadata": {},
   "outputs": [],
   "source": [
    "train_features_1, features_valid_1, train_target_1, target_valid_1 = train_test_split(\n",
    "    features1, target1, test_size=0.25, random_state=12345)\n"
   ]
  },
  {
   "cell_type": "code",
   "execution_count": 31,
   "metadata": {},
   "outputs": [],
   "source": [
    "train_features_2, features_valid_2, train_target_2, target_valid_2 = train_test_split(\n",
    "    features2, target2, test_size=0.25, random_state=12345)"
   ]
  },
  {
   "cell_type": "code",
   "execution_count": 32,
   "metadata": {},
   "outputs": [],
   "source": [
    "train_features_3, features_valid_3, train_target_3, target_valid_3 = train_test_split(\n",
    "    features3, target3, test_size=0.25, random_state=12345)"
   ]
  },
  {
   "cell_type": "code",
   "execution_count": 33,
   "metadata": {},
   "outputs": [],
   "source": [
    "scaler = StandardScaler()\n",
    "scaler.fit(train_features_1)\n",
    "#data1 = scaler.transform(data1)\n",
    "features_train_scaled1 = scaler.transform(train_features_1)\n",
    "features_valid_scaled1 = scaler.transform(features_valid_1)"
   ]
  },
  {
   "cell_type": "code",
   "execution_count": 34,
   "metadata": {},
   "outputs": [
    {
     "name": "stdout",
     "output_type": "stream",
     "text": [
      "Cредний запас сырья в регионе тыс. баррелей 92.50000000000001\n",
      "RMSE модели 37.58\n"
     ]
    }
   ],
   "source": [
    "model1 = LinearRegression().fit(features_train_scaled1, train_target_1)\n",
    "predicted_valid_1 = model1.predict(features_valid_scaled1) \n",
    "mse_1 = mean_squared_error(target_valid_1, predicted_valid_1)\n",
    "rmse_1 = mse_1 ** 0.5\n",
    "print('Cредний запас сырья в регионе тыс. баррелей', df1['product'].mean())\n",
    "print('RMSE модели {:.2f}'.format(rmse_1))"
   ]
  },
  {
   "cell_type": "code",
   "execution_count": 35,
   "metadata": {},
   "outputs": [],
   "source": [
    "scaler = StandardScaler()\n",
    "scaler.fit(train_features_2)\n",
    "features_train_scaled2 = scaler.transform(train_features_2)\n",
    "features_valid_scaled2 = scaler.transform(features_valid_2)"
   ]
  },
  {
   "cell_type": "code",
   "execution_count": 36,
   "metadata": {},
   "outputs": [
    {
     "name": "stdout",
     "output_type": "stream",
     "text": [
      "Cредний запас сырья в регионе тыс. баррелей 68.82500000000002\n",
      "RMSE модели 0.89\n"
     ]
    }
   ],
   "source": [
    "model2 = LinearRegression().fit(features_train_scaled2, train_target_2)\n",
    "predicted_valid_2 = model2.predict(features_valid_scaled2) \n",
    "mse_2 = mean_squared_error(target_valid_2, predicted_valid_2)\n",
    "rmse_2 = mse_2 ** 0.5\n",
    "print('Cредний запас сырья в регионе тыс. баррелей', df2['product'].mean())\n",
    "print('RMSE модели {:.2f}'.format(rmse_2))"
   ]
  },
  {
   "cell_type": "code",
   "execution_count": 37,
   "metadata": {},
   "outputs": [],
   "source": [
    "scaler = StandardScaler()\n",
    "scaler.fit(train_features_3)\n",
    "features_train_scaled3 = scaler.transform(train_features_3)\n",
    "features_valid_scaled3 = scaler.transform(features_valid_3)"
   ]
  },
  {
   "cell_type": "code",
   "execution_count": 38,
   "metadata": {},
   "outputs": [
    {
     "name": "stdout",
     "output_type": "stream",
     "text": [
      "Cредний запас сырья в регионе тыс. баррелей 95.00000000000004\n",
      "RMSE модели 40.03\n"
     ]
    }
   ],
   "source": [
    "model3 = LinearRegression().fit(features_train_scaled3, train_target_3)\n",
    "predicted_valid_3 = model3.predict(features_valid_scaled3) \n",
    "mse_3 = mean_squared_error(target_valid_3, predicted_valid_3)\n",
    "rmse_3 = mse_3 ** 0.5\n",
    "print('Cредний запас сырья в регионе тыс. баррелей', df3['product'].mean())\n",
    "print('RMSE модели {:.2f}'.format(rmse_3))"
   ]
  },
  {
   "cell_type": "markdown",
   "metadata": {},
   "source": [
    "Вывод:\n",
    "    \n",
    "    "
   ]
  },
  {
   "cell_type": "markdown",
   "metadata": {},
   "source": [
    "После обучения модели Линейнойрегресси в трех регионах полакало, что во втором регионе лучшая RMSE, модель предсказывает наличие запасов с точностью 0.89 тыс. бареллей, в тоже время там самый низкий средний показатель остатков запасов."
   ]
  },
  {
   "cell_type": "markdown",
   "metadata": {},
   "source": [
    "## Подготовка к расчёту прибыли"
   ]
  },
  {
   "cell_type": "code",
   "execution_count": 39,
   "metadata": {},
   "outputs": [],
   "source": [
    "# Сбросим индексы целевого признака в валидационной выборке для каждого региона:\n",
    "valid_1=target_valid_1.reset_index(drop=True, inplace=True)\n",
    "valid_2=target_valid_2.reset_index(drop=True, inplace=True)\n",
    "valid_3=target_valid_3.reset_index(drop=True, inplace=True)\n",
    "\n",
    "# Переведем предсказания в валидационной выборке в pd.Series:\n",
    "predicted_valid_1 = pd.Series(predicted_valid_1)\n",
    "predicted_valid_2 = pd.Series(predicted_valid_2)\n",
    "predicted_valid_3 = pd.Series(predicted_valid_3)"
   ]
  },
  {
   "cell_type": "markdown",
   "metadata": {},
   "source": [
    "Чтобы рассчитать минимальный средний объём сырья в месторождениях региона, достаточный для его разработки, необходимо провести рассчеты:\n",
    "\n",
    "Операционная прибыль = Валовая прибыль - Операционные расходы(себестоимость добычи, зарплаты, аренда и пр. связанное с деятельность по добычи)\n",
    "Один баррель сырья приносит 4500 рублей прибыли.\n",
    "Бюджет на разработку месторождений — 10 млрд рублей, стоимость бурения одной скважины — 50 млн рублей.\n",
    "Минимальный средний объём сырья в месторождениях региона, достаточный для его разработки - объем баррелей в скважине, при котором операционная прибыль = 0"
   ]
  },
  {
   "cell_type": "code",
   "execution_count": 40,
   "metadata": {},
   "outputs": [
    {
     "name": "stdout",
     "output_type": "stream",
     "text": [
      "Точка безубыточности: 22222 тыс. баррелей\n"
     ]
    }
   ],
   "source": [
    "#x = 50000000 / 4500 / 1000\n",
    "#print('Минимальный средний объём сырья {:.3f} тыс.баррелей', x)\n",
    "\n",
    "budget = 10**10 \n",
    "income_per_barrel = 450 * 10**3\n",
    "n = budget / income_per_barrel\n",
    "print(\"Точка безубыточности: {0:.0f} тыс. баррелей\".format(n))"
   ]
  },
  {
   "cell_type": "code",
   "execution_count": 41,
   "metadata": {},
   "outputs": [
    {
     "name": "stdout",
     "output_type": "stream",
     "text": [
      "Средний объем нефти в скважине для безубыточного функционирования: 112.0\n"
     ]
    }
   ],
   "source": [
    "print(\"Средний объем нефти в скважине для безубыточного функционирования:\", np.ceil(n/200))"
   ]
  },
  {
   "cell_type": "markdown",
   "metadata": {},
   "source": [
    "Напишем функцию для расчёта прибыли по набору отобранных месторождений и предсказаний модели distribution_revenue, принимающая на вход предсказания, истинные значения целевого признака и количество скважин и считающая общую прибыль в млрд.руб в регионе:"
   ]
  },
  {
   "cell_type": "code",
   "execution_count": 42,
   "metadata": {},
   "outputs": [],
   "source": [
    "def profit_1(predictions, target):\n",
    "    top_preds = predictions.sort_values(ascending=False)\n",
    "    top_target = target[top_preds.index][:200]\n",
    "    revenue = top_target.sum() * income_per_barrel\n",
    "    return revenue - budget"
   ]
  },
  {
   "cell_type": "markdown",
   "metadata": {},
   "source": [
    "## Расчёт прибыли и рисков "
   ]
  },
  {
   "cell_type": "code",
   "execution_count": 43,
   "metadata": {},
   "outputs": [],
   "source": [
    "state = np.random.RandomState(12345)\n",
    "\n",
    "def distribution_revenue(probabilities,target):\n",
    "    revenue = []\n",
    "    for i in range(1000):\n",
    "        target_subsample = target.sample(n=500, replace=True, random_state=state)\n",
    "        probs_subsample = probabilities[target_subsample.index]\n",
    "        revenue.append(profit_1(probs_subsample, target_subsample))\n",
    "\n",
    "    revenue = pd.Series(revenue)\n",
    "    mean = revenue.mean()\n",
    "    print('Средняя прибыль {} млрд.руб.'.format(mean))\n",
    "    \n",
    "    lower = np.quantile(revenue, 0.025)\n",
    "    upper = np.quantile(revenue, 0.975)\n",
    "    print('95%-й доверительный интервал {} - {} млрд.руб.'.format(lower, upper))\n",
    "    \n",
    "    loss_risk = st.percentileofscore(revenue, 0)\n",
    "    print('Риск убытков {} %'.format(loss_risk))\n",
    "    return\n"
   ]
  },
  {
   "cell_type": "code",
   "execution_count": 44,
   "metadata": {},
   "outputs": [
    {
     "name": "stdout",
     "output_type": "stream",
     "text": [
      "Средняя прибыль 425938526.9105923 млрд.руб.\n",
      "95%-й доверительный интервал -102090094.83793654 - 947976353.358369 млрд.руб.\n",
      "Риск убытков 6.0 %\n"
     ]
    }
   ],
   "source": [
    "distribution_revenue(predicted_valid_1,target_valid_1)"
   ]
  },
  {
   "cell_type": "code",
   "execution_count": 47,
   "metadata": {},
   "outputs": [
    {
     "name": "stdout",
     "output_type": "stream",
     "text": [
      "Средняя прибыль 511289691.3937345 млрд.руб.\n",
      "95%-й доверительный интервал 104449974.93630745 - 949374063.4377563 млрд.руб.\n",
      "Риск убытков 1.2 %\n"
     ]
    }
   ],
   "source": [
    "distribution_revenue(predicted_valid_2,target_valid_2)"
   ]
  },
  {
   "cell_type": "code",
   "execution_count": 48,
   "metadata": {},
   "outputs": [
    {
     "name": "stdout",
     "output_type": "stream",
     "text": [
      "Средняя прибыль 421354856.0077551 млрд.руб.\n",
      "95%-й доверительный интервал -112733613.64124078 - 993287806.0494142 млрд.руб.\n",
      "Риск убытков 6.6 %\n"
     ]
    }
   ],
   "source": [
    "distribution_revenue(predicted_valid_3, target_valid_3)"
   ]
  },
  {
   "cell_type": "markdown",
   "metadata": {},
   "source": [
    "Полученные данные показывают:\n",
    "\n",
    "при Bootstrap с 1000 выборок, распределение средних прибылей стремиться к нормальному со средним в районе 104 млрд. для регионов 1 и 3, и в районе 105 млрд. для региона 1. Что предполагает такое же среднее в генеральной совокупности для данной модели и региона.\n",
    "95% доверительный интервал только для региона 2 выше 100 млрд.рублей, операционная прибыль меньше 10 млрд. ни в одном из регионов.\n",
    "Риски получения убытков отстутствуют во всех 3 регионах.\n",
    "Наиболее предпочтительным регионом для бурения скважин по доверительному интервалу и среднему - Регион 2."
   ]
  },
  {
   "cell_type": "markdown",
   "metadata": {},
   "source": [
    "Общий вывод:\n",
    "\n",
    "\n",
    "Обучение модели Линейная регрессия в 3 регионах показала, что в регионе 2 лучшая RMSE, модель предсказывает наличие запасов нефти с точность до 0.9 тыс.баррелей, в то время как в регионе 1 и 3 достигается разброс около 40 тыс.баррелей.\n",
    "В общем все регионы подходят по среднему количеству баррелей в скважинах\n",
    "Однако, на случайной выборке из 1000 повторений модель предсказывает среднюю прибыль и 95%-й доверительный интервал операционного дохода лучше в Регионе 2.\n",
    "Следовательно, чтобы получить максимальную прибыль при минимальных рисках необходимо использовать Регион 2 для добычи сырья, т.к. статистически это лучший регион по заданным входным данным."
   ]
  },
  {
   "cell_type": "code",
   "execution_count": null,
   "metadata": {},
   "outputs": [],
   "source": []
  },
  {
   "cell_type": "markdown",
   "metadata": {},
   "source": [
    "## Чек-лист готовности проекта"
   ]
  },
  {
   "cell_type": "markdown",
   "metadata": {},
   "source": [
    "Поставьте 'x' в выполненных пунктах. Далее нажмите Shift+Enter."
   ]
  },
  {
   "cell_type": "markdown",
   "metadata": {},
   "source": [
    "- [x]  Jupyter Notebook открыт\n",
    "- [ ]  Весь код выполняется без ошибок\n",
    "- [ ]  Ячейки с кодом расположены в порядке исполнения\n",
    "- [ ]  Выполнен шаг 1: данные подготовлены\n",
    "- [ ]  Выполнен шаг 2: модели обучены и проверены\n",
    "    - [ ]  Данные корректно разбиты на обучающую и валидационную выборки\n",
    "    - [ ]  Модели обучены, предсказания сделаны\n",
    "    - [ ]  Предсказания и правильные ответы на валидационной выборке сохранены\n",
    "    - [ ]  На экране напечатаны результаты\n",
    "    - [ ]  Сделаны выводы\n",
    "- [ ]  Выполнен шаг 3: проведена подготовка к расчёту прибыли\n",
    "    - [ ]  Для всех ключевых значений созданы константы Python\n",
    "    - [ ]  Посчитано минимальное среднее количество продукта в месторождениях региона, достаточное для разработки\n",
    "    - [ ]  По предыдущему пункту сделаны выводы\n",
    "    - [ ]  Написана функция расчёта прибыли\n",
    "- [ ]  Выполнен шаг 4: посчитаны риски и прибыль\n",
    "    - [ ]  Проведена процедура *Bootstrap*\n",
    "    - [ ]  Все параметры бутстрепа соответствуют условию\n",
    "    - [ ]  Найдены все нужные величины\n",
    "    - [ ]  Предложен регион для разработки месторождения\n",
    "    - [ ]  Выбор региона обоснован"
   ]
  },
  {
   "cell_type": "code",
   "execution_count": null,
   "metadata": {},
   "outputs": [],
   "source": []
  }
 ],
 "metadata": {
  "ExecuteTimeLog": [
   {
    "duration": 1482,
    "start_time": "2021-09-19T14:14:41.041Z"
   },
   {
    "duration": 5,
    "start_time": "2021-09-19T14:14:53.294Z"
   },
   {
    "duration": 105,
    "start_time": "2021-09-19T14:17:47.371Z"
   },
   {
    "duration": 171,
    "start_time": "2021-09-19T14:18:11.522Z"
   },
   {
    "duration": 510,
    "start_time": "2021-09-19T14:19:30.594Z"
   },
   {
    "duration": 17,
    "start_time": "2021-09-19T14:20:02.594Z"
   },
   {
    "duration": 13,
    "start_time": "2021-09-19T14:20:05.362Z"
   },
   {
    "duration": 13,
    "start_time": "2021-09-19T14:20:08.234Z"
   },
   {
    "duration": 432,
    "start_time": "2021-09-19T14:25:21.788Z"
   },
   {
    "duration": 5,
    "start_time": "2021-09-19T14:25:26.941Z"
   },
   {
    "duration": 6,
    "start_time": "2021-09-19T14:25:55.084Z"
   },
   {
    "duration": 5,
    "start_time": "2021-09-19T14:25:56.196Z"
   },
   {
    "duration": 21,
    "start_time": "2021-09-19T14:26:39.758Z"
   },
   {
    "duration": 15,
    "start_time": "2021-09-19T14:26:52.215Z"
   },
   {
    "duration": 15,
    "start_time": "2021-09-19T14:27:05.878Z"
   },
   {
    "duration": 12,
    "start_time": "2021-09-19T14:27:07.502Z"
   },
   {
    "duration": 265,
    "start_time": "2021-09-19T14:27:48.975Z"
   },
   {
    "duration": 80,
    "start_time": "2021-09-19T14:28:01.601Z"
   },
   {
    "duration": 60,
    "start_time": "2021-09-19T14:28:13.464Z"
   },
   {
    "duration": 78,
    "start_time": "2021-09-19T14:28:15.646Z"
   },
   {
    "duration": 1507,
    "start_time": "2021-09-21T16:50:50.679Z"
   },
   {
    "duration": 499,
    "start_time": "2021-09-21T16:50:52.189Z"
   },
   {
    "duration": 18,
    "start_time": "2021-09-21T16:50:52.691Z"
   },
   {
    "duration": 28,
    "start_time": "2021-09-21T16:50:52.712Z"
   },
   {
    "duration": 28,
    "start_time": "2021-09-21T16:50:52.743Z"
   },
   {
    "duration": 8,
    "start_time": "2021-09-21T16:50:52.773Z"
   },
   {
    "duration": 8,
    "start_time": "2021-09-21T16:50:52.783Z"
   },
   {
    "duration": 13,
    "start_time": "2021-09-21T16:50:52.794Z"
   },
   {
    "duration": 60,
    "start_time": "2021-09-21T16:50:52.809Z"
   },
   {
    "duration": 13,
    "start_time": "2021-09-21T16:50:52.871Z"
   },
   {
    "duration": 17,
    "start_time": "2021-09-21T16:50:52.887Z"
   },
   {
    "duration": 110,
    "start_time": "2021-09-21T16:50:52.907Z"
   },
   {
    "duration": 84,
    "start_time": "2021-09-21T16:50:53.020Z"
   },
   {
    "duration": 96,
    "start_time": "2021-09-21T16:50:53.106Z"
   },
   {
    "duration": 454,
    "start_time": "2021-09-21T16:51:06.673Z"
   },
   {
    "duration": 21,
    "start_time": "2021-09-21T16:51:20.377Z"
   },
   {
    "duration": 298,
    "start_time": "2021-09-21T16:54:57.405Z"
   },
   {
    "duration": 5,
    "start_time": "2021-09-21T16:55:28.829Z"
   },
   {
    "duration": 391,
    "start_time": "2021-09-21T16:55:45.085Z"
   },
   {
    "duration": 324,
    "start_time": "2021-09-21T16:55:53.126Z"
   },
   {
    "duration": 2701,
    "start_time": "2021-09-21T16:56:33.398Z"
   },
   {
    "duration": 247,
    "start_time": "2021-09-21T16:57:37.791Z"
   },
   {
    "duration": 313,
    "start_time": "2021-09-21T16:57:46.053Z"
   },
   {
    "duration": 292,
    "start_time": "2021-09-21T16:57:55.198Z"
   },
   {
    "duration": 3151,
    "start_time": "2021-09-21T17:01:58.721Z"
   },
   {
    "duration": 269,
    "start_time": "2021-09-21T17:02:20.145Z"
   },
   {
    "duration": 286,
    "start_time": "2021-09-21T17:02:52.673Z"
   },
   {
    "duration": 293,
    "start_time": "2021-09-21T17:03:50.347Z"
   },
   {
    "duration": 523,
    "start_time": "2021-09-21T17:03:59.547Z"
   },
   {
    "duration": 1709,
    "start_time": "2021-09-21T17:04:38.691Z"
   },
   {
    "duration": 636,
    "start_time": "2021-09-21T17:05:11.164Z"
   },
   {
    "duration": 4,
    "start_time": "2021-09-21T17:06:14.413Z"
   },
   {
    "duration": 7,
    "start_time": "2021-09-21T17:06:24.246Z"
   },
   {
    "duration": 334,
    "start_time": "2021-09-21T17:06:35.515Z"
   },
   {
    "duration": 297,
    "start_time": "2021-09-21T17:07:30.870Z"
   },
   {
    "duration": 287,
    "start_time": "2021-09-21T17:08:16.111Z"
   },
   {
    "duration": 5,
    "start_time": "2021-09-21T17:08:29.658Z"
   },
   {
    "duration": 493,
    "start_time": "2021-09-21T17:08:29.666Z"
   },
   {
    "duration": 14,
    "start_time": "2021-09-21T17:08:30.164Z"
   },
   {
    "duration": 17,
    "start_time": "2021-09-21T17:08:30.181Z"
   },
   {
    "duration": 16,
    "start_time": "2021-09-21T17:08:30.201Z"
   },
   {
    "duration": 45,
    "start_time": "2021-09-21T17:08:30.220Z"
   },
   {
    "duration": 14,
    "start_time": "2021-09-21T17:08:30.268Z"
   },
   {
    "duration": 9,
    "start_time": "2021-09-21T17:08:30.285Z"
   },
   {
    "duration": 14,
    "start_time": "2021-09-21T17:08:30.300Z"
   },
   {
    "duration": 53,
    "start_time": "2021-09-21T17:08:30.318Z"
   },
   {
    "duration": 35,
    "start_time": "2021-09-21T17:08:30.374Z"
   },
   {
    "duration": 101,
    "start_time": "2021-09-21T17:08:30.412Z"
   },
   {
    "duration": 96,
    "start_time": "2021-09-21T17:08:30.516Z"
   },
   {
    "duration": 106,
    "start_time": "2021-09-21T17:08:30.615Z"
   },
   {
    "duration": 314,
    "start_time": "2021-09-21T17:08:30.723Z"
   },
   {
    "duration": 107,
    "start_time": "2021-09-21T17:08:30.933Z"
   },
   {
    "duration": 102,
    "start_time": "2021-09-21T17:08:30.940Z"
   },
   {
    "duration": 17,
    "start_time": "2021-09-21T17:08:45.941Z"
   },
   {
    "duration": 6,
    "start_time": "2021-09-21T17:10:26.561Z"
   },
   {
    "duration": 4,
    "start_time": "2021-09-21T17:10:28.868Z"
   },
   {
    "duration": 4,
    "start_time": "2021-09-21T17:10:32.687Z"
   },
   {
    "duration": 4,
    "start_time": "2021-09-21T17:10:41.831Z"
   },
   {
    "duration": 248,
    "start_time": "2021-09-21T17:10:55.841Z"
   },
   {
    "duration": 399,
    "start_time": "2021-09-21T17:11:06.320Z"
   },
   {
    "duration": 243,
    "start_time": "2021-09-21T17:12:24.889Z"
   },
   {
    "duration": 277,
    "start_time": "2021-09-21T17:13:27.714Z"
   },
   {
    "duration": 258,
    "start_time": "2021-09-21T17:13:47.892Z"
   },
   {
    "duration": 264,
    "start_time": "2021-09-21T17:13:56.034Z"
   },
   {
    "duration": 306,
    "start_time": "2021-09-21T17:16:57.141Z"
   },
   {
    "duration": 256,
    "start_time": "2021-09-21T17:17:02.582Z"
   },
   {
    "duration": 364,
    "start_time": "2021-09-21T17:18:19.284Z"
   },
   {
    "duration": 283,
    "start_time": "2021-09-21T17:18:26.935Z"
   },
   {
    "duration": 259,
    "start_time": "2021-09-21T17:18:43.094Z"
   },
   {
    "duration": 247,
    "start_time": "2021-09-21T17:19:19.401Z"
   },
   {
    "duration": 265,
    "start_time": "2021-09-21T17:20:08.852Z"
   },
   {
    "duration": 292,
    "start_time": "2021-09-21T17:20:23.884Z"
   },
   {
    "duration": 301,
    "start_time": "2021-09-21T17:23:30.802Z"
   },
   {
    "duration": 4,
    "start_time": "2021-09-21T17:23:34.573Z"
   },
   {
    "duration": 651,
    "start_time": "2021-09-21T17:23:34.581Z"
   },
   {
    "duration": 13,
    "start_time": "2021-09-21T17:23:35.235Z"
   },
   {
    "duration": 23,
    "start_time": "2021-09-21T17:23:35.251Z"
   },
   {
    "duration": 29,
    "start_time": "2021-09-21T17:23:35.277Z"
   },
   {
    "duration": 26,
    "start_time": "2021-09-21T17:23:35.309Z"
   },
   {
    "duration": 32,
    "start_time": "2021-09-21T17:23:35.338Z"
   },
   {
    "duration": 5,
    "start_time": "2021-09-21T17:23:35.374Z"
   },
   {
    "duration": 32,
    "start_time": "2021-09-21T17:23:35.382Z"
   },
   {
    "duration": 13,
    "start_time": "2021-09-21T17:23:35.416Z"
   },
   {
    "duration": 18,
    "start_time": "2021-09-21T17:23:35.431Z"
   },
   {
    "duration": 82,
    "start_time": "2021-09-21T17:23:35.463Z"
   },
   {
    "duration": 71,
    "start_time": "2021-09-21T17:23:35.562Z"
   },
   {
    "duration": 96,
    "start_time": "2021-09-21T17:23:35.635Z"
   },
   {
    "duration": 6,
    "start_time": "2021-09-21T17:23:35.734Z"
   },
   {
    "duration": 555,
    "start_time": "2021-09-21T17:23:35.743Z"
   },
   {
    "duration": 16,
    "start_time": "2021-09-21T17:23:55.203Z"
   },
   {
    "duration": 517,
    "start_time": "2021-09-21T17:24:01.354Z"
   },
   {
    "duration": 371,
    "start_time": "2021-09-21T17:24:17.397Z"
   },
   {
    "duration": 887,
    "start_time": "2021-09-21T17:24:22.988Z"
   },
   {
    "duration": 266,
    "start_time": "2021-09-21T17:25:35.609Z"
   },
   {
    "duration": 299,
    "start_time": "2021-09-21T17:25:45.802Z"
   },
   {
    "duration": 5,
    "start_time": "2021-09-21T17:26:21.097Z"
   },
   {
    "duration": 501,
    "start_time": "2021-09-21T17:26:21.105Z"
   },
   {
    "duration": 14,
    "start_time": "2021-09-21T17:26:21.610Z"
   },
   {
    "duration": 40,
    "start_time": "2021-09-21T17:26:21.628Z"
   },
   {
    "duration": 14,
    "start_time": "2021-09-21T17:26:21.671Z"
   },
   {
    "duration": 7,
    "start_time": "2021-09-21T17:26:21.688Z"
   },
   {
    "duration": 8,
    "start_time": "2021-09-21T17:26:21.698Z"
   },
   {
    "duration": 52,
    "start_time": "2021-09-21T17:26:21.711Z"
   },
   {
    "duration": 15,
    "start_time": "2021-09-21T17:26:21.767Z"
   },
   {
    "duration": 15,
    "start_time": "2021-09-21T17:26:21.785Z"
   },
   {
    "duration": 60,
    "start_time": "2021-09-21T17:26:21.804Z"
   },
   {
    "duration": 78,
    "start_time": "2021-09-21T17:26:21.867Z"
   },
   {
    "duration": 74,
    "start_time": "2021-09-21T17:26:21.963Z"
   },
   {
    "duration": 93,
    "start_time": "2021-09-21T17:26:22.040Z"
   },
   {
    "duration": 2,
    "start_time": "2021-09-21T17:26:22.136Z"
   },
   {
    "duration": 4,
    "start_time": "2021-09-21T17:26:22.161Z"
   },
   {
    "duration": 328,
    "start_time": "2021-09-21T17:26:22.167Z"
   },
   {
    "duration": 279,
    "start_time": "2021-09-21T17:26:25.348Z"
   },
   {
    "duration": 268,
    "start_time": "2021-09-21T17:26:43.684Z"
   },
   {
    "duration": 7,
    "start_time": "2021-09-21T17:26:48.484Z"
   },
   {
    "duration": 15,
    "start_time": "2021-09-21T17:26:50.234Z"
   },
   {
    "duration": 295,
    "start_time": "2021-09-21T17:26:51.444Z"
   },
   {
    "duration": 1056,
    "start_time": "2021-09-21T17:27:07.108Z"
   },
   {
    "duration": 347,
    "start_time": "2021-09-21T17:27:40.957Z"
   },
   {
    "duration": 934,
    "start_time": "2021-09-21T17:28:11.959Z"
   },
   {
    "duration": 1193,
    "start_time": "2021-09-21T17:28:30.383Z"
   },
   {
    "duration": 51,
    "start_time": "2021-09-21T17:28:56.937Z"
   },
   {
    "duration": 7,
    "start_time": "2021-09-21T17:29:57.578Z"
   },
   {
    "duration": 54,
    "start_time": "2021-09-21T17:29:58.290Z"
   },
   {
    "duration": 910,
    "start_time": "2021-09-21T17:31:16.155Z"
   },
   {
    "duration": 6,
    "start_time": "2021-09-21T17:31:25.445Z"
   },
   {
    "duration": 54,
    "start_time": "2021-09-21T17:31:26.636Z"
   },
   {
    "duration": 888,
    "start_time": "2021-09-21T17:31:55.246Z"
   },
   {
    "duration": 169,
    "start_time": "2021-09-21T17:34:21.626Z"
   },
   {
    "duration": 18,
    "start_time": "2021-09-21T17:34:31.820Z"
   },
   {
    "duration": 90,
    "start_time": "2021-09-21T17:36:30.822Z"
   },
   {
    "duration": 83,
    "start_time": "2021-09-21T17:36:36.542Z"
   },
   {
    "duration": 282,
    "start_time": "2021-09-21T17:37:03.159Z"
   },
   {
    "duration": 162,
    "start_time": "2021-09-21T17:38:06.400Z"
   },
   {
    "duration": 161,
    "start_time": "2021-09-21T17:38:15.120Z"
   },
   {
    "duration": 163,
    "start_time": "2021-09-21T17:38:22.048Z"
   },
   {
    "duration": 515,
    "start_time": "2021-09-21T17:38:47.106Z"
   },
   {
    "duration": 479,
    "start_time": "2021-09-21T17:39:36.636Z"
   },
   {
    "duration": 307,
    "start_time": "2021-09-21T17:40:29.330Z"
   },
   {
    "duration": 278,
    "start_time": "2021-09-21T17:41:02.503Z"
   },
   {
    "duration": 162,
    "start_time": "2021-09-21T17:41:15.502Z"
   },
   {
    "duration": 3,
    "start_time": "2021-09-21T17:43:46.776Z"
   },
   {
    "duration": 3,
    "start_time": "2021-09-21T17:43:49.393Z"
   },
   {
    "duration": 51,
    "start_time": "2021-09-21T17:52:07.466Z"
   },
   {
    "duration": 1005,
    "start_time": "2021-09-21T17:52:20.409Z"
   },
   {
    "duration": 360,
    "start_time": "2021-09-21T18:08:28.584Z"
   },
   {
    "duration": 297,
    "start_time": "2021-09-21T18:08:42.543Z"
   },
   {
    "duration": 38,
    "start_time": "2021-09-21T18:08:53.291Z"
   },
   {
    "duration": 8,
    "start_time": "2021-09-21T18:09:37.785Z"
   },
   {
    "duration": 5,
    "start_time": "2021-09-21T18:09:46.600Z"
   },
   {
    "duration": 5,
    "start_time": "2021-09-21T18:10:05.297Z"
   },
   {
    "duration": 14,
    "start_time": "2021-09-21T18:23:27.325Z"
   },
   {
    "duration": 345,
    "start_time": "2021-09-21T18:23:28.739Z"
   },
   {
    "duration": 293,
    "start_time": "2021-09-21T18:24:13.163Z"
   },
   {
    "duration": 20,
    "start_time": "2021-09-21T18:30:54.255Z"
   },
   {
    "duration": 21,
    "start_time": "2021-09-21T18:31:41.969Z"
   },
   {
    "duration": 19,
    "start_time": "2021-09-21T18:32:31.323Z"
   },
   {
    "duration": 17,
    "start_time": "2021-09-21T18:32:31.849Z"
   },
   {
    "duration": 18,
    "start_time": "2021-09-21T18:32:32.315Z"
   },
   {
    "duration": 291,
    "start_time": "2021-09-21T18:36:23.858Z"
   },
   {
    "duration": 5,
    "start_time": "2021-09-21T18:36:56.028Z"
   },
   {
    "duration": 17,
    "start_time": "2021-09-21T18:37:01.812Z"
   },
   {
    "duration": 972,
    "start_time": "2021-09-21T18:38:39.038Z"
   },
   {
    "duration": 303,
    "start_time": "2021-09-21T18:38:51.263Z"
   },
   {
    "duration": 401,
    "start_time": "2021-09-21T18:39:04.960Z"
   },
   {
    "duration": 300,
    "start_time": "2021-09-21T18:39:27.438Z"
   },
   {
    "duration": 325,
    "start_time": "2021-09-21T18:41:43.732Z"
   },
   {
    "duration": 293,
    "start_time": "2021-09-21T18:41:51.164Z"
   },
   {
    "duration": 15,
    "start_time": "2021-09-21T18:41:58.331Z"
   },
   {
    "duration": 299,
    "start_time": "2021-09-21T18:43:01.806Z"
   },
   {
    "duration": 366,
    "start_time": "2021-09-21T18:43:42.599Z"
   },
   {
    "duration": 20,
    "start_time": "2021-09-21T18:44:03.538Z"
   },
   {
    "duration": 488,
    "start_time": "2021-09-21T18:44:44.151Z"
   },
   {
    "duration": 301,
    "start_time": "2021-09-21T18:45:21.560Z"
   },
   {
    "duration": 8,
    "start_time": "2021-09-21T18:45:35.081Z"
   },
   {
    "duration": 6,
    "start_time": "2021-09-21T18:45:53.513Z"
   },
   {
    "duration": 7,
    "start_time": "2021-09-21T18:46:07.094Z"
   },
   {
    "duration": 548,
    "start_time": "2021-09-21T18:46:07.104Z"
   },
   {
    "duration": 13,
    "start_time": "2021-09-21T18:46:07.655Z"
   },
   {
    "duration": 35,
    "start_time": "2021-09-21T18:46:07.672Z"
   },
   {
    "duration": 19,
    "start_time": "2021-09-21T18:46:07.711Z"
   },
   {
    "duration": 18,
    "start_time": "2021-09-21T18:46:07.733Z"
   },
   {
    "duration": 13,
    "start_time": "2021-09-21T18:46:07.764Z"
   },
   {
    "duration": 22,
    "start_time": "2021-09-21T18:46:07.782Z"
   },
   {
    "duration": 21,
    "start_time": "2021-09-21T18:46:07.807Z"
   },
   {
    "duration": 32,
    "start_time": "2021-09-21T18:46:07.831Z"
   },
   {
    "duration": 12,
    "start_time": "2021-09-21T18:46:07.866Z"
   },
   {
    "duration": 111,
    "start_time": "2021-09-21T18:46:07.880Z"
   },
   {
    "duration": 96,
    "start_time": "2021-09-21T18:46:07.994Z"
   },
   {
    "duration": 100,
    "start_time": "2021-09-21T18:46:08.093Z"
   },
   {
    "duration": 7,
    "start_time": "2021-09-21T18:46:08.196Z"
   },
   {
    "duration": 90,
    "start_time": "2021-09-21T18:46:08.206Z"
   },
   {
    "duration": 1273,
    "start_time": "2021-09-21T18:46:08.299Z"
   },
   {
    "duration": 6,
    "start_time": "2021-09-21T18:46:09.575Z"
   },
   {
    "duration": 99,
    "start_time": "2021-09-21T18:46:09.583Z"
   },
   {
    "duration": 904,
    "start_time": "2021-09-21T18:46:09.685Z"
   },
   {
    "duration": 6,
    "start_time": "2021-09-21T18:46:10.591Z"
   },
   {
    "duration": 74,
    "start_time": "2021-09-21T18:46:10.600Z"
   },
   {
    "duration": 932,
    "start_time": "2021-09-21T18:46:10.679Z"
   },
   {
    "duration": 3,
    "start_time": "2021-09-21T18:46:11.614Z"
   },
   {
    "duration": 42,
    "start_time": "2021-09-21T18:46:11.619Z"
   },
   {
    "duration": 45,
    "start_time": "2021-09-21T18:46:11.663Z"
   },
   {
    "duration": 6,
    "start_time": "2021-09-21T18:46:11.711Z"
   },
   {
    "duration": 42,
    "start_time": "2021-09-21T18:46:11.720Z"
   },
   {
    "duration": 80,
    "start_time": "2021-09-21T18:46:11.765Z"
   },
   {
    "duration": 39,
    "start_time": "2021-09-21T18:46:11.848Z"
   },
   {
    "duration": 69,
    "start_time": "2021-09-21T18:46:11.890Z"
   },
   {
    "duration": 14,
    "start_time": "2021-09-21T18:46:11.961Z"
   },
   {
    "duration": 17,
    "start_time": "2021-09-21T18:46:11.977Z"
   },
   {
    "duration": 317,
    "start_time": "2021-09-21T18:46:22.026Z"
   },
   {
    "duration": 279,
    "start_time": "2021-09-21T18:46:28.764Z"
   },
   {
    "duration": 7,
    "start_time": "2021-09-21T18:46:44.106Z"
   },
   {
    "duration": 23,
    "start_time": "2021-09-21T18:47:04.491Z"
   },
   {
    "duration": 82,
    "start_time": "2021-09-21T18:47:18.660Z"
   },
   {
    "duration": 95,
    "start_time": "2021-09-21T18:47:22.921Z"
   },
   {
    "duration": 269,
    "start_time": "2021-09-21T18:47:38.148Z"
   },
   {
    "duration": 106,
    "start_time": "2021-09-21T18:47:44.835Z"
   },
   {
    "duration": 6,
    "start_time": "2021-09-21T18:47:55.636Z"
   },
   {
    "duration": 110,
    "start_time": "2021-09-21T18:48:06.781Z"
   },
   {
    "duration": 70,
    "start_time": "2021-09-21T18:48:18.093Z"
   },
   {
    "duration": 19,
    "start_time": "2021-09-21T18:48:26.422Z"
   },
   {
    "duration": 17,
    "start_time": "2021-09-21T18:49:06.886Z"
   },
   {
    "duration": 14,
    "start_time": "2021-09-21T18:57:10.930Z"
   },
   {
    "duration": 22,
    "start_time": "2021-09-21T18:57:11.853Z"
   },
   {
    "duration": 18,
    "start_time": "2021-09-21T18:57:29.719Z"
   },
   {
    "duration": 16,
    "start_time": "2021-09-21T19:14:10.118Z"
   },
   {
    "duration": 113,
    "start_time": "2021-09-21T19:14:10.853Z"
   },
   {
    "duration": 63,
    "start_time": "2021-09-21T19:14:36.199Z"
   },
   {
    "duration": 1207,
    "start_time": "2021-09-22T16:59:52.681Z"
   },
   {
    "duration": 378,
    "start_time": "2021-09-22T16:59:53.891Z"
   },
   {
    "duration": 14,
    "start_time": "2021-09-22T16:59:54.271Z"
   },
   {
    "duration": 9,
    "start_time": "2021-09-22T16:59:54.287Z"
   },
   {
    "duration": 10,
    "start_time": "2021-09-22T16:59:54.298Z"
   },
   {
    "duration": 16,
    "start_time": "2021-09-22T16:59:54.310Z"
   },
   {
    "duration": 16,
    "start_time": "2021-09-22T16:59:54.328Z"
   },
   {
    "duration": 14,
    "start_time": "2021-09-22T16:59:54.347Z"
   },
   {
    "duration": 18,
    "start_time": "2021-09-22T16:59:54.363Z"
   },
   {
    "duration": 18,
    "start_time": "2021-09-22T16:59:54.383Z"
   },
   {
    "duration": 9,
    "start_time": "2021-09-22T16:59:54.403Z"
   },
   {
    "duration": 54,
    "start_time": "2021-09-22T16:59:54.414Z"
   },
   {
    "duration": 43,
    "start_time": "2021-09-22T16:59:54.470Z"
   },
   {
    "duration": 43,
    "start_time": "2021-09-22T16:59:54.514Z"
   },
   {
    "duration": 7,
    "start_time": "2021-09-22T16:59:54.577Z"
   },
   {
    "duration": 41,
    "start_time": "2021-09-22T16:59:54.586Z"
   },
   {
    "duration": 543,
    "start_time": "2021-09-22T16:59:54.629Z"
   },
   {
    "duration": 5,
    "start_time": "2021-09-22T16:59:55.173Z"
   },
   {
    "duration": 39,
    "start_time": "2021-09-22T16:59:55.180Z"
   },
   {
    "duration": 528,
    "start_time": "2021-09-22T16:59:55.221Z"
   },
   {
    "duration": 5,
    "start_time": "2021-09-22T16:59:55.751Z"
   },
   {
    "duration": 48,
    "start_time": "2021-09-22T16:59:55.757Z"
   },
   {
    "duration": 529,
    "start_time": "2021-09-22T16:59:55.808Z"
   },
   {
    "duration": 3,
    "start_time": "2021-09-22T16:59:56.339Z"
   },
   {
    "duration": 7,
    "start_time": "2021-09-22T16:59:56.343Z"
   },
   {
    "duration": 40,
    "start_time": "2021-09-22T16:59:56.352Z"
   },
   {
    "duration": 4,
    "start_time": "2021-09-22T16:59:56.394Z"
   },
   {
    "duration": 14,
    "start_time": "2021-09-22T16:59:56.400Z"
   },
   {
    "duration": 17,
    "start_time": "2021-09-22T16:59:56.417Z"
   },
   {
    "duration": 115,
    "start_time": "2021-09-22T16:59:56.436Z"
   },
   {
    "duration": 14,
    "start_time": "2021-09-22T16:59:56.553Z"
   },
   {
    "duration": 28,
    "start_time": "2021-09-22T16:59:56.569Z"
   },
   {
    "duration": 81,
    "start_time": "2021-09-22T16:59:56.599Z"
   },
   {
    "duration": 104,
    "start_time": "2021-09-22T16:59:56.686Z"
   },
   {
    "duration": 28,
    "start_time": "2021-09-22T16:59:56.792Z"
   },
   {
    "duration": 111,
    "start_time": "2021-09-22T16:59:56.878Z"
   },
   {
    "duration": 26,
    "start_time": "2021-09-22T16:59:56.991Z"
   },
   {
    "duration": 20,
    "start_time": "2021-09-22T17:04:10.719Z"
   },
   {
    "duration": 427,
    "start_time": "2021-09-22T17:10:33.114Z"
   },
   {
    "duration": 987,
    "start_time": "2021-09-22T17:11:00.078Z"
   },
   {
    "duration": 3,
    "start_time": "2021-09-22T17:11:06.355Z"
   },
   {
    "duration": 388,
    "start_time": "2021-09-22T17:11:06.360Z"
   },
   {
    "duration": 9,
    "start_time": "2021-09-22T17:11:06.750Z"
   },
   {
    "duration": 16,
    "start_time": "2021-09-22T17:11:06.761Z"
   },
   {
    "duration": 9,
    "start_time": "2021-09-22T17:11:06.779Z"
   },
   {
    "duration": 4,
    "start_time": "2021-09-22T17:11:06.790Z"
   },
   {
    "duration": 4,
    "start_time": "2021-09-22T17:11:06.796Z"
   },
   {
    "duration": 4,
    "start_time": "2021-09-22T17:11:06.802Z"
   },
   {
    "duration": 13,
    "start_time": "2021-09-22T17:11:06.808Z"
   },
   {
    "duration": 12,
    "start_time": "2021-09-22T17:11:06.823Z"
   },
   {
    "duration": 46,
    "start_time": "2021-09-22T17:11:06.837Z"
   },
   {
    "duration": 42,
    "start_time": "2021-09-22T17:11:06.885Z"
   },
   {
    "duration": 62,
    "start_time": "2021-09-22T17:11:06.929Z"
   },
   {
    "duration": 44,
    "start_time": "2021-09-22T17:11:06.993Z"
   },
   {
    "duration": 6,
    "start_time": "2021-09-22T17:11:07.038Z"
   },
   {
    "duration": 60,
    "start_time": "2021-09-22T17:11:07.046Z"
   },
   {
    "duration": 540,
    "start_time": "2021-09-22T17:11:07.108Z"
   },
   {
    "duration": 5,
    "start_time": "2021-09-22T17:11:07.649Z"
   },
   {
    "duration": 47,
    "start_time": "2021-09-22T17:11:07.656Z"
   },
   {
    "duration": 535,
    "start_time": "2021-09-22T17:11:07.705Z"
   },
   {
    "duration": 5,
    "start_time": "2021-09-22T17:11:08.242Z"
   },
   {
    "duration": 51,
    "start_time": "2021-09-22T17:11:08.249Z"
   },
   {
    "duration": 529,
    "start_time": "2021-09-22T17:11:08.304Z"
   },
   {
    "duration": 2,
    "start_time": "2021-09-22T17:11:08.835Z"
   },
   {
    "duration": 5,
    "start_time": "2021-09-22T17:11:08.838Z"
   },
   {
    "duration": 41,
    "start_time": "2021-09-22T17:11:08.845Z"
   },
   {
    "duration": 4,
    "start_time": "2021-09-22T17:11:08.888Z"
   },
   {
    "duration": 9,
    "start_time": "2021-09-22T17:11:08.894Z"
   },
   {
    "duration": 15,
    "start_time": "2021-09-22T17:11:08.905Z"
   },
   {
    "duration": 13,
    "start_time": "2021-09-22T17:11:08.922Z"
   },
   {
    "duration": 12,
    "start_time": "2021-09-22T17:11:08.937Z"
   },
   {
    "duration": 32,
    "start_time": "2021-09-22T17:11:08.951Z"
   },
   {
    "duration": 190,
    "start_time": "2021-09-22T17:11:08.986Z"
   },
   {
    "duration": 12,
    "start_time": "2021-09-22T17:11:09.178Z"
   },
   {
    "duration": 85,
    "start_time": "2021-09-22T17:11:09.192Z"
   },
   {
    "duration": 106,
    "start_time": "2021-09-22T17:11:09.280Z"
   },
   {
    "duration": 15,
    "start_time": "2021-09-22T17:11:09.388Z"
   },
   {
    "duration": 6,
    "start_time": "2021-09-22T17:11:09.478Z"
   },
   {
    "duration": 4,
    "start_time": "2021-09-22T17:12:09.822Z"
   },
   {
    "duration": 4,
    "start_time": "2021-09-22T17:12:18.094Z"
   },
   {
    "duration": 4,
    "start_time": "2021-09-22T17:13:18.886Z"
   },
   {
    "duration": 6,
    "start_time": "2021-09-22T17:13:50.384Z"
   },
   {
    "duration": 342,
    "start_time": "2021-09-22T17:14:04.015Z"
   },
   {
    "duration": 333,
    "start_time": "2021-09-22T17:14:12.595Z"
   },
   {
    "duration": 4,
    "start_time": "2021-09-22T17:14:36.008Z"
   },
   {
    "duration": 379,
    "start_time": "2021-09-22T17:14:36.014Z"
   },
   {
    "duration": 8,
    "start_time": "2021-09-22T17:14:36.395Z"
   },
   {
    "duration": 9,
    "start_time": "2021-09-22T17:14:36.406Z"
   },
   {
    "duration": 10,
    "start_time": "2021-09-22T17:14:36.416Z"
   },
   {
    "duration": 5,
    "start_time": "2021-09-22T17:14:36.428Z"
   },
   {
    "duration": 4,
    "start_time": "2021-09-22T17:14:36.435Z"
   },
   {
    "duration": 4,
    "start_time": "2021-09-22T17:14:36.441Z"
   },
   {
    "duration": 37,
    "start_time": "2021-09-22T17:14:36.447Z"
   },
   {
    "duration": 9,
    "start_time": "2021-09-22T17:14:36.485Z"
   },
   {
    "duration": 9,
    "start_time": "2021-09-22T17:14:36.496Z"
   },
   {
    "duration": 75,
    "start_time": "2021-09-22T17:14:36.507Z"
   },
   {
    "duration": 39,
    "start_time": "2021-09-22T17:14:36.584Z"
   },
   {
    "duration": 63,
    "start_time": "2021-09-22T17:14:36.625Z"
   },
   {
    "duration": 4,
    "start_time": "2021-09-22T17:14:36.690Z"
   },
   {
    "duration": 51,
    "start_time": "2021-09-22T17:14:36.696Z"
   },
   {
    "duration": 548,
    "start_time": "2021-09-22T17:14:36.749Z"
   },
   {
    "duration": 5,
    "start_time": "2021-09-22T17:14:37.300Z"
   },
   {
    "duration": 45,
    "start_time": "2021-09-22T17:14:37.310Z"
   },
   {
    "duration": 604,
    "start_time": "2021-09-22T17:14:37.358Z"
   },
   {
    "duration": 13,
    "start_time": "2021-09-22T17:14:37.964Z"
   },
   {
    "duration": 39,
    "start_time": "2021-09-22T17:14:37.979Z"
   },
   {
    "duration": 654,
    "start_time": "2021-09-22T17:14:38.020Z"
   },
   {
    "duration": 3,
    "start_time": "2021-09-22T17:14:38.676Z"
   },
   {
    "duration": 5,
    "start_time": "2021-09-22T17:14:38.681Z"
   },
   {
    "duration": 26,
    "start_time": "2021-09-22T17:14:38.687Z"
   },
   {
    "duration": 5,
    "start_time": "2021-09-22T17:14:38.714Z"
   },
   {
    "duration": 9,
    "start_time": "2021-09-22T17:14:38.721Z"
   },
   {
    "duration": 50,
    "start_time": "2021-09-22T17:14:38.732Z"
   },
   {
    "duration": 13,
    "start_time": "2021-09-22T17:14:38.784Z"
   },
   {
    "duration": 13,
    "start_time": "2021-09-22T17:14:38.799Z"
   },
   {
    "duration": 11,
    "start_time": "2021-09-22T17:14:38.814Z"
   },
   {
    "duration": 149,
    "start_time": "2021-09-22T17:14:38.827Z"
   },
   {
    "duration": 12,
    "start_time": "2021-09-22T17:14:38.978Z"
   },
   {
    "duration": 84,
    "start_time": "2021-09-22T17:14:38.992Z"
   },
   {
    "duration": 98,
    "start_time": "2021-09-22T17:14:39.079Z"
   },
   {
    "duration": 15,
    "start_time": "2021-09-22T17:14:39.179Z"
   },
   {
    "duration": 6,
    "start_time": "2021-09-22T17:14:39.277Z"
   },
   {
    "duration": 95,
    "start_time": "2021-09-22T17:14:39.286Z"
   },
   {
    "duration": 5,
    "start_time": "2021-09-22T17:14:39.383Z"
   },
   {
    "duration": 6,
    "start_time": "2021-09-22T17:14:39.389Z"
   },
   {
    "duration": 357,
    "start_time": "2021-09-22T17:14:39.396Z"
   },
   {
    "duration": 3252,
    "start_time": "2021-09-22T17:15:08.993Z"
   },
   {
    "duration": 3377,
    "start_time": "2021-09-22T17:16:20.027Z"
   },
   {
    "duration": 3259,
    "start_time": "2021-09-22T17:16:39.962Z"
   },
   {
    "duration": 1574,
    "start_time": "2021-09-23T08:11:45.434Z"
   },
   {
    "duration": 439,
    "start_time": "2021-09-23T08:11:47.011Z"
   },
   {
    "duration": 19,
    "start_time": "2021-09-23T08:11:47.452Z"
   },
   {
    "duration": 13,
    "start_time": "2021-09-23T08:11:47.474Z"
   },
   {
    "duration": 16,
    "start_time": "2021-09-23T08:11:47.489Z"
   },
   {
    "duration": 7,
    "start_time": "2021-09-23T08:11:47.507Z"
   },
   {
    "duration": 47,
    "start_time": "2021-09-23T08:11:47.516Z"
   },
   {
    "duration": 4,
    "start_time": "2021-09-23T08:11:47.566Z"
   },
   {
    "duration": 17,
    "start_time": "2021-09-23T08:11:47.575Z"
   },
   {
    "duration": 10,
    "start_time": "2021-09-23T08:11:47.595Z"
   },
   {
    "duration": 17,
    "start_time": "2021-09-23T08:11:47.607Z"
   },
   {
    "duration": 99,
    "start_time": "2021-09-23T08:11:47.627Z"
   },
   {
    "duration": 80,
    "start_time": "2021-09-23T08:11:47.728Z"
   },
   {
    "duration": 79,
    "start_time": "2021-09-23T08:11:47.811Z"
   },
   {
    "duration": 7,
    "start_time": "2021-09-23T08:11:47.893Z"
   },
   {
    "duration": 70,
    "start_time": "2021-09-23T08:11:47.902Z"
   },
   {
    "duration": 829,
    "start_time": "2021-09-23T08:11:47.975Z"
   },
   {
    "duration": 6,
    "start_time": "2021-09-23T08:11:48.806Z"
   },
   {
    "duration": 65,
    "start_time": "2021-09-23T08:11:48.814Z"
   },
   {
    "duration": 843,
    "start_time": "2021-09-23T08:11:48.882Z"
   },
   {
    "duration": 6,
    "start_time": "2021-09-23T08:11:49.727Z"
   },
   {
    "duration": 71,
    "start_time": "2021-09-23T08:11:49.736Z"
   },
   {
    "duration": 901,
    "start_time": "2021-09-23T08:11:49.810Z"
   },
   {
    "duration": 2,
    "start_time": "2021-09-23T08:11:50.713Z"
   },
   {
    "duration": 34,
    "start_time": "2021-09-23T08:11:50.718Z"
   },
   {
    "duration": 47,
    "start_time": "2021-09-23T08:11:50.754Z"
   },
   {
    "duration": 5,
    "start_time": "2021-09-23T08:11:50.805Z"
   },
   {
    "duration": 24,
    "start_time": "2021-09-23T08:11:50.812Z"
   },
   {
    "duration": 33,
    "start_time": "2021-09-23T08:11:50.839Z"
   },
   {
    "duration": 17,
    "start_time": "2021-09-23T08:11:50.875Z"
   },
   {
    "duration": 20,
    "start_time": "2021-09-23T08:11:50.894Z"
   },
   {
    "duration": 19,
    "start_time": "2021-09-23T08:11:50.916Z"
   },
   {
    "duration": 19,
    "start_time": "2021-09-23T08:11:50.961Z"
   },
   {
    "duration": 180,
    "start_time": "2021-09-23T08:11:50.982Z"
   },
   {
    "duration": 110,
    "start_time": "2021-09-23T08:11:51.164Z"
   },
   {
    "duration": 190,
    "start_time": "2021-09-23T08:11:51.277Z"
   },
   {
    "duration": 92,
    "start_time": "2021-09-23T08:11:51.469Z"
   },
   {
    "duration": 8,
    "start_time": "2021-09-23T08:11:51.564Z"
   },
   {
    "duration": 16,
    "start_time": "2021-09-23T08:11:51.662Z"
   },
   {
    "duration": 8,
    "start_time": "2021-09-23T08:11:51.680Z"
   },
   {
    "duration": 9,
    "start_time": "2021-09-23T08:11:51.690Z"
   },
   {
    "duration": 5209,
    "start_time": "2021-09-23T08:11:51.701Z"
   },
   {
    "duration": 5278,
    "start_time": "2021-09-23T08:11:56.912Z"
   },
   {
    "duration": 5159,
    "start_time": "2021-09-23T08:12:02.192Z"
   },
   {
    "duration": 5565,
    "start_time": "2021-09-23T08:15:20.043Z"
   },
   {
    "duration": 5,
    "start_time": "2021-09-23T08:16:45.274Z"
   },
   {
    "duration": 269,
    "start_time": "2021-09-23T08:16:52.788Z"
   },
   {
    "duration": 429,
    "start_time": "2021-09-23T08:17:11.347Z"
   },
   {
    "duration": 281,
    "start_time": "2021-09-23T08:17:26.132Z"
   },
   {
    "duration": 8,
    "start_time": "2021-09-23T08:19:44.837Z"
   },
   {
    "duration": 5466,
    "start_time": "2021-09-23T08:19:46.530Z"
   },
   {
    "duration": 8,
    "start_time": "2021-09-23T08:23:53.087Z"
   },
   {
    "duration": 5256,
    "start_time": "2021-09-23T08:23:54.908Z"
   },
   {
    "duration": 5419,
    "start_time": "2021-09-23T08:24:04.009Z"
   },
   {
    "duration": 5431,
    "start_time": "2021-09-23T08:24:11.193Z"
   },
   {
    "duration": 9,
    "start_time": "2021-09-23T08:24:20.875Z"
   },
   {
    "duration": 5667,
    "start_time": "2021-09-23T08:24:23.370Z"
   },
   {
    "duration": 7,
    "start_time": "2021-09-23T08:25:35.853Z"
   },
   {
    "duration": 1441,
    "start_time": "2021-09-23T08:34:45.341Z"
   },
   {
    "duration": 7,
    "start_time": "2021-09-23T08:34:55.492Z"
   },
   {
    "duration": 595,
    "start_time": "2021-09-23T08:34:56.519Z"
   },
   {
    "duration": 7,
    "start_time": "2021-09-23T08:35:23.043Z"
   },
   {
    "duration": 552,
    "start_time": "2021-09-23T08:35:23.861Z"
   },
   {
    "duration": 4,
    "start_time": "2021-09-23T08:37:00.734Z"
   },
   {
    "duration": 85,
    "start_time": "2021-09-23T08:37:03.478Z"
   },
   {
    "duration": 8,
    "start_time": "2021-09-23T08:37:14.887Z"
   },
   {
    "duration": 515,
    "start_time": "2021-09-23T08:37:15.647Z"
   },
   {
    "duration": 509,
    "start_time": "2021-09-23T08:37:22.005Z"
   },
   {
    "duration": 5141,
    "start_time": "2021-09-23T08:37:31.015Z"
   },
   {
    "duration": 7,
    "start_time": "2021-09-23T08:37:47.328Z"
   },
   {
    "duration": 5083,
    "start_time": "2021-09-23T08:37:49.542Z"
   },
   {
    "duration": 5187,
    "start_time": "2021-09-23T08:37:57.184Z"
   },
   {
    "duration": 4,
    "start_time": "2021-09-23T08:38:02.374Z"
   },
   {
    "duration": 6,
    "start_time": "2021-09-23T08:38:04.880Z"
   },
   {
    "duration": 5,
    "start_time": "2021-09-23T08:43:40.284Z"
   },
   {
    "duration": 4,
    "start_time": "2021-09-23T08:44:23.398Z"
   },
   {
    "duration": 4,
    "start_time": "2021-09-23T08:44:24.173Z"
   },
   {
    "duration": 6,
    "start_time": "2021-09-23T08:44:24.782Z"
   },
   {
    "duration": 255,
    "start_time": "2021-09-23T08:44:28.058Z"
   },
   {
    "duration": 256,
    "start_time": "2021-09-23T08:46:28.576Z"
   },
   {
    "duration": 800,
    "start_time": "2021-09-23T08:46:42.680Z"
   },
   {
    "duration": 271,
    "start_time": "2021-09-23T08:47:05.331Z"
   },
   {
    "duration": 874,
    "start_time": "2021-09-23T08:48:06.198Z"
   },
   {
    "duration": 5,
    "start_time": "2021-09-23T08:48:59.866Z"
   },
   {
    "duration": 5,
    "start_time": "2021-09-23T08:49:00.883Z"
   },
   {
    "duration": 6,
    "start_time": "2021-09-23T08:49:01.451Z"
   },
   {
    "duration": 15561,
    "start_time": "2021-09-23T08:49:02.467Z"
   },
   {
    "duration": 1807,
    "start_time": "2021-09-24T06:39:53.982Z"
   },
   {
    "duration": 479,
    "start_time": "2021-09-24T06:39:55.792Z"
   },
   {
    "duration": 12,
    "start_time": "2021-09-24T06:39:56.274Z"
   },
   {
    "duration": 10,
    "start_time": "2021-09-24T06:39:56.288Z"
   },
   {
    "duration": 10,
    "start_time": "2021-09-24T06:39:56.300Z"
   },
   {
    "duration": 34,
    "start_time": "2021-09-24T06:39:56.312Z"
   },
   {
    "duration": 9,
    "start_time": "2021-09-24T06:39:56.348Z"
   },
   {
    "duration": 6,
    "start_time": "2021-09-24T06:39:56.360Z"
   },
   {
    "duration": 14,
    "start_time": "2021-09-24T06:39:56.369Z"
   },
   {
    "duration": 12,
    "start_time": "2021-09-24T06:39:56.385Z"
   },
   {
    "duration": 50,
    "start_time": "2021-09-24T06:39:56.399Z"
   },
   {
    "duration": 63,
    "start_time": "2021-09-24T06:39:56.452Z"
   },
   {
    "duration": 73,
    "start_time": "2021-09-24T06:39:56.517Z"
   },
   {
    "duration": 69,
    "start_time": "2021-09-24T06:39:56.592Z"
   },
   {
    "duration": 8,
    "start_time": "2021-09-24T06:39:56.664Z"
   },
   {
    "duration": 42,
    "start_time": "2021-09-24T06:39:56.674Z"
   },
   {
    "duration": 594,
    "start_time": "2021-09-24T06:39:56.718Z"
   },
   {
    "duration": 6,
    "start_time": "2021-09-24T06:39:57.314Z"
   },
   {
    "duration": 61,
    "start_time": "2021-09-24T06:39:57.322Z"
   },
   {
    "duration": 802,
    "start_time": "2021-09-24T06:39:57.385Z"
   },
   {
    "duration": 6,
    "start_time": "2021-09-24T06:39:58.189Z"
   },
   {
    "duration": 66,
    "start_time": "2021-09-24T06:39:58.198Z"
   },
   {
    "duration": 775,
    "start_time": "2021-09-24T06:39:58.269Z"
   },
   {
    "duration": 3,
    "start_time": "2021-09-24T06:39:59.046Z"
   },
   {
    "duration": 9,
    "start_time": "2021-09-24T06:39:59.050Z"
   },
   {
    "duration": 45,
    "start_time": "2021-09-24T06:39:59.061Z"
   },
   {
    "duration": 6,
    "start_time": "2021-09-24T06:39:59.108Z"
   },
   {
    "duration": 29,
    "start_time": "2021-09-24T06:39:59.115Z"
   },
   {
    "duration": 21,
    "start_time": "2021-09-24T06:39:59.147Z"
   },
   {
    "duration": 21,
    "start_time": "2021-09-24T06:39:59.171Z"
   },
   {
    "duration": 139,
    "start_time": "2021-09-24T06:39:59.194Z"
   },
   {
    "duration": 18,
    "start_time": "2021-09-24T06:39:59.343Z"
   },
   {
    "duration": 98,
    "start_time": "2021-09-24T06:39:59.363Z"
   },
   {
    "duration": 92,
    "start_time": "2021-09-24T06:39:59.464Z"
   },
   {
    "duration": 90,
    "start_time": "2021-09-24T06:39:59.559Z"
   },
   {
    "duration": 101,
    "start_time": "2021-09-24T06:39:59.651Z"
   },
   {
    "duration": 96,
    "start_time": "2021-09-24T06:39:59.754Z"
   },
   {
    "duration": 91,
    "start_time": "2021-09-24T06:39:59.854Z"
   },
   {
    "duration": 23,
    "start_time": "2021-09-24T06:39:59.947Z"
   },
   {
    "duration": 15,
    "start_time": "2021-09-24T06:39:59.972Z"
   },
   {
    "duration": 6,
    "start_time": "2021-09-24T06:39:59.989Z"
   },
   {
    "duration": 3836,
    "start_time": "2021-09-24T06:39:59.997Z"
   },
   {
    "duration": 3588,
    "start_time": "2021-09-24T06:40:03.835Z"
   },
   {
    "duration": 3150,
    "start_time": "2021-09-24T06:40:07.425Z"
   },
   {
    "duration": 439,
    "start_time": "2021-09-24T06:40:10.578Z"
   },
   {
    "duration": 366,
    "start_time": "2021-09-24T06:40:19.121Z"
   },
   {
    "duration": 5,
    "start_time": "2021-09-24T06:40:32.665Z"
   },
   {
    "duration": 3,
    "start_time": "2021-09-24T06:42:32.879Z"
   },
   {
    "duration": 4,
    "start_time": "2021-09-24T06:42:58.298Z"
   },
   {
    "duration": 4,
    "start_time": "2021-09-24T06:43:31.869Z"
   },
   {
    "duration": 5,
    "start_time": "2021-09-24T06:55:39.441Z"
   },
   {
    "duration": 574,
    "start_time": "2021-09-24T06:56:10.650Z"
   },
   {
    "duration": 735,
    "start_time": "2021-09-24T06:56:35.617Z"
   },
   {
    "duration": 3,
    "start_time": "2021-09-24T06:57:13.297Z"
   },
   {
    "duration": 5,
    "start_time": "2021-09-24T06:57:17.398Z"
   },
   {
    "duration": 3583,
    "start_time": "2021-09-24T06:57:20.138Z"
   },
   {
    "duration": 3395,
    "start_time": "2021-09-24T06:57:38.027Z"
   },
   {
    "duration": 3142,
    "start_time": "2021-09-24T06:57:43.120Z"
   },
   {
    "duration": 274,
    "start_time": "2021-09-24T06:59:37.163Z"
   },
   {
    "duration": 4,
    "start_time": "2021-09-24T07:02:17.081Z"
   },
   {
    "duration": 4,
    "start_time": "2021-09-24T07:22:13.930Z"
   },
   {
    "duration": 4,
    "start_time": "2021-09-24T07:22:18.304Z"
   },
   {
    "duration": 4,
    "start_time": "2021-09-24T07:22:18.822Z"
   },
   {
    "duration": 4,
    "start_time": "2021-09-24T07:22:20.880Z"
   },
   {
    "duration": 5,
    "start_time": "2021-09-24T07:22:23.881Z"
   },
   {
    "duration": 265,
    "start_time": "2021-09-24T07:22:26.017Z"
   },
   {
    "duration": 672,
    "start_time": "2021-09-24T07:23:01.177Z"
   },
   {
    "duration": 3238,
    "start_time": "2021-09-24T07:23:20.025Z"
   },
   {
    "duration": 511,
    "start_time": "2021-09-24T07:23:32.841Z"
   },
   {
    "duration": 6,
    "start_time": "2021-09-24T07:23:54.691Z"
   },
   {
    "duration": 549,
    "start_time": "2021-09-24T07:24:00.673Z"
   },
   {
    "duration": 5,
    "start_time": "2021-09-24T07:25:42.320Z"
   },
   {
    "duration": 641,
    "start_time": "2021-09-24T07:25:43.324Z"
   },
   {
    "duration": 3,
    "start_time": "2021-09-24T07:26:07.931Z"
   },
   {
    "duration": 5,
    "start_time": "2021-09-24T07:28:04.237Z"
   },
   {
    "duration": 503,
    "start_time": "2021-09-24T07:28:13.379Z"
   },
   {
    "duration": 6,
    "start_time": "2021-09-24T07:28:53.662Z"
   },
   {
    "duration": 3638,
    "start_time": "2021-09-24T07:28:58.415Z"
   },
   {
    "duration": 5,
    "start_time": "2021-09-24T07:29:19.039Z"
   },
   {
    "duration": 3218,
    "start_time": "2021-09-24T07:29:22.704Z"
   },
   {
    "duration": 5,
    "start_time": "2021-09-24T07:31:27.747Z"
   },
   {
    "duration": 547,
    "start_time": "2021-09-24T07:31:31.241Z"
   },
   {
    "duration": 3,
    "start_time": "2021-09-24T07:31:53.688Z"
   },
   {
    "duration": 5,
    "start_time": "2021-09-24T07:32:20.431Z"
   },
   {
    "duration": 3041,
    "start_time": "2021-09-24T07:32:25.435Z"
   },
   {
    "duration": 3132,
    "start_time": "2021-09-24T07:32:31.418Z"
   },
   {
    "duration": 3199,
    "start_time": "2021-09-24T07:32:36.307Z"
   },
   {
    "duration": 3485,
    "start_time": "2021-09-24T07:32:51.202Z"
   },
   {
    "duration": 3486,
    "start_time": "2021-09-24T07:32:57.340Z"
   },
   {
    "duration": 4,
    "start_time": "2021-09-24T07:52:08.942Z"
   },
   {
    "duration": 645,
    "start_time": "2021-09-24T07:52:08.948Z"
   },
   {
    "duration": 8,
    "start_time": "2021-09-24T07:52:09.596Z"
   },
   {
    "duration": 17,
    "start_time": "2021-09-24T07:52:09.606Z"
   },
   {
    "duration": 20,
    "start_time": "2021-09-24T07:52:09.624Z"
   },
   {
    "duration": 21,
    "start_time": "2021-09-24T07:52:09.646Z"
   },
   {
    "duration": 25,
    "start_time": "2021-09-24T07:52:09.669Z"
   },
   {
    "duration": 10,
    "start_time": "2021-09-24T07:52:09.695Z"
   },
   {
    "duration": 11,
    "start_time": "2021-09-24T07:52:09.708Z"
   },
   {
    "duration": 9,
    "start_time": "2021-09-24T07:52:09.721Z"
   },
   {
    "duration": 10,
    "start_time": "2021-09-24T07:52:09.732Z"
   },
   {
    "duration": 41,
    "start_time": "2021-09-24T07:52:09.744Z"
   },
   {
    "duration": 37,
    "start_time": "2021-09-24T07:52:09.787Z"
   },
   {
    "duration": 54,
    "start_time": "2021-09-24T07:52:09.826Z"
   },
   {
    "duration": 4,
    "start_time": "2021-09-24T07:52:09.882Z"
   },
   {
    "duration": 35,
    "start_time": "2021-09-24T07:52:09.888Z"
   },
   {
    "duration": 518,
    "start_time": "2021-09-24T07:52:09.944Z"
   },
   {
    "duration": 4,
    "start_time": "2021-09-24T07:52:10.464Z"
   },
   {
    "duration": 38,
    "start_time": "2021-09-24T07:52:10.470Z"
   },
   {
    "duration": 504,
    "start_time": "2021-09-24T07:52:10.510Z"
   },
   {
    "duration": 4,
    "start_time": "2021-09-24T07:52:11.015Z"
   },
   {
    "duration": 49,
    "start_time": "2021-09-24T07:52:11.021Z"
   },
   {
    "duration": 518,
    "start_time": "2021-09-24T07:52:11.072Z"
   },
   {
    "duration": 2,
    "start_time": "2021-09-24T07:52:11.592Z"
   },
   {
    "duration": 11,
    "start_time": "2021-09-24T07:52:11.596Z"
   },
   {
    "duration": 31,
    "start_time": "2021-09-24T07:52:11.609Z"
   },
   {
    "duration": 5,
    "start_time": "2021-09-24T07:52:11.645Z"
   },
   {
    "duration": 19,
    "start_time": "2021-09-24T07:52:11.652Z"
   },
   {
    "duration": 32,
    "start_time": "2021-09-24T07:52:11.672Z"
   },
   {
    "duration": 32,
    "start_time": "2021-09-24T07:52:11.706Z"
   },
   {
    "duration": 22,
    "start_time": "2021-09-24T07:52:11.739Z"
   },
   {
    "duration": 21,
    "start_time": "2021-09-24T07:52:11.763Z"
   },
   {
    "duration": 159,
    "start_time": "2021-09-24T07:52:11.785Z"
   },
   {
    "duration": 12,
    "start_time": "2021-09-24T07:52:11.946Z"
   },
   {
    "duration": 25,
    "start_time": "2021-09-24T07:52:11.959Z"
   },
   {
    "duration": 165,
    "start_time": "2021-09-24T07:52:11.986Z"
   },
   {
    "duration": 26,
    "start_time": "2021-09-24T07:52:12.153Z"
   },
   {
    "duration": 69,
    "start_time": "2021-09-24T07:52:12.182Z"
   },
   {
    "duration": 111,
    "start_time": "2021-09-24T07:52:12.253Z"
   },
   {
    "duration": 20,
    "start_time": "2021-09-24T07:52:12.366Z"
   },
   {
    "duration": 16,
    "start_time": "2021-09-24T07:52:12.388Z"
   },
   {
    "duration": 28,
    "start_time": "2021-09-24T07:52:12.406Z"
   },
   {
    "duration": 3318,
    "start_time": "2021-09-24T07:52:12.435Z"
   },
   {
    "duration": 3242,
    "start_time": "2021-09-24T07:52:15.755Z"
   },
   {
    "duration": 3198,
    "start_time": "2021-09-24T07:52:18.998Z"
   },
   {
    "duration": 3,
    "start_time": "2021-09-24T07:52:58.591Z"
   },
   {
    "duration": 5,
    "start_time": "2021-09-24T07:53:00.820Z"
   },
   {
    "duration": 3119,
    "start_time": "2021-09-24T07:53:02.831Z"
   },
   {
    "duration": 3204,
    "start_time": "2021-09-24T07:53:05.951Z"
   },
   {
    "duration": 1535,
    "start_time": "2021-09-25T09:40:17.836Z"
   },
   {
    "duration": 492,
    "start_time": "2021-09-25T09:40:19.373Z"
   },
   {
    "duration": 17,
    "start_time": "2021-09-25T09:40:19.868Z"
   },
   {
    "duration": 15,
    "start_time": "2021-09-25T09:40:19.889Z"
   },
   {
    "duration": 12,
    "start_time": "2021-09-25T09:40:19.907Z"
   },
   {
    "duration": 7,
    "start_time": "2021-09-25T09:40:19.922Z"
   },
   {
    "duration": 7,
    "start_time": "2021-09-25T09:40:19.931Z"
   },
   {
    "duration": 6,
    "start_time": "2021-09-25T09:40:19.984Z"
   },
   {
    "duration": 13,
    "start_time": "2021-09-25T09:40:19.993Z"
   },
   {
    "duration": 15,
    "start_time": "2021-09-25T09:40:20.009Z"
   },
   {
    "duration": 62,
    "start_time": "2021-09-25T09:40:20.027Z"
   },
   {
    "duration": 72,
    "start_time": "2021-09-25T09:40:20.092Z"
   },
   {
    "duration": 77,
    "start_time": "2021-09-25T09:40:20.166Z"
   },
   {
    "duration": 96,
    "start_time": "2021-09-25T09:40:20.246Z"
   },
   {
    "duration": 8,
    "start_time": "2021-09-25T09:40:20.345Z"
   },
   {
    "duration": 72,
    "start_time": "2021-09-25T09:40:20.356Z"
   },
   {
    "duration": 882,
    "start_time": "2021-09-25T09:40:20.431Z"
   },
   {
    "duration": 5,
    "start_time": "2021-09-25T09:40:21.316Z"
   },
   {
    "duration": 66,
    "start_time": "2021-09-25T09:40:21.324Z"
   },
   {
    "duration": 862,
    "start_time": "2021-09-25T09:40:21.393Z"
   },
   {
    "duration": 7,
    "start_time": "2021-09-25T09:40:22.257Z"
   },
   {
    "duration": 67,
    "start_time": "2021-09-25T09:40:22.266Z"
   },
   {
    "duration": 892,
    "start_time": "2021-09-25T09:40:22.338Z"
   },
   {
    "duration": 3,
    "start_time": "2021-09-25T09:40:23.233Z"
   },
   {
    "duration": 6,
    "start_time": "2021-09-25T09:40:23.239Z"
   },
   {
    "duration": 72,
    "start_time": "2021-09-25T09:40:23.247Z"
   },
   {
    "duration": 6,
    "start_time": "2021-09-25T09:40:23.322Z"
   },
   {
    "duration": 19,
    "start_time": "2021-09-25T09:40:23.331Z"
   },
   {
    "duration": 39,
    "start_time": "2021-09-25T09:40:23.353Z"
   },
   {
    "duration": 28,
    "start_time": "2021-09-25T09:40:23.394Z"
   },
   {
    "duration": 114,
    "start_time": "2021-09-25T09:40:23.426Z"
   },
   {
    "duration": 19,
    "start_time": "2021-09-25T09:40:23.542Z"
   },
   {
    "duration": 132,
    "start_time": "2021-09-25T09:40:23.563Z"
   },
   {
    "duration": 17,
    "start_time": "2021-09-25T09:40:23.783Z"
   },
   {
    "duration": 82,
    "start_time": "2021-09-25T09:40:23.802Z"
   },
   {
    "duration": 104,
    "start_time": "2021-09-25T09:40:23.888Z"
   },
   {
    "duration": 22,
    "start_time": "2021-09-25T09:40:23.994Z"
   },
   {
    "duration": 13,
    "start_time": "2021-09-25T09:40:24.084Z"
   },
   {
    "duration": 10,
    "start_time": "2021-09-25T09:40:24.184Z"
   },
   {
    "duration": 9,
    "start_time": "2021-09-25T09:40:24.197Z"
   },
   {
    "duration": 5,
    "start_time": "2021-09-25T09:40:24.208Z"
   },
   {
    "duration": 8,
    "start_time": "2021-09-25T09:40:24.215Z"
   },
   {
    "duration": 5521,
    "start_time": "2021-09-25T09:40:24.226Z"
   },
   {
    "duration": 5379,
    "start_time": "2021-09-25T09:40:29.750Z"
   },
   {
    "duration": 5196,
    "start_time": "2021-09-25T09:40:35.132Z"
   },
   {
    "duration": 6,
    "start_time": "2021-09-25T09:48:16.926Z"
   },
   {
    "duration": 498,
    "start_time": "2021-09-25T09:48:16.935Z"
   },
   {
    "duration": 13,
    "start_time": "2021-09-25T09:48:17.436Z"
   },
   {
    "duration": 32,
    "start_time": "2021-09-25T09:48:17.452Z"
   },
   {
    "duration": 14,
    "start_time": "2021-09-25T09:48:17.487Z"
   },
   {
    "duration": 7,
    "start_time": "2021-09-25T09:48:17.503Z"
   },
   {
    "duration": 7,
    "start_time": "2021-09-25T09:48:17.513Z"
   },
   {
    "duration": 7,
    "start_time": "2021-09-25T09:48:17.523Z"
   },
   {
    "duration": 56,
    "start_time": "2021-09-25T09:48:17.533Z"
   },
   {
    "duration": 12,
    "start_time": "2021-09-25T09:48:17.592Z"
   },
   {
    "duration": 13,
    "start_time": "2021-09-25T09:48:17.606Z"
   },
   {
    "duration": 100,
    "start_time": "2021-09-25T09:48:17.622Z"
   },
   {
    "duration": 77,
    "start_time": "2021-09-25T09:48:17.724Z"
   },
   {
    "duration": 78,
    "start_time": "2021-09-25T09:48:17.804Z"
   },
   {
    "duration": 6,
    "start_time": "2021-09-25T09:48:17.885Z"
   },
   {
    "duration": 53,
    "start_time": "2021-09-25T09:48:17.893Z"
   },
   {
    "duration": 874,
    "start_time": "2021-09-25T09:48:17.948Z"
   },
   {
    "duration": 5,
    "start_time": "2021-09-25T09:48:18.825Z"
   },
   {
    "duration": 68,
    "start_time": "2021-09-25T09:48:18.833Z"
   },
   {
    "duration": 871,
    "start_time": "2021-09-25T09:48:18.903Z"
   },
   {
    "duration": 9,
    "start_time": "2021-09-25T09:48:19.776Z"
   },
   {
    "duration": 47,
    "start_time": "2021-09-25T09:48:19.788Z"
   },
   {
    "duration": 888,
    "start_time": "2021-09-25T09:48:19.837Z"
   },
   {
    "duration": 2,
    "start_time": "2021-09-25T09:48:20.728Z"
   },
   {
    "duration": 11,
    "start_time": "2021-09-25T09:48:20.732Z"
   },
   {
    "duration": 56,
    "start_time": "2021-09-25T09:48:20.745Z"
   },
   {
    "duration": 6,
    "start_time": "2021-09-25T09:48:20.807Z"
   },
   {
    "duration": 19,
    "start_time": "2021-09-25T09:48:20.816Z"
   },
   {
    "duration": 21,
    "start_time": "2021-09-25T09:48:20.837Z"
   },
   {
    "duration": 27,
    "start_time": "2021-09-25T09:48:20.861Z"
   },
   {
    "duration": 19,
    "start_time": "2021-09-25T09:48:20.891Z"
   },
   {
    "duration": 19,
    "start_time": "2021-09-25T09:48:20.912Z"
   },
   {
    "duration": 59,
    "start_time": "2021-09-25T09:48:20.934Z"
   },
   {
    "duration": 18,
    "start_time": "2021-09-25T09:48:20.996Z"
   },
   {
    "duration": 74,
    "start_time": "2021-09-25T09:48:21.017Z"
   },
   {
    "duration": 102,
    "start_time": "2021-09-25T09:48:21.097Z"
   },
   {
    "duration": 187,
    "start_time": "2021-09-25T09:48:21.203Z"
   },
   {
    "duration": 93,
    "start_time": "2021-09-25T09:48:21.394Z"
   },
   {
    "duration": 12,
    "start_time": "2021-09-25T09:48:21.490Z"
   },
   {
    "duration": 10,
    "start_time": "2021-09-25T09:48:21.583Z"
   },
   {
    "duration": 6,
    "start_time": "2021-09-25T09:48:21.596Z"
   },
   {
    "duration": 9,
    "start_time": "2021-09-25T09:48:21.605Z"
   },
   {
    "duration": 5656,
    "start_time": "2021-09-25T09:48:21.617Z"
   },
   {
    "duration": 5576,
    "start_time": "2021-09-25T09:48:27.282Z"
   },
   {
    "duration": 5368,
    "start_time": "2021-09-25T09:48:32.860Z"
   },
   {
    "duration": 15,
    "start_time": "2021-09-25T09:49:19.708Z"
   },
   {
    "duration": 13,
    "start_time": "2021-09-25T09:49:39.052Z"
   },
   {
    "duration": 11,
    "start_time": "2021-09-25T09:58:35.549Z"
   },
   {
    "duration": 10,
    "start_time": "2021-09-25T10:00:15.101Z"
   },
   {
    "duration": 7,
    "start_time": "2021-09-25T10:00:17.709Z"
   },
   {
    "duration": 505,
    "start_time": "2021-09-25T10:00:17.720Z"
   },
   {
    "duration": 13,
    "start_time": "2021-09-25T10:00:18.229Z"
   },
   {
    "duration": 36,
    "start_time": "2021-09-25T10:00:18.246Z"
   },
   {
    "duration": 13,
    "start_time": "2021-09-25T10:00:18.285Z"
   },
   {
    "duration": 12,
    "start_time": "2021-09-25T10:00:18.301Z"
   },
   {
    "duration": 15,
    "start_time": "2021-09-25T10:00:18.316Z"
   },
   {
    "duration": 9,
    "start_time": "2021-09-25T10:00:18.334Z"
   },
   {
    "duration": 39,
    "start_time": "2021-09-25T10:00:18.347Z"
   },
   {
    "duration": 13,
    "start_time": "2021-09-25T10:00:18.390Z"
   },
   {
    "duration": 15,
    "start_time": "2021-09-25T10:00:18.406Z"
   },
   {
    "duration": 108,
    "start_time": "2021-09-25T10:00:18.424Z"
   },
   {
    "duration": 81,
    "start_time": "2021-09-25T10:00:18.534Z"
   },
   {
    "duration": 78,
    "start_time": "2021-09-25T10:00:18.617Z"
   },
   {
    "duration": 5,
    "start_time": "2021-09-25T10:00:18.698Z"
   },
   {
    "duration": 54,
    "start_time": "2021-09-25T10:00:18.706Z"
   },
   {
    "duration": 892,
    "start_time": "2021-09-25T10:00:18.763Z"
   },
   {
    "duration": 7,
    "start_time": "2021-09-25T10:00:19.658Z"
   },
   {
    "duration": 47,
    "start_time": "2021-09-25T10:00:19.683Z"
   },
   {
    "duration": 863,
    "start_time": "2021-09-25T10:00:19.733Z"
   },
   {
    "duration": 6,
    "start_time": "2021-09-25T10:00:20.598Z"
   },
   {
    "duration": 76,
    "start_time": "2021-09-25T10:00:20.606Z"
   },
   {
    "duration": 1071,
    "start_time": "2021-09-25T10:00:20.685Z"
   },
   {
    "duration": 3,
    "start_time": "2021-09-25T10:00:21.758Z"
   },
   {
    "duration": 19,
    "start_time": "2021-09-25T10:00:21.763Z"
   },
   {
    "duration": 48,
    "start_time": "2021-09-25T10:00:21.785Z"
   },
   {
    "duration": 6,
    "start_time": "2021-09-25T10:00:21.840Z"
   },
   {
    "duration": 36,
    "start_time": "2021-09-25T10:00:21.849Z"
   },
   {
    "duration": 26,
    "start_time": "2021-09-25T10:00:21.888Z"
   },
   {
    "duration": 19,
    "start_time": "2021-09-25T10:00:21.916Z"
   },
   {
    "duration": 45,
    "start_time": "2021-09-25T10:00:21.937Z"
   },
   {
    "duration": 10,
    "start_time": "2021-09-25T10:00:21.985Z"
   },
   {
    "duration": 90,
    "start_time": "2021-09-25T10:00:21.997Z"
   },
   {
    "duration": 105,
    "start_time": "2021-09-25T10:00:22.090Z"
   },
   {
    "duration": 189,
    "start_time": "2021-09-25T10:00:22.201Z"
   },
   {
    "duration": 93,
    "start_time": "2021-09-25T10:00:22.394Z"
   },
   {
    "duration": 95,
    "start_time": "2021-09-25T10:00:22.490Z"
   },
   {
    "duration": 14,
    "start_time": "2021-09-25T10:00:22.587Z"
   },
   {
    "duration": 11,
    "start_time": "2021-09-25T10:00:22.604Z"
   },
   {
    "duration": 9,
    "start_time": "2021-09-25T10:00:22.617Z"
   },
   {
    "duration": 5621,
    "start_time": "2021-09-25T10:00:22.628Z"
   },
   {
    "duration": 5933,
    "start_time": "2021-09-25T10:00:28.252Z"
   },
   {
    "duration": 5781,
    "start_time": "2021-09-25T10:00:34.188Z"
   },
   {
    "duration": 10,
    "start_time": "2021-09-25T10:10:46.832Z"
   },
   {
    "duration": 17,
    "start_time": "2021-09-25T10:10:48.461Z"
   },
   {
    "duration": 541,
    "start_time": "2021-09-25T10:11:02.310Z"
   },
   {
    "duration": 321,
    "start_time": "2021-09-25T10:11:44.744Z"
   },
   {
    "duration": 20,
    "start_time": "2021-09-25T10:11:49.960Z"
   },
   {
    "duration": 19,
    "start_time": "2021-09-25T10:11:58.192Z"
   },
   {
    "duration": 18,
    "start_time": "2021-09-25T10:12:00.978Z"
   },
   {
    "duration": 257,
    "start_time": "2021-09-25T10:12:22.159Z"
   },
   {
    "duration": 10,
    "start_time": "2021-09-25T10:13:16.698Z"
   },
   {
    "duration": 115,
    "start_time": "2021-09-25T10:13:17.672Z"
   },
   {
    "duration": 10,
    "start_time": "2021-09-25T10:13:24.264Z"
   },
   {
    "duration": 19,
    "start_time": "2021-09-25T10:13:24.952Z"
   },
   {
    "duration": 12,
    "start_time": "2021-09-25T10:13:29.727Z"
   },
   {
    "duration": 18,
    "start_time": "2021-09-25T10:13:36.961Z"
   },
   {
    "duration": 11,
    "start_time": "2021-09-25T10:17:01.059Z"
   },
   {
    "duration": 18,
    "start_time": "2021-09-25T10:17:02.849Z"
   },
   {
    "duration": 10,
    "start_time": "2021-09-25T10:17:16.003Z"
   },
   {
    "duration": 21,
    "start_time": "2021-09-25T10:17:19.194Z"
   },
   {
    "duration": 22,
    "start_time": "2021-09-25T10:17:27.601Z"
   },
   {
    "duration": 12,
    "start_time": "2021-09-25T10:19:32.572Z"
   },
   {
    "duration": 97,
    "start_time": "2021-09-25T10:19:34.986Z"
   },
   {
    "duration": 11,
    "start_time": "2021-09-25T10:21:27.653Z"
   },
   {
    "duration": 6,
    "start_time": "2021-09-25T10:21:40.079Z"
   },
   {
    "duration": 484,
    "start_time": "2021-09-25T10:21:40.087Z"
   },
   {
    "duration": 14,
    "start_time": "2021-09-25T10:21:40.574Z"
   },
   {
    "duration": 18,
    "start_time": "2021-09-25T10:21:40.591Z"
   },
   {
    "duration": 15,
    "start_time": "2021-09-25T10:21:40.611Z"
   },
   {
    "duration": 6,
    "start_time": "2021-09-25T10:21:40.629Z"
   },
   {
    "duration": 46,
    "start_time": "2021-09-25T10:21:40.637Z"
   },
   {
    "duration": 12,
    "start_time": "2021-09-25T10:21:40.685Z"
   },
   {
    "duration": 13,
    "start_time": "2021-09-25T10:21:40.701Z"
   },
   {
    "duration": 11,
    "start_time": "2021-09-25T10:21:40.717Z"
   },
   {
    "duration": 15,
    "start_time": "2021-09-25T10:21:40.731Z"
   },
   {
    "duration": 92,
    "start_time": "2021-09-25T10:21:40.748Z"
   },
   {
    "duration": 81,
    "start_time": "2021-09-25T10:21:40.843Z"
   },
   {
    "duration": 69,
    "start_time": "2021-09-25T10:21:40.927Z"
   },
   {
    "duration": 7,
    "start_time": "2021-09-25T10:21:40.998Z"
   },
   {
    "duration": 54,
    "start_time": "2021-09-25T10:21:41.007Z"
   },
   {
    "duration": 880,
    "start_time": "2021-09-25T10:21:41.063Z"
   },
   {
    "duration": 6,
    "start_time": "2021-09-25T10:21:41.945Z"
   },
   {
    "duration": 68,
    "start_time": "2021-09-25T10:21:41.954Z"
   },
   {
    "duration": 861,
    "start_time": "2021-09-25T10:21:42.024Z"
   },
   {
    "duration": 6,
    "start_time": "2021-09-25T10:21:42.887Z"
   },
   {
    "duration": 52,
    "start_time": "2021-09-25T10:21:42.896Z"
   },
   {
    "duration": 901,
    "start_time": "2021-09-25T10:21:42.950Z"
   },
   {
    "duration": 3,
    "start_time": "2021-09-25T10:21:43.853Z"
   },
   {
    "duration": 8,
    "start_time": "2021-09-25T10:21:43.858Z"
   },
   {
    "duration": 42,
    "start_time": "2021-09-25T10:21:43.868Z"
   },
   {
    "duration": 5,
    "start_time": "2021-09-25T10:21:43.915Z"
   },
   {
    "duration": 18,
    "start_time": "2021-09-25T10:21:43.923Z"
   },
   {
    "duration": 39,
    "start_time": "2021-09-25T10:21:43.943Z"
   },
   {
    "duration": 17,
    "start_time": "2021-09-25T10:21:43.985Z"
   },
   {
    "duration": 17,
    "start_time": "2021-09-25T10:21:44.004Z"
   },
   {
    "duration": 10,
    "start_time": "2021-09-25T10:21:44.023Z"
   },
   {
    "duration": 50,
    "start_time": "2021-09-25T10:21:44.035Z"
   },
   {
    "duration": 103,
    "start_time": "2021-09-25T10:21:44.088Z"
   },
   {
    "duration": 16,
    "start_time": "2021-09-25T10:21:44.194Z"
   },
   {
    "duration": 79,
    "start_time": "2021-09-25T10:21:44.213Z"
   },
   {
    "duration": 105,
    "start_time": "2021-09-25T10:21:44.295Z"
   },
   {
    "duration": 84,
    "start_time": "2021-09-25T10:21:44.403Z"
   },
   {
    "duration": 101,
    "start_time": "2021-09-25T10:21:44.491Z"
   },
   {
    "duration": 8,
    "start_time": "2021-09-25T10:21:44.594Z"
   },
   {
    "duration": 13,
    "start_time": "2021-09-25T10:21:44.604Z"
   },
   {
    "duration": 8,
    "start_time": "2021-09-25T10:21:44.619Z"
   },
   {
    "duration": 5303,
    "start_time": "2021-09-25T10:21:44.629Z"
   },
   {
    "duration": 5172,
    "start_time": "2021-09-25T10:21:49.935Z"
   },
   {
    "duration": 5201,
    "start_time": "2021-09-25T10:21:55.109Z"
   },
   {
    "duration": 6,
    "start_time": "2021-09-25T10:22:19.807Z"
   },
   {
    "duration": 456,
    "start_time": "2021-09-25T10:22:19.816Z"
   },
   {
    "duration": 13,
    "start_time": "2021-09-25T10:22:20.275Z"
   },
   {
    "duration": 17,
    "start_time": "2021-09-25T10:22:20.290Z"
   },
   {
    "duration": 14,
    "start_time": "2021-09-25T10:22:20.309Z"
   },
   {
    "duration": 7,
    "start_time": "2021-09-25T10:22:20.325Z"
   },
   {
    "duration": 10,
    "start_time": "2021-09-25T10:22:20.334Z"
   },
   {
    "duration": 38,
    "start_time": "2021-09-25T10:22:20.346Z"
   },
   {
    "duration": 13,
    "start_time": "2021-09-25T10:22:20.388Z"
   },
   {
    "duration": 13,
    "start_time": "2021-09-25T10:22:20.404Z"
   },
   {
    "duration": 14,
    "start_time": "2021-09-25T10:22:20.419Z"
   },
   {
    "duration": 106,
    "start_time": "2021-09-25T10:22:20.435Z"
   },
   {
    "duration": 77,
    "start_time": "2021-09-25T10:22:20.543Z"
   },
   {
    "duration": 71,
    "start_time": "2021-09-25T10:22:20.622Z"
   },
   {
    "duration": 6,
    "start_time": "2021-09-25T10:22:20.695Z"
   },
   {
    "duration": 63,
    "start_time": "2021-09-25T10:22:20.705Z"
   },
   {
    "duration": 862,
    "start_time": "2021-09-25T10:22:20.771Z"
   },
   {
    "duration": 5,
    "start_time": "2021-09-25T10:22:21.635Z"
   },
   {
    "duration": 66,
    "start_time": "2021-09-25T10:22:21.643Z"
   },
   {
    "duration": 1060,
    "start_time": "2021-09-25T10:22:21.712Z"
   },
   {
    "duration": 10,
    "start_time": "2021-09-25T10:22:22.775Z"
   },
   {
    "duration": 54,
    "start_time": "2021-09-25T10:22:22.788Z"
   },
   {
    "duration": 884,
    "start_time": "2021-09-25T10:22:22.844Z"
   },
   {
    "duration": 2,
    "start_time": "2021-09-25T10:22:23.731Z"
   },
   {
    "duration": 7,
    "start_time": "2021-09-25T10:22:23.735Z"
   },
   {
    "duration": 53,
    "start_time": "2021-09-25T10:22:23.744Z"
   },
   {
    "duration": 6,
    "start_time": "2021-09-25T10:22:23.805Z"
   },
   {
    "duration": 14,
    "start_time": "2021-09-25T10:22:23.815Z"
   },
   {
    "duration": 51,
    "start_time": "2021-09-25T10:22:23.831Z"
   },
   {
    "duration": 19,
    "start_time": "2021-09-25T10:22:23.885Z"
   },
   {
    "duration": 17,
    "start_time": "2021-09-25T10:22:23.907Z"
   },
   {
    "duration": 10,
    "start_time": "2021-09-25T10:22:23.926Z"
   },
   {
    "duration": 54,
    "start_time": "2021-09-25T10:22:23.939Z"
   },
   {
    "duration": 99,
    "start_time": "2021-09-25T10:22:24.084Z"
   },
   {
    "duration": 100,
    "start_time": "2021-09-25T10:22:24.186Z"
   },
   {
    "duration": 101,
    "start_time": "2021-09-25T10:22:24.290Z"
   },
   {
    "duration": 89,
    "start_time": "2021-09-25T10:22:24.393Z"
   },
   {
    "duration": 97,
    "start_time": "2021-09-25T10:22:24.486Z"
   },
   {
    "duration": 15,
    "start_time": "2021-09-25T10:22:24.586Z"
   },
   {
    "duration": 9,
    "start_time": "2021-09-25T10:22:24.604Z"
   },
   {
    "duration": 8,
    "start_time": "2021-09-25T10:22:24.615Z"
   },
   {
    "duration": 12,
    "start_time": "2021-09-25T10:22:24.625Z"
   },
   {
    "duration": 5268,
    "start_time": "2021-09-25T10:22:24.639Z"
   },
   {
    "duration": 5220,
    "start_time": "2021-09-25T10:22:29.910Z"
   },
   {
    "duration": 5178,
    "start_time": "2021-09-25T10:22:35.132Z"
   },
   {
    "duration": 13,
    "start_time": "2021-09-25T10:23:29.178Z"
   },
   {
    "duration": 21,
    "start_time": "2021-09-25T10:23:41.801Z"
   },
   {
    "duration": 17,
    "start_time": "2021-09-25T10:23:48.962Z"
   },
   {
    "duration": 437,
    "start_time": "2021-09-25T10:24:18.354Z"
   },
   {
    "duration": 12,
    "start_time": "2021-09-25T10:24:22.026Z"
   },
   {
    "duration": 25,
    "start_time": "2021-09-25T10:24:22.770Z"
   },
   {
    "duration": 12,
    "start_time": "2021-09-25T10:26:04.580Z"
   },
   {
    "duration": 17,
    "start_time": "2021-09-25T10:26:05.547Z"
   },
   {
    "duration": 5,
    "start_time": "2021-09-25T10:26:11.532Z"
   },
   {
    "duration": 464,
    "start_time": "2021-09-25T10:26:11.539Z"
   },
   {
    "duration": 13,
    "start_time": "2021-09-25T10:26:12.007Z"
   },
   {
    "duration": 12,
    "start_time": "2021-09-25T10:26:12.023Z"
   },
   {
    "duration": 43,
    "start_time": "2021-09-25T10:26:12.038Z"
   },
   {
    "duration": 5,
    "start_time": "2021-09-25T10:26:12.084Z"
   },
   {
    "duration": 7,
    "start_time": "2021-09-25T10:26:12.091Z"
   },
   {
    "duration": 8,
    "start_time": "2021-09-25T10:26:12.100Z"
   },
   {
    "duration": 13,
    "start_time": "2021-09-25T10:26:12.112Z"
   },
   {
    "duration": 54,
    "start_time": "2021-09-25T10:26:12.128Z"
   },
   {
    "duration": 12,
    "start_time": "2021-09-25T10:26:12.184Z"
   },
   {
    "duration": 83,
    "start_time": "2021-09-25T10:26:12.199Z"
   },
   {
    "duration": 60,
    "start_time": "2021-09-25T10:26:12.285Z"
   },
   {
    "duration": 86,
    "start_time": "2021-09-25T10:26:12.347Z"
   },
   {
    "duration": 6,
    "start_time": "2021-09-25T10:26:12.436Z"
   },
   {
    "duration": 69,
    "start_time": "2021-09-25T10:26:12.445Z"
   },
   {
    "duration": 868,
    "start_time": "2021-09-25T10:26:12.517Z"
   },
   {
    "duration": 6,
    "start_time": "2021-09-25T10:26:13.387Z"
   },
   {
    "duration": 60,
    "start_time": "2021-09-25T10:26:13.395Z"
   },
   {
    "duration": 843,
    "start_time": "2021-09-25T10:26:13.458Z"
   },
   {
    "duration": 5,
    "start_time": "2021-09-25T10:26:14.304Z"
   },
   {
    "duration": 71,
    "start_time": "2021-09-25T10:26:14.312Z"
   },
   {
    "duration": 868,
    "start_time": "2021-09-25T10:26:14.385Z"
   },
   {
    "duration": 3,
    "start_time": "2021-09-25T10:26:15.255Z"
   },
   {
    "duration": 23,
    "start_time": "2021-09-25T10:26:15.261Z"
   },
   {
    "duration": 34,
    "start_time": "2021-09-25T10:26:15.286Z"
   },
   {
    "duration": 6,
    "start_time": "2021-09-25T10:26:15.326Z"
   },
   {
    "duration": 11,
    "start_time": "2021-09-25T10:26:15.336Z"
   },
   {
    "duration": 44,
    "start_time": "2021-09-25T10:26:15.349Z"
   },
   {
    "duration": 17,
    "start_time": "2021-09-25T10:26:15.395Z"
   },
   {
    "duration": 16,
    "start_time": "2021-09-25T10:26:15.414Z"
   },
   {
    "duration": 11,
    "start_time": "2021-09-25T10:26:15.433Z"
   },
   {
    "duration": 236,
    "start_time": "2021-09-25T10:26:15.446Z"
   },
   {
    "duration": 14,
    "start_time": "2021-09-25T10:26:15.685Z"
   },
   {
    "duration": 80,
    "start_time": "2021-09-25T10:26:15.702Z"
   },
   {
    "duration": 98,
    "start_time": "2021-09-25T10:26:15.785Z"
   },
   {
    "duration": 17,
    "start_time": "2021-09-25T10:26:15.886Z"
   },
   {
    "duration": 8,
    "start_time": "2021-09-25T10:26:15.982Z"
   },
   {
    "duration": 9,
    "start_time": "2021-09-25T10:26:16.084Z"
   },
   {
    "duration": 9,
    "start_time": "2021-09-25T10:26:16.096Z"
   },
   {
    "duration": 6,
    "start_time": "2021-09-25T10:26:16.108Z"
   },
   {
    "duration": 142,
    "start_time": "2021-09-25T10:26:16.117Z"
   },
   {
    "duration": 5349,
    "start_time": "2021-09-25T10:26:16.262Z"
   },
   {
    "duration": 5197,
    "start_time": "2021-09-25T10:26:21.614Z"
   },
   {
    "duration": 5192,
    "start_time": "2021-09-25T10:26:26.813Z"
   },
   {
    "duration": 5,
    "start_time": "2021-09-25T10:27:38.540Z"
   },
   {
    "duration": 487,
    "start_time": "2021-09-25T10:27:38.549Z"
   },
   {
    "duration": 13,
    "start_time": "2021-09-25T10:27:39.039Z"
   },
   {
    "duration": 29,
    "start_time": "2021-09-25T10:27:39.055Z"
   },
   {
    "duration": 15,
    "start_time": "2021-09-25T10:27:39.087Z"
   },
   {
    "duration": 7,
    "start_time": "2021-09-25T10:27:39.105Z"
   },
   {
    "duration": 8,
    "start_time": "2021-09-25T10:27:39.115Z"
   },
   {
    "duration": 7,
    "start_time": "2021-09-25T10:27:39.126Z"
   },
   {
    "duration": 61,
    "start_time": "2021-09-25T10:27:39.137Z"
   },
   {
    "duration": 15,
    "start_time": "2021-09-25T10:27:39.202Z"
   },
   {
    "duration": 14,
    "start_time": "2021-09-25T10:27:39.220Z"
   },
   {
    "duration": 103,
    "start_time": "2021-09-25T10:27:39.236Z"
   },
   {
    "duration": 77,
    "start_time": "2021-09-25T10:27:39.342Z"
   },
   {
    "duration": 77,
    "start_time": "2021-09-25T10:27:39.422Z"
   },
   {
    "duration": 8,
    "start_time": "2021-09-25T10:27:39.501Z"
   },
   {
    "duration": 54,
    "start_time": "2021-09-25T10:27:39.511Z"
   },
   {
    "duration": 847,
    "start_time": "2021-09-25T10:27:39.582Z"
   },
   {
    "duration": 6,
    "start_time": "2021-09-25T10:27:40.431Z"
   },
   {
    "duration": 68,
    "start_time": "2021-09-25T10:27:40.440Z"
   },
   {
    "duration": 838,
    "start_time": "2021-09-25T10:27:40.511Z"
   },
   {
    "duration": 7,
    "start_time": "2021-09-25T10:27:41.351Z"
   },
   {
    "duration": 63,
    "start_time": "2021-09-25T10:27:41.360Z"
   },
   {
    "duration": 888,
    "start_time": "2021-09-25T10:27:41.425Z"
   },
   {
    "duration": 3,
    "start_time": "2021-09-25T10:27:42.315Z"
   },
   {
    "duration": 10,
    "start_time": "2021-09-25T10:27:42.321Z"
   },
   {
    "duration": 51,
    "start_time": "2021-09-25T10:27:42.333Z"
   },
   {
    "duration": 6,
    "start_time": "2021-09-25T10:27:42.389Z"
   },
   {
    "duration": 13,
    "start_time": "2021-09-25T10:27:42.398Z"
   },
   {
    "duration": 20,
    "start_time": "2021-09-25T10:27:42.414Z"
   },
   {
    "duration": 45,
    "start_time": "2021-09-25T10:27:42.437Z"
   },
   {
    "duration": 20,
    "start_time": "2021-09-25T10:27:42.485Z"
   },
   {
    "duration": 14,
    "start_time": "2021-09-25T10:27:42.508Z"
   },
   {
    "duration": 67,
    "start_time": "2021-09-25T10:27:42.524Z"
   },
   {
    "duration": 98,
    "start_time": "2021-09-25T10:27:42.594Z"
   },
   {
    "duration": 87,
    "start_time": "2021-09-25T10:27:42.695Z"
   },
   {
    "duration": 101,
    "start_time": "2021-09-25T10:27:42.787Z"
   },
   {
    "duration": 17,
    "start_time": "2021-09-25T10:27:42.890Z"
   },
   {
    "duration": 76,
    "start_time": "2021-09-25T10:27:42.910Z"
   },
   {
    "duration": 95,
    "start_time": "2021-09-25T10:27:42.990Z"
   },
   {
    "duration": 9,
    "start_time": "2021-09-25T10:27:43.088Z"
   },
   {
    "duration": 10,
    "start_time": "2021-09-25T10:27:43.099Z"
   },
   {
    "duration": 9,
    "start_time": "2021-09-25T10:27:43.111Z"
   },
   {
    "duration": 5344,
    "start_time": "2021-09-25T10:27:43.122Z"
   },
   {
    "duration": 5228,
    "start_time": "2021-09-25T10:27:48.468Z"
   },
   {
    "duration": 5194,
    "start_time": "2021-09-25T10:27:53.698Z"
   },
   {
    "duration": 1264,
    "start_time": "2021-09-25T10:29:12.935Z"
   },
   {
    "duration": 1366,
    "start_time": "2021-09-25T10:29:43.967Z"
   },
   {
    "duration": 7,
    "start_time": "2021-09-25T10:29:48.991Z"
   },
   {
    "duration": 50,
    "start_time": "2021-09-25T10:29:49.670Z"
   },
   {
    "duration": 1266,
    "start_time": "2021-09-25T10:29:50.607Z"
   },
   {
    "duration": 405,
    "start_time": "2021-09-25T10:33:20.907Z"
   },
   {
    "duration": 320,
    "start_time": "2021-09-25T10:33:27.010Z"
   },
   {
    "duration": 307,
    "start_time": "2021-09-25T10:33:34.299Z"
   },
   {
    "duration": 297,
    "start_time": "2021-09-25T10:33:50.714Z"
   },
   {
    "duration": 3,
    "start_time": "2021-09-25T10:34:20.812Z"
   },
   {
    "duration": 353,
    "start_time": "2021-09-26T09:42:36.184Z"
   },
   {
    "duration": 1464,
    "start_time": "2021-09-26T09:42:39.976Z"
   },
   {
    "duration": 695,
    "start_time": "2021-09-26T09:42:41.443Z"
   },
   {
    "duration": 18,
    "start_time": "2021-09-26T09:42:42.141Z"
   },
   {
    "duration": 19,
    "start_time": "2021-09-26T09:42:42.161Z"
   },
   {
    "duration": 32,
    "start_time": "2021-09-26T09:42:42.182Z"
   },
   {
    "duration": 21,
    "start_time": "2021-09-26T09:42:42.216Z"
   },
   {
    "duration": 23,
    "start_time": "2021-09-26T09:42:42.240Z"
   },
   {
    "duration": 16,
    "start_time": "2021-09-26T09:42:42.266Z"
   },
   {
    "duration": 31,
    "start_time": "2021-09-26T09:42:42.288Z"
   },
   {
    "duration": 19,
    "start_time": "2021-09-26T09:42:42.323Z"
   },
   {
    "duration": 27,
    "start_time": "2021-09-26T09:42:42.345Z"
   },
   {
    "duration": 82,
    "start_time": "2021-09-26T09:42:42.374Z"
   },
   {
    "duration": 74,
    "start_time": "2021-09-26T09:42:42.458Z"
   },
   {
    "duration": 66,
    "start_time": "2021-09-26T09:42:42.534Z"
   },
   {
    "duration": 26,
    "start_time": "2021-09-26T09:42:42.603Z"
   },
   {
    "duration": 79,
    "start_time": "2021-09-26T09:42:42.631Z"
   },
   {
    "duration": 1215,
    "start_time": "2021-09-26T09:42:42.721Z"
   },
   {
    "duration": 8,
    "start_time": "2021-09-26T09:42:43.941Z"
   },
   {
    "duration": 54,
    "start_time": "2021-09-26T09:42:43.951Z"
   },
   {
    "duration": 1214,
    "start_time": "2021-09-26T09:42:44.023Z"
   },
   {
    "duration": 7,
    "start_time": "2021-09-26T09:42:45.240Z"
   },
   {
    "duration": 56,
    "start_time": "2021-09-26T09:42:45.249Z"
   },
   {
    "duration": 1338,
    "start_time": "2021-09-26T09:42:45.307Z"
   },
   {
    "duration": 3,
    "start_time": "2021-09-26T09:42:46.648Z"
   },
   {
    "duration": 7,
    "start_time": "2021-09-26T09:42:46.653Z"
   },
   {
    "duration": 64,
    "start_time": "2021-09-26T09:42:46.662Z"
   },
   {
    "duration": 6,
    "start_time": "2021-09-26T09:42:46.732Z"
   },
   {
    "duration": 15,
    "start_time": "2021-09-26T09:42:46.741Z"
   },
   {
    "duration": 24,
    "start_time": "2021-09-26T09:42:46.759Z"
   },
   {
    "duration": 37,
    "start_time": "2021-09-26T09:42:46.785Z"
   },
   {
    "duration": 21,
    "start_time": "2021-09-26T09:42:46.824Z"
   },
   {
    "duration": 14,
    "start_time": "2021-09-26T09:42:46.847Z"
   },
   {
    "duration": 162,
    "start_time": "2021-09-26T09:42:46.864Z"
   },
   {
    "duration": 11,
    "start_time": "2021-09-26T09:42:47.029Z"
   },
   {
    "duration": 87,
    "start_time": "2021-09-26T09:42:47.043Z"
   },
   {
    "duration": 91,
    "start_time": "2021-09-26T09:42:47.133Z"
   },
   {
    "duration": 98,
    "start_time": "2021-09-26T09:42:47.229Z"
   },
   {
    "duration": 11,
    "start_time": "2021-09-26T09:42:47.330Z"
   },
   {
    "duration": 19,
    "start_time": "2021-09-26T09:42:47.423Z"
   },
   {
    "duration": 14,
    "start_time": "2021-09-26T09:42:47.445Z"
   },
   {
    "duration": 8,
    "start_time": "2021-09-26T09:42:47.461Z"
   },
   {
    "duration": 9,
    "start_time": "2021-09-26T09:42:47.471Z"
   },
   {
    "duration": 5399,
    "start_time": "2021-09-26T09:42:47.482Z"
   },
   {
    "duration": 5473,
    "start_time": "2021-09-26T09:42:52.883Z"
   },
   {
    "duration": 5585,
    "start_time": "2021-09-26T09:42:58.359Z"
   },
   {
    "duration": 5779,
    "start_time": "2021-09-26T09:43:07.931Z"
   },
   {
    "duration": 5486,
    "start_time": "2021-09-26T09:43:25.981Z"
   }
  ],
  "kernelspec": {
   "display_name": "Python 3",
   "language": "python",
   "name": "python3"
  },
  "language_info": {
   "codemirror_mode": {
    "name": "ipython",
    "version": 3
   },
   "file_extension": ".py",
   "mimetype": "text/x-python",
   "name": "python",
   "nbconvert_exporter": "python",
   "pygments_lexer": "ipython3",
   "version": "3.8.8"
  },
  "toc": {
   "base_numbering": 1,
   "nav_menu": {},
   "number_sections": true,
   "sideBar": true,
   "skip_h1_title": true,
   "title_cell": "Table of Contents",
   "title_sidebar": "Contents",
   "toc_cell": false,
   "toc_position": {},
   "toc_section_display": true,
   "toc_window_display": false
  }
 },
 "nbformat": 4,
 "nbformat_minor": 2
}
