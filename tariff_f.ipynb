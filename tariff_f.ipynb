{
 "cells": [
  {
   "cell_type": "markdown",
   "metadata": {},
   "source": [
    "<div style=\"border:solid lightblue 3px; padding: 20px\">\n",
    "<b>Общий комментарий ревьюера V2:</b>\n",
    "\n",
    "У тебя замечательная и очень сильная работа. Спасибо тебе большое, что ты уделил оформлению проекта особое внимание - ты не представляешь как приятно не рыться в коде и не скролить туды сюды блокнот, чтобы найти какую-нибудь информацию. Каждый заголовок выделен, каждое рассуждение выделено, каждый пункт выделен.\n",
    "    \n",
    "Так же стоит поработать над следующими моменатами:\n",
    "    \n",
    "1. При анализе выборок ты применяешь приавло 3 сигм, которое применяется только к нормальному распределению. Сделай сначала анализ своих выборок и посмотри какое у них распределение?\n",
    "2. Добавь вывлжы по п.3. своего проекта.\n",
    "3. Добавь постановку задачи по второй гипотезе.\n",
    "    \n",
    "Оставил ряд рекомендаций и пояснений, если будут вопросы, то задай их. Буду ждать твоих исправлений😊"
   ]
  },
  {
   "cell_type": "markdown",
   "metadata": {},
   "source": [
    "<div style=\"border:solid lightblue 3px; padding: 20px\">\n",
    "<b>Общий комментарий ревьюера V3:</b>\n",
    "\n",
    "Работа по комментариям успешно произведена, оставил пару рекомендаций для улучшения твоих подходов. Проект принят, удачи на следующих спринтах😊"
   ]
  },
  {
   "cell_type": "markdown",
   "metadata": {},
   "source": [
    "# Определение перспективного тарифа для телеком компании."
   ]
  },
  {
   "cell_type": "markdown",
   "metadata": {},
   "source": [
    "# Описание проекта\n",
    "Вы аналитик компании «Мегалайн» — федерального оператора сотовой связи. Клиентам предлагают два тарифных плана: «Смарт» и «Ультра». Чтобы скорректировать рекламный бюджет, коммерческий департамент хочет понять, какой тариф приносит больше денег.\n",
    "Вам предстоит сделать предварительный анализ тарифов на небольшой выборке клиентов. В вашем распоряжении данные 500 пользователей «Мегалайна»: кто они, откуда, каким тарифом пользуются, сколько звонков и сообщений каждый отправил за 2018 год. Нужно проанализировать поведение клиентов и сделать вывод — какой тариф лучше.\n"
   ]
  },
  {
   "cell_type": "markdown",
   "metadata": {},
   "source": [
    "# Описание тарифов\n",
    "Тариф «Смарт»\n",
    "1.\tЕжемесячная плата: 550 рублей\n",
    "2.\tВключено 500 минут разговора, 50 сообщений и 15 Гб интернет-трафика\n",
    "3.\tСтоимость услуг сверх тарифного пакета:\n",
    "•\tминута разговора: 3 рубля\n",
    "•\tсообщение: 3 рубля\n",
    "•\t1 Гб интернет-трафика: 200 рублей\n",
    "Тариф «Ультра»\n",
    "1.\tЕжемесячная плата: 1950 рублей\n",
    "2.\tВключено 3000 минут разговора, 1000 сообщений и 30 Гб интернет-трафика\n",
    "3.\tСтоимость услуг сверх тарифного пакета:\n",
    "•\tминута разговора: 1 рубль\n",
    "•\tсообщение: 1 рубль\n",
    "•\t1 Гб интернет-трафика: 150 рублей\n",
    "Примечание:\n",
    "«Мегалайн» всегда округляет секунды до минут, а мегабайты — до гигабайт. Каждый звонок округляется отдельно: даже если он длился всего 1 секунду, будет засчитан как 1 минута.\n",
    "Для веб-трафика отдельные сессии не считаются. Вместо этого общая сумма за месяц округляется в бо́льшую сторону. Если абонент использует 1025 мегабайт в этом месяце, с него возьмут плату за 2 гигабайта.\n"
   ]
  },
  {
   "cell_type": "markdown",
   "metadata": {},
   "source": [
    "# Таблица (информация о пользователях):\n",
    "\n",
    "user_id — уникальный идентификатор пользователя\n",
    "first_name — имя пользователя\n",
    "last_name — фамилия пользователя\n",
    "age — возраст пользователя (годы)\n",
    "reg_date — дата подключения тарифа (день, месяц, год)\n",
    "churn_date — дата прекращения пользования тарифом (если значение пропущено, то тариф ещё действовал на момент выгрузки данных)\n",
    "city — город проживания пользователя\n",
    "tariff — название тарифного плана\n",
    "Таблица (информация о звонках):\n",
    "\n",
    "id — уникальный номер звонка\n",
    "call_date — дата звонка\n",
    "duration — длительность звонка в минутах\n",
    "user_id — идентификатор пользователя, сделавшего звонок\n",
    "Таблица (информация о сообщениях):\n",
    "\n",
    "id — уникальный номер сообщения\n",
    "message_date — дата сообщения\n",
    "user_id — идентификатор пользователя, отправившего сообщение\n",
    "Таблица (информация об интернет-сессиях):\n",
    "\n",
    "id — уникальный номер сессии\n",
    "mb_used — объём потраченного за сессию интернет-трафика (в мегабайтах)\n",
    "session_date — дата интернет-сессии\n",
    "user_id — идентификатор пользователя\n",
    "Таблица (информация о тарифах):\n",
    "\n",
    "tariff_name — название тарифа\n",
    "rub_monthly_fee — ежемесячная абонентская плата в рублях\n",
    "minutes_included — количество минут разговора в месяц, включённых в абонентскую плату\n",
    "messages_included — количество сообщений в месяц, включённых в абонентскую плату\n",
    "mb_per_month_included — объём интернет-трафика, включённого в абонентскую плату (в мегабайтах)\n",
    "rub_per_minute — стоимость минуты разговора сверх тарифного пакета (например, если в тарифе 100 минут разговора в месяц, то со 101 минуты будет взиматься плата)\n",
    "rub_per_message — стоимость отправки сообщения сверх тарифного пакета\n",
    "rub_per_gb — стоимость дополнительного гигабайта интернет-трафика сверх тарифного пакета (1 гигабайт = 1024 мегабайта)"
   ]
  },
  {
   "cell_type": "markdown",
   "metadata": {},
   "source": [
    "##  Изучение общей информации"
   ]
  },
  {
   "cell_type": "code",
   "execution_count": 127,
   "metadata": {},
   "outputs": [],
   "source": [
    "import pandas as pd\n",
    "import matplotlib.pyplot as plt\n",
    "import math\n",
    "import numpy as np\n",
    "from scipy import stats as st\n",
    "import copy\n",
    "pd.set_option('display.float_format', '{:,.2f}'.format)"
   ]
  },
  {
   "cell_type": "code",
   "execution_count": 128,
   "metadata": {},
   "outputs": [],
   "source": [
    "calls = pd.read_csv('/datasets/calls.csv')\n",
    "internet = pd.read_csv('/datasets/internet.csv')\n",
    "messages = pd.read_csv('/datasets/messages.csv')\n",
    "tariffs = pd.read_csv('/datasets/tariffs.csv')\n",
    "users = pd.read_csv('/datasets/users.csv')"
   ]
  },
  {
   "cell_type": "code",
   "execution_count": 129,
   "metadata": {},
   "outputs": [
    {
     "data": {
      "text/html": [
       "<div>\n",
       "<style scoped>\n",
       "    .dataframe tbody tr th:only-of-type {\n",
       "        vertical-align: middle;\n",
       "    }\n",
       "\n",
       "    .dataframe tbody tr th {\n",
       "        vertical-align: top;\n",
       "    }\n",
       "\n",
       "    .dataframe thead th {\n",
       "        text-align: right;\n",
       "    }\n",
       "</style>\n",
       "<table border=\"1\" class=\"dataframe\">\n",
       "  <thead>\n",
       "    <tr style=\"text-align: right;\">\n",
       "      <th></th>\n",
       "      <th>id</th>\n",
       "      <th>call_date</th>\n",
       "      <th>duration</th>\n",
       "      <th>user_id</th>\n",
       "    </tr>\n",
       "  </thead>\n",
       "  <tbody>\n",
       "    <tr>\n",
       "      <td>0</td>\n",
       "      <td>1000_0</td>\n",
       "      <td>2018-07-25</td>\n",
       "      <td>0.00</td>\n",
       "      <td>1000</td>\n",
       "    </tr>\n",
       "    <tr>\n",
       "      <td>1</td>\n",
       "      <td>1000_1</td>\n",
       "      <td>2018-08-17</td>\n",
       "      <td>0.00</td>\n",
       "      <td>1000</td>\n",
       "    </tr>\n",
       "    <tr>\n",
       "      <td>2</td>\n",
       "      <td>1000_2</td>\n",
       "      <td>2018-06-11</td>\n",
       "      <td>2.85</td>\n",
       "      <td>1000</td>\n",
       "    </tr>\n",
       "    <tr>\n",
       "      <td>3</td>\n",
       "      <td>1000_3</td>\n",
       "      <td>2018-09-21</td>\n",
       "      <td>13.80</td>\n",
       "      <td>1000</td>\n",
       "    </tr>\n",
       "    <tr>\n",
       "      <td>4</td>\n",
       "      <td>1000_4</td>\n",
       "      <td>2018-12-15</td>\n",
       "      <td>5.18</td>\n",
       "      <td>1000</td>\n",
       "    </tr>\n",
       "    <tr>\n",
       "      <td>5</td>\n",
       "      <td>1000_5</td>\n",
       "      <td>2018-11-02</td>\n",
       "      <td>0.00</td>\n",
       "      <td>1000</td>\n",
       "    </tr>\n",
       "    <tr>\n",
       "      <td>6</td>\n",
       "      <td>1000_6</td>\n",
       "      <td>2018-10-18</td>\n",
       "      <td>0.00</td>\n",
       "      <td>1000</td>\n",
       "    </tr>\n",
       "    <tr>\n",
       "      <td>7</td>\n",
       "      <td>1000_7</td>\n",
       "      <td>2018-08-22</td>\n",
       "      <td>18.31</td>\n",
       "      <td>1000</td>\n",
       "    </tr>\n",
       "    <tr>\n",
       "      <td>8</td>\n",
       "      <td>1000_8</td>\n",
       "      <td>2018-09-15</td>\n",
       "      <td>18.44</td>\n",
       "      <td>1000</td>\n",
       "    </tr>\n",
       "    <tr>\n",
       "      <td>9</td>\n",
       "      <td>1000_9</td>\n",
       "      <td>2018-08-15</td>\n",
       "      <td>0.00</td>\n",
       "      <td>1000</td>\n",
       "    </tr>\n",
       "  </tbody>\n",
       "</table>\n",
       "</div>"
      ],
      "text/plain": [
       "       id   call_date  duration  user_id\n",
       "0  1000_0  2018-07-25      0.00     1000\n",
       "1  1000_1  2018-08-17      0.00     1000\n",
       "2  1000_2  2018-06-11      2.85     1000\n",
       "3  1000_3  2018-09-21     13.80     1000\n",
       "4  1000_4  2018-12-15      5.18     1000\n",
       "5  1000_5  2018-11-02      0.00     1000\n",
       "6  1000_6  2018-10-18      0.00     1000\n",
       "7  1000_7  2018-08-22     18.31     1000\n",
       "8  1000_8  2018-09-15     18.44     1000\n",
       "9  1000_9  2018-08-15      0.00     1000"
      ]
     },
     "execution_count": 129,
     "metadata": {},
     "output_type": "execute_result"
    }
   ],
   "source": [
    "calls.head(10)"
   ]
  },
  {
   "cell_type": "code",
   "execution_count": 130,
   "metadata": {},
   "outputs": [
    {
     "name": "stdout",
     "output_type": "stream",
     "text": [
      "<class 'pandas.core.frame.DataFrame'>\n",
      "RangeIndex: 202607 entries, 0 to 202606\n",
      "Data columns (total 4 columns):\n",
      "id           202607 non-null object\n",
      "call_date    202607 non-null object\n",
      "duration     202607 non-null float64\n",
      "user_id      202607 non-null int64\n",
      "dtypes: float64(1), int64(1), object(2)\n",
      "memory usage: 6.2+ MB\n"
     ]
    }
   ],
   "source": [
    "calls.info()"
   ]
  },
  {
   "cell_type": "markdown",
   "metadata": {},
   "source": [
    "Необходимо превести дату к соответствующему формату"
   ]
  },
  {
   "cell_type": "code",
   "execution_count": 131,
   "metadata": {},
   "outputs": [
    {
     "data": {
      "text/html": [
       "<div>\n",
       "<style scoped>\n",
       "    .dataframe tbody tr th:only-of-type {\n",
       "        vertical-align: middle;\n",
       "    }\n",
       "\n",
       "    .dataframe tbody tr th {\n",
       "        vertical-align: top;\n",
       "    }\n",
       "\n",
       "    .dataframe thead th {\n",
       "        text-align: right;\n",
       "    }\n",
       "</style>\n",
       "<table border=\"1\" class=\"dataframe\">\n",
       "  <thead>\n",
       "    <tr style=\"text-align: right;\">\n",
       "      <th></th>\n",
       "      <th>id</th>\n",
       "      <th>call_date</th>\n",
       "      <th>duration</th>\n",
       "      <th>user_id</th>\n",
       "      <th>month</th>\n",
       "    </tr>\n",
       "  </thead>\n",
       "  <tbody>\n",
       "    <tr>\n",
       "      <td>0</td>\n",
       "      <td>1000_0</td>\n",
       "      <td>2018-07-25</td>\n",
       "      <td>0.00</td>\n",
       "      <td>1000</td>\n",
       "      <td>7</td>\n",
       "    </tr>\n",
       "    <tr>\n",
       "      <td>1</td>\n",
       "      <td>1000_1</td>\n",
       "      <td>2018-08-17</td>\n",
       "      <td>0.00</td>\n",
       "      <td>1000</td>\n",
       "      <td>8</td>\n",
       "    </tr>\n",
       "    <tr>\n",
       "      <td>2</td>\n",
       "      <td>1000_2</td>\n",
       "      <td>2018-06-11</td>\n",
       "      <td>2.85</td>\n",
       "      <td>1000</td>\n",
       "      <td>6</td>\n",
       "    </tr>\n",
       "    <tr>\n",
       "      <td>3</td>\n",
       "      <td>1000_3</td>\n",
       "      <td>2018-09-21</td>\n",
       "      <td>13.80</td>\n",
       "      <td>1000</td>\n",
       "      <td>9</td>\n",
       "    </tr>\n",
       "    <tr>\n",
       "      <td>4</td>\n",
       "      <td>1000_4</td>\n",
       "      <td>2018-12-15</td>\n",
       "      <td>5.18</td>\n",
       "      <td>1000</td>\n",
       "      <td>12</td>\n",
       "    </tr>\n",
       "    <tr>\n",
       "      <td>...</td>\n",
       "      <td>...</td>\n",
       "      <td>...</td>\n",
       "      <td>...</td>\n",
       "      <td>...</td>\n",
       "      <td>...</td>\n",
       "    </tr>\n",
       "    <tr>\n",
       "      <td>202602</td>\n",
       "      <td>1499_215</td>\n",
       "      <td>2018-12-26</td>\n",
       "      <td>0.76</td>\n",
       "      <td>1499</td>\n",
       "      <td>12</td>\n",
       "    </tr>\n",
       "    <tr>\n",
       "      <td>202603</td>\n",
       "      <td>1499_216</td>\n",
       "      <td>2018-10-18</td>\n",
       "      <td>18.83</td>\n",
       "      <td>1499</td>\n",
       "      <td>10</td>\n",
       "    </tr>\n",
       "    <tr>\n",
       "      <td>202604</td>\n",
       "      <td>1499_217</td>\n",
       "      <td>2018-11-10</td>\n",
       "      <td>10.81</td>\n",
       "      <td>1499</td>\n",
       "      <td>11</td>\n",
       "    </tr>\n",
       "    <tr>\n",
       "      <td>202605</td>\n",
       "      <td>1499_218</td>\n",
       "      <td>2018-10-06</td>\n",
       "      <td>4.27</td>\n",
       "      <td>1499</td>\n",
       "      <td>10</td>\n",
       "    </tr>\n",
       "    <tr>\n",
       "      <td>202606</td>\n",
       "      <td>1499_219</td>\n",
       "      <td>2018-12-14</td>\n",
       "      <td>19.62</td>\n",
       "      <td>1499</td>\n",
       "      <td>12</td>\n",
       "    </tr>\n",
       "  </tbody>\n",
       "</table>\n",
       "<p>202607 rows × 5 columns</p>\n",
       "</div>"
      ],
      "text/plain": [
       "              id  call_date  duration  user_id  month\n",
       "0         1000_0 2018-07-25      0.00     1000      7\n",
       "1         1000_1 2018-08-17      0.00     1000      8\n",
       "2         1000_2 2018-06-11      2.85     1000      6\n",
       "3         1000_3 2018-09-21     13.80     1000      9\n",
       "4         1000_4 2018-12-15      5.18     1000     12\n",
       "...          ...        ...       ...      ...    ...\n",
       "202602  1499_215 2018-12-26      0.76     1499     12\n",
       "202603  1499_216 2018-10-18     18.83     1499     10\n",
       "202604  1499_217 2018-11-10     10.81     1499     11\n",
       "202605  1499_218 2018-10-06      4.27     1499     10\n",
       "202606  1499_219 2018-12-14     19.62     1499     12\n",
       "\n",
       "[202607 rows x 5 columns]"
      ]
     },
     "execution_count": 131,
     "metadata": {},
     "output_type": "execute_result"
    }
   ],
   "source": [
    "calls['call_date'] = pd.to_datetime(calls['call_date'], format='%Y-%m-%d')\n",
    "calls['month'] = calls['call_date'].dt.month\n",
    "calls"
   ]
  },
  {
   "cell_type": "code",
   "execution_count": 132,
   "metadata": {},
   "outputs": [
    {
     "data": {
      "text/html": [
       "<div>\n",
       "<style scoped>\n",
       "    .dataframe tbody tr th:only-of-type {\n",
       "        vertical-align: middle;\n",
       "    }\n",
       "\n",
       "    .dataframe tbody tr th {\n",
       "        vertical-align: top;\n",
       "    }\n",
       "\n",
       "    .dataframe thead th {\n",
       "        text-align: right;\n",
       "    }\n",
       "</style>\n",
       "<table border=\"1\" class=\"dataframe\">\n",
       "  <thead>\n",
       "    <tr style=\"text-align: right;\">\n",
       "      <th></th>\n",
       "      <th>duration</th>\n",
       "      <th>user_id</th>\n",
       "      <th>month</th>\n",
       "    </tr>\n",
       "  </thead>\n",
       "  <tbody>\n",
       "    <tr>\n",
       "      <td>count</td>\n",
       "      <td>202,607.00</td>\n",
       "      <td>202,607.00</td>\n",
       "      <td>202,607.00</td>\n",
       "    </tr>\n",
       "    <tr>\n",
       "      <td>mean</td>\n",
       "      <td>6.76</td>\n",
       "      <td>1,253.94</td>\n",
       "      <td>8.57</td>\n",
       "    </tr>\n",
       "    <tr>\n",
       "      <td>std</td>\n",
       "      <td>5.84</td>\n",
       "      <td>144.72</td>\n",
       "      <td>2.79</td>\n",
       "    </tr>\n",
       "    <tr>\n",
       "      <td>min</td>\n",
       "      <td>0.00</td>\n",
       "      <td>1,000.00</td>\n",
       "      <td>1.00</td>\n",
       "    </tr>\n",
       "    <tr>\n",
       "      <td>25%</td>\n",
       "      <td>1.30</td>\n",
       "      <td>1,126.00</td>\n",
       "      <td>7.00</td>\n",
       "    </tr>\n",
       "    <tr>\n",
       "      <td>50%</td>\n",
       "      <td>6.00</td>\n",
       "      <td>1,260.00</td>\n",
       "      <td>9.00</td>\n",
       "    </tr>\n",
       "    <tr>\n",
       "      <td>75%</td>\n",
       "      <td>10.70</td>\n",
       "      <td>1,379.00</td>\n",
       "      <td>11.00</td>\n",
       "    </tr>\n",
       "    <tr>\n",
       "      <td>max</td>\n",
       "      <td>38.00</td>\n",
       "      <td>1,499.00</td>\n",
       "      <td>12.00</td>\n",
       "    </tr>\n",
       "  </tbody>\n",
       "</table>\n",
       "</div>"
      ],
      "text/plain": [
       "        duration    user_id      month\n",
       "count 202,607.00 202,607.00 202,607.00\n",
       "mean        6.76   1,253.94       8.57\n",
       "std         5.84     144.72       2.79\n",
       "min         0.00   1,000.00       1.00\n",
       "25%         1.30   1,126.00       7.00\n",
       "50%         6.00   1,260.00       9.00\n",
       "75%        10.70   1,379.00      11.00\n",
       "max        38.00   1,499.00      12.00"
      ]
     },
     "execution_count": 132,
     "metadata": {},
     "output_type": "execute_result"
    }
   ],
   "source": [
    "calls.describe()"
   ]
  },
  {
   "cell_type": "markdown",
   "metadata": {},
   "source": [
    "Нужно округлить занчения до целых как в условии и заменить нули на единицу!"
   ]
  },
  {
   "cell_type": "code",
   "execution_count": 133,
   "metadata": {},
   "outputs": [
    {
     "data": {
      "text/html": [
       "<div>\n",
       "<style scoped>\n",
       "    .dataframe tbody tr th:only-of-type {\n",
       "        vertical-align: middle;\n",
       "    }\n",
       "\n",
       "    .dataframe tbody tr th {\n",
       "        vertical-align: top;\n",
       "    }\n",
       "\n",
       "    .dataframe thead th {\n",
       "        text-align: right;\n",
       "    }\n",
       "</style>\n",
       "<table border=\"1\" class=\"dataframe\">\n",
       "  <thead>\n",
       "    <tr style=\"text-align: right;\">\n",
       "      <th></th>\n",
       "      <th>id</th>\n",
       "      <th>call_date</th>\n",
       "      <th>duration</th>\n",
       "      <th>user_id</th>\n",
       "      <th>month</th>\n",
       "    </tr>\n",
       "  </thead>\n",
       "  <tbody>\n",
       "    <tr>\n",
       "      <td>0</td>\n",
       "      <td>1000_0</td>\n",
       "      <td>2018-07-25</td>\n",
       "      <td>1.00</td>\n",
       "      <td>1000</td>\n",
       "      <td>7</td>\n",
       "    </tr>\n",
       "    <tr>\n",
       "      <td>1</td>\n",
       "      <td>1000_1</td>\n",
       "      <td>2018-08-17</td>\n",
       "      <td>1.00</td>\n",
       "      <td>1000</td>\n",
       "      <td>8</td>\n",
       "    </tr>\n",
       "    <tr>\n",
       "      <td>2</td>\n",
       "      <td>1000_2</td>\n",
       "      <td>2018-06-11</td>\n",
       "      <td>3.00</td>\n",
       "      <td>1000</td>\n",
       "      <td>6</td>\n",
       "    </tr>\n",
       "    <tr>\n",
       "      <td>3</td>\n",
       "      <td>1000_3</td>\n",
       "      <td>2018-09-21</td>\n",
       "      <td>14.00</td>\n",
       "      <td>1000</td>\n",
       "      <td>9</td>\n",
       "    </tr>\n",
       "    <tr>\n",
       "      <td>4</td>\n",
       "      <td>1000_4</td>\n",
       "      <td>2018-12-15</td>\n",
       "      <td>6.00</td>\n",
       "      <td>1000</td>\n",
       "      <td>12</td>\n",
       "    </tr>\n",
       "    <tr>\n",
       "      <td>5</td>\n",
       "      <td>1000_5</td>\n",
       "      <td>2018-11-02</td>\n",
       "      <td>1.00</td>\n",
       "      <td>1000</td>\n",
       "      <td>11</td>\n",
       "    </tr>\n",
       "    <tr>\n",
       "      <td>6</td>\n",
       "      <td>1000_6</td>\n",
       "      <td>2018-10-18</td>\n",
       "      <td>1.00</td>\n",
       "      <td>1000</td>\n",
       "      <td>10</td>\n",
       "    </tr>\n",
       "    <tr>\n",
       "      <td>7</td>\n",
       "      <td>1000_7</td>\n",
       "      <td>2018-08-22</td>\n",
       "      <td>19.00</td>\n",
       "      <td>1000</td>\n",
       "      <td>8</td>\n",
       "    </tr>\n",
       "    <tr>\n",
       "      <td>8</td>\n",
       "      <td>1000_8</td>\n",
       "      <td>2018-09-15</td>\n",
       "      <td>19.00</td>\n",
       "      <td>1000</td>\n",
       "      <td>9</td>\n",
       "    </tr>\n",
       "    <tr>\n",
       "      <td>9</td>\n",
       "      <td>1000_9</td>\n",
       "      <td>2018-08-15</td>\n",
       "      <td>1.00</td>\n",
       "      <td>1000</td>\n",
       "      <td>8</td>\n",
       "    </tr>\n",
       "  </tbody>\n",
       "</table>\n",
       "</div>"
      ],
      "text/plain": [
       "       id  call_date  duration  user_id  month\n",
       "0  1000_0 2018-07-25      1.00     1000      7\n",
       "1  1000_1 2018-08-17      1.00     1000      8\n",
       "2  1000_2 2018-06-11      3.00     1000      6\n",
       "3  1000_3 2018-09-21     14.00     1000      9\n",
       "4  1000_4 2018-12-15      6.00     1000     12\n",
       "5  1000_5 2018-11-02      1.00     1000     11\n",
       "6  1000_6 2018-10-18      1.00     1000     10\n",
       "7  1000_7 2018-08-22     19.00     1000      8\n",
       "8  1000_8 2018-09-15     19.00     1000      9\n",
       "9  1000_9 2018-08-15      1.00     1000      8"
      ]
     },
     "execution_count": 133,
     "metadata": {},
     "output_type": "execute_result"
    }
   ],
   "source": [
    "calls['duration'] = calls['duration'].apply(np.ceil)\n",
    "calls['duration'] = calls['duration'].replace(0,1)\n",
    "calls.head(10)"
   ]
  },
  {
   "cell_type": "markdown",
   "metadata": {},
   "source": [
    "# Посмторим таблицу internet"
   ]
  },
  {
   "cell_type": "code",
   "execution_count": 134,
   "metadata": {},
   "outputs": [
    {
     "data": {
      "text/html": [
       "<div>\n",
       "<style scoped>\n",
       "    .dataframe tbody tr th:only-of-type {\n",
       "        vertical-align: middle;\n",
       "    }\n",
       "\n",
       "    .dataframe tbody tr th {\n",
       "        vertical-align: top;\n",
       "    }\n",
       "\n",
       "    .dataframe thead th {\n",
       "        text-align: right;\n",
       "    }\n",
       "</style>\n",
       "<table border=\"1\" class=\"dataframe\">\n",
       "  <thead>\n",
       "    <tr style=\"text-align: right;\">\n",
       "      <th></th>\n",
       "      <th>Unnamed: 0</th>\n",
       "      <th>id</th>\n",
       "      <th>mb_used</th>\n",
       "      <th>session_date</th>\n",
       "      <th>user_id</th>\n",
       "    </tr>\n",
       "  </thead>\n",
       "  <tbody>\n",
       "    <tr>\n",
       "      <td>0</td>\n",
       "      <td>0</td>\n",
       "      <td>1000_0</td>\n",
       "      <td>112.95</td>\n",
       "      <td>2018-11-25</td>\n",
       "      <td>1000</td>\n",
       "    </tr>\n",
       "    <tr>\n",
       "      <td>1</td>\n",
       "      <td>1</td>\n",
       "      <td>1000_1</td>\n",
       "      <td>1,052.81</td>\n",
       "      <td>2018-09-07</td>\n",
       "      <td>1000</td>\n",
       "    </tr>\n",
       "    <tr>\n",
       "      <td>2</td>\n",
       "      <td>2</td>\n",
       "      <td>1000_2</td>\n",
       "      <td>1,197.26</td>\n",
       "      <td>2018-06-25</td>\n",
       "      <td>1000</td>\n",
       "    </tr>\n",
       "    <tr>\n",
       "      <td>3</td>\n",
       "      <td>3</td>\n",
       "      <td>1000_3</td>\n",
       "      <td>550.27</td>\n",
       "      <td>2018-08-22</td>\n",
       "      <td>1000</td>\n",
       "    </tr>\n",
       "    <tr>\n",
       "      <td>4</td>\n",
       "      <td>4</td>\n",
       "      <td>1000_4</td>\n",
       "      <td>302.56</td>\n",
       "      <td>2018-09-24</td>\n",
       "      <td>1000</td>\n",
       "    </tr>\n",
       "    <tr>\n",
       "      <td>5</td>\n",
       "      <td>5</td>\n",
       "      <td>1000_5</td>\n",
       "      <td>399.97</td>\n",
       "      <td>2018-10-02</td>\n",
       "      <td>1000</td>\n",
       "    </tr>\n",
       "    <tr>\n",
       "      <td>6</td>\n",
       "      <td>6</td>\n",
       "      <td>1000_6</td>\n",
       "      <td>540.08</td>\n",
       "      <td>2018-09-07</td>\n",
       "      <td>1000</td>\n",
       "    </tr>\n",
       "    <tr>\n",
       "      <td>7</td>\n",
       "      <td>7</td>\n",
       "      <td>1000_7</td>\n",
       "      <td>415.70</td>\n",
       "      <td>2018-07-11</td>\n",
       "      <td>1000</td>\n",
       "    </tr>\n",
       "    <tr>\n",
       "      <td>8</td>\n",
       "      <td>8</td>\n",
       "      <td>1000_8</td>\n",
       "      <td>505.40</td>\n",
       "      <td>2018-10-08</td>\n",
       "      <td>1000</td>\n",
       "    </tr>\n",
       "    <tr>\n",
       "      <td>9</td>\n",
       "      <td>9</td>\n",
       "      <td>1000_9</td>\n",
       "      <td>345.54</td>\n",
       "      <td>2018-09-03</td>\n",
       "      <td>1000</td>\n",
       "    </tr>\n",
       "  </tbody>\n",
       "</table>\n",
       "</div>"
      ],
      "text/plain": [
       "   Unnamed: 0      id  mb_used session_date  user_id\n",
       "0           0  1000_0   112.95   2018-11-25     1000\n",
       "1           1  1000_1 1,052.81   2018-09-07     1000\n",
       "2           2  1000_2 1,197.26   2018-06-25     1000\n",
       "3           3  1000_3   550.27   2018-08-22     1000\n",
       "4           4  1000_4   302.56   2018-09-24     1000\n",
       "5           5  1000_5   399.97   2018-10-02     1000\n",
       "6           6  1000_6   540.08   2018-09-07     1000\n",
       "7           7  1000_7   415.70   2018-07-11     1000\n",
       "8           8  1000_8   505.40   2018-10-08     1000\n",
       "9           9  1000_9   345.54   2018-09-03     1000"
      ]
     },
     "execution_count": 134,
     "metadata": {},
     "output_type": "execute_result"
    }
   ],
   "source": [
    "internet.head(10)"
   ]
  },
  {
   "cell_type": "code",
   "execution_count": 135,
   "metadata": {},
   "outputs": [
    {
     "name": "stdout",
     "output_type": "stream",
     "text": [
      "<class 'pandas.core.frame.DataFrame'>\n",
      "RangeIndex: 149396 entries, 0 to 149395\n",
      "Data columns (total 5 columns):\n",
      "Unnamed: 0      149396 non-null int64\n",
      "id              149396 non-null object\n",
      "mb_used         149396 non-null float64\n",
      "session_date    149396 non-null object\n",
      "user_id         149396 non-null int64\n",
      "dtypes: float64(1), int64(2), object(2)\n",
      "memory usage: 5.7+ MB\n"
     ]
    }
   ],
   "source": [
    "internet.info()"
   ]
  },
  {
   "cell_type": "markdown",
   "metadata": {},
   "source": [
    "Необходимо изменить тип данных в столбце internet и произвести округление до целого в большую строну."
   ]
  },
  {
   "cell_type": "code",
   "execution_count": 136,
   "metadata": {},
   "outputs": [
    {
     "data": {
      "text/html": [
       "<div>\n",
       "<style scoped>\n",
       "    .dataframe tbody tr th:only-of-type {\n",
       "        vertical-align: middle;\n",
       "    }\n",
       "\n",
       "    .dataframe tbody tr th {\n",
       "        vertical-align: top;\n",
       "    }\n",
       "\n",
       "    .dataframe thead th {\n",
       "        text-align: right;\n",
       "    }\n",
       "</style>\n",
       "<table border=\"1\" class=\"dataframe\">\n",
       "  <thead>\n",
       "    <tr style=\"text-align: right;\">\n",
       "      <th></th>\n",
       "      <th>Unnamed: 0</th>\n",
       "      <th>id</th>\n",
       "      <th>mb_used</th>\n",
       "      <th>session_date</th>\n",
       "      <th>user_id</th>\n",
       "    </tr>\n",
       "  </thead>\n",
       "  <tbody>\n",
       "    <tr>\n",
       "      <td>0</td>\n",
       "      <td>0</td>\n",
       "      <td>1000_0</td>\n",
       "      <td>113.00</td>\n",
       "      <td>2018-11-25</td>\n",
       "      <td>1000</td>\n",
       "    </tr>\n",
       "    <tr>\n",
       "      <td>1</td>\n",
       "      <td>1</td>\n",
       "      <td>1000_1</td>\n",
       "      <td>1,053.00</td>\n",
       "      <td>2018-09-07</td>\n",
       "      <td>1000</td>\n",
       "    </tr>\n",
       "    <tr>\n",
       "      <td>2</td>\n",
       "      <td>2</td>\n",
       "      <td>1000_2</td>\n",
       "      <td>1,198.00</td>\n",
       "      <td>2018-06-25</td>\n",
       "      <td>1000</td>\n",
       "    </tr>\n",
       "    <tr>\n",
       "      <td>3</td>\n",
       "      <td>3</td>\n",
       "      <td>1000_3</td>\n",
       "      <td>551.00</td>\n",
       "      <td>2018-08-22</td>\n",
       "      <td>1000</td>\n",
       "    </tr>\n",
       "    <tr>\n",
       "      <td>4</td>\n",
       "      <td>4</td>\n",
       "      <td>1000_4</td>\n",
       "      <td>303.00</td>\n",
       "      <td>2018-09-24</td>\n",
       "      <td>1000</td>\n",
       "    </tr>\n",
       "  </tbody>\n",
       "</table>\n",
       "</div>"
      ],
      "text/plain": [
       "   Unnamed: 0      id  mb_used session_date  user_id\n",
       "0           0  1000_0   113.00   2018-11-25     1000\n",
       "1           1  1000_1 1,053.00   2018-09-07     1000\n",
       "2           2  1000_2 1,198.00   2018-06-25     1000\n",
       "3           3  1000_3   551.00   2018-08-22     1000\n",
       "4           4  1000_4   303.00   2018-09-24     1000"
      ]
     },
     "execution_count": 136,
     "metadata": {},
     "output_type": "execute_result"
    }
   ],
   "source": [
    "internet['mb_used'] = internet['mb_used'].apply(np.ceil)\n",
    "internet['session_date'] = pd.to_datetime(internet['session_date'], format='%Y-%m-%d')\n",
    "internet.head()"
   ]
  },
  {
   "cell_type": "code",
   "execution_count": 137,
   "metadata": {},
   "outputs": [
    {
     "data": {
      "text/html": [
       "<div>\n",
       "<style scoped>\n",
       "    .dataframe tbody tr th:only-of-type {\n",
       "        vertical-align: middle;\n",
       "    }\n",
       "\n",
       "    .dataframe tbody tr th {\n",
       "        vertical-align: top;\n",
       "    }\n",
       "\n",
       "    .dataframe thead th {\n",
       "        text-align: right;\n",
       "    }\n",
       "</style>\n",
       "<table border=\"1\" class=\"dataframe\">\n",
       "  <thead>\n",
       "    <tr style=\"text-align: right;\">\n",
       "      <th></th>\n",
       "      <th>Unnamed: 0</th>\n",
       "      <th>mb_used</th>\n",
       "      <th>user_id</th>\n",
       "    </tr>\n",
       "  </thead>\n",
       "  <tbody>\n",
       "    <tr>\n",
       "      <td>count</td>\n",
       "      <td>149,396.00</td>\n",
       "      <td>149,396.00</td>\n",
       "      <td>149,396.00</td>\n",
       "    </tr>\n",
       "    <tr>\n",
       "      <td>mean</td>\n",
       "      <td>74,697.50</td>\n",
       "      <td>370.62</td>\n",
       "      <td>1,252.10</td>\n",
       "    </tr>\n",
       "    <tr>\n",
       "      <td>std</td>\n",
       "      <td>43,127.05</td>\n",
       "      <td>278.39</td>\n",
       "      <td>144.05</td>\n",
       "    </tr>\n",
       "    <tr>\n",
       "      <td>min</td>\n",
       "      <td>0.00</td>\n",
       "      <td>0.00</td>\n",
       "      <td>1,000.00</td>\n",
       "    </tr>\n",
       "    <tr>\n",
       "      <td>25%</td>\n",
       "      <td>37,348.75</td>\n",
       "      <td>139.00</td>\n",
       "      <td>1,130.00</td>\n",
       "    </tr>\n",
       "    <tr>\n",
       "      <td>50%</td>\n",
       "      <td>74,697.50</td>\n",
       "      <td>349.00</td>\n",
       "      <td>1,251.00</td>\n",
       "    </tr>\n",
       "    <tr>\n",
       "      <td>75%</td>\n",
       "      <td>112,046.25</td>\n",
       "      <td>560.00</td>\n",
       "      <td>1,380.00</td>\n",
       "    </tr>\n",
       "    <tr>\n",
       "      <td>max</td>\n",
       "      <td>149,395.00</td>\n",
       "      <td>1,725.00</td>\n",
       "      <td>1,499.00</td>\n",
       "    </tr>\n",
       "  </tbody>\n",
       "</table>\n",
       "</div>"
      ],
      "text/plain": [
       "       Unnamed: 0    mb_used    user_id\n",
       "count  149,396.00 149,396.00 149,396.00\n",
       "mean    74,697.50     370.62   1,252.10\n",
       "std     43,127.05     278.39     144.05\n",
       "min          0.00       0.00   1,000.00\n",
       "25%     37,348.75     139.00   1,130.00\n",
       "50%     74,697.50     349.00   1,251.00\n",
       "75%    112,046.25     560.00   1,380.00\n",
       "max    149,395.00   1,725.00   1,499.00"
      ]
     },
     "execution_count": 137,
     "metadata": {},
     "output_type": "execute_result"
    }
   ],
   "source": [
    "internet.describe()"
   ]
  },
  {
   "cell_type": "code",
   "execution_count": 138,
   "metadata": {},
   "outputs": [
    {
     "data": {
      "text/html": [
       "<div>\n",
       "<style scoped>\n",
       "    .dataframe tbody tr th:only-of-type {\n",
       "        vertical-align: middle;\n",
       "    }\n",
       "\n",
       "    .dataframe tbody tr th {\n",
       "        vertical-align: top;\n",
       "    }\n",
       "\n",
       "    .dataframe thead th {\n",
       "        text-align: right;\n",
       "    }\n",
       "</style>\n",
       "<table border=\"1\" class=\"dataframe\">\n",
       "  <thead>\n",
       "    <tr style=\"text-align: right;\">\n",
       "      <th></th>\n",
       "      <th>Unnamed: 0</th>\n",
       "      <th>id</th>\n",
       "      <th>mb_used</th>\n",
       "      <th>session_date</th>\n",
       "      <th>user_id</th>\n",
       "    </tr>\n",
       "  </thead>\n",
       "  <tbody>\n",
       "    <tr>\n",
       "      <td>0</td>\n",
       "      <td>0</td>\n",
       "      <td>1000_0</td>\n",
       "      <td>113.00</td>\n",
       "      <td>2018-11-25</td>\n",
       "      <td>1000</td>\n",
       "    </tr>\n",
       "    <tr>\n",
       "      <td>1</td>\n",
       "      <td>1</td>\n",
       "      <td>1000_1</td>\n",
       "      <td>1,053.00</td>\n",
       "      <td>2018-09-07</td>\n",
       "      <td>1000</td>\n",
       "    </tr>\n",
       "    <tr>\n",
       "      <td>2</td>\n",
       "      <td>2</td>\n",
       "      <td>1000_2</td>\n",
       "      <td>1,198.00</td>\n",
       "      <td>2018-06-25</td>\n",
       "      <td>1000</td>\n",
       "    </tr>\n",
       "    <tr>\n",
       "      <td>3</td>\n",
       "      <td>3</td>\n",
       "      <td>1000_3</td>\n",
       "      <td>551.00</td>\n",
       "      <td>2018-08-22</td>\n",
       "      <td>1000</td>\n",
       "    </tr>\n",
       "    <tr>\n",
       "      <td>4</td>\n",
       "      <td>4</td>\n",
       "      <td>1000_4</td>\n",
       "      <td>303.00</td>\n",
       "      <td>2018-09-24</td>\n",
       "      <td>1000</td>\n",
       "    </tr>\n",
       "    <tr>\n",
       "      <td>...</td>\n",
       "      <td>...</td>\n",
       "      <td>...</td>\n",
       "      <td>...</td>\n",
       "      <td>...</td>\n",
       "      <td>...</td>\n",
       "    </tr>\n",
       "    <tr>\n",
       "      <td>149390</td>\n",
       "      <td>149390</td>\n",
       "      <td>1499_151</td>\n",
       "      <td>753.00</td>\n",
       "      <td>2018-10-11</td>\n",
       "      <td>1499</td>\n",
       "    </tr>\n",
       "    <tr>\n",
       "      <td>149391</td>\n",
       "      <td>149391</td>\n",
       "      <td>1499_152</td>\n",
       "      <td>319.00</td>\n",
       "      <td>2018-10-03</td>\n",
       "      <td>1499</td>\n",
       "    </tr>\n",
       "    <tr>\n",
       "      <td>149392</td>\n",
       "      <td>149392</td>\n",
       "      <td>1499_153</td>\n",
       "      <td>491.00</td>\n",
       "      <td>2018-12-14</td>\n",
       "      <td>1499</td>\n",
       "    </tr>\n",
       "    <tr>\n",
       "      <td>149394</td>\n",
       "      <td>149394</td>\n",
       "      <td>1499_155</td>\n",
       "      <td>1,247.00</td>\n",
       "      <td>2018-11-26</td>\n",
       "      <td>1499</td>\n",
       "    </tr>\n",
       "    <tr>\n",
       "      <td>149395</td>\n",
       "      <td>149395</td>\n",
       "      <td>1499_156</td>\n",
       "      <td>545.00</td>\n",
       "      <td>2018-10-26</td>\n",
       "      <td>1499</td>\n",
       "    </tr>\n",
       "  </tbody>\n",
       "</table>\n",
       "<p>129798 rows × 5 columns</p>\n",
       "</div>"
      ],
      "text/plain": [
       "        Unnamed: 0        id  mb_used session_date  user_id\n",
       "0                0    1000_0   113.00   2018-11-25     1000\n",
       "1                1    1000_1 1,053.00   2018-09-07     1000\n",
       "2                2    1000_2 1,198.00   2018-06-25     1000\n",
       "3                3    1000_3   551.00   2018-08-22     1000\n",
       "4                4    1000_4   303.00   2018-09-24     1000\n",
       "...            ...       ...      ...          ...      ...\n",
       "149390      149390  1499_151   753.00   2018-10-11     1499\n",
       "149391      149391  1499_152   319.00   2018-10-03     1499\n",
       "149392      149392  1499_153   491.00   2018-12-14     1499\n",
       "149394      149394  1499_155 1,247.00   2018-11-26     1499\n",
       "149395      149395  1499_156   545.00   2018-10-26     1499\n",
       "\n",
       "[129798 rows x 5 columns]"
      ]
     },
     "execution_count": 138,
     "metadata": {},
     "output_type": "execute_result"
    }
   ],
   "source": [
    "internet.query('mb_used == 0')\n",
    "internet['mb_used'] = internet['mb_used'].replace(0, np.NaN)\n",
    "internet = internet.dropna()\n",
    "internet"
   ]
  },
  {
   "cell_type": "markdown",
   "metadata": {},
   "source": [
    "Удалим нулевые значения, т.к.нам они не окажут ни какой роли на финансовое значение, а нам нужно проанализировать именно его(\"финансвое значение\" обоих тарифов)."
   ]
  },
  {
   "cell_type": "code",
   "execution_count": 139,
   "metadata": {},
   "outputs": [
    {
     "data": {
      "text/html": [
       "<div>\n",
       "<style scoped>\n",
       "    .dataframe tbody tr th:only-of-type {\n",
       "        vertical-align: middle;\n",
       "    }\n",
       "\n",
       "    .dataframe tbody tr th {\n",
       "        vertical-align: top;\n",
       "    }\n",
       "\n",
       "    .dataframe thead th {\n",
       "        text-align: right;\n",
       "    }\n",
       "</style>\n",
       "<table border=\"1\" class=\"dataframe\">\n",
       "  <thead>\n",
       "    <tr style=\"text-align: right;\">\n",
       "      <th></th>\n",
       "      <th>Unnamed: 0</th>\n",
       "      <th>id</th>\n",
       "      <th>mb_used</th>\n",
       "      <th>session_date</th>\n",
       "      <th>user_id</th>\n",
       "      <th>month</th>\n",
       "    </tr>\n",
       "  </thead>\n",
       "  <tbody>\n",
       "    <tr>\n",
       "      <td>0</td>\n",
       "      <td>0</td>\n",
       "      <td>1000_0</td>\n",
       "      <td>113.00</td>\n",
       "      <td>2018-11-25</td>\n",
       "      <td>1000</td>\n",
       "      <td>11</td>\n",
       "    </tr>\n",
       "    <tr>\n",
       "      <td>1</td>\n",
       "      <td>1</td>\n",
       "      <td>1000_1</td>\n",
       "      <td>1,053.00</td>\n",
       "      <td>2018-09-07</td>\n",
       "      <td>1000</td>\n",
       "      <td>9</td>\n",
       "    </tr>\n",
       "    <tr>\n",
       "      <td>2</td>\n",
       "      <td>2</td>\n",
       "      <td>1000_2</td>\n",
       "      <td>1,198.00</td>\n",
       "      <td>2018-06-25</td>\n",
       "      <td>1000</td>\n",
       "      <td>6</td>\n",
       "    </tr>\n",
       "    <tr>\n",
       "      <td>3</td>\n",
       "      <td>3</td>\n",
       "      <td>1000_3</td>\n",
       "      <td>551.00</td>\n",
       "      <td>2018-08-22</td>\n",
       "      <td>1000</td>\n",
       "      <td>8</td>\n",
       "    </tr>\n",
       "    <tr>\n",
       "      <td>4</td>\n",
       "      <td>4</td>\n",
       "      <td>1000_4</td>\n",
       "      <td>303.00</td>\n",
       "      <td>2018-09-24</td>\n",
       "      <td>1000</td>\n",
       "      <td>9</td>\n",
       "    </tr>\n",
       "    <tr>\n",
       "      <td>...</td>\n",
       "      <td>...</td>\n",
       "      <td>...</td>\n",
       "      <td>...</td>\n",
       "      <td>...</td>\n",
       "      <td>...</td>\n",
       "      <td>...</td>\n",
       "    </tr>\n",
       "    <tr>\n",
       "      <td>149390</td>\n",
       "      <td>149390</td>\n",
       "      <td>1499_151</td>\n",
       "      <td>753.00</td>\n",
       "      <td>2018-10-11</td>\n",
       "      <td>1499</td>\n",
       "      <td>10</td>\n",
       "    </tr>\n",
       "    <tr>\n",
       "      <td>149391</td>\n",
       "      <td>149391</td>\n",
       "      <td>1499_152</td>\n",
       "      <td>319.00</td>\n",
       "      <td>2018-10-03</td>\n",
       "      <td>1499</td>\n",
       "      <td>10</td>\n",
       "    </tr>\n",
       "    <tr>\n",
       "      <td>149392</td>\n",
       "      <td>149392</td>\n",
       "      <td>1499_153</td>\n",
       "      <td>491.00</td>\n",
       "      <td>2018-12-14</td>\n",
       "      <td>1499</td>\n",
       "      <td>12</td>\n",
       "    </tr>\n",
       "    <tr>\n",
       "      <td>149394</td>\n",
       "      <td>149394</td>\n",
       "      <td>1499_155</td>\n",
       "      <td>1,247.00</td>\n",
       "      <td>2018-11-26</td>\n",
       "      <td>1499</td>\n",
       "      <td>11</td>\n",
       "    </tr>\n",
       "    <tr>\n",
       "      <td>149395</td>\n",
       "      <td>149395</td>\n",
       "      <td>1499_156</td>\n",
       "      <td>545.00</td>\n",
       "      <td>2018-10-26</td>\n",
       "      <td>1499</td>\n",
       "      <td>10</td>\n",
       "    </tr>\n",
       "  </tbody>\n",
       "</table>\n",
       "<p>129798 rows × 6 columns</p>\n",
       "</div>"
      ],
      "text/plain": [
       "        Unnamed: 0        id  mb_used session_date  user_id  month\n",
       "0                0    1000_0   113.00   2018-11-25     1000     11\n",
       "1                1    1000_1 1,053.00   2018-09-07     1000      9\n",
       "2                2    1000_2 1,198.00   2018-06-25     1000      6\n",
       "3                3    1000_3   551.00   2018-08-22     1000      8\n",
       "4                4    1000_4   303.00   2018-09-24     1000      9\n",
       "...            ...       ...      ...          ...      ...    ...\n",
       "149390      149390  1499_151   753.00   2018-10-11     1499     10\n",
       "149391      149391  1499_152   319.00   2018-10-03     1499     10\n",
       "149392      149392  1499_153   491.00   2018-12-14     1499     12\n",
       "149394      149394  1499_155 1,247.00   2018-11-26     1499     11\n",
       "149395      149395  1499_156   545.00   2018-10-26     1499     10\n",
       "\n",
       "[129798 rows x 6 columns]"
      ]
     },
     "execution_count": 139,
     "metadata": {},
     "output_type": "execute_result"
    }
   ],
   "source": [
    "internet['month'] = internet['session_date'].dt.month\n",
    "internet"
   ]
  },
  {
   "cell_type": "markdown",
   "metadata": {},
   "source": [
    "Посмотрим таблицу messages:"
   ]
  },
  {
   "cell_type": "code",
   "execution_count": 140,
   "metadata": {},
   "outputs": [
    {
     "data": {
      "text/html": [
       "<div>\n",
       "<style scoped>\n",
       "    .dataframe tbody tr th:only-of-type {\n",
       "        vertical-align: middle;\n",
       "    }\n",
       "\n",
       "    .dataframe tbody tr th {\n",
       "        vertical-align: top;\n",
       "    }\n",
       "\n",
       "    .dataframe thead th {\n",
       "        text-align: right;\n",
       "    }\n",
       "</style>\n",
       "<table border=\"1\" class=\"dataframe\">\n",
       "  <thead>\n",
       "    <tr style=\"text-align: right;\">\n",
       "      <th></th>\n",
       "      <th>id</th>\n",
       "      <th>message_date</th>\n",
       "      <th>user_id</th>\n",
       "    </tr>\n",
       "  </thead>\n",
       "  <tbody>\n",
       "    <tr>\n",
       "      <td>0</td>\n",
       "      <td>1000_0</td>\n",
       "      <td>2018-06-27</td>\n",
       "      <td>1000</td>\n",
       "    </tr>\n",
       "    <tr>\n",
       "      <td>1</td>\n",
       "      <td>1000_1</td>\n",
       "      <td>2018-10-08</td>\n",
       "      <td>1000</td>\n",
       "    </tr>\n",
       "    <tr>\n",
       "      <td>2</td>\n",
       "      <td>1000_2</td>\n",
       "      <td>2018-08-04</td>\n",
       "      <td>1000</td>\n",
       "    </tr>\n",
       "    <tr>\n",
       "      <td>3</td>\n",
       "      <td>1000_3</td>\n",
       "      <td>2018-06-16</td>\n",
       "      <td>1000</td>\n",
       "    </tr>\n",
       "    <tr>\n",
       "      <td>4</td>\n",
       "      <td>1000_4</td>\n",
       "      <td>2018-12-05</td>\n",
       "      <td>1000</td>\n",
       "    </tr>\n",
       "  </tbody>\n",
       "</table>\n",
       "</div>"
      ],
      "text/plain": [
       "       id message_date  user_id\n",
       "0  1000_0   2018-06-27     1000\n",
       "1  1000_1   2018-10-08     1000\n",
       "2  1000_2   2018-08-04     1000\n",
       "3  1000_3   2018-06-16     1000\n",
       "4  1000_4   2018-12-05     1000"
      ]
     },
     "execution_count": 140,
     "metadata": {},
     "output_type": "execute_result"
    }
   ],
   "source": [
    "messages.head()"
   ]
  },
  {
   "cell_type": "code",
   "execution_count": 141,
   "metadata": {
    "scrolled": true
   },
   "outputs": [
    {
     "name": "stdout",
     "output_type": "stream",
     "text": [
      "<class 'pandas.core.frame.DataFrame'>\n",
      "RangeIndex: 123036 entries, 0 to 123035\n",
      "Data columns (total 3 columns):\n",
      "id              123036 non-null object\n",
      "message_date    123036 non-null object\n",
      "user_id         123036 non-null int64\n",
      "dtypes: int64(1), object(2)\n",
      "memory usage: 2.8+ MB\n"
     ]
    }
   ],
   "source": [
    "messages.info()"
   ]
  },
  {
   "cell_type": "markdown",
   "metadata": {
    "scrolled": true
   },
   "source": [
    "изменим тип данных в user_id - приведём его к int, приведем к соответствующему типу колонку message_date"
   ]
  },
  {
   "cell_type": "code",
   "execution_count": 142,
   "metadata": {},
   "outputs": [
    {
     "data": {
      "text/html": [
       "<div>\n",
       "<style scoped>\n",
       "    .dataframe tbody tr th:only-of-type {\n",
       "        vertical-align: middle;\n",
       "    }\n",
       "\n",
       "    .dataframe tbody tr th {\n",
       "        vertical-align: top;\n",
       "    }\n",
       "\n",
       "    .dataframe thead th {\n",
       "        text-align: right;\n",
       "    }\n",
       "</style>\n",
       "<table border=\"1\" class=\"dataframe\">\n",
       "  <thead>\n",
       "    <tr style=\"text-align: right;\">\n",
       "      <th></th>\n",
       "      <th>id</th>\n",
       "      <th>message_date</th>\n",
       "      <th>user_id</th>\n",
       "      <th>month</th>\n",
       "    </tr>\n",
       "  </thead>\n",
       "  <tbody>\n",
       "    <tr>\n",
       "      <td>0</td>\n",
       "      <td>1000_0</td>\n",
       "      <td>2018-06-27</td>\n",
       "      <td>1000</td>\n",
       "      <td>6</td>\n",
       "    </tr>\n",
       "    <tr>\n",
       "      <td>1</td>\n",
       "      <td>1000_1</td>\n",
       "      <td>2018-10-08</td>\n",
       "      <td>1000</td>\n",
       "      <td>10</td>\n",
       "    </tr>\n",
       "    <tr>\n",
       "      <td>2</td>\n",
       "      <td>1000_2</td>\n",
       "      <td>2018-08-04</td>\n",
       "      <td>1000</td>\n",
       "      <td>8</td>\n",
       "    </tr>\n",
       "    <tr>\n",
       "      <td>3</td>\n",
       "      <td>1000_3</td>\n",
       "      <td>2018-06-16</td>\n",
       "      <td>1000</td>\n",
       "      <td>6</td>\n",
       "    </tr>\n",
       "    <tr>\n",
       "      <td>4</td>\n",
       "      <td>1000_4</td>\n",
       "      <td>2018-12-05</td>\n",
       "      <td>1000</td>\n",
       "      <td>12</td>\n",
       "    </tr>\n",
       "    <tr>\n",
       "      <td>5</td>\n",
       "      <td>1000_5</td>\n",
       "      <td>2018-06-20</td>\n",
       "      <td>1000</td>\n",
       "      <td>6</td>\n",
       "    </tr>\n",
       "    <tr>\n",
       "      <td>6</td>\n",
       "      <td>1000_6</td>\n",
       "      <td>2018-11-19</td>\n",
       "      <td>1000</td>\n",
       "      <td>11</td>\n",
       "    </tr>\n",
       "    <tr>\n",
       "      <td>7</td>\n",
       "      <td>1000_7</td>\n",
       "      <td>2018-10-29</td>\n",
       "      <td>1000</td>\n",
       "      <td>10</td>\n",
       "    </tr>\n",
       "    <tr>\n",
       "      <td>8</td>\n",
       "      <td>1000_8</td>\n",
       "      <td>2018-06-25</td>\n",
       "      <td>1000</td>\n",
       "      <td>6</td>\n",
       "    </tr>\n",
       "    <tr>\n",
       "      <td>9</td>\n",
       "      <td>1000_9</td>\n",
       "      <td>2018-12-18</td>\n",
       "      <td>1000</td>\n",
       "      <td>12</td>\n",
       "    </tr>\n",
       "  </tbody>\n",
       "</table>\n",
       "</div>"
      ],
      "text/plain": [
       "       id message_date  user_id  month\n",
       "0  1000_0   2018-06-27     1000      6\n",
       "1  1000_1   2018-10-08     1000     10\n",
       "2  1000_2   2018-08-04     1000      8\n",
       "3  1000_3   2018-06-16     1000      6\n",
       "4  1000_4   2018-12-05     1000     12\n",
       "5  1000_5   2018-06-20     1000      6\n",
       "6  1000_6   2018-11-19     1000     11\n",
       "7  1000_7   2018-10-29     1000     10\n",
       "8  1000_8   2018-06-25     1000      6\n",
       "9  1000_9   2018-12-18     1000     12"
      ]
     },
     "execution_count": 142,
     "metadata": {},
     "output_type": "execute_result"
    }
   ],
   "source": [
    "messages['user_id'] = messages['user_id'].astype('int')\n",
    "\n",
    "messages['message_date'] = pd.to_datetime(messages['message_date'], format='%Y-%m-%d')\n",
    "\n",
    "messages['month'] = messages['message_date'].dt.month\n",
    "messages.head(10)"
   ]
  },
  {
   "cell_type": "markdown",
   "metadata": {},
   "source": [
    "Посмотрим таблицу tariffs:"
   ]
  },
  {
   "cell_type": "code",
   "execution_count": 143,
   "metadata": {},
   "outputs": [
    {
     "data": {
      "text/html": [
       "<div>\n",
       "<style scoped>\n",
       "    .dataframe tbody tr th:only-of-type {\n",
       "        vertical-align: middle;\n",
       "    }\n",
       "\n",
       "    .dataframe tbody tr th {\n",
       "        vertical-align: top;\n",
       "    }\n",
       "\n",
       "    .dataframe thead th {\n",
       "        text-align: right;\n",
       "    }\n",
       "</style>\n",
       "<table border=\"1\" class=\"dataframe\">\n",
       "  <thead>\n",
       "    <tr style=\"text-align: right;\">\n",
       "      <th></th>\n",
       "      <th>messages_included</th>\n",
       "      <th>mb_per_month_included</th>\n",
       "      <th>minutes_included</th>\n",
       "      <th>rub_monthly_fee</th>\n",
       "      <th>rub_per_gb</th>\n",
       "      <th>rub_per_message</th>\n",
       "      <th>rub_per_minute</th>\n",
       "      <th>tariff_name</th>\n",
       "    </tr>\n",
       "  </thead>\n",
       "  <tbody>\n",
       "    <tr>\n",
       "      <td>0</td>\n",
       "      <td>50</td>\n",
       "      <td>15360</td>\n",
       "      <td>500</td>\n",
       "      <td>550</td>\n",
       "      <td>200</td>\n",
       "      <td>3</td>\n",
       "      <td>3</td>\n",
       "      <td>smart</td>\n",
       "    </tr>\n",
       "    <tr>\n",
       "      <td>1</td>\n",
       "      <td>1000</td>\n",
       "      <td>30720</td>\n",
       "      <td>3000</td>\n",
       "      <td>1950</td>\n",
       "      <td>150</td>\n",
       "      <td>1</td>\n",
       "      <td>1</td>\n",
       "      <td>ultra</td>\n",
       "    </tr>\n",
       "  </tbody>\n",
       "</table>\n",
       "</div>"
      ],
      "text/plain": [
       "   messages_included  mb_per_month_included  minutes_included  \\\n",
       "0                 50                  15360               500   \n",
       "1               1000                  30720              3000   \n",
       "\n",
       "   rub_monthly_fee  rub_per_gb  rub_per_message  rub_per_minute tariff_name  \n",
       "0              550         200                3               3       smart  \n",
       "1             1950         150                1               1       ultra  "
      ]
     },
     "execution_count": 143,
     "metadata": {},
     "output_type": "execute_result"
    }
   ],
   "source": [
    "tariffs.head()"
   ]
  },
  {
   "cell_type": "code",
   "execution_count": 144,
   "metadata": {},
   "outputs": [
    {
     "name": "stdout",
     "output_type": "stream",
     "text": [
      "<class 'pandas.core.frame.DataFrame'>\n",
      "RangeIndex: 2 entries, 0 to 1\n",
      "Data columns (total 8 columns):\n",
      "messages_included        2 non-null int64\n",
      "mb_per_month_included    2 non-null int64\n",
      "minutes_included         2 non-null int64\n",
      "rub_monthly_fee          2 non-null int64\n",
      "rub_per_gb               2 non-null int64\n",
      "rub_per_message          2 non-null int64\n",
      "rub_per_minute           2 non-null int64\n",
      "tariff_name              2 non-null object\n",
      "dtypes: int64(7), object(1)\n",
      "memory usage: 256.0+ bytes\n"
     ]
    }
   ],
   "source": [
    "tariffs.info()"
   ]
  },
  {
   "cell_type": "markdown",
   "metadata": {},
   "source": [
    "Не требует обработки"
   ]
  },
  {
   "cell_type": "markdown",
   "metadata": {},
   "source": [
    "Посмотрим таблицу users"
   ]
  },
  {
   "cell_type": "code",
   "execution_count": 145,
   "metadata": {},
   "outputs": [
    {
     "data": {
      "text/html": [
       "<div>\n",
       "<style scoped>\n",
       "    .dataframe tbody tr th:only-of-type {\n",
       "        vertical-align: middle;\n",
       "    }\n",
       "\n",
       "    .dataframe tbody tr th {\n",
       "        vertical-align: top;\n",
       "    }\n",
       "\n",
       "    .dataframe thead th {\n",
       "        text-align: right;\n",
       "    }\n",
       "</style>\n",
       "<table border=\"1\" class=\"dataframe\">\n",
       "  <thead>\n",
       "    <tr style=\"text-align: right;\">\n",
       "      <th></th>\n",
       "      <th>user_id</th>\n",
       "      <th>age</th>\n",
       "      <th>churn_date</th>\n",
       "      <th>city</th>\n",
       "      <th>first_name</th>\n",
       "      <th>last_name</th>\n",
       "      <th>reg_date</th>\n",
       "      <th>tariff</th>\n",
       "    </tr>\n",
       "  </thead>\n",
       "  <tbody>\n",
       "    <tr>\n",
       "      <td>0</td>\n",
       "      <td>1000</td>\n",
       "      <td>52</td>\n",
       "      <td>NaN</td>\n",
       "      <td>Краснодар</td>\n",
       "      <td>Рафаил</td>\n",
       "      <td>Верещагин</td>\n",
       "      <td>2018-05-25</td>\n",
       "      <td>ultra</td>\n",
       "    </tr>\n",
       "    <tr>\n",
       "      <td>1</td>\n",
       "      <td>1001</td>\n",
       "      <td>41</td>\n",
       "      <td>NaN</td>\n",
       "      <td>Москва</td>\n",
       "      <td>Иван</td>\n",
       "      <td>Ежов</td>\n",
       "      <td>2018-11-01</td>\n",
       "      <td>smart</td>\n",
       "    </tr>\n",
       "    <tr>\n",
       "      <td>2</td>\n",
       "      <td>1002</td>\n",
       "      <td>59</td>\n",
       "      <td>NaN</td>\n",
       "      <td>Стерлитамак</td>\n",
       "      <td>Евгений</td>\n",
       "      <td>Абрамович</td>\n",
       "      <td>2018-06-17</td>\n",
       "      <td>smart</td>\n",
       "    </tr>\n",
       "    <tr>\n",
       "      <td>3</td>\n",
       "      <td>1003</td>\n",
       "      <td>23</td>\n",
       "      <td>NaN</td>\n",
       "      <td>Москва</td>\n",
       "      <td>Белла</td>\n",
       "      <td>Белякова</td>\n",
       "      <td>2018-08-17</td>\n",
       "      <td>ultra</td>\n",
       "    </tr>\n",
       "    <tr>\n",
       "      <td>4</td>\n",
       "      <td>1004</td>\n",
       "      <td>68</td>\n",
       "      <td>NaN</td>\n",
       "      <td>Новокузнецк</td>\n",
       "      <td>Татьяна</td>\n",
       "      <td>Авдеенко</td>\n",
       "      <td>2018-05-14</td>\n",
       "      <td>ultra</td>\n",
       "    </tr>\n",
       "    <tr>\n",
       "      <td>...</td>\n",
       "      <td>...</td>\n",
       "      <td>...</td>\n",
       "      <td>...</td>\n",
       "      <td>...</td>\n",
       "      <td>...</td>\n",
       "      <td>...</td>\n",
       "      <td>...</td>\n",
       "      <td>...</td>\n",
       "    </tr>\n",
       "    <tr>\n",
       "      <td>495</td>\n",
       "      <td>1495</td>\n",
       "      <td>65</td>\n",
       "      <td>NaN</td>\n",
       "      <td>Иркутск</td>\n",
       "      <td>Авксентий</td>\n",
       "      <td>Фокин</td>\n",
       "      <td>2018-08-28</td>\n",
       "      <td>ultra</td>\n",
       "    </tr>\n",
       "    <tr>\n",
       "      <td>496</td>\n",
       "      <td>1496</td>\n",
       "      <td>36</td>\n",
       "      <td>NaN</td>\n",
       "      <td>Вологда</td>\n",
       "      <td>Трифон</td>\n",
       "      <td>Блохин</td>\n",
       "      <td>2018-01-27</td>\n",
       "      <td>smart</td>\n",
       "    </tr>\n",
       "    <tr>\n",
       "      <td>497</td>\n",
       "      <td>1497</td>\n",
       "      <td>32</td>\n",
       "      <td>NaN</td>\n",
       "      <td>Челябинск</td>\n",
       "      <td>Каролина</td>\n",
       "      <td>Агеева</td>\n",
       "      <td>2018-10-09</td>\n",
       "      <td>smart</td>\n",
       "    </tr>\n",
       "    <tr>\n",
       "      <td>498</td>\n",
       "      <td>1498</td>\n",
       "      <td>68</td>\n",
       "      <td>2018-10-25</td>\n",
       "      <td>Владикавказ</td>\n",
       "      <td>Всеволод</td>\n",
       "      <td>Акимчин</td>\n",
       "      <td>2018-07-19</td>\n",
       "      <td>smart</td>\n",
       "    </tr>\n",
       "    <tr>\n",
       "      <td>499</td>\n",
       "      <td>1499</td>\n",
       "      <td>35</td>\n",
       "      <td>NaN</td>\n",
       "      <td>Пермь</td>\n",
       "      <td>Гектор</td>\n",
       "      <td>Корнилов</td>\n",
       "      <td>2018-09-27</td>\n",
       "      <td>smart</td>\n",
       "    </tr>\n",
       "  </tbody>\n",
       "</table>\n",
       "<p>500 rows × 8 columns</p>\n",
       "</div>"
      ],
      "text/plain": [
       "     user_id  age  churn_date         city first_name  last_name    reg_date  \\\n",
       "0       1000   52         NaN    Краснодар     Рафаил  Верещагин  2018-05-25   \n",
       "1       1001   41         NaN       Москва       Иван       Ежов  2018-11-01   \n",
       "2       1002   59         NaN  Стерлитамак    Евгений  Абрамович  2018-06-17   \n",
       "3       1003   23         NaN       Москва      Белла   Белякова  2018-08-17   \n",
       "4       1004   68         NaN  Новокузнецк    Татьяна   Авдеенко  2018-05-14   \n",
       "..       ...  ...         ...          ...        ...        ...         ...   \n",
       "495     1495   65         NaN      Иркутск  Авксентий      Фокин  2018-08-28   \n",
       "496     1496   36         NaN      Вологда     Трифон     Блохин  2018-01-27   \n",
       "497     1497   32         NaN    Челябинск   Каролина     Агеева  2018-10-09   \n",
       "498     1498   68  2018-10-25  Владикавказ   Всеволод    Акимчин  2018-07-19   \n",
       "499     1499   35         NaN        Пермь     Гектор   Корнилов  2018-09-27   \n",
       "\n",
       "    tariff  \n",
       "0    ultra  \n",
       "1    smart  \n",
       "2    smart  \n",
       "3    ultra  \n",
       "4    ultra  \n",
       "..     ...  \n",
       "495  ultra  \n",
       "496  smart  \n",
       "497  smart  \n",
       "498  smart  \n",
       "499  smart  \n",
       "\n",
       "[500 rows x 8 columns]"
      ]
     },
     "execution_count": 145,
     "metadata": {},
     "output_type": "execute_result"
    }
   ],
   "source": [
    "users"
   ]
  },
  {
   "cell_type": "code",
   "execution_count": 146,
   "metadata": {},
   "outputs": [
    {
     "name": "stdout",
     "output_type": "stream",
     "text": [
      "<class 'pandas.core.frame.DataFrame'>\n",
      "RangeIndex: 500 entries, 0 to 499\n",
      "Data columns (total 8 columns):\n",
      "user_id       500 non-null int64\n",
      "age           500 non-null int64\n",
      "churn_date    38 non-null object\n",
      "city          500 non-null object\n",
      "first_name    500 non-null object\n",
      "last_name     500 non-null object\n",
      "reg_date      500 non-null object\n",
      "tariff        500 non-null object\n",
      "dtypes: int64(2), object(6)\n",
      "memory usage: 31.4+ KB\n"
     ]
    }
   ],
   "source": [
    "users.info()"
   ]
  },
  {
   "cell_type": "markdown",
   "metadata": {},
   "source": [
    "приведем даты в столбцах churn_date и reg_date к соответствующим форматам"
   ]
  },
  {
   "cell_type": "code",
   "execution_count": 147,
   "metadata": {},
   "outputs": [
    {
     "data": {
      "text/html": [
       "<div>\n",
       "<style scoped>\n",
       "    .dataframe tbody tr th:only-of-type {\n",
       "        vertical-align: middle;\n",
       "    }\n",
       "\n",
       "    .dataframe tbody tr th {\n",
       "        vertical-align: top;\n",
       "    }\n",
       "\n",
       "    .dataframe thead th {\n",
       "        text-align: right;\n",
       "    }\n",
       "</style>\n",
       "<table border=\"1\" class=\"dataframe\">\n",
       "  <thead>\n",
       "    <tr style=\"text-align: right;\">\n",
       "      <th></th>\n",
       "      <th>user_id</th>\n",
       "      <th>age</th>\n",
       "      <th>churn_date</th>\n",
       "      <th>city</th>\n",
       "      <th>first_name</th>\n",
       "      <th>last_name</th>\n",
       "      <th>reg_date</th>\n",
       "      <th>tariff</th>\n",
       "    </tr>\n",
       "  </thead>\n",
       "  <tbody>\n",
       "    <tr>\n",
       "      <td>0</td>\n",
       "      <td>1000</td>\n",
       "      <td>52</td>\n",
       "      <td>NaT</td>\n",
       "      <td>Краснодар</td>\n",
       "      <td>Рафаил</td>\n",
       "      <td>Верещагин</td>\n",
       "      <td>2018-05-25</td>\n",
       "      <td>ultra</td>\n",
       "    </tr>\n",
       "    <tr>\n",
       "      <td>1</td>\n",
       "      <td>1001</td>\n",
       "      <td>41</td>\n",
       "      <td>NaT</td>\n",
       "      <td>Москва</td>\n",
       "      <td>Иван</td>\n",
       "      <td>Ежов</td>\n",
       "      <td>2018-11-01</td>\n",
       "      <td>smart</td>\n",
       "    </tr>\n",
       "    <tr>\n",
       "      <td>2</td>\n",
       "      <td>1002</td>\n",
       "      <td>59</td>\n",
       "      <td>NaT</td>\n",
       "      <td>Стерлитамак</td>\n",
       "      <td>Евгений</td>\n",
       "      <td>Абрамович</td>\n",
       "      <td>2018-06-17</td>\n",
       "      <td>smart</td>\n",
       "    </tr>\n",
       "    <tr>\n",
       "      <td>3</td>\n",
       "      <td>1003</td>\n",
       "      <td>23</td>\n",
       "      <td>NaT</td>\n",
       "      <td>Москва</td>\n",
       "      <td>Белла</td>\n",
       "      <td>Белякова</td>\n",
       "      <td>2018-08-17</td>\n",
       "      <td>ultra</td>\n",
       "    </tr>\n",
       "    <tr>\n",
       "      <td>4</td>\n",
       "      <td>1004</td>\n",
       "      <td>68</td>\n",
       "      <td>NaT</td>\n",
       "      <td>Новокузнецк</td>\n",
       "      <td>Татьяна</td>\n",
       "      <td>Авдеенко</td>\n",
       "      <td>2018-05-14</td>\n",
       "      <td>ultra</td>\n",
       "    </tr>\n",
       "    <tr>\n",
       "      <td>...</td>\n",
       "      <td>...</td>\n",
       "      <td>...</td>\n",
       "      <td>...</td>\n",
       "      <td>...</td>\n",
       "      <td>...</td>\n",
       "      <td>...</td>\n",
       "      <td>...</td>\n",
       "      <td>...</td>\n",
       "    </tr>\n",
       "    <tr>\n",
       "      <td>495</td>\n",
       "      <td>1495</td>\n",
       "      <td>65</td>\n",
       "      <td>NaT</td>\n",
       "      <td>Иркутск</td>\n",
       "      <td>Авксентий</td>\n",
       "      <td>Фокин</td>\n",
       "      <td>2018-08-28</td>\n",
       "      <td>ultra</td>\n",
       "    </tr>\n",
       "    <tr>\n",
       "      <td>496</td>\n",
       "      <td>1496</td>\n",
       "      <td>36</td>\n",
       "      <td>NaT</td>\n",
       "      <td>Вологда</td>\n",
       "      <td>Трифон</td>\n",
       "      <td>Блохин</td>\n",
       "      <td>2018-01-27</td>\n",
       "      <td>smart</td>\n",
       "    </tr>\n",
       "    <tr>\n",
       "      <td>497</td>\n",
       "      <td>1497</td>\n",
       "      <td>32</td>\n",
       "      <td>NaT</td>\n",
       "      <td>Челябинск</td>\n",
       "      <td>Каролина</td>\n",
       "      <td>Агеева</td>\n",
       "      <td>2018-10-09</td>\n",
       "      <td>smart</td>\n",
       "    </tr>\n",
       "    <tr>\n",
       "      <td>498</td>\n",
       "      <td>1498</td>\n",
       "      <td>68</td>\n",
       "      <td>2018-10-25</td>\n",
       "      <td>Владикавказ</td>\n",
       "      <td>Всеволод</td>\n",
       "      <td>Акимчин</td>\n",
       "      <td>2018-07-19</td>\n",
       "      <td>smart</td>\n",
       "    </tr>\n",
       "    <tr>\n",
       "      <td>499</td>\n",
       "      <td>1499</td>\n",
       "      <td>35</td>\n",
       "      <td>NaT</td>\n",
       "      <td>Пермь</td>\n",
       "      <td>Гектор</td>\n",
       "      <td>Корнилов</td>\n",
       "      <td>2018-09-27</td>\n",
       "      <td>smart</td>\n",
       "    </tr>\n",
       "  </tbody>\n",
       "</table>\n",
       "<p>500 rows × 8 columns</p>\n",
       "</div>"
      ],
      "text/plain": [
       "     user_id  age churn_date         city first_name  last_name   reg_date  \\\n",
       "0       1000   52        NaT    Краснодар     Рафаил  Верещагин 2018-05-25   \n",
       "1       1001   41        NaT       Москва       Иван       Ежов 2018-11-01   \n",
       "2       1002   59        NaT  Стерлитамак    Евгений  Абрамович 2018-06-17   \n",
       "3       1003   23        NaT       Москва      Белла   Белякова 2018-08-17   \n",
       "4       1004   68        NaT  Новокузнецк    Татьяна   Авдеенко 2018-05-14   \n",
       "..       ...  ...        ...          ...        ...        ...        ...   \n",
       "495     1495   65        NaT      Иркутск  Авксентий      Фокин 2018-08-28   \n",
       "496     1496   36        NaT      Вологда     Трифон     Блохин 2018-01-27   \n",
       "497     1497   32        NaT    Челябинск   Каролина     Агеева 2018-10-09   \n",
       "498     1498   68 2018-10-25  Владикавказ   Всеволод    Акимчин 2018-07-19   \n",
       "499     1499   35        NaT        Пермь     Гектор   Корнилов 2018-09-27   \n",
       "\n",
       "    tariff  \n",
       "0    ultra  \n",
       "1    smart  \n",
       "2    smart  \n",
       "3    ultra  \n",
       "4    ultra  \n",
       "..     ...  \n",
       "495  ultra  \n",
       "496  smart  \n",
       "497  smart  \n",
       "498  smart  \n",
       "499  smart  \n",
       "\n",
       "[500 rows x 8 columns]"
      ]
     },
     "execution_count": 147,
     "metadata": {},
     "output_type": "execute_result"
    }
   ],
   "source": [
    "users['reg_date'] = pd.to_datetime(users['reg_date'], format='%Y-%m-%d')\n",
    "users['churn_date'] = pd.to_datetime(users['churn_date'], format='%Y-%m-%d')\n",
    "users"
   ]
  },
  {
   "cell_type": "code",
   "execution_count": 148,
   "metadata": {},
   "outputs": [
    {
     "data": {
      "text/html": [
       "<div>\n",
       "<style scoped>\n",
       "    .dataframe tbody tr th:only-of-type {\n",
       "        vertical-align: middle;\n",
       "    }\n",
       "\n",
       "    .dataframe tbody tr th {\n",
       "        vertical-align: top;\n",
       "    }\n",
       "\n",
       "    .dataframe thead th {\n",
       "        text-align: right;\n",
       "    }\n",
       "</style>\n",
       "<table border=\"1\" class=\"dataframe\">\n",
       "  <thead>\n",
       "    <tr style=\"text-align: right;\">\n",
       "      <th></th>\n",
       "      <th>messages_included</th>\n",
       "      <th>mb_per_month_included</th>\n",
       "      <th>minutes_included</th>\n",
       "      <th>rub_monthly_fee</th>\n",
       "      <th>rub_per_gb</th>\n",
       "      <th>rub_per_message</th>\n",
       "      <th>rub_per_minute</th>\n",
       "      <th>tariff_name</th>\n",
       "    </tr>\n",
       "  </thead>\n",
       "  <tbody>\n",
       "    <tr>\n",
       "      <td>0</td>\n",
       "      <td>50</td>\n",
       "      <td>15360</td>\n",
       "      <td>500</td>\n",
       "      <td>550</td>\n",
       "      <td>200</td>\n",
       "      <td>3</td>\n",
       "      <td>3</td>\n",
       "      <td>smart</td>\n",
       "    </tr>\n",
       "    <tr>\n",
       "      <td>1</td>\n",
       "      <td>1000</td>\n",
       "      <td>30720</td>\n",
       "      <td>3000</td>\n",
       "      <td>1950</td>\n",
       "      <td>150</td>\n",
       "      <td>1</td>\n",
       "      <td>1</td>\n",
       "      <td>ultra</td>\n",
       "    </tr>\n",
       "  </tbody>\n",
       "</table>\n",
       "</div>"
      ],
      "text/plain": [
       "   messages_included  mb_per_month_included  minutes_included  \\\n",
       "0                 50                  15360               500   \n",
       "1               1000                  30720              3000   \n",
       "\n",
       "   rub_monthly_fee  rub_per_gb  rub_per_message  rub_per_minute tariff_name  \n",
       "0              550         200                3               3       smart  \n",
       "1             1950         150                1               1       ultra  "
      ]
     },
     "execution_count": 148,
     "metadata": {},
     "output_type": "execute_result"
    }
   ],
   "source": [
    "#def tariff_id(object):\n",
    "   # if object == 'smart':\n",
    "        #return 0\n",
    "   # elif object == 'ultra':\n",
    "        #return 1\n",
    "#users['tariff_id'] = users['tariff'].apply(tariff_id)\n",
    "users['tariff_id'] = users['tariff'].map({'smart':0, 'ultra':1})\n",
    "tariffs"
   ]
  },
  {
   "cell_type": "markdown",
   "metadata": {},
   "source": [
    "Вывод: в таблицах были изменены типы дат на соответсвующий формат, произведено окргулнение до целого, а также добавлен столбец месяц(month), всё это было сделано для дальнейшей подготовки данных "
   ]
  },
  {
   "cell_type": "markdown",
   "metadata": {},
   "source": [
    "## Подготовка данных к анализу"
   ]
  },
  {
   "cell_type": "markdown",
   "metadata": {},
   "source": [
    "### Посчитаем для каждого пользователя количество сделанных звонков и израсходованных минут разговора по месяцам"
   ]
  },
  {
   "cell_type": "code",
   "execution_count": 149,
   "metadata": {},
   "outputs": [
    {
     "data": {
      "text/html": [
       "<div>\n",
       "<style scoped>\n",
       "    .dataframe tbody tr th:only-of-type {\n",
       "        vertical-align: middle;\n",
       "    }\n",
       "\n",
       "    .dataframe tbody tr th {\n",
       "        vertical-align: top;\n",
       "    }\n",
       "\n",
       "    .dataframe thead th {\n",
       "        text-align: right;\n",
       "    }\n",
       "</style>\n",
       "<table border=\"1\" class=\"dataframe\">\n",
       "  <thead>\n",
       "    <tr style=\"text-align: right;\">\n",
       "      <th></th>\n",
       "      <th>id</th>\n",
       "      <th>call_date</th>\n",
       "      <th>duration</th>\n",
       "      <th>user_id</th>\n",
       "      <th>month</th>\n",
       "    </tr>\n",
       "  </thead>\n",
       "  <tbody>\n",
       "    <tr>\n",
       "      <td>0</td>\n",
       "      <td>1000_0</td>\n",
       "      <td>2018-07-25</td>\n",
       "      <td>1.00</td>\n",
       "      <td>1000</td>\n",
       "      <td>7</td>\n",
       "    </tr>\n",
       "    <tr>\n",
       "      <td>1</td>\n",
       "      <td>1000_1</td>\n",
       "      <td>2018-08-17</td>\n",
       "      <td>1.00</td>\n",
       "      <td>1000</td>\n",
       "      <td>8</td>\n",
       "    </tr>\n",
       "    <tr>\n",
       "      <td>2</td>\n",
       "      <td>1000_2</td>\n",
       "      <td>2018-06-11</td>\n",
       "      <td>3.00</td>\n",
       "      <td>1000</td>\n",
       "      <td>6</td>\n",
       "    </tr>\n",
       "    <tr>\n",
       "      <td>3</td>\n",
       "      <td>1000_3</td>\n",
       "      <td>2018-09-21</td>\n",
       "      <td>14.00</td>\n",
       "      <td>1000</td>\n",
       "      <td>9</td>\n",
       "    </tr>\n",
       "    <tr>\n",
       "      <td>4</td>\n",
       "      <td>1000_4</td>\n",
       "      <td>2018-12-15</td>\n",
       "      <td>6.00</td>\n",
       "      <td>1000</td>\n",
       "      <td>12</td>\n",
       "    </tr>\n",
       "    <tr>\n",
       "      <td>5</td>\n",
       "      <td>1000_5</td>\n",
       "      <td>2018-11-02</td>\n",
       "      <td>1.00</td>\n",
       "      <td>1000</td>\n",
       "      <td>11</td>\n",
       "    </tr>\n",
       "    <tr>\n",
       "      <td>6</td>\n",
       "      <td>1000_6</td>\n",
       "      <td>2018-10-18</td>\n",
       "      <td>1.00</td>\n",
       "      <td>1000</td>\n",
       "      <td>10</td>\n",
       "    </tr>\n",
       "    <tr>\n",
       "      <td>7</td>\n",
       "      <td>1000_7</td>\n",
       "      <td>2018-08-22</td>\n",
       "      <td>19.00</td>\n",
       "      <td>1000</td>\n",
       "      <td>8</td>\n",
       "    </tr>\n",
       "    <tr>\n",
       "      <td>8</td>\n",
       "      <td>1000_8</td>\n",
       "      <td>2018-09-15</td>\n",
       "      <td>19.00</td>\n",
       "      <td>1000</td>\n",
       "      <td>9</td>\n",
       "    </tr>\n",
       "    <tr>\n",
       "      <td>9</td>\n",
       "      <td>1000_9</td>\n",
       "      <td>2018-08-15</td>\n",
       "      <td>1.00</td>\n",
       "      <td>1000</td>\n",
       "      <td>8</td>\n",
       "    </tr>\n",
       "  </tbody>\n",
       "</table>\n",
       "</div>"
      ],
      "text/plain": [
       "       id  call_date  duration  user_id  month\n",
       "0  1000_0 2018-07-25      1.00     1000      7\n",
       "1  1000_1 2018-08-17      1.00     1000      8\n",
       "2  1000_2 2018-06-11      3.00     1000      6\n",
       "3  1000_3 2018-09-21     14.00     1000      9\n",
       "4  1000_4 2018-12-15      6.00     1000     12\n",
       "5  1000_5 2018-11-02      1.00     1000     11\n",
       "6  1000_6 2018-10-18      1.00     1000     10\n",
       "7  1000_7 2018-08-22     19.00     1000      8\n",
       "8  1000_8 2018-09-15     19.00     1000      9\n",
       "9  1000_9 2018-08-15      1.00     1000      8"
      ]
     },
     "execution_count": 149,
     "metadata": {},
     "output_type": "execute_result"
    }
   ],
   "source": [
    "calls.head(10)"
   ]
  },
  {
   "cell_type": "code",
   "execution_count": 150,
   "metadata": {
    "scrolled": true
   },
   "outputs": [
    {
     "data": {
      "text/plain": [
       "Timestamp('2018-01-01 00:00:00')"
      ]
     },
     "metadata": {},
     "output_type": "display_data"
    },
    {
     "data": {
      "text/plain": [
       "Timestamp('2018-12-31 00:00:00')"
      ]
     },
     "metadata": {},
     "output_type": "display_data"
    }
   ],
   "source": [
    "display(calls['call_date'].min())\n",
    "display(calls['call_date'].max())"
   ]
  },
  {
   "cell_type": "markdown",
   "metadata": {
    "scrolled": true
   },
   "source": [
    " Проверим данные на каком-нибудь конкретном id."
   ]
  },
  {
   "cell_type": "code",
   "execution_count": 151,
   "metadata": {},
   "outputs": [
    {
     "name": "stdout",
     "output_type": "stream",
     "text": [
      "           id  call_date  duration  user_id  month\n",
      "0      1000_0 2018-07-25      1.00     1000      7\n",
      "1      1000_1 2018-08-17      1.00     1000      8\n",
      "2      1000_2 2018-06-11      3.00     1000      6\n",
      "3      1000_3 2018-09-21     14.00     1000      9\n",
      "4      1000_4 2018-12-15      6.00     1000     12\n",
      "..        ...        ...       ...      ...    ...\n",
      "363  1000_363 2018-08-22      8.00     1000      8\n",
      "364  1000_364 2018-09-13      3.00     1000      9\n",
      "365  1000_365 2018-06-23      1.00     1000      6\n",
      "366  1000_366 2018-12-06      5.00     1000     12\n",
      "367  1000_367 2018-12-13     20.00     1000     12\n",
      "\n",
      "[368 rows x 5 columns]\n"
     ]
    }
   ],
   "source": [
    "print(calls[calls['user_id'].isin([1000])])"
   ]
  },
  {
   "cell_type": "markdown",
   "metadata": {},
   "source": [
    "Сделаем сводную таблицу по Id, месяцу и длительности звонка (duration)"
   ]
  },
  {
   "cell_type": "code",
   "execution_count": 152,
   "metadata": {},
   "outputs": [
    {
     "name": "stdout",
     "output_type": "stream",
     "text": [
      "   user_id  month  duration\n",
      "0     1000      5    164.00\n",
      "1     1000      6    187.00\n",
      "2     1000      7    346.00\n",
      "3     1000      8    418.00\n",
      "4     1000      9    478.00\n",
      "5     1000     10    363.00\n",
      "6     1000     11    344.00\n",
      "7     1000     12    341.00\n"
     ]
    }
   ],
   "source": [
    "calls_month_minutes = calls.pivot_table(index=['user_id', 'month'], values='duration',aggfunc='sum').reset_index()\n",
    "print(calls_month_minutes[calls_month_minutes['user_id'].isin([1000])])"
   ]
  },
  {
   "cell_type": "code",
   "execution_count": 153,
   "metadata": {},
   "outputs": [
    {
     "name": "stdout",
     "output_type": "stream",
     "text": [
      "   user_id  month  calls_num\n",
      "0     1000      5         22\n",
      "1     1000      6         43\n",
      "2     1000      7         47\n",
      "3     1000      8         52\n",
      "4     1000      9         58\n",
      "5     1000     10         57\n",
      "6     1000     11         43\n",
      "7     1000     12         46\n"
     ]
    }
   ],
   "source": [
    "calls_month_num = calls.groupby(['user_id','month',])[['id']].agg(['count']).reset_index()\n",
    "calls_month_num.columns = ['user_id','month','calls_num']\n",
    "print(calls_month_num[calls_month_num['user_id'].isin([1000])])\n",
    "#calls_month_num.describe()"
   ]
  },
  {
   "cell_type": "markdown",
   "metadata": {},
   "source": [
    "###   Посчитаем для каждого пользователя количество отправленных сообщений по месяцам."
   ]
  },
  {
   "cell_type": "code",
   "execution_count": 154,
   "metadata": {},
   "outputs": [
    {
     "name": "stdout",
     "output_type": "stream",
     "text": [
      "   user_id  month  msgs_num\n",
      "0     1000      5        22\n",
      "1     1000      6        60\n",
      "2     1000      7        75\n",
      "3     1000      8        81\n",
      "4     1000      9        57\n",
      "5     1000     10        73\n",
      "6     1000     11        58\n",
      "7     1000     12        70\n"
     ]
    }
   ],
   "source": [
    "messages_month = messages.groupby(['user_id','month'])[['id']].agg(['count']).reset_index()\n",
    "messages_month.columns = ['user_id','month','msgs_num']\n",
    "print(messages_month[messages_month['user_id'].isin([1000])])"
   ]
  },
  {
   "cell_type": "markdown",
   "metadata": {},
   "source": [
    "### Посчитаем для каждого пользователя объем израсходованного интернет-трафика по месяцам"
   ]
  },
  {
   "cell_type": "code",
   "execution_count": 155,
   "metadata": {},
   "outputs": [
    {
     "name": "stdout",
     "output_type": "stream",
     "text": [
      "   user_id  month   mb_used\n",
      "0     1000      5  2,256.00\n",
      "1     1000      6 23,257.00\n",
      "2     1000      7 14,016.00\n",
      "3     1000      8 14,070.00\n",
      "4     1000      9 14,581.00\n",
      "5     1000     10 14,717.00\n",
      "6     1000     11 14,768.00\n",
      "7     1000     12  9,827.00\n"
     ]
    }
   ],
   "source": [
    "internet_month = internet.pivot_table(index=['user_id', 'month'], values='mb_used',aggfunc='sum').reset_index()\n",
    "print(internet_month[internet_month['user_id'].isin([1000])])"
   ]
  },
  {
   "cell_type": "code",
   "execution_count": 156,
   "metadata": {},
   "outputs": [
    {
     "name": "stdout",
     "output_type": "stream",
     "text": [
      "   user_id  month  gb_used\n",
      "0     1000      5     3.00\n",
      "1     1000      6    23.00\n",
      "2     1000      7    14.00\n",
      "3     1000      8    14.00\n",
      "4     1000      9    15.00\n",
      "5     1000     10    15.00\n",
      "6     1000     11    15.00\n",
      "7     1000     12    10.00\n"
     ]
    }
   ],
   "source": [
    "internet_month['gb_used']=(internet_month['mb_used']/1024).apply(np.ceil)\n",
    "internet_month = internet_month.drop('mb_used',axis=1)\n",
    "print(internet_month[internet_month['user_id'].isin([1000])])"
   ]
  },
  {
   "cell_type": "markdown",
   "metadata": {},
   "source": [
    "### Посчитаем для каждого пользователя помесячную выручку с каждого пользователя"
   ]
  },
  {
   "cell_type": "markdown",
   "metadata": {},
   "source": [
    "\n",
    "Вычтем бесплатный лимит из суммарного количества звонков, сообщений и интернет-трафика; остаток умножем на значение из тарифного плана; прибавим абонентскую плату, соответствующую тарифному плану. Для этого сначала создадим таблицу revenue, куда будем добавлять все необходимые нам данные."
   ]
  },
  {
   "cell_type": "code",
   "execution_count": 157,
   "metadata": {},
   "outputs": [
    {
     "data": {
      "text/html": [
       "<div>\n",
       "<style scoped>\n",
       "    .dataframe tbody tr th:only-of-type {\n",
       "        vertical-align: middle;\n",
       "    }\n",
       "\n",
       "    .dataframe tbody tr th {\n",
       "        vertical-align: top;\n",
       "    }\n",
       "\n",
       "    .dataframe thead th {\n",
       "        text-align: right;\n",
       "    }\n",
       "</style>\n",
       "<table border=\"1\" class=\"dataframe\">\n",
       "  <thead>\n",
       "    <tr style=\"text-align: right;\">\n",
       "      <th></th>\n",
       "      <th>user_id</th>\n",
       "      <th>tariff</th>\n",
       "      <th>monthly_fee</th>\n",
       "    </tr>\n",
       "  </thead>\n",
       "  <tbody>\n",
       "    <tr>\n",
       "      <td>0</td>\n",
       "      <td>1000</td>\n",
       "      <td>ultra</td>\n",
       "      <td>1950</td>\n",
       "    </tr>\n",
       "    <tr>\n",
       "      <td>1</td>\n",
       "      <td>1001</td>\n",
       "      <td>smart</td>\n",
       "      <td>550</td>\n",
       "    </tr>\n",
       "    <tr>\n",
       "      <td>2</td>\n",
       "      <td>1002</td>\n",
       "      <td>smart</td>\n",
       "      <td>550</td>\n",
       "    </tr>\n",
       "    <tr>\n",
       "      <td>3</td>\n",
       "      <td>1003</td>\n",
       "      <td>ultra</td>\n",
       "      <td>1950</td>\n",
       "    </tr>\n",
       "    <tr>\n",
       "      <td>4</td>\n",
       "      <td>1004</td>\n",
       "      <td>ultra</td>\n",
       "      <td>1950</td>\n",
       "    </tr>\n",
       "    <tr>\n",
       "      <td>...</td>\n",
       "      <td>...</td>\n",
       "      <td>...</td>\n",
       "      <td>...</td>\n",
       "    </tr>\n",
       "    <tr>\n",
       "      <td>495</td>\n",
       "      <td>1495</td>\n",
       "      <td>ultra</td>\n",
       "      <td>1950</td>\n",
       "    </tr>\n",
       "    <tr>\n",
       "      <td>496</td>\n",
       "      <td>1496</td>\n",
       "      <td>smart</td>\n",
       "      <td>550</td>\n",
       "    </tr>\n",
       "    <tr>\n",
       "      <td>497</td>\n",
       "      <td>1497</td>\n",
       "      <td>smart</td>\n",
       "      <td>550</td>\n",
       "    </tr>\n",
       "    <tr>\n",
       "      <td>498</td>\n",
       "      <td>1498</td>\n",
       "      <td>smart</td>\n",
       "      <td>550</td>\n",
       "    </tr>\n",
       "    <tr>\n",
       "      <td>499</td>\n",
       "      <td>1499</td>\n",
       "      <td>smart</td>\n",
       "      <td>550</td>\n",
       "    </tr>\n",
       "  </tbody>\n",
       "</table>\n",
       "<p>500 rows × 3 columns</p>\n",
       "</div>"
      ],
      "text/plain": [
       "     user_id tariff  monthly_fee\n",
       "0       1000  ultra         1950\n",
       "1       1001  smart          550\n",
       "2       1002  smart          550\n",
       "3       1003  ultra         1950\n",
       "4       1004  ultra         1950\n",
       "..       ...    ...          ...\n",
       "495     1495  ultra         1950\n",
       "496     1496  smart          550\n",
       "497     1497  smart          550\n",
       "498     1498  smart          550\n",
       "499     1499  smart          550\n",
       "\n",
       "[500 rows x 3 columns]"
      ]
     },
     "execution_count": 157,
     "metadata": {},
     "output_type": "execute_result"
    }
   ],
   "source": [
    "revenue = users[['user_id', 'tariff']].copy()\n",
    "users.merge(tariffs[['rub_monthly_fee', 'tariff_name']]\n",
    "            , left_on='tariff'\n",
    "            , right_on='tariff_name')\n",
    "revenue['monthly_fee']=rate\n",
    "revenue\n",
    "\n",
    "#rate = []\n",
    "#for tariff in revenue['tariff']:\n",
    " # if tariff=='smart':\n",
    "  #  rate.append(tariffs.loc[tariffs['tariff_name']=='smart', 'rub_monthly_fee'].values[0])\n",
    "  #else:\n",
    "   # rate.append(tariffs.loc[tariffs['tariff_name']=='ultra', 'rub_monthly_fee'].values[0])\n",
    "\n",
    "#revenue"
   ]
  },
  {
   "cell_type": "code",
   "execution_count": 158,
   "metadata": {},
   "outputs": [
    {
     "name": "stdout",
     "output_type": "stream",
     "text": [
      "   user_id  month  duration  msgs_num  gb_used\n",
      "0     1000      5    164.00     22.00     3.00\n",
      "1     1000      6    187.00     60.00    23.00\n",
      "2     1000      7    346.00     75.00    14.00\n",
      "3     1000      8    418.00     81.00    14.00\n",
      "4     1000      9    478.00     57.00    15.00\n",
      "5     1000     10    363.00     73.00    15.00\n",
      "6     1000     11    344.00     58.00    15.00\n",
      "7     1000     12    341.00     70.00    10.00\n"
     ]
    }
   ],
   "source": [
    "all_data = calls_month_minutes[['user_id', 'month', 'duration',]]\n",
    "for df in [messages_month, internet_month]:\n",
    "    all_data=all_data.merge(df, how='outer', on=['user_id', 'month',])\n",
    "print(all_data[all_data['user_id'].isin([1000])])"
   ]
  },
  {
   "cell_type": "code",
   "execution_count": 159,
   "metadata": {},
   "outputs": [
    {
     "name": "stdout",
     "output_type": "stream",
     "text": [
      "<class 'pandas.core.frame.DataFrame'>\n",
      "Int64Index: 3214 entries, 0 to 3213\n",
      "Data columns (total 5 columns):\n",
      "user_id     3214 non-null int64\n",
      "month       3214 non-null int64\n",
      "duration    3174 non-null float64\n",
      "msgs_num    2717 non-null float64\n",
      "gb_used     3201 non-null float64\n",
      "dtypes: float64(3), int64(2)\n",
      "memory usage: 150.7 KB\n"
     ]
    }
   ],
   "source": [
    "all_data.info()"
   ]
  },
  {
   "cell_type": "markdown",
   "metadata": {},
   "source": [
    "В duration есть пустые значения, заменим их на 0 "
   ]
  },
  {
   "cell_type": "code",
   "execution_count": 160,
   "metadata": {},
   "outputs": [
    {
     "name": "stdout",
     "output_type": "stream",
     "text": [
      "   user_id  month  duration  msgs_num  gb_used\n",
      "0     1000      5    164.00     22.00     3.00\n",
      "1     1000      6    187.00     60.00    23.00\n",
      "2     1000      7    346.00     75.00    14.00\n",
      "3     1000      8    418.00     81.00    14.00\n",
      "4     1000      9    478.00     57.00    15.00\n",
      "5     1000     10    363.00     73.00    15.00\n",
      "6     1000     11    344.00     58.00    15.00\n",
      "7     1000     12    341.00     70.00    10.00\n"
     ]
    }
   ],
   "source": [
    "all_data.fillna(0, inplace = True)\n",
    "print(all_data[all_data['user_id'].isin([1000])])"
   ]
  },
  {
   "cell_type": "code",
   "execution_count": 161,
   "metadata": {},
   "outputs": [
    {
     "name": "stdout",
     "output_type": "stream",
     "text": [
      "<class 'pandas.core.frame.DataFrame'>\n",
      "Int64Index: 3214 entries, 0 to 3213\n",
      "Data columns (total 5 columns):\n",
      "user_id     3214 non-null int64\n",
      "month       3214 non-null int64\n",
      "duration    3214 non-null float64\n",
      "msgs_num    3214 non-null float64\n",
      "gb_used     3214 non-null float64\n",
      "dtypes: float64(3), int64(2)\n",
      "memory usage: 150.7 KB\n"
     ]
    }
   ],
   "source": [
    "all_data.info()"
   ]
  },
  {
   "cell_type": "markdown",
   "metadata": {},
   "source": [
    "Объеденим таблицу"
   ]
  },
  {
   "cell_type": "code",
   "execution_count": 162,
   "metadata": {},
   "outputs": [
    {
     "name": "stdout",
     "output_type": "stream",
     "text": [
      "   user_id tariff  monthly_fee  month  duration  msgs_num  gb_used\n",
      "0     1000  ultra         1950      5    164.00     22.00     3.00\n",
      "1     1000  ultra         1950      6    187.00     60.00    23.00\n",
      "2     1000  ultra         1950      7    346.00     75.00    14.00\n",
      "3     1000  ultra         1950      8    418.00     81.00    14.00\n",
      "4     1000  ultra         1950      9    478.00     57.00    15.00\n",
      "5     1000  ultra         1950     10    363.00     73.00    15.00\n",
      "6     1000  ultra         1950     11    344.00     58.00    15.00\n",
      "7     1000  ultra         1950     12    341.00     70.00    10.00\n"
     ]
    }
   ],
   "source": [
    "revenue = revenue.merge(all_data, how='right', on=['user_id'])\n",
    "print(revenue[revenue['user_id'].isin([1000])])"
   ]
  },
  {
   "cell_type": "markdown",
   "metadata": {},
   "source": [
    "Необходимо посчитать кол-во перерасходованных минут,Гб и смс."
   ]
  },
  {
   "cell_type": "code",
   "execution_count": 163,
   "metadata": {},
   "outputs": [
    {
     "data": {
      "text/html": [
       "<div>\n",
       "<style scoped>\n",
       "    .dataframe tbody tr th:only-of-type {\n",
       "        vertical-align: middle;\n",
       "    }\n",
       "\n",
       "    .dataframe tbody tr th {\n",
       "        vertical-align: top;\n",
       "    }\n",
       "\n",
       "    .dataframe thead th {\n",
       "        text-align: right;\n",
       "    }\n",
       "</style>\n",
       "<table border=\"1\" class=\"dataframe\">\n",
       "  <thead>\n",
       "    <tr style=\"text-align: right;\">\n",
       "      <th></th>\n",
       "      <th>user_id</th>\n",
       "      <th>tariff</th>\n",
       "      <th>monthly_fee</th>\n",
       "      <th>month</th>\n",
       "      <th>duration</th>\n",
       "      <th>msgs_num</th>\n",
       "      <th>gb_used</th>\n",
       "      <th>extra_mins_fee</th>\n",
       "    </tr>\n",
       "  </thead>\n",
       "  <tbody>\n",
       "    <tr>\n",
       "      <td>0</td>\n",
       "      <td>1000</td>\n",
       "      <td>ultra</td>\n",
       "      <td>1950</td>\n",
       "      <td>5</td>\n",
       "      <td>164.00</td>\n",
       "      <td>22.00</td>\n",
       "      <td>3.00</td>\n",
       "      <td>0.00</td>\n",
       "    </tr>\n",
       "    <tr>\n",
       "      <td>1</td>\n",
       "      <td>1000</td>\n",
       "      <td>ultra</td>\n",
       "      <td>1950</td>\n",
       "      <td>6</td>\n",
       "      <td>187.00</td>\n",
       "      <td>60.00</td>\n",
       "      <td>23.00</td>\n",
       "      <td>0.00</td>\n",
       "    </tr>\n",
       "    <tr>\n",
       "      <td>2</td>\n",
       "      <td>1000</td>\n",
       "      <td>ultra</td>\n",
       "      <td>1950</td>\n",
       "      <td>7</td>\n",
       "      <td>346.00</td>\n",
       "      <td>75.00</td>\n",
       "      <td>14.00</td>\n",
       "      <td>0.00</td>\n",
       "    </tr>\n",
       "    <tr>\n",
       "      <td>3</td>\n",
       "      <td>1000</td>\n",
       "      <td>ultra</td>\n",
       "      <td>1950</td>\n",
       "      <td>8</td>\n",
       "      <td>418.00</td>\n",
       "      <td>81.00</td>\n",
       "      <td>14.00</td>\n",
       "      <td>0.00</td>\n",
       "    </tr>\n",
       "    <tr>\n",
       "      <td>4</td>\n",
       "      <td>1000</td>\n",
       "      <td>ultra</td>\n",
       "      <td>1950</td>\n",
       "      <td>9</td>\n",
       "      <td>478.00</td>\n",
       "      <td>57.00</td>\n",
       "      <td>15.00</td>\n",
       "      <td>0.00</td>\n",
       "    </tr>\n",
       "    <tr>\n",
       "      <td>5</td>\n",
       "      <td>1000</td>\n",
       "      <td>ultra</td>\n",
       "      <td>1950</td>\n",
       "      <td>10</td>\n",
       "      <td>363.00</td>\n",
       "      <td>73.00</td>\n",
       "      <td>15.00</td>\n",
       "      <td>0.00</td>\n",
       "    </tr>\n",
       "    <tr>\n",
       "      <td>6</td>\n",
       "      <td>1000</td>\n",
       "      <td>ultra</td>\n",
       "      <td>1950</td>\n",
       "      <td>11</td>\n",
       "      <td>344.00</td>\n",
       "      <td>58.00</td>\n",
       "      <td>15.00</td>\n",
       "      <td>0.00</td>\n",
       "    </tr>\n",
       "    <tr>\n",
       "      <td>7</td>\n",
       "      <td>1000</td>\n",
       "      <td>ultra</td>\n",
       "      <td>1950</td>\n",
       "      <td>12</td>\n",
       "      <td>341.00</td>\n",
       "      <td>70.00</td>\n",
       "      <td>10.00</td>\n",
       "      <td>0.00</td>\n",
       "    </tr>\n",
       "    <tr>\n",
       "      <td>8</td>\n",
       "      <td>1001</td>\n",
       "      <td>smart</td>\n",
       "      <td>550</td>\n",
       "      <td>11</td>\n",
       "      <td>444.00</td>\n",
       "      <td>0.00</td>\n",
       "      <td>19.00</td>\n",
       "      <td>0.00</td>\n",
       "    </tr>\n",
       "    <tr>\n",
       "      <td>9</td>\n",
       "      <td>1001</td>\n",
       "      <td>smart</td>\n",
       "      <td>550</td>\n",
       "      <td>12</td>\n",
       "      <td>430.00</td>\n",
       "      <td>0.00</td>\n",
       "      <td>14.00</td>\n",
       "      <td>0.00</td>\n",
       "    </tr>\n",
       "  </tbody>\n",
       "</table>\n",
       "</div>"
      ],
      "text/plain": [
       "   user_id tariff  monthly_fee  month  duration  msgs_num  gb_used  \\\n",
       "0     1000  ultra         1950      5    164.00     22.00     3.00   \n",
       "1     1000  ultra         1950      6    187.00     60.00    23.00   \n",
       "2     1000  ultra         1950      7    346.00     75.00    14.00   \n",
       "3     1000  ultra         1950      8    418.00     81.00    14.00   \n",
       "4     1000  ultra         1950      9    478.00     57.00    15.00   \n",
       "5     1000  ultra         1950     10    363.00     73.00    15.00   \n",
       "6     1000  ultra         1950     11    344.00     58.00    15.00   \n",
       "7     1000  ultra         1950     12    341.00     70.00    10.00   \n",
       "8     1001  smart          550     11    444.00      0.00    19.00   \n",
       "9     1001  smart          550     12    430.00      0.00    14.00   \n",
       "\n",
       "   extra_mins_fee  \n",
       "0            0.00  \n",
       "1            0.00  \n",
       "2            0.00  \n",
       "3            0.00  \n",
       "4            0.00  \n",
       "5            0.00  \n",
       "6            0.00  \n",
       "7            0.00  \n",
       "8            0.00  \n",
       "9            0.00  "
      ]
     },
     "execution_count": 163,
     "metadata": {},
     "output_type": "execute_result"
    }
   ],
   "source": [
    "def extra_mins_fee(row):\n",
    "  duration = row['duration']\n",
    "  tariff = row['tariff']\n",
    "  free_mins_s=tariffs.loc[tariffs['tariff_name']=='smart', 'minutes_included'].values[0]\n",
    "  free_mins_u=tariffs.loc[tariffs['tariff_name']=='ultra', 'minutes_included'].values[0]\n",
    "  fix_mins_s=tariffs.loc[tariffs['tariff_name']=='smart', 'rub_per_minute'].values[0]\n",
    "  fix_mins_u=tariffs.loc[tariffs['tariff_name']=='ultra', 'rub_per_minute'].values[0]\n",
    "  extra_mins_fee=0\n",
    "  if row['tariff'] == 'smart':\n",
    "    extra_mins_fee=max(duration - free_mins_s,0)*fix_mins_s\n",
    "    return extra_mins_fee\n",
    "  else:\n",
    "    extra_mins_fee=max(duration - free_mins_u,0)*fix_mins_u\n",
    "    return extra_mins_fee\n",
    "\n",
    "revenue['extra_mins_fee'] = revenue.apply(extra_mins_fee, axis = 1)\n",
    "revenue.head(10)"
   ]
  },
  {
   "cell_type": "code",
   "execution_count": 164,
   "metadata": {},
   "outputs": [
    {
     "data": {
      "text/html": [
       "<div>\n",
       "<style scoped>\n",
       "    .dataframe tbody tr th:only-of-type {\n",
       "        vertical-align: middle;\n",
       "    }\n",
       "\n",
       "    .dataframe tbody tr th {\n",
       "        vertical-align: top;\n",
       "    }\n",
       "\n",
       "    .dataframe thead th {\n",
       "        text-align: right;\n",
       "    }\n",
       "</style>\n",
       "<table border=\"1\" class=\"dataframe\">\n",
       "  <thead>\n",
       "    <tr style=\"text-align: right;\">\n",
       "      <th></th>\n",
       "      <th>user_id</th>\n",
       "      <th>tariff</th>\n",
       "      <th>monthly_fee</th>\n",
       "      <th>month</th>\n",
       "      <th>duration</th>\n",
       "      <th>msgs_num</th>\n",
       "      <th>gb_used</th>\n",
       "      <th>extra_mins_fee</th>\n",
       "      <th>extra_msgs_fee</th>\n",
       "    </tr>\n",
       "  </thead>\n",
       "  <tbody>\n",
       "    <tr>\n",
       "      <td>0</td>\n",
       "      <td>1000</td>\n",
       "      <td>ultra</td>\n",
       "      <td>1950</td>\n",
       "      <td>5</td>\n",
       "      <td>164.00</td>\n",
       "      <td>22.00</td>\n",
       "      <td>3.00</td>\n",
       "      <td>0.00</td>\n",
       "      <td>0.00</td>\n",
       "    </tr>\n",
       "    <tr>\n",
       "      <td>1</td>\n",
       "      <td>1000</td>\n",
       "      <td>ultra</td>\n",
       "      <td>1950</td>\n",
       "      <td>6</td>\n",
       "      <td>187.00</td>\n",
       "      <td>60.00</td>\n",
       "      <td>23.00</td>\n",
       "      <td>0.00</td>\n",
       "      <td>0.00</td>\n",
       "    </tr>\n",
       "    <tr>\n",
       "      <td>2</td>\n",
       "      <td>1000</td>\n",
       "      <td>ultra</td>\n",
       "      <td>1950</td>\n",
       "      <td>7</td>\n",
       "      <td>346.00</td>\n",
       "      <td>75.00</td>\n",
       "      <td>14.00</td>\n",
       "      <td>0.00</td>\n",
       "      <td>0.00</td>\n",
       "    </tr>\n",
       "    <tr>\n",
       "      <td>3</td>\n",
       "      <td>1000</td>\n",
       "      <td>ultra</td>\n",
       "      <td>1950</td>\n",
       "      <td>8</td>\n",
       "      <td>418.00</td>\n",
       "      <td>81.00</td>\n",
       "      <td>14.00</td>\n",
       "      <td>0.00</td>\n",
       "      <td>0.00</td>\n",
       "    </tr>\n",
       "    <tr>\n",
       "      <td>4</td>\n",
       "      <td>1000</td>\n",
       "      <td>ultra</td>\n",
       "      <td>1950</td>\n",
       "      <td>9</td>\n",
       "      <td>478.00</td>\n",
       "      <td>57.00</td>\n",
       "      <td>15.00</td>\n",
       "      <td>0.00</td>\n",
       "      <td>0.00</td>\n",
       "    </tr>\n",
       "    <tr>\n",
       "      <td>5</td>\n",
       "      <td>1000</td>\n",
       "      <td>ultra</td>\n",
       "      <td>1950</td>\n",
       "      <td>10</td>\n",
       "      <td>363.00</td>\n",
       "      <td>73.00</td>\n",
       "      <td>15.00</td>\n",
       "      <td>0.00</td>\n",
       "      <td>0.00</td>\n",
       "    </tr>\n",
       "    <tr>\n",
       "      <td>6</td>\n",
       "      <td>1000</td>\n",
       "      <td>ultra</td>\n",
       "      <td>1950</td>\n",
       "      <td>11</td>\n",
       "      <td>344.00</td>\n",
       "      <td>58.00</td>\n",
       "      <td>15.00</td>\n",
       "      <td>0.00</td>\n",
       "      <td>0.00</td>\n",
       "    </tr>\n",
       "    <tr>\n",
       "      <td>7</td>\n",
       "      <td>1000</td>\n",
       "      <td>ultra</td>\n",
       "      <td>1950</td>\n",
       "      <td>12</td>\n",
       "      <td>341.00</td>\n",
       "      <td>70.00</td>\n",
       "      <td>10.00</td>\n",
       "      <td>0.00</td>\n",
       "      <td>0.00</td>\n",
       "    </tr>\n",
       "    <tr>\n",
       "      <td>8</td>\n",
       "      <td>1001</td>\n",
       "      <td>smart</td>\n",
       "      <td>550</td>\n",
       "      <td>11</td>\n",
       "      <td>444.00</td>\n",
       "      <td>0.00</td>\n",
       "      <td>19.00</td>\n",
       "      <td>0.00</td>\n",
       "      <td>0.00</td>\n",
       "    </tr>\n",
       "    <tr>\n",
       "      <td>9</td>\n",
       "      <td>1001</td>\n",
       "      <td>smart</td>\n",
       "      <td>550</td>\n",
       "      <td>12</td>\n",
       "      <td>430.00</td>\n",
       "      <td>0.00</td>\n",
       "      <td>14.00</td>\n",
       "      <td>0.00</td>\n",
       "      <td>0.00</td>\n",
       "    </tr>\n",
       "  </tbody>\n",
       "</table>\n",
       "</div>"
      ],
      "text/plain": [
       "   user_id tariff  monthly_fee  month  duration  msgs_num  gb_used  \\\n",
       "0     1000  ultra         1950      5    164.00     22.00     3.00   \n",
       "1     1000  ultra         1950      6    187.00     60.00    23.00   \n",
       "2     1000  ultra         1950      7    346.00     75.00    14.00   \n",
       "3     1000  ultra         1950      8    418.00     81.00    14.00   \n",
       "4     1000  ultra         1950      9    478.00     57.00    15.00   \n",
       "5     1000  ultra         1950     10    363.00     73.00    15.00   \n",
       "6     1000  ultra         1950     11    344.00     58.00    15.00   \n",
       "7     1000  ultra         1950     12    341.00     70.00    10.00   \n",
       "8     1001  smart          550     11    444.00      0.00    19.00   \n",
       "9     1001  smart          550     12    430.00      0.00    14.00   \n",
       "\n",
       "   extra_mins_fee  extra_msgs_fee  \n",
       "0            0.00            0.00  \n",
       "1            0.00            0.00  \n",
       "2            0.00            0.00  \n",
       "3            0.00            0.00  \n",
       "4            0.00            0.00  \n",
       "5            0.00            0.00  \n",
       "6            0.00            0.00  \n",
       "7            0.00            0.00  \n",
       "8            0.00            0.00  \n",
       "9            0.00            0.00  "
      ]
     },
     "execution_count": 164,
     "metadata": {},
     "output_type": "execute_result"
    }
   ],
   "source": [
    "def extra_msgs_fee(row):\n",
    "  msgs_num = row['msgs_num']\n",
    "  tariff = row['tariff']\n",
    "  free_msgs_s=tariffs.loc[tariffs['tariff_name']=='smart', 'messages_included'].values[0]\n",
    "  free_msgs_u=tariffs.loc[tariffs['tariff_name']=='ultra', 'messages_included'].values[0]\n",
    "  fix_msgs_s=tariffs.loc[tariffs['tariff_name']=='smart', 'rub_per_message'].values[0]\n",
    "  fix_msgs_u=tariffs.loc[tariffs['tariff_name']=='ultra', 'rub_per_message'].values[0]\n",
    "  extra_msgs_fee=0\n",
    "  if row['tariff'] == 'smart':\n",
    "    extra_msgs_fee=max(msgs_num - free_msgs_s,0)*fix_msgs_s\n",
    "    return extra_msgs_fee\n",
    "  else:\n",
    "    extra_msgs_fee=max(msgs_num - free_msgs_u,0)*fix_msgs_u\n",
    "    return extra_msgs_fee\n",
    "\n",
    "revenue['extra_msgs_fee'] = revenue.apply(extra_msgs_fee, axis = 1)\n",
    "revenue.head(10)"
   ]
  },
  {
   "cell_type": "code",
   "execution_count": 165,
   "metadata": {},
   "outputs": [
    {
     "data": {
      "text/html": [
       "<div>\n",
       "<style scoped>\n",
       "    .dataframe tbody tr th:only-of-type {\n",
       "        vertical-align: middle;\n",
       "    }\n",
       "\n",
       "    .dataframe tbody tr th {\n",
       "        vertical-align: top;\n",
       "    }\n",
       "\n",
       "    .dataframe thead th {\n",
       "        text-align: right;\n",
       "    }\n",
       "</style>\n",
       "<table border=\"1\" class=\"dataframe\">\n",
       "  <thead>\n",
       "    <tr style=\"text-align: right;\">\n",
       "      <th></th>\n",
       "      <th>user_id</th>\n",
       "      <th>tariff</th>\n",
       "      <th>monthly_fee</th>\n",
       "      <th>month</th>\n",
       "      <th>duration</th>\n",
       "      <th>msgs_num</th>\n",
       "      <th>gb_used</th>\n",
       "      <th>extra_mins_fee</th>\n",
       "      <th>extra_msgs_fee</th>\n",
       "      <th>extra_gb_fee</th>\n",
       "    </tr>\n",
       "  </thead>\n",
       "  <tbody>\n",
       "    <tr>\n",
       "      <td>0</td>\n",
       "      <td>1000</td>\n",
       "      <td>ultra</td>\n",
       "      <td>1950</td>\n",
       "      <td>5</td>\n",
       "      <td>164.00</td>\n",
       "      <td>22.00</td>\n",
       "      <td>3.00</td>\n",
       "      <td>0.00</td>\n",
       "      <td>0.00</td>\n",
       "      <td>0.00</td>\n",
       "    </tr>\n",
       "    <tr>\n",
       "      <td>1</td>\n",
       "      <td>1000</td>\n",
       "      <td>ultra</td>\n",
       "      <td>1950</td>\n",
       "      <td>6</td>\n",
       "      <td>187.00</td>\n",
       "      <td>60.00</td>\n",
       "      <td>23.00</td>\n",
       "      <td>0.00</td>\n",
       "      <td>0.00</td>\n",
       "      <td>0.00</td>\n",
       "    </tr>\n",
       "    <tr>\n",
       "      <td>2</td>\n",
       "      <td>1000</td>\n",
       "      <td>ultra</td>\n",
       "      <td>1950</td>\n",
       "      <td>7</td>\n",
       "      <td>346.00</td>\n",
       "      <td>75.00</td>\n",
       "      <td>14.00</td>\n",
       "      <td>0.00</td>\n",
       "      <td>0.00</td>\n",
       "      <td>0.00</td>\n",
       "    </tr>\n",
       "    <tr>\n",
       "      <td>3</td>\n",
       "      <td>1000</td>\n",
       "      <td>ultra</td>\n",
       "      <td>1950</td>\n",
       "      <td>8</td>\n",
       "      <td>418.00</td>\n",
       "      <td>81.00</td>\n",
       "      <td>14.00</td>\n",
       "      <td>0.00</td>\n",
       "      <td>0.00</td>\n",
       "      <td>0.00</td>\n",
       "    </tr>\n",
       "    <tr>\n",
       "      <td>4</td>\n",
       "      <td>1000</td>\n",
       "      <td>ultra</td>\n",
       "      <td>1950</td>\n",
       "      <td>9</td>\n",
       "      <td>478.00</td>\n",
       "      <td>57.00</td>\n",
       "      <td>15.00</td>\n",
       "      <td>0.00</td>\n",
       "      <td>0.00</td>\n",
       "      <td>0.00</td>\n",
       "    </tr>\n",
       "    <tr>\n",
       "      <td>5</td>\n",
       "      <td>1000</td>\n",
       "      <td>ultra</td>\n",
       "      <td>1950</td>\n",
       "      <td>10</td>\n",
       "      <td>363.00</td>\n",
       "      <td>73.00</td>\n",
       "      <td>15.00</td>\n",
       "      <td>0.00</td>\n",
       "      <td>0.00</td>\n",
       "      <td>0.00</td>\n",
       "    </tr>\n",
       "    <tr>\n",
       "      <td>6</td>\n",
       "      <td>1000</td>\n",
       "      <td>ultra</td>\n",
       "      <td>1950</td>\n",
       "      <td>11</td>\n",
       "      <td>344.00</td>\n",
       "      <td>58.00</td>\n",
       "      <td>15.00</td>\n",
       "      <td>0.00</td>\n",
       "      <td>0.00</td>\n",
       "      <td>0.00</td>\n",
       "    </tr>\n",
       "    <tr>\n",
       "      <td>7</td>\n",
       "      <td>1000</td>\n",
       "      <td>ultra</td>\n",
       "      <td>1950</td>\n",
       "      <td>12</td>\n",
       "      <td>341.00</td>\n",
       "      <td>70.00</td>\n",
       "      <td>10.00</td>\n",
       "      <td>0.00</td>\n",
       "      <td>0.00</td>\n",
       "      <td>0.00</td>\n",
       "    </tr>\n",
       "    <tr>\n",
       "      <td>8</td>\n",
       "      <td>1001</td>\n",
       "      <td>smart</td>\n",
       "      <td>550</td>\n",
       "      <td>11</td>\n",
       "      <td>444.00</td>\n",
       "      <td>0.00</td>\n",
       "      <td>19.00</td>\n",
       "      <td>0.00</td>\n",
       "      <td>0.00</td>\n",
       "      <td>800.00</td>\n",
       "    </tr>\n",
       "    <tr>\n",
       "      <td>9</td>\n",
       "      <td>1001</td>\n",
       "      <td>smart</td>\n",
       "      <td>550</td>\n",
       "      <td>12</td>\n",
       "      <td>430.00</td>\n",
       "      <td>0.00</td>\n",
       "      <td>14.00</td>\n",
       "      <td>0.00</td>\n",
       "      <td>0.00</td>\n",
       "      <td>0.00</td>\n",
       "    </tr>\n",
       "  </tbody>\n",
       "</table>\n",
       "</div>"
      ],
      "text/plain": [
       "   user_id tariff  monthly_fee  month  duration  msgs_num  gb_used  \\\n",
       "0     1000  ultra         1950      5    164.00     22.00     3.00   \n",
       "1     1000  ultra         1950      6    187.00     60.00    23.00   \n",
       "2     1000  ultra         1950      7    346.00     75.00    14.00   \n",
       "3     1000  ultra         1950      8    418.00     81.00    14.00   \n",
       "4     1000  ultra         1950      9    478.00     57.00    15.00   \n",
       "5     1000  ultra         1950     10    363.00     73.00    15.00   \n",
       "6     1000  ultra         1950     11    344.00     58.00    15.00   \n",
       "7     1000  ultra         1950     12    341.00     70.00    10.00   \n",
       "8     1001  smart          550     11    444.00      0.00    19.00   \n",
       "9     1001  smart          550     12    430.00      0.00    14.00   \n",
       "\n",
       "   extra_mins_fee  extra_msgs_fee  extra_gb_fee  \n",
       "0            0.00            0.00          0.00  \n",
       "1            0.00            0.00          0.00  \n",
       "2            0.00            0.00          0.00  \n",
       "3            0.00            0.00          0.00  \n",
       "4            0.00            0.00          0.00  \n",
       "5            0.00            0.00          0.00  \n",
       "6            0.00            0.00          0.00  \n",
       "7            0.00            0.00          0.00  \n",
       "8            0.00            0.00        800.00  \n",
       "9            0.00            0.00          0.00  "
      ]
     },
     "execution_count": 165,
     "metadata": {},
     "output_type": "execute_result"
    }
   ],
   "source": [
    "def extra_gb_fee(row):\n",
    "  traffic = row['gb_used']\n",
    "  tariff = row['tariff']\n",
    "  free_gb_s=tariffs.loc[tariffs['tariff_name']=='smart', 'mb_per_month_included'].values[0]/1024\n",
    "  free_gb_u=tariffs.loc[tariffs['tariff_name']=='ultra', 'mb_per_month_included'].values[0]/1024\n",
    "  fix_gb_s=tariffs.loc[tariffs['tariff_name']=='smart', 'rub_per_gb'].values[0]\n",
    "  fix_gb_u=tariffs.loc[tariffs['tariff_name']=='ultra', 'rub_per_gb'].values[0]\n",
    "  extra_gb_fee=0\n",
    "  if row['tariff'] == 'smart':\n",
    "    extra_gb_fee=max(traffic - free_gb_s,0)*fix_gb_s\n",
    "    return extra_gb_fee\n",
    "  else:\n",
    "    extra_gb_fee=max(traffic - free_gb_u,0)*fix_gb_u\n",
    "    return extra_gb_fee\n",
    "\n",
    "revenue['extra_gb_fee'] = revenue.apply(extra_gb_fee, axis = 1)\n",
    "revenue.head(10)"
   ]
  },
  {
   "cell_type": "markdown",
   "metadata": {},
   "source": []
  },
  {
   "cell_type": "code",
   "execution_count": 166,
   "metadata": {},
   "outputs": [
    {
     "data": {
      "text/html": [
       "<div>\n",
       "<style scoped>\n",
       "    .dataframe tbody tr th:only-of-type {\n",
       "        vertical-align: middle;\n",
       "    }\n",
       "\n",
       "    .dataframe tbody tr th {\n",
       "        vertical-align: top;\n",
       "    }\n",
       "\n",
       "    .dataframe thead th {\n",
       "        text-align: right;\n",
       "    }\n",
       "</style>\n",
       "<table border=\"1\" class=\"dataframe\">\n",
       "  <thead>\n",
       "    <tr style=\"text-align: right;\">\n",
       "      <th></th>\n",
       "      <th>user_id</th>\n",
       "      <th>tariff</th>\n",
       "      <th>monthly_fee</th>\n",
       "      <th>month</th>\n",
       "      <th>duration</th>\n",
       "      <th>msgs_num</th>\n",
       "      <th>gb_used</th>\n",
       "      <th>extra_mins_fee</th>\n",
       "      <th>extra_msgs_fee</th>\n",
       "      <th>extra_gb_fee</th>\n",
       "      <th>total_fee</th>\n",
       "    </tr>\n",
       "  </thead>\n",
       "  <tbody>\n",
       "    <tr>\n",
       "      <td>0</td>\n",
       "      <td>1000</td>\n",
       "      <td>ultra</td>\n",
       "      <td>1950</td>\n",
       "      <td>5</td>\n",
       "      <td>164.00</td>\n",
       "      <td>22.00</td>\n",
       "      <td>3.00</td>\n",
       "      <td>0.00</td>\n",
       "      <td>0.00</td>\n",
       "      <td>0.00</td>\n",
       "      <td>1,950.00</td>\n",
       "    </tr>\n",
       "    <tr>\n",
       "      <td>1</td>\n",
       "      <td>1000</td>\n",
       "      <td>ultra</td>\n",
       "      <td>1950</td>\n",
       "      <td>6</td>\n",
       "      <td>187.00</td>\n",
       "      <td>60.00</td>\n",
       "      <td>23.00</td>\n",
       "      <td>0.00</td>\n",
       "      <td>0.00</td>\n",
       "      <td>0.00</td>\n",
       "      <td>1,950.00</td>\n",
       "    </tr>\n",
       "    <tr>\n",
       "      <td>2</td>\n",
       "      <td>1000</td>\n",
       "      <td>ultra</td>\n",
       "      <td>1950</td>\n",
       "      <td>7</td>\n",
       "      <td>346.00</td>\n",
       "      <td>75.00</td>\n",
       "      <td>14.00</td>\n",
       "      <td>0.00</td>\n",
       "      <td>0.00</td>\n",
       "      <td>0.00</td>\n",
       "      <td>1,950.00</td>\n",
       "    </tr>\n",
       "    <tr>\n",
       "      <td>3</td>\n",
       "      <td>1000</td>\n",
       "      <td>ultra</td>\n",
       "      <td>1950</td>\n",
       "      <td>8</td>\n",
       "      <td>418.00</td>\n",
       "      <td>81.00</td>\n",
       "      <td>14.00</td>\n",
       "      <td>0.00</td>\n",
       "      <td>0.00</td>\n",
       "      <td>0.00</td>\n",
       "      <td>1,950.00</td>\n",
       "    </tr>\n",
       "    <tr>\n",
       "      <td>4</td>\n",
       "      <td>1000</td>\n",
       "      <td>ultra</td>\n",
       "      <td>1950</td>\n",
       "      <td>9</td>\n",
       "      <td>478.00</td>\n",
       "      <td>57.00</td>\n",
       "      <td>15.00</td>\n",
       "      <td>0.00</td>\n",
       "      <td>0.00</td>\n",
       "      <td>0.00</td>\n",
       "      <td>1,950.00</td>\n",
       "    </tr>\n",
       "    <tr>\n",
       "      <td>5</td>\n",
       "      <td>1000</td>\n",
       "      <td>ultra</td>\n",
       "      <td>1950</td>\n",
       "      <td>10</td>\n",
       "      <td>363.00</td>\n",
       "      <td>73.00</td>\n",
       "      <td>15.00</td>\n",
       "      <td>0.00</td>\n",
       "      <td>0.00</td>\n",
       "      <td>0.00</td>\n",
       "      <td>1,950.00</td>\n",
       "    </tr>\n",
       "    <tr>\n",
       "      <td>6</td>\n",
       "      <td>1000</td>\n",
       "      <td>ultra</td>\n",
       "      <td>1950</td>\n",
       "      <td>11</td>\n",
       "      <td>344.00</td>\n",
       "      <td>58.00</td>\n",
       "      <td>15.00</td>\n",
       "      <td>0.00</td>\n",
       "      <td>0.00</td>\n",
       "      <td>0.00</td>\n",
       "      <td>1,950.00</td>\n",
       "    </tr>\n",
       "    <tr>\n",
       "      <td>7</td>\n",
       "      <td>1000</td>\n",
       "      <td>ultra</td>\n",
       "      <td>1950</td>\n",
       "      <td>12</td>\n",
       "      <td>341.00</td>\n",
       "      <td>70.00</td>\n",
       "      <td>10.00</td>\n",
       "      <td>0.00</td>\n",
       "      <td>0.00</td>\n",
       "      <td>0.00</td>\n",
       "      <td>1,950.00</td>\n",
       "    </tr>\n",
       "    <tr>\n",
       "      <td>8</td>\n",
       "      <td>1001</td>\n",
       "      <td>smart</td>\n",
       "      <td>550</td>\n",
       "      <td>11</td>\n",
       "      <td>444.00</td>\n",
       "      <td>0.00</td>\n",
       "      <td>19.00</td>\n",
       "      <td>0.00</td>\n",
       "      <td>0.00</td>\n",
       "      <td>800.00</td>\n",
       "      <td>1,350.00</td>\n",
       "    </tr>\n",
       "    <tr>\n",
       "      <td>9</td>\n",
       "      <td>1001</td>\n",
       "      <td>smart</td>\n",
       "      <td>550</td>\n",
       "      <td>12</td>\n",
       "      <td>430.00</td>\n",
       "      <td>0.00</td>\n",
       "      <td>14.00</td>\n",
       "      <td>0.00</td>\n",
       "      <td>0.00</td>\n",
       "      <td>0.00</td>\n",
       "      <td>550.00</td>\n",
       "    </tr>\n",
       "    <tr>\n",
       "      <td>10</td>\n",
       "      <td>1002</td>\n",
       "      <td>smart</td>\n",
       "      <td>550</td>\n",
       "      <td>6</td>\n",
       "      <td>118.00</td>\n",
       "      <td>4.00</td>\n",
       "      <td>11.00</td>\n",
       "      <td>0.00</td>\n",
       "      <td>0.00</td>\n",
       "      <td>0.00</td>\n",
       "      <td>550.00</td>\n",
       "    </tr>\n",
       "    <tr>\n",
       "      <td>11</td>\n",
       "      <td>1002</td>\n",
       "      <td>smart</td>\n",
       "      <td>550</td>\n",
       "      <td>7</td>\n",
       "      <td>219.00</td>\n",
       "      <td>11.00</td>\n",
       "      <td>18.00</td>\n",
       "      <td>0.00</td>\n",
       "      <td>0.00</td>\n",
       "      <td>600.00</td>\n",
       "      <td>1,150.00</td>\n",
       "    </tr>\n",
       "    <tr>\n",
       "      <td>12</td>\n",
       "      <td>1002</td>\n",
       "      <td>smart</td>\n",
       "      <td>550</td>\n",
       "      <td>8</td>\n",
       "      <td>294.00</td>\n",
       "      <td>13.00</td>\n",
       "      <td>20.00</td>\n",
       "      <td>0.00</td>\n",
       "      <td>0.00</td>\n",
       "      <td>1,000.00</td>\n",
       "      <td>1,550.00</td>\n",
       "    </tr>\n",
       "    <tr>\n",
       "      <td>13</td>\n",
       "      <td>1002</td>\n",
       "      <td>smart</td>\n",
       "      <td>550</td>\n",
       "      <td>9</td>\n",
       "      <td>217.00</td>\n",
       "      <td>4.00</td>\n",
       "      <td>17.00</td>\n",
       "      <td>0.00</td>\n",
       "      <td>0.00</td>\n",
       "      <td>400.00</td>\n",
       "      <td>950.00</td>\n",
       "    </tr>\n",
       "    <tr>\n",
       "      <td>14</td>\n",
       "      <td>1002</td>\n",
       "      <td>smart</td>\n",
       "      <td>550</td>\n",
       "      <td>10</td>\n",
       "      <td>221.00</td>\n",
       "      <td>10.00</td>\n",
       "      <td>14.00</td>\n",
       "      <td>0.00</td>\n",
       "      <td>0.00</td>\n",
       "      <td>0.00</td>\n",
       "      <td>550.00</td>\n",
       "    </tr>\n",
       "    <tr>\n",
       "      <td>15</td>\n",
       "      <td>1002</td>\n",
       "      <td>smart</td>\n",
       "      <td>550</td>\n",
       "      <td>11</td>\n",
       "      <td>250.00</td>\n",
       "      <td>16.00</td>\n",
       "      <td>19.00</td>\n",
       "      <td>0.00</td>\n",
       "      <td>0.00</td>\n",
       "      <td>800.00</td>\n",
       "      <td>1,350.00</td>\n",
       "    </tr>\n",
       "    <tr>\n",
       "      <td>16</td>\n",
       "      <td>1002</td>\n",
       "      <td>smart</td>\n",
       "      <td>550</td>\n",
       "      <td>12</td>\n",
       "      <td>242.00</td>\n",
       "      <td>12.00</td>\n",
       "      <td>18.00</td>\n",
       "      <td>0.00</td>\n",
       "      <td>0.00</td>\n",
       "      <td>600.00</td>\n",
       "      <td>1,150.00</td>\n",
       "    </tr>\n",
       "    <tr>\n",
       "      <td>17</td>\n",
       "      <td>1003</td>\n",
       "      <td>ultra</td>\n",
       "      <td>1950</td>\n",
       "      <td>8</td>\n",
       "      <td>392.00</td>\n",
       "      <td>37.00</td>\n",
       "      <td>9.00</td>\n",
       "      <td>0.00</td>\n",
       "      <td>0.00</td>\n",
       "      <td>0.00</td>\n",
       "      <td>1,950.00</td>\n",
       "    </tr>\n",
       "    <tr>\n",
       "      <td>18</td>\n",
       "      <td>1003</td>\n",
       "      <td>ultra</td>\n",
       "      <td>1950</td>\n",
       "      <td>9</td>\n",
       "      <td>990.00</td>\n",
       "      <td>91.00</td>\n",
       "      <td>13.00</td>\n",
       "      <td>0.00</td>\n",
       "      <td>0.00</td>\n",
       "      <td>0.00</td>\n",
       "      <td>1,950.00</td>\n",
       "    </tr>\n",
       "    <tr>\n",
       "      <td>19</td>\n",
       "      <td>1003</td>\n",
       "      <td>ultra</td>\n",
       "      <td>1950</td>\n",
       "      <td>10</td>\n",
       "      <td>866.00</td>\n",
       "      <td>83.00</td>\n",
       "      <td>15.00</td>\n",
       "      <td>0.00</td>\n",
       "      <td>0.00</td>\n",
       "      <td>0.00</td>\n",
       "      <td>1,950.00</td>\n",
       "    </tr>\n",
       "  </tbody>\n",
       "</table>\n",
       "</div>"
      ],
      "text/plain": [
       "    user_id tariff  monthly_fee  month  duration  msgs_num  gb_used  \\\n",
       "0      1000  ultra         1950      5    164.00     22.00     3.00   \n",
       "1      1000  ultra         1950      6    187.00     60.00    23.00   \n",
       "2      1000  ultra         1950      7    346.00     75.00    14.00   \n",
       "3      1000  ultra         1950      8    418.00     81.00    14.00   \n",
       "4      1000  ultra         1950      9    478.00     57.00    15.00   \n",
       "5      1000  ultra         1950     10    363.00     73.00    15.00   \n",
       "6      1000  ultra         1950     11    344.00     58.00    15.00   \n",
       "7      1000  ultra         1950     12    341.00     70.00    10.00   \n",
       "8      1001  smart          550     11    444.00      0.00    19.00   \n",
       "9      1001  smart          550     12    430.00      0.00    14.00   \n",
       "10     1002  smart          550      6    118.00      4.00    11.00   \n",
       "11     1002  smart          550      7    219.00     11.00    18.00   \n",
       "12     1002  smart          550      8    294.00     13.00    20.00   \n",
       "13     1002  smart          550      9    217.00      4.00    17.00   \n",
       "14     1002  smart          550     10    221.00     10.00    14.00   \n",
       "15     1002  smart          550     11    250.00     16.00    19.00   \n",
       "16     1002  smart          550     12    242.00     12.00    18.00   \n",
       "17     1003  ultra         1950      8    392.00     37.00     9.00   \n",
       "18     1003  ultra         1950      9    990.00     91.00    13.00   \n",
       "19     1003  ultra         1950     10    866.00     83.00    15.00   \n",
       "\n",
       "    extra_mins_fee  extra_msgs_fee  extra_gb_fee  total_fee  \n",
       "0             0.00            0.00          0.00   1,950.00  \n",
       "1             0.00            0.00          0.00   1,950.00  \n",
       "2             0.00            0.00          0.00   1,950.00  \n",
       "3             0.00            0.00          0.00   1,950.00  \n",
       "4             0.00            0.00          0.00   1,950.00  \n",
       "5             0.00            0.00          0.00   1,950.00  \n",
       "6             0.00            0.00          0.00   1,950.00  \n",
       "7             0.00            0.00          0.00   1,950.00  \n",
       "8             0.00            0.00        800.00   1,350.00  \n",
       "9             0.00            0.00          0.00     550.00  \n",
       "10            0.00            0.00          0.00     550.00  \n",
       "11            0.00            0.00        600.00   1,150.00  \n",
       "12            0.00            0.00      1,000.00   1,550.00  \n",
       "13            0.00            0.00        400.00     950.00  \n",
       "14            0.00            0.00          0.00     550.00  \n",
       "15            0.00            0.00        800.00   1,350.00  \n",
       "16            0.00            0.00        600.00   1,150.00  \n",
       "17            0.00            0.00          0.00   1,950.00  \n",
       "18            0.00            0.00          0.00   1,950.00  \n",
       "19            0.00            0.00          0.00   1,950.00  "
      ]
     },
     "execution_count": 166,
     "metadata": {},
     "output_type": "execute_result"
    }
   ],
   "source": [
    "revenue['total_fee'] = revenue['monthly_fee']+revenue['extra_mins_fee']+revenue['extra_msgs_fee']+revenue['extra_gb_fee']\n",
    "revenue.head(20)"
   ]
  },
  {
   "cell_type": "markdown",
   "metadata": {},
   "source": [
    "Вывод: произвели предобработку данных, подготовили сводную таблицу для анализа."
   ]
  },
  {
   "cell_type": "markdown",
   "metadata": {},
   "source": [
    "## Анализ данных"
   ]
  },
  {
   "cell_type": "markdown",
   "metadata": {},
   "source": [
    "Среднее количество минут, СМС и объем интернет-трафика для каждого тарифов месяц"
   ]
  },
  {
   "cell_type": "code",
   "execution_count": 167,
   "metadata": {},
   "outputs": [
    {
     "name": "stdout",
     "output_type": "stream",
     "text": [
      "Количество минут разговора в месяц на тарифе \"Смарт\" составляет - 79770 , на тарифе \"Ультра\" - 44389\n",
      "Количество сообщений в месяц на тарифе \"Смарт\" составляет - 6201 , на тарифе \"Ультра\" - 4052\n",
      "Объем трафика (в Гб) в месяц на тарифе \"Смарт\" составляет - 3039 , на тарифе \"Ультра\" - 1603\n"
     ]
    }
   ],
   "source": [
    "smart = revenue.query('tariff==\"smart\"')\n",
    "ultra = revenue.query('tariff==\"ultra\"')\n",
    "print('Количество минут разговора в месяц на тарифе \"Смарт\" составляет - {:.0f}'.format(smart['duration'].sum()/12),', на тарифе \"Ультра\" - {:.0f}'.format(ultra['duration'].sum()/12))\n",
    "print('Количество сообщений в месяц на тарифе \"Смарт\" составляет - {:.0f}'.format(smart['msgs_num'].sum()/12),', на тарифе \"Ультра\" - {:.0f}'.format(ultra['msgs_num'].sum()/12))\n",
    "print('Объем трафика (в Гб) в месяц на тарифе \"Смарт\" составляет - {:.0f}'.format(smart['gb_used'].sum()/12),', на тарифе \"Ультра\" - {:.0f}'.format(ultra['gb_used'].sum()/12))"
   ]
  },
  {
   "cell_type": "markdown",
   "metadata": {},
   "source": [
    "Посчитаем среднее количество, дисперсию и стандартное отклонение"
   ]
  },
  {
   "cell_type": "code",
   "execution_count": 168,
   "metadata": {},
   "outputs": [
    {
     "data": {
      "text/html": [
       "<div>\n",
       "<style scoped>\n",
       "    .dataframe tbody tr th:only-of-type {\n",
       "        vertical-align: middle;\n",
       "    }\n",
       "\n",
       "    .dataframe tbody tr th {\n",
       "        vertical-align: top;\n",
       "    }\n",
       "\n",
       "    .dataframe thead th {\n",
       "        text-align: right;\n",
       "    }\n",
       "</style>\n",
       "<table border=\"1\" class=\"dataframe\">\n",
       "  <thead>\n",
       "    <tr style=\"text-align: right;\">\n",
       "      <th></th>\n",
       "      <th>tariff</th>\n",
       "      <th>total_fee</th>\n",
       "      <th>var</th>\n",
       "      <th>std</th>\n",
       "    </tr>\n",
       "  </thead>\n",
       "  <tbody>\n",
       "    <tr>\n",
       "      <td>0</td>\n",
       "      <td>smart</td>\n",
       "      <td>1,311.62</td>\n",
       "      <td>688,973.90</td>\n",
       "      <td>830.04</td>\n",
       "    </tr>\n",
       "    <tr>\n",
       "      <td>1</td>\n",
       "      <td>ultra</td>\n",
       "      <td>2,071.07</td>\n",
       "      <td>143,491.24</td>\n",
       "      <td>378.80</td>\n",
       "    </tr>\n",
       "  </tbody>\n",
       "</table>\n",
       "</div>"
      ],
      "text/plain": [
       "  tariff  total_fee        var    std\n",
       "0  smart   1,311.62 688,973.90 830.04\n",
       "1  ultra   2,071.07 143,491.24 378.80"
      ]
     },
     "execution_count": 168,
     "metadata": {},
     "output_type": "execute_result"
    }
   ],
   "source": [
    "metrics=revenue.groupby(['tariff']).agg({'total_fee' : ['mean', lambda x: np.var(x, ddof=1), lambda x: np.std(x, ddof=1)]}).reset_index().round(2)\n",
    "metrics.set_axis(['tariff', 'total_fee', 'var', 'std'], axis = 'columns', inplace = True)\n",
    "metrics"
   ]
  },
  {
   "cell_type": "markdown",
   "metadata": {},
   "source": [
    "\n",
    "Построим диаграммы размаха для каждого тарифа."
   ]
  },
  {
   "cell_type": "code",
   "execution_count": 169,
   "metadata": {},
   "outputs": [
    {
     "data": {
      "image/png": "[encoded data removed]",
      "text/plain": [
       "<Figure size 432x288 with 1 Axes>"
      ]
     },
     "metadata": {
      "needs_background": "light"
     },
     "output_type": "display_data"
    }
   ],
   "source": [
    "ax=smart[['total_fee']].boxplot(vert=False)\n",
    "ax.set_yticklabels(['Выручка'])\n",
    "plt.show()"
   ]
  },
  {
   "cell_type": "code",
   "execution_count": 170,
   "metadata": {},
   "outputs": [
    {
     "data": {
      "image/png": "[encoded data removed]",
      "text/plain": [
       "<Figure size 432x288 with 1 Axes>"
      ]
     },
     "metadata": {
      "needs_background": "light"
     },
     "output_type": "display_data"
    }
   ],
   "source": [
    "ax=ultra[['total_fee']].boxplot(vert=False)\n",
    "ax.set_yticklabels(['Выручка'])\n",
    "plt.show()"
   ]
  },
  {
   "cell_type": "markdown",
   "metadata": {},
   "source": [
    "# Построим графики распределения"
   ]
  },
  {
   "cell_type": "code",
   "execution_count": 194,
   "metadata": {},
   "outputs": [
    {
     "data": {
      "text/plain": [
       "array([[<matplotlib.axes._subplots.AxesSubplot object at 0x7f7486a40090>,\n",
       "        <matplotlib.axes._subplots.AxesSubplot object at 0x7f7486a6cf50>,\n",
       "        <matplotlib.axes._subplots.AxesSubplot object at 0x7f7486a217d0>,\n",
       "        <matplotlib.axes._subplots.AxesSubplot object at 0x7f74869d3f90>],\n",
       "       [<matplotlib.axes._subplots.AxesSubplot object at 0x7f74869967d0>,\n",
       "        <matplotlib.axes._subplots.AxesSubplot object at 0x7f748694afd0>,\n",
       "        <matplotlib.axes._subplots.AxesSubplot object at 0x7f748690b810>,\n",
       "        <matplotlib.axes._subplots.AxesSubplot object at 0x7f74868bcf90>],\n",
       "       [<matplotlib.axes._subplots.AxesSubplot object at 0x7f74868c9b90>,\n",
       "        <matplotlib.axes._subplots.AxesSubplot object at 0x7f748688a550>,\n",
       "        <matplotlib.axes._subplots.AxesSubplot object at 0x7f7486874890>,\n",
       "        <matplotlib.axes._subplots.AxesSubplot object at 0x7f7486833c10>],\n",
       "       [<matplotlib.axes._subplots.AxesSubplot object at 0x7f74867eb8d0>,\n",
       "        <matplotlib.axes._subplots.AxesSubplot object at 0x7f74867a8c50>,\n",
       "        <matplotlib.axes._subplots.AxesSubplot object at 0x7f7486760910>,\n",
       "        <matplotlib.axes._subplots.AxesSubplot object at 0x7f748671dc90>]],\n",
       "      dtype=object)"
      ]
     },
     "execution_count": 194,
     "metadata": {},
     "output_type": "execute_result"
    },
    {
     "data": {
      "image/png": "[encoded data removed]",
      "text/plain": [
       "<Figure size 720x720 with 16 Axes>"
      ]
     },
     "metadata": {
      "needs_background": "light"
     },
     "output_type": "display_data"
    }
   ],
   "source": [
    "smart.describe()\n",
    "pd.plotting.scatter_matrix(smart[['duration','msgs_num','gb_used','total_fee']], alpha = 0.3, figsize = (10,10))"
   ]
  },
  {
   "cell_type": "markdown",
   "metadata": {},
   "source": [
    "\n",
    "# Распределения - тариф \"Смарт\"\n",
    "1. Кол-во минут - нормальное\n",
    "2. Кол-во сообщений - распределение Пуассона\n",
    "3. Кол-во мегабайт - нормальное"
   ]
  },
  {
   "cell_type": "code",
   "execution_count": 196,
   "metadata": {},
   "outputs": [
    {
     "data": {
      "text/plain": [
       "array([[<matplotlib.axes._subplots.AxesSubplot object at 0x7f7485f46a90>,\n",
       "        <matplotlib.axes._subplots.AxesSubplot object at 0x7f7485f5bbd0>,\n",
       "        <matplotlib.axes._subplots.AxesSubplot object at 0x7f7485f01750>,\n",
       "        <matplotlib.axes._subplots.AxesSubplot object at 0x7f7485f36e50>],\n",
       "       [<matplotlib.axes._subplots.AxesSubplot object at 0x7f7485ef6690>,\n",
       "        <matplotlib.axes._subplots.AxesSubplot object at 0x7f7485eaae90>,\n",
       "        <matplotlib.axes._subplots.AxesSubplot object at 0x7f7485e6a6d0>,\n",
       "        <matplotlib.axes._subplots.AxesSubplot object at 0x7f7485e1fed0>],\n",
       "       [<matplotlib.axes._subplots.AxesSubplot object at 0x7f7485e29a50>,\n",
       "        <matplotlib.axes._subplots.AxesSubplot object at 0x7f7485dea410>,\n",
       "        <matplotlib.axes._subplots.AxesSubplot object at 0x7f7485d56750>,\n",
       "        <matplotlib.axes._subplots.AxesSubplot object at 0x7f7485d07f50>],\n",
       "       [<matplotlib.axes._subplots.AxesSubplot object at 0x7f7485cc5cd0>,\n",
       "        <matplotlib.axes._subplots.AxesSubplot object at 0x7f7485c79990>,\n",
       "        <matplotlib.axes._subplots.AxesSubplot object at 0x7f7485cb2d10>,\n",
       "        <matplotlib.axes._subplots.AxesSubplot object at 0x7f7485c669d0>]],\n",
       "      dtype=object)"
      ]
     },
     "execution_count": 196,
     "metadata": {},
     "output_type": "execute_result"
    },
    {
     "data": {
      "image/png": "[encoded data removed]",
      "text/plain": [
       "<Figure size 720x720 with 16 Axes>"
      ]
     },
     "metadata": {
      "needs_background": "light"
     },
     "output_type": "display_data"
    }
   ],
   "source": [
    "pd.plotting.scatter_matrix(ultra[['duration','msgs_num','gb_used','total_fee']], alpha = 0.3, figsize = (10,10))"
   ]
  },
  {
   "cell_type": "markdown",
   "metadata": {},
   "source": [
    "\n",
    "# Распределения - тариф \"Ультра\"\n",
    "1. Кол-во минут - нормальное\n",
    "2. Кол-во сообщений - распределение Пуассона\n",
    "3. Кол-во мегабайт - нормальное\n"
   ]
  },
  {
   "cell_type": "markdown",
   "metadata": {},
   "source": [
    "Рассчитаем максимальные значения с применением правил трех сигм, все что больше будем считать выбросами."
   ]
  },
  {
   "cell_type": "code",
   "execution_count": 171,
   "metadata": {},
   "outputs": [
    {
     "data": {
      "text/plain": [
       "5369.0"
      ]
     },
     "execution_count": 171,
     "metadata": {},
     "output_type": "execute_result"
    }
   ],
   "source": [
    "parameters_s = smart[['total_fee']].describe().T\n",
    "q1_s, q2_s = parameters_s['25%'][0], parameters_s['75%'][0]\n",
    "iqr_s = q2_s - q1_s\n",
    "max_value_s = q2_s + 3*iqr_s\n",
    "max_value_s"
   ]
  },
  {
   "cell_type": "code",
   "execution_count": 172,
   "metadata": {},
   "outputs": [
    {
     "data": {
      "text/html": [
       "<div>\n",
       "<style scoped>\n",
       "    .dataframe tbody tr th:only-of-type {\n",
       "        vertical-align: middle;\n",
       "    }\n",
       "\n",
       "    .dataframe tbody tr th {\n",
       "        vertical-align: top;\n",
       "    }\n",
       "\n",
       "    .dataframe thead th {\n",
       "        text-align: right;\n",
       "    }\n",
       "</style>\n",
       "<table border=\"1\" class=\"dataframe\">\n",
       "  <thead>\n",
       "    <tr style=\"text-align: right;\">\n",
       "      <th></th>\n",
       "      <th>count</th>\n",
       "      <th>mean</th>\n",
       "      <th>std</th>\n",
       "      <th>min</th>\n",
       "      <th>25%</th>\n",
       "      <th>50%</th>\n",
       "      <th>75%</th>\n",
       "      <th>max</th>\n",
       "    </tr>\n",
       "  </thead>\n",
       "  <tbody>\n",
       "    <tr>\n",
       "      <td>total_fee</td>\n",
       "      <td>2,229.00</td>\n",
       "      <td>1,311.62</td>\n",
       "      <td>830.04</td>\n",
       "      <td>550.00</td>\n",
       "      <td>553.00</td>\n",
       "      <td>1,075.00</td>\n",
       "      <td>1,757.00</td>\n",
       "      <td>6,824.00</td>\n",
       "    </tr>\n",
       "  </tbody>\n",
       "</table>\n",
       "</div>"
      ],
      "text/plain": [
       "             count     mean    std    min    25%      50%      75%      max\n",
       "total_fee 2,229.00 1,311.62 830.04 550.00 553.00 1,075.00 1,757.00 6,824.00"
      ]
     },
     "execution_count": 172,
     "metadata": {},
     "output_type": "execute_result"
    }
   ],
   "source": [
    "parameters_s"
   ]
  },
  {
   "cell_type": "code",
   "execution_count": 173,
   "metadata": {},
   "outputs": [
    {
     "data": {
      "text/plain": [
       "1950.0"
      ]
     },
     "execution_count": 173,
     "metadata": {},
     "output_type": "execute_result"
    }
   ],
   "source": [
    "parameters_u = ultra[['total_fee']].describe().T\n",
    "q1_u, q2_u = parameters_u['25%'][0], parameters_u['75%'][0]\n",
    "iqr_u = q2_u - q1_u\n",
    "max_value_u = q2_u + 3*iqr_u\n",
    "max_value_u"
   ]
  },
  {
   "cell_type": "code",
   "execution_count": 207,
   "metadata": {},
   "outputs": [
    {
     "name": "stdout",
     "output_type": "stream",
     "text": [
      "1950.0\n"
     ]
    },
    {
     "data": {
      "text/html": [
       "<div>\n",
       "<style scoped>\n",
       "    .dataframe tbody tr th:only-of-type {\n",
       "        vertical-align: middle;\n",
       "    }\n",
       "\n",
       "    .dataframe tbody tr th {\n",
       "        vertical-align: top;\n",
       "    }\n",
       "\n",
       "    .dataframe thead th {\n",
       "        text-align: right;\n",
       "    }\n",
       "</style>\n",
       "<table border=\"1\" class=\"dataframe\">\n",
       "  <thead>\n",
       "    <tr style=\"text-align: right;\">\n",
       "      <th></th>\n",
       "      <th>count</th>\n",
       "      <th>mean</th>\n",
       "      <th>std</th>\n",
       "      <th>min</th>\n",
       "      <th>25%</th>\n",
       "      <th>50%</th>\n",
       "      <th>75%</th>\n",
       "      <th>max</th>\n",
       "    </tr>\n",
       "  </thead>\n",
       "  <tbody>\n",
       "    <tr>\n",
       "      <td>total_fee</td>\n",
       "      <td>985.00</td>\n",
       "      <td>2,071.07</td>\n",
       "      <td>378.80</td>\n",
       "      <td>1,950.00</td>\n",
       "      <td>1,950.00</td>\n",
       "      <td>1,950.00</td>\n",
       "      <td>1,950.00</td>\n",
       "      <td>4,800.00</td>\n",
       "    </tr>\n",
       "  </tbody>\n",
       "</table>\n",
       "</div>"
      ],
      "text/plain": [
       "           count     mean    std      min      25%      50%      75%      max\n",
       "total_fee 985.00 2,071.07 378.80 1,950.00 1,950.00 1,950.00 1,950.00 4,800.00"
      ]
     },
     "execution_count": 207,
     "metadata": {},
     "output_type": "execute_result"
    }
   ],
   "source": [
    "\n",
    "standard_deviation = np.sqrt(max_value_u)\n",
    "print(max_value_u)\n",
    "parameters_u"
   ]
  },
  {
   "cell_type": "markdown",
   "metadata": {},
   "source": [
    "## Вывод\n",
    "Для нормальных распределений верно правило трёх стандартных отклонений,\n",
    "или правило трёх сигм. Оно гласит — практически все значения (около 99%) находятся в\n",
    "промежутке:\n",
    "(\\mu - 3\\sigma, \\mu + 3\\sigma)(μ−3σ,μ+3σ)\n",
    "\n",
    "Т.е. по моему мнению мы доказали, что наше распределение является нормальным распределением, построили гарфики распределения и вычеслели, в каком промежутке у нас находится стандартное отклонение.\n"
   ]
  },
  {
   "cell_type": "markdown",
   "metadata": {},
   "source": [
    "### Выведим гистограммы по минутам разговора\n"
   ]
  },
  {
   "cell_type": "code",
   "execution_count": 175,
   "metadata": {},
   "outputs": [
    {
     "data": {
      "image/png": "[encoded data removed]",
      "text/plain": [
       "<Figure size 720x360 with 1 Axes>"
      ]
     },
     "metadata": {
      "needs_background": "light"
     },
     "output_type": "display_data"
    }
   ],
   "source": [
    "plt.figure(figsize = (10,5))\n",
    "plt.hist(revenue.query('tariff == \"smart\"')['duration'], bins=100, alpha=0.5, label='Тариф \"Смарт\"', range = (0, 1800))\n",
    "plt.hist(revenue.query('tariff == \"ultra\"')['duration'], bins=100, alpha=0.5, label='Тариф \"Ультра\"', range = (0, 1800))\n",
    "plt.legend(loc='best')\n",
    "plt.xlim(left = 0)\n",
    "plt.xlabel('Продолжительность, мин.')\n",
    "plt.ylabel('Количество наблюдений, шт.')\n",
    "plt.show()"
   ]
  },
  {
   "cell_type": "markdown",
   "metadata": {},
   "source": [
    "Вывод: Пиковые значения по тарифу \"Смарт\"  приходятся на 280, 400 и 470 минут. Пиковое значение по тарифу \"Ультра\" - 540 минут. Основная масса клиентов совершает звонки в диапазоне от 250 до 870 минут. В обоих распределениях имеются \"большие хвосты вправо\", что говорит о том, что основной объем минут находится в левой части, т.е. с более низкими значениями."
   ]
  },
  {
   "cell_type": "markdown",
   "metadata": {},
   "source": [
    "### Выведим гистограммы по сообщениям"
   ]
  },
  {
   "cell_type": "code",
   "execution_count": 176,
   "metadata": {},
   "outputs": [
    {
     "data": {
      "image/png": "[encoded data removed]",
      "text/plain": [
       "<Figure size 720x360 with 1 Axes>"
      ]
     },
     "metadata": {
      "needs_background": "light"
     },
     "output_type": "display_data"
    }
   ],
   "source": [
    "fig = plt.figure(figsize = (10,5))\n",
    "plt.hist(revenue.query('tariff == \"smart\"')['msgs_num'], bins=100, alpha=0.5, label='Тариф \"Смарт\"', range = (0, 300))\n",
    "plt.hist(revenue.query('tariff == \"ultra\"')['msgs_num'], bins=100, alpha=0.5, label='Тариф \"Ультра\"', range = (0, 300))\n",
    "plt.legend(loc='best')\n",
    "plt.xlim(left = 0)\n",
    "plt.xlabel('Количество СМС, шт.')\n",
    "plt.ylabel('Количество наблюдений, шт.')\n",
    "plt.show()"
   ]
  },
  {
   "cell_type": "markdown",
   "metadata": {},
   "source": [
    "Вывод: По обоим тарифам почти никто не отправляет более 100 СМС в месяц. В обоих распределениях имеются \"большие хвосты вправо\", что говорит о том, что основной объем отправляемых СМС находится в левой части, т.е. с более низкими значениями. Видимо \"эра\" смс подошла к концу с появлением месенджеров..."
   ]
  },
  {
   "cell_type": "markdown",
   "metadata": {},
   "source": [
    "### Выведим гистограммы по интренет-трафику"
   ]
  },
  {
   "cell_type": "code",
   "execution_count": 177,
   "metadata": {},
   "outputs": [
    {
     "data": {
      "image/png": "[encoded data removed]",
      "text/plain": [
       "<Figure size 1080x360 with 1 Axes>"
      ]
     },
     "metadata": {
      "needs_background": "light"
     },
     "output_type": "display_data"
    }
   ],
   "source": [
    "fig = plt.figure(figsize = (15,5))\n",
    "plt.hist(revenue.query('tariff == \"smart\"')['gb_used'], bins=100, alpha=0.5, label='Тариф \"Смарт\"')\n",
    "plt.hist(revenue.query('tariff == \"ultra\"')['gb_used'], bins=100, alpha=0.5, label='Тариф \"Ультра\"', ec=\"k\")\n",
    "plt.plot([0, 50], [150, 150],dashes=[2, 2])\n",
    "plt.xlim(left = 0)\n",
    "plt.legend(loc='best')\n",
    "plt.xlabel('Интернет-трафик, Гб')\n",
    "plt.ylabel('Количество наблюдений, шт.')\n",
    "plt.show()"
   ]
  },
  {
   "cell_type": "markdown",
   "metadata": {},
   "source": [
    "Вывод: Скачков на нулях почти не наблюдается. По тарифу \"Смарт\" пиковое значение приходятся на 17 Гб. Пиковое значение по тарифу \"Ультра\" - на 19-21 Гб. Можно отметить, что в целом графики интернет-траффика имеют нормальное распределение с минимальным количеством выбросов."
   ]
  },
  {
   "cell_type": "markdown",
   "metadata": {},
   "source": [
    "## Проверка гипотез и пояснения"
   ]
  },
  {
   "cell_type": "markdown",
   "metadata": {},
   "source": [
    "При проверке гипотез о равенстве среднего будем применять метод \"Гипотез о равенстве средних двух\n",
    "генеральных совокупностей\", т.к. будем проводить сравнения двух независимых выборок большого размера. Критический уровень статистической значимости примем равным 5%."
   ]
  },
  {
   "cell_type": "markdown",
   "metadata": {},
   "source": [
    "Средняя выручка пользователей тарифов «Ультра» и «Смарт»:\n",
    "0-средняя выручка пользователей тарифов «Смарт» и «Ультра» не различается\n",
    "1-средняя выручка пользователей тарифов «Смарт» и «Ультра» различается"
   ]
  },
  {
   "cell_type": "code",
   "execution_count": 178,
   "metadata": {},
   "outputs": [
    {
     "name": "stdout",
     "output_type": "stream",
     "text": [
      "p-value: Ttest_indResult(statistic=-27.47710593906359, pvalue=1.8236591828898301e-149)\n",
      "Отвергаем нулевую гипотезу\n"
     ]
    }
   ],
   "source": [
    "alpha=0.05\n",
    "results = st.ttest_ind(revenue.query(\"tariff=='smart'\")['total_fee'],\n",
    "                            revenue.query(\"tariff=='ultra'\")['total_fee'])\n",
    "print('p-value:', results)\n",
    "if results.pvalue < alpha:\n",
    "    print(\"Отвергаем нулевую гипотезу\")\n",
    "else:\n",
    "    print(\"Не получилось отвергнуть нулевую гипотезу\")"
   ]
  },
  {
   "cell_type": "markdown",
   "metadata": {},
   "source": [
    "# Вывод: средняя выручка пользователей тарифов «Смарт» и «Ультра» различается"
   ]
  },
  {
   "cell_type": "markdown",
   "metadata": {},
   "source": [
    "# Средняя выручка пользователей из Москвы отличается от выручки пользователей из других регионов\n",
    "1. 0 - средняя выручка пользователей из Москвы не отличается от выручки пользователей из других регионов\n",
    "2. 1 - средняя выручка пользователей из Москвы отличается от выручки пользователей из других регионов"
   ]
  },
  {
   "cell_type": "code",
   "execution_count": 179,
   "metadata": {},
   "outputs": [
    {
     "name": "stdout",
     "output_type": "stream",
     "text": [
      "p-value: Ttest_indResult(statistic=0.5543033038951601, pvalue=0.5794098792001432)\n"
     ]
    }
   ],
   "source": [
    "revenue_cities=revenue.merge(users,how='left',on=['user_id'])\n",
    "alpha=0.05\n",
    "results = st.ttest_ind(revenue_cities.query('city==\"Москва\"')['total_fee'],\n",
    "                            revenue_cities.query('city!=\"Москва\"')['total_fee'])\n",
    "print('p-value:', results)"
   ]
  },
  {
   "cell_type": "code",
   "execution_count": 180,
   "metadata": {},
   "outputs": [
    {
     "name": "stdout",
     "output_type": "stream",
     "text": [
      "Не получилось отвергнуть нулевую гипотезу\n"
     ]
    }
   ],
   "source": [
    "if results.pvalue < alpha:\n",
    "    print('Отвергаем нулевую гипотезу')\n",
    "else:\n",
    "    print('Не получилось отвергнуть нулевую гипотезу')"
   ]
  },
  {
   "cell_type": "markdown",
   "metadata": {},
   "source": [
    "# Вывод: Средняя выручка пользователей из Москвы не отличается от выручки пользователей из других регионов."
   ]
  },
  {
   "cell_type": "markdown",
   "metadata": {},
   "source": [
    "## Общий вывод"
   ]
  },
  {
   "cell_type": "markdown",
   "metadata": {},
   "source": [
    "\n",
    "\n",
    "1. Предобработка данных: данные приведены к нужным типам, найдены и исправлены ошибки в данных, обработаны нулевые значения в данных.\n",
    "2. Посчитаны для каждого пользователя:\n",
    "количество сделанных звонков и израсходованных минут разговора по месяцам;\n",
    "количество отправленных сообщений по месяцам;\n",
    "объем израсходованного интернет-трафика по месяцам;\n",
    "помесячная выручка с каждого пользователя.\n",
    "3. Проведен статистический анализ данных:\n",
    "описано поведение клиентов оператора, исходя из выборки;\n",
    "подсчитано сколько минут разговора, сколько сообщений и какой объём интернет-трафика требуется пользователям каждого тарифа в месяц;* подсчитаны среднее количество, дисперсия и стандартное отклонение;\n",
    "построены гистограммы;\n",
    "опишисаны распределения.\n",
    "4. Проверены гипотезы:\n",
    "средняя выручка пользователей тарифов «Ультра» и «Смарт» различается;\n",
    "средняя выручка пользователей из Москвы отличается от выручки пользователей из других регионов.\n",
    "Количество минут разговора в месяц на тарифе \"Смарт\" составляет - 77631, на тарифе \"Ультра\" - 43227. Количество сообщений в месяц на тарифе \"Смарт\" составляет - 6201, на тарифе \"Ультра\" - 4052. Объем трафика (в Гб) в месяц на тарифе \"Смарт\" составляет - 3033, на тарифе \"Ультра\" - 1600. В тарифе \"Ультра\" практически никто не выходит за рамки пределы лимитов, тогда как в тарифе \"Смарт\" при стоимости 550 руб. в месяц разброс относительно большой, а мат. ожидание равно 818 руб. Нормальные значения для тарифа \"Смарт\" от 550 руб. до 1 750 руб., прочие можем считать выбросами. Максимально допустимое значение у тарифа \"Смарт\" - 5 350 руб. Для тарифа Ultra нормальное значение - цена тарифа, 1 950р.Проверка гипотезы только подтвердила, что различия в средних неслучайны. Также выявили, что выручка пользователей из Москвы не отличается от выручки пользователей из других регионов.\n",
    "\n",
    "Итог: Можно сделать вывод, что тариф Ultra более перспективный!"
   ]
  }
 ],
 "metadata": {
  "ExecuteTimeLog": [
   {
    "duration": 312,
    "start_time": "2021-07-23T12:27:53.599Z"
   },
   {
    "duration": 251,
    "start_time": "2021-07-23T12:28:10.104Z"
   },
   {
    "duration": 894,
    "start_time": "2021-07-23T12:28:54.087Z"
   },
   {
    "duration": 3,
    "start_time": "2021-07-23T12:29:07.400Z"
   },
   {
    "duration": 122,
    "start_time": "2021-07-23T12:30:00.497Z"
   },
   {
    "duration": 505,
    "start_time": "2021-07-23T12:30:46.809Z"
   },
   {
    "duration": 324,
    "start_time": "2021-07-23T12:34:57.559Z"
   },
   {
    "duration": 3,
    "start_time": "2021-07-23T12:35:18.823Z"
   },
   {
    "duration": 246,
    "start_time": "2021-07-23T12:35:18.829Z"
   },
   {
    "duration": 240,
    "start_time": "2021-07-23T12:36:15.606Z"
   },
   {
    "duration": 265,
    "start_time": "2021-07-23T12:37:18.361Z"
   },
   {
    "duration": 5,
    "start_time": "2021-07-23T12:41:25.471Z"
   },
   {
    "duration": 1673,
    "start_time": "2021-07-23T12:41:27.388Z"
   },
   {
    "duration": 540,
    "start_time": "2021-07-23T12:41:47.612Z"
   },
   {
    "duration": 14,
    "start_time": "2021-07-23T12:42:11.613Z"
   },
   {
    "duration": 14,
    "start_time": "2021-07-23T12:42:23.007Z"
   },
   {
    "duration": 11,
    "start_time": "2021-07-23T12:43:41.925Z"
   },
   {
    "duration": 411,
    "start_time": "2021-07-24T16:44:02.491Z"
   },
   {
    "duration": 1371,
    "start_time": "2021-07-24T16:44:06.583Z"
   },
   {
    "duration": 490,
    "start_time": "2021-07-24T16:44:07.957Z"
   },
   {
    "duration": 17,
    "start_time": "2021-07-24T16:44:08.450Z"
   },
   {
    "duration": 9,
    "start_time": "2021-07-24T16:44:08.469Z"
   },
   {
    "duration": 443,
    "start_time": "2021-07-24T16:47:22.924Z"
   },
   {
    "duration": 2807,
    "start_time": "2021-07-24T16:47:43.279Z"
   },
   {
    "duration": 3432,
    "start_time": "2021-07-24T16:48:18.032Z"
   },
   {
    "duration": 53,
    "start_time": "2021-07-24T16:48:59.896Z"
   },
   {
    "duration": 337,
    "start_time": "2021-07-24T17:01:17.693Z"
   },
   {
    "duration": 40,
    "start_time": "2021-07-24T17:01:39.403Z"
   },
   {
    "duration": -185,
    "start_time": "2021-07-24T17:08:44.568Z"
   },
   {
    "duration": 3330,
    "start_time": "2021-07-24T17:11:18.581Z"
   },
   {
    "duration": 293,
    "start_time": "2021-07-24T17:11:41.365Z"
   },
   {
    "duration": 735,
    "start_time": "2021-07-24T17:11:54.341Z"
   },
   {
    "duration": -60,
    "start_time": "2021-07-24T17:16:23.807Z"
   },
   {
    "duration": 6474,
    "start_time": "2021-07-24T17:17:18.817Z"
   },
   {
    "duration": 19,
    "start_time": "2021-07-24T17:25:23.220Z"
   },
   {
    "duration": 939,
    "start_time": "2021-07-24T17:26:51.556Z"
   },
   {
    "duration": 102,
    "start_time": "2021-07-24T17:27:03.418Z"
   },
   {
    "duration": 75,
    "start_time": "2021-07-24T17:27:17.629Z"
   },
   {
    "duration": 52,
    "start_time": "2021-07-24T17:29:02.662Z"
   },
   {
    "duration": 20,
    "start_time": "2021-07-24T17:29:17.414Z"
   },
   {
    "duration": 17,
    "start_time": "2021-07-24T17:31:59.903Z"
   },
   {
    "duration": 15,
    "start_time": "2021-07-24T17:33:12.146Z"
   },
   {
    "duration": 4,
    "start_time": "2021-07-24T17:33:27.867Z"
   },
   {
    "duration": 492,
    "start_time": "2021-07-24T17:33:27.874Z"
   },
   {
    "duration": 12,
    "start_time": "2021-07-24T17:33:28.369Z"
   },
   {
    "duration": 12,
    "start_time": "2021-07-24T17:33:28.383Z"
   },
   {
    "duration": 52,
    "start_time": "2021-07-24T17:33:28.397Z"
   },
   {
    "duration": 34,
    "start_time": "2021-07-24T17:33:28.451Z"
   },
   {
    "duration": 14,
    "start_time": "2021-07-24T17:33:28.499Z"
   },
   {
    "duration": 527,
    "start_time": "2021-07-24T17:35:43.747Z"
   },
   {
    "duration": 19,
    "start_time": "2021-07-24T17:35:53.148Z"
   },
   {
    "duration": 14,
    "start_time": "2021-07-24T17:38:11.478Z"
   },
   {
    "duration": 25,
    "start_time": "2021-07-24T17:38:38.620Z"
   },
   {
    "duration": 38,
    "start_time": "2021-07-24T17:42:21.141Z"
   },
   {
    "duration": 36,
    "start_time": "2021-07-24T17:45:02.340Z"
   },
   {
    "duration": 29,
    "start_time": "2021-07-24T17:50:59.785Z"
   },
   {
    "duration": 31,
    "start_time": "2021-07-24T17:53:36.196Z"
   },
   {
    "duration": 41,
    "start_time": "2021-07-24T17:53:48.868Z"
   },
   {
    "duration": 39,
    "start_time": "2021-07-24T17:55:05.133Z"
   },
   {
    "duration": 39,
    "start_time": "2021-07-24T18:03:17.228Z"
   },
   {
    "duration": 393,
    "start_time": "2021-07-24T18:03:31.932Z"
   },
   {
    "duration": 41,
    "start_time": "2021-07-24T18:03:42.196Z"
   },
   {
    "duration": 5,
    "start_time": "2021-07-24T18:03:47.616Z"
   },
   {
    "duration": 507,
    "start_time": "2021-07-24T18:03:47.625Z"
   },
   {
    "duration": 13,
    "start_time": "2021-07-24T18:03:48.135Z"
   },
   {
    "duration": 12,
    "start_time": "2021-07-24T18:03:48.152Z"
   },
   {
    "duration": 54,
    "start_time": "2021-07-24T18:03:48.166Z"
   },
   {
    "duration": 35,
    "start_time": "2021-07-24T18:03:48.223Z"
   },
   {
    "duration": 43,
    "start_time": "2021-07-24T18:03:48.261Z"
   },
   {
    "duration": 12,
    "start_time": "2021-07-24T18:03:48.306Z"
   },
   {
    "duration": 24,
    "start_time": "2021-07-24T18:03:48.321Z"
   },
   {
    "duration": 74,
    "start_time": "2021-07-24T18:03:48.348Z"
   },
   {
    "duration": 36,
    "start_time": "2021-07-24T18:03:48.424Z"
   },
   {
    "duration": 65,
    "start_time": "2021-07-24T18:03:48.462Z"
   },
   {
    "duration": 37,
    "start_time": "2021-07-24T18:03:48.529Z"
   },
   {
    "duration": 38,
    "start_time": "2021-07-24T18:03:58.876Z"
   },
   {
    "duration": 4,
    "start_time": "2021-07-24T18:04:02.631Z"
   },
   {
    "duration": 508,
    "start_time": "2021-07-24T18:04:02.638Z"
   },
   {
    "duration": 12,
    "start_time": "2021-07-24T18:04:03.149Z"
   },
   {
    "duration": 15,
    "start_time": "2021-07-24T18:04:03.164Z"
   },
   {
    "duration": 52,
    "start_time": "2021-07-24T18:04:03.182Z"
   },
   {
    "duration": 35,
    "start_time": "2021-07-24T18:04:03.237Z"
   },
   {
    "duration": 37,
    "start_time": "2021-07-24T18:04:03.274Z"
   },
   {
    "duration": 12,
    "start_time": "2021-07-24T18:04:03.313Z"
   },
   {
    "duration": 28,
    "start_time": "2021-07-24T18:04:03.328Z"
   },
   {
    "duration": 78,
    "start_time": "2021-07-24T18:04:03.358Z"
   },
   {
    "duration": 38,
    "start_time": "2021-07-24T18:04:03.439Z"
   },
   {
    "duration": 61,
    "start_time": "2021-07-24T18:04:03.480Z"
   },
   {
    "duration": 57,
    "start_time": "2021-07-24T18:04:03.543Z"
   },
   {
    "duration": 10,
    "start_time": "2021-07-24T18:05:28.670Z"
   },
   {
    "duration": 21,
    "start_time": "2021-07-24T18:05:37.879Z"
   },
   {
    "duration": 46,
    "start_time": "2021-07-24T18:07:40.202Z"
   },
   {
    "duration": 37,
    "start_time": "2021-07-24T18:07:59.808Z"
   },
   {
    "duration": 34,
    "start_time": "2021-07-24T18:08:56.124Z"
   },
   {
    "duration": 54,
    "start_time": "2021-07-24T18:09:46.508Z"
   },
   {
    "duration": 5,
    "start_time": "2021-07-24T18:09:49.726Z"
   },
   {
    "duration": 511,
    "start_time": "2021-07-24T18:09:49.735Z"
   },
   {
    "duration": 12,
    "start_time": "2021-07-24T18:09:50.249Z"
   },
   {
    "duration": 11,
    "start_time": "2021-07-24T18:09:50.264Z"
   },
   {
    "duration": 77,
    "start_time": "2021-07-24T18:09:50.277Z"
   },
   {
    "duration": 61,
    "start_time": "2021-07-24T18:09:50.356Z"
   },
   {
    "duration": 16,
    "start_time": "2021-07-24T18:09:50.420Z"
   },
   {
    "duration": 12,
    "start_time": "2021-07-24T18:09:50.438Z"
   },
   {
    "duration": 52,
    "start_time": "2021-07-24T18:09:50.453Z"
   },
   {
    "duration": 37,
    "start_time": "2021-07-24T18:09:50.508Z"
   },
   {
    "duration": 60,
    "start_time": "2021-07-24T18:09:50.548Z"
   },
   {
    "duration": 43,
    "start_time": "2021-07-24T18:09:50.610Z"
   },
   {
    "duration": 58,
    "start_time": "2021-07-24T18:09:50.656Z"
   },
   {
    "duration": 10,
    "start_time": "2021-07-24T18:09:50.716Z"
   },
   {
    "duration": 28,
    "start_time": "2021-07-24T18:09:50.728Z"
   },
   {
    "duration": 116,
    "start_time": "2021-07-24T18:09:50.758Z"
   },
   {
    "duration": -105,
    "start_time": "2021-07-24T18:09:50.981Z"
   },
   {
    "duration": 54,
    "start_time": "2021-07-24T18:10:02.627Z"
   },
   {
    "duration": 12,
    "start_time": "2021-07-24T18:11:13.758Z"
   },
   {
    "duration": 11,
    "start_time": "2021-07-24T18:13:24.367Z"
   },
   {
    "duration": 19,
    "start_time": "2021-07-24T18:15:11.807Z"
   },
   {
    "duration": 13,
    "start_time": "2021-07-24T18:15:22.584Z"
   },
   {
    "duration": 30,
    "start_time": "2021-07-24T18:16:33.825Z"
   },
   {
    "duration": 32,
    "start_time": "2021-07-24T18:17:44.173Z"
   },
   {
    "duration": 340,
    "start_time": "2021-07-24T18:23:42.944Z"
   },
   {
    "duration": 209,
    "start_time": "2021-07-25T11:30:38.320Z"
   },
   {
    "duration": 3,
    "start_time": "2021-07-25T11:31:38.992Z"
   },
   {
    "duration": 176,
    "start_time": "2021-07-25T11:31:52.460Z"
   },
   {
    "duration": 1006,
    "start_time": "2021-07-25T11:32:02.547Z"
   },
   {
    "duration": 414,
    "start_time": "2021-07-25T11:32:03.554Z"
   },
   {
    "duration": 11,
    "start_time": "2021-07-25T11:32:03.970Z"
   },
   {
    "duration": 7,
    "start_time": "2021-07-25T11:32:03.983Z"
   },
   {
    "duration": 60,
    "start_time": "2021-07-25T11:32:03.991Z"
   },
   {
    "duration": 59,
    "start_time": "2021-07-25T11:32:04.053Z"
   },
   {
    "duration": 13,
    "start_time": "2021-07-25T11:32:04.113Z"
   },
   {
    "duration": 8,
    "start_time": "2021-07-25T11:32:04.127Z"
   },
   {
    "duration": 16,
    "start_time": "2021-07-25T11:32:04.137Z"
   },
   {
    "duration": 50,
    "start_time": "2021-07-25T11:32:04.155Z"
   },
   {
    "duration": 29,
    "start_time": "2021-07-25T11:32:04.207Z"
   },
   {
    "duration": 56,
    "start_time": "2021-07-25T11:32:04.237Z"
   },
   {
    "duration": 26,
    "start_time": "2021-07-25T11:32:04.294Z"
   },
   {
    "duration": 6,
    "start_time": "2021-07-25T11:32:04.321Z"
   },
   {
    "duration": 16,
    "start_time": "2021-07-25T11:32:04.329Z"
   },
   {
    "duration": 62,
    "start_time": "2021-07-25T11:32:04.346Z"
   },
   {
    "duration": 8,
    "start_time": "2021-07-25T11:32:04.410Z"
   },
   {
    "duration": 8,
    "start_time": "2021-07-25T11:32:04.420Z"
   },
   {
    "duration": 14,
    "start_time": "2021-07-25T11:32:04.430Z"
   },
   {
    "duration": 6,
    "start_time": "2021-07-25T11:32:04.446Z"
   },
   {
    "duration": 21,
    "start_time": "2021-07-25T11:32:04.486Z"
   },
   {
    "duration": 25,
    "start_time": "2021-07-25T11:32:04.509Z"
   },
   {
    "duration": 228,
    "start_time": "2021-07-25T11:32:04.536Z"
   },
   {
    "duration": 5,
    "start_time": "2021-07-25T11:32:42.463Z"
   },
   {
    "duration": 3,
    "start_time": "2021-07-25T11:32:56.647Z"
   },
   {
    "duration": 173,
    "start_time": "2021-07-25T11:33:06.271Z"
   },
   {
    "duration": 111,
    "start_time": "2021-07-25T11:33:37.783Z"
   },
   {
    "duration": 16,
    "start_time": "2021-07-25T11:33:45.918Z"
   },
   {
    "duration": 17,
    "start_time": "2021-07-25T11:33:52.583Z"
   },
   {
    "duration": 17,
    "start_time": "2021-07-25T11:34:13.872Z"
   },
   {
    "duration": 18,
    "start_time": "2021-07-25T11:34:21.657Z"
   },
   {
    "duration": 3,
    "start_time": "2021-07-25T11:34:35.304Z"
   },
   {
    "duration": 3,
    "start_time": "2021-07-25T11:34:42.713Z"
   },
   {
    "duration": 3,
    "start_time": "2021-07-25T11:35:05.793Z"
   },
   {
    "duration": 4,
    "start_time": "2021-07-25T11:35:13.616Z"
   },
   {
    "duration": 184,
    "start_time": "2021-07-25T11:36:18.578Z"
   },
   {
    "duration": 199,
    "start_time": "2021-07-25T11:37:17.193Z"
   },
   {
    "duration": 389,
    "start_time": "2021-07-25T11:37:33.692Z"
   },
   {
    "duration": 4,
    "start_time": "2021-07-25T11:40:13.500Z"
   },
   {
    "duration": 403,
    "start_time": "2021-07-25T11:40:13.506Z"
   },
   {
    "duration": 8,
    "start_time": "2021-07-25T11:40:13.911Z"
   },
   {
    "duration": 16,
    "start_time": "2021-07-25T11:40:13.921Z"
   },
   {
    "duration": 57,
    "start_time": "2021-07-25T11:40:13.939Z"
   },
   {
    "duration": 39,
    "start_time": "2021-07-25T11:40:13.998Z"
   },
   {
    "duration": 13,
    "start_time": "2021-07-25T11:40:14.039Z"
   },
   {
    "duration": 34,
    "start_time": "2021-07-25T11:40:14.054Z"
   },
   {
    "duration": 21,
    "start_time": "2021-07-25T11:40:14.092Z"
   },
   {
    "duration": 26,
    "start_time": "2021-07-25T11:40:14.115Z"
   },
   {
    "duration": 54,
    "start_time": "2021-07-25T11:40:14.143Z"
   },
   {
    "duration": 34,
    "start_time": "2021-07-25T11:40:14.199Z"
   },
   {
    "duration": 51,
    "start_time": "2021-07-25T11:40:14.235Z"
   },
   {
    "duration": 8,
    "start_time": "2021-07-25T11:40:14.287Z"
   },
   {
    "duration": 25,
    "start_time": "2021-07-25T11:40:14.297Z"
   },
   {
    "duration": 36,
    "start_time": "2021-07-25T11:40:14.324Z"
   },
   {
    "duration": 22,
    "start_time": "2021-07-25T11:40:14.362Z"
   },
   {
    "duration": 8,
    "start_time": "2021-07-25T11:40:14.386Z"
   },
   {
    "duration": 13,
    "start_time": "2021-07-25T11:40:14.396Z"
   },
   {
    "duration": 13,
    "start_time": "2021-07-25T11:40:14.411Z"
   },
   {
    "duration": 31,
    "start_time": "2021-07-25T11:40:14.426Z"
   },
   {
    "duration": 34,
    "start_time": "2021-07-25T11:40:14.459Z"
   },
   {
    "duration": 16,
    "start_time": "2021-07-25T11:40:14.494Z"
   },
   {
    "duration": 17,
    "start_time": "2021-07-25T11:40:14.512Z"
   },
   {
    "duration": 5,
    "start_time": "2021-07-25T11:40:14.530Z"
   },
   {
    "duration": 358,
    "start_time": "2021-07-25T11:40:14.537Z"
   },
   {
    "duration": 18,
    "start_time": "2021-07-25T11:40:21.639Z"
   },
   {
    "duration": 3,
    "start_time": "2021-07-25T11:40:25.985Z"
   },
   {
    "duration": 4,
    "start_time": "2021-07-25T11:41:40.287Z"
   },
   {
    "duration": 174,
    "start_time": "2021-07-25T11:41:55.648Z"
   },
   {
    "duration": 7,
    "start_time": "2021-07-25T11:42:07.657Z"
   },
   {
    "duration": 8,
    "start_time": "2021-07-25T11:43:04.657Z"
   },
   {
    "duration": 12,
    "start_time": "2021-07-25T11:52:11.154Z"
   },
   {
    "duration": 6,
    "start_time": "2021-07-25T11:52:25.962Z"
   },
   {
    "duration": 5,
    "start_time": "2021-07-25T11:52:37.657Z"
   },
   {
    "duration": 5,
    "start_time": "2021-07-25T11:52:47.553Z"
   },
   {
    "duration": 8,
    "start_time": "2021-07-25T11:54:34.245Z"
   },
   {
    "duration": 9,
    "start_time": "2021-07-25T11:54:48.211Z"
   },
   {
    "duration": 203,
    "start_time": "2021-07-25T11:58:45.891Z"
   },
   {
    "duration": 36,
    "start_time": "2021-07-25T11:58:58.177Z"
   },
   {
    "duration": 215,
    "start_time": "2021-07-25T12:02:29.613Z"
   },
   {
    "duration": 43,
    "start_time": "2021-07-25T12:02:37.548Z"
   },
   {
    "duration": 226,
    "start_time": "2021-07-25T12:03:20.626Z"
   },
   {
    "duration": 56,
    "start_time": "2021-07-25T12:03:39.598Z"
   },
   {
    "duration": 61,
    "start_time": "2021-07-25T12:03:53.077Z"
   },
   {
    "duration": 46,
    "start_time": "2021-07-25T12:04:12.509Z"
   },
   {
    "duration": 54,
    "start_time": "2021-07-25T12:04:57.012Z"
   },
   {
    "duration": 57,
    "start_time": "2021-07-25T12:05:19.102Z"
   },
   {
    "duration": 42,
    "start_time": "2021-07-25T12:05:31.911Z"
   },
   {
    "duration": 178,
    "start_time": "2021-07-25T12:09:39.573Z"
   },
   {
    "duration": 28,
    "start_time": "2021-07-25T12:10:07.053Z"
   },
   {
    "duration": 207,
    "start_time": "2021-07-25T12:10:26.523Z"
   },
   {
    "duration": 26,
    "start_time": "2021-07-25T12:10:46.644Z"
   },
   {
    "duration": 204,
    "start_time": "2021-07-25T12:11:34.699Z"
   },
   {
    "duration": 179,
    "start_time": "2021-07-25T12:14:48.487Z"
   },
   {
    "duration": 25,
    "start_time": "2021-07-25T12:17:16.891Z"
   },
   {
    "duration": 7,
    "start_time": "2021-07-25T12:17:17.913Z"
   },
   {
    "duration": 185,
    "start_time": "2021-07-25T12:18:03.346Z"
   },
   {
    "duration": 4257,
    "start_time": "2021-07-25T12:18:35.740Z"
   },
   {
    "duration": 39,
    "start_time": "2021-07-25T12:18:48.620Z"
   },
   {
    "duration": 8,
    "start_time": "2021-07-25T12:21:20.133Z"
   },
   {
    "duration": 14,
    "start_time": "2021-07-25T12:23:44.593Z"
   },
   {
    "duration": 4267,
    "start_time": "2021-07-25T12:24:33.064Z"
   },
   {
    "duration": 4,
    "start_time": "2021-07-25T12:25:23.235Z"
   },
   {
    "duration": 457,
    "start_time": "2021-07-25T12:25:23.241Z"
   },
   {
    "duration": 8,
    "start_time": "2021-07-25T12:25:23.700Z"
   },
   {
    "duration": 8,
    "start_time": "2021-07-25T12:25:23.710Z"
   },
   {
    "duration": 65,
    "start_time": "2021-07-25T12:25:23.720Z"
   },
   {
    "duration": 39,
    "start_time": "2021-07-25T12:25:23.787Z"
   },
   {
    "duration": 14,
    "start_time": "2021-07-25T12:25:23.828Z"
   },
   {
    "duration": 10,
    "start_time": "2021-07-25T12:25:23.844Z"
   },
   {
    "duration": 18,
    "start_time": "2021-07-25T12:25:23.885Z"
   },
   {
    "duration": 29,
    "start_time": "2021-07-25T12:25:23.907Z"
   },
   {
    "duration": 64,
    "start_time": "2021-07-25T12:25:23.938Z"
   },
   {
    "duration": 35,
    "start_time": "2021-07-25T12:25:24.004Z"
   },
   {
    "duration": 44,
    "start_time": "2021-07-25T12:25:24.041Z"
   },
   {
    "duration": 9,
    "start_time": "2021-07-25T12:25:24.087Z"
   },
   {
    "duration": 16,
    "start_time": "2021-07-25T12:25:24.097Z"
   },
   {
    "duration": 37,
    "start_time": "2021-07-25T12:25:24.116Z"
   },
   {
    "duration": 37,
    "start_time": "2021-07-25T12:25:24.155Z"
   },
   {
    "duration": 8,
    "start_time": "2021-07-25T12:25:24.194Z"
   },
   {
    "duration": 20,
    "start_time": "2021-07-25T12:25:24.204Z"
   },
   {
    "duration": 7,
    "start_time": "2021-07-25T12:25:24.226Z"
   },
   {
    "duration": 21,
    "start_time": "2021-07-25T12:25:24.235Z"
   },
   {
    "duration": 43,
    "start_time": "2021-07-25T12:25:24.257Z"
   },
   {
    "duration": 11,
    "start_time": "2021-07-25T12:25:24.302Z"
   },
   {
    "duration": 7,
    "start_time": "2021-07-25T12:25:24.315Z"
   },
   {
    "duration": 9,
    "start_time": "2021-07-25T12:25:24.323Z"
   },
   {
    "duration": 75,
    "start_time": "2021-07-25T12:25:24.333Z"
   },
   {
    "duration": 44,
    "start_time": "2021-07-25T12:25:24.411Z"
   },
   {
    "duration": 47,
    "start_time": "2021-07-25T12:25:24.457Z"
   },
   {
    "duration": 23,
    "start_time": "2021-07-25T12:25:24.505Z"
   },
   {
    "duration": 5,
    "start_time": "2021-07-25T12:25:24.530Z"
   },
   {
    "duration": 4210,
    "start_time": "2021-07-25T12:25:24.537Z"
   },
   {
    "duration": 4286,
    "start_time": "2021-07-25T12:26:44.277Z"
   },
   {
    "duration": 4426,
    "start_time": "2021-07-25T12:29:01.461Z"
   },
   {
    "duration": 3,
    "start_time": "2021-07-25T12:29:18.306Z"
   },
   {
    "duration": 484,
    "start_time": "2021-07-25T12:29:18.311Z"
   },
   {
    "duration": 9,
    "start_time": "2021-07-25T12:29:18.797Z"
   },
   {
    "duration": 10,
    "start_time": "2021-07-25T12:29:18.808Z"
   },
   {
    "duration": 70,
    "start_time": "2021-07-25T12:29:18.819Z"
   },
   {
    "duration": 37,
    "start_time": "2021-07-25T12:29:18.891Z"
   },
   {
    "duration": 13,
    "start_time": "2021-07-25T12:29:18.929Z"
   },
   {
    "duration": 8,
    "start_time": "2021-07-25T12:29:18.943Z"
   },
   {
    "duration": 37,
    "start_time": "2021-07-25T12:29:18.953Z"
   },
   {
    "duration": 25,
    "start_time": "2021-07-25T12:29:18.992Z"
   },
   {
    "duration": 26,
    "start_time": "2021-07-25T12:29:19.018Z"
   },
   {
    "duration": 55,
    "start_time": "2021-07-25T12:29:19.046Z"
   },
   {
    "duration": 23,
    "start_time": "2021-07-25T12:29:19.102Z"
   },
   {
    "duration": 6,
    "start_time": "2021-07-25T12:29:19.127Z"
   },
   {
    "duration": 14,
    "start_time": "2021-07-25T12:29:19.134Z"
   },
   {
    "duration": 58,
    "start_time": "2021-07-25T12:29:19.150Z"
   },
   {
    "duration": 7,
    "start_time": "2021-07-25T12:29:19.210Z"
   },
   {
    "duration": 7,
    "start_time": "2021-07-25T12:29:19.218Z"
   },
   {
    "duration": 12,
    "start_time": "2021-07-25T12:29:19.227Z"
   },
   {
    "duration": 7,
    "start_time": "2021-07-25T12:29:19.241Z"
   },
   {
    "duration": 46,
    "start_time": "2021-07-25T12:29:19.249Z"
   },
   {
    "duration": 17,
    "start_time": "2021-07-25T12:29:19.296Z"
   },
   {
    "duration": 10,
    "start_time": "2021-07-25T12:29:19.315Z"
   },
   {
    "duration": 7,
    "start_time": "2021-07-25T12:29:19.327Z"
   },
   {
    "duration": 8,
    "start_time": "2021-07-25T12:29:19.335Z"
   },
   {
    "duration": 66,
    "start_time": "2021-07-25T12:29:19.345Z"
   },
   {
    "duration": 45,
    "start_time": "2021-07-25T12:29:19.414Z"
   },
   {
    "duration": 47,
    "start_time": "2021-07-25T12:29:19.461Z"
   },
   {
    "duration": 24,
    "start_time": "2021-07-25T12:29:19.510Z"
   },
   {
    "duration": 9,
    "start_time": "2021-07-25T12:29:19.535Z"
   },
   {
    "duration": 4286,
    "start_time": "2021-07-25T12:29:43.741Z"
   },
   {
    "duration": 4295,
    "start_time": "2021-07-25T12:30:14.974Z"
   },
   {
    "duration": 3,
    "start_time": "2021-07-25T12:30:29.418Z"
   },
   {
    "duration": 403,
    "start_time": "2021-07-25T12:30:29.423Z"
   },
   {
    "duration": 8,
    "start_time": "2021-07-25T12:30:29.828Z"
   },
   {
    "duration": 9,
    "start_time": "2021-07-25T12:30:29.838Z"
   },
   {
    "duration": 56,
    "start_time": "2021-07-25T12:30:29.848Z"
   },
   {
    "duration": 39,
    "start_time": "2021-07-25T12:30:29.906Z"
   },
   {
    "duration": 13,
    "start_time": "2021-07-25T12:30:29.946Z"
   },
   {
    "duration": 28,
    "start_time": "2021-07-25T12:30:29.961Z"
   },
   {
    "duration": 17,
    "start_time": "2021-07-25T12:30:29.994Z"
   },
   {
    "duration": 29,
    "start_time": "2021-07-25T12:30:30.013Z"
   },
   {
    "duration": 52,
    "start_time": "2021-07-25T12:30:30.044Z"
   },
   {
    "duration": 31,
    "start_time": "2021-07-25T12:30:30.098Z"
   },
   {
    "duration": 26,
    "start_time": "2021-07-25T12:30:30.130Z"
   },
   {
    "duration": 29,
    "start_time": "2021-07-25T12:30:30.157Z"
   },
   {
    "duration": 21,
    "start_time": "2021-07-25T12:30:30.188Z"
   },
   {
    "duration": 41,
    "start_time": "2021-07-25T12:30:30.212Z"
   },
   {
    "duration": 9,
    "start_time": "2021-07-25T12:30:30.255Z"
   },
   {
    "duration": 22,
    "start_time": "2021-07-25T12:30:30.266Z"
   },
   {
    "duration": 17,
    "start_time": "2021-07-25T12:30:30.290Z"
   },
   {
    "duration": 12,
    "start_time": "2021-07-25T12:30:30.309Z"
   },
   {
    "duration": 21,
    "start_time": "2021-07-25T12:30:30.323Z"
   },
   {
    "duration": 40,
    "start_time": "2021-07-25T12:30:30.346Z"
   },
   {
    "duration": 11,
    "start_time": "2021-07-25T12:30:30.388Z"
   },
   {
    "duration": 7,
    "start_time": "2021-07-25T12:30:30.401Z"
   },
   {
    "duration": 17,
    "start_time": "2021-07-25T12:30:30.410Z"
   },
   {
    "duration": 60,
    "start_time": "2021-07-25T12:30:30.429Z"
   },
   {
    "duration": 48,
    "start_time": "2021-07-25T12:30:30.493Z"
   },
   {
    "duration": 53,
    "start_time": "2021-07-25T12:30:30.543Z"
   },
   {
    "duration": 25,
    "start_time": "2021-07-25T12:30:30.598Z"
   },
   {
    "duration": 10,
    "start_time": "2021-07-25T12:30:30.625Z"
   },
   {
    "duration": 193,
    "start_time": "2021-07-25T12:35:32.006Z"
   },
   {
    "duration": 203,
    "start_time": "2021-07-25T12:35:46.117Z"
   },
   {
    "duration": 186,
    "start_time": "2021-07-25T12:38:13.921Z"
   },
   {
    "duration": 18,
    "start_time": "2021-07-25T12:38:48.854Z"
   },
   {
    "duration": 4335,
    "start_time": "2021-07-25T12:39:31.519Z"
   },
   {
    "duration": 6,
    "start_time": "2021-07-25T12:39:48.367Z"
   },
   {
    "duration": 7,
    "start_time": "2021-07-25T12:40:02.551Z"
   },
   {
    "duration": 8,
    "start_time": "2021-07-25T12:52:45.865Z"
   },
   {
    "duration": 6,
    "start_time": "2021-07-25T12:53:06.159Z"
   },
   {
    "duration": 15,
    "start_time": "2021-07-25T12:55:25.981Z"
   },
   {
    "duration": 302,
    "start_time": "2021-07-25T12:59:57.882Z"
   },
   {
    "duration": 315,
    "start_time": "2021-07-25T13:00:36.659Z"
   },
   {
    "duration": 59,
    "start_time": "2021-07-25T13:02:49.349Z"
   },
   {
    "duration": 303,
    "start_time": "2021-07-25T13:03:43.222Z"
   },
   {
    "duration": 4525,
    "start_time": "2021-07-25T13:08:12.260Z"
   },
   {
    "duration": 4499,
    "start_time": "2021-07-25T13:08:25.350Z"
   },
   {
    "duration": 307,
    "start_time": "2021-07-25T13:12:44.613Z"
   },
   {
    "duration": 4409,
    "start_time": "2021-07-25T13:13:11.897Z"
   },
   {
    "duration": 4497,
    "start_time": "2021-07-25T13:13:42.155Z"
   },
   {
    "duration": 62,
    "start_time": "2021-07-25T13:14:18.193Z"
   },
   {
    "duration": 4477,
    "start_time": "2021-07-25T13:14:32.441Z"
   },
   {
    "duration": 21,
    "start_time": "2021-07-25T13:16:50.074Z"
   },
   {
    "duration": 287,
    "start_time": "2021-07-26T12:00:07.633Z"
   },
   {
    "duration": 1402,
    "start_time": "2021-07-26T12:00:13.232Z"
   },
   {
    "duration": 528,
    "start_time": "2021-07-26T12:00:14.636Z"
   },
   {
    "duration": 17,
    "start_time": "2021-07-26T12:00:15.167Z"
   },
   {
    "duration": 18,
    "start_time": "2021-07-26T12:00:15.187Z"
   },
   {
    "duration": 105,
    "start_time": "2021-07-26T12:00:15.207Z"
   },
   {
    "duration": 64,
    "start_time": "2021-07-26T12:00:15.314Z"
   },
   {
    "duration": 18,
    "start_time": "2021-07-26T12:00:15.381Z"
   },
   {
    "duration": 13,
    "start_time": "2021-07-26T12:00:15.403Z"
   },
   {
    "duration": 54,
    "start_time": "2021-07-26T12:00:15.418Z"
   },
   {
    "duration": 40,
    "start_time": "2021-07-26T12:00:15.475Z"
   },
   {
    "duration": 66,
    "start_time": "2021-07-26T12:00:15.517Z"
   },
   {
    "duration": 51,
    "start_time": "2021-07-26T12:00:15.585Z"
   },
   {
    "duration": 55,
    "start_time": "2021-07-26T12:00:15.638Z"
   },
   {
    "duration": 10,
    "start_time": "2021-07-26T12:00:15.695Z"
   },
   {
    "duration": 33,
    "start_time": "2021-07-26T12:00:15.707Z"
   },
   {
    "duration": 65,
    "start_time": "2021-07-26T12:00:15.743Z"
   },
   {
    "duration": 11,
    "start_time": "2021-07-26T12:00:15.811Z"
   },
   {
    "duration": 38,
    "start_time": "2021-07-26T12:00:15.824Z"
   },
   {
    "duration": 20,
    "start_time": "2021-07-26T12:00:15.864Z"
   },
   {
    "duration": 14,
    "start_time": "2021-07-26T12:00:15.886Z"
   },
   {
    "duration": 34,
    "start_time": "2021-07-26T12:00:15.902Z"
   },
   {
    "duration": 30,
    "start_time": "2021-07-26T12:00:15.963Z"
   },
   {
    "duration": 17,
    "start_time": "2021-07-26T12:00:15.998Z"
   },
   {
    "duration": 45,
    "start_time": "2021-07-26T12:00:16.018Z"
   },
   {
    "duration": 12,
    "start_time": "2021-07-26T12:00:16.066Z"
   },
   {
    "duration": 60,
    "start_time": "2021-07-26T12:00:16.081Z"
   },
   {
    "duration": 69,
    "start_time": "2021-07-26T12:00:16.143Z"
   },
   {
    "duration": 68,
    "start_time": "2021-07-26T12:00:16.215Z"
   },
   {
    "duration": 34,
    "start_time": "2021-07-26T12:00:16.285Z"
   },
   {
    "duration": 13,
    "start_time": "2021-07-26T12:00:16.321Z"
   },
   {
    "duration": 388,
    "start_time": "2021-07-26T12:00:16.362Z"
   },
   {
    "duration": 34,
    "start_time": "2021-07-26T12:00:16.752Z"
   },
   {
    "duration": 8,
    "start_time": "2021-07-26T12:00:16.789Z"
   },
   {
    "duration": 25,
    "start_time": "2021-07-26T12:00:16.799Z"
   },
   {
    "duration": 40,
    "start_time": "2021-07-26T12:00:16.827Z"
   },
   {
    "duration": 18,
    "start_time": "2021-07-26T12:00:16.869Z"
   },
   {
    "duration": 8633,
    "start_time": "2021-07-26T12:00:16.889Z"
   },
   {
    "duration": 8751,
    "start_time": "2021-07-26T12:00:25.524Z"
   },
   {
    "duration": 9753,
    "start_time": "2021-07-26T12:00:34.278Z"
   },
   {
    "duration": 42,
    "start_time": "2021-07-26T12:00:44.033Z"
   },
   {
    "duration": 11,
    "start_time": "2021-07-26T12:16:48.529Z"
   },
   {
    "duration": 27,
    "start_time": "2021-07-26T12:17:17.307Z"
   },
   {
    "duration": 17,
    "start_time": "2021-07-26T12:19:15.336Z"
   },
   {
    "duration": 18,
    "start_time": "2021-07-26T12:19:31.862Z"
   },
   {
    "duration": 23,
    "start_time": "2021-07-26T12:19:37.526Z"
   },
   {
    "duration": 41,
    "start_time": "2021-07-26T12:22:44.728Z"
   },
   {
    "duration": 328,
    "start_time": "2021-07-26T12:38:00.052Z"
   },
   {
    "duration": 212,
    "start_time": "2021-07-26T12:38:09.349Z"
   },
   {
    "duration": 23,
    "start_time": "2021-07-26T12:38:30.543Z"
   },
   {
    "duration": 21,
    "start_time": "2021-07-26T12:38:53.518Z"
   },
   {
    "duration": 24,
    "start_time": "2021-07-26T12:40:18.816Z"
   },
   {
    "duration": 20,
    "start_time": "2021-07-26T12:40:21.042Z"
   },
   {
    "duration": 1723,
    "start_time": "2021-07-26T13:13:03.265Z"
   },
   {
    "duration": 1724,
    "start_time": "2021-07-26T13:13:22.275Z"
   },
   {
    "duration": 1732,
    "start_time": "2021-07-26T13:13:50.293Z"
   },
   {
    "duration": 1605,
    "start_time": "2021-07-26T13:14:00.895Z"
   },
   {
    "duration": 1662,
    "start_time": "2021-07-26T13:14:45.392Z"
   },
   {
    "duration": 1048,
    "start_time": "2021-07-26T13:16:16.731Z"
   },
   {
    "duration": 1171,
    "start_time": "2021-07-26T13:16:25.903Z"
   },
   {
    "duration": 1123,
    "start_time": "2021-07-26T13:16:51.042Z"
   },
   {
    "duration": 1176,
    "start_time": "2021-07-26T13:18:08.658Z"
   },
   {
    "duration": 364,
    "start_time": "2021-07-26T14:34:36.797Z"
   },
   {
    "duration": 267,
    "start_time": "2021-07-26T14:34:59.486Z"
   },
   {
    "duration": 286,
    "start_time": "2021-07-26T14:35:26.467Z"
   },
   {
    "duration": 26,
    "start_time": "2021-07-26T14:35:52.050Z"
   },
   {
    "duration": 314,
    "start_time": "2021-07-26T14:36:32.117Z"
   },
   {
    "duration": 24,
    "start_time": "2021-07-26T14:36:41.835Z"
   },
   {
    "duration": 100,
    "start_time": "2021-07-26T14:37:27.143Z"
   },
   {
    "duration": 26,
    "start_time": "2021-07-26T14:37:37.526Z"
   },
   {
    "duration": 100,
    "start_time": "2021-07-26T14:37:38.260Z"
   },
   {
    "duration": 315,
    "start_time": "2021-07-26T14:37:58.396Z"
   },
   {
    "duration": 27,
    "start_time": "2021-07-26T14:38:25.230Z"
   },
   {
    "duration": 5,
    "start_time": "2021-07-26T14:38:26.025Z"
   },
   {
    "duration": 264,
    "start_time": "2021-07-26T14:43:37.426Z"
   },
   {
    "duration": 248,
    "start_time": "2021-07-26T14:43:44.523Z"
   },
   {
    "duration": 15,
    "start_time": "2021-07-26T14:44:39.635Z"
   },
   {
    "duration": 25,
    "start_time": "2021-07-26T14:44:41.310Z"
   },
   {
    "duration": 13,
    "start_time": "2021-07-26T14:46:46.166Z"
   },
   {
    "duration": 4,
    "start_time": "2021-07-26T14:56:27.632Z"
   },
   {
    "duration": 537,
    "start_time": "2021-07-26T14:56:27.638Z"
   },
   {
    "duration": 12,
    "start_time": "2021-07-26T14:56:28.178Z"
   },
   {
    "duration": 11,
    "start_time": "2021-07-26T14:56:28.192Z"
   },
   {
    "duration": 108,
    "start_time": "2021-07-26T14:56:28.205Z"
   },
   {
    "duration": 63,
    "start_time": "2021-07-26T14:56:28.315Z"
   },
   {
    "duration": 17,
    "start_time": "2021-07-26T14:56:28.381Z"
   },
   {
    "duration": 13,
    "start_time": "2021-07-26T14:56:28.402Z"
   },
   {
    "duration": 57,
    "start_time": "2021-07-26T14:56:28.418Z"
   },
   {
    "duration": 62,
    "start_time": "2021-07-26T14:56:28.478Z"
   },
   {
    "duration": 68,
    "start_time": "2021-07-26T14:56:28.543Z"
   },
   {
    "duration": 89,
    "start_time": "2021-07-26T14:56:28.614Z"
   },
   {
    "duration": 63,
    "start_time": "2021-07-26T14:56:28.706Z"
   },
   {
    "duration": 14,
    "start_time": "2021-07-26T14:56:28.772Z"
   },
   {
    "duration": 30,
    "start_time": "2021-07-26T14:56:28.789Z"
   },
   {
    "duration": 109,
    "start_time": "2021-07-26T14:56:28.822Z"
   },
   {
    "duration": 17,
    "start_time": "2021-07-26T14:56:28.934Z"
   },
   {
    "duration": 18,
    "start_time": "2021-07-26T14:56:28.954Z"
   },
   {
    "duration": 26,
    "start_time": "2021-07-26T14:56:28.975Z"
   },
   {
    "duration": 10,
    "start_time": "2021-07-26T14:56:29.004Z"
   },
   {
    "duration": 70,
    "start_time": "2021-07-26T14:56:29.016Z"
   },
   {
    "duration": 35,
    "start_time": "2021-07-26T14:56:29.089Z"
   },
   {
    "duration": 39,
    "start_time": "2021-07-26T14:56:29.130Z"
   },
   {
    "duration": 8,
    "start_time": "2021-07-26T14:56:29.172Z"
   },
   {
    "duration": 13,
    "start_time": "2021-07-26T14:56:29.182Z"
   },
   {
    "duration": 81,
    "start_time": "2021-07-26T14:56:29.197Z"
   },
   {
    "duration": 55,
    "start_time": "2021-07-26T14:56:29.281Z"
   },
   {
    "duration": 59,
    "start_time": "2021-07-26T14:56:29.338Z"
   },
   {
    "duration": 32,
    "start_time": "2021-07-26T14:56:29.400Z"
   },
   {
    "duration": 34,
    "start_time": "2021-07-26T14:56:29.435Z"
   },
   {
    "duration": 391,
    "start_time": "2021-07-26T14:56:29.472Z"
   },
   {
    "duration": 28,
    "start_time": "2021-07-26T14:56:29.865Z"
   },
   {
    "duration": 9,
    "start_time": "2021-07-26T14:56:29.896Z"
   },
   {
    "duration": 11,
    "start_time": "2021-07-26T14:56:29.907Z"
   },
   {
    "duration": 47,
    "start_time": "2021-07-26T14:56:29.920Z"
   },
   {
    "duration": 19,
    "start_time": "2021-07-26T14:56:29.970Z"
   },
   {
    "duration": 13496,
    "start_time": "2021-07-26T14:56:29.992Z"
   },
   {
    "duration": 8453,
    "start_time": "2021-07-26T14:56:43.491Z"
   },
   {
    "duration": 8282,
    "start_time": "2021-07-26T14:56:51.946Z"
   },
   {
    "duration": 39,
    "start_time": "2021-07-26T14:57:00.230Z"
   },
   {
    "duration": 47,
    "start_time": "2021-07-26T14:57:00.271Z"
   },
   {
    "duration": 52,
    "start_time": "2021-07-26T14:57:00.320Z"
   },
   {
    "duration": 234,
    "start_time": "2021-07-26T14:57:00.374Z"
   },
   {
    "duration": 314,
    "start_time": "2021-07-26T14:57:00.611Z"
   },
   {
    "duration": 16,
    "start_time": "2021-07-26T14:57:00.927Z"
   },
   {
    "duration": 38,
    "start_time": "2021-07-26T14:57:00.945Z"
   },
   {
    "duration": 53,
    "start_time": "2021-07-26T14:57:00.985Z"
   },
   {
    "duration": 69,
    "start_time": "2021-07-26T14:57:01.042Z"
   },
   {
    "duration": 1044,
    "start_time": "2021-07-26T14:57:01.114Z"
   },
   {
    "duration": 1046,
    "start_time": "2021-07-26T14:57:02.162Z"
   },
   {
    "duration": 1104,
    "start_time": "2021-07-26T14:57:03.211Z"
   },
   {
    "duration": 14,
    "start_time": "2021-07-26T14:57:04.318Z"
   },
   {
    "duration": 47,
    "start_time": "2021-07-26T14:57:04.334Z"
   },
   {
    "duration": 5,
    "start_time": "2021-07-26T14:57:04.384Z"
   },
   {
    "duration": 1313,
    "start_time": "2021-07-27T19:55:18.083Z"
   },
   {
    "duration": 498,
    "start_time": "2021-07-27T19:55:19.399Z"
   },
   {
    "duration": 16,
    "start_time": "2021-07-27T19:55:19.900Z"
   },
   {
    "duration": 17,
    "start_time": "2021-07-27T19:55:19.918Z"
   },
   {
    "duration": 85,
    "start_time": "2021-07-27T19:55:19.937Z"
   },
   {
    "duration": 60,
    "start_time": "2021-07-27T19:55:20.024Z"
   },
   {
    "duration": 16,
    "start_time": "2021-07-27T19:55:20.086Z"
   },
   {
    "duration": 12,
    "start_time": "2021-07-27T19:55:20.105Z"
   },
   {
    "duration": 52,
    "start_time": "2021-07-27T19:55:20.120Z"
   },
   {
    "duration": 38,
    "start_time": "2021-07-27T19:55:20.175Z"
   },
   {
    "duration": 58,
    "start_time": "2021-07-27T19:55:20.216Z"
   },
   {
    "duration": 49,
    "start_time": "2021-07-27T19:55:20.276Z"
   },
   {
    "duration": 57,
    "start_time": "2021-07-27T19:55:20.327Z"
   },
   {
    "duration": 10,
    "start_time": "2021-07-27T19:55:20.387Z"
   },
   {
    "duration": 21,
    "start_time": "2021-07-27T19:55:20.399Z"
   },
   {
    "duration": 75,
    "start_time": "2021-07-27T19:55:20.423Z"
   },
   {
    "duration": 10,
    "start_time": "2021-07-27T19:55:20.501Z"
   },
   {
    "duration": 12,
    "start_time": "2021-07-27T19:55:20.513Z"
   },
   {
    "duration": 40,
    "start_time": "2021-07-27T19:55:20.527Z"
   },
   {
    "duration": 13,
    "start_time": "2021-07-27T19:55:20.569Z"
   },
   {
    "duration": 28,
    "start_time": "2021-07-27T19:55:20.585Z"
   },
   {
    "duration": 58,
    "start_time": "2021-07-27T19:55:20.615Z"
   },
   {
    "duration": 15,
    "start_time": "2021-07-27T19:55:20.675Z"
   },
   {
    "duration": 12,
    "start_time": "2021-07-27T19:55:20.692Z"
   },
   {
    "duration": 12,
    "start_time": "2021-07-27T19:55:20.706Z"
   },
   {
    "duration": 78,
    "start_time": "2021-07-27T19:55:20.720Z"
   },
   {
    "duration": 77,
    "start_time": "2021-07-27T19:55:20.803Z"
   },
   {
    "duration": 41,
    "start_time": "2021-07-27T19:55:20.883Z"
   },
   {
    "duration": 53,
    "start_time": "2021-07-27T19:55:20.926Z"
   },
   {
    "duration": 11,
    "start_time": "2021-07-27T19:55:20.982Z"
   },
   {
    "duration": 409,
    "start_time": "2021-07-27T19:55:20.996Z"
   },
   {
    "duration": 27,
    "start_time": "2021-07-27T19:55:21.408Z"
   },
   {
    "duration": 24,
    "start_time": "2021-07-27T19:55:21.437Z"
   },
   {
    "duration": 10,
    "start_time": "2021-07-27T19:55:21.463Z"
   },
   {
    "duration": 8,
    "start_time": "2021-07-27T19:55:21.475Z"
   },
   {
    "duration": 18,
    "start_time": "2021-07-27T19:55:21.485Z"
   },
   {
    "duration": 8458,
    "start_time": "2021-07-27T19:55:21.505Z"
   },
   {
    "duration": 8243,
    "start_time": "2021-07-27T19:55:29.965Z"
   },
   {
    "duration": 8157,
    "start_time": "2021-07-27T19:55:38.210Z"
   },
   {
    "duration": 28,
    "start_time": "2021-07-27T19:55:46.369Z"
   },
   {
    "duration": 17,
    "start_time": "2021-07-27T19:55:46.399Z"
   },
   {
    "duration": 58,
    "start_time": "2021-07-27T19:55:46.419Z"
   },
   {
    "duration": 229,
    "start_time": "2021-07-27T19:55:46.479Z"
   },
   {
    "duration": 207,
    "start_time": "2021-07-27T19:55:46.710Z"
   },
   {
    "duration": 15,
    "start_time": "2021-07-27T19:55:46.920Z"
   },
   {
    "duration": 26,
    "start_time": "2021-07-27T19:55:46.938Z"
   },
   {
    "duration": 16,
    "start_time": "2021-07-27T19:55:46.967Z"
   },
   {
    "duration": 14,
    "start_time": "2021-07-27T19:55:46.986Z"
   },
   {
    "duration": 1203,
    "start_time": "2021-07-27T19:55:47.002Z"
   },
   {
    "duration": 957,
    "start_time": "2021-07-27T19:55:48.208Z"
   },
   {
    "duration": 1082,
    "start_time": "2021-07-27T19:55:49.168Z"
   },
   {
    "duration": 422,
    "start_time": "2021-07-27T19:55:50.252Z"
   },
   {
    "duration": -1095,
    "start_time": "2021-07-27T19:55:51.772Z"
   },
   {
    "duration": -1098,
    "start_time": "2021-07-27T19:55:51.777Z"
   },
   {
    "duration": 368,
    "start_time": "2021-07-28T11:12:40.802Z"
   },
   {
    "duration": 1357,
    "start_time": "2021-07-28T11:12:47.179Z"
   },
   {
    "duration": 543,
    "start_time": "2021-07-28T11:12:48.539Z"
   },
   {
    "duration": 17,
    "start_time": "2021-07-28T11:12:49.085Z"
   },
   {
    "duration": 19,
    "start_time": "2021-07-28T11:12:49.105Z"
   },
   {
    "duration": 93,
    "start_time": "2021-07-28T11:12:49.126Z"
   },
   {
    "duration": 68,
    "start_time": "2021-07-28T11:12:49.221Z"
   },
   {
    "duration": 18,
    "start_time": "2021-07-28T11:12:49.292Z"
   },
   {
    "duration": 13,
    "start_time": "2021-07-28T11:12:49.314Z"
   },
   {
    "duration": 52,
    "start_time": "2021-07-28T11:12:49.330Z"
   },
   {
    "duration": 38,
    "start_time": "2021-07-28T11:12:49.384Z"
   },
   {
    "duration": 64,
    "start_time": "2021-07-28T11:12:49.424Z"
   },
   {
    "duration": 53,
    "start_time": "2021-07-28T11:12:49.490Z"
   },
   {
    "duration": 51,
    "start_time": "2021-07-28T11:12:49.545Z"
   },
   {
    "duration": 10,
    "start_time": "2021-07-28T11:12:49.598Z"
   },
   {
    "duration": 21,
    "start_time": "2021-07-28T11:12:49.610Z"
   },
   {
    "duration": 86,
    "start_time": "2021-07-28T11:12:49.634Z"
   },
   {
    "duration": 12,
    "start_time": "2021-07-28T11:12:49.723Z"
   },
   {
    "duration": 34,
    "start_time": "2021-07-28T11:12:49.738Z"
   },
   {
    "duration": 20,
    "start_time": "2021-07-28T11:12:49.775Z"
   },
   {
    "duration": 10,
    "start_time": "2021-07-28T11:12:49.798Z"
   },
   {
    "duration": 63,
    "start_time": "2021-07-28T11:12:49.810Z"
   },
   {
    "duration": 31,
    "start_time": "2021-07-28T11:12:49.876Z"
   },
   {
    "duration": 19,
    "start_time": "2021-07-28T11:12:49.913Z"
   },
   {
    "duration": 37,
    "start_time": "2021-07-28T11:12:49.935Z"
   },
   {
    "duration": 13,
    "start_time": "2021-07-28T11:12:49.975Z"
   },
   {
    "duration": 80,
    "start_time": "2021-07-28T11:12:49.990Z"
   },
   {
    "duration": 59,
    "start_time": "2021-07-28T11:12:50.072Z"
   },
   {
    "duration": 63,
    "start_time": "2021-07-28T11:12:50.133Z"
   },
   {
    "duration": 34,
    "start_time": "2021-07-28T11:12:50.198Z"
   },
   {
    "duration": 34,
    "start_time": "2021-07-28T11:12:50.235Z"
   },
   {
    "duration": 415,
    "start_time": "2021-07-28T11:12:50.271Z"
   },
   {
    "duration": 28,
    "start_time": "2021-07-28T11:12:50.689Z"
   },
   {
    "duration": 8,
    "start_time": "2021-07-28T11:12:50.719Z"
   },
   {
    "duration": 44,
    "start_time": "2021-07-28T11:12:50.730Z"
   },
   {
    "duration": 8,
    "start_time": "2021-07-28T11:12:50.776Z"
   },
   {
    "duration": 25,
    "start_time": "2021-07-28T11:12:50.787Z"
   },
   {
    "duration": 8784,
    "start_time": "2021-07-28T11:12:50.814Z"
   },
   {
    "duration": 8712,
    "start_time": "2021-07-28T11:12:59.600Z"
   },
   {
    "duration": 8649,
    "start_time": "2021-07-28T11:13:08.314Z"
   },
   {
    "duration": 28,
    "start_time": "2021-07-28T11:13:16.966Z"
   },
   {
    "duration": 18,
    "start_time": "2021-07-28T11:13:16.997Z"
   },
   {
    "duration": 61,
    "start_time": "2021-07-28T11:13:17.017Z"
   },
   {
    "duration": 246,
    "start_time": "2021-07-28T11:13:17.080Z"
   },
   {
    "duration": 229,
    "start_time": "2021-07-28T11:13:17.329Z"
   },
   {
    "duration": 19,
    "start_time": "2021-07-28T11:13:17.560Z"
   },
   {
    "duration": 14,
    "start_time": "2021-07-28T11:13:17.581Z"
   },
   {
    "duration": 17,
    "start_time": "2021-07-28T11:13:17.597Z"
   },
   {
    "duration": 51,
    "start_time": "2021-07-28T11:13:17.616Z"
   },
   {
    "duration": 1028,
    "start_time": "2021-07-28T11:13:17.669Z"
   },
   {
    "duration": 1029,
    "start_time": "2021-07-28T11:13:18.699Z"
   },
   {
    "duration": 1192,
    "start_time": "2021-07-28T11:13:19.730Z"
   },
   {
    "duration": 408,
    "start_time": "2021-07-28T11:13:20.925Z"
   },
   {
    "duration": 321,
    "start_time": "2021-07-28T11:13:21.015Z"
   },
   {
    "duration": 317,
    "start_time": "2021-07-28T11:13:21.020Z"
   },
   {
    "duration": 26,
    "start_time": "2021-07-28T11:14:36.734Z"
   },
   {
    "duration": 4,
    "start_time": "2021-07-28T11:14:38.077Z"
   },
   {
    "duration": 17,
    "start_time": "2021-07-28T11:14:54.485Z"
   },
   {
    "duration": 1368,
    "start_time": "2021-07-28T11:15:56.371Z"
   },
   {
    "duration": 552,
    "start_time": "2021-07-28T11:15:57.742Z"
   },
   {
    "duration": 17,
    "start_time": "2021-07-28T11:15:58.297Z"
   },
   {
    "duration": 18,
    "start_time": "2021-07-28T11:15:58.316Z"
   },
   {
    "duration": 103,
    "start_time": "2021-07-28T11:15:58.336Z"
   },
   {
    "duration": 63,
    "start_time": "2021-07-28T11:15:58.441Z"
   },
   {
    "duration": 18,
    "start_time": "2021-07-28T11:15:58.506Z"
   },
   {
    "duration": 13,
    "start_time": "2021-07-28T11:15:58.528Z"
   },
   {
    "duration": 23,
    "start_time": "2021-07-28T11:15:58.568Z"
   },
   {
    "duration": 40,
    "start_time": "2021-07-28T11:15:58.593Z"
   },
   {
    "duration": 64,
    "start_time": "2021-07-28T11:15:58.636Z"
   },
   {
    "duration": 66,
    "start_time": "2021-07-28T11:15:58.703Z"
   },
   {
    "duration": 39,
    "start_time": "2021-07-28T11:15:58.771Z"
   },
   {
    "duration": 10,
    "start_time": "2021-07-28T11:15:58.812Z"
   },
   {
    "duration": 49,
    "start_time": "2021-07-28T11:15:58.824Z"
   },
   {
    "duration": 53,
    "start_time": "2021-07-28T11:15:58.875Z"
   },
   {
    "duration": 12,
    "start_time": "2021-07-28T11:15:58.930Z"
   },
   {
    "duration": 9,
    "start_time": "2021-07-28T11:15:58.967Z"
   },
   {
    "duration": 20,
    "start_time": "2021-07-28T11:15:58.978Z"
   },
   {
    "duration": 11,
    "start_time": "2021-07-28T11:15:59.001Z"
   },
   {
    "duration": 67,
    "start_time": "2021-07-28T11:15:59.014Z"
   },
   {
    "duration": 34,
    "start_time": "2021-07-28T11:15:59.083Z"
   },
   {
    "duration": 45,
    "start_time": "2021-07-28T11:15:59.123Z"
   },
   {
    "duration": 8,
    "start_time": "2021-07-28T11:15:59.171Z"
   },
   {
    "duration": 13,
    "start_time": "2021-07-28T11:15:59.182Z"
   },
   {
    "duration": 85,
    "start_time": "2021-07-28T11:15:59.197Z"
   },
   {
    "duration": 60,
    "start_time": "2021-07-28T11:15:59.284Z"
   },
   {
    "duration": 60,
    "start_time": "2021-07-28T11:15:59.346Z"
   },
   {
    "duration": 34,
    "start_time": "2021-07-28T11:15:59.409Z"
   },
   {
    "duration": 13,
    "start_time": "2021-07-28T11:15:59.467Z"
   },
   {
    "duration": 413,
    "start_time": "2021-07-28T11:15:59.483Z"
   },
   {
    "duration": 30,
    "start_time": "2021-07-28T11:15:59.899Z"
   },
   {
    "duration": 9,
    "start_time": "2021-07-28T11:15:59.931Z"
   },
   {
    "duration": 33,
    "start_time": "2021-07-28T11:15:59.942Z"
   },
   {
    "duration": 18,
    "start_time": "2021-07-28T11:15:59.977Z"
   },
   {
    "duration": 21,
    "start_time": "2021-07-28T11:15:59.998Z"
   },
   {
    "duration": 8499,
    "start_time": "2021-07-28T11:16:00.022Z"
   },
   {
    "duration": 8817,
    "start_time": "2021-07-28T11:16:08.523Z"
   },
   {
    "duration": 8198,
    "start_time": "2021-07-28T11:16:17.342Z"
   },
   {
    "duration": 38,
    "start_time": "2021-07-28T11:16:25.543Z"
   },
   {
    "duration": 18,
    "start_time": "2021-07-28T11:16:25.583Z"
   },
   {
    "duration": 32,
    "start_time": "2021-07-28T11:16:25.604Z"
   },
   {
    "duration": 261,
    "start_time": "2021-07-28T11:16:25.639Z"
   },
   {
    "duration": 231,
    "start_time": "2021-07-28T11:16:25.902Z"
   },
   {
    "duration": 32,
    "start_time": "2021-07-28T11:16:26.135Z"
   },
   {
    "duration": 15,
    "start_time": "2021-07-28T11:16:26.169Z"
   },
   {
    "duration": 18,
    "start_time": "2021-07-28T11:16:26.186Z"
   },
   {
    "duration": 16,
    "start_time": "2021-07-28T11:16:26.207Z"
   },
   {
    "duration": 1069,
    "start_time": "2021-07-28T11:16:26.226Z"
   },
   {
    "duration": 1032,
    "start_time": "2021-07-28T11:16:27.297Z"
   },
   {
    "duration": 1173,
    "start_time": "2021-07-28T11:16:28.332Z"
   },
   {
    "duration": 14,
    "start_time": "2021-07-28T11:16:29.508Z"
   },
   {
    "duration": 51,
    "start_time": "2021-07-28T11:16:29.525Z"
   },
   {
    "duration": 5,
    "start_time": "2021-07-28T11:16:29.579Z"
   },
   {
    "duration": 1017,
    "start_time": "2021-07-28T19:25:37.663Z"
   },
   {
    "duration": 420,
    "start_time": "2021-07-28T19:25:38.682Z"
   },
   {
    "duration": 11,
    "start_time": "2021-07-28T19:25:39.103Z"
   },
   {
    "duration": 9,
    "start_time": "2021-07-28T19:25:39.115Z"
   },
   {
    "duration": 56,
    "start_time": "2021-07-28T19:25:39.126Z"
   },
   {
    "duration": 40,
    "start_time": "2021-07-28T19:25:39.183Z"
   },
   {
    "duration": 24,
    "start_time": "2021-07-28T19:25:39.224Z"
   },
   {
    "duration": 7,
    "start_time": "2021-07-28T19:25:39.251Z"
   },
   {
    "duration": 20,
    "start_time": "2021-07-28T19:25:39.260Z"
   },
   {
    "duration": 25,
    "start_time": "2021-07-28T19:25:39.282Z"
   },
   {
    "duration": 52,
    "start_time": "2021-07-28T19:25:39.309Z"
   },
   {
    "duration": 37,
    "start_time": "2021-07-28T19:25:39.363Z"
   },
   {
    "duration": 40,
    "start_time": "2021-07-28T19:25:39.402Z"
   },
   {
    "duration": 7,
    "start_time": "2021-07-28T19:25:39.443Z"
   },
   {
    "duration": 18,
    "start_time": "2021-07-28T19:25:39.452Z"
   },
   {
    "duration": 36,
    "start_time": "2021-07-28T19:25:39.473Z"
   },
   {
    "duration": 31,
    "start_time": "2021-07-28T19:25:39.511Z"
   },
   {
    "duration": 7,
    "start_time": "2021-07-28T19:25:39.543Z"
   },
   {
    "duration": 13,
    "start_time": "2021-07-28T19:25:39.551Z"
   },
   {
    "duration": 7,
    "start_time": "2021-07-28T19:25:39.566Z"
   },
   {
    "duration": 33,
    "start_time": "2021-07-28T19:25:39.574Z"
   },
   {
    "duration": 19,
    "start_time": "2021-07-28T19:25:39.608Z"
   },
   {
    "duration": 20,
    "start_time": "2021-07-28T19:25:39.630Z"
   },
   {
    "duration": 18,
    "start_time": "2021-07-28T19:25:39.652Z"
   },
   {
    "duration": 13,
    "start_time": "2021-07-28T19:25:39.671Z"
   },
   {
    "duration": 35,
    "start_time": "2021-07-28T19:25:39.686Z"
   },
   {
    "duration": 53,
    "start_time": "2021-07-28T19:25:39.723Z"
   },
   {
    "duration": 28,
    "start_time": "2021-07-28T19:25:39.778Z"
   },
   {
    "duration": 44,
    "start_time": "2021-07-28T19:25:39.808Z"
   },
   {
    "duration": 8,
    "start_time": "2021-07-28T19:25:39.854Z"
   },
   {
    "duration": 215,
    "start_time": "2021-07-28T19:25:39.864Z"
   },
   {
    "duration": 17,
    "start_time": "2021-07-28T19:25:40.081Z"
   },
   {
    "duration": 5,
    "start_time": "2021-07-28T19:25:40.100Z"
   },
   {
    "duration": 34,
    "start_time": "2021-07-28T19:25:40.107Z"
   },
   {
    "duration": 5,
    "start_time": "2021-07-28T19:25:40.143Z"
   },
   {
    "duration": 19,
    "start_time": "2021-07-28T19:25:40.150Z"
   },
   {
    "duration": 4335,
    "start_time": "2021-07-28T19:25:40.170Z"
   },
   {
    "duration": 4375,
    "start_time": "2021-07-28T19:25:44.506Z"
   },
   {
    "duration": 4400,
    "start_time": "2021-07-28T19:25:48.883Z"
   },
   {
    "duration": 18,
    "start_time": "2021-07-28T19:25:53.285Z"
   },
   {
    "duration": 13,
    "start_time": "2021-07-28T19:25:53.305Z"
   },
   {
    "duration": 35,
    "start_time": "2021-07-28T19:25:53.320Z"
   },
   {
    "duration": 138,
    "start_time": "2021-07-28T19:25:53.357Z"
   },
   {
    "duration": 133,
    "start_time": "2021-07-28T19:25:53.497Z"
   },
   {
    "duration": 17,
    "start_time": "2021-07-28T19:25:53.632Z"
   },
   {
    "duration": 11,
    "start_time": "2021-07-28T19:25:53.650Z"
   },
   {
    "duration": 11,
    "start_time": "2021-07-28T19:25:53.663Z"
   },
   {
    "duration": 14,
    "start_time": "2021-07-28T19:25:53.676Z"
   },
   {
    "duration": 567,
    "start_time": "2021-07-28T19:25:53.692Z"
   },
   {
    "duration": 573,
    "start_time": "2021-07-28T19:25:54.261Z"
   },
   {
    "duration": 659,
    "start_time": "2021-07-28T19:25:54.836Z"
   },
   {
    "duration": 12,
    "start_time": "2021-07-28T19:25:55.497Z"
   },
   {
    "duration": 33,
    "start_time": "2021-07-28T19:25:55.511Z"
   },
   {
    "duration": 4,
    "start_time": "2021-07-28T19:25:55.546Z"
   },
   {
    "duration": 4,
    "start_time": "2021-07-28T19:34:57.275Z"
   },
   {
    "duration": 1012,
    "start_time": "2021-07-28T19:43:44.899Z"
   },
   {
    "duration": 389,
    "start_time": "2021-07-28T19:43:45.913Z"
   },
   {
    "duration": 10,
    "start_time": "2021-07-28T19:43:46.304Z"
   },
   {
    "duration": 17,
    "start_time": "2021-07-28T19:43:46.316Z"
   },
   {
    "duration": 65,
    "start_time": "2021-07-28T19:43:46.335Z"
   },
   {
    "duration": 40,
    "start_time": "2021-07-28T19:43:46.401Z"
   },
   {
    "duration": 11,
    "start_time": "2021-07-28T19:43:46.443Z"
   },
   {
    "duration": 7,
    "start_time": "2021-07-28T19:43:46.457Z"
   },
   {
    "duration": 16,
    "start_time": "2021-07-28T19:43:46.466Z"
   },
   {
    "duration": 24,
    "start_time": "2021-07-28T19:43:46.484Z"
   },
   {
    "duration": 54,
    "start_time": "2021-07-28T19:43:46.509Z"
   },
   {
    "duration": 35,
    "start_time": "2021-07-28T19:43:46.564Z"
   },
   {
    "duration": 26,
    "start_time": "2021-07-28T19:43:46.601Z"
   },
   {
    "duration": 7,
    "start_time": "2021-07-28T19:43:46.641Z"
   },
   {
    "duration": 16,
    "start_time": "2021-07-28T19:43:46.650Z"
   },
   {
    "duration": 37,
    "start_time": "2021-07-28T19:43:46.668Z"
   },
   {
    "duration": 35,
    "start_time": "2021-07-28T19:43:46.707Z"
   },
   {
    "duration": 7,
    "start_time": "2021-07-28T19:43:46.744Z"
   },
   {
    "duration": 13,
    "start_time": "2021-07-28T19:43:46.753Z"
   },
   {
    "duration": 7,
    "start_time": "2021-07-28T19:43:46.768Z"
   },
   {
    "duration": 19,
    "start_time": "2021-07-28T19:43:46.777Z"
   },
   {
    "duration": 57,
    "start_time": "2021-07-28T19:43:46.797Z"
   },
   {
    "duration": 11,
    "start_time": "2021-07-28T19:43:46.858Z"
   },
   {
    "duration": 7,
    "start_time": "2021-07-28T19:43:46.872Z"
   },
   {
    "duration": 8,
    "start_time": "2021-07-28T19:43:46.881Z"
   },
   {
    "duration": 71,
    "start_time": "2021-07-28T19:43:46.890Z"
   },
   {
    "duration": 41,
    "start_time": "2021-07-28T19:43:46.963Z"
   },
   {
    "duration": 42,
    "start_time": "2021-07-28T19:43:47.005Z"
   },
   {
    "duration": 22,
    "start_time": "2021-07-28T19:43:47.048Z"
   },
   {
    "duration": 7,
    "start_time": "2021-07-28T19:43:47.071Z"
   },
   {
    "duration": 12,
    "start_time": "2021-07-28T19:43:47.080Z"
   },
   {
    "duration": 219,
    "start_time": "2021-07-28T19:43:47.094Z"
   },
   {
    "duration": 29,
    "start_time": "2021-07-28T19:43:47.315Z"
   },
   {
    "duration": 7,
    "start_time": "2021-07-28T19:43:47.346Z"
   },
   {
    "duration": 15,
    "start_time": "2021-07-28T19:43:47.354Z"
   },
   {
    "duration": 11,
    "start_time": "2021-07-28T19:43:47.370Z"
   },
   {
    "duration": 27,
    "start_time": "2021-07-28T19:43:47.383Z"
   },
   {
    "duration": 4338,
    "start_time": "2021-07-28T19:43:47.411Z"
   },
   {
    "duration": 4408,
    "start_time": "2021-07-28T19:43:51.751Z"
   },
   {
    "duration": 4349,
    "start_time": "2021-07-28T19:43:56.161Z"
   },
   {
    "duration": 16,
    "start_time": "2021-07-28T19:44:00.512Z"
   },
   {
    "duration": 11,
    "start_time": "2021-07-28T19:44:00.541Z"
   },
   {
    "duration": 30,
    "start_time": "2021-07-28T19:44:00.554Z"
   },
   {
    "duration": 129,
    "start_time": "2021-07-28T19:44:00.585Z"
   },
   {
    "duration": 133,
    "start_time": "2021-07-28T19:44:00.716Z"
   },
   {
    "duration": 11,
    "start_time": "2021-07-28T19:44:00.851Z"
   },
   {
    "duration": 23,
    "start_time": "2021-07-28T19:44:00.863Z"
   },
   {
    "duration": 12,
    "start_time": "2021-07-28T19:44:00.888Z"
   },
   {
    "duration": 30,
    "start_time": "2021-07-28T19:44:00.902Z"
   },
   {
    "duration": 563,
    "start_time": "2021-07-28T19:44:00.933Z"
   },
   {
    "duration": 560,
    "start_time": "2021-07-28T19:44:01.497Z"
   },
   {
    "duration": 649,
    "start_time": "2021-07-28T19:44:02.059Z"
   },
   {
    "duration": 8,
    "start_time": "2021-07-28T19:44:02.710Z"
   },
   {
    "duration": 28,
    "start_time": "2021-07-28T19:44:02.719Z"
   },
   {
    "duration": 3,
    "start_time": "2021-07-28T19:44:02.749Z"
   },
   {
    "duration": -291,
    "start_time": "2021-07-28T19:44:19.603Z"
   },
   {
    "duration": -295,
    "start_time": "2021-07-28T19:44:19.608Z"
   },
   {
    "duration": -299,
    "start_time": "2021-07-28T19:44:19.613Z"
   },
   {
    "duration": -341,
    "start_time": "2021-07-28T19:44:19.656Z"
   },
   {
    "duration": -342,
    "start_time": "2021-07-28T19:44:19.658Z"
   },
   {
    "duration": -343,
    "start_time": "2021-07-28T19:44:19.660Z"
   },
   {
    "duration": -344,
    "start_time": "2021-07-28T19:44:19.662Z"
   },
   {
    "duration": -347,
    "start_time": "2021-07-28T19:44:19.665Z"
   },
   {
    "duration": -348,
    "start_time": "2021-07-28T19:44:19.667Z"
   },
   {
    "duration": -350,
    "start_time": "2021-07-28T19:44:19.670Z"
   },
   {
    "duration": -351,
    "start_time": "2021-07-28T19:44:19.672Z"
   },
   {
    "duration": -352,
    "start_time": "2021-07-28T19:44:19.674Z"
   },
   {
    "duration": -352,
    "start_time": "2021-07-28T19:44:19.675Z"
   },
   {
    "duration": -354,
    "start_time": "2021-07-28T19:44:19.678Z"
   },
   {
    "duration": -361,
    "start_time": "2021-07-28T19:44:19.685Z"
   },
   {
    "duration": -363,
    "start_time": "2021-07-28T19:44:19.688Z"
   },
   {
    "duration": -364,
    "start_time": "2021-07-28T19:44:19.690Z"
   },
   {
    "duration": -365,
    "start_time": "2021-07-28T19:44:19.692Z"
   },
   {
    "duration": -366,
    "start_time": "2021-07-28T19:44:19.694Z"
   },
   {
    "duration": -368,
    "start_time": "2021-07-28T19:44:19.697Z"
   },
   {
    "duration": -369,
    "start_time": "2021-07-28T19:44:19.699Z"
   },
   {
    "duration": -369,
    "start_time": "2021-07-28T19:44:19.700Z"
   },
   {
    "duration": -371,
    "start_time": "2021-07-28T19:44:19.703Z"
   },
   {
    "duration": -373,
    "start_time": "2021-07-28T19:44:19.706Z"
   },
   {
    "duration": -375,
    "start_time": "2021-07-28T19:44:19.709Z"
   },
   {
    "duration": -376,
    "start_time": "2021-07-28T19:44:19.710Z"
   },
   {
    "duration": -377,
    "start_time": "2021-07-28T19:44:19.712Z"
   },
   {
    "duration": -378,
    "start_time": "2021-07-28T19:44:19.714Z"
   },
   {
    "duration": -379,
    "start_time": "2021-07-28T19:44:19.716Z"
   },
   {
    "duration": -380,
    "start_time": "2021-07-28T19:44:19.718Z"
   },
   {
    "duration": -382,
    "start_time": "2021-07-28T19:44:19.721Z"
   },
   {
    "duration": -383,
    "start_time": "2021-07-28T19:44:19.723Z"
   },
   {
    "duration": -413,
    "start_time": "2021-07-28T19:44:19.754Z"
   },
   {
    "duration": -415,
    "start_time": "2021-07-28T19:44:19.757Z"
   },
   {
    "duration": -416,
    "start_time": "2021-07-28T19:44:19.759Z"
   },
   {
    "duration": -417,
    "start_time": "2021-07-28T19:44:19.761Z"
   },
   {
    "duration": -417,
    "start_time": "2021-07-28T19:44:19.762Z"
   },
   {
    "duration": -423,
    "start_time": "2021-07-28T19:44:19.769Z"
   },
   {
    "duration": -426,
    "start_time": "2021-07-28T19:44:19.772Z"
   },
   {
    "duration": -427,
    "start_time": "2021-07-28T19:44:19.774Z"
   },
   {
    "duration": -428,
    "start_time": "2021-07-28T19:44:19.776Z"
   },
   {
    "duration": -428,
    "start_time": "2021-07-28T19:44:19.778Z"
   },
   {
    "duration": -429,
    "start_time": "2021-07-28T19:44:19.780Z"
   },
   {
    "duration": -429,
    "start_time": "2021-07-28T19:44:19.782Z"
   },
   {
    "duration": -430,
    "start_time": "2021-07-28T19:44:19.784Z"
   },
   {
    "duration": -431,
    "start_time": "2021-07-28T19:44:19.786Z"
   },
   {
    "duration": -433,
    "start_time": "2021-07-28T19:44:19.789Z"
   },
   {
    "duration": -433,
    "start_time": "2021-07-28T19:44:19.791Z"
   },
   {
    "duration": -434,
    "start_time": "2021-07-28T19:44:19.793Z"
   },
   {
    "duration": -433,
    "start_time": "2021-07-28T19:44:19.794Z"
   },
   {
    "duration": -434,
    "start_time": "2021-07-28T19:44:19.796Z"
   },
   {
    "duration": -435,
    "start_time": "2021-07-28T19:44:19.798Z"
   },
   {
    "duration": -435,
    "start_time": "2021-07-28T19:44:19.800Z"
   },
   {
    "duration": -436,
    "start_time": "2021-07-28T19:44:19.802Z"
   },
   {
    "duration": -437,
    "start_time": "2021-07-28T19:44:19.804Z"
   },
   {
    "duration": -436,
    "start_time": "2021-07-28T19:44:19.805Z"
   },
   {
    "duration": 1052,
    "start_time": "2021-07-28T19:44:27.344Z"
   },
   {
    "duration": 390,
    "start_time": "2021-07-28T19:44:28.398Z"
   },
   {
    "duration": 11,
    "start_time": "2021-07-28T19:44:28.790Z"
   },
   {
    "duration": 9,
    "start_time": "2021-07-28T19:44:28.803Z"
   },
   {
    "duration": 96,
    "start_time": "2021-07-28T19:44:28.814Z"
   },
   {
    "duration": 41,
    "start_time": "2021-07-28T19:44:28.912Z"
   },
   {
    "duration": 13,
    "start_time": "2021-07-28T19:44:28.954Z"
   },
   {
    "duration": 8,
    "start_time": "2021-07-28T19:44:28.969Z"
   },
   {
    "duration": 16,
    "start_time": "2021-07-28T19:44:28.979Z"
   },
   {
    "duration": 45,
    "start_time": "2021-07-28T19:44:28.997Z"
   },
   {
    "duration": 29,
    "start_time": "2021-07-28T19:44:29.044Z"
   },
   {
    "duration": 37,
    "start_time": "2021-07-28T19:44:29.075Z"
   },
   {
    "duration": 42,
    "start_time": "2021-07-28T19:44:29.113Z"
   },
   {
    "duration": 6,
    "start_time": "2021-07-28T19:44:29.157Z"
   },
   {
    "duration": 16,
    "start_time": "2021-07-28T19:44:29.165Z"
   },
   {
    "duration": 35,
    "start_time": "2021-07-28T19:44:29.183Z"
   },
   {
    "duration": 28,
    "start_time": "2021-07-28T19:44:29.219Z"
   },
   {
    "duration": 8,
    "start_time": "2021-07-28T19:44:29.249Z"
   },
   {
    "duration": 14,
    "start_time": "2021-07-28T19:44:29.258Z"
   },
   {
    "duration": 8,
    "start_time": "2021-07-28T19:44:29.273Z"
   },
   {
    "duration": 18,
    "start_time": "2021-07-28T19:44:29.283Z"
   },
   {
    "duration": 49,
    "start_time": "2021-07-28T19:44:29.303Z"
   },
   {
    "duration": 12,
    "start_time": "2021-07-28T19:44:29.356Z"
   },
   {
    "duration": 8,
    "start_time": "2021-07-28T19:44:29.370Z"
   },
   {
    "duration": 9,
    "start_time": "2021-07-28T19:44:29.380Z"
   },
   {
    "duration": 72,
    "start_time": "2021-07-28T19:44:29.391Z"
   },
   {
    "duration": 43,
    "start_time": "2021-07-28T19:44:29.465Z"
   },
   {
    "duration": 46,
    "start_time": "2021-07-28T19:44:29.510Z"
   },
   {
    "duration": 23,
    "start_time": "2021-07-28T19:44:29.558Z"
   },
   {
    "duration": 9,
    "start_time": "2021-07-28T19:44:29.583Z"
   },
   {
    "duration": 21,
    "start_time": "2021-07-28T19:44:29.594Z"
   },
   {
    "duration": 32,
    "start_time": "2021-07-28T19:44:29.617Z"
   },
   {
    "duration": 207,
    "start_time": "2021-07-28T19:44:29.651Z"
   },
   {
    "duration": 18,
    "start_time": "2021-07-28T19:44:29.860Z"
   },
   {
    "duration": 7,
    "start_time": "2021-07-28T19:44:29.880Z"
   },
   {
    "duration": 10,
    "start_time": "2021-07-28T19:44:29.889Z"
   },
   {
    "duration": 13,
    "start_time": "2021-07-28T19:44:29.901Z"
   },
   {
    "duration": 29,
    "start_time": "2021-07-28T19:44:29.916Z"
   },
   {
    "duration": 4333,
    "start_time": "2021-07-28T19:44:29.947Z"
   },
   {
    "duration": 4273,
    "start_time": "2021-07-28T19:44:34.282Z"
   },
   {
    "duration": 4154,
    "start_time": "2021-07-28T19:44:38.557Z"
   },
   {
    "duration": 17,
    "start_time": "2021-07-28T19:44:42.713Z"
   },
   {
    "duration": 11,
    "start_time": "2021-07-28T19:44:42.741Z"
   },
   {
    "duration": 18,
    "start_time": "2021-07-28T19:44:42.754Z"
   },
   {
    "duration": 158,
    "start_time": "2021-07-28T19:44:42.774Z"
   },
   {
    "duration": 134,
    "start_time": "2021-07-28T19:44:42.933Z"
   },
   {
    "duration": 11,
    "start_time": "2021-07-28T19:44:43.068Z"
   },
   {
    "duration": 10,
    "start_time": "2021-07-28T19:44:43.081Z"
   },
   {
    "duration": 19,
    "start_time": "2021-07-28T19:44:43.093Z"
   },
   {
    "duration": 16,
    "start_time": "2021-07-28T19:44:43.113Z"
   },
   {
    "duration": 564,
    "start_time": "2021-07-28T19:44:43.130Z"
   },
   {
    "duration": 560,
    "start_time": "2021-07-28T19:44:43.695Z"
   },
   {
    "duration": 665,
    "start_time": "2021-07-28T19:44:44.257Z"
   },
   {
    "duration": 18,
    "start_time": "2021-07-28T19:44:44.924Z"
   },
   {
    "duration": 24,
    "start_time": "2021-07-28T19:44:44.944Z"
   },
   {
    "duration": 2,
    "start_time": "2021-07-28T19:44:44.970Z"
   },
   {
    "duration": 318,
    "start_time": "2021-07-28T19:45:43.220Z"
   },
   {
    "duration": 22,
    "start_time": "2021-07-28T19:46:10.365Z"
   },
   {
    "duration": 234,
    "start_time": "2021-07-29T06:12:16.935Z"
   },
   {
    "duration": 943,
    "start_time": "2021-07-29T06:12:20.719Z"
   },
   {
    "duration": 386,
    "start_time": "2021-07-29T06:12:21.664Z"
   },
   {
    "duration": 11,
    "start_time": "2021-07-29T06:12:22.052Z"
   },
   {
    "duration": 20,
    "start_time": "2021-07-29T06:12:22.065Z"
   },
   {
    "duration": 56,
    "start_time": "2021-07-29T06:12:22.087Z"
   },
   {
    "duration": 56,
    "start_time": "2021-07-29T06:12:22.144Z"
   },
   {
    "duration": 12,
    "start_time": "2021-07-29T06:12:22.201Z"
   },
   {
    "duration": 7,
    "start_time": "2021-07-29T06:12:22.215Z"
   },
   {
    "duration": 15,
    "start_time": "2021-07-29T06:12:22.225Z"
   },
   {
    "duration": 48,
    "start_time": "2021-07-29T06:12:22.242Z"
   },
   {
    "duration": 27,
    "start_time": "2021-07-29T06:12:22.292Z"
   },
   {
    "duration": 34,
    "start_time": "2021-07-29T06:12:22.320Z"
   },
   {
    "duration": 43,
    "start_time": "2021-07-29T06:12:22.356Z"
   },
   {
    "duration": 6,
    "start_time": "2021-07-29T06:12:22.401Z"
   },
   {
    "duration": 13,
    "start_time": "2021-07-29T06:12:22.409Z"
   },
   {
    "duration": 35,
    "start_time": "2021-07-29T06:12:22.424Z"
   },
   {
    "duration": 27,
    "start_time": "2021-07-29T06:12:22.461Z"
   },
   {
    "duration": 8,
    "start_time": "2021-07-29T06:12:22.489Z"
   },
   {
    "duration": 13,
    "start_time": "2021-07-29T06:12:22.498Z"
   },
   {
    "duration": 6,
    "start_time": "2021-07-29T06:12:22.513Z"
   },
   {
    "duration": 19,
    "start_time": "2021-07-29T06:12:22.521Z"
   },
   {
    "duration": 55,
    "start_time": "2021-07-29T06:12:22.541Z"
   },
   {
    "duration": 11,
    "start_time": "2021-07-29T06:12:22.598Z"
   },
   {
    "duration": 6,
    "start_time": "2021-07-29T06:12:22.610Z"
   },
   {
    "duration": 8,
    "start_time": "2021-07-29T06:12:22.617Z"
   },
   {
    "duration": 66,
    "start_time": "2021-07-29T06:12:22.626Z"
   },
   {
    "duration": 42,
    "start_time": "2021-07-29T06:12:22.696Z"
   },
   {
    "duration": 46,
    "start_time": "2021-07-29T06:12:22.740Z"
   },
   {
    "duration": 22,
    "start_time": "2021-07-29T06:12:22.788Z"
   },
   {
    "duration": 8,
    "start_time": "2021-07-29T06:12:22.812Z"
   },
   {
    "duration": 212,
    "start_time": "2021-07-29T06:12:22.822Z"
   },
   {
    "duration": 16,
    "start_time": "2021-07-29T06:12:23.036Z"
   },
   {
    "duration": 5,
    "start_time": "2021-07-29T06:12:23.053Z"
   },
   {
    "duration": 29,
    "start_time": "2021-07-29T06:12:23.060Z"
   },
   {
    "duration": 5,
    "start_time": "2021-07-29T06:12:23.090Z"
   },
   {
    "duration": 11,
    "start_time": "2021-07-29T06:12:23.096Z"
   },
   {
    "duration": 4428,
    "start_time": "2021-07-29T06:12:23.109Z"
   },
   {
    "duration": 4204,
    "start_time": "2021-07-29T06:12:27.539Z"
   },
   {
    "duration": 4211,
    "start_time": "2021-07-29T06:12:31.745Z"
   },
   {
    "duration": 30,
    "start_time": "2021-07-29T06:12:35.958Z"
   },
   {
    "duration": 14,
    "start_time": "2021-07-29T06:12:35.990Z"
   },
   {
    "duration": 23,
    "start_time": "2021-07-29T06:12:36.006Z"
   },
   {
    "duration": 157,
    "start_time": "2021-07-29T06:12:36.031Z"
   },
   {
    "duration": 142,
    "start_time": "2021-07-29T06:12:36.190Z"
   },
   {
    "duration": 12,
    "start_time": "2021-07-29T06:12:36.334Z"
   },
   {
    "duration": 10,
    "start_time": "2021-07-29T06:12:36.347Z"
   },
   {
    "duration": 33,
    "start_time": "2021-07-29T06:12:36.359Z"
   },
   {
    "duration": 9,
    "start_time": "2021-07-29T06:12:36.394Z"
   },
   {
    "duration": 589,
    "start_time": "2021-07-29T06:12:36.404Z"
   },
   {
    "duration": 593,
    "start_time": "2021-07-29T06:12:36.994Z"
   },
   {
    "duration": 699,
    "start_time": "2021-07-29T06:12:37.589Z"
   },
   {
    "duration": 10,
    "start_time": "2021-07-29T06:12:38.290Z"
   },
   {
    "duration": 17,
    "start_time": "2021-07-29T06:12:38.302Z"
   },
   {
    "duration": 3,
    "start_time": "2021-07-29T06:12:38.321Z"
   },
   {
    "duration": 1463,
    "start_time": "2021-07-30T05:20:37.898Z"
   },
   {
    "duration": 5,
    "start_time": "2021-07-30T05:20:44.556Z"
   },
   {
    "duration": 560,
    "start_time": "2021-07-30T05:20:44.563Z"
   },
   {
    "duration": 16,
    "start_time": "2021-07-30T05:20:45.126Z"
   },
   {
    "duration": 46,
    "start_time": "2021-07-30T05:20:45.145Z"
   },
   {
    "duration": 95,
    "start_time": "2021-07-30T05:20:45.195Z"
   },
   {
    "duration": 56,
    "start_time": "2021-07-30T05:20:45.293Z"
   },
   {
    "duration": 43,
    "start_time": "2021-07-30T05:20:45.351Z"
   },
   {
    "duration": 12,
    "start_time": "2021-07-30T05:20:45.396Z"
   },
   {
    "duration": 29,
    "start_time": "2021-07-30T05:20:45.412Z"
   },
   {
    "duration": 72,
    "start_time": "2021-07-30T05:20:45.444Z"
   },
   {
    "duration": 40,
    "start_time": "2021-07-30T05:20:45.518Z"
   },
   {
    "duration": 74,
    "start_time": "2021-07-30T05:20:45.561Z"
   },
   {
    "duration": 53,
    "start_time": "2021-07-30T05:20:45.638Z"
   },
   {
    "duration": 10,
    "start_time": "2021-07-30T05:20:45.694Z"
   },
   {
    "duration": 20,
    "start_time": "2021-07-30T05:20:45.707Z"
   },
   {
    "duration": 85,
    "start_time": "2021-07-30T05:20:45.729Z"
   },
   {
    "duration": 11,
    "start_time": "2021-07-30T05:20:45.817Z"
   },
   {
    "duration": 12,
    "start_time": "2021-07-30T05:20:45.831Z"
   },
   {
    "duration": 44,
    "start_time": "2021-07-30T05:20:45.846Z"
   },
   {
    "duration": 15,
    "start_time": "2021-07-30T05:20:45.892Z"
   },
   {
    "duration": 32,
    "start_time": "2021-07-30T05:20:45.910Z"
   },
   {
    "duration": 57,
    "start_time": "2021-07-30T05:20:45.945Z"
   },
   {
    "duration": 16,
    "start_time": "2021-07-30T05:20:46.005Z"
   },
   {
    "duration": 13,
    "start_time": "2021-07-30T05:20:46.024Z"
   },
   {
    "duration": 48,
    "start_time": "2021-07-30T05:20:46.040Z"
   },
   {
    "duration": 55,
    "start_time": "2021-07-30T05:20:46.090Z"
   },
   {
    "duration": 91,
    "start_time": "2021-07-30T05:20:46.150Z"
   },
   {
    "duration": 60,
    "start_time": "2021-07-30T05:20:46.244Z"
   },
   {
    "duration": 45,
    "start_time": "2021-07-30T05:20:46.307Z"
   },
   {
    "duration": 33,
    "start_time": "2021-07-30T05:20:46.355Z"
   },
   {
    "duration": 402,
    "start_time": "2021-07-30T05:20:46.391Z"
   },
   {
    "duration": 27,
    "start_time": "2021-07-30T05:20:46.795Z"
   },
   {
    "duration": 8,
    "start_time": "2021-07-30T05:20:46.825Z"
   },
   {
    "duration": 19,
    "start_time": "2021-07-30T05:20:46.835Z"
   },
   {
    "duration": 9,
    "start_time": "2021-07-30T05:20:46.885Z"
   },
   {
    "duration": 21,
    "start_time": "2021-07-30T05:20:46.896Z"
   },
   {
    "duration": 8475,
    "start_time": "2021-07-30T05:20:46.919Z"
   },
   {
    "duration": 9335,
    "start_time": "2021-07-30T05:20:55.397Z"
   },
   {
    "duration": 8666,
    "start_time": "2021-07-30T05:21:04.736Z"
   },
   {
    "duration": 25,
    "start_time": "2021-07-30T05:21:13.405Z"
   },
   {
    "duration": 33,
    "start_time": "2021-07-30T05:21:13.433Z"
   },
   {
    "duration": 77,
    "start_time": "2021-07-30T05:21:13.487Z"
   },
   {
    "duration": 257,
    "start_time": "2021-07-30T05:21:13.567Z"
   },
   {
    "duration": 242,
    "start_time": "2021-07-30T05:21:13.827Z"
   },
   {
    "duration": 23,
    "start_time": "2021-07-30T05:21:14.072Z"
   },
   {
    "duration": 13,
    "start_time": "2021-07-30T05:21:14.098Z"
   },
   {
    "duration": 24,
    "start_time": "2021-07-30T05:21:14.114Z"
   },
   {
    "duration": 46,
    "start_time": "2021-07-30T05:21:14.141Z"
   },
   {
    "duration": 1059,
    "start_time": "2021-07-30T05:21:14.190Z"
   },
   {
    "duration": 1081,
    "start_time": "2021-07-30T05:21:15.251Z"
   },
   {
    "duration": 1223,
    "start_time": "2021-07-30T05:21:16.335Z"
   },
   {
    "duration": 31,
    "start_time": "2021-07-30T05:21:17.561Z"
   },
   {
    "duration": 41,
    "start_time": "2021-07-30T05:21:17.595Z"
   },
   {
    "duration": 6,
    "start_time": "2021-07-30T05:21:17.639Z"
   },
   {
    "duration": 60,
    "start_time": "2021-07-30T05:22:12.571Z"
   },
   {
    "duration": 37,
    "start_time": "2021-07-30T05:22:42.437Z"
   },
   {
    "duration": 27,
    "start_time": "2021-07-30T05:25:19.522Z"
   },
   {
    "duration": 38,
    "start_time": "2021-07-30T05:25:32.168Z"
   },
   {
    "duration": 7,
    "start_time": "2021-07-30T05:33:21.264Z"
   },
   {
    "duration": 14,
    "start_time": "2021-07-30T05:33:52.296Z"
   },
   {
    "duration": 14,
    "start_time": "2021-07-30T05:34:33.123Z"
   },
   {
    "duration": 14,
    "start_time": "2021-07-30T05:41:51.458Z"
   },
   {
    "duration": 575,
    "start_time": "2021-07-30T05:48:30.316Z"
   },
   {
    "duration": 9,
    "start_time": "2021-07-30T05:48:40.288Z"
   },
   {
    "duration": 436,
    "start_time": "2021-07-30T05:48:42.627Z"
   },
   {
    "duration": 6,
    "start_time": "2021-07-30T05:49:06.728Z"
   },
   {
    "duration": 9,
    "start_time": "2021-07-30T05:49:27.575Z"
   },
   {
    "duration": 14,
    "start_time": "2021-07-30T05:49:46.288Z"
   },
   {
    "duration": 419,
    "start_time": "2021-07-30T05:57:14.810Z"
   },
   {
    "duration": 59,
    "start_time": "2021-07-30T05:57:36.282Z"
   },
   {
    "duration": 404,
    "start_time": "2021-07-30T05:58:02.806Z"
   },
   {
    "duration": 56,
    "start_time": "2021-07-30T05:58:11.217Z"
   },
   {
    "duration": 60,
    "start_time": "2021-07-30T05:58:14.790Z"
   },
   {
    "duration": 58,
    "start_time": "2021-07-30T05:59:50.866Z"
   },
   {
    "duration": 415,
    "start_time": "2021-07-30T06:01:11.927Z"
   },
   {
    "duration": 85,
    "start_time": "2021-07-30T06:01:42.693Z"
   },
   {
    "duration": 416,
    "start_time": "2021-07-30T06:03:54.321Z"
   },
   {
    "duration": 26,
    "start_time": "2021-07-30T06:04:11.725Z"
   },
   {
    "duration": 22,
    "start_time": "2021-07-30T06:09:41.836Z"
   },
   {
    "duration": 38,
    "start_time": "2021-07-30T06:10:04.856Z"
   },
   {
    "duration": 14,
    "start_time": "2021-07-30T06:10:28.204Z"
   },
   {
    "duration": 14,
    "start_time": "2021-07-30T06:10:36.261Z"
   },
   {
    "duration": 28,
    "start_time": "2021-07-30T06:10:47.081Z"
   },
   {
    "duration": 401,
    "start_time": "2021-07-30T06:11:43.275Z"
   },
   {
    "duration": 399,
    "start_time": "2021-07-30T06:11:50.217Z"
   },
   {
    "duration": 29,
    "start_time": "2021-07-30T06:12:05.774Z"
   },
   {
    "duration": 34,
    "start_time": "2021-07-30T06:12:36.297Z"
   },
   {
    "duration": 16,
    "start_time": "2021-07-30T06:28:51.401Z"
   },
   {
    "duration": 5,
    "start_time": "2021-07-30T06:29:14.258Z"
   },
   {
    "duration": 544,
    "start_time": "2021-07-30T06:29:14.266Z"
   },
   {
    "duration": 12,
    "start_time": "2021-07-30T06:29:14.813Z"
   },
   {
    "duration": 32,
    "start_time": "2021-07-30T06:29:14.827Z"
   },
   {
    "duration": 89,
    "start_time": "2021-07-30T06:29:14.862Z"
   },
   {
    "duration": 64,
    "start_time": "2021-07-30T06:29:14.954Z"
   },
   {
    "duration": 18,
    "start_time": "2021-07-30T06:29:15.020Z"
   },
   {
    "duration": 12,
    "start_time": "2021-07-30T06:29:15.040Z"
   },
   {
    "duration": 52,
    "start_time": "2021-07-30T06:29:15.056Z"
   },
   {
    "duration": 40,
    "start_time": "2021-07-30T06:29:15.111Z"
   },
   {
    "duration": 64,
    "start_time": "2021-07-30T06:29:15.155Z"
   },
   {
    "duration": 67,
    "start_time": "2021-07-30T06:29:15.221Z"
   },
   {
    "duration": 38,
    "start_time": "2021-07-30T06:29:15.290Z"
   },
   {
    "duration": 9,
    "start_time": "2021-07-30T06:29:15.331Z"
   },
   {
    "duration": 51,
    "start_time": "2021-07-30T06:29:15.343Z"
   },
   {
    "duration": 53,
    "start_time": "2021-07-30T06:29:15.396Z"
   },
   {
    "duration": 35,
    "start_time": "2021-07-30T06:29:15.452Z"
   },
   {
    "duration": 11,
    "start_time": "2021-07-30T06:29:15.490Z"
   },
   {
    "duration": 21,
    "start_time": "2021-07-30T06:29:15.503Z"
   },
   {
    "duration": 11,
    "start_time": "2021-07-30T06:29:15.526Z"
   },
   {
    "duration": 69,
    "start_time": "2021-07-30T06:29:15.540Z"
   },
   {
    "duration": 14,
    "start_time": "2021-07-30T06:29:15.612Z"
   },
   {
    "duration": 15,
    "start_time": "2021-07-30T06:29:15.629Z"
   },
   {
    "duration": 40,
    "start_time": "2021-07-30T06:29:15.646Z"
   },
   {
    "duration": 15,
    "start_time": "2021-07-30T06:29:15.689Z"
   },
   {
    "duration": 78,
    "start_time": "2021-07-30T06:29:15.707Z"
   },
   {
    "duration": 58,
    "start_time": "2021-07-30T06:29:15.791Z"
   },
   {
    "duration": 68,
    "start_time": "2021-07-30T06:29:15.853Z"
   },
   {
    "duration": 31,
    "start_time": "2021-07-30T06:29:15.924Z"
   },
   {
    "duration": 34,
    "start_time": "2021-07-30T06:29:15.958Z"
   },
   {
    "duration": 34,
    "start_time": "2021-07-30T06:29:15.996Z"
   },
   {
    "duration": 68,
    "start_time": "2021-07-30T06:29:16.033Z"
   },
   {
    "duration": 9,
    "start_time": "2021-07-30T06:29:16.104Z"
   },
   {
    "duration": 13,
    "start_time": "2021-07-30T06:29:16.115Z"
   },
   {
    "duration": 10,
    "start_time": "2021-07-30T06:29:16.130Z"
   },
   {
    "duration": 46,
    "start_time": "2021-07-30T06:29:16.142Z"
   },
   {
    "duration": 13632,
    "start_time": "2021-07-30T06:29:16.191Z"
   },
   {
    "duration": -321,
    "start_time": "2021-07-30T06:29:30.147Z"
   },
   {
    "duration": -329,
    "start_time": "2021-07-30T06:29:30.156Z"
   },
   {
    "duration": -334,
    "start_time": "2021-07-30T06:29:30.162Z"
   },
   {
    "duration": -340,
    "start_time": "2021-07-30T06:29:30.170Z"
   },
   {
    "duration": -342,
    "start_time": "2021-07-30T06:29:30.173Z"
   },
   {
    "duration": -351,
    "start_time": "2021-07-30T06:29:30.184Z"
   },
   {
    "duration": -522,
    "start_time": "2021-07-30T06:29:30.356Z"
   },
   {
    "duration": -549,
    "start_time": "2021-07-30T06:29:30.385Z"
   },
   {
    "duration": -567,
    "start_time": "2021-07-30T06:29:30.405Z"
   },
   {
    "duration": -596,
    "start_time": "2021-07-30T06:29:30.435Z"
   },
   {
    "duration": -614,
    "start_time": "2021-07-30T06:29:30.455Z"
   },
   {
    "duration": -648,
    "start_time": "2021-07-30T06:29:30.490Z"
   },
   {
    "duration": -679,
    "start_time": "2021-07-30T06:29:30.523Z"
   },
   {
    "duration": -707,
    "start_time": "2021-07-30T06:29:30.553Z"
   },
   {
    "duration": -717,
    "start_time": "2021-07-30T06:29:30.564Z"
   },
   {
    "duration": -723,
    "start_time": "2021-07-30T06:29:30.572Z"
   },
   {
    "duration": -734,
    "start_time": "2021-07-30T06:29:30.584Z"
   },
   {
    "duration": 5,
    "start_time": "2021-07-30T06:30:36.202Z"
   },
   {
    "duration": 540,
    "start_time": "2021-07-30T06:30:36.209Z"
   },
   {
    "duration": 11,
    "start_time": "2021-07-30T06:30:36.752Z"
   },
   {
    "duration": 31,
    "start_time": "2021-07-30T06:30:36.766Z"
   },
   {
    "duration": 88,
    "start_time": "2021-07-30T06:30:36.799Z"
   },
   {
    "duration": 50,
    "start_time": "2021-07-30T06:30:36.890Z"
   },
   {
    "duration": 17,
    "start_time": "2021-07-30T06:30:36.942Z"
   },
   {
    "duration": 13,
    "start_time": "2021-07-30T06:30:36.986Z"
   },
   {
    "duration": 26,
    "start_time": "2021-07-30T06:30:37.003Z"
   },
   {
    "duration": 67,
    "start_time": "2021-07-30T06:30:37.032Z"
   },
   {
    "duration": 36,
    "start_time": "2021-07-30T06:30:37.102Z"
   },
   {
    "duration": 66,
    "start_time": "2021-07-30T06:30:37.140Z"
   },
   {
    "duration": 36,
    "start_time": "2021-07-30T06:30:37.208Z"
   },
   {
    "duration": 9,
    "start_time": "2021-07-30T06:30:37.247Z"
   },
   {
    "duration": 19,
    "start_time": "2021-07-30T06:30:37.286Z"
   },
   {
    "duration": 51,
    "start_time": "2021-07-30T06:30:37.308Z"
   },
   {
    "duration": 33,
    "start_time": "2021-07-30T06:30:37.362Z"
   },
   {
    "duration": 14,
    "start_time": "2021-07-30T06:30:37.397Z"
   },
   {
    "duration": 29,
    "start_time": "2021-07-30T06:30:37.413Z"
   },
   {
    "duration": 10,
    "start_time": "2021-07-30T06:30:37.444Z"
   },
   {
    "duration": 50,
    "start_time": "2021-07-30T06:30:37.457Z"
   },
   {
    "duration": 14,
    "start_time": "2021-07-30T06:30:37.509Z"
   },
   {
    "duration": 20,
    "start_time": "2021-07-30T06:30:37.526Z"
   },
   {
    "duration": 41,
    "start_time": "2021-07-30T06:30:37.549Z"
   },
   {
    "duration": 11,
    "start_time": "2021-07-30T06:30:37.592Z"
   },
   {
    "duration": 54,
    "start_time": "2021-07-30T06:30:37.606Z"
   },
   {
    "duration": 62,
    "start_time": "2021-07-30T06:30:37.687Z"
   },
   {
    "duration": 64,
    "start_time": "2021-07-30T06:30:37.753Z"
   },
   {
    "duration": 35,
    "start_time": "2021-07-30T06:30:37.819Z"
   },
   {
    "duration": 38,
    "start_time": "2021-07-30T06:30:37.857Z"
   },
   {
    "duration": 32,
    "start_time": "2021-07-30T06:30:37.898Z"
   },
   {
    "duration": 55,
    "start_time": "2021-07-30T06:30:37.932Z"
   },
   {
    "duration": 11,
    "start_time": "2021-07-30T06:30:37.990Z"
   },
   {
    "duration": 12,
    "start_time": "2021-07-30T06:30:38.003Z"
   },
   {
    "duration": 13,
    "start_time": "2021-07-30T06:30:38.018Z"
   },
   {
    "duration": 56,
    "start_time": "2021-07-30T06:30:38.034Z"
   },
   {
    "duration": 9096,
    "start_time": "2021-07-30T06:30:38.092Z"
   },
   {
    "duration": 8532,
    "start_time": "2021-07-30T06:30:47.192Z"
   },
   {
    "duration": 8403,
    "start_time": "2021-07-30T06:30:55.726Z"
   },
   {
    "duration": 24,
    "start_time": "2021-07-30T06:31:04.132Z"
   },
   {
    "duration": 50,
    "start_time": "2021-07-30T06:31:04.159Z"
   },
   {
    "duration": 31,
    "start_time": "2021-07-30T06:31:04.212Z"
   },
   {
    "duration": 261,
    "start_time": "2021-07-30T06:31:04.245Z"
   },
   {
    "duration": 229,
    "start_time": "2021-07-30T06:31:04.509Z"
   },
   {
    "duration": 18,
    "start_time": "2021-07-30T06:31:04.741Z"
   },
   {
    "duration": 30,
    "start_time": "2021-07-30T06:31:04.762Z"
   },
   {
    "duration": 28,
    "start_time": "2021-07-30T06:31:04.794Z"
   },
   {
    "duration": 16,
    "start_time": "2021-07-30T06:31:04.824Z"
   },
   {
    "duration": 1117,
    "start_time": "2021-07-30T06:31:04.842Z"
   },
   {
    "duration": 1028,
    "start_time": "2021-07-30T06:31:05.962Z"
   },
   {
    "duration": 1179,
    "start_time": "2021-07-30T06:31:06.992Z"
   },
   {
    "duration": 19,
    "start_time": "2021-07-30T06:31:08.173Z"
   },
   {
    "duration": 31,
    "start_time": "2021-07-30T06:31:08.195Z"
   },
   {
    "duration": 5,
    "start_time": "2021-07-30T06:31:08.228Z"
   },
   {
    "duration": 537,
    "start_time": "2021-07-30T06:43:15.991Z"
   },
   {
    "duration": 716,
    "start_time": "2021-07-30T06:44:44.282Z"
   },
   {
    "duration": 412,
    "start_time": "2021-07-30T06:45:17.866Z"
   },
   {
    "duration": 17609,
    "start_time": "2021-07-30T06:45:36.722Z"
   },
   {
    "duration": 410,
    "start_time": "2021-07-30T06:46:43.412Z"
   },
   {
    "duration": 10483,
    "start_time": "2021-07-30T06:47:04.849Z"
   },
   {
    "duration": 22,
    "start_time": "2021-07-30T06:47:46.948Z"
   },
   {
    "duration": 10052,
    "start_time": "2021-07-30T06:49:31.682Z"
   },
   {
    "duration": 82,
    "start_time": "2021-07-30T06:54:38.986Z"
   },
   {
    "duration": 10379,
    "start_time": "2021-07-30T06:56:00.735Z"
   },
   {
    "duration": 1924,
    "start_time": "2021-07-30T06:56:47.745Z"
   },
   {
    "duration": 56,
    "start_time": "2021-07-30T06:57:45.893Z"
   },
   {
    "duration": 134,
    "start_time": "2021-07-30T06:58:15.453Z"
   },
   {
    "duration": 3023,
    "start_time": "2021-07-30T06:58:25.018Z"
   },
   {
    "duration": 2587,
    "start_time": "2021-07-30T07:21:47.011Z"
   },
   {
    "duration": 2655,
    "start_time": "2021-07-30T07:22:04.680Z"
   },
   {
    "duration": 1864,
    "start_time": "2021-07-30T07:46:44.131Z"
   },
   {
    "duration": 307,
    "start_time": "2021-07-30T07:46:56.348Z"
   },
   {
    "duration": 12,
    "start_time": "2021-07-30T07:47:05.422Z"
   },
   {
    "duration": 423,
    "start_time": "2021-07-30T07:51:43.877Z"
   },
   {
    "duration": 408,
    "start_time": "2021-07-30T07:51:59.554Z"
   },
   {
    "duration": 427,
    "start_time": "2021-07-30T07:52:25.702Z"
   },
   {
    "duration": 12,
    "start_time": "2021-07-30T07:52:33.443Z"
   },
   {
    "duration": 415,
    "start_time": "2021-07-30T07:52:56.711Z"
   },
   {
    "duration": 13,
    "start_time": "2021-07-30T07:53:35.299Z"
   },
   {
    "duration": 4,
    "start_time": "2021-07-30T08:02:32.232Z"
   },
   {
    "duration": 14,
    "start_time": "2021-07-30T08:02:43.836Z"
   },
   {
    "duration": 401,
    "start_time": "2021-07-30T10:01:28.779Z"
   },
   {
    "duration": 445,
    "start_time": "2021-07-30T10:01:38.037Z"
   },
   {
    "duration": 608,
    "start_time": "2021-07-30T10:02:03.749Z"
   },
   {
    "duration": 227,
    "start_time": "2021-07-30T10:02:14.825Z"
   },
   {
    "duration": 1534,
    "start_time": "2021-07-30T10:04:03.470Z"
   },
   {
    "duration": 453,
    "start_time": "2021-07-30T10:04:20.417Z"
   },
   {
    "duration": 717,
    "start_time": "2021-07-30T10:07:48.331Z"
   },
   {
    "duration": 142,
    "start_time": "2021-07-30T10:11:23.204Z"
   },
   {
    "duration": 130,
    "start_time": "2021-07-30T10:11:31.466Z"
   }
  ],
  "kernelspec": {
   "display_name": "Python 3",
   "language": "python",
   "name": "python3"
  },
  "language_info": {
   "codemirror_mode": {
    "name": "ipython",
    "version": 3
   },
   "file_extension": ".py",
   "mimetype": "text/x-python",
   "name": "python",
   "nbconvert_exporter": "python",
   "pygments_lexer": "ipython3",
   "version": "3.8.8"
  },
  "toc": {
   "base_numbering": 1,
   "nav_menu": {},
   "number_sections": true,
   "sideBar": true,
   "skip_h1_title": true,
   "title_cell": "Table of Contents",
   "title_sidebar": "Contents",
   "toc_cell": false,
   "toc_position": {
    "height": "calc(100% - 180px)",
    "left": "10px",
    "top": "150px",
    "width": "216.389px"
   },
   "toc_section_display": true,
   "toc_window_display": true
  }
 },
 "nbformat": 4,
 "nbformat_minor": 2
}
