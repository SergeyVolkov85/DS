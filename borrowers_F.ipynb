{
 "cells": [
  {
   "cell_type": "markdown",
   "metadata": {},
   "source": [
    "**Комментарий ревьюера**\n",
    "\n",
    "Привет, Сергей! Меня зовут Аня Титова, буду проверять твой проект по предобработке. Давай общаться на «ты». Если это неудобно, дай знать, перейдем на «вы».\n",
    "\n",
    "У тебя уже проделана большая работа над проектом, но давай сделаем его еще лучше. Дальше ты найдешь мои комментарии — пожалуйста, не перемещай и не удаляй их. Буду использовать цветовую разметку:\n",
    "\n",
    "<div class=\"alert alert-danger\">\n",
    "<b>Комментарий ревьюера:</b> Так выделены самые важные замечания. Без их отработки проект не будет принят. </div>\n",
    "\n",
    "<div class=\"alert alert-warning\">\n",
    "<b>Комментарий ревьюера:</b> Так выделены небольшие замечания. Одно-два таких замечания в проекте допустимы, но если их будет больше - тебе будет необходимо внести исправления. </div>\n",
    "\n",
    "<div class=\"alert alert-success\">\n",
    "<b>Комментарий ревьюера:</b> Так я выделяю все остальные комментарии.</div>\n",
    "\n",
    "Давай работать над проектом в диалоге: если ты что-то меняешь в проекте или отвечаешь на мои комментарии — пиши об этом. Мне будет легче отследить изменения, если ты выделишь свои комментарии:\n",
    "<div class=\"alert alert-info\"> <b>Комментарий студента:</b> Например, вот так.</div>\n",
    "\n",
    "Всё это поможет выполнить повторную проверку твоего проекта оперативнее. \n",
    "\n",
    "---"
   ]
  },
  {
   "cell_type": "markdown",
   "metadata": {},
   "source": [
    "<div class=\"alert alert-success\">\n",
    "<b>Комментарий ревьюера:</b> Некоторые блоки кода не работают. Посмотри, пожалуйста, что пошло не так. Перед отправкой проекта стоит проверять работоспособность кода - это можно сделать, нажав на панели Jupiter Hub Kernel и Restart & Run All.\n",
    "    \n",
    "Еще просмотри, пожалуйста по оформлению: есть дубли заголовков, пустые ячейки и закомментированный код — их стоит убрать из проекта, так будет аккуратнее. А длинные строки кода стоит разбить переносами с помощью \\ или скобок, чтобы не было горизонстального скролла — это чтобы было удобнее читать твою работу.\n",
    "    \n",
    "<b>Комментарий ревьюера v2:</b> Теперь все ячейки исполняются, а закомментированного кода больше нет. Еще остались дубли заголовков и пустые строки, рекомендую их все же убрать. Пустую ячейку можно удалить кнопкой с ножницами или двойным нажатием на клавишу D. Пустые строки в ячейках с кодом тоже лучше не оставлять, просто чтобы опрятно смотрелось.\n",
    " </div>"
   ]
  },
  {
   "cell_type": "markdown",
   "metadata": {},
   "source": [
    "<div class=\"alert alert-info\"> <b>Комментарий студента:</b> Например, вот так.</div>\n",
    " # Не судите сильно строго, это мой первый опыт в подобных проектах и написании кодов, пришлось тратить очень много времени на поиск информации в сети, если есть замечание был бы рад подробно разобрать с тобой. Да Аня, мне тоже было бы комфортно общаться на ты!)\n",
    "\n"
   ]
  },
  {
   "cell_type": "markdown",
   "metadata": {},
   "source": [
    "<div class=\"alert alert-success\">\n",
    "<b>Комментарий ревьюера v2:</b> Да, постараюсь прокомментировать по шагам. Понимаю, что первую работу может быть сложно выполнять, но уверена, что ты освоишься :) По коду — очень рекомендую шпаргалки, которые даются в тренажере после каждого урока, его должно хватать как раз для выполнения проекта. По оформлению — запроси у своего куратора методичку по проектам, в ней подробный гайд. А гуглить, как удобнее что-то посчитать или красиво вывести — отличная практика, пригодится.\n",
    " </div>"
   ]
  },
  {
   "cell_type": "markdown",
   "metadata": {},
   "source": [
    "# Исследование надёжности заёмщиков\n",
    "\n",
    "Заказчик — кредитный отдел банка. Нужно разобраться, влияет ли семейное положение и количество детей клиента на факт погашения кредита в срок. Входные данные от банка — статистика о платёжеспособности клиентов.\n",
    "\n",
    "Результаты исследования будут учтены при построении модели **кредитного скоринга** — специальной системы, которая оценивает способность потенциального заёмщика вернуть кредит банку."
   ]
  },
  {
   "cell_type": "markdown",
   "metadata": {},
   "source": [
    "<div class=\"alert alert-success\">\n",
    "<b>Комментарий ревьюера v2:</b> Заголовок и цель работы есть. Это хоть и очевидные, но важные детали — без них непонятно, что за исследование перед нами. Цель вполне уместно переписывать своими словами, выделяя только самую суть.\n",
    " </div>"
   ]
  },
  {
   "cell_type": "markdown",
   "metadata": {},
   "source": [
    "<div class=\"alert alert-info\"> <b>АНЯ, спасибо за конструктивные замечания и комментарии, постарался все учесть, благодаря им еще раз повторил теорию и даже сделал мини методичку из теории, приведенной в тренажере.) \n",
    "    P.S. ...надеюсь я все сделал верно и больше небуду переделывать, но это вопрос только ко мне...)\n",
    "    заметил один момент, я выполняю определенную задачу, пользуясь теоритическими материалами или нетом и почти сразу забываю, видимо это kun-fu нужно много практиковать...</div>"
   ]
  },
  {
   "cell_type": "markdown",
   "metadata": {},
   "source": [
    "<div class=\"alert alert-success\">\n",
    "<b>Комментарий ревьюера v3:</b> Посмотрим, нужно ли будет что-то доделывать :) Новые комментарии отмечу v3. Перекрашу или зачеркну те, что уже проработаны.\n",
    "    \n",
    "Практика как раз позволяет лучше запомнить методы. Думаю, что уроки в тренажере и несколько самостоятельных проектов тебе здорово в этом помогут.\n",
    " </div>"
   ]
  },
  {
   "cell_type": "markdown",
   "metadata": {},
   "source": [
    "<div class=\"alert alert-success\">\n",
    "<b>Комментарий ревьюера v4:</b> Дальше новые комментарии с отметкой v4. \n",
    " </div>"
   ]
  },
  {
   "cell_type": "markdown",
   "metadata": {},
   "source": [
    "## Шаг 1. Откройте файл с данными и изучите общую информацию"
   ]
  },
  {
   "cell_type": "markdown",
   "metadata": {},
   "source": [
    "<div class=\"alert alert-success\">\n",
    "<b>Комментарий ревьюера v4:</b> Ячейки в твоей тетрадке начинаются не с 1. Рекомендую перед отправкой проекта перезапускать ядро и прогонять все ячейки. Так работа будет опрятнее и проверим работоспособность кода. На панели нажимаем Kernel - Restart & Run All.\n",
    " </div>"
   ]
  },
  {
   "cell_type": "code",
   "execution_count": 1,
   "metadata": {
    "scrolled": true
   },
   "outputs": [
    {
     "data": {
      "text/plain": [
       "children              int64\n",
       "days_employed       float64\n",
       "dob_years             int64\n",
       "education            object\n",
       "education_id          int64\n",
       "family_status        object\n",
       "family_status_id      int64\n",
       "gender               object\n",
       "income_type          object\n",
       "debt                  int64\n",
       "total_income        float64\n",
       "purpose              object\n",
       "dtype: object"
      ]
     },
     "metadata": {},
     "output_type": "display_data"
    }
   ],
   "source": [
    "import pandas as pd\n",
    "from collections import Counter\n",
    "from nltk.stem import SnowballStemmer\n",
    "data = pd.read_csv('https://code.s3.yandex.net/datasets/data.csv')\n",
    "display(data.dtypes)\n",
    "\n"
   ]
  },
  {
   "cell_type": "markdown",
   "metadata": {},
   "source": [
    "<div class=\"alert alert-success\">\n",
    "<b>Комментарий ревьюера v2:</b> Не используй print() на последней строке ячейки, Jupyter Notebook выведет результат и без него. Если в ячейке нужно вывести несколько строк, то для них используем:\n",
    "\n",
    "* display() для датафреймов и Series\n",
    "* print() для всего остального\n",
    "    \n",
    "А последнюю строку можно не оборачивать в эти функции.    \n",
    "\n",
    "\n",
    "<b>Комментарий ревьюера v3:</b> Сделано!</div>"
   ]
  },
  {
   "cell_type": "markdown",
   "metadata": {},
   "source": [
    "**Датасет содержит информацию с данными банка или кредитной организации, содержит все виды файлов\n",
    "  "
   ]
  },
  {
   "cell_type": "markdown",
   "metadata": {},
   "source": [
    "Выведим часть датасета, чтоб посмотреть на него.\n"
   ]
  },
  {
   "cell_type": "code",
   "execution_count": 2,
   "metadata": {},
   "outputs": [
    {
     "data": {
      "text/html": [
       "<div>\n",
       "<style scoped>\n",
       "    .dataframe tbody tr th:only-of-type {\n",
       "        vertical-align: middle;\n",
       "    }\n",
       "\n",
       "    .dataframe tbody tr th {\n",
       "        vertical-align: top;\n",
       "    }\n",
       "\n",
       "    .dataframe thead th {\n",
       "        text-align: right;\n",
       "    }\n",
       "</style>\n",
       "<table border=\"1\" class=\"dataframe\">\n",
       "  <thead>\n",
       "    <tr style=\"text-align: right;\">\n",
       "      <th></th>\n",
       "      <th>children</th>\n",
       "      <th>days_employed</th>\n",
       "      <th>dob_years</th>\n",
       "      <th>education</th>\n",
       "      <th>education_id</th>\n",
       "      <th>family_status</th>\n",
       "      <th>family_status_id</th>\n",
       "      <th>gender</th>\n",
       "      <th>income_type</th>\n",
       "      <th>debt</th>\n",
       "      <th>total_income</th>\n",
       "      <th>purpose</th>\n",
       "    </tr>\n",
       "  </thead>\n",
       "  <tbody>\n",
       "    <tr>\n",
       "      <td>0</td>\n",
       "      <td>1</td>\n",
       "      <td>-8437.673028</td>\n",
       "      <td>42</td>\n",
       "      <td>высшее</td>\n",
       "      <td>0</td>\n",
       "      <td>женат / замужем</td>\n",
       "      <td>0</td>\n",
       "      <td>F</td>\n",
       "      <td>сотрудник</td>\n",
       "      <td>0</td>\n",
       "      <td>253875.639453</td>\n",
       "      <td>покупка жилья</td>\n",
       "    </tr>\n",
       "    <tr>\n",
       "      <td>1</td>\n",
       "      <td>1</td>\n",
       "      <td>-4024.803754</td>\n",
       "      <td>36</td>\n",
       "      <td>среднее</td>\n",
       "      <td>1</td>\n",
       "      <td>женат / замужем</td>\n",
       "      <td>0</td>\n",
       "      <td>F</td>\n",
       "      <td>сотрудник</td>\n",
       "      <td>0</td>\n",
       "      <td>112080.014102</td>\n",
       "      <td>приобретение автомобиля</td>\n",
       "    </tr>\n",
       "    <tr>\n",
       "      <td>2</td>\n",
       "      <td>0</td>\n",
       "      <td>-5623.422610</td>\n",
       "      <td>33</td>\n",
       "      <td>Среднее</td>\n",
       "      <td>1</td>\n",
       "      <td>женат / замужем</td>\n",
       "      <td>0</td>\n",
       "      <td>M</td>\n",
       "      <td>сотрудник</td>\n",
       "      <td>0</td>\n",
       "      <td>145885.952297</td>\n",
       "      <td>покупка жилья</td>\n",
       "    </tr>\n",
       "    <tr>\n",
       "      <td>3</td>\n",
       "      <td>3</td>\n",
       "      <td>-4124.747207</td>\n",
       "      <td>32</td>\n",
       "      <td>среднее</td>\n",
       "      <td>1</td>\n",
       "      <td>женат / замужем</td>\n",
       "      <td>0</td>\n",
       "      <td>M</td>\n",
       "      <td>сотрудник</td>\n",
       "      <td>0</td>\n",
       "      <td>267628.550329</td>\n",
       "      <td>дополнительное образование</td>\n",
       "    </tr>\n",
       "    <tr>\n",
       "      <td>4</td>\n",
       "      <td>0</td>\n",
       "      <td>340266.072047</td>\n",
       "      <td>53</td>\n",
       "      <td>среднее</td>\n",
       "      <td>1</td>\n",
       "      <td>гражданский брак</td>\n",
       "      <td>1</td>\n",
       "      <td>F</td>\n",
       "      <td>пенсионер</td>\n",
       "      <td>0</td>\n",
       "      <td>158616.077870</td>\n",
       "      <td>сыграть свадьбу</td>\n",
       "    </tr>\n",
       "    <tr>\n",
       "      <td>5</td>\n",
       "      <td>0</td>\n",
       "      <td>-926.185831</td>\n",
       "      <td>27</td>\n",
       "      <td>высшее</td>\n",
       "      <td>0</td>\n",
       "      <td>гражданский брак</td>\n",
       "      <td>1</td>\n",
       "      <td>M</td>\n",
       "      <td>компаньон</td>\n",
       "      <td>0</td>\n",
       "      <td>255763.565419</td>\n",
       "      <td>покупка жилья</td>\n",
       "    </tr>\n",
       "    <tr>\n",
       "      <td>6</td>\n",
       "      <td>0</td>\n",
       "      <td>-2879.202052</td>\n",
       "      <td>43</td>\n",
       "      <td>высшее</td>\n",
       "      <td>0</td>\n",
       "      <td>женат / замужем</td>\n",
       "      <td>0</td>\n",
       "      <td>F</td>\n",
       "      <td>компаньон</td>\n",
       "      <td>0</td>\n",
       "      <td>240525.971920</td>\n",
       "      <td>операции с жильем</td>\n",
       "    </tr>\n",
       "    <tr>\n",
       "      <td>7</td>\n",
       "      <td>0</td>\n",
       "      <td>-152.779569</td>\n",
       "      <td>50</td>\n",
       "      <td>СРЕДНЕЕ</td>\n",
       "      <td>1</td>\n",
       "      <td>женат / замужем</td>\n",
       "      <td>0</td>\n",
       "      <td>M</td>\n",
       "      <td>сотрудник</td>\n",
       "      <td>0</td>\n",
       "      <td>135823.934197</td>\n",
       "      <td>образование</td>\n",
       "    </tr>\n",
       "    <tr>\n",
       "      <td>8</td>\n",
       "      <td>2</td>\n",
       "      <td>-6929.865299</td>\n",
       "      <td>35</td>\n",
       "      <td>ВЫСШЕЕ</td>\n",
       "      <td>0</td>\n",
       "      <td>гражданский брак</td>\n",
       "      <td>1</td>\n",
       "      <td>F</td>\n",
       "      <td>сотрудник</td>\n",
       "      <td>0</td>\n",
       "      <td>95856.832424</td>\n",
       "      <td>на проведение свадьбы</td>\n",
       "    </tr>\n",
       "    <tr>\n",
       "      <td>9</td>\n",
       "      <td>0</td>\n",
       "      <td>-2188.756445</td>\n",
       "      <td>41</td>\n",
       "      <td>среднее</td>\n",
       "      <td>1</td>\n",
       "      <td>женат / замужем</td>\n",
       "      <td>0</td>\n",
       "      <td>M</td>\n",
       "      <td>сотрудник</td>\n",
       "      <td>0</td>\n",
       "      <td>144425.938277</td>\n",
       "      <td>покупка жилья для семьи</td>\n",
       "    </tr>\n",
       "  </tbody>\n",
       "</table>\n",
       "</div>"
      ],
      "text/plain": [
       "   children  days_employed  dob_years education  education_id  \\\n",
       "0         1   -8437.673028         42    высшее             0   \n",
       "1         1   -4024.803754         36   среднее             1   \n",
       "2         0   -5623.422610         33   Среднее             1   \n",
       "3         3   -4124.747207         32   среднее             1   \n",
       "4         0  340266.072047         53   среднее             1   \n",
       "5         0    -926.185831         27    высшее             0   \n",
       "6         0   -2879.202052         43    высшее             0   \n",
       "7         0    -152.779569         50   СРЕДНЕЕ             1   \n",
       "8         2   -6929.865299         35    ВЫСШЕЕ             0   \n",
       "9         0   -2188.756445         41   среднее             1   \n",
       "\n",
       "      family_status  family_status_id gender income_type  debt   total_income  \\\n",
       "0   женат / замужем                 0      F   сотрудник     0  253875.639453   \n",
       "1   женат / замужем                 0      F   сотрудник     0  112080.014102   \n",
       "2   женат / замужем                 0      M   сотрудник     0  145885.952297   \n",
       "3   женат / замужем                 0      M   сотрудник     0  267628.550329   \n",
       "4  гражданский брак                 1      F   пенсионер     0  158616.077870   \n",
       "5  гражданский брак                 1      M   компаньон     0  255763.565419   \n",
       "6   женат / замужем                 0      F   компаньон     0  240525.971920   \n",
       "7   женат / замужем                 0      M   сотрудник     0  135823.934197   \n",
       "8  гражданский брак                 1      F   сотрудник     0   95856.832424   \n",
       "9   женат / замужем                 0      M   сотрудник     0  144425.938277   \n",
       "\n",
       "                      purpose  \n",
       "0               покупка жилья  \n",
       "1     приобретение автомобиля  \n",
       "2               покупка жилья  \n",
       "3  дополнительное образование  \n",
       "4             сыграть свадьбу  \n",
       "5               покупка жилья  \n",
       "6           операции с жильем  \n",
       "7                 образование  \n",
       "8       на проведение свадьбы  \n",
       "9     покупка жилья для семьи  "
      ]
     },
     "execution_count": 2,
     "metadata": {},
     "output_type": "execute_result"
    }
   ],
   "source": [
    "data.head(10)\n"
   ]
  },
  {
   "cell_type": "markdown",
   "metadata": {},
   "source": [
    "Проверим в каких столбца отсутствуют данные\n"
   ]
  },
  {
   "cell_type": "code",
   "execution_count": 3,
   "metadata": {},
   "outputs": [
    {
     "name": "stdout",
     "output_type": "stream",
     "text": [
      "<class 'pandas.core.frame.DataFrame'>\n",
      "RangeIndex: 21525 entries, 0 to 21524\n",
      "Data columns (total 12 columns):\n",
      "children            21525 non-null int64\n",
      "days_employed       19351 non-null float64\n",
      "dob_years           21525 non-null int64\n",
      "education           21525 non-null object\n",
      "education_id        21525 non-null int64\n",
      "family_status       21525 non-null object\n",
      "family_status_id    21525 non-null int64\n",
      "gender              21525 non-null object\n",
      "income_type         21525 non-null object\n",
      "debt                21525 non-null int64\n",
      "total_income        19351 non-null float64\n",
      "purpose             21525 non-null object\n",
      "dtypes: float64(2), int64(5), object(5)\n",
      "memory usage: 2.0+ MB\n"
     ]
    }
   ],
   "source": [
    "data.info()\n"
   ]
  },
  {
   "cell_type": "markdown",
   "metadata": {},
   "source": [
    "Отсутствуют значения только в столбцах 'days_employed' и 'total_income'.\n",
    "Столбцам 'days_employed' и 'total_income' стоит присвоить целочисленные значения (текущая точность нам не нужна)\n"
   ]
  },
  {
   "cell_type": "markdown",
   "metadata": {},
   "source": [
    "\n",
    "Проверим, это одни и те же строки, где отсутствуют данные по обоим столбцам ('days_employed' и 'total_income') или нет."
   ]
  },
  {
   "cell_type": "code",
   "execution_count": 4,
   "metadata": {},
   "outputs": [
    {
     "name": "stdout",
     "output_type": "stream",
     "text": [
      "<class 'pandas.core.frame.DataFrame'>\n",
      "Int64Index: 2174 entries, 12 to 21510\n",
      "Data columns (total 12 columns):\n",
      "children            2174 non-null int64\n",
      "days_employed       0 non-null float64\n",
      "dob_years           2174 non-null int64\n",
      "education           2174 non-null object\n",
      "education_id        2174 non-null int64\n",
      "family_status       2174 non-null object\n",
      "family_status_id    2174 non-null int64\n",
      "gender              2174 non-null object\n",
      "income_type         2174 non-null object\n",
      "debt                2174 non-null int64\n",
      "total_income        0 non-null float64\n",
      "purpose             2174 non-null object\n",
      "dtypes: float64(2), int64(5), object(5)\n",
      "memory usage: 220.8+ KB\n"
     ]
    }
   ],
   "source": [
    "data[(data['total_income'].isnull() == True) & (data['days_employed'].isnull() == True)].info()\n"
   ]
  },
  {
   "cell_type": "markdown",
   "metadata": {},
   "source": [
    "\n",
    "В строках, где отсутствуют данные в столбце 'days_employed', отсутствуют данные и по 'total_income'."
   ]
  },
  {
   "cell_type": "markdown",
   "metadata": {},
   "source": [
    "<div class=\"alert alert-success\">\n",
    "<b>Комментарий ревьюера v4:</b> Верно \n",
    " </div>"
   ]
  },
  {
   "cell_type": "markdown",
   "metadata": {},
   "source": [
    "Проверим, из разных ли это профессий люди (если из одной, то можно будет заполнить NaN средним по этой группе).\n"
   ]
  },
  {
   "cell_type": "code",
   "execution_count": 5,
   "metadata": {},
   "outputs": [
    {
     "name": "stdout",
     "output_type": "stream",
     "text": [
      "children            0.000000\n",
      "days_employed       0.100999\n",
      "dob_years           0.000000\n",
      "education           0.000000\n",
      "education_id        0.000000\n",
      "family_status       0.000000\n",
      "family_status_id    0.000000\n",
      "gender              0.000000\n",
      "income_type         0.000000\n",
      "debt                0.000000\n",
      "total_income        0.100999\n",
      "purpose             0.000000\n",
      "dtype: float64\n"
     ]
    }
   ],
   "source": [
    "print(data.isnull().mean())\n"
   ]
  },
  {
   "cell_type": "markdown",
   "metadata": {},
   "source": [
    "<div class=\"alert alert-success\">\n",
    "<b>Комментарий ревьюера v2:</b> Отличный способ оценить сразу долю пропусков в каждом столбце.</div>"
   ]
  },
  {
   "cell_type": "code",
   "execution_count": 6,
   "metadata": {},
   "outputs": [
    {
     "name": "stdout",
     "output_type": "stream",
     "text": [
      "сотрудник          1105\n",
      "компаньон           508\n",
      "пенсионер           413\n",
      "госслужащий         147\n",
      "предприниматель       1\n",
      "Name: income_type, dtype: int64\n"
     ]
    }
   ],
   "source": [
    "    (print(data[(data['total_income'].isnull() == True) & (data['days_employed']\n",
    "        .isnull() == True)]['income_type'].value_counts()))"
   ]
  },
  {
   "cell_type": "markdown",
   "metadata": {},
   "source": [
    "Значения отсутствуют в столбцах total_income и days_employed.\n",
    "Проверим это люди из разных сфер (прфессий или из одной), ели из одно, то можно весь столбец заменить на срдене арефметическое. \n"
   ]
  },
  {
   "cell_type": "markdown",
   "metadata": {
    "scrolled": false
   },
   "source": [
    "Люди из разных групп, значит взять среднее по одной группе профессий ('income_type') уже нельзя, будем заполнять NaN по среднему из каждой группы."
   ]
  },
  {
   "cell_type": "markdown",
   "metadata": {},
   "source": [
    "<div class=\"alert alert-success\">\n",
    "<b>Комментарий ревьюера v4:</b> 👍 \n",
    " </div>"
   ]
  },
  {
   "cell_type": "markdown",
   "metadata": {},
   "source": [
    "<div class=\"alert alert-success\">\n",
    "<b>Комментарий ревьюера v2:</b> Вот здесь слишком длинная строка, стоит перенести. Например, так:\n",
    "    \n",
    "    print(data[(data['total_income'].isnull() == True) & (data['days_employed'] \\\n",
    "        .isnull() == True)]['income_type'].value_counts())\n",
    "Или так:\n",
    "    \n",
    "    (print(data[(data['total_income'].isnull() == True) & (data['days_employed']\n",
    "        .isnull() == True)]['income_type'].value_counts()))\n",
    "    \n",
    "Убираем print(), потому что без него запись проще.\n",
    "И убираем пустую строку в конце ячейки.\n",
    "\n",
    "<b>Комментарий ревьюера v3:</b> Отлично, сделано!</div>"
   ]
  },
  {
   "cell_type": "code",
   "execution_count": 7,
   "metadata": {},
   "outputs": [
    {
     "data": {
      "text/html": [
       "<div>\n",
       "<style scoped>\n",
       "    .dataframe tbody tr th:only-of-type {\n",
       "        vertical-align: middle;\n",
       "    }\n",
       "\n",
       "    .dataframe tbody tr th {\n",
       "        vertical-align: top;\n",
       "    }\n",
       "\n",
       "    .dataframe thead th {\n",
       "        text-align: right;\n",
       "    }\n",
       "</style>\n",
       "<table border=\"1\" class=\"dataframe\">\n",
       "  <thead>\n",
       "    <tr style=\"text-align: right;\">\n",
       "      <th></th>\n",
       "      <th>children</th>\n",
       "      <th>days_employed</th>\n",
       "      <th>dob_years</th>\n",
       "      <th>education</th>\n",
       "      <th>education_id</th>\n",
       "      <th>family_status</th>\n",
       "      <th>family_status_id</th>\n",
       "      <th>gender</th>\n",
       "      <th>income_type</th>\n",
       "      <th>debt</th>\n",
       "      <th>total_income</th>\n",
       "      <th>purpose</th>\n",
       "    </tr>\n",
       "  </thead>\n",
       "  <tbody>\n",
       "    <tr>\n",
       "      <td>count</td>\n",
       "      <td>21525.000000</td>\n",
       "      <td>19351.000000</td>\n",
       "      <td>21525.000000</td>\n",
       "      <td>21525</td>\n",
       "      <td>21525.000000</td>\n",
       "      <td>21525</td>\n",
       "      <td>21525.000000</td>\n",
       "      <td>21525</td>\n",
       "      <td>21525</td>\n",
       "      <td>21525.000000</td>\n",
       "      <td>1.935100e+04</td>\n",
       "      <td>21525</td>\n",
       "    </tr>\n",
       "    <tr>\n",
       "      <td>unique</td>\n",
       "      <td>NaN</td>\n",
       "      <td>NaN</td>\n",
       "      <td>NaN</td>\n",
       "      <td>15</td>\n",
       "      <td>NaN</td>\n",
       "      <td>5</td>\n",
       "      <td>NaN</td>\n",
       "      <td>3</td>\n",
       "      <td>8</td>\n",
       "      <td>NaN</td>\n",
       "      <td>NaN</td>\n",
       "      <td>38</td>\n",
       "    </tr>\n",
       "    <tr>\n",
       "      <td>top</td>\n",
       "      <td>NaN</td>\n",
       "      <td>NaN</td>\n",
       "      <td>NaN</td>\n",
       "      <td>среднее</td>\n",
       "      <td>NaN</td>\n",
       "      <td>женат / замужем</td>\n",
       "      <td>NaN</td>\n",
       "      <td>F</td>\n",
       "      <td>сотрудник</td>\n",
       "      <td>NaN</td>\n",
       "      <td>NaN</td>\n",
       "      <td>свадьба</td>\n",
       "    </tr>\n",
       "    <tr>\n",
       "      <td>freq</td>\n",
       "      <td>NaN</td>\n",
       "      <td>NaN</td>\n",
       "      <td>NaN</td>\n",
       "      <td>13750</td>\n",
       "      <td>NaN</td>\n",
       "      <td>12380</td>\n",
       "      <td>NaN</td>\n",
       "      <td>14236</td>\n",
       "      <td>11119</td>\n",
       "      <td>NaN</td>\n",
       "      <td>NaN</td>\n",
       "      <td>797</td>\n",
       "    </tr>\n",
       "    <tr>\n",
       "      <td>mean</td>\n",
       "      <td>0.538908</td>\n",
       "      <td>63046.497661</td>\n",
       "      <td>43.293380</td>\n",
       "      <td>NaN</td>\n",
       "      <td>0.817236</td>\n",
       "      <td>NaN</td>\n",
       "      <td>0.972544</td>\n",
       "      <td>NaN</td>\n",
       "      <td>NaN</td>\n",
       "      <td>0.080883</td>\n",
       "      <td>1.674223e+05</td>\n",
       "      <td>NaN</td>\n",
       "    </tr>\n",
       "    <tr>\n",
       "      <td>std</td>\n",
       "      <td>1.381587</td>\n",
       "      <td>140827.311974</td>\n",
       "      <td>12.574584</td>\n",
       "      <td>NaN</td>\n",
       "      <td>0.548138</td>\n",
       "      <td>NaN</td>\n",
       "      <td>1.420324</td>\n",
       "      <td>NaN</td>\n",
       "      <td>NaN</td>\n",
       "      <td>0.272661</td>\n",
       "      <td>1.029716e+05</td>\n",
       "      <td>NaN</td>\n",
       "    </tr>\n",
       "    <tr>\n",
       "      <td>min</td>\n",
       "      <td>-1.000000</td>\n",
       "      <td>-18388.949901</td>\n",
       "      <td>0.000000</td>\n",
       "      <td>NaN</td>\n",
       "      <td>0.000000</td>\n",
       "      <td>NaN</td>\n",
       "      <td>0.000000</td>\n",
       "      <td>NaN</td>\n",
       "      <td>NaN</td>\n",
       "      <td>0.000000</td>\n",
       "      <td>2.066726e+04</td>\n",
       "      <td>NaN</td>\n",
       "    </tr>\n",
       "    <tr>\n",
       "      <td>25%</td>\n",
       "      <td>0.000000</td>\n",
       "      <td>-2747.423625</td>\n",
       "      <td>33.000000</td>\n",
       "      <td>NaN</td>\n",
       "      <td>1.000000</td>\n",
       "      <td>NaN</td>\n",
       "      <td>0.000000</td>\n",
       "      <td>NaN</td>\n",
       "      <td>NaN</td>\n",
       "      <td>0.000000</td>\n",
       "      <td>1.030532e+05</td>\n",
       "      <td>NaN</td>\n",
       "    </tr>\n",
       "    <tr>\n",
       "      <td>50%</td>\n",
       "      <td>0.000000</td>\n",
       "      <td>-1203.369529</td>\n",
       "      <td>42.000000</td>\n",
       "      <td>NaN</td>\n",
       "      <td>1.000000</td>\n",
       "      <td>NaN</td>\n",
       "      <td>0.000000</td>\n",
       "      <td>NaN</td>\n",
       "      <td>NaN</td>\n",
       "      <td>0.000000</td>\n",
       "      <td>1.450179e+05</td>\n",
       "      <td>NaN</td>\n",
       "    </tr>\n",
       "    <tr>\n",
       "      <td>75%</td>\n",
       "      <td>1.000000</td>\n",
       "      <td>-291.095954</td>\n",
       "      <td>53.000000</td>\n",
       "      <td>NaN</td>\n",
       "      <td>1.000000</td>\n",
       "      <td>NaN</td>\n",
       "      <td>1.000000</td>\n",
       "      <td>NaN</td>\n",
       "      <td>NaN</td>\n",
       "      <td>0.000000</td>\n",
       "      <td>2.034351e+05</td>\n",
       "      <td>NaN</td>\n",
       "    </tr>\n",
       "    <tr>\n",
       "      <td>max</td>\n",
       "      <td>20.000000</td>\n",
       "      <td>401755.400475</td>\n",
       "      <td>75.000000</td>\n",
       "      <td>NaN</td>\n",
       "      <td>4.000000</td>\n",
       "      <td>NaN</td>\n",
       "      <td>4.000000</td>\n",
       "      <td>NaN</td>\n",
       "      <td>NaN</td>\n",
       "      <td>1.000000</td>\n",
       "      <td>2.265604e+06</td>\n",
       "      <td>NaN</td>\n",
       "    </tr>\n",
       "  </tbody>\n",
       "</table>\n",
       "</div>"
      ],
      "text/plain": [
       "            children  days_employed     dob_years education  education_id  \\\n",
       "count   21525.000000   19351.000000  21525.000000     21525  21525.000000   \n",
       "unique           NaN            NaN           NaN        15           NaN   \n",
       "top              NaN            NaN           NaN   среднее           NaN   \n",
       "freq             NaN            NaN           NaN     13750           NaN   \n",
       "mean        0.538908   63046.497661     43.293380       NaN      0.817236   \n",
       "std         1.381587  140827.311974     12.574584       NaN      0.548138   \n",
       "min        -1.000000  -18388.949901      0.000000       NaN      0.000000   \n",
       "25%         0.000000   -2747.423625     33.000000       NaN      1.000000   \n",
       "50%         0.000000   -1203.369529     42.000000       NaN      1.000000   \n",
       "75%         1.000000    -291.095954     53.000000       NaN      1.000000   \n",
       "max        20.000000  401755.400475     75.000000       NaN      4.000000   \n",
       "\n",
       "          family_status  family_status_id gender income_type          debt  \\\n",
       "count             21525      21525.000000  21525       21525  21525.000000   \n",
       "unique                5               NaN      3           8           NaN   \n",
       "top     женат / замужем               NaN      F   сотрудник           NaN   \n",
       "freq              12380               NaN  14236       11119           NaN   \n",
       "mean                NaN          0.972544    NaN         NaN      0.080883   \n",
       "std                 NaN          1.420324    NaN         NaN      0.272661   \n",
       "min                 NaN          0.000000    NaN         NaN      0.000000   \n",
       "25%                 NaN          0.000000    NaN         NaN      0.000000   \n",
       "50%                 NaN          0.000000    NaN         NaN      0.000000   \n",
       "75%                 NaN          1.000000    NaN         NaN      0.000000   \n",
       "max                 NaN          4.000000    NaN         NaN      1.000000   \n",
       "\n",
       "        total_income  purpose  \n",
       "count   1.935100e+04    21525  \n",
       "unique           NaN       38  \n",
       "top              NaN  свадьба  \n",
       "freq             NaN      797  \n",
       "mean    1.674223e+05      NaN  \n",
       "std     1.029716e+05      NaN  \n",
       "min     2.066726e+04      NaN  \n",
       "25%     1.030532e+05      NaN  \n",
       "50%     1.450179e+05      NaN  \n",
       "75%     2.034351e+05      NaN  \n",
       "max     2.265604e+06      NaN  "
      ]
     },
     "execution_count": 7,
     "metadata": {},
     "output_type": "execute_result"
    }
   ],
   "source": [
    "from collections import Counter\n",
    "data.describe( include='all')\n"
   ]
  },
  {
   "cell_type": "markdown",
   "metadata": {},
   "source": [
    "<div class=\"alert alert-success\">\n",
    "<b>Комментарий ревьюера v2:</b> Если передать в describe() параметр include='all', то можно получить информацию еще по категориальным переменным.</div>\n",
    "\n"
   ]
  },
  {
   "cell_type": "markdown",
   "metadata": {},
   "source": []
  },
  {
   "cell_type": "markdown",
   "metadata": {},
   "source": [
    "1. Минимальное значение по 'children' - -1. Вероятно, это просто отсутствующая информация (хотя это ведь кредиты), скорей всего неверный перенос\n",
    "2. Максимальное значение по 'children' - 20. Выглядит не очень реалистично,  проверим сколько таких строк имеется в датафрейме.    Вполне возможно, что это ошибка.\n",
    "2. Отрицательные значения по количеству отработанных дней 'days_employed' - вполне возможно, что если возьмем значения по модулю, то данные станут пригодными для работы.\n",
    "3. Среднее значение по количеству отработанных дней 'days_employed'  63046 дней (173 года). Кто-то нам нарушает корректность картины.\n",
    "4. Возраст по некоторым строкам 'dob_years' равен 0 - предполагаю, что просто не указан (хотя, опять же, это ведь кредиты!).\n"
   ]
  },
  {
   "cell_type": "markdown",
   "metadata": {},
   "source": [
    "\n",
    "Нужно разобраться со всеми этими некорректными дынными"
   ]
  },
  {
   "cell_type": "markdown",
   "metadata": {},
   "source": [
    "\n",
    "Выведем некоторые данные по столбцу 'days_employed' чтоб понять в чем ошибка по пункту 3 и 4 в гепотезе выше:"
   ]
  },
  {
   "cell_type": "code",
   "execution_count": 8,
   "metadata": {},
   "outputs": [
    {
     "name": "stdout",
     "output_type": "stream",
     "text": [
      "Количество строк с 'days_employed' > 0: 3445\n",
      "Количество строк с 'days_employed' < 0: 15906\n",
      "Количество пенсионеров с 'days_employed' > 0: 3443\n",
      "Количество пенсионеров с 'days_employed' > 0 и кол-вом отработанных лет > 20: 3443\n",
      "Среднее количество отработанных дней среди пенсионеров: 365003.4912448612\n"
     ]
    }
   ],
   "source": [
    "\n",
    "print(\"Количество строк с 'days_employed' > 0:\", data[data['days_employed'] > 0].shape[0])\n",
    "print(\"Количество строк с 'days_employed' < 0:\", data[data['days_employed'] < 0].shape[0])\n",
    "data_pens = data[(data['days_employed'] > 0) & (data['income_type'] == 'пенсионер')]\n",
    "print(\"Количество пенсионеров с 'days_employed' > 0:\", data_pens.shape[0])\n",
    "print(\"Количество пенсионеров с 'days_employed' > 0 и кол-вом отработанных лет > 20:\", data_pens[data_pens['days_employed'] > 33000].shape[0])\n",
    "print(\"Среднее количество отработанных дней среди пенсионеров:\", data_pens['days_employed'].mean())"
   ]
  },
  {
   "cell_type": "markdown",
   "metadata": {},
   "source": [
    "\n",
    "Выведем некоторые данные по столбцам 'dob_years' и 'children', чтоб разобраться с с пунктом 1 и 2"
   ]
  },
  {
   "cell_type": "code",
   "execution_count": 9,
   "metadata": {},
   "outputs": [
    {
     "name": "stdout",
     "output_type": "stream",
     "text": [
      "Количество людей с нулевым возрастом: 101\n",
      "Количество людей с -1 ребенком: 47\n",
      "Количество строк с 20 детьми: 76\n",
      "Количество уникальных людей с 20 детьми: 68\n"
     ]
    }
   ],
   "source": [
    "\n",
    "print(\"Количество людей с нулевым возрастом:\", data[data['dob_years'] == 0].count()[0])\n",
    "print(\"Количество людей с -1 ребенком:\", data[data['children'] == -1].count()[0])\n",
    "print(\"Количество строк с 20 детьми:\", data[data['children'] == 20].count()[0])\n",
    "print(\"Количество уникальных людей с 20 детьми:\", len(data[data['children'] == 20]['total_income'].unique()))"
   ]
  },
  {
   "cell_type": "markdown",
   "metadata": {},
   "source": [
    "1)  более 70% значений из 'days_employed' отрицательные и не относятся к пенсионерам - просто возьмем весь столбец по модулю, чтоб убрать;\n",
    "2) остальные практически все значения > 0 (кроме двух) - это пенсионеры, причем по всем из них стаж работы >  90 лет, что,  выглядит не правдаподобным;\n",
    "3) нулевой возраст для некоторых клиентов - предполагаю,что данные просто были не внесены в базу, необходимо исправлять;\n",
    "4) \"-1 ребенок\" - к исправлению;\n",
    "5) \"20 детей\" - это не уникальный случай, а просто ошибка (может быть, корректное значение - \"2\"). Тоже к исправлению."
   ]
  },
  {
   "cell_type": "markdown",
   "metadata": {},
   "source": [
    "<div class=\"alert alert-success\">\n",
    "<b>Комментарий ревьюера v3:</b> <s>Прямо в этой ячейке ты сходу и без объясненй заполняешь пропуски в столбцах по стажу и доходу. Стоит сначала исследовать и описать пропущенные значения, и только затем принять решение о том, как их заполнять.\n",
    "    \n",
    "Кстати, кому-то из клиентов 0 лет. А не умножаешь ли ты нигде средний стаж на этот 0? Ошибки в столбцах, которые ты используешь для расчетов, стоит устранить до выполнения этих расчетов.</s>\n",
    "\n",
    "\n",
    "<b>Комментарий ревьюера v4:</b> Отлично, обработку некорректных значений перенесли. В целом на этом шаге нам достаточно посмотреть на общую информацию о данных и решить, нужно предобработка или нет. А все исследование уже делаем на шаге предобработки.</div>\n",
    " \n",
    " \n",
    "<div class=\"alert alert-info\">  </b> Тогда я немного переделаю этот раздел...</div>"
   ]
  },
  {
   "cell_type": "markdown",
   "metadata": {},
   "source": [
    "<div class=\"alert alert-warning\">\n",
    "<b>Комментарий ревьюера v2:</b> Ты выдвигаешь гипотезы по данным и делаешь проверки — это отлично. Но нужно подвести по ним краткий итог и описать, как поступим с данными на основе этих выводов. \n",
    "\n",
    "Пока интерпретации проверок выше нет, а есть сразу заполнение пропусков. До этого этапа нужно пропуски сначала исследовать:\n",
    "\n",
    "1. Определить тип пропусков (полностью случайный, случайный, неслучайный)\n",
    "2. Поразмышлять о возможных причинах появления пропусков\n",
    "3. На основании исследования описать, как будем их заполнять.\n",
    "\n",
    "<b>Комментарий ревьюера v3:</b> Есть описание пропусков, которые обнаружили. Но ты обходишь стороной их тип. Попробуй посмотреть статью из доп материалов тренажера, возможно она сделает тему понятнее:\n",
    "\n",
    "https://loginom.ru/blog/missing</div>"
   ]
  },
  {
   "cell_type": "markdown",
   "metadata": {},
   "source": [
    "1. Попарные NaN 'days_employed' и 'total_inome' заполним значением по данной группе 'type' в соотношении с возрастом.\n",
    "2. Обрабатываем отрицательные значения по количеству отработанных дней 'days_employed'\n",
    "3. Столбец 'education' имеет не однотипные значения (напр., 'Среднее'-'среднее'-'СРЕДНЕЕ') - необходимо будет привести к общему виду.\n",
    "4. Исправляем минимальное значение по 'children' (-1) на 0, а также приведем в соответствие кол-во детей 20...\n",
    "5. Обрабатываем нулевой возраст по некоторым строкам 'dob_years'.\n",
    "6. 'days_employed' по пенсионерам > 90 лет - надо приводить к нормальным значениям."
   ]
  },
  {
   "cell_type": "markdown",
   "metadata": {},
   "source": [
    "<div class=\"alert alert-success\">\n",
    "<b>Комментарий ревьюера v2:</b> Кстати, лучше само заполнение пропусков выполнить в разделе «Обработка пропусков», так будет логичнее.</div>"
   ]
  },
  {
   "cell_type": "markdown",
   "metadata": {},
   "source": [
    "<div class=\"alert alert-success\">\n",
    "<b>Комментарий ревьюера v2:</b> Мы видим, что есть отрицательные и еще слишком большие значения стажа. Лучше сначала обработать эти ошибки, а только потом рассчитывать характерные значения для заполнения пропусков.\n",
    "\n",
    "<b>Комментарий ревьюера v3:</b> <s>Замечание актуально.</s>\n",
    "\n",
    "<b>Комментарий ревьюера v4:</b> Скорректировали план предобработки.</div>"
   ]
  },
  {
   "cell_type": "markdown",
   "metadata": {},
   "source": [
    "<div class=\"alert alert-success\">\n",
    "<b>Комментарий ревьюера v3:</b> Шаги предобраотки намечены.\n",
    " </div>"
   ]
  },
  {
   "cell_type": "markdown",
   "metadata": {},
   "source": [
    "## Шаг 2. Предобработка данных"
   ]
  },
  {
   "cell_type": "code",
   "execution_count": 10,
   "metadata": {},
   "outputs": [
    {
     "name": "stdout",
     "output_type": "stream",
     "text": [
      "                 days_employed   total_income\n",
      "income_type                                  \n",
      "безработный      366413.652744  131339.751676\n",
      "в декрете         -3296.759962   53829.130729\n",
      "госслужащий       -2689.368353  150447.935283\n",
      "компаньон         -1547.382223  172357.950966\n",
      "пенсионер        365213.306266  118514.486412\n",
      "предприниматель    -520.848083  499163.144947\n",
      "сотрудник         -1574.202821  142594.396847\n",
      "студент            -578.751554   98201.625314\n"
     ]
    }
   ],
   "source": [
    "\n",
    "grouped_data = data.groupby('income_type').agg({'days_employed': 'median', 'total_income': 'median'})\n",
    "def mean_fill(row):\n",
    "    if pd.notnull(row['total_income']):\n",
    "        return row['total_income']\n",
    "    else:\n",
    "        return grouped_data[row['income_type']]['total_income']\n",
    "print(grouped_data)"
   ]
  },
  {
   "cell_type": "markdown",
   "metadata": {},
   "source": [
    "<div class=\"alert alert-success\">\n",
    "<b>Комментарий ревьюера v4:</b> Здесь видим, что тип дохода здорово описывает медианный доход. А со стажем не все так ясно, скорее здесь будет уместнее другая характеристика. \n",
    " </div>"
   ]
  },
  {
   "cell_type": "markdown",
   "metadata": {},
   "source": [
    "### Обработка пропусков"
   ]
  },
  {
   "cell_type": "markdown",
   "metadata": {},
   "source": [
    "\n"
   ]
  },
  {
   "cell_type": "markdown",
   "metadata": {},
   "source": [
    "Берем значения по 'days_employed' и 'total_income' по модулю.\n",
    "Добавляем столбец 'ratio_days_employed' для вычисления коэффициента полноты количества отработанных дней (учитывая то, что официально можно трудиться с 16 лет), чтобы впоследствии заполнить NaN по 'days_employed' с учетом среднего этого показателя по группе."
   ]
  },
  {
   "cell_type": "markdown",
   "metadata": {},
   "source": [
    "<div class=\"alert alert-warning\">\n",
    "<b>Комментарий ревьюера v4:</b> А разве в столбце с доходом были отрицательные значения? \n",
    " </div>"
   ]
  },
  {
   "cell_type": "code",
   "execution_count": 11,
   "metadata": {},
   "outputs": [
    {
     "data": {
      "text/html": [
       "<div>\n",
       "<style scoped>\n",
       "    .dataframe tbody tr th:only-of-type {\n",
       "        vertical-align: middle;\n",
       "    }\n",
       "\n",
       "    .dataframe tbody tr th {\n",
       "        vertical-align: top;\n",
       "    }\n",
       "\n",
       "    .dataframe thead th {\n",
       "        text-align: right;\n",
       "    }\n",
       "</style>\n",
       "<table border=\"1\" class=\"dataframe\">\n",
       "  <thead>\n",
       "    <tr style=\"text-align: right;\">\n",
       "      <th></th>\n",
       "      <th>children</th>\n",
       "      <th>days_employed</th>\n",
       "      <th>dob_years</th>\n",
       "      <th>education</th>\n",
       "      <th>education_id</th>\n",
       "      <th>family_status</th>\n",
       "      <th>family_status_id</th>\n",
       "      <th>gender</th>\n",
       "      <th>income_type</th>\n",
       "      <th>debt</th>\n",
       "      <th>total_income</th>\n",
       "      <th>purpose</th>\n",
       "      <th>ratio_days_employed</th>\n",
       "    </tr>\n",
       "  </thead>\n",
       "  <tbody>\n",
       "    <tr>\n",
       "      <td>0</td>\n",
       "      <td>1</td>\n",
       "      <td>8437.673028</td>\n",
       "      <td>42</td>\n",
       "      <td>высшее</td>\n",
       "      <td>0</td>\n",
       "      <td>женат / замужем</td>\n",
       "      <td>0</td>\n",
       "      <td>F</td>\n",
       "      <td>сотрудник</td>\n",
       "      <td>0</td>\n",
       "      <td>253875.639453</td>\n",
       "      <td>покупка жилья</td>\n",
       "      <td>0.889112</td>\n",
       "    </tr>\n",
       "    <tr>\n",
       "      <td>1</td>\n",
       "      <td>1</td>\n",
       "      <td>4024.803754</td>\n",
       "      <td>36</td>\n",
       "      <td>среднее</td>\n",
       "      <td>1</td>\n",
       "      <td>женат / замужем</td>\n",
       "      <td>0</td>\n",
       "      <td>F</td>\n",
       "      <td>сотрудник</td>\n",
       "      <td>0</td>\n",
       "      <td>112080.014102</td>\n",
       "      <td>приобретение автомобиля</td>\n",
       "      <td>0.551343</td>\n",
       "    </tr>\n",
       "    <tr>\n",
       "      <td>2</td>\n",
       "      <td>0</td>\n",
       "      <td>5623.422610</td>\n",
       "      <td>33</td>\n",
       "      <td>Среднее</td>\n",
       "      <td>1</td>\n",
       "      <td>женат / замужем</td>\n",
       "      <td>0</td>\n",
       "      <td>M</td>\n",
       "      <td>сотрудник</td>\n",
       "      <td>0</td>\n",
       "      <td>145885.952297</td>\n",
       "      <td>покупка жилья</td>\n",
       "      <td>0.906273</td>\n",
       "    </tr>\n",
       "    <tr>\n",
       "      <td>3</td>\n",
       "      <td>3</td>\n",
       "      <td>4124.747207</td>\n",
       "      <td>32</td>\n",
       "      <td>среднее</td>\n",
       "      <td>1</td>\n",
       "      <td>женат / замужем</td>\n",
       "      <td>0</td>\n",
       "      <td>M</td>\n",
       "      <td>сотрудник</td>\n",
       "      <td>0</td>\n",
       "      <td>267628.550329</td>\n",
       "      <td>дополнительное образование</td>\n",
       "      <td>0.706292</td>\n",
       "    </tr>\n",
       "    <tr>\n",
       "      <td>4</td>\n",
       "      <td>0</td>\n",
       "      <td>340266.072047</td>\n",
       "      <td>53</td>\n",
       "      <td>среднее</td>\n",
       "      <td>1</td>\n",
       "      <td>гражданский брак</td>\n",
       "      <td>1</td>\n",
       "      <td>F</td>\n",
       "      <td>пенсионер</td>\n",
       "      <td>0</td>\n",
       "      <td>158616.077870</td>\n",
       "      <td>сыграть свадьбу</td>\n",
       "      <td>25.195563</td>\n",
       "    </tr>\n",
       "  </tbody>\n",
       "</table>\n",
       "</div>"
      ],
      "text/plain": [
       "   children  days_employed  dob_years education  education_id  \\\n",
       "0         1    8437.673028         42    высшее             0   \n",
       "1         1    4024.803754         36   среднее             1   \n",
       "2         0    5623.422610         33   Среднее             1   \n",
       "3         3    4124.747207         32   среднее             1   \n",
       "4         0  340266.072047         53   среднее             1   \n",
       "\n",
       "      family_status  family_status_id gender income_type  debt   total_income  \\\n",
       "0   женат / замужем                 0      F   сотрудник     0  253875.639453   \n",
       "1   женат / замужем                 0      F   сотрудник     0  112080.014102   \n",
       "2   женат / замужем                 0      M   сотрудник     0  145885.952297   \n",
       "3   женат / замужем                 0      M   сотрудник     0  267628.550329   \n",
       "4  гражданский брак                 1      F   пенсионер     0  158616.077870   \n",
       "\n",
       "                      purpose  ratio_days_employed  \n",
       "0               покупка жилья             0.889112  \n",
       "1     приобретение автомобиля             0.551343  \n",
       "2               покупка жилья             0.906273  \n",
       "3  дополнительное образование             0.706292  \n",
       "4             сыграть свадьбу            25.195563  "
      ]
     },
     "execution_count": 11,
     "metadata": {},
     "output_type": "execute_result"
    }
   ],
   "source": [
    "data[['total_income', 'days_employed']] = data[['total_income', 'days_employed']].abs()\n",
    "data['ratio_days_employed'] = data[data['days_employed'].notnull()]['days_employed']/((data['dob_years']-16)*365)\n",
    "\n",
    "data.head()\n"
   ]
  },
  {
   "cell_type": "markdown",
   "metadata": {},
   "source": [
    "Заполним пропуски NaN в датафрейме data:\n",
    "-'days_employed': NaN заменяем на произведение среднего коэффициента по группе 'income_type', умноженного на возраст в днях;\n",
    "-'total_income': NaN заменяем на среднее значение по зарплате по группе 'income_type'.\n",
    "удалим вспомогательный столбец\n"
   ]
  },
  {
   "cell_type": "code",
   "execution_count": 12,
   "metadata": {},
   "outputs": [
    {
     "data": {
      "text/html": [
       "<div>\n",
       "<style scoped>\n",
       "    .dataframe tbody tr th:only-of-type {\n",
       "        vertical-align: middle;\n",
       "    }\n",
       "\n",
       "    .dataframe tbody tr th {\n",
       "        vertical-align: top;\n",
       "    }\n",
       "\n",
       "    .dataframe thead th {\n",
       "        text-align: right;\n",
       "    }\n",
       "</style>\n",
       "<table border=\"1\" class=\"dataframe\">\n",
       "  <thead>\n",
       "    <tr style=\"text-align: right;\">\n",
       "      <th></th>\n",
       "      <th>children</th>\n",
       "      <th>days_employed</th>\n",
       "      <th>dob_years</th>\n",
       "      <th>education</th>\n",
       "      <th>education_id</th>\n",
       "      <th>family_status</th>\n",
       "      <th>family_status_id</th>\n",
       "      <th>gender</th>\n",
       "      <th>income_type</th>\n",
       "      <th>debt</th>\n",
       "      <th>total_income</th>\n",
       "      <th>purpose</th>\n",
       "    </tr>\n",
       "  </thead>\n",
       "  <tbody>\n",
       "    <tr>\n",
       "      <td>0</td>\n",
       "      <td>1</td>\n",
       "      <td>8437.673028</td>\n",
       "      <td>42</td>\n",
       "      <td>высшее</td>\n",
       "      <td>0</td>\n",
       "      <td>женат / замужем</td>\n",
       "      <td>0</td>\n",
       "      <td>F</td>\n",
       "      <td>сотрудник</td>\n",
       "      <td>0</td>\n",
       "      <td>253875.639453</td>\n",
       "      <td>покупка жилья</td>\n",
       "    </tr>\n",
       "    <tr>\n",
       "      <td>1</td>\n",
       "      <td>1</td>\n",
       "      <td>4024.803754</td>\n",
       "      <td>36</td>\n",
       "      <td>среднее</td>\n",
       "      <td>1</td>\n",
       "      <td>женат / замужем</td>\n",
       "      <td>0</td>\n",
       "      <td>F</td>\n",
       "      <td>сотрудник</td>\n",
       "      <td>0</td>\n",
       "      <td>112080.014102</td>\n",
       "      <td>приобретение автомобиля</td>\n",
       "    </tr>\n",
       "    <tr>\n",
       "      <td>2</td>\n",
       "      <td>0</td>\n",
       "      <td>5623.422610</td>\n",
       "      <td>33</td>\n",
       "      <td>Среднее</td>\n",
       "      <td>1</td>\n",
       "      <td>женат / замужем</td>\n",
       "      <td>0</td>\n",
       "      <td>M</td>\n",
       "      <td>сотрудник</td>\n",
       "      <td>0</td>\n",
       "      <td>145885.952297</td>\n",
       "      <td>покупка жилья</td>\n",
       "    </tr>\n",
       "    <tr>\n",
       "      <td>3</td>\n",
       "      <td>3</td>\n",
       "      <td>4124.747207</td>\n",
       "      <td>32</td>\n",
       "      <td>среднее</td>\n",
       "      <td>1</td>\n",
       "      <td>женат / замужем</td>\n",
       "      <td>0</td>\n",
       "      <td>M</td>\n",
       "      <td>сотрудник</td>\n",
       "      <td>0</td>\n",
       "      <td>267628.550329</td>\n",
       "      <td>дополнительное образование</td>\n",
       "    </tr>\n",
       "    <tr>\n",
       "      <td>4</td>\n",
       "      <td>0</td>\n",
       "      <td>340266.072047</td>\n",
       "      <td>53</td>\n",
       "      <td>среднее</td>\n",
       "      <td>1</td>\n",
       "      <td>гражданский брак</td>\n",
       "      <td>1</td>\n",
       "      <td>F</td>\n",
       "      <td>пенсионер</td>\n",
       "      <td>0</td>\n",
       "      <td>158616.077870</td>\n",
       "      <td>сыграть свадьбу</td>\n",
       "    </tr>\n",
       "  </tbody>\n",
       "</table>\n",
       "</div>"
      ],
      "text/plain": [
       "   children  days_employed  dob_years education  education_id  \\\n",
       "0         1    8437.673028         42    высшее             0   \n",
       "1         1    4024.803754         36   среднее             1   \n",
       "2         0    5623.422610         33   Среднее             1   \n",
       "3         3    4124.747207         32   среднее             1   \n",
       "4         0  340266.072047         53   среднее             1   \n",
       "\n",
       "      family_status  family_status_id gender income_type  debt   total_income  \\\n",
       "0   женат / замужем                 0      F   сотрудник     0  253875.639453   \n",
       "1   женат / замужем                 0      F   сотрудник     0  112080.014102   \n",
       "2   женат / замужем                 0      M   сотрудник     0  145885.952297   \n",
       "3   женат / замужем                 0      M   сотрудник     0  267628.550329   \n",
       "4  гражданский брак                 1      F   пенсионер     0  158616.077870   \n",
       "\n",
       "                      purpose  \n",
       "0               покупка жилья  \n",
       "1     приобретение автомобиля  \n",
       "2               покупка жилья  \n",
       "3  дополнительное образование  \n",
       "4             сыграть свадьбу  "
      ]
     },
     "execution_count": 12,
     "metadata": {},
     "output_type": "execute_result"
    }
   ],
   "source": [
    "data['days_employed'] = data.groupby('income_type')['days_employed'].transform(lambda x: x.fillna(x.mean()*data['dob_years']*365))\n",
    "data['total_income'] = data.groupby('income_type')['total_income'].transform(lambda x: x.fillna(x.mean()))\n",
    "data = data.drop('ratio_days_employed', axis=1)\n",
    "data.head()\n"
   ]
  },
  {
   "cell_type": "markdown",
   "metadata": {},
   "source": [
    "<div class=\"alert alert-success\">\n",
    "<b>Комментарий ревьюера v4:</b> Отлично. Аномальные значения здесь допустимо оставить, потому что они встречаются только у двух категорий клиентов, а мы заполняем как раз средним по категории.\n",
    " </div>"
   ]
  },
  {
   "cell_type": "markdown",
   "metadata": {},
   "source": [
    "Кол-во детей с отрицательным значением заменим на среднюю методом abs(), \"ошибку\" ввиде 20 детей, щаменим на 2"
   ]
  },
  {
   "cell_type": "code",
   "execution_count": 13,
   "metadata": {},
   "outputs": [
    {
     "data": {
      "text/html": [
       "<div>\n",
       "<style scoped>\n",
       "    .dataframe tbody tr th:only-of-type {\n",
       "        vertical-align: middle;\n",
       "    }\n",
       "\n",
       "    .dataframe tbody tr th {\n",
       "        vertical-align: top;\n",
       "    }\n",
       "\n",
       "    .dataframe thead th {\n",
       "        text-align: right;\n",
       "    }\n",
       "</style>\n",
       "<table border=\"1\" class=\"dataframe\">\n",
       "  <thead>\n",
       "    <tr style=\"text-align: right;\">\n",
       "      <th></th>\n",
       "      <th>children</th>\n",
       "      <th>days_employed</th>\n",
       "      <th>dob_years</th>\n",
       "      <th>education</th>\n",
       "      <th>education_id</th>\n",
       "      <th>family_status</th>\n",
       "      <th>family_status_id</th>\n",
       "      <th>gender</th>\n",
       "      <th>income_type</th>\n",
       "      <th>debt</th>\n",
       "      <th>total_income</th>\n",
       "      <th>purpose</th>\n",
       "    </tr>\n",
       "  </thead>\n",
       "  <tbody>\n",
       "    <tr>\n",
       "      <td>0</td>\n",
       "      <td>1</td>\n",
       "      <td>8437.673028</td>\n",
       "      <td>42</td>\n",
       "      <td>высшее</td>\n",
       "      <td>0</td>\n",
       "      <td>женат / замужем</td>\n",
       "      <td>0</td>\n",
       "      <td>F</td>\n",
       "      <td>сотрудник</td>\n",
       "      <td>0</td>\n",
       "      <td>253875.639453</td>\n",
       "      <td>покупка жилья</td>\n",
       "    </tr>\n",
       "    <tr>\n",
       "      <td>1</td>\n",
       "      <td>1</td>\n",
       "      <td>4024.803754</td>\n",
       "      <td>36</td>\n",
       "      <td>среднее</td>\n",
       "      <td>1</td>\n",
       "      <td>женат / замужем</td>\n",
       "      <td>0</td>\n",
       "      <td>F</td>\n",
       "      <td>сотрудник</td>\n",
       "      <td>0</td>\n",
       "      <td>112080.014102</td>\n",
       "      <td>приобретение автомобиля</td>\n",
       "    </tr>\n",
       "    <tr>\n",
       "      <td>2</td>\n",
       "      <td>0</td>\n",
       "      <td>5623.422610</td>\n",
       "      <td>33</td>\n",
       "      <td>Среднее</td>\n",
       "      <td>1</td>\n",
       "      <td>женат / замужем</td>\n",
       "      <td>0</td>\n",
       "      <td>M</td>\n",
       "      <td>сотрудник</td>\n",
       "      <td>0</td>\n",
       "      <td>145885.952297</td>\n",
       "      <td>покупка жилья</td>\n",
       "    </tr>\n",
       "    <tr>\n",
       "      <td>3</td>\n",
       "      <td>3</td>\n",
       "      <td>4124.747207</td>\n",
       "      <td>32</td>\n",
       "      <td>среднее</td>\n",
       "      <td>1</td>\n",
       "      <td>женат / замужем</td>\n",
       "      <td>0</td>\n",
       "      <td>M</td>\n",
       "      <td>сотрудник</td>\n",
       "      <td>0</td>\n",
       "      <td>267628.550329</td>\n",
       "      <td>дополнительное образование</td>\n",
       "    </tr>\n",
       "    <tr>\n",
       "      <td>4</td>\n",
       "      <td>0</td>\n",
       "      <td>340266.072047</td>\n",
       "      <td>53</td>\n",
       "      <td>среднее</td>\n",
       "      <td>1</td>\n",
       "      <td>гражданский брак</td>\n",
       "      <td>1</td>\n",
       "      <td>F</td>\n",
       "      <td>пенсионер</td>\n",
       "      <td>0</td>\n",
       "      <td>158616.077870</td>\n",
       "      <td>сыграть свадьбу</td>\n",
       "    </tr>\n",
       "  </tbody>\n",
       "</table>\n",
       "</div>"
      ],
      "text/plain": [
       "   children  days_employed  dob_years education  education_id  \\\n",
       "0         1    8437.673028         42    высшее             0   \n",
       "1         1    4024.803754         36   среднее             1   \n",
       "2         0    5623.422610         33   Среднее             1   \n",
       "3         3    4124.747207         32   среднее             1   \n",
       "4         0  340266.072047         53   среднее             1   \n",
       "\n",
       "      family_status  family_status_id gender income_type  debt   total_income  \\\n",
       "0   женат / замужем                 0      F   сотрудник     0  253875.639453   \n",
       "1   женат / замужем                 0      F   сотрудник     0  112080.014102   \n",
       "2   женат / замужем                 0      M   сотрудник     0  145885.952297   \n",
       "3   женат / замужем                 0      M   сотрудник     0  267628.550329   \n",
       "4  гражданский брак                 1      F   пенсионер     0  158616.077870   \n",
       "\n",
       "                      purpose  \n",
       "0               покупка жилья  \n",
       "1     приобретение автомобиля  \n",
       "2               покупка жилья  \n",
       "3  дополнительное образование  \n",
       "4             сыграть свадьбу  "
      ]
     },
     "execution_count": 13,
     "metadata": {},
     "output_type": "execute_result"
    }
   ],
   "source": [
    "data['children'] = data['children'].abs()\n",
    "\n",
    "data.loc[data['children']>10, 'children']=2\n",
    "\n",
    "data.head()\n"
   ]
  },
  {
   "cell_type": "markdown",
   "metadata": {},
   "source": [
    "<div class=\"alert alert-success\">\n",
    "<b>Комментарий ревьюера v3:</b> Ок, отрицательные значения и проблемы с количеством детей устранили.\n",
    " </div>"
   ]
  },
  {
   "cell_type": "markdown",
   "metadata": {},
   "source": [
    "Проверяем данные"
   ]
  },
  {
   "cell_type": "code",
   "execution_count": 14,
   "metadata": {},
   "outputs": [
    {
     "data": {
      "text/plain": [
       "children            0.0\n",
       "days_employed       0.0\n",
       "dob_years           0.0\n",
       "education           0.0\n",
       "education_id        0.0\n",
       "family_status       0.0\n",
       "family_status_id    0.0\n",
       "gender              0.0\n",
       "income_type         0.0\n",
       "debt                0.0\n",
       "total_income        0.0\n",
       "purpose             0.0\n",
       "dtype: float64"
      ]
     },
     "execution_count": 14,
     "metadata": {},
     "output_type": "execute_result"
    }
   ],
   "source": [
    "data.isnull().mean()"
   ]
  },
  {
   "cell_type": "markdown",
   "metadata": {},
   "source": [
    "после проверки пропусков не выявлено"
   ]
  },
  {
   "cell_type": "code",
   "execution_count": 15,
   "metadata": {},
   "outputs": [
    {
     "name": "stdout",
     "output_type": "stream",
     "text": [
      "Series([], Name: income_type, dtype: int64)\n"
     ]
    }
   ],
   "source": [
    "print(data[(data['total_income'].isnull() == True) & (data['days_employed'] \\\n",
    "    .isnull() == True)]['income_type'].value_counts())"
   ]
  },
  {
   "cell_type": "markdown",
   "metadata": {},
   "source": [
    "Проверили данные двумя методами, пропусков не осталось"
   ]
  },
  {
   "cell_type": "markdown",
   "metadata": {},
   "source": [
    "Cмотрим количество нулей по возрасту (столбец 'dob_years') и количество несовершеннолетних\n"
   ]
  },
  {
   "cell_type": "code",
   "execution_count": 16,
   "metadata": {},
   "outputs": [
    {
     "name": "stdout",
     "output_type": "stream",
     "text": [
      "Количество строк с 'dob_years' 0 - 101\n",
      "Количество строк с 'dob_years' < 19 - 101\n"
     ]
    }
   ],
   "source": [
    "# смотрим количество нулей по возрасту (столбец 'dob_years') и количество несовершеннолетних\n",
    "print(\"Количество строк с 'dob_years' 0 -\", data[data['dob_years'] == 0].count()[0])\n",
    "print(\"Количество строк с 'dob_years' < 19 -\", data[data['dob_years'] < 19].count()[0])"
   ]
  },
  {
   "cell_type": "markdown",
   "metadata": {},
   "source": [
    "Количество совпадает? это одни и те же люди. Заполним значения средним по каждой группе"
   ]
  },
  {
   "cell_type": "code",
   "execution_count": 17,
   "metadata": {},
   "outputs": [],
   "source": [
    "data['dob_years'] = data.groupby('income_type')['dob_years'].transform(lambda x: x.replace(0, int(x.mean())))\n",
    "\n"
   ]
  },
  {
   "cell_type": "code",
   "execution_count": 18,
   "metadata": {},
   "outputs": [
    {
     "data": {
      "text/html": [
       "<div>\n",
       "<style scoped>\n",
       "    .dataframe tbody tr th:only-of-type {\n",
       "        vertical-align: middle;\n",
       "    }\n",
       "\n",
       "    .dataframe tbody tr th {\n",
       "        vertical-align: top;\n",
       "    }\n",
       "\n",
       "    .dataframe thead th {\n",
       "        text-align: right;\n",
       "    }\n",
       "</style>\n",
       "<table border=\"1\" class=\"dataframe\">\n",
       "  <thead>\n",
       "    <tr style=\"text-align: right;\">\n",
       "      <th></th>\n",
       "      <th>children</th>\n",
       "      <th>days_employed</th>\n",
       "      <th>dob_years</th>\n",
       "      <th>education_id</th>\n",
       "      <th>family_status_id</th>\n",
       "      <th>debt</th>\n",
       "      <th>total_income</th>\n",
       "    </tr>\n",
       "  </thead>\n",
       "  <tbody>\n",
       "    <tr>\n",
       "      <td>count</td>\n",
       "      <td>21525.000000</td>\n",
       "      <td>2.152500e+04</td>\n",
       "      <td>21525.000000</td>\n",
       "      <td>21525.000000</td>\n",
       "      <td>21525.000000</td>\n",
       "      <td>21525.000000</td>\n",
       "      <td>2.152500e+04</td>\n",
       "    </tr>\n",
       "    <tr>\n",
       "      <td>mean</td>\n",
       "      <td>0.479721</td>\n",
       "      <td>1.522834e+08</td>\n",
       "      <td>43.495238</td>\n",
       "      <td>0.817236</td>\n",
       "      <td>0.972544</td>\n",
       "      <td>0.080883</td>\n",
       "      <td>1.673959e+05</td>\n",
       "    </tr>\n",
       "    <tr>\n",
       "      <td>std</td>\n",
       "      <td>0.755528</td>\n",
       "      <td>1.078074e+09</td>\n",
       "      <td>12.230322</td>\n",
       "      <td>0.548138</td>\n",
       "      <td>1.420324</td>\n",
       "      <td>0.272661</td>\n",
       "      <td>9.790695e+04</td>\n",
       "    </tr>\n",
       "    <tr>\n",
       "      <td>min</td>\n",
       "      <td>0.000000</td>\n",
       "      <td>0.000000e+00</td>\n",
       "      <td>19.000000</td>\n",
       "      <td>0.000000</td>\n",
       "      <td>0.000000</td>\n",
       "      <td>0.000000</td>\n",
       "      <td>2.066726e+04</td>\n",
       "    </tr>\n",
       "    <tr>\n",
       "      <td>25%</td>\n",
       "      <td>0.000000</td>\n",
       "      <td>1.024652e+03</td>\n",
       "      <td>34.000000</td>\n",
       "      <td>1.000000</td>\n",
       "      <td>0.000000</td>\n",
       "      <td>0.000000</td>\n",
       "      <td>1.077982e+05</td>\n",
       "    </tr>\n",
       "    <tr>\n",
       "      <td>50%</td>\n",
       "      <td>0.000000</td>\n",
       "      <td>2.605748e+03</td>\n",
       "      <td>43.000000</td>\n",
       "      <td>1.000000</td>\n",
       "      <td>0.000000</td>\n",
       "      <td>0.000000</td>\n",
       "      <td>1.519313e+05</td>\n",
       "    </tr>\n",
       "    <tr>\n",
       "      <td>75%</td>\n",
       "      <td>1.000000</td>\n",
       "      <td>3.336411e+05</td>\n",
       "      <td>53.000000</td>\n",
       "      <td>1.000000</td>\n",
       "      <td>1.000000</td>\n",
       "      <td>0.000000</td>\n",
       "      <td>2.024175e+05</td>\n",
       "    </tr>\n",
       "    <tr>\n",
       "      <td>max</td>\n",
       "      <td>5.000000</td>\n",
       "      <td>9.725518e+09</td>\n",
       "      <td>75.000000</td>\n",
       "      <td>4.000000</td>\n",
       "      <td>4.000000</td>\n",
       "      <td>1.000000</td>\n",
       "      <td>2.265604e+06</td>\n",
       "    </tr>\n",
       "  </tbody>\n",
       "</table>\n",
       "</div>"
      ],
      "text/plain": [
       "           children  days_employed     dob_years  education_id  \\\n",
       "count  21525.000000   2.152500e+04  21525.000000  21525.000000   \n",
       "mean       0.479721   1.522834e+08     43.495238      0.817236   \n",
       "std        0.755528   1.078074e+09     12.230322      0.548138   \n",
       "min        0.000000   0.000000e+00     19.000000      0.000000   \n",
       "25%        0.000000   1.024652e+03     34.000000      1.000000   \n",
       "50%        0.000000   2.605748e+03     43.000000      1.000000   \n",
       "75%        1.000000   3.336411e+05     53.000000      1.000000   \n",
       "max        5.000000   9.725518e+09     75.000000      4.000000   \n",
       "\n",
       "       family_status_id          debt  total_income  \n",
       "count      21525.000000  21525.000000  2.152500e+04  \n",
       "mean           0.972544      0.080883  1.673959e+05  \n",
       "std            1.420324      0.272661  9.790695e+04  \n",
       "min            0.000000      0.000000  2.066726e+04  \n",
       "25%            0.000000      0.000000  1.077982e+05  \n",
       "50%            0.000000      0.000000  1.519313e+05  \n",
       "75%            1.000000      0.000000  2.024175e+05  \n",
       "max            4.000000      1.000000  2.265604e+06  "
      ]
     },
     "execution_count": 18,
     "metadata": {},
     "output_type": "execute_result"
    }
   ],
   "source": [
    "data.describe()"
   ]
  },
  {
   "cell_type": "markdown",
   "metadata": {},
   "source": [
    "Обработали пропуски, убрали некооректные данные по кол-ву детей, также откоррктировали отрицательный стаж, у нас остался неккоректный стаж по пенсионерам, причины этой ошибки выяснить тяжело, возможно при переносе данных или некорректное заполение. Если у нас нет возможности уточнить эти данные, можно предположить, что теоретически стаж пенсионеров должен быть больше,чем у остальных категорий(за исключением военных и структу МВД, но они редко выходят на пенсию с наступлением пенсионного возраста, а продолжают работать), поэто если нам это будет нужно этот столбец можно категоризировать например стаж: более 50 лет и все что выше попадет в эту категорию.\n",
    "Думамое можно сделать вывод, что основные все явно некорректные значения откорректированы."
   ]
  },
  {
   "cell_type": "markdown",
   "metadata": {},
   "source": [
    "<div class=\"alert alert-success\">\n",
    "<b>Комментарий ревьюера v2:</b> <s>В этом разделе есть только код, и нет пояснений, что он делает. Прокомментируй, пожалуйста, каждый шаг.</s>\n",
    "\n",
    "<b>Комментарий ревьюера v3:</b> Отлично, комментарии есть!</div>"
   ]
  },
  {
   "cell_type": "markdown",
   "metadata": {},
   "source": [
    "<div class=\"alert alert-success\">\n",
    "<b>Комментарий ревьюера v2:</b> Помимо явных пропусков, которые мы нашли с помощью isnull(), в данных могут быть скрытые, замененные значениями по умолчанию. Попробуй их найти и устранить. Для категориальных переменных тебе пригодится метод value_counts().\n",
    "\n",
    "<b>Комментарий ревьюера v3:</b> Часть значений обрабтали, но ты ничего не сделал с 0 лет у клиентов и аномально большим стажем у пенсионеров. С возрастом нужно разобраться, потому что ты используешь столбец для заполнения пропусков. Стаж на твое усмотрение, но если не будешь обрабатывать, то дай пояснение, почему.\n",
    "\n",
    "<b>Комментарий ревьюера v4:</b> Отлично, всё сделано! Описать, почему не корректируешь некоторые значения — тоже возможный вариант. Но тут дам подсказку. Обычно в базе данных хранят дату в unix time, а нам выгрузили в количестве дней. При переводе из одного формата в другой можно ошибиться с коэффициентами.</div>"
   ]
  },
  {
   "cell_type": "markdown",
   "metadata": {},
   "source": [
    "<div class=\"alert alert-info\"> <b>Вроде учел все рекомендации</b>"
   ]
  },
  {
   "cell_type": "markdown",
   "metadata": {},
   "source": [
    "<div class=\"alert alert-success\">\n",
    "<b>Комментарий ревьюера v3:</b> Улучшения значительные, но пока еще есть, чем заняться :)\n",
    " </div>"
   ]
  },
  {
   "cell_type": "markdown",
   "metadata": {},
   "source": [
    "### Замена типа данных"
   ]
  },
  {
   "cell_type": "markdown",
   "metadata": {},
   "source": [
    "<div class=\"alert alert-success\">\n",
    "<b>Комментарий ревьюера v2:</b> Дубль заголовков и пустая ячейка под ними — стоит поправить оформление.</div>"
   ]
  },
  {
   "cell_type": "code",
   "execution_count": 19,
   "metadata": {},
   "outputs": [
    {
     "name": "stdout",
     "output_type": "stream",
     "text": [
      "<class 'pandas.core.frame.DataFrame'>\n",
      "RangeIndex: 21525 entries, 0 to 21524\n",
      "Data columns (total 12 columns):\n",
      "children            21525 non-null int64\n",
      "days_employed       21525 non-null int64\n",
      "dob_years           21525 non-null int64\n",
      "education           21525 non-null object\n",
      "education_id        21525 non-null int64\n",
      "family_status       21525 non-null object\n",
      "family_status_id    21525 non-null int64\n",
      "gender              21525 non-null object\n",
      "income_type         21525 non-null object\n",
      "debt                21525 non-null int64\n",
      "total_income        21525 non-null int64\n",
      "purpose             21525 non-null object\n",
      "dtypes: int64(7), object(5)\n",
      "memory usage: 2.0+ MB\n"
     ]
    },
    {
     "data": {
      "text/html": [
       "<div>\n",
       "<style scoped>\n",
       "    .dataframe tbody tr th:only-of-type {\n",
       "        vertical-align: middle;\n",
       "    }\n",
       "\n",
       "    .dataframe tbody tr th {\n",
       "        vertical-align: top;\n",
       "    }\n",
       "\n",
       "    .dataframe thead th {\n",
       "        text-align: right;\n",
       "    }\n",
       "</style>\n",
       "<table border=\"1\" class=\"dataframe\">\n",
       "  <thead>\n",
       "    <tr style=\"text-align: right;\">\n",
       "      <th></th>\n",
       "      <th>children</th>\n",
       "      <th>days_employed</th>\n",
       "      <th>dob_years</th>\n",
       "      <th>education</th>\n",
       "      <th>education_id</th>\n",
       "      <th>family_status</th>\n",
       "      <th>family_status_id</th>\n",
       "      <th>gender</th>\n",
       "      <th>income_type</th>\n",
       "      <th>debt</th>\n",
       "      <th>total_income</th>\n",
       "      <th>purpose</th>\n",
       "    </tr>\n",
       "  </thead>\n",
       "  <tbody>\n",
       "    <tr>\n",
       "      <td>0</td>\n",
       "      <td>1</td>\n",
       "      <td>8437</td>\n",
       "      <td>42</td>\n",
       "      <td>высшее</td>\n",
       "      <td>0</td>\n",
       "      <td>женат / замужем</td>\n",
       "      <td>0</td>\n",
       "      <td>F</td>\n",
       "      <td>сотрудник</td>\n",
       "      <td>0</td>\n",
       "      <td>253875</td>\n",
       "      <td>покупка жилья</td>\n",
       "    </tr>\n",
       "    <tr>\n",
       "      <td>1</td>\n",
       "      <td>1</td>\n",
       "      <td>4024</td>\n",
       "      <td>36</td>\n",
       "      <td>среднее</td>\n",
       "      <td>1</td>\n",
       "      <td>женат / замужем</td>\n",
       "      <td>0</td>\n",
       "      <td>F</td>\n",
       "      <td>сотрудник</td>\n",
       "      <td>0</td>\n",
       "      <td>112080</td>\n",
       "      <td>приобретение автомобиля</td>\n",
       "    </tr>\n",
       "    <tr>\n",
       "      <td>2</td>\n",
       "      <td>0</td>\n",
       "      <td>5623</td>\n",
       "      <td>33</td>\n",
       "      <td>Среднее</td>\n",
       "      <td>1</td>\n",
       "      <td>женат / замужем</td>\n",
       "      <td>0</td>\n",
       "      <td>M</td>\n",
       "      <td>сотрудник</td>\n",
       "      <td>0</td>\n",
       "      <td>145885</td>\n",
       "      <td>покупка жилья</td>\n",
       "    </tr>\n",
       "    <tr>\n",
       "      <td>3</td>\n",
       "      <td>3</td>\n",
       "      <td>4124</td>\n",
       "      <td>32</td>\n",
       "      <td>среднее</td>\n",
       "      <td>1</td>\n",
       "      <td>женат / замужем</td>\n",
       "      <td>0</td>\n",
       "      <td>M</td>\n",
       "      <td>сотрудник</td>\n",
       "      <td>0</td>\n",
       "      <td>267628</td>\n",
       "      <td>дополнительное образование</td>\n",
       "    </tr>\n",
       "    <tr>\n",
       "      <td>4</td>\n",
       "      <td>0</td>\n",
       "      <td>340266</td>\n",
       "      <td>53</td>\n",
       "      <td>среднее</td>\n",
       "      <td>1</td>\n",
       "      <td>гражданский брак</td>\n",
       "      <td>1</td>\n",
       "      <td>F</td>\n",
       "      <td>пенсионер</td>\n",
       "      <td>0</td>\n",
       "      <td>158616</td>\n",
       "      <td>сыграть свадьбу</td>\n",
       "    </tr>\n",
       "    <tr>\n",
       "      <td>5</td>\n",
       "      <td>0</td>\n",
       "      <td>926</td>\n",
       "      <td>27</td>\n",
       "      <td>высшее</td>\n",
       "      <td>0</td>\n",
       "      <td>гражданский брак</td>\n",
       "      <td>1</td>\n",
       "      <td>M</td>\n",
       "      <td>компаньон</td>\n",
       "      <td>0</td>\n",
       "      <td>255763</td>\n",
       "      <td>покупка жилья</td>\n",
       "    </tr>\n",
       "    <tr>\n",
       "      <td>6</td>\n",
       "      <td>0</td>\n",
       "      <td>2879</td>\n",
       "      <td>43</td>\n",
       "      <td>высшее</td>\n",
       "      <td>0</td>\n",
       "      <td>женат / замужем</td>\n",
       "      <td>0</td>\n",
       "      <td>F</td>\n",
       "      <td>компаньон</td>\n",
       "      <td>0</td>\n",
       "      <td>240525</td>\n",
       "      <td>операции с жильем</td>\n",
       "    </tr>\n",
       "    <tr>\n",
       "      <td>7</td>\n",
       "      <td>0</td>\n",
       "      <td>152</td>\n",
       "      <td>50</td>\n",
       "      <td>СРЕДНЕЕ</td>\n",
       "      <td>1</td>\n",
       "      <td>женат / замужем</td>\n",
       "      <td>0</td>\n",
       "      <td>M</td>\n",
       "      <td>сотрудник</td>\n",
       "      <td>0</td>\n",
       "      <td>135823</td>\n",
       "      <td>образование</td>\n",
       "    </tr>\n",
       "    <tr>\n",
       "      <td>8</td>\n",
       "      <td>2</td>\n",
       "      <td>6929</td>\n",
       "      <td>35</td>\n",
       "      <td>ВЫСШЕЕ</td>\n",
       "      <td>0</td>\n",
       "      <td>гражданский брак</td>\n",
       "      <td>1</td>\n",
       "      <td>F</td>\n",
       "      <td>сотрудник</td>\n",
       "      <td>0</td>\n",
       "      <td>95856</td>\n",
       "      <td>на проведение свадьбы</td>\n",
       "    </tr>\n",
       "    <tr>\n",
       "      <td>9</td>\n",
       "      <td>0</td>\n",
       "      <td>2188</td>\n",
       "      <td>41</td>\n",
       "      <td>среднее</td>\n",
       "      <td>1</td>\n",
       "      <td>женат / замужем</td>\n",
       "      <td>0</td>\n",
       "      <td>M</td>\n",
       "      <td>сотрудник</td>\n",
       "      <td>0</td>\n",
       "      <td>144425</td>\n",
       "      <td>покупка жилья для семьи</td>\n",
       "    </tr>\n",
       "  </tbody>\n",
       "</table>\n",
       "</div>"
      ],
      "text/plain": [
       "   children  days_employed  dob_years education  education_id  \\\n",
       "0         1           8437         42    высшее             0   \n",
       "1         1           4024         36   среднее             1   \n",
       "2         0           5623         33   Среднее             1   \n",
       "3         3           4124         32   среднее             1   \n",
       "4         0         340266         53   среднее             1   \n",
       "5         0            926         27    высшее             0   \n",
       "6         0           2879         43    высшее             0   \n",
       "7         0            152         50   СРЕДНЕЕ             1   \n",
       "8         2           6929         35    ВЫСШЕЕ             0   \n",
       "9         0           2188         41   среднее             1   \n",
       "\n",
       "      family_status  family_status_id gender income_type  debt  total_income  \\\n",
       "0   женат / замужем                 0      F   сотрудник     0        253875   \n",
       "1   женат / замужем                 0      F   сотрудник     0        112080   \n",
       "2   женат / замужем                 0      M   сотрудник     0        145885   \n",
       "3   женат / замужем                 0      M   сотрудник     0        267628   \n",
       "4  гражданский брак                 1      F   пенсионер     0        158616   \n",
       "5  гражданский брак                 1      M   компаньон     0        255763   \n",
       "6   женат / замужем                 0      F   компаньон     0        240525   \n",
       "7   женат / замужем                 0      M   сотрудник     0        135823   \n",
       "8  гражданский брак                 1      F   сотрудник     0         95856   \n",
       "9   женат / замужем                 0      M   сотрудник     0        144425   \n",
       "\n",
       "                      purpose  \n",
       "0               покупка жилья  \n",
       "1     приобретение автомобиля  \n",
       "2               покупка жилья  \n",
       "3  дополнительное образование  \n",
       "4             сыграть свадьбу  \n",
       "5               покупка жилья  \n",
       "6           операции с жильем  \n",
       "7                 образование  \n",
       "8       на проведение свадьбы  \n",
       "9     покупка жилья для семьи  "
      ]
     },
     "execution_count": 19,
     "metadata": {},
     "output_type": "execute_result"
    }
   ],
   "source": [
    "data['days_employed'] = data['days_employed'].astype('int')\n",
    "data['total_income'] = data['total_income'].astype('int')\n",
    "data.info()\n",
    "data.head(10)"
   ]
  },
  {
   "cell_type": "markdown",
   "metadata": {},
   "source": [
    "<div class=\"alert alert-success\">\n",
    "<b>Комментарий ревьюера v2:</b> Типы данных привели. Кстати, лучше описывать, что мы собираемся делать перед ячейкой кода, чем постфактум после. После уместо сделать кратикй вывод по проделанной работе. Прям по каждой ячейке не нужно, но в конце каждого шага — вполне.</div>"
   ]
  },
  {
   "cell_type": "markdown",
   "metadata": {},
   "source": [
    "месячную зп и стаж перевели в целые числа, таблица стала более читаемая, приведем столбец education к одному регистру, а то он \"бросается\" в глаза."
   ]
  },
  {
   "cell_type": "code",
   "execution_count": 20,
   "metadata": {},
   "outputs": [
    {
     "data": {
      "text/html": [
       "<div>\n",
       "<style scoped>\n",
       "    .dataframe tbody tr th:only-of-type {\n",
       "        vertical-align: middle;\n",
       "    }\n",
       "\n",
       "    .dataframe tbody tr th {\n",
       "        vertical-align: top;\n",
       "    }\n",
       "\n",
       "    .dataframe thead th {\n",
       "        text-align: right;\n",
       "    }\n",
       "</style>\n",
       "<table border=\"1\" class=\"dataframe\">\n",
       "  <thead>\n",
       "    <tr style=\"text-align: right;\">\n",
       "      <th></th>\n",
       "      <th>children</th>\n",
       "      <th>days_employed</th>\n",
       "      <th>dob_years</th>\n",
       "      <th>education</th>\n",
       "      <th>education_id</th>\n",
       "      <th>family_status</th>\n",
       "      <th>family_status_id</th>\n",
       "      <th>gender</th>\n",
       "      <th>income_type</th>\n",
       "      <th>debt</th>\n",
       "      <th>total_income</th>\n",
       "      <th>purpose</th>\n",
       "    </tr>\n",
       "  </thead>\n",
       "  <tbody>\n",
       "    <tr>\n",
       "      <td>0</td>\n",
       "      <td>1</td>\n",
       "      <td>8437</td>\n",
       "      <td>42</td>\n",
       "      <td>высшее</td>\n",
       "      <td>0</td>\n",
       "      <td>женат / замужем</td>\n",
       "      <td>0</td>\n",
       "      <td>F</td>\n",
       "      <td>сотрудник</td>\n",
       "      <td>0</td>\n",
       "      <td>253875</td>\n",
       "      <td>покупка жилья</td>\n",
       "    </tr>\n",
       "    <tr>\n",
       "      <td>1</td>\n",
       "      <td>1</td>\n",
       "      <td>4024</td>\n",
       "      <td>36</td>\n",
       "      <td>среднее</td>\n",
       "      <td>1</td>\n",
       "      <td>женат / замужем</td>\n",
       "      <td>0</td>\n",
       "      <td>F</td>\n",
       "      <td>сотрудник</td>\n",
       "      <td>0</td>\n",
       "      <td>112080</td>\n",
       "      <td>приобретение автомобиля</td>\n",
       "    </tr>\n",
       "    <tr>\n",
       "      <td>2</td>\n",
       "      <td>0</td>\n",
       "      <td>5623</td>\n",
       "      <td>33</td>\n",
       "      <td>среднее</td>\n",
       "      <td>1</td>\n",
       "      <td>женат / замужем</td>\n",
       "      <td>0</td>\n",
       "      <td>M</td>\n",
       "      <td>сотрудник</td>\n",
       "      <td>0</td>\n",
       "      <td>145885</td>\n",
       "      <td>покупка жилья</td>\n",
       "    </tr>\n",
       "    <tr>\n",
       "      <td>3</td>\n",
       "      <td>3</td>\n",
       "      <td>4124</td>\n",
       "      <td>32</td>\n",
       "      <td>среднее</td>\n",
       "      <td>1</td>\n",
       "      <td>женат / замужем</td>\n",
       "      <td>0</td>\n",
       "      <td>M</td>\n",
       "      <td>сотрудник</td>\n",
       "      <td>0</td>\n",
       "      <td>267628</td>\n",
       "      <td>дополнительное образование</td>\n",
       "    </tr>\n",
       "    <tr>\n",
       "      <td>4</td>\n",
       "      <td>0</td>\n",
       "      <td>340266</td>\n",
       "      <td>53</td>\n",
       "      <td>среднее</td>\n",
       "      <td>1</td>\n",
       "      <td>гражданский брак</td>\n",
       "      <td>1</td>\n",
       "      <td>F</td>\n",
       "      <td>пенсионер</td>\n",
       "      <td>0</td>\n",
       "      <td>158616</td>\n",
       "      <td>сыграть свадьбу</td>\n",
       "    </tr>\n",
       "    <tr>\n",
       "      <td>5</td>\n",
       "      <td>0</td>\n",
       "      <td>926</td>\n",
       "      <td>27</td>\n",
       "      <td>высшее</td>\n",
       "      <td>0</td>\n",
       "      <td>гражданский брак</td>\n",
       "      <td>1</td>\n",
       "      <td>M</td>\n",
       "      <td>компаньон</td>\n",
       "      <td>0</td>\n",
       "      <td>255763</td>\n",
       "      <td>покупка жилья</td>\n",
       "    </tr>\n",
       "    <tr>\n",
       "      <td>6</td>\n",
       "      <td>0</td>\n",
       "      <td>2879</td>\n",
       "      <td>43</td>\n",
       "      <td>высшее</td>\n",
       "      <td>0</td>\n",
       "      <td>женат / замужем</td>\n",
       "      <td>0</td>\n",
       "      <td>F</td>\n",
       "      <td>компаньон</td>\n",
       "      <td>0</td>\n",
       "      <td>240525</td>\n",
       "      <td>операции с жильем</td>\n",
       "    </tr>\n",
       "    <tr>\n",
       "      <td>7</td>\n",
       "      <td>0</td>\n",
       "      <td>152</td>\n",
       "      <td>50</td>\n",
       "      <td>среднее</td>\n",
       "      <td>1</td>\n",
       "      <td>женат / замужем</td>\n",
       "      <td>0</td>\n",
       "      <td>M</td>\n",
       "      <td>сотрудник</td>\n",
       "      <td>0</td>\n",
       "      <td>135823</td>\n",
       "      <td>образование</td>\n",
       "    </tr>\n",
       "    <tr>\n",
       "      <td>8</td>\n",
       "      <td>2</td>\n",
       "      <td>6929</td>\n",
       "      <td>35</td>\n",
       "      <td>высшее</td>\n",
       "      <td>0</td>\n",
       "      <td>гражданский брак</td>\n",
       "      <td>1</td>\n",
       "      <td>F</td>\n",
       "      <td>сотрудник</td>\n",
       "      <td>0</td>\n",
       "      <td>95856</td>\n",
       "      <td>на проведение свадьбы</td>\n",
       "    </tr>\n",
       "    <tr>\n",
       "      <td>9</td>\n",
       "      <td>0</td>\n",
       "      <td>2188</td>\n",
       "      <td>41</td>\n",
       "      <td>среднее</td>\n",
       "      <td>1</td>\n",
       "      <td>женат / замужем</td>\n",
       "      <td>0</td>\n",
       "      <td>M</td>\n",
       "      <td>сотрудник</td>\n",
       "      <td>0</td>\n",
       "      <td>144425</td>\n",
       "      <td>покупка жилья для семьи</td>\n",
       "    </tr>\n",
       "  </tbody>\n",
       "</table>\n",
       "</div>"
      ],
      "text/plain": [
       "   children  days_employed  dob_years education  education_id  \\\n",
       "0         1           8437         42    высшее             0   \n",
       "1         1           4024         36   среднее             1   \n",
       "2         0           5623         33   среднее             1   \n",
       "3         3           4124         32   среднее             1   \n",
       "4         0         340266         53   среднее             1   \n",
       "5         0            926         27    высшее             0   \n",
       "6         0           2879         43    высшее             0   \n",
       "7         0            152         50   среднее             1   \n",
       "8         2           6929         35    высшее             0   \n",
       "9         0           2188         41   среднее             1   \n",
       "\n",
       "      family_status  family_status_id gender income_type  debt  total_income  \\\n",
       "0   женат / замужем                 0      F   сотрудник     0        253875   \n",
       "1   женат / замужем                 0      F   сотрудник     0        112080   \n",
       "2   женат / замужем                 0      M   сотрудник     0        145885   \n",
       "3   женат / замужем                 0      M   сотрудник     0        267628   \n",
       "4  гражданский брак                 1      F   пенсионер     0        158616   \n",
       "5  гражданский брак                 1      M   компаньон     0        255763   \n",
       "6   женат / замужем                 0      F   компаньон     0        240525   \n",
       "7   женат / замужем                 0      M   сотрудник     0        135823   \n",
       "8  гражданский брак                 1      F   сотрудник     0         95856   \n",
       "9   женат / замужем                 0      M   сотрудник     0        144425   \n",
       "\n",
       "                      purpose  \n",
       "0               покупка жилья  \n",
       "1     приобретение автомобиля  \n",
       "2               покупка жилья  \n",
       "3  дополнительное образование  \n",
       "4             сыграть свадьбу  \n",
       "5               покупка жилья  \n",
       "6           операции с жильем  \n",
       "7                 образование  \n",
       "8       на проведение свадьбы  \n",
       "9     покупка жилья для семьи  "
      ]
     },
     "execution_count": 20,
     "metadata": {},
     "output_type": "execute_result"
    }
   ],
   "source": [
    "data['education'] = data['education'].str.lower()\n",
    "data.head(10)"
   ]
  },
  {
   "cell_type": "markdown",
   "metadata": {},
   "source": [
    "<div class=\"alert alert-success\">\n",
    "<b>Комментарий ревьюера v2:</b> Постарайся не вызывать весь датафрейм целиком — так можно повесить Jupyter Hub. Лучше используй для вывода первых и последних строк методы head() и tail().\n",
    "\n",
    "<b>Комментарий ревьюера v3:</b> 👍</div>"
   ]
  },
  {
   "cell_type": "markdown",
   "metadata": {},
   "source": [
    "<div class=\"alert alert-success\">\n",
    "<b>Комментарий ревьюера v2:</b> Мы не просто привели образование к единообразной записи, но и убрали дубликаты из-за разного регистра.</div>"
   ]
  },
  {
   "cell_type": "markdown",
   "metadata": {},
   "source": []
  },
  {
   "cell_type": "markdown",
   "metadata": {
    "scrolled": false
   },
   "source": [
    "<div class=\"alert alert-info\"> <b>Рекомендацию ниже тоже учел, подскажите есть ли какое-то стандартное сочетание клавиш для выделения синим</b>"
   ]
  },
  {
   "cell_type": "markdown",
   "metadata": {},
   "source": [
    "<div class=\"alert alert-success\">\n",
    "<b>Комментарий ревьюера v3:</b> Шортката, тем более стандартного, нет. Можно справиться с помощью сниппетов, но я сама не углублялась в тему :)\n",
    " </div>"
   ]
  },
  {
   "cell_type": "markdown",
   "metadata": {},
   "source": [
    "<div class=\"alert alert-success\">\n",
    "<b>Комментарий ревьюера v2:</b> Отрицательные значения стажа обработали, но лучше это сделать до заполнения пропусков. Иначе мы рассчитали характерыне значения уже с этим ошибками. Отдельно посмотри на значения вроде 340266 — это ведь больше 900 лет. Скорее всего, ошибка системная, и ее можно исследовать и устранить. Сделать то и другое лучше на этапе обработки пропусков. Почему — сейчас эти значения содержат ошибки, поэтому они для нас все равно что пропуск информации. Но исходные значения можно восстановить. \n",
    "\n",
    "Эта часть не обязательная, потому что столбец со стажем может нам не понадобиться в исследовании. Но хорошая практика — очистить от ошибок весь датафрейм.\n",
    "\n",
    "<b>Комментарий ревьюера v3:</b> <s>Эта часть актуальна. Ячейка, в которой ты заполняешь пропуски, у тебя расположена в самом начале проверок, о устранения каких-либо ошибок в данных.</s>\n",
    "\n",
    "<b>Комментарий ревьюера v4:</b> Здесь всё готово.</div>"
   ]
  },
  {
   "cell_type": "markdown",
   "metadata": {},
   "source": [
    "### Обработка дубликатов"
   ]
  },
  {
   "cell_type": "code",
   "execution_count": 21,
   "metadata": {
    "scrolled": true
   },
   "outputs": [
    {
     "data": {
      "text/plain": [
       "71"
      ]
     },
     "execution_count": 21,
     "metadata": {},
     "output_type": "execute_result"
    }
   ],
   "source": [
    "data.duplicated().sum()"
   ]
  },
  {
   "cell_type": "markdown",
   "metadata": {},
   "source": [
    "Посмотрим на дубликаты"
   ]
  },
  {
   "cell_type": "code",
   "execution_count": 22,
   "metadata": {
    "scrolled": false
   },
   "outputs": [
    {
     "data": {
      "text/html": [
       "<div>\n",
       "<style scoped>\n",
       "    .dataframe tbody tr th:only-of-type {\n",
       "        vertical-align: middle;\n",
       "    }\n",
       "\n",
       "    .dataframe tbody tr th {\n",
       "        vertical-align: top;\n",
       "    }\n",
       "\n",
       "    .dataframe thead th {\n",
       "        text-align: right;\n",
       "    }\n",
       "</style>\n",
       "<table border=\"1\" class=\"dataframe\">\n",
       "  <thead>\n",
       "    <tr style=\"text-align: right;\">\n",
       "      <th></th>\n",
       "      <th>children</th>\n",
       "      <th>days_employed</th>\n",
       "      <th>dob_years</th>\n",
       "      <th>education</th>\n",
       "      <th>education_id</th>\n",
       "      <th>family_status</th>\n",
       "      <th>family_status_id</th>\n",
       "      <th>gender</th>\n",
       "      <th>income_type</th>\n",
       "      <th>debt</th>\n",
       "      <th>total_income</th>\n",
       "      <th>purpose</th>\n",
       "    </tr>\n",
       "  </thead>\n",
       "  <tbody>\n",
       "    <tr>\n",
       "      <td>680</td>\n",
       "      <td>1</td>\n",
       "      <td>37228871</td>\n",
       "      <td>30</td>\n",
       "      <td>высшее</td>\n",
       "      <td>0</td>\n",
       "      <td>женат / замужем</td>\n",
       "      <td>0</td>\n",
       "      <td>F</td>\n",
       "      <td>госслужащий</td>\n",
       "      <td>0</td>\n",
       "      <td>170898</td>\n",
       "      <td>покупка жилья для семьи</td>\n",
       "    </tr>\n",
       "    <tr>\n",
       "      <td>18349</td>\n",
       "      <td>1</td>\n",
       "      <td>37228871</td>\n",
       "      <td>30</td>\n",
       "      <td>высшее</td>\n",
       "      <td>0</td>\n",
       "      <td>женат / замужем</td>\n",
       "      <td>0</td>\n",
       "      <td>F</td>\n",
       "      <td>госслужащий</td>\n",
       "      <td>0</td>\n",
       "      <td>170898</td>\n",
       "      <td>покупка жилья для семьи</td>\n",
       "    </tr>\n",
       "    <tr>\n",
       "      <td>9013</td>\n",
       "      <td>2</td>\n",
       "      <td>44674645</td>\n",
       "      <td>36</td>\n",
       "      <td>высшее</td>\n",
       "      <td>0</td>\n",
       "      <td>женат / замужем</td>\n",
       "      <td>0</td>\n",
       "      <td>F</td>\n",
       "      <td>госслужащий</td>\n",
       "      <td>0</td>\n",
       "      <td>170898</td>\n",
       "      <td>получение образования</td>\n",
       "    </tr>\n",
       "    <tr>\n",
       "      <td>14432</td>\n",
       "      <td>2</td>\n",
       "      <td>44674645</td>\n",
       "      <td>36</td>\n",
       "      <td>высшее</td>\n",
       "      <td>0</td>\n",
       "      <td>женат / замужем</td>\n",
       "      <td>0</td>\n",
       "      <td>F</td>\n",
       "      <td>госслужащий</td>\n",
       "      <td>0</td>\n",
       "      <td>170898</td>\n",
       "      <td>получение образования</td>\n",
       "    </tr>\n",
       "    <tr>\n",
       "      <td>8490</td>\n",
       "      <td>1</td>\n",
       "      <td>23891898</td>\n",
       "      <td>31</td>\n",
       "      <td>среднее</td>\n",
       "      <td>1</td>\n",
       "      <td>женат / замужем</td>\n",
       "      <td>0</td>\n",
       "      <td>F</td>\n",
       "      <td>компаньон</td>\n",
       "      <td>0</td>\n",
       "      <td>202417</td>\n",
       "      <td>покупка жилья</td>\n",
       "    </tr>\n",
       "    <tr>\n",
       "      <td>...</td>\n",
       "      <td>...</td>\n",
       "      <td>...</td>\n",
       "      <td>...</td>\n",
       "      <td>...</td>\n",
       "      <td>...</td>\n",
       "      <td>...</td>\n",
       "      <td>...</td>\n",
       "      <td>...</td>\n",
       "      <td>...</td>\n",
       "      <td>...</td>\n",
       "      <td>...</td>\n",
       "      <td>...</td>\n",
       "    </tr>\n",
       "    <tr>\n",
       "      <td>12373</td>\n",
       "      <td>0</td>\n",
       "      <td>49251988</td>\n",
       "      <td>58</td>\n",
       "      <td>среднее</td>\n",
       "      <td>1</td>\n",
       "      <td>женат / замужем</td>\n",
       "      <td>0</td>\n",
       "      <td>M</td>\n",
       "      <td>сотрудник</td>\n",
       "      <td>0</td>\n",
       "      <td>161380</td>\n",
       "      <td>покупка недвижимости</td>\n",
       "    </tr>\n",
       "    <tr>\n",
       "      <td>15091</td>\n",
       "      <td>0</td>\n",
       "      <td>49251988</td>\n",
       "      <td>58</td>\n",
       "      <td>среднее</td>\n",
       "      <td>1</td>\n",
       "      <td>гражданский брак</td>\n",
       "      <td>1</td>\n",
       "      <td>M</td>\n",
       "      <td>сотрудник</td>\n",
       "      <td>0</td>\n",
       "      <td>161380</td>\n",
       "      <td>на проведение свадьбы</td>\n",
       "    </tr>\n",
       "    <tr>\n",
       "      <td>20662</td>\n",
       "      <td>0</td>\n",
       "      <td>49251988</td>\n",
       "      <td>58</td>\n",
       "      <td>среднее</td>\n",
       "      <td>1</td>\n",
       "      <td>гражданский брак</td>\n",
       "      <td>1</td>\n",
       "      <td>M</td>\n",
       "      <td>сотрудник</td>\n",
       "      <td>0</td>\n",
       "      <td>161380</td>\n",
       "      <td>на проведение свадьбы</td>\n",
       "    </tr>\n",
       "    <tr>\n",
       "      <td>554</td>\n",
       "      <td>0</td>\n",
       "      <td>50950332</td>\n",
       "      <td>60</td>\n",
       "      <td>среднее</td>\n",
       "      <td>1</td>\n",
       "      <td>женат / замужем</td>\n",
       "      <td>0</td>\n",
       "      <td>M</td>\n",
       "      <td>сотрудник</td>\n",
       "      <td>0</td>\n",
       "      <td>161380</td>\n",
       "      <td>покупка недвижимости</td>\n",
       "    </tr>\n",
       "    <tr>\n",
       "      <td>15188</td>\n",
       "      <td>0</td>\n",
       "      <td>50950332</td>\n",
       "      <td>60</td>\n",
       "      <td>среднее</td>\n",
       "      <td>1</td>\n",
       "      <td>женат / замужем</td>\n",
       "      <td>0</td>\n",
       "      <td>M</td>\n",
       "      <td>сотрудник</td>\n",
       "      <td>0</td>\n",
       "      <td>161380</td>\n",
       "      <td>покупка недвижимости</td>\n",
       "    </tr>\n",
       "  </tbody>\n",
       "</table>\n",
       "<p>137 rows × 12 columns</p>\n",
       "</div>"
      ],
      "text/plain": [
       "       children  days_employed  dob_years education  education_id  \\\n",
       "680           1       37228871         30    высшее             0   \n",
       "18349         1       37228871         30    высшее             0   \n",
       "9013          2       44674645         36    высшее             0   \n",
       "14432         2       44674645         36    высшее             0   \n",
       "8490          1       23891898         31   среднее             1   \n",
       "...         ...            ...        ...       ...           ...   \n",
       "12373         0       49251988         58   среднее             1   \n",
       "15091         0       49251988         58   среднее             1   \n",
       "20662         0       49251988         58   среднее             1   \n",
       "554           0       50950332         60   среднее             1   \n",
       "15188         0       50950332         60   среднее             1   \n",
       "\n",
       "          family_status  family_status_id gender  income_type  debt  \\\n",
       "680     женат / замужем                 0      F  госслужащий     0   \n",
       "18349   женат / замужем                 0      F  госслужащий     0   \n",
       "9013    женат / замужем                 0      F  госслужащий     0   \n",
       "14432   женат / замужем                 0      F  госслужащий     0   \n",
       "8490    женат / замужем                 0      F    компаньон     0   \n",
       "...                 ...               ...    ...          ...   ...   \n",
       "12373   женат / замужем                 0      M    сотрудник     0   \n",
       "15091  гражданский брак                 1      M    сотрудник     0   \n",
       "20662  гражданский брак                 1      M    сотрудник     0   \n",
       "554     женат / замужем                 0      M    сотрудник     0   \n",
       "15188   женат / замужем                 0      M    сотрудник     0   \n",
       "\n",
       "       total_income                  purpose  \n",
       "680          170898  покупка жилья для семьи  \n",
       "18349        170898  покупка жилья для семьи  \n",
       "9013         170898    получение образования  \n",
       "14432        170898    получение образования  \n",
       "8490         202417            покупка жилья  \n",
       "...             ...                      ...  \n",
       "12373        161380     покупка недвижимости  \n",
       "15091        161380    на проведение свадьбы  \n",
       "20662        161380    на проведение свадьбы  \n",
       "554          161380     покупка недвижимости  \n",
       "15188        161380     покупка недвижимости  \n",
       "\n",
       "[137 rows x 12 columns]"
      ]
     },
     "execution_count": 22,
     "metadata": {},
     "output_type": "execute_result"
    }
   ],
   "source": [
    "data[data.duplicated(keep=False)].sort_values(by=['income_type', 'days_employed'])"
   ]
  },
  {
   "cell_type": "markdown",
   "metadata": {},
   "source": [
    "Похоже на бональное задвоение, удалим их."
   ]
  },
  {
   "cell_type": "code",
   "execution_count": 23,
   "metadata": {},
   "outputs": [
    {
     "name": "stdout",
     "output_type": "stream",
     "text": [
      "0\n"
     ]
    }
   ],
   "source": [
    "data = data.drop_duplicates()\n",
    "print(data.duplicated().sum())"
   ]
  },
  {
   "cell_type": "markdown",
   "metadata": {},
   "source": [
    "Удалили из масива данных дубликаты"
   ]
  },
  {
   "cell_type": "markdown",
   "metadata": {},
   "source": [
    "<div class=\"alert alert-success\">\n",
    "<b>Комментарий ревьюера v2:</b> Отлично, дубликаты обработали.</div>"
   ]
  },
  {
   "cell_type": "markdown",
   "metadata": {},
   "source": [
    "### Лемматизация"
   ]
  },
  {
   "cell_type": "markdown",
   "metadata": {},
   "source": [
    "В стодбце purpose есть список на первый взгляд похожих целей, выведим список уникальных целей"
   ]
  },
  {
   "cell_type": "code",
   "execution_count": 24,
   "metadata": {
    "scrolled": true
   },
   "outputs": [
    {
     "data": {
      "text/html": [
       "<div>\n",
       "<style scoped>\n",
       "    .dataframe tbody tr th:only-of-type {\n",
       "        vertical-align: middle;\n",
       "    }\n",
       "\n",
       "    .dataframe tbody tr th {\n",
       "        vertical-align: top;\n",
       "    }\n",
       "\n",
       "    .dataframe thead th {\n",
       "        text-align: right;\n",
       "    }\n",
       "</style>\n",
       "<table border=\"1\" class=\"dataframe\">\n",
       "  <thead>\n",
       "    <tr style=\"text-align: right;\">\n",
       "      <th></th>\n",
       "      <th>purpose</th>\n",
       "    </tr>\n",
       "  </thead>\n",
       "  <tbody>\n",
       "    <tr>\n",
       "      <td>свадьба</td>\n",
       "      <td>791</td>\n",
       "    </tr>\n",
       "    <tr>\n",
       "      <td>на проведение свадьбы</td>\n",
       "      <td>768</td>\n",
       "    </tr>\n",
       "    <tr>\n",
       "      <td>сыграть свадьбу</td>\n",
       "      <td>765</td>\n",
       "    </tr>\n",
       "    <tr>\n",
       "      <td>операции с недвижимостью</td>\n",
       "      <td>675</td>\n",
       "    </tr>\n",
       "    <tr>\n",
       "      <td>покупка коммерческой недвижимости</td>\n",
       "      <td>661</td>\n",
       "    </tr>\n",
       "    <tr>\n",
       "      <td>операции с жильем</td>\n",
       "      <td>652</td>\n",
       "    </tr>\n",
       "    <tr>\n",
       "      <td>покупка жилья для сдачи</td>\n",
       "      <td>651</td>\n",
       "    </tr>\n",
       "    <tr>\n",
       "      <td>операции с коммерческой недвижимостью</td>\n",
       "      <td>650</td>\n",
       "    </tr>\n",
       "    <tr>\n",
       "      <td>покупка жилья</td>\n",
       "      <td>646</td>\n",
       "    </tr>\n",
       "    <tr>\n",
       "      <td>жилье</td>\n",
       "      <td>646</td>\n",
       "    </tr>\n",
       "    <tr>\n",
       "      <td>покупка жилья для семьи</td>\n",
       "      <td>638</td>\n",
       "    </tr>\n",
       "    <tr>\n",
       "      <td>строительство собственной недвижимости</td>\n",
       "      <td>635</td>\n",
       "    </tr>\n",
       "    <tr>\n",
       "      <td>недвижимость</td>\n",
       "      <td>633</td>\n",
       "    </tr>\n",
       "    <tr>\n",
       "      <td>операции со своей недвижимостью</td>\n",
       "      <td>627</td>\n",
       "    </tr>\n",
       "    <tr>\n",
       "      <td>строительство жилой недвижимости</td>\n",
       "      <td>624</td>\n",
       "    </tr>\n",
       "    <tr>\n",
       "      <td>покупка недвижимости</td>\n",
       "      <td>621</td>\n",
       "    </tr>\n",
       "    <tr>\n",
       "      <td>покупка своего жилья</td>\n",
       "      <td>620</td>\n",
       "    </tr>\n",
       "    <tr>\n",
       "      <td>строительство недвижимости</td>\n",
       "      <td>619</td>\n",
       "    </tr>\n",
       "    <tr>\n",
       "      <td>ремонт жилью</td>\n",
       "      <td>607</td>\n",
       "    </tr>\n",
       "    <tr>\n",
       "      <td>покупка жилой недвижимости</td>\n",
       "      <td>606</td>\n",
       "    </tr>\n",
       "    <tr>\n",
       "      <td>на покупку своего автомобиля</td>\n",
       "      <td>505</td>\n",
       "    </tr>\n",
       "    <tr>\n",
       "      <td>заняться высшим образованием</td>\n",
       "      <td>496</td>\n",
       "    </tr>\n",
       "    <tr>\n",
       "      <td>автомобиль</td>\n",
       "      <td>494</td>\n",
       "    </tr>\n",
       "    <tr>\n",
       "      <td>сделка с подержанным автомобилем</td>\n",
       "      <td>486</td>\n",
       "    </tr>\n",
       "    <tr>\n",
       "      <td>свой автомобиль</td>\n",
       "      <td>478</td>\n",
       "    </tr>\n",
       "    <tr>\n",
       "      <td>на покупку подержанного автомобиля</td>\n",
       "      <td>478</td>\n",
       "    </tr>\n",
       "    <tr>\n",
       "      <td>автомобили</td>\n",
       "      <td>478</td>\n",
       "    </tr>\n",
       "    <tr>\n",
       "      <td>на покупку автомобиля</td>\n",
       "      <td>471</td>\n",
       "    </tr>\n",
       "    <tr>\n",
       "      <td>приобретение автомобиля</td>\n",
       "      <td>461</td>\n",
       "    </tr>\n",
       "    <tr>\n",
       "      <td>дополнительное образование</td>\n",
       "      <td>460</td>\n",
       "    </tr>\n",
       "    <tr>\n",
       "      <td>сделка с автомобилем</td>\n",
       "      <td>455</td>\n",
       "    </tr>\n",
       "    <tr>\n",
       "      <td>высшее образование</td>\n",
       "      <td>452</td>\n",
       "    </tr>\n",
       "    <tr>\n",
       "      <td>образование</td>\n",
       "      <td>447</td>\n",
       "    </tr>\n",
       "    <tr>\n",
       "      <td>получение дополнительного образования</td>\n",
       "      <td>446</td>\n",
       "    </tr>\n",
       "    <tr>\n",
       "      <td>получение образования</td>\n",
       "      <td>442</td>\n",
       "    </tr>\n",
       "    <tr>\n",
       "      <td>профильное образование</td>\n",
       "      <td>436</td>\n",
       "    </tr>\n",
       "    <tr>\n",
       "      <td>получение высшего образования</td>\n",
       "      <td>426</td>\n",
       "    </tr>\n",
       "    <tr>\n",
       "      <td>заняться образованием</td>\n",
       "      <td>408</td>\n",
       "    </tr>\n",
       "  </tbody>\n",
       "</table>\n",
       "</div>"
      ],
      "text/plain": [
       "                                        purpose\n",
       "свадьба                                     791\n",
       "на проведение свадьбы                       768\n",
       "сыграть свадьбу                             765\n",
       "операции с недвижимостью                    675\n",
       "покупка коммерческой недвижимости           661\n",
       "операции с жильем                           652\n",
       "покупка жилья для сдачи                     651\n",
       "операции с коммерческой недвижимостью       650\n",
       "покупка жилья                               646\n",
       "жилье                                       646\n",
       "покупка жилья для семьи                     638\n",
       "строительство собственной недвижимости      635\n",
       "недвижимость                                633\n",
       "операции со своей недвижимостью             627\n",
       "строительство жилой недвижимости            624\n",
       "покупка недвижимости                        621\n",
       "покупка своего жилья                        620\n",
       "строительство недвижимости                  619\n",
       "ремонт жилью                                607\n",
       "покупка жилой недвижимости                  606\n",
       "на покупку своего автомобиля                505\n",
       "заняться высшим образованием                496\n",
       "автомобиль                                  494\n",
       "сделка с подержанным автомобилем            486\n",
       "свой автомобиль                             478\n",
       "на покупку подержанного автомобиля          478\n",
       "автомобили                                  478\n",
       "на покупку автомобиля                       471\n",
       "приобретение автомобиля                     461\n",
       "дополнительное образование                  460\n",
       "сделка с автомобилем                        455\n",
       "высшее образование                          452\n",
       "образование                                 447\n",
       "получение дополнительного образования       446\n",
       "получение образования                       442\n",
       "профильное образование                      436\n",
       "получение высшего образования               426\n",
       "заняться образованием                       408"
      ]
     },
     "execution_count": 24,
     "metadata": {},
     "output_type": "execute_result"
    }
   ],
   "source": [
    "unique_purposes = data['purpose'].value_counts().index.tolist()\n",
    "data['purpose'].value_counts().to_frame()"
   ]
  },
  {
   "cell_type": "markdown",
   "metadata": {},
   "source": [
    "<div class=\"alert alert-success\">\n",
    "<b>Комментарий ревьюера v2:</b> Метод to_frame() позволил бы красиво отобразить эти данные, но нужно убрать print().\n",
    "\n",
    "<b>Комментарий ревьюера v3:</b> ✨</div>"
   ]
  },
  {
   "cell_type": "markdown",
   "metadata": {},
   "source": [
    "видно, что есть ряд одинаковых целей по разному интерпретированных, применим метод лемматизации, чтобы выделить уникальные леммы"
   ]
  },
  {
   "cell_type": "code",
   "execution_count": 25,
   "metadata": {},
   "outputs": [],
   "source": [
    "from collections import Counter\n",
    "from nltk.stem import SnowballStemmer \n",
    "russian_stemmer = SnowballStemmer('russian')\n",
    "\n",
    "from pymystem3 import Mystem\n",
    "m = Mystem()\n"
   ]
  },
  {
   "cell_type": "code",
   "execution_count": 26,
   "metadata": {},
   "outputs": [],
   "source": [
    "\n",
    "def do_lemma(row):\n",
    "    lemma = m.lemmatize(row)\n",
    "    return lemma\n"
   ]
  },
  {
   "cell_type": "markdown",
   "metadata": {},
   "source": [
    "Cоздадим дополнительный столбец с лемматизированными целями\n"
   ]
  },
  {
   "cell_type": "code",
   "execution_count": 27,
   "metadata": {},
   "outputs": [],
   "source": [
    "data['purpose_lemma'] = data['purpose'].apply(do_lemma)"
   ]
  },
  {
   "cell_type": "markdown",
   "metadata": {},
   "source": [
    "создаем строку из уникальных целей\n",
    "\n"
   ]
  },
  {
   "cell_type": "code",
   "execution_count": 28,
   "metadata": {},
   "outputs": [],
   "source": [
    "all_lemmas_list = data['purpose_lemma'].values\n",
    "flat_lemmas_list = []\n",
    "for sublist in all_lemmas_list:\n",
    "    for item in sublist:\n",
    "        flat_lemmas_list.append(item)"
   ]
  },
  {
   "cell_type": "code",
   "execution_count": 29,
   "metadata": {},
   "outputs": [
    {
     "name": "stdout",
     "output_type": "stream",
     "text": [
      "[list(['покупка', ' ', 'жилье', '\\n'])\n",
      " list(['приобретение', ' ', 'автомобиль', '\\n'])\n",
      " list(['покупка', ' ', 'жилье', '\\n']) ... list(['недвижимость', '\\n'])\n",
      " list(['на', ' ', 'покупка', ' ', 'свой', ' ', 'автомобиль', '\\n'])\n",
      " list(['на', ' ', 'покупка', ' ', 'автомобиль', '\\n'])]\n",
      "Посчитаем самые популярные леммы в графе purpose:\n",
      "Counter({' ': 33570, '\\n': 21454, 'недвижимость': 6351, 'покупка': 5897, 'жилье': 4460, 'автомобиль': 4306, 'образование': 4013, 'с': 2918, 'операция': 2604, 'свадьба': 2324, 'свой': 2230, 'на': 2222, 'строительство': 1878, 'высокий': 1374, 'получение': 1314, 'коммерческий': 1311, 'для': 1289, 'жилой': 1230, 'сделка': 941, 'дополнительный': 906, 'заниматься': 904, 'проведение': 768, 'сыграть': 765, 'сдача': 651, 'семья': 638, 'собственный': 635, 'со': 627, 'ремонт': 607, 'подержанный': 486, 'подержать': 478, 'приобретение': 461, 'профильный': 436})\n"
     ]
    }
   ],
   "source": [
    "print(all_lemmas_list)\n",
    "from collections import Counter\n",
    "#посчитаем самые популярные слова, чтобы обобщить цели кредитов, это: недвижимость, образование, автомобиль, свадьба\n",
    "print('Посчитаем самые популярные леммы в графе purpose:')\n",
    "print(Counter(flat_lemmas_list))"
   ]
  },
  {
   "cell_type": "markdown",
   "metadata": {},
   "source": [
    "выводим функцию для создания словаря"
   ]
  },
  {
   "cell_type": "code",
   "execution_count": 30,
   "metadata": {},
   "outputs": [
    {
     "name": "stdout",
     "output_type": "stream",
     "text": [
      "Cоздадим словарь с категориями в графе purpose, вдальнейшем его можно будет пополнять:\n",
      "['жилье', 'недвижимость', 'образование', 'автомобиль', 'свадьба']\n"
     ]
    }
   ],
   "source": [
    "def dictionary(world, data):\n",
    "    for row in data:\n",
    "        if world == row:\n",
    "            return row\n",
    "\n",
    "print('Cоздадим словарь с категориями в графе purpose, вдальнейшем его можно будет пополнять:')\n",
    "#создадим словарь с категориями, вдальнейшем его можно будет пополнять\n",
    "\n",
    "dict = []\n",
    "#вручную добавим выбранные мною слова\n",
    "dict.append(dictionary('жилье', flat_lemmas_list))\n",
    "dict.append(dictionary('недвижимость', flat_lemmas_list))\n",
    "dict.append(dictionary('образование', flat_lemmas_list))\n",
    "dict.append(dictionary('автомобиль', flat_lemmas_list))\n",
    "dict.append(dictionary('свадьба', flat_lemmas_list))\n",
    "print(dict)"
   ]
  },
  {
   "cell_type": "markdown",
   "metadata": {},
   "source": [
    "Создаем столбец с категориями и функцию которая выдает категории"
   ]
  },
  {
   "cell_type": "code",
   "execution_count": 31,
   "metadata": {},
   "outputs": [
    {
     "data": {
      "text/html": [
       "<div>\n",
       "<style scoped>\n",
       "    .dataframe tbody tr th:only-of-type {\n",
       "        vertical-align: middle;\n",
       "    }\n",
       "\n",
       "    .dataframe tbody tr th {\n",
       "        vertical-align: top;\n",
       "    }\n",
       "\n",
       "    .dataframe thead th {\n",
       "        text-align: right;\n",
       "    }\n",
       "</style>\n",
       "<table border=\"1\" class=\"dataframe\">\n",
       "  <thead>\n",
       "    <tr style=\"text-align: right;\">\n",
       "      <th></th>\n",
       "      <th>children</th>\n",
       "      <th>days_employed</th>\n",
       "      <th>dob_years</th>\n",
       "      <th>education</th>\n",
       "      <th>education_id</th>\n",
       "      <th>family_status</th>\n",
       "      <th>family_status_id</th>\n",
       "      <th>gender</th>\n",
       "      <th>income_type</th>\n",
       "      <th>debt</th>\n",
       "      <th>total_income</th>\n",
       "      <th>purpose</th>\n",
       "      <th>purpose_lemma</th>\n",
       "      <th>category_purpose</th>\n",
       "    </tr>\n",
       "  </thead>\n",
       "  <tbody>\n",
       "    <tr>\n",
       "      <td>0</td>\n",
       "      <td>1</td>\n",
       "      <td>8437</td>\n",
       "      <td>42</td>\n",
       "      <td>высшее</td>\n",
       "      <td>0</td>\n",
       "      <td>женат / замужем</td>\n",
       "      <td>0</td>\n",
       "      <td>F</td>\n",
       "      <td>сотрудник</td>\n",
       "      <td>0</td>\n",
       "      <td>253875</td>\n",
       "      <td>покупка жилья</td>\n",
       "      <td>[покупка,  , жилье, \\n]</td>\n",
       "      <td>недвижимость</td>\n",
       "    </tr>\n",
       "    <tr>\n",
       "      <td>1</td>\n",
       "      <td>1</td>\n",
       "      <td>4024</td>\n",
       "      <td>36</td>\n",
       "      <td>среднее</td>\n",
       "      <td>1</td>\n",
       "      <td>женат / замужем</td>\n",
       "      <td>0</td>\n",
       "      <td>F</td>\n",
       "      <td>сотрудник</td>\n",
       "      <td>0</td>\n",
       "      <td>112080</td>\n",
       "      <td>приобретение автомобиля</td>\n",
       "      <td>[приобретение,  , автомобиль, \\n]</td>\n",
       "      <td>автомобиль</td>\n",
       "    </tr>\n",
       "    <tr>\n",
       "      <td>2</td>\n",
       "      <td>0</td>\n",
       "      <td>5623</td>\n",
       "      <td>33</td>\n",
       "      <td>среднее</td>\n",
       "      <td>1</td>\n",
       "      <td>женат / замужем</td>\n",
       "      <td>0</td>\n",
       "      <td>M</td>\n",
       "      <td>сотрудник</td>\n",
       "      <td>0</td>\n",
       "      <td>145885</td>\n",
       "      <td>покупка жилья</td>\n",
       "      <td>[покупка,  , жилье, \\n]</td>\n",
       "      <td>недвижимость</td>\n",
       "    </tr>\n",
       "    <tr>\n",
       "      <td>3</td>\n",
       "      <td>3</td>\n",
       "      <td>4124</td>\n",
       "      <td>32</td>\n",
       "      <td>среднее</td>\n",
       "      <td>1</td>\n",
       "      <td>женат / замужем</td>\n",
       "      <td>0</td>\n",
       "      <td>M</td>\n",
       "      <td>сотрудник</td>\n",
       "      <td>0</td>\n",
       "      <td>267628</td>\n",
       "      <td>дополнительное образование</td>\n",
       "      <td>[дополнительный,  , образование, \\n]</td>\n",
       "      <td>образование</td>\n",
       "    </tr>\n",
       "    <tr>\n",
       "      <td>4</td>\n",
       "      <td>0</td>\n",
       "      <td>340266</td>\n",
       "      <td>53</td>\n",
       "      <td>среднее</td>\n",
       "      <td>1</td>\n",
       "      <td>гражданский брак</td>\n",
       "      <td>1</td>\n",
       "      <td>F</td>\n",
       "      <td>пенсионер</td>\n",
       "      <td>0</td>\n",
       "      <td>158616</td>\n",
       "      <td>сыграть свадьбу</td>\n",
       "      <td>[сыграть,  , свадьба, \\n]</td>\n",
       "      <td>свадьба</td>\n",
       "    </tr>\n",
       "    <tr>\n",
       "      <td>5</td>\n",
       "      <td>0</td>\n",
       "      <td>926</td>\n",
       "      <td>27</td>\n",
       "      <td>высшее</td>\n",
       "      <td>0</td>\n",
       "      <td>гражданский брак</td>\n",
       "      <td>1</td>\n",
       "      <td>M</td>\n",
       "      <td>компаньон</td>\n",
       "      <td>0</td>\n",
       "      <td>255763</td>\n",
       "      <td>покупка жилья</td>\n",
       "      <td>[покупка,  , жилье, \\n]</td>\n",
       "      <td>недвижимость</td>\n",
       "    </tr>\n",
       "    <tr>\n",
       "      <td>6</td>\n",
       "      <td>0</td>\n",
       "      <td>2879</td>\n",
       "      <td>43</td>\n",
       "      <td>высшее</td>\n",
       "      <td>0</td>\n",
       "      <td>женат / замужем</td>\n",
       "      <td>0</td>\n",
       "      <td>F</td>\n",
       "      <td>компаньон</td>\n",
       "      <td>0</td>\n",
       "      <td>240525</td>\n",
       "      <td>операции с жильем</td>\n",
       "      <td>[операция,  , с,  , жилье, \\n]</td>\n",
       "      <td>недвижимость</td>\n",
       "    </tr>\n",
       "    <tr>\n",
       "      <td>7</td>\n",
       "      <td>0</td>\n",
       "      <td>152</td>\n",
       "      <td>50</td>\n",
       "      <td>среднее</td>\n",
       "      <td>1</td>\n",
       "      <td>женат / замужем</td>\n",
       "      <td>0</td>\n",
       "      <td>M</td>\n",
       "      <td>сотрудник</td>\n",
       "      <td>0</td>\n",
       "      <td>135823</td>\n",
       "      <td>образование</td>\n",
       "      <td>[образование, \\n]</td>\n",
       "      <td>образование</td>\n",
       "    </tr>\n",
       "    <tr>\n",
       "      <td>8</td>\n",
       "      <td>2</td>\n",
       "      <td>6929</td>\n",
       "      <td>35</td>\n",
       "      <td>высшее</td>\n",
       "      <td>0</td>\n",
       "      <td>гражданский брак</td>\n",
       "      <td>1</td>\n",
       "      <td>F</td>\n",
       "      <td>сотрудник</td>\n",
       "      <td>0</td>\n",
       "      <td>95856</td>\n",
       "      <td>на проведение свадьбы</td>\n",
       "      <td>[на,  , проведение,  , свадьба, \\n]</td>\n",
       "      <td>свадьба</td>\n",
       "    </tr>\n",
       "    <tr>\n",
       "      <td>9</td>\n",
       "      <td>0</td>\n",
       "      <td>2188</td>\n",
       "      <td>41</td>\n",
       "      <td>среднее</td>\n",
       "      <td>1</td>\n",
       "      <td>женат / замужем</td>\n",
       "      <td>0</td>\n",
       "      <td>M</td>\n",
       "      <td>сотрудник</td>\n",
       "      <td>0</td>\n",
       "      <td>144425</td>\n",
       "      <td>покупка жилья для семьи</td>\n",
       "      <td>[покупка,  , жилье,  , для,  , семья, \\n]</td>\n",
       "      <td>недвижимость</td>\n",
       "    </tr>\n",
       "  </tbody>\n",
       "</table>\n",
       "</div>"
      ],
      "text/plain": [
       "   children  days_employed  dob_years education  education_id  \\\n",
       "0         1           8437         42    высшее             0   \n",
       "1         1           4024         36   среднее             1   \n",
       "2         0           5623         33   среднее             1   \n",
       "3         3           4124         32   среднее             1   \n",
       "4         0         340266         53   среднее             1   \n",
       "5         0            926         27    высшее             0   \n",
       "6         0           2879         43    высшее             0   \n",
       "7         0            152         50   среднее             1   \n",
       "8         2           6929         35    высшее             0   \n",
       "9         0           2188         41   среднее             1   \n",
       "\n",
       "      family_status  family_status_id gender income_type  debt  total_income  \\\n",
       "0   женат / замужем                 0      F   сотрудник     0        253875   \n",
       "1   женат / замужем                 0      F   сотрудник     0        112080   \n",
       "2   женат / замужем                 0      M   сотрудник     0        145885   \n",
       "3   женат / замужем                 0      M   сотрудник     0        267628   \n",
       "4  гражданский брак                 1      F   пенсионер     0        158616   \n",
       "5  гражданский брак                 1      M   компаньон     0        255763   \n",
       "6   женат / замужем                 0      F   компаньон     0        240525   \n",
       "7   женат / замужем                 0      M   сотрудник     0        135823   \n",
       "8  гражданский брак                 1      F   сотрудник     0         95856   \n",
       "9   женат / замужем                 0      M   сотрудник     0        144425   \n",
       "\n",
       "                      purpose                              purpose_lemma  \\\n",
       "0               покупка жилья                    [покупка,  , жилье, \\n]   \n",
       "1     приобретение автомобиля          [приобретение,  , автомобиль, \\n]   \n",
       "2               покупка жилья                    [покупка,  , жилье, \\n]   \n",
       "3  дополнительное образование       [дополнительный,  , образование, \\n]   \n",
       "4             сыграть свадьбу                  [сыграть,  , свадьба, \\n]   \n",
       "5               покупка жилья                    [покупка,  , жилье, \\n]   \n",
       "6           операции с жильем             [операция,  , с,  , жилье, \\n]   \n",
       "7                 образование                          [образование, \\n]   \n",
       "8       на проведение свадьбы        [на,  , проведение,  , свадьба, \\n]   \n",
       "9     покупка жилья для семьи  [покупка,  , жилье,  , для,  , семья, \\n]   \n",
       "\n",
       "  category_purpose  \n",
       "0     недвижимость  \n",
       "1       автомобиль  \n",
       "2     недвижимость  \n",
       "3      образование  \n",
       "4          свадьба  \n",
       "5     недвижимость  \n",
       "6     недвижимость  \n",
       "7      образование  \n",
       "8          свадьба  \n",
       "9     недвижимость  "
      ]
     },
     "execution_count": 31,
     "metadata": {},
     "output_type": "execute_result"
    }
   ],
   "source": [
    "def category(data):\n",
    "    if dict[0] in data:\n",
    "        return dict[1]\n",
    "    elif dict[1] in data:\n",
    "        return dict[1]\n",
    "    elif dict[2] in data:\n",
    "        return dict[2]\n",
    "    elif dict[3] in data:\n",
    "        return dict[3]\n",
    "    else:\n",
    "        return dict[4]\n",
    "    \n",
    "\n",
    "data['category_purpose'] = data['purpose_lemma'].apply(category)\n",
    "data.head(10)"
   ]
  },
  {
   "cell_type": "markdown",
   "metadata": {},
   "source": [
    "<div class=\"alert alert-success\">\n",
    "<b>Комментарий ревьюера v2:</b> Не используй циклы для построчной обработки таблицы — это медленно. Лучше напиши функцию для этой операции и передай её в метод apply().\n",
    "        \n",
    "        \n",
    "\n",
    "<b>Комментарий ревьюера v3:</b> <s>Актуально.</s>\n",
    "\n",
    "<b>Комментарий ревьюера v4:</b> Сделано!</div>"
   ]
  },
  {
   "cell_type": "markdown",
   "metadata": {},
   "source": [
    "<div class=\"alert alert-info\"> <b>исправил</b> "
   ]
  },
  {
   "cell_type": "code",
   "execution_count": 32,
   "metadata": {},
   "outputs": [
    {
     "data": {
      "text/html": [
       "<div>\n",
       "<style scoped>\n",
       "    .dataframe tbody tr th:only-of-type {\n",
       "        vertical-align: middle;\n",
       "    }\n",
       "\n",
       "    .dataframe tbody tr th {\n",
       "        vertical-align: top;\n",
       "    }\n",
       "\n",
       "    .dataframe thead th {\n",
       "        text-align: right;\n",
       "    }\n",
       "</style>\n",
       "<table border=\"1\" class=\"dataframe\">\n",
       "  <thead>\n",
       "    <tr style=\"text-align: right;\">\n",
       "      <th></th>\n",
       "      <th>children</th>\n",
       "      <th>days_employed</th>\n",
       "      <th>dob_years</th>\n",
       "      <th>education</th>\n",
       "      <th>education_id</th>\n",
       "      <th>family_status</th>\n",
       "      <th>family_status_id</th>\n",
       "      <th>gender</th>\n",
       "      <th>income_type</th>\n",
       "      <th>debt</th>\n",
       "      <th>total_income</th>\n",
       "      <th>purpose</th>\n",
       "      <th>purpose_lemma</th>\n",
       "      <th>category_purpose</th>\n",
       "    </tr>\n",
       "  </thead>\n",
       "  <tbody>\n",
       "    <tr>\n",
       "      <td>0</td>\n",
       "      <td>1</td>\n",
       "      <td>8437</td>\n",
       "      <td>42</td>\n",
       "      <td>высшее</td>\n",
       "      <td>0</td>\n",
       "      <td>женат / замужем</td>\n",
       "      <td>0</td>\n",
       "      <td>F</td>\n",
       "      <td>сотрудник</td>\n",
       "      <td>0</td>\n",
       "      <td>253875</td>\n",
       "      <td>покупка жилья</td>\n",
       "      <td>[покупка,  , жилье, \\n]</td>\n",
       "      <td>недвижимость</td>\n",
       "    </tr>\n",
       "    <tr>\n",
       "      <td>1</td>\n",
       "      <td>1</td>\n",
       "      <td>4024</td>\n",
       "      <td>36</td>\n",
       "      <td>среднее</td>\n",
       "      <td>1</td>\n",
       "      <td>женат / замужем</td>\n",
       "      <td>0</td>\n",
       "      <td>F</td>\n",
       "      <td>сотрудник</td>\n",
       "      <td>0</td>\n",
       "      <td>112080</td>\n",
       "      <td>приобретение автомобиля</td>\n",
       "      <td>[приобретение,  , автомобиль, \\n]</td>\n",
       "      <td>автомобиль</td>\n",
       "    </tr>\n",
       "    <tr>\n",
       "      <td>2</td>\n",
       "      <td>0</td>\n",
       "      <td>5623</td>\n",
       "      <td>33</td>\n",
       "      <td>среднее</td>\n",
       "      <td>1</td>\n",
       "      <td>женат / замужем</td>\n",
       "      <td>0</td>\n",
       "      <td>M</td>\n",
       "      <td>сотрудник</td>\n",
       "      <td>0</td>\n",
       "      <td>145885</td>\n",
       "      <td>покупка жилья</td>\n",
       "      <td>[покупка,  , жилье, \\n]</td>\n",
       "      <td>недвижимость</td>\n",
       "    </tr>\n",
       "    <tr>\n",
       "      <td>3</td>\n",
       "      <td>3</td>\n",
       "      <td>4124</td>\n",
       "      <td>32</td>\n",
       "      <td>среднее</td>\n",
       "      <td>1</td>\n",
       "      <td>женат / замужем</td>\n",
       "      <td>0</td>\n",
       "      <td>M</td>\n",
       "      <td>сотрудник</td>\n",
       "      <td>0</td>\n",
       "      <td>267628</td>\n",
       "      <td>дополнительное образование</td>\n",
       "      <td>[дополнительный,  , образование, \\n]</td>\n",
       "      <td>образование</td>\n",
       "    </tr>\n",
       "    <tr>\n",
       "      <td>4</td>\n",
       "      <td>0</td>\n",
       "      <td>340266</td>\n",
       "      <td>53</td>\n",
       "      <td>среднее</td>\n",
       "      <td>1</td>\n",
       "      <td>гражданский брак</td>\n",
       "      <td>1</td>\n",
       "      <td>F</td>\n",
       "      <td>пенсионер</td>\n",
       "      <td>0</td>\n",
       "      <td>158616</td>\n",
       "      <td>сыграть свадьбу</td>\n",
       "      <td>[сыграть,  , свадьба, \\n]</td>\n",
       "      <td>свадьба</td>\n",
       "    </tr>\n",
       "    <tr>\n",
       "      <td>5</td>\n",
       "      <td>0</td>\n",
       "      <td>926</td>\n",
       "      <td>27</td>\n",
       "      <td>высшее</td>\n",
       "      <td>0</td>\n",
       "      <td>гражданский брак</td>\n",
       "      <td>1</td>\n",
       "      <td>M</td>\n",
       "      <td>компаньон</td>\n",
       "      <td>0</td>\n",
       "      <td>255763</td>\n",
       "      <td>покупка жилья</td>\n",
       "      <td>[покупка,  , жилье, \\n]</td>\n",
       "      <td>недвижимость</td>\n",
       "    </tr>\n",
       "    <tr>\n",
       "      <td>6</td>\n",
       "      <td>0</td>\n",
       "      <td>2879</td>\n",
       "      <td>43</td>\n",
       "      <td>высшее</td>\n",
       "      <td>0</td>\n",
       "      <td>женат / замужем</td>\n",
       "      <td>0</td>\n",
       "      <td>F</td>\n",
       "      <td>компаньон</td>\n",
       "      <td>0</td>\n",
       "      <td>240525</td>\n",
       "      <td>операции с жильем</td>\n",
       "      <td>[операция,  , с,  , жилье, \\n]</td>\n",
       "      <td>недвижимость</td>\n",
       "    </tr>\n",
       "    <tr>\n",
       "      <td>7</td>\n",
       "      <td>0</td>\n",
       "      <td>152</td>\n",
       "      <td>50</td>\n",
       "      <td>среднее</td>\n",
       "      <td>1</td>\n",
       "      <td>женат / замужем</td>\n",
       "      <td>0</td>\n",
       "      <td>M</td>\n",
       "      <td>сотрудник</td>\n",
       "      <td>0</td>\n",
       "      <td>135823</td>\n",
       "      <td>образование</td>\n",
       "      <td>[образование, \\n]</td>\n",
       "      <td>образование</td>\n",
       "    </tr>\n",
       "    <tr>\n",
       "      <td>8</td>\n",
       "      <td>2</td>\n",
       "      <td>6929</td>\n",
       "      <td>35</td>\n",
       "      <td>высшее</td>\n",
       "      <td>0</td>\n",
       "      <td>гражданский брак</td>\n",
       "      <td>1</td>\n",
       "      <td>F</td>\n",
       "      <td>сотрудник</td>\n",
       "      <td>0</td>\n",
       "      <td>95856</td>\n",
       "      <td>на проведение свадьбы</td>\n",
       "      <td>[на,  , проведение,  , свадьба, \\n]</td>\n",
       "      <td>свадьба</td>\n",
       "    </tr>\n",
       "    <tr>\n",
       "      <td>9</td>\n",
       "      <td>0</td>\n",
       "      <td>2188</td>\n",
       "      <td>41</td>\n",
       "      <td>среднее</td>\n",
       "      <td>1</td>\n",
       "      <td>женат / замужем</td>\n",
       "      <td>0</td>\n",
       "      <td>M</td>\n",
       "      <td>сотрудник</td>\n",
       "      <td>0</td>\n",
       "      <td>144425</td>\n",
       "      <td>покупка жилья для семьи</td>\n",
       "      <td>[покупка,  , жилье,  , для,  , семья, \\n]</td>\n",
       "      <td>недвижимость</td>\n",
       "    </tr>\n",
       "  </tbody>\n",
       "</table>\n",
       "</div>"
      ],
      "text/plain": [
       "   children  days_employed  dob_years education  education_id  \\\n",
       "0         1           8437         42    высшее             0   \n",
       "1         1           4024         36   среднее             1   \n",
       "2         0           5623         33   среднее             1   \n",
       "3         3           4124         32   среднее             1   \n",
       "4         0         340266         53   среднее             1   \n",
       "5         0            926         27    высшее             0   \n",
       "6         0           2879         43    высшее             0   \n",
       "7         0            152         50   среднее             1   \n",
       "8         2           6929         35    высшее             0   \n",
       "9         0           2188         41   среднее             1   \n",
       "\n",
       "      family_status  family_status_id gender income_type  debt  total_income  \\\n",
       "0   женат / замужем                 0      F   сотрудник     0        253875   \n",
       "1   женат / замужем                 0      F   сотрудник     0        112080   \n",
       "2   женат / замужем                 0      M   сотрудник     0        145885   \n",
       "3   женат / замужем                 0      M   сотрудник     0        267628   \n",
       "4  гражданский брак                 1      F   пенсионер     0        158616   \n",
       "5  гражданский брак                 1      M   компаньон     0        255763   \n",
       "6   женат / замужем                 0      F   компаньон     0        240525   \n",
       "7   женат / замужем                 0      M   сотрудник     0        135823   \n",
       "8  гражданский брак                 1      F   сотрудник     0         95856   \n",
       "9   женат / замужем                 0      M   сотрудник     0        144425   \n",
       "\n",
       "                      purpose                              purpose_lemma  \\\n",
       "0               покупка жилья                    [покупка,  , жилье, \\n]   \n",
       "1     приобретение автомобиля          [приобретение,  , автомобиль, \\n]   \n",
       "2               покупка жилья                    [покупка,  , жилье, \\n]   \n",
       "3  дополнительное образование       [дополнительный,  , образование, \\n]   \n",
       "4             сыграть свадьбу                  [сыграть,  , свадьба, \\n]   \n",
       "5               покупка жилья                    [покупка,  , жилье, \\n]   \n",
       "6           операции с жильем             [операция,  , с,  , жилье, \\n]   \n",
       "7                 образование                          [образование, \\n]   \n",
       "8       на проведение свадьбы        [на,  , проведение,  , свадьба, \\n]   \n",
       "9     покупка жилья для семьи  [покупка,  , жилье,  , для,  , семья, \\n]   \n",
       "\n",
       "  category_purpose  \n",
       "0     недвижимость  \n",
       "1       автомобиль  \n",
       "2     недвижимость  \n",
       "3      образование  \n",
       "4          свадьба  \n",
       "5     недвижимость  \n",
       "6     недвижимость  \n",
       "7      образование  \n",
       "8          свадьба  \n",
       "9     недвижимость  "
      ]
     },
     "execution_count": 32,
     "metadata": {},
     "output_type": "execute_result"
    }
   ],
   "source": [
    "data.head(10)"
   ]
  },
  {
   "cell_type": "markdown",
   "metadata": {},
   "source": [
    "Мы получили список уникальных лемм, недвижимость и жилье это одно и тоже."
   ]
  },
  {
   "cell_type": "code",
   "execution_count": null,
   "metadata": {},
   "outputs": [],
   "source": []
  },
  {
   "cell_type": "markdown",
   "metadata": {},
   "source": [
    "<div class=\"alert alert-success\">\n",
    "<b>Комментарий ревьюера v2:</b> Лемматизацию выполнили! Но раз в конце ты оставляешь только 4 леммы, можно задать их список вручную.</div>"
   ]
  },
  {
   "cell_type": "markdown",
   "metadata": {},
   "source": [
    "<div class=\"alert alert-info\"> <b>Исправил</b> "
   ]
  },
  {
   "cell_type": "markdown",
   "metadata": {},
   "source": [
    "<div class=\"alert alert-success\">\n",
    "<b>Комментарий ревьюера v3:</b> <s>А судя по количеству None в столбце final_purposes, функция и не сработала. </s>\n",
    "\n",
    "\n",
    "<b>Комментарий ревьюера v4:</b> Теперь порядок. Но стоит проверять, как отработала твоя функция. </div>"
   ]
  },
  {
   "cell_type": "markdown",
   "metadata": {},
   "source": [
    "### Категоризация данных"
   ]
  },
  {
   "cell_type": "code",
   "execution_count": 33,
   "metadata": {
    "scrolled": false
   },
   "outputs": [
    {
     "data": {
      "text/html": [
       "<div>\n",
       "<style scoped>\n",
       "    .dataframe tbody tr th:only-of-type {\n",
       "        vertical-align: middle;\n",
       "    }\n",
       "\n",
       "    .dataframe tbody tr th {\n",
       "        vertical-align: top;\n",
       "    }\n",
       "\n",
       "    .dataframe thead th {\n",
       "        text-align: right;\n",
       "    }\n",
       "</style>\n",
       "<table border=\"1\" class=\"dataframe\">\n",
       "  <thead>\n",
       "    <tr style=\"text-align: right;\">\n",
       "      <th></th>\n",
       "      <th>count_children</th>\n",
       "      <th>sum_children</th>\n",
       "      <th>result_children</th>\n",
       "    </tr>\n",
       "    <tr>\n",
       "      <th>children</th>\n",
       "      <th></th>\n",
       "      <th></th>\n",
       "      <th></th>\n",
       "    </tr>\n",
       "  </thead>\n",
       "  <tbody>\n",
       "    <tr>\n",
       "      <td>0</td>\n",
       "      <td>14091</td>\n",
       "      <td>1063</td>\n",
       "      <td>0.075438</td>\n",
       "    </tr>\n",
       "    <tr>\n",
       "      <td>1</td>\n",
       "      <td>4855</td>\n",
       "      <td>445</td>\n",
       "      <td>0.091658</td>\n",
       "    </tr>\n",
       "    <tr>\n",
       "      <td>2</td>\n",
       "      <td>2128</td>\n",
       "      <td>202</td>\n",
       "      <td>0.094925</td>\n",
       "    </tr>\n",
       "    <tr>\n",
       "      <td>3</td>\n",
       "      <td>330</td>\n",
       "      <td>27</td>\n",
       "      <td>0.081818</td>\n",
       "    </tr>\n",
       "    <tr>\n",
       "      <td>4</td>\n",
       "      <td>41</td>\n",
       "      <td>4</td>\n",
       "      <td>0.097561</td>\n",
       "    </tr>\n",
       "    <tr>\n",
       "      <td>5</td>\n",
       "      <td>9</td>\n",
       "      <td>0</td>\n",
       "      <td>0.000000</td>\n",
       "    </tr>\n",
       "  </tbody>\n",
       "</table>\n",
       "</div>"
      ],
      "text/plain": [
       "          count_children  sum_children  result_children\n",
       "children                                               \n",
       "0                  14091          1063         0.075438\n",
       "1                   4855           445         0.091658\n",
       "2                   2128           202         0.094925\n",
       "3                    330            27         0.081818\n",
       "4                     41             4         0.097561\n",
       "5                      9             0         0.000000"
      ]
     },
     "execution_count": 33,
     "metadata": {},
     "output_type": "execute_result"
    }
   ],
   "source": [
    "debt_from_children = pd.DataFrame()\n",
    "debt_from_children['count_children'] = data.groupby('children')['debt'].count()\n",
    "debt_from_children['sum_children'] = data.groupby('children')['debt'].sum()\n",
    "debt_from_children['result_children'] = debt_from_children['sum_children'] / debt_from_children['count_children'] \n",
    "debt_from_children\n"
   ]
  },
  {
   "cell_type": "markdown",
   "metadata": {},
   "source": [
    "Вывод:\n",
    "Так мы изучаем влияние возврата кредита в срок и наличие детей, видим отрицательное значение и значение 20, считаю, что это опечатка при переносе данных. Категоризация была применена вместе с лемматизацией выше в одной функции. Категоризовать количество детей нет необходимости, категориями будет как раз их количество, так как всего 6 вариантов."
   ]
  },
  {
   "cell_type": "markdown",
   "metadata": {},
   "source": [
    "</div>  Я не смог заменить 20 детей на медиану, использовал data['children'] = data['children'].replace(20, children_median), но выдает ошибку, не могу понять почему, тоже самое с -1, это опечатка, как бы вывод могу сделать итак, но хочется заменить эти данные </b>"
   ]
  },
  {
   "cell_type": "markdown",
   "metadata": {},
   "source": [
    "<div class=\"alert alert-success\">\n",
    "<b>Комментарий ревьюера v2:</b> Нужно сначала задать переменную children_median. А еще эти ошибки стоило обнаружить на этапе обработки пропусков :)</div>"
   ]
  },
  {
   "cell_type": "markdown",
   "metadata": {},
   "source": [
    "<div class=\"alert alert-success\">\n",
    "<b>Комментарий ревьюера v2:</b> Кстати, чтобы твои комментарии красиво отображались, помещай их до закрывающего тега:\n",
    "    \n",
    "    <div> текст пишем между двух этих тегов </div>\n",
    "    \n",
    "</div>"
   ]
  },
  {
   "cell_type": "markdown",
   "metadata": {},
   "source": [
    "<div class=\"alert alert-success\">\n",
    "<b>Комментарий ревьюера v2:</b> Найти и опиши, какие словари уже есть в данных. Это распространенный тип данных, мне нужно убедиться, что ты им владеешь. Скорее всего на шаге 3 тебе понадобятся дополнительные словари, например, по уровню дохода. Опиши и выдели их тоже в этом разделе.\n",
    "       \n",
    "</div>\n",
    "\n",
    "<div class=\"alert alert-info\"> <b>Я не пойму как это сделать..., но попробую</b> "
   ]
  },
  {
   "cell_type": "code",
   "execution_count": 34,
   "metadata": {},
   "outputs": [
    {
     "data": {
      "text/plain": [
       "<function __main__.salary_cat(total_income)>"
      ]
     },
     "execution_count": 34,
     "metadata": {},
     "output_type": "execute_result"
    }
   ],
   "source": [
    "def salary_cat(total_income):\n",
    "    if total_income <=50000:\n",
    "                    return 'бедный'\n",
    "    elif 50000 <total_income<=120000:\n",
    "                    return 'средний'\n",
    "    elif 120000 <total_income<=250000:\n",
    "                    return 'выше среднего'\n",
    "    else:\n",
    "                    return 'богатый'\n",
    "salary_cat\n"
   ]
  },
  {
   "cell_type": "code",
   "execution_count": 35,
   "metadata": {},
   "outputs": [
    {
     "data": {
      "text/html": [
       "<div>\n",
       "<style scoped>\n",
       "    .dataframe tbody tr th:only-of-type {\n",
       "        vertical-align: middle;\n",
       "    }\n",
       "\n",
       "    .dataframe tbody tr th {\n",
       "        vertical-align: top;\n",
       "    }\n",
       "\n",
       "    .dataframe thead th {\n",
       "        text-align: right;\n",
       "    }\n",
       "</style>\n",
       "<table border=\"1\" class=\"dataframe\">\n",
       "  <thead>\n",
       "    <tr style=\"text-align: right;\">\n",
       "      <th></th>\n",
       "      <th>children</th>\n",
       "      <th>days_employed</th>\n",
       "      <th>dob_years</th>\n",
       "      <th>education</th>\n",
       "      <th>education_id</th>\n",
       "      <th>family_status</th>\n",
       "      <th>family_status_id</th>\n",
       "      <th>gender</th>\n",
       "      <th>income_type</th>\n",
       "      <th>debt</th>\n",
       "      <th>total_income</th>\n",
       "      <th>purpose</th>\n",
       "      <th>purpose_lemma</th>\n",
       "      <th>category_purpose</th>\n",
       "      <th>salary_cat</th>\n",
       "    </tr>\n",
       "  </thead>\n",
       "  <tbody>\n",
       "    <tr>\n",
       "      <td>0</td>\n",
       "      <td>1</td>\n",
       "      <td>8437</td>\n",
       "      <td>42</td>\n",
       "      <td>высшее</td>\n",
       "      <td>0</td>\n",
       "      <td>женат / замужем</td>\n",
       "      <td>0</td>\n",
       "      <td>F</td>\n",
       "      <td>сотрудник</td>\n",
       "      <td>0</td>\n",
       "      <td>253875</td>\n",
       "      <td>покупка жилья</td>\n",
       "      <td>[покупка,  , жилье, \\n]</td>\n",
       "      <td>недвижимость</td>\n",
       "      <td>богатый</td>\n",
       "    </tr>\n",
       "    <tr>\n",
       "      <td>1</td>\n",
       "      <td>1</td>\n",
       "      <td>4024</td>\n",
       "      <td>36</td>\n",
       "      <td>среднее</td>\n",
       "      <td>1</td>\n",
       "      <td>женат / замужем</td>\n",
       "      <td>0</td>\n",
       "      <td>F</td>\n",
       "      <td>сотрудник</td>\n",
       "      <td>0</td>\n",
       "      <td>112080</td>\n",
       "      <td>приобретение автомобиля</td>\n",
       "      <td>[приобретение,  , автомобиль, \\n]</td>\n",
       "      <td>автомобиль</td>\n",
       "      <td>средний</td>\n",
       "    </tr>\n",
       "    <tr>\n",
       "      <td>2</td>\n",
       "      <td>0</td>\n",
       "      <td>5623</td>\n",
       "      <td>33</td>\n",
       "      <td>среднее</td>\n",
       "      <td>1</td>\n",
       "      <td>женат / замужем</td>\n",
       "      <td>0</td>\n",
       "      <td>M</td>\n",
       "      <td>сотрудник</td>\n",
       "      <td>0</td>\n",
       "      <td>145885</td>\n",
       "      <td>покупка жилья</td>\n",
       "      <td>[покупка,  , жилье, \\n]</td>\n",
       "      <td>недвижимость</td>\n",
       "      <td>выше среднего</td>\n",
       "    </tr>\n",
       "    <tr>\n",
       "      <td>3</td>\n",
       "      <td>3</td>\n",
       "      <td>4124</td>\n",
       "      <td>32</td>\n",
       "      <td>среднее</td>\n",
       "      <td>1</td>\n",
       "      <td>женат / замужем</td>\n",
       "      <td>0</td>\n",
       "      <td>M</td>\n",
       "      <td>сотрудник</td>\n",
       "      <td>0</td>\n",
       "      <td>267628</td>\n",
       "      <td>дополнительное образование</td>\n",
       "      <td>[дополнительный,  , образование, \\n]</td>\n",
       "      <td>образование</td>\n",
       "      <td>богатый</td>\n",
       "    </tr>\n",
       "    <tr>\n",
       "      <td>4</td>\n",
       "      <td>0</td>\n",
       "      <td>340266</td>\n",
       "      <td>53</td>\n",
       "      <td>среднее</td>\n",
       "      <td>1</td>\n",
       "      <td>гражданский брак</td>\n",
       "      <td>1</td>\n",
       "      <td>F</td>\n",
       "      <td>пенсионер</td>\n",
       "      <td>0</td>\n",
       "      <td>158616</td>\n",
       "      <td>сыграть свадьбу</td>\n",
       "      <td>[сыграть,  , свадьба, \\n]</td>\n",
       "      <td>свадьба</td>\n",
       "      <td>выше среднего</td>\n",
       "    </tr>\n",
       "    <tr>\n",
       "      <td>5</td>\n",
       "      <td>0</td>\n",
       "      <td>926</td>\n",
       "      <td>27</td>\n",
       "      <td>высшее</td>\n",
       "      <td>0</td>\n",
       "      <td>гражданский брак</td>\n",
       "      <td>1</td>\n",
       "      <td>M</td>\n",
       "      <td>компаньон</td>\n",
       "      <td>0</td>\n",
       "      <td>255763</td>\n",
       "      <td>покупка жилья</td>\n",
       "      <td>[покупка,  , жилье, \\n]</td>\n",
       "      <td>недвижимость</td>\n",
       "      <td>богатый</td>\n",
       "    </tr>\n",
       "    <tr>\n",
       "      <td>6</td>\n",
       "      <td>0</td>\n",
       "      <td>2879</td>\n",
       "      <td>43</td>\n",
       "      <td>высшее</td>\n",
       "      <td>0</td>\n",
       "      <td>женат / замужем</td>\n",
       "      <td>0</td>\n",
       "      <td>F</td>\n",
       "      <td>компаньон</td>\n",
       "      <td>0</td>\n",
       "      <td>240525</td>\n",
       "      <td>операции с жильем</td>\n",
       "      <td>[операция,  , с,  , жилье, \\n]</td>\n",
       "      <td>недвижимость</td>\n",
       "      <td>выше среднего</td>\n",
       "    </tr>\n",
       "    <tr>\n",
       "      <td>7</td>\n",
       "      <td>0</td>\n",
       "      <td>152</td>\n",
       "      <td>50</td>\n",
       "      <td>среднее</td>\n",
       "      <td>1</td>\n",
       "      <td>женат / замужем</td>\n",
       "      <td>0</td>\n",
       "      <td>M</td>\n",
       "      <td>сотрудник</td>\n",
       "      <td>0</td>\n",
       "      <td>135823</td>\n",
       "      <td>образование</td>\n",
       "      <td>[образование, \\n]</td>\n",
       "      <td>образование</td>\n",
       "      <td>выше среднего</td>\n",
       "    </tr>\n",
       "    <tr>\n",
       "      <td>8</td>\n",
       "      <td>2</td>\n",
       "      <td>6929</td>\n",
       "      <td>35</td>\n",
       "      <td>высшее</td>\n",
       "      <td>0</td>\n",
       "      <td>гражданский брак</td>\n",
       "      <td>1</td>\n",
       "      <td>F</td>\n",
       "      <td>сотрудник</td>\n",
       "      <td>0</td>\n",
       "      <td>95856</td>\n",
       "      <td>на проведение свадьбы</td>\n",
       "      <td>[на,  , проведение,  , свадьба, \\n]</td>\n",
       "      <td>свадьба</td>\n",
       "      <td>средний</td>\n",
       "    </tr>\n",
       "    <tr>\n",
       "      <td>9</td>\n",
       "      <td>0</td>\n",
       "      <td>2188</td>\n",
       "      <td>41</td>\n",
       "      <td>среднее</td>\n",
       "      <td>1</td>\n",
       "      <td>женат / замужем</td>\n",
       "      <td>0</td>\n",
       "      <td>M</td>\n",
       "      <td>сотрудник</td>\n",
       "      <td>0</td>\n",
       "      <td>144425</td>\n",
       "      <td>покупка жилья для семьи</td>\n",
       "      <td>[покупка,  , жилье,  , для,  , семья, \\n]</td>\n",
       "      <td>недвижимость</td>\n",
       "      <td>выше среднего</td>\n",
       "    </tr>\n",
       "  </tbody>\n",
       "</table>\n",
       "</div>"
      ],
      "text/plain": [
       "   children  days_employed  dob_years education  education_id  \\\n",
       "0         1           8437         42    высшее             0   \n",
       "1         1           4024         36   среднее             1   \n",
       "2         0           5623         33   среднее             1   \n",
       "3         3           4124         32   среднее             1   \n",
       "4         0         340266         53   среднее             1   \n",
       "5         0            926         27    высшее             0   \n",
       "6         0           2879         43    высшее             0   \n",
       "7         0            152         50   среднее             1   \n",
       "8         2           6929         35    высшее             0   \n",
       "9         0           2188         41   среднее             1   \n",
       "\n",
       "      family_status  family_status_id gender income_type  debt  total_income  \\\n",
       "0   женат / замужем                 0      F   сотрудник     0        253875   \n",
       "1   женат / замужем                 0      F   сотрудник     0        112080   \n",
       "2   женат / замужем                 0      M   сотрудник     0        145885   \n",
       "3   женат / замужем                 0      M   сотрудник     0        267628   \n",
       "4  гражданский брак                 1      F   пенсионер     0        158616   \n",
       "5  гражданский брак                 1      M   компаньон     0        255763   \n",
       "6   женат / замужем                 0      F   компаньон     0        240525   \n",
       "7   женат / замужем                 0      M   сотрудник     0        135823   \n",
       "8  гражданский брак                 1      F   сотрудник     0         95856   \n",
       "9   женат / замужем                 0      M   сотрудник     0        144425   \n",
       "\n",
       "                      purpose                              purpose_lemma  \\\n",
       "0               покупка жилья                    [покупка,  , жилье, \\n]   \n",
       "1     приобретение автомобиля          [приобретение,  , автомобиль, \\n]   \n",
       "2               покупка жилья                    [покупка,  , жилье, \\n]   \n",
       "3  дополнительное образование       [дополнительный,  , образование, \\n]   \n",
       "4             сыграть свадьбу                  [сыграть,  , свадьба, \\n]   \n",
       "5               покупка жилья                    [покупка,  , жилье, \\n]   \n",
       "6           операции с жильем             [операция,  , с,  , жилье, \\n]   \n",
       "7                 образование                          [образование, \\n]   \n",
       "8       на проведение свадьбы        [на,  , проведение,  , свадьба, \\n]   \n",
       "9     покупка жилья для семьи  [покупка,  , жилье,  , для,  , семья, \\n]   \n",
       "\n",
       "  category_purpose     salary_cat  \n",
       "0     недвижимость        богатый  \n",
       "1       автомобиль        средний  \n",
       "2     недвижимость  выше среднего  \n",
       "3      образование        богатый  \n",
       "4          свадьба  выше среднего  \n",
       "5     недвижимость        богатый  \n",
       "6     недвижимость  выше среднего  \n",
       "7      образование  выше среднего  \n",
       "8          свадьба        средний  \n",
       "9     недвижимость  выше среднего  "
      ]
     },
     "execution_count": 35,
     "metadata": {},
     "output_type": "execute_result"
    }
   ],
   "source": [
    "data['salary_cat'] = data['total_income'].apply(salary_cat)\n",
    "data.head(10)\n"
   ]
  },
  {
   "cell_type": "markdown",
   "metadata": {},
   "source": [
    "Категория бедный не выпадает если выводить хоть 10 первых, хоть 10 последних строк, выведим её отдельно, чтоб потом сделать вывод, на что берут кредит люди в этой категории."
   ]
  },
  {
   "cell_type": "code",
   "execution_count": 36,
   "metadata": {},
   "outputs": [
    {
     "data": {
      "text/html": [
       "<div>\n",
       "<style scoped>\n",
       "    .dataframe tbody tr th:only-of-type {\n",
       "        vertical-align: middle;\n",
       "    }\n",
       "\n",
       "    .dataframe tbody tr th {\n",
       "        vertical-align: top;\n",
       "    }\n",
       "\n",
       "    .dataframe thead th {\n",
       "        text-align: right;\n",
       "    }\n",
       "</style>\n",
       "<table border=\"1\" class=\"dataframe\">\n",
       "  <thead>\n",
       "    <tr style=\"text-align: right;\">\n",
       "      <th></th>\n",
       "      <th>children</th>\n",
       "      <th>days_employed</th>\n",
       "      <th>dob_years</th>\n",
       "      <th>education</th>\n",
       "      <th>education_id</th>\n",
       "      <th>family_status</th>\n",
       "      <th>family_status_id</th>\n",
       "      <th>gender</th>\n",
       "      <th>income_type</th>\n",
       "      <th>debt</th>\n",
       "      <th>total_income</th>\n",
       "      <th>purpose</th>\n",
       "      <th>purpose_lemma</th>\n",
       "      <th>category_purpose</th>\n",
       "    </tr>\n",
       "    <tr>\n",
       "      <th>salary_cat</th>\n",
       "      <th></th>\n",
       "      <th></th>\n",
       "      <th></th>\n",
       "      <th></th>\n",
       "      <th></th>\n",
       "      <th></th>\n",
       "      <th></th>\n",
       "      <th></th>\n",
       "      <th></th>\n",
       "      <th></th>\n",
       "      <th></th>\n",
       "      <th></th>\n",
       "      <th></th>\n",
       "      <th></th>\n",
       "    </tr>\n",
       "  </thead>\n",
       "  <tbody>\n",
       "    <tr>\n",
       "      <td>бедный</td>\n",
       "      <td>0</td>\n",
       "      <td>1181</td>\n",
       "      <td>54</td>\n",
       "      <td>среднее</td>\n",
       "      <td>1</td>\n",
       "      <td>женат / замужем</td>\n",
       "      <td>0</td>\n",
       "      <td>F</td>\n",
       "      <td>сотрудник</td>\n",
       "      <td>0</td>\n",
       "      <td>44591</td>\n",
       "      <td>автомобиль</td>\n",
       "      <td>[автомобиль, \\n]</td>\n",
       "      <td>автомобиль</td>\n",
       "    </tr>\n",
       "    <tr>\n",
       "      <td>бедный</td>\n",
       "      <td>0</td>\n",
       "      <td>338113</td>\n",
       "      <td>62</td>\n",
       "      <td>среднее</td>\n",
       "      <td>1</td>\n",
       "      <td>женат / замужем</td>\n",
       "      <td>0</td>\n",
       "      <td>F</td>\n",
       "      <td>пенсионер</td>\n",
       "      <td>0</td>\n",
       "      <td>43929</td>\n",
       "      <td>автомобили</td>\n",
       "      <td>[автомобиль, \\n]</td>\n",
       "      <td>автомобиль</td>\n",
       "    </tr>\n",
       "    <tr>\n",
       "      <td>бедный</td>\n",
       "      <td>0</td>\n",
       "      <td>72</td>\n",
       "      <td>42</td>\n",
       "      <td>среднее</td>\n",
       "      <td>1</td>\n",
       "      <td>гражданский брак</td>\n",
       "      <td>1</td>\n",
       "      <td>F</td>\n",
       "      <td>компаньон</td>\n",
       "      <td>0</td>\n",
       "      <td>49463</td>\n",
       "      <td>сделка с подержанным автомобилем</td>\n",
       "      <td>[сделка,  , с,  , подержанный,  , автомобиль, \\n]</td>\n",
       "      <td>автомобиль</td>\n",
       "    </tr>\n",
       "    <tr>\n",
       "      <td>бедный</td>\n",
       "      <td>0</td>\n",
       "      <td>382189</td>\n",
       "      <td>60</td>\n",
       "      <td>среднее</td>\n",
       "      <td>1</td>\n",
       "      <td>Не женат / не замужем</td>\n",
       "      <td>4</td>\n",
       "      <td>F</td>\n",
       "      <td>пенсионер</td>\n",
       "      <td>0</td>\n",
       "      <td>31534</td>\n",
       "      <td>покупка коммерческой недвижимости</td>\n",
       "      <td>[покупка,  , коммерческий,  , недвижимость, \\n]</td>\n",
       "      <td>недвижимость</td>\n",
       "    </tr>\n",
       "    <tr>\n",
       "      <td>бедный</td>\n",
       "      <td>1</td>\n",
       "      <td>3597</td>\n",
       "      <td>39</td>\n",
       "      <td>среднее</td>\n",
       "      <td>1</td>\n",
       "      <td>женат / замужем</td>\n",
       "      <td>0</td>\n",
       "      <td>F</td>\n",
       "      <td>компаньон</td>\n",
       "      <td>0</td>\n",
       "      <td>40891</td>\n",
       "      <td>покупка своего жилья</td>\n",
       "      <td>[покупка,  , свой,  , жилье, \\n]</td>\n",
       "      <td>недвижимость</td>\n",
       "    </tr>\n",
       "    <tr>\n",
       "      <td>...</td>\n",
       "      <td>...</td>\n",
       "      <td>...</td>\n",
       "      <td>...</td>\n",
       "      <td>...</td>\n",
       "      <td>...</td>\n",
       "      <td>...</td>\n",
       "      <td>...</td>\n",
       "      <td>...</td>\n",
       "      <td>...</td>\n",
       "      <td>...</td>\n",
       "      <td>...</td>\n",
       "      <td>...</td>\n",
       "      <td>...</td>\n",
       "      <td>...</td>\n",
       "    </tr>\n",
       "    <tr>\n",
       "      <td>бедный</td>\n",
       "      <td>0</td>\n",
       "      <td>358631</td>\n",
       "      <td>71</td>\n",
       "      <td>среднее</td>\n",
       "      <td>1</td>\n",
       "      <td>женат / замужем</td>\n",
       "      <td>0</td>\n",
       "      <td>F</td>\n",
       "      <td>пенсионер</td>\n",
       "      <td>0</td>\n",
       "      <td>41411</td>\n",
       "      <td>профильное образование</td>\n",
       "      <td>[профильный,  , образование, \\n]</td>\n",
       "      <td>образование</td>\n",
       "    </tr>\n",
       "    <tr>\n",
       "      <td>бедный</td>\n",
       "      <td>0</td>\n",
       "      <td>1446</td>\n",
       "      <td>45</td>\n",
       "      <td>среднее</td>\n",
       "      <td>1</td>\n",
       "      <td>женат / замужем</td>\n",
       "      <td>0</td>\n",
       "      <td>F</td>\n",
       "      <td>сотрудник</td>\n",
       "      <td>0</td>\n",
       "      <td>34472</td>\n",
       "      <td>покупка жилья для сдачи</td>\n",
       "      <td>[покупка,  , жилье,  , для,  , сдача, \\n]</td>\n",
       "      <td>недвижимость</td>\n",
       "    </tr>\n",
       "    <tr>\n",
       "      <td>бедный</td>\n",
       "      <td>0</td>\n",
       "      <td>338060</td>\n",
       "      <td>59</td>\n",
       "      <td>среднее</td>\n",
       "      <td>1</td>\n",
       "      <td>женат / замужем</td>\n",
       "      <td>0</td>\n",
       "      <td>F</td>\n",
       "      <td>пенсионер</td>\n",
       "      <td>0</td>\n",
       "      <td>47388</td>\n",
       "      <td>получение образования</td>\n",
       "      <td>[получение,  , образование, \\n]</td>\n",
       "      <td>образование</td>\n",
       "    </tr>\n",
       "    <tr>\n",
       "      <td>бедный</td>\n",
       "      <td>0</td>\n",
       "      <td>365213</td>\n",
       "      <td>52</td>\n",
       "      <td>среднее</td>\n",
       "      <td>1</td>\n",
       "      <td>женат / замужем</td>\n",
       "      <td>0</td>\n",
       "      <td>F</td>\n",
       "      <td>пенсионер</td>\n",
       "      <td>1</td>\n",
       "      <td>48239</td>\n",
       "      <td>свой автомобиль</td>\n",
       "      <td>[свой,  , автомобиль, \\n]</td>\n",
       "      <td>автомобиль</td>\n",
       "    </tr>\n",
       "    <tr>\n",
       "      <td>бедный</td>\n",
       "      <td>2</td>\n",
       "      <td>1867</td>\n",
       "      <td>32</td>\n",
       "      <td>среднее</td>\n",
       "      <td>1</td>\n",
       "      <td>женат / замужем</td>\n",
       "      <td>0</td>\n",
       "      <td>F</td>\n",
       "      <td>сотрудник</td>\n",
       "      <td>0</td>\n",
       "      <td>34767</td>\n",
       "      <td>операции с коммерческой недвижимостью</td>\n",
       "      <td>[операция,  , с,  , коммерческий,  , недвижимо...</td>\n",
       "      <td>недвижимость</td>\n",
       "    </tr>\n",
       "  </tbody>\n",
       "</table>\n",
       "<p>372 rows × 14 columns</p>\n",
       "</div>"
      ],
      "text/plain": [
       "            children  days_employed  dob_years education  education_id  \\\n",
       "salary_cat                                                               \n",
       "бедный             0           1181         54   среднее             1   \n",
       "бедный             0         338113         62   среднее             1   \n",
       "бедный             0             72         42   среднее             1   \n",
       "бедный             0         382189         60   среднее             1   \n",
       "бедный             1           3597         39   среднее             1   \n",
       "...              ...            ...        ...       ...           ...   \n",
       "бедный             0         358631         71   среднее             1   \n",
       "бедный             0           1446         45   среднее             1   \n",
       "бедный             0         338060         59   среднее             1   \n",
       "бедный             0         365213         52   среднее             1   \n",
       "бедный             2           1867         32   среднее             1   \n",
       "\n",
       "                    family_status  family_status_id gender income_type  debt  \\\n",
       "salary_cat                                                                     \n",
       "бедный            женат / замужем                 0      F   сотрудник     0   \n",
       "бедный            женат / замужем                 0      F   пенсионер     0   \n",
       "бедный           гражданский брак                 1      F   компаньон     0   \n",
       "бедный      Не женат / не замужем                 4      F   пенсионер     0   \n",
       "бедный            женат / замужем                 0      F   компаньон     0   \n",
       "...                           ...               ...    ...         ...   ...   \n",
       "бедный            женат / замужем                 0      F   пенсионер     0   \n",
       "бедный            женат / замужем                 0      F   сотрудник     0   \n",
       "бедный            женат / замужем                 0      F   пенсионер     0   \n",
       "бедный            женат / замужем                 0      F   пенсионер     1   \n",
       "бедный            женат / замужем                 0      F   сотрудник     0   \n",
       "\n",
       "            total_income                                purpose  \\\n",
       "salary_cat                                                        \n",
       "бедный             44591                             автомобиль   \n",
       "бедный             43929                             автомобили   \n",
       "бедный             49463       сделка с подержанным автомобилем   \n",
       "бедный             31534      покупка коммерческой недвижимости   \n",
       "бедный             40891                   покупка своего жилья   \n",
       "...                  ...                                    ...   \n",
       "бедный             41411                 профильное образование   \n",
       "бедный             34472                покупка жилья для сдачи   \n",
       "бедный             47388                  получение образования   \n",
       "бедный             48239                        свой автомобиль   \n",
       "бедный             34767  операции с коммерческой недвижимостью   \n",
       "\n",
       "                                                purpose_lemma category_purpose  \n",
       "salary_cat                                                                      \n",
       "бедный                                       [автомобиль, \\n]       автомобиль  \n",
       "бедный                                       [автомобиль, \\n]       автомобиль  \n",
       "бедный      [сделка,  , с,  , подержанный,  , автомобиль, \\n]       автомобиль  \n",
       "бедный        [покупка,  , коммерческий,  , недвижимость, \\n]     недвижимость  \n",
       "бедный                       [покупка,  , свой,  , жилье, \\n]     недвижимость  \n",
       "...                                                       ...              ...  \n",
       "бедный                       [профильный,  , образование, \\n]      образование  \n",
       "бедный              [покупка,  , жилье,  , для,  , сдача, \\n]     недвижимость  \n",
       "бедный                        [получение,  , образование, \\n]      образование  \n",
       "бедный                              [свой,  , автомобиль, \\n]       автомобиль  \n",
       "бедный      [операция,  , с,  , коммерческий,  , недвижимо...     недвижимость  \n",
       "\n",
       "[372 rows x 14 columns]"
      ]
     },
     "execution_count": 36,
     "metadata": {},
     "output_type": "execute_result"
    }
   ],
   "source": [
    "data = data.set_index(['salary_cat'])\n",
    "data.loc[data.index.isin(['бедный'])]"
   ]
  },
  {
   "cell_type": "markdown",
   "metadata": {},
   "source": [
    "<div class=\"alert alert-info\"> <b>Вроде получилось, если я правильно понял твой посыл Аня :)</b> "
   ]
  },
  {
   "cell_type": "code",
   "execution_count": 37,
   "metadata": {},
   "outputs": [
    {
     "name": "stdout",
     "output_type": "stream",
     "text": [
      "Создали словарь:\n"
     ]
    },
    {
     "data": {
      "text/html": [
       "<div>\n",
       "<style scoped>\n",
       "    .dataframe tbody tr th:only-of-type {\n",
       "        vertical-align: middle;\n",
       "    }\n",
       "\n",
       "    .dataframe tbody tr th {\n",
       "        vertical-align: top;\n",
       "    }\n",
       "\n",
       "    .dataframe thead th {\n",
       "        text-align: right;\n",
       "    }\n",
       "</style>\n",
       "<table border=\"1\" class=\"dataframe\">\n",
       "  <thead>\n",
       "    <tr style=\"text-align: right;\">\n",
       "      <th></th>\n",
       "      <th>family_status_id</th>\n",
       "      <th>family_status</th>\n",
       "    </tr>\n",
       "  </thead>\n",
       "  <tbody>\n",
       "    <tr>\n",
       "      <td>0</td>\n",
       "      <td>0</td>\n",
       "      <td>женат / замужем</td>\n",
       "    </tr>\n",
       "    <tr>\n",
       "      <td>1</td>\n",
       "      <td>1</td>\n",
       "      <td>гражданский брак</td>\n",
       "    </tr>\n",
       "    <tr>\n",
       "      <td>2</td>\n",
       "      <td>2</td>\n",
       "      <td>вдовец / вдова</td>\n",
       "    </tr>\n",
       "    <tr>\n",
       "      <td>3</td>\n",
       "      <td>3</td>\n",
       "      <td>в разводе</td>\n",
       "    </tr>\n",
       "    <tr>\n",
       "      <td>4</td>\n",
       "      <td>4</td>\n",
       "      <td>Не женат / не замужем</td>\n",
       "    </tr>\n",
       "  </tbody>\n",
       "</table>\n",
       "</div>"
      ],
      "text/plain": [
       "   family_status_id          family_status\n",
       "0                 0        женат / замужем\n",
       "1                 1       гражданский брак\n",
       "2                 2         вдовец / вдова\n",
       "3                 3              в разводе\n",
       "4                 4  Не женат / не замужем"
      ]
     },
     "metadata": {},
     "output_type": "display_data"
    },
    {
     "name": "stdout",
     "output_type": "stream",
     "text": [
      "\n",
      "\n",
      "Сгруппированная таблица. Берем по id, другой столбец удалили:\n"
     ]
    },
    {
     "data": {
      "text/html": [
       "<div>\n",
       "<style scoped>\n",
       "    .dataframe tbody tr th:only-of-type {\n",
       "        vertical-align: middle;\n",
       "    }\n",
       "\n",
       "    .dataframe tbody tr th {\n",
       "        vertical-align: top;\n",
       "    }\n",
       "\n",
       "    .dataframe thead th {\n",
       "        text-align: right;\n",
       "    }\n",
       "</style>\n",
       "<table border=\"1\" class=\"dataframe\">\n",
       "  <thead>\n",
       "    <tr style=\"text-align: right;\">\n",
       "      <th></th>\n",
       "      <th>count</th>\n",
       "      <th>sum</th>\n",
       "      <th>mean</th>\n",
       "    </tr>\n",
       "    <tr>\n",
       "      <th>family_status_id</th>\n",
       "      <th></th>\n",
       "      <th></th>\n",
       "      <th></th>\n",
       "    </tr>\n",
       "  </thead>\n",
       "  <tbody>\n",
       "    <tr>\n",
       "      <td>0</td>\n",
       "      <td>12339</td>\n",
       "      <td>931</td>\n",
       "      <td>0.075452</td>\n",
       "    </tr>\n",
       "    <tr>\n",
       "      <td>1</td>\n",
       "      <td>4151</td>\n",
       "      <td>388</td>\n",
       "      <td>0.093471</td>\n",
       "    </tr>\n",
       "    <tr>\n",
       "      <td>2</td>\n",
       "      <td>959</td>\n",
       "      <td>63</td>\n",
       "      <td>0.065693</td>\n",
       "    </tr>\n",
       "    <tr>\n",
       "      <td>3</td>\n",
       "      <td>1195</td>\n",
       "      <td>85</td>\n",
       "      <td>0.071130</td>\n",
       "    </tr>\n",
       "    <tr>\n",
       "      <td>4</td>\n",
       "      <td>2810</td>\n",
       "      <td>274</td>\n",
       "      <td>0.097509</td>\n",
       "    </tr>\n",
       "  </tbody>\n",
       "</table>\n",
       "</div>"
      ],
      "text/plain": [
       "                  count  sum      mean\n",
       "family_status_id                      \n",
       "0                 12339  931  0.075452\n",
       "1                  4151  388  0.093471\n",
       "2                   959   63  0.065693\n",
       "3                  1195   85  0.071130\n",
       "4                  2810  274  0.097509"
      ]
     },
     "metadata": {},
     "output_type": "display_data"
    },
    {
     "name": "stdout",
     "output_type": "stream",
     "text": [
      "\n",
      "\n",
      "Заменяем численные значения по ключу словаря:\n"
     ]
    },
    {
     "data": {
      "text/html": [
       "<div>\n",
       "<style scoped>\n",
       "    .dataframe tbody tr th:only-of-type {\n",
       "        vertical-align: middle;\n",
       "    }\n",
       "\n",
       "    .dataframe tbody tr th {\n",
       "        vertical-align: top;\n",
       "    }\n",
       "\n",
       "    .dataframe thead th {\n",
       "        text-align: right;\n",
       "    }\n",
       "</style>\n",
       "<table border=\"1\" class=\"dataframe\">\n",
       "  <thead>\n",
       "    <tr style=\"text-align: right;\">\n",
       "      <th></th>\n",
       "      <th>family_status_id</th>\n",
       "      <th>count</th>\n",
       "      <th>sum</th>\n",
       "      <th>mean</th>\n",
       "    </tr>\n",
       "  </thead>\n",
       "  <tbody>\n",
       "    <tr>\n",
       "      <td>0</td>\n",
       "      <td>женат / замужем</td>\n",
       "      <td>12339</td>\n",
       "      <td>931</td>\n",
       "      <td>0.075452</td>\n",
       "    </tr>\n",
       "    <tr>\n",
       "      <td>1</td>\n",
       "      <td>гражданский брак</td>\n",
       "      <td>4151</td>\n",
       "      <td>388</td>\n",
       "      <td>0.093471</td>\n",
       "    </tr>\n",
       "    <tr>\n",
       "      <td>2</td>\n",
       "      <td>вдовец / вдова</td>\n",
       "      <td>959</td>\n",
       "      <td>63</td>\n",
       "      <td>0.065693</td>\n",
       "    </tr>\n",
       "    <tr>\n",
       "      <td>3</td>\n",
       "      <td>в разводе</td>\n",
       "      <td>1195</td>\n",
       "      <td>85</td>\n",
       "      <td>0.071130</td>\n",
       "    </tr>\n",
       "    <tr>\n",
       "      <td>4</td>\n",
       "      <td>Не женат / не замужем</td>\n",
       "      <td>2810</td>\n",
       "      <td>274</td>\n",
       "      <td>0.097509</td>\n",
       "    </tr>\n",
       "  </tbody>\n",
       "</table>\n",
       "</div>"
      ],
      "text/plain": [
       "        family_status_id  count  sum      mean\n",
       "0        женат / замужем  12339  931  0.075452\n",
       "1       гражданский брак   4151  388  0.093471\n",
       "2         вдовец / вдова    959   63  0.065693\n",
       "3              в разводе   1195   85  0.071130\n",
       "4  Не женат / не замужем   2810  274  0.097509"
      ]
     },
     "execution_count": 37,
     "metadata": {},
     "output_type": "execute_result"
    }
   ],
   "source": [
    "print('Создали словарь:')\n",
    "family_dict = data[['family_status_id', 'family_status']]\n",
    "family_dict = family_dict.drop_duplicates().reset_index(drop=True)\n",
    "display(family_dict)\n",
    "print('\\n\\nСгруппированная таблица. Берем по id, другой столбец удалили:')\n",
    "a = data.groupby('family_status_id')['debt'].agg(['count', 'sum', 'mean'])\n",
    "display(a)\n",
    "# Заменяем\n",
    "print('\\n\\nЗаменяем численные значения по ключу словаря:')\n",
    "a.reset_index().replace({'family_status_id': family_dict.family_status.to_dict()})"
   ]
  },
  {
   "cell_type": "markdown",
   "metadata": {},
   "source": [
    "<div class=\"alert alert-success\">\n",
    "<b>Комментарий ревьюера v3:</b> Самое важное здесь — описать. Почему выделили категории именно так? Сейчас есть только код, без комментариев.\n",
    "    \n",
    "По существующим словарям в данных подскажу: есть пары столбцов id - расшифровка. Постарайся их найти в наших данных и вывести на экран. \n",
    "\n",
    "<b>Комментарий ревьюера v4:</b> Словари нашли :)</div>"
   ]
  },
  {
   "cell_type": "markdown",
   "metadata": {},
   "source": [
    "## Шаг 3. Ответьте на вопросы"
   ]
  },
  {
   "cell_type": "markdown",
   "metadata": {},
   "source": [
    "- Есть ли зависимость между наличием детей и возвратом кредита в срок?"
   ]
  },
  {
   "cell_type": "code",
   "execution_count": 38,
   "metadata": {},
   "outputs": [
    {
     "data": {
      "text/html": [
       "<div>\n",
       "<style scoped>\n",
       "    .dataframe tbody tr th:only-of-type {\n",
       "        vertical-align: middle;\n",
       "    }\n",
       "\n",
       "    .dataframe tbody tr th {\n",
       "        vertical-align: top;\n",
       "    }\n",
       "\n",
       "    .dataframe thead th {\n",
       "        text-align: right;\n",
       "    }\n",
       "</style>\n",
       "<table border=\"1\" class=\"dataframe\">\n",
       "  <thead>\n",
       "    <tr style=\"text-align: right;\">\n",
       "      <th></th>\n",
       "      <th>count_children</th>\n",
       "      <th>sum_children</th>\n",
       "      <th>result_children</th>\n",
       "    </tr>\n",
       "    <tr>\n",
       "      <th>children</th>\n",
       "      <th></th>\n",
       "      <th></th>\n",
       "      <th></th>\n",
       "    </tr>\n",
       "  </thead>\n",
       "  <tbody>\n",
       "    <tr>\n",
       "      <td>4</td>\n",
       "      <td>41</td>\n",
       "      <td>4</td>\n",
       "      <td>0.097561</td>\n",
       "    </tr>\n",
       "    <tr>\n",
       "      <td>2</td>\n",
       "      <td>2128</td>\n",
       "      <td>202</td>\n",
       "      <td>0.094925</td>\n",
       "    </tr>\n",
       "    <tr>\n",
       "      <td>1</td>\n",
       "      <td>4855</td>\n",
       "      <td>445</td>\n",
       "      <td>0.091658</td>\n",
       "    </tr>\n",
       "    <tr>\n",
       "      <td>3</td>\n",
       "      <td>330</td>\n",
       "      <td>27</td>\n",
       "      <td>0.081818</td>\n",
       "    </tr>\n",
       "    <tr>\n",
       "      <td>0</td>\n",
       "      <td>14091</td>\n",
       "      <td>1063</td>\n",
       "      <td>0.075438</td>\n",
       "    </tr>\n",
       "    <tr>\n",
       "      <td>5</td>\n",
       "      <td>9</td>\n",
       "      <td>0</td>\n",
       "      <td>0.000000</td>\n",
       "    </tr>\n",
       "  </tbody>\n",
       "</table>\n",
       "</div>"
      ],
      "text/plain": [
       "          count_children  sum_children  result_children\n",
       "children                                               \n",
       "4                     41             4         0.097561\n",
       "2                   2128           202         0.094925\n",
       "1                   4855           445         0.091658\n",
       "3                    330            27         0.081818\n",
       "0                  14091          1063         0.075438\n",
       "5                      9             0         0.000000"
      ]
     },
     "execution_count": 38,
     "metadata": {},
     "output_type": "execute_result"
    }
   ],
   "source": [
    "debt_from_children = pd.DataFrame()\n",
    "debt_from_children['count_children'] = data.groupby('children')['debt'].count()\n",
    "debt_from_children['sum_children'] = data.groupby('children')['debt'].sum()\n",
    "debt_from_children['result_children'] = debt_from_children['sum_children'] / debt_from_children['count_children'] \n",
    "debt_from_children.sort_values('result_children', ascending = False)"
   ]
  },
  {
   "cell_type": "markdown",
   "metadata": {},
   "source": [
    "Вывод: кредитору, не имеющие детей менее склонны к просрочке по кредитам, видимо сказывается финансовая нагрузка. Но также видно,что люди у кого три ребенка реже просрачевают, чем у кого три ребенка, возможно еще влияет возвраст детей, но у нас нет этих данных.\n"
   ]
  },
  {
   "cell_type": "markdown",
   "metadata": {},
   "source": [
    "<div class=\"alert alert-success\">\n",
    "<b>Комментарий ревьюера v2:</b> Ты используешь правильную метрику — количество должников в группе. Но ее можно рассчитать проще. В столбце debt только 0 и 1, поэтому применяем к нему метод mean() и получаем долю 1, то есть должников.\n",
    "    \n",
    "Выводы по клиентам без детей правильные, а вот про клиентов с 3 деьми мы не можем точно утверждать, что у них реже просрочки. Посмотри, насколько малочисленна эта группа. Скорее всего по ней просто мало данных.\n",
    "</div>"
   ]
  },
  {
   "cell_type": "markdown",
   "metadata": {},
   "source": [
    "<div class=\"alert alert-success\">\n",
    "<b>Комментарий ревьюера v2:</b> <s>Ошибочные значения в количестве детей нужно убрать перед тем, как выполнять этот расчет.</s>\n",
    "\n",
    "\n",
    "<b>Комментарий ревьюера v3:</b> Сделано! </div>\n",
    "<div class=\"alert alert-info\"> <b>Вроде исправил :)</b> \n"
   ]
  },
  {
   "cell_type": "markdown",
   "metadata": {},
   "source": [
    "- Есть ли зависимость между семейным положением и возвратом кредита в срок?"
   ]
  },
  {
   "cell_type": "code",
   "execution_count": 39,
   "metadata": {},
   "outputs": [
    {
     "data": {
      "text/html": [
       "<div>\n",
       "<style scoped>\n",
       "    .dataframe tbody tr th:only-of-type {\n",
       "        vertical-align: middle;\n",
       "    }\n",
       "\n",
       "    .dataframe tbody tr th {\n",
       "        vertical-align: top;\n",
       "    }\n",
       "\n",
       "    .dataframe thead th {\n",
       "        text-align: right;\n",
       "    }\n",
       "</style>\n",
       "<table border=\"1\" class=\"dataframe\">\n",
       "  <thead>\n",
       "    <tr style=\"text-align: right;\">\n",
       "      <th></th>\n",
       "      <th>sum_family_status</th>\n",
       "      <th>count_family_status</th>\n",
       "      <th>result_family_status</th>\n",
       "    </tr>\n",
       "    <tr>\n",
       "      <th>family_status</th>\n",
       "      <th></th>\n",
       "      <th></th>\n",
       "      <th></th>\n",
       "    </tr>\n",
       "  </thead>\n",
       "  <tbody>\n",
       "    <tr>\n",
       "      <td>Не женат / не замужем</td>\n",
       "      <td>274</td>\n",
       "      <td>2810</td>\n",
       "      <td>0.097509</td>\n",
       "    </tr>\n",
       "    <tr>\n",
       "      <td>гражданский брак</td>\n",
       "      <td>388</td>\n",
       "      <td>4151</td>\n",
       "      <td>0.093471</td>\n",
       "    </tr>\n",
       "    <tr>\n",
       "      <td>женат / замужем</td>\n",
       "      <td>931</td>\n",
       "      <td>12339</td>\n",
       "      <td>0.075452</td>\n",
       "    </tr>\n",
       "    <tr>\n",
       "      <td>в разводе</td>\n",
       "      <td>85</td>\n",
       "      <td>1195</td>\n",
       "      <td>0.071130</td>\n",
       "    </tr>\n",
       "    <tr>\n",
       "      <td>вдовец / вдова</td>\n",
       "      <td>63</td>\n",
       "      <td>959</td>\n",
       "      <td>0.065693</td>\n",
       "    </tr>\n",
       "  </tbody>\n",
       "</table>\n",
       "</div>"
      ],
      "text/plain": [
       "                       sum_family_status  count_family_status  \\\n",
       "family_status                                                   \n",
       "Не женат / не замужем                274                 2810   \n",
       "гражданский брак                     388                 4151   \n",
       "женат / замужем                      931                12339   \n",
       "в разводе                             85                 1195   \n",
       "вдовец / вдова                        63                  959   \n",
       "\n",
       "                       result_family_status  \n",
       "family_status                                \n",
       "Не женат / не замужем              0.097509  \n",
       "гражданский брак                   0.093471  \n",
       "женат / замужем                    0.075452  \n",
       "в разводе                          0.071130  \n",
       "вдовец / вдова                     0.065693  "
      ]
     },
     "execution_count": 39,
     "metadata": {},
     "output_type": "execute_result"
    }
   ],
   "source": [
    "debt_from_family_status = pd.DataFrame()\n",
    "debt_from_family_status['sum_family_status'] = data.groupby('family_status')['debt'].sum()\n",
    "debt_from_family_status['count_family_status'] = data.groupby('family_status')['debt'].count()\n",
    "debt_from_family_status['result_family_status'] = debt_from_family_status['sum_family_status'] / debt_from_family_status['count_family_status'] \n",
    "debt_from_family_status.sort_values('result_family_status', ascending = False)"
   ]
  },
  {
   "cell_type": "markdown",
   "metadata": {},
   "source": [
    "**Вывод: семейный статус влияент на уплату кредита в срок, люди не сосотящие в браке или находящиеся в гражданском браке обладают более худщей платежной дисциплиой, но люди которые побывали в браке, лучше возвращают долги, чем те кто не состоял в отношениях совсем)"
   ]
  },
  {
   "cell_type": "markdown",
   "metadata": {},
   "source": [
    "<div class=\"alert alert-success\">\n",
    "<b>Комментарий ревьюера v2:</b> Ок.\n",
    "</div>"
   ]
  },
  {
   "cell_type": "markdown",
   "metadata": {},
   "source": [
    "- Есть ли зависимость между уровнем дохода и возвратом кредита в срок?"
   ]
  },
  {
   "cell_type": "code",
   "execution_count": 40,
   "metadata": {},
   "outputs": [
    {
     "data": {
      "text/html": [
       "<div>\n",
       "<style scoped>\n",
       "    .dataframe tbody tr th:only-of-type {\n",
       "        vertical-align: middle;\n",
       "    }\n",
       "\n",
       "    .dataframe tbody tr th {\n",
       "        vertical-align: top;\n",
       "    }\n",
       "\n",
       "    .dataframe thead th {\n",
       "        text-align: right;\n",
       "    }\n",
       "</style>\n",
       "<table border=\"1\" class=\"dataframe\">\n",
       "  <thead>\n",
       "    <tr style=\"text-align: right;\">\n",
       "      <th></th>\n",
       "      <th>debt</th>\n",
       "    </tr>\n",
       "    <tr>\n",
       "      <th>salary_cat</th>\n",
       "      <th></th>\n",
       "    </tr>\n",
       "  </thead>\n",
       "  <tbody>\n",
       "    <tr>\n",
       "      <td>бедный</td>\n",
       "      <td>0.061828</td>\n",
       "    </tr>\n",
       "    <tr>\n",
       "      <td>богатый</td>\n",
       "      <td>0.068966</td>\n",
       "    </tr>\n",
       "    <tr>\n",
       "      <td>средний</td>\n",
       "      <td>0.081570</td>\n",
       "    </tr>\n",
       "    <tr>\n",
       "      <td>выше среднего</td>\n",
       "      <td>0.084435</td>\n",
       "    </tr>\n",
       "  </tbody>\n",
       "</table>\n",
       "</div>"
      ],
      "text/plain": [
       "                   debt\n",
       "salary_cat             \n",
       "бедный         0.061828\n",
       "богатый        0.068966\n",
       "средний        0.081570\n",
       "выше среднего  0.084435"
      ]
     },
     "execution_count": 40,
     "metadata": {},
     "output_type": "execute_result"
    }
   ],
   "source": [
    "def relation(category):\n",
    "    return data.groupby(category)['debt'].mean().to_frame().sort_values(by='debt')\n",
    "\n",
    "relation('salary_cat')"
   ]
  },
  {
   "cell_type": "markdown",
   "metadata": {},
   "source": [
    "Вывод:\n",
    "Люди с доходом более 50 000 руб. чаще просрачивают кредит."
   ]
  },
  {
   "cell_type": "markdown",
   "metadata": {},
   "source": [
    "Но если перепроверить данные, построив другую функцию, то получим"
   ]
  },
  {
   "cell_type": "code",
   "execution_count": 41,
   "metadata": {},
   "outputs": [
    {
     "name": "stdout",
     "output_type": "stream",
     "text": [
      "Разобьем доход на уровни: 0,20-50, 50-100, 100-250, 250-500, 500+\n"
     ]
    },
    {
     "data": {
      "text/html": [
       "<div>\n",
       "<style scoped>\n",
       "    .dataframe tbody tr th:only-of-type {\n",
       "        vertical-align: middle;\n",
       "    }\n",
       "\n",
       "    .dataframe tbody tr th {\n",
       "        vertical-align: top;\n",
       "    }\n",
       "\n",
       "    .dataframe thead th {\n",
       "        text-align: right;\n",
       "    }\n",
       "</style>\n",
       "<table border=\"1\" class=\"dataframe\">\n",
       "  <thead>\n",
       "    <tr style=\"text-align: right;\">\n",
       "      <th>debt</th>\n",
       "      <th>0</th>\n",
       "      <th>1</th>\n",
       "      <th>ratio %</th>\n",
       "      <th>sum</th>\n",
       "    </tr>\n",
       "    <tr>\n",
       "      <th>category_income</th>\n",
       "      <th></th>\n",
       "      <th></th>\n",
       "      <th></th>\n",
       "      <th></th>\n",
       "    </tr>\n",
       "  </thead>\n",
       "  <tbody>\n",
       "    <tr>\n",
       "      <td>100-250</td>\n",
       "      <td>12985</td>\n",
       "      <td>1193</td>\n",
       "      <td>9</td>\n",
       "      <td>14178</td>\n",
       "    </tr>\n",
       "    <tr>\n",
       "      <td>20-50</td>\n",
       "      <td>349</td>\n",
       "      <td>23</td>\n",
       "      <td>6</td>\n",
       "      <td>372</td>\n",
       "    </tr>\n",
       "    <tr>\n",
       "      <td>250-500</td>\n",
       "      <td>2411</td>\n",
       "      <td>180</td>\n",
       "      <td>7</td>\n",
       "      <td>2591</td>\n",
       "    </tr>\n",
       "    <tr>\n",
       "      <td>50-100</td>\n",
       "      <td>3760</td>\n",
       "      <td>331</td>\n",
       "      <td>8</td>\n",
       "      <td>4091</td>\n",
       "    </tr>\n",
       "    <tr>\n",
       "      <td>500+</td>\n",
       "      <td>208</td>\n",
       "      <td>14</td>\n",
       "      <td>6</td>\n",
       "      <td>222</td>\n",
       "    </tr>\n",
       "  </tbody>\n",
       "</table>\n",
       "</div>"
      ],
      "text/plain": [
       "debt                 0     1  ratio %    sum\n",
       "category_income                             \n",
       "100-250          12985  1193        9  14178\n",
       "20-50              349    23        6    372\n",
       "250-500           2411   180        7   2591\n",
       "50-100            3760   331        8   4091\n",
       "500+               208    14        6    222"
      ]
     },
     "execution_count": 41,
     "metadata": {},
     "output_type": "execute_result"
    }
   ],
   "source": [
    "print('Разобьем доход на уровни: 0,20-50, 50-100, 100-250, 250-500, 500+')\n",
    "\n",
    "def income(data):\n",
    "    if data == 0:\n",
    "        return '0'\n",
    "    elif data <= 50000:\n",
    "        return '20-50'\n",
    "    elif data <= 100000:\n",
    "        return '50-100'\n",
    "    elif data <= 250000:\n",
    "        return '100-250'\n",
    "    elif data <= 500000:\n",
    "        return '250-500'\n",
    "    else:\n",
    "        return '500+'\n",
    "#\n",
    "\n",
    "data['category_income'] = data['total_income'].apply(income)\n",
    "data_pivot_income = data.pivot_table(index='category_income', columns='debt', values='total_income', aggfunc='count')\n",
    "#считаем процент должников\n",
    "data_pivot_income['ratio %'] = (data_pivot_income[1] / data_pivot_income[0]) * 100\n",
    "data_pivot_income['ratio %'] = data_pivot_income['ratio %'].astype('int')\n",
    "#cчитаем сумму клиентов каждой категории\n",
    "data_pivot_income['sum'] = data_pivot_income[1] + data_pivot_income[0]\n",
    "\n",
    "data_pivot_income\n"
   ]
  },
  {
   "cell_type": "markdown",
   "metadata": {},
   "source": [
    "Вывод: люди с доходом 50 000 руб. все еще самые ответственные заемщики, но также к ним прибавились люди с дохожом от 500 000 руб, видимо сказыается цель кредита и т.к. мы выводили таблицу именно по этой категории, я бы выдвинул две гипотезы:\n",
    "1. в этой категории много пенсионеров, а это чаще люди более ответсвенные в силу своего возраста и воспитания.\n",
    "2. это люди, берущие займ на недвижимость и не хотят допускать просрочки, т.к. есть риски, например банк может затребовать погасить сразу всю сумму,  что для них будет фатальным, ну и видимо, не хотят портить историю,т.к. скорей всего это не последний кредит в их жизни.)\n",
    "3. что касатся людей с доходом 500 000+, с таким уровнем ежемесчный платеж комфортный и позволяет не допускать просрочки, возможно стоит автоплатеж."
   ]
  },
  {
   "cell_type": "markdown",
   "metadata": {},
   "source": [
    "<div class=\"alert alert-success\">\n",
    "<b>Комментарий ревьюера v2:</b> Для того, чтобы убрать такие предупреждения, можно использовать вот такой код:\n",
    "    \n",
    "    import warnings\n",
    "    warnings.filterwarnings(\"ignore\")\n",
    "    \n",
    "<div class=\"alert alert-info\"> <b>Спасибо, так выглядит лучше, ножно почитать, что мы сделали, не помню этот прием в теоритечиских занятиях</b>\n",
    "       "
   ]
  },
  {
   "cell_type": "markdown",
   "metadata": {},
   "source": [
    "<div class=\"alert alert-success\">\n",
    "<b>Комментарий ревьюера v3:</b> Предупреждения часто зависят от версии используемой библиотеки. А в тренажере обычно дается такое задание, чтобы код отрабатывал без предупреждений.\n",
    " </div>"
   ]
  },
  {
   "cell_type": "markdown",
   "metadata": {},
   "source": [
    "<div class=\"alert alert-warning\">\n",
    "<b>Комментарий ревьюера v2:</b> 10 групп — это слишком много, среди них есть слишком похожие. Оптимально будет выделить 3-5 групп. Также нужно описать, как ты их выделяешь. Лучше всего сделать это на этапе категоризации.\n",
    "    \n",
    "<b>Комментарий ревьюера v3:</b> Ты ведь выделил три группы на этапе категоризации. Для чего здесь продожаешь использовать 10?\n",
    "\n",
    "<b>Комментарий ревьюера v4:</b> Ок, уменьшили количество групп. Но на предыдущем шаге мы уже создали столбец salary_cat с категориями по доходу. Его и следует здесь использовать. </div>"
   ]
  },
  {
   "cell_type": "markdown",
   "metadata": {},
   "source": [
    "- Как разные цели кредита влияют на его возврат в срок?"
   ]
  },
  {
   "cell_type": "code",
   "execution_count": 42,
   "metadata": {},
   "outputs": [
    {
     "data": {
      "text/html": [
       "<div>\n",
       "<style scoped>\n",
       "    .dataframe tbody tr th:only-of-type {\n",
       "        vertical-align: middle;\n",
       "    }\n",
       "\n",
       "    .dataframe tbody tr th {\n",
       "        vertical-align: top;\n",
       "    }\n",
       "\n",
       "    .dataframe thead th {\n",
       "        text-align: right;\n",
       "    }\n",
       "</style>\n",
       "<table border=\"1\" class=\"dataframe\">\n",
       "  <thead>\n",
       "    <tr style=\"text-align: right;\">\n",
       "      <th>debt</th>\n",
       "      <th>0</th>\n",
       "      <th>1</th>\n",
       "      <th>ratio %</th>\n",
       "    </tr>\n",
       "    <tr>\n",
       "      <th>category_purpose</th>\n",
       "      <th></th>\n",
       "      <th></th>\n",
       "      <th></th>\n",
       "    </tr>\n",
       "  </thead>\n",
       "  <tbody>\n",
       "    <tr>\n",
       "      <td>автомобиль</td>\n",
       "      <td>3903</td>\n",
       "      <td>403</td>\n",
       "      <td>10.325391</td>\n",
       "    </tr>\n",
       "    <tr>\n",
       "      <td>недвижимость</td>\n",
       "      <td>10029</td>\n",
       "      <td>782</td>\n",
       "      <td>7.797388</td>\n",
       "    </tr>\n",
       "    <tr>\n",
       "      <td>образование</td>\n",
       "      <td>3643</td>\n",
       "      <td>370</td>\n",
       "      <td>10.156464</td>\n",
       "    </tr>\n",
       "    <tr>\n",
       "      <td>свадьба</td>\n",
       "      <td>2138</td>\n",
       "      <td>186</td>\n",
       "      <td>8.699719</td>\n",
       "    </tr>\n",
       "  </tbody>\n",
       "</table>\n",
       "</div>"
      ],
      "text/plain": [
       "debt                  0    1    ratio %\n",
       "category_purpose                       \n",
       "автомобиль         3903  403  10.325391\n",
       "недвижимость      10029  782   7.797388\n",
       "образование        3643  370  10.156464\n",
       "свадьба            2138  186   8.699719"
      ]
     },
     "execution_count": 42,
     "metadata": {},
     "output_type": "execute_result"
    }
   ],
   "source": [
    "data_pivot_purpose = data.pivot_table(index='category_purpose', columns='debt', values='purpose', aggfunc='count')\n",
    "data_pivot_purpose['ratio %'] = (data_pivot_purpose[1] / data_pivot_purpose[0]) * 100\n",
    "data_pivot_purpose"
   ]
  },
  {
   "cell_type": "markdown",
   "metadata": {},
   "source": [
    "**Вывод:\n",
    "Заемщики, берущие кредит для приобретения/проведение операций с жильем, наиболее ответственны и менее склонны нарушать обязательства по выплатам кредита в срок.**"
   ]
  },
  {
   "cell_type": "markdown",
   "metadata": {},
   "source": [
    "<div class=\"alert alert-success\">\n",
    "<b>Комментарий ревьюера v2:</b> Используй в качестве категорий леммы, которые ты определил ранее.\n",
    "    \n",
    "<b>Комментарий ревьюера v3:</b> Сделано только вот данных не хватает - это видно по столбцам с count. Категории определились не для всех записей.\n",
    "\n",
    "<b>Комментарий ревьюера v4:</b> Готово.</div>"
   ]
  },
  {
   "cell_type": "markdown",
   "metadata": {},
   "source": [
    "<div class=\"alert alert-success\">\n",
    "<b>Комментарий ревьюера v2:</b> Ты отлично владеешь методом groupby(), но иногда нам удобно объединять данные с помощью pivot_table(). Это полезный метод, и он тебе не раз пригодится. Мне нужно убедиться, что ты умеешь пользоваться и им тоже. Продемонстрируй, пожалуйста, на примере одного из расчетов в этом шаге.\n",
    "    \n",
    "<b>Комментарий ревьюера v3:</b> Сделано! Вывод не должен поменяться, это просто способ получить ту же таблицу иначе. У pivot_table() немного другие параметры, и иногда собрать данные воедино получается только им.</div>"
   ]
  },
  {
   "cell_type": "markdown",
   "metadata": {},
   "source": [
    "   \n",
    "<div class=\"alert alert-info\"> <b>Учел замечнаие по сводной таблице, вывод не поменялся</b> "
   ]
  },
  {
   "cell_type": "markdown",
   "metadata": {},
   "source": [
    "## Шаг 4. Общий вывод"
   ]
  },
  {
   "cell_type": "markdown",
   "metadata": {},
   "source": [
    "Отвечая на поставленный вопрос \"Нужно разобраться, влияет ли семейное положение и количество детей клиента на факт погашения кредита в срок\", могу дать следующий ответ - семеное положение и количество детей влияет на факт погашения кредита в строк:\n",
    "-заемщики с официально оформленными отношениями (или которые в прошлом были в официальном в браке) и не имеющие детей - самые ответственные заемщики;\n",
    "-заемщики, состоящие в неофициальном браке или находящиеся без отношений, при этом имеющие 1 или 2 детей -  менее ответственные заемщики.\n",
    "\n",
    "\n",
    "ТАКЖЕ МОЖНО ДОБАВИТЬ:\n",
    "\n",
    "Ответственный заещик\tНе имеет детей,\tнаходится/был в официальном браке\tУровень дохода < 50000\tБерет кредит на жилье или пенсионер, который обладает более лучшей платежной дисциплиной.\n",
    "Менее ответственный заещик\tИмеет 1-2 детей\tНе в узаконенных отношениях/не в отношениях\tУровень дохода > 50000\tБерет кредит на образование/свадьбу. Также ответственный плательщик с доходом +500 000"
   ]
  },
  {
   "cell_type": "markdown",
   "metadata": {},
   "source": [
    "<div class=\"alert alert-success\">\n",
    "<b>Комментарий ревьюера v2:</b> Здорово, что упоминаешь поставленную задачу и даешь рекомендации как по клиентам с наибольшим, так и с наименьшим количеством просрочек. Но мы в предыдущем шаге ответили на вопросы по 4 категориям, стоит в выводе привести все эти результаты.\n",
    "    \n",
    "</div>"
   ]
  },
  {
   "cell_type": "markdown",
   "metadata": {},
   "source": [
    "---\n",
    "\n",
    "<div class=\"alert alert-success\">\n",
    "<b>Итоговый комментарий ревьюера v2:</b> Ты справился со множеством задач в этом проекте, которые могут вызывать затруднение, молодец! Пока еще есть, что доделать: разобрала пару примеров с оформлением — постарайся учесть эти замечания по всему проекту. И оставила комментарии к шагам, где нужно что-то поправить. Внеси, пожалуйста, исправления, и присылай работу на дополнительное ревью :)\n",
    "    \n",
    "</div>"
   ]
  },
  {
   "cell_type": "markdown",
   "metadata": {},
   "source": [
    "<div class=\"alert alert-success\">\n",
    "<b>Итоговый комментарий ревьюера v3</b> Проект стал подробнее и полнее — отлично. Сейчас тоже остались замечания, которые нужно учесть. Соберу в чек-лист. Обязательные:\n",
    "    \n",
    "* заполняешь пропуски на этапе, где этого делать не нужно. Возможно, случайно, но стоит разобраться.\n",
    "* функция категоризации целей кредита не работает\n",
    "* словари нужно описать, а не просто привести. \n",
    "\n",
    "Небольшие замечания, но пока их многовато:\n",
    "\n",
    "* определяем тип пропусков\n",
    "* принимаем решение по нулевому возрасту и аномальному стажу\n",
    "* функция с apply вместо построчной обработки датафрема циклом\n",
    "* для исследования уровня дохода и просрочек следует использовать 3-5 групп \n",
    "    \n",
    "</div>"
   ]
  },
  {
   "cell_type": "markdown",
   "metadata": {},
   "source": [
    "<div class=\"alert alert-info\"> <b> Аня, постарался максимально учесть все твои замечания.)</b> "
   ]
  },
  {
   "cell_type": "markdown",
   "metadata": {},
   "source": [
    "<div class=\"alert alert-success\">\n",
    "<b>Итоговый комментарий ревьюера v4</b> Почти все замечания действительно учтены, а предобработку подняли на новый уровень! На этом могу принять проект. Спасибо за работу :)\n",
    "    \n",
    "Из рекомендаций на будущее: постарайся разобраться с типами пропусков. В следующих проектах будут встречаться как достаточно чистые датасеты, так и требующие обработки. Понимание, что за пропуск перед тобой, здорово поможет в принятии решения по нему.</div>"
   ]
  },
  {
   "cell_type": "markdown",
   "metadata": {},
   "source": [
    "## Чек-лист готовности проекта\n",
    "\n",
    "Поставьте 'x' в выполненных пунктах. Далее нажмите Shift+Enter."
   ]
  },
  {
   "cell_type": "markdown",
   "metadata": {},
   "source": [
    "- [x]  открыт файл;\n",
    "- [x]  файл изучен;\n",
    "- [X]  определены пропущенные значения;\n",
    "- [x]  заполнены пропущенные значения;\n",
    "- [x]  есть пояснение, какие пропущенные значения обнаружены;\n",
    "- [x]  описаны возможные причины появления пропусков в данных;\n",
    "- [x]  объяснено, по какому принципу заполнены пропуски;\n",
    "- [x]  заменен вещественный тип данных на целочисленный;\n",
    "- [x]  есть пояснение, какой метод используется для изменения типа данных и почему;\n",
    "- [x]  удалены дубликаты;\n",
    "- [x]  есть пояснение, какой метод используется для поиска и удаления дубликатов;\n",
    "- [x]  описаны возможные причины появления дубликатов в данных;\n",
    "- [x]  выделены леммы в значениях столбца с целями получения кредита;\n",
    "- [x]  описан процесс лемматизации;\n",
    "- [x]  данные категоризированы;\n",
    "- [x]  есть объяснение принципа категоризации данных;\n",
    "- [x]  есть ответ на вопрос: \"Есть ли зависимость между наличием детей и возвратом кредита в срок?\";\n",
    "- [x]  есть ответ на вопрос: \"Есть ли зависимость между семейным положением и возвратом кредита в срок?\";\n",
    "- [x]  есть ответ на вопрос: \"Есть ли зависимость между уровнем дохода и возвратом кредита в срок?\";\n",
    "- [x]  есть ответ на вопрос: \"Как разные цели кредита влияют на его возврат в срок?\";\n",
    "- [x]  в каждом этапе есть выводы;\n",
    "- [x]  есть общий вывод."
   ]
  }
 ],
 "metadata": {
  "ExecuteTimeLog": [
   {
    "duration": 808,
    "start_time": "2021-06-26T10:17:56.329Z"
   },
   {
    "duration": 59,
    "start_time": "2021-06-26T10:17:59.576Z"
   },
   {
    "duration": 64,
    "start_time": "2021-06-26T10:18:25.109Z"
   },
   {
    "duration": 360,
    "start_time": "2021-06-26T10:19:30.979Z"
   },
   {
    "duration": 2633,
    "start_time": "2021-06-26T10:19:49.835Z"
   },
   {
    "duration": 6471,
    "start_time": "2021-06-26T10:20:05.042Z"
   },
   {
    "duration": 227,
    "start_time": "2021-06-26T10:21:04.181Z"
   },
   {
    "duration": 283,
    "start_time": "2021-06-26T10:21:14.299Z"
   },
   {
    "duration": 660,
    "start_time": "2021-06-26T10:23:05.343Z"
   },
   {
    "duration": 646,
    "start_time": "2021-06-26T10:23:29.016Z"
   },
   {
    "duration": 638,
    "start_time": "2021-06-26T10:26:23.976Z"
   },
   {
    "duration": 667,
    "start_time": "2021-06-26T10:26:33.637Z"
   },
   {
    "duration": 633,
    "start_time": "2021-06-26T10:27:08.127Z"
   },
   {
    "duration": 64,
    "start_time": "2021-06-26T10:29:26.891Z"
   },
   {
    "duration": 680,
    "start_time": "2021-06-26T10:32:21.728Z"
   },
   {
    "duration": 1952,
    "start_time": "2021-06-26T10:32:38.532Z"
   },
   {
    "duration": 2734,
    "start_time": "2021-06-26T10:35:19.836Z"
   },
   {
    "duration": 3790,
    "start_time": "2021-06-26T10:35:38.679Z"
   },
   {
    "duration": 1740,
    "start_time": "2021-06-26T10:36:04.729Z"
   },
   {
    "duration": 1763,
    "start_time": "2021-06-26T10:36:35.336Z"
   },
   {
    "duration": 452,
    "start_time": "2021-06-26T10:38:10.466Z"
   },
   {
    "duration": 225,
    "start_time": "2021-06-26T10:38:17.168Z"
   },
   {
    "duration": 521,
    "start_time": "2021-06-26T10:38:20.739Z"
   },
   {
    "duration": 235,
    "start_time": "2021-06-26T10:38:40.353Z"
   },
   {
    "duration": 207,
    "start_time": "2021-06-26T10:40:04.268Z"
   },
   {
    "duration": 323,
    "start_time": "2021-06-26T10:40:43.979Z"
   },
   {
    "duration": 93,
    "start_time": "2021-06-26T10:43:43.232Z"
   },
   {
    "duration": 310,
    "start_time": "2021-06-26T10:43:49.048Z"
   },
   {
    "duration": 507,
    "start_time": "2021-06-26T10:45:18.864Z"
   },
   {
    "duration": 247,
    "start_time": "2021-06-26T10:45:26.760Z"
   },
   {
    "duration": 259,
    "start_time": "2021-06-26T10:47:22.418Z"
   },
   {
    "duration": 283,
    "start_time": "2021-06-26T10:48:08.036Z"
   },
   {
    "duration": 1330,
    "start_time": "2021-06-27T12:05:05.474Z"
   },
   {
    "duration": 245,
    "start_time": "2021-06-27T12:08:58.052Z"
   },
   {
    "duration": 186,
    "start_time": "2021-06-27T12:11:01.699Z"
   },
   {
    "duration": 603,
    "start_time": "2021-06-27T12:11:38.797Z"
   },
   {
    "duration": 455,
    "start_time": "2021-06-27T12:12:03.773Z"
   },
   {
    "duration": 444,
    "start_time": "2021-06-27T12:12:15.350Z"
   },
   {
    "duration": 421,
    "start_time": "2021-06-27T12:12:50.062Z"
   },
   {
    "duration": 182,
    "start_time": "2021-06-27T12:13:03.254Z"
   },
   {
    "duration": 244,
    "start_time": "2021-06-27T12:14:06.151Z"
   },
   {
    "duration": 183,
    "start_time": "2021-06-27T12:14:26.600Z"
   },
   {
    "duration": 236,
    "start_time": "2021-06-27T12:15:52.361Z"
   },
   {
    "duration": 14,
    "start_time": "2021-06-27T12:15:55.897Z"
   },
   {
    "duration": 188,
    "start_time": "2021-06-27T12:22:06.727Z"
   },
   {
    "duration": 276,
    "start_time": "2021-06-27T12:22:41.226Z"
   },
   {
    "duration": 306,
    "start_time": "2021-06-27T12:25:08.314Z"
   },
   {
    "duration": 11,
    "start_time": "2021-06-27T12:25:16.722Z"
   },
   {
    "duration": 17,
    "start_time": "2021-06-27T12:25:29.508Z"
   },
   {
    "duration": 14,
    "start_time": "2021-06-27T12:25:42.787Z"
   },
   {
    "duration": 13,
    "start_time": "2021-06-27T12:26:06.987Z"
   },
   {
    "duration": 27,
    "start_time": "2021-06-27T12:27:14.988Z"
   },
   {
    "duration": 26,
    "start_time": "2021-06-27T12:27:21.636Z"
   },
   {
    "duration": 16,
    "start_time": "2021-06-27T12:28:11.168Z"
   },
   {
    "duration": 14,
    "start_time": "2021-06-27T12:29:52.311Z"
   },
   {
    "duration": 38,
    "start_time": "2021-06-27T12:35:22.340Z"
   },
   {
    "duration": 38,
    "start_time": "2021-06-27T12:38:03.038Z"
   },
   {
    "duration": 43,
    "start_time": "2021-06-27T12:40:08.992Z"
   },
   {
    "duration": 51,
    "start_time": "2021-06-27T12:41:52.986Z"
   },
   {
    "duration": 47,
    "start_time": "2021-06-27T12:50:47.986Z"
   },
   {
    "duration": 11,
    "start_time": "2021-06-27T12:51:04.977Z"
   },
   {
    "duration": 14,
    "start_time": "2021-06-27T12:51:23.017Z"
   },
   {
    "duration": 45,
    "start_time": "2021-06-27T13:02:32.941Z"
   },
   {
    "duration": 49,
    "start_time": "2021-06-27T13:03:20.390Z"
   },
   {
    "duration": 50,
    "start_time": "2021-06-27T13:03:55.158Z"
   },
   {
    "duration": 51,
    "start_time": "2021-06-27T13:04:28.822Z"
   },
   {
    "duration": 349,
    "start_time": "2021-06-27T13:09:18.028Z"
   },
   {
    "duration": 65,
    "start_time": "2021-06-27T13:10:13.708Z"
   },
   {
    "duration": 56,
    "start_time": "2021-06-27T13:10:45.453Z"
   },
   {
    "duration": 96,
    "start_time": "2021-06-27T13:11:36.232Z"
   },
   {
    "duration": 121,
    "start_time": "2021-06-27T13:11:54.838Z"
   },
   {
    "duration": 66,
    "start_time": "2021-06-27T13:12:33.415Z"
   },
   {
    "duration": 72,
    "start_time": "2021-06-27T13:15:52.618Z"
   },
   {
    "duration": 68,
    "start_time": "2021-06-27T13:31:27.808Z"
   },
   {
    "duration": 59,
    "start_time": "2021-06-27T13:38:26.190Z"
   },
   {
    "duration": 60,
    "start_time": "2021-06-27T13:40:02.871Z"
   },
   {
    "duration": 60,
    "start_time": "2021-06-27T13:40:30.736Z"
   },
   {
    "duration": 61,
    "start_time": "2021-06-27T13:41:08.961Z"
   },
   {
    "duration": 93,
    "start_time": "2021-06-27T13:55:45.698Z"
   },
   {
    "duration": 60,
    "start_time": "2021-06-27T13:56:04.552Z"
   },
   {
    "duration": 48,
    "start_time": "2021-06-27T14:02:39.270Z"
   },
   {
    "duration": 242,
    "start_time": "2021-06-27T14:03:07.172Z"
   },
   {
    "duration": 1210,
    "start_time": "2021-06-27T14:03:14.340Z"
   },
   {
    "duration": 247,
    "start_time": "2021-06-27T14:03:31.163Z"
   },
   {
    "duration": 60,
    "start_time": "2021-06-27T14:06:45.955Z"
   },
   {
    "duration": 85,
    "start_time": "2021-06-27T14:06:54.119Z"
   },
   {
    "duration": 63,
    "start_time": "2021-06-27T14:07:03.871Z"
   },
   {
    "duration": 262,
    "start_time": "2021-06-27T14:07:36.633Z"
   },
   {
    "duration": 200,
    "start_time": "2021-06-27T14:07:52.713Z"
   },
   {
    "duration": 49,
    "start_time": "2021-06-27T14:09:06.258Z"
   },
   {
    "duration": 50,
    "start_time": "2021-06-27T14:09:17.210Z"
   },
   {
    "duration": 52,
    "start_time": "2021-06-27T14:14:02.047Z"
   },
   {
    "duration": 52,
    "start_time": "2021-06-27T14:14:14.486Z"
   },
   {
    "duration": 304,
    "start_time": "2021-06-27T14:15:02.218Z"
   },
   {
    "duration": 1145,
    "start_time": "2021-06-27T14:15:31.296Z"
   },
   {
    "duration": 449,
    "start_time": "2021-06-27T14:15:58.761Z"
   },
   {
    "duration": 52,
    "start_time": "2021-06-27T14:16:24.993Z"
   },
   {
    "duration": 64,
    "start_time": "2021-06-27T14:16:46.417Z"
   },
   {
    "duration": 61,
    "start_time": "2021-06-27T14:22:52.199Z"
   },
   {
    "duration": 73,
    "start_time": "2021-06-27T14:23:06.607Z"
   },
   {
    "duration": 86,
    "start_time": "2021-06-27T14:23:26.608Z"
   },
   {
    "duration": 79,
    "start_time": "2021-06-27T14:26:48.899Z"
   },
   {
    "duration": 80,
    "start_time": "2021-06-27T14:27:43.540Z"
   },
   {
    "duration": 52,
    "start_time": "2021-06-27T14:28:29.581Z"
   },
   {
    "duration": 84,
    "start_time": "2021-06-27T14:28:50.933Z"
   },
   {
    "duration": 84,
    "start_time": "2021-06-27T14:30:50.071Z"
   },
   {
    "duration": 111,
    "start_time": "2021-06-27T14:31:13.927Z"
   },
   {
    "duration": 63,
    "start_time": "2021-06-27T14:37:39.829Z"
   },
   {
    "duration": 99,
    "start_time": "2021-06-27T14:38:34.189Z"
   },
   {
    "duration": 338,
    "start_time": "2021-06-27T14:44:17.344Z"
   },
   {
    "duration": 75,
    "start_time": "2021-06-27T14:44:39.675Z"
   },
   {
    "duration": 289,
    "start_time": "2021-06-27T14:45:17.388Z"
   },
   {
    "duration": 282,
    "start_time": "2021-06-27T14:46:28.950Z"
   },
   {
    "duration": 515,
    "start_time": "2021-06-27T14:47:04.253Z"
   },
   {
    "duration": 292,
    "start_time": "2021-06-27T14:47:33.063Z"
   },
   {
    "duration": 284,
    "start_time": "2021-06-27T14:48:10.615Z"
   },
   {
    "duration": 280,
    "start_time": "2021-06-27T14:49:59.656Z"
   },
   {
    "duration": 276,
    "start_time": "2021-06-27T14:50:27.561Z"
   },
   {
    "duration": 287,
    "start_time": "2021-06-27T14:50:45.328Z"
   },
   {
    "duration": 273,
    "start_time": "2021-06-27T14:51:09.672Z"
   },
   {
    "duration": 280,
    "start_time": "2021-06-27T14:52:15.937Z"
   },
   {
    "duration": 270,
    "start_time": "2021-06-27T14:52:43.074Z"
   },
   {
    "duration": 3,
    "start_time": "2021-06-27T14:53:05.529Z"
   },
   {
    "duration": 4,
    "start_time": "2021-06-27T14:53:19.497Z"
   },
   {
    "duration": 281,
    "start_time": "2021-06-27T14:54:21.276Z"
   },
   {
    "duration": 33,
    "start_time": "2021-06-27T14:54:31.165Z"
   },
   {
    "duration": 14,
    "start_time": "2021-06-27T14:55:08.468Z"
   },
   {
    "duration": 13,
    "start_time": "2021-06-27T14:56:57.719Z"
   },
   {
    "duration": 285,
    "start_time": "2021-06-27T14:58:18.743Z"
   },
   {
    "duration": 27,
    "start_time": "2021-06-27T14:58:43.520Z"
   },
   {
    "duration": 28,
    "start_time": "2021-06-27T14:59:21.151Z"
   },
   {
    "duration": 309,
    "start_time": "2021-06-27T15:00:23.464Z"
   },
   {
    "duration": 611,
    "start_time": "2021-06-27T15:01:14.770Z"
   },
   {
    "duration": 323,
    "start_time": "2021-06-27T15:01:23.841Z"
   },
   {
    "duration": 609,
    "start_time": "2021-06-27T15:01:28.163Z"
   },
   {
    "duration": 20,
    "start_time": "2021-06-27T15:01:47.377Z"
   },
   {
    "duration": 207,
    "start_time": "2021-06-28T04:12:36.570Z"
   },
   {
    "duration": 291,
    "start_time": "2021-06-28T04:26:03.621Z"
   },
   {
    "duration": 177,
    "start_time": "2021-06-28T04:26:21.204Z"
   },
   {
    "duration": 693,
    "start_time": "2021-06-28T04:26:29.341Z"
   },
   {
    "duration": 10,
    "start_time": "2021-06-28T04:26:34.476Z"
   },
   {
    "duration": 9,
    "start_time": "2021-06-28T04:35:41.559Z"
   },
   {
    "duration": 4502,
    "start_time": "2021-06-28T04:36:22.525Z"
   },
   {
    "duration": 4306,
    "start_time": "2021-06-28T04:36:38.942Z"
   },
   {
    "duration": 13,
    "start_time": "2021-06-28T04:38:13.615Z"
   },
   {
    "duration": 13,
    "start_time": "2021-06-28T04:38:17.263Z"
   },
   {
    "duration": 32,
    "start_time": "2021-06-28T05:51:02.789Z"
   },
   {
    "duration": 196,
    "start_time": "2021-06-28T08:18:59.313Z"
   },
   {
    "duration": 8,
    "start_time": "2021-06-28T08:20:22.554Z"
   },
   {
    "duration": 14,
    "start_time": "2021-06-28T08:20:32.923Z"
   },
   {
    "duration": 187,
    "start_time": "2021-06-28T08:20:57.380Z"
   },
   {
    "duration": 188,
    "start_time": "2021-06-28T08:21:13.667Z"
   },
   {
    "duration": 12,
    "start_time": "2021-06-28T08:21:21.811Z"
   },
   {
    "duration": 12,
    "start_time": "2021-06-28T08:21:45.773Z"
   },
   {
    "duration": 12,
    "start_time": "2021-06-28T08:21:51.877Z"
   },
   {
    "duration": 204,
    "start_time": "2021-06-28T09:19:08.724Z"
   },
   {
    "duration": 7,
    "start_time": "2021-06-28T09:19:58.367Z"
   },
   {
    "duration": 12,
    "start_time": "2021-06-28T09:20:16.124Z"
   },
   {
    "duration": 24,
    "start_time": "2021-06-28T09:20:49.582Z"
   },
   {
    "duration": 25,
    "start_time": "2021-06-28T09:21:08.092Z"
   },
   {
    "duration": 25,
    "start_time": "2021-06-28T09:21:20.845Z"
   },
   {
    "duration": 201,
    "start_time": "2021-06-28T11:09:42.397Z"
   },
   {
    "duration": 173,
    "start_time": "2021-06-28T11:09:57.232Z"
   },
   {
    "duration": 191,
    "start_time": "2021-06-28T11:14:46.710Z"
   },
   {
    "duration": 175,
    "start_time": "2021-06-28T11:14:51.150Z"
   },
   {
    "duration": -199,
    "start_time": "2021-06-28T11:16:22.216Z"
   },
   {
    "duration": 20007,
    "start_time": "2021-06-28T11:16:33.293Z"
   },
   {
    "duration": 20215,
    "start_time": "2021-06-28T11:17:14.281Z"
   },
   {
    "duration": 191,
    "start_time": "2021-06-28T11:19:06.106Z"
   },
   {
    "duration": 21,
    "start_time": "2021-06-28T11:19:22.685Z"
   },
   {
    "duration": 19686,
    "start_time": "2021-06-28T11:24:00.591Z"
   },
   {
    "duration": 188,
    "start_time": "2021-06-28T11:35:36.972Z"
   },
   {
    "duration": 34,
    "start_time": "2021-06-28T11:36:21.367Z"
   },
   {
    "duration": 19061,
    "start_time": "2021-06-28T13:25:18.766Z"
   },
   {
    "duration": 19,
    "start_time": "2021-06-28T13:27:33.214Z"
   },
   {
    "duration": 21,
    "start_time": "2021-06-28T13:28:14.619Z"
   },
   {
    "duration": 187,
    "start_time": "2021-06-28T13:35:29.596Z"
   },
   {
    "duration": 195,
    "start_time": "2021-06-28T13:36:05.790Z"
   },
   {
    "duration": 196,
    "start_time": "2021-06-28T13:36:29.804Z"
   },
   {
    "duration": 180,
    "start_time": "2021-06-28T13:41:11.918Z"
   },
   {
    "duration": 23,
    "start_time": "2021-06-28T13:42:53.193Z"
   },
   {
    "duration": 11,
    "start_time": "2021-06-28T14:14:28.099Z"
   },
   {
    "duration": 10,
    "start_time": "2021-06-28T14:15:00.199Z"
   },
   {
    "duration": 10,
    "start_time": "2021-06-28T14:17:19.531Z"
   },
   {
    "duration": 17,
    "start_time": "2021-06-28T14:34:05.711Z"
   },
   {
    "duration": 327,
    "start_time": "2021-06-28T14:35:54.130Z"
   },
   {
    "duration": 33,
    "start_time": "2021-06-28T14:36:16.407Z"
   },
   {
    "duration": 181,
    "start_time": "2021-06-28T14:51:37.010Z"
   },
   {
    "duration": 211,
    "start_time": "2021-06-28T14:51:53.494Z"
   },
   {
    "duration": 28,
    "start_time": "2021-06-28T14:52:28.095Z"
   },
   {
    "duration": 423,
    "start_time": "2021-06-29T05:01:16.185Z"
   },
   {
    "duration": 341,
    "start_time": "2021-06-29T05:01:40.616Z"
   },
   {
    "duration": 336,
    "start_time": "2021-06-29T05:01:44.564Z"
   },
   {
    "duration": 310,
    "start_time": "2021-06-29T05:01:50.574Z"
   },
   {
    "duration": 415,
    "start_time": "2021-06-29T05:01:54.654Z"
   },
   {
    "duration": 1032,
    "start_time": "2021-06-29T05:02:01.521Z"
   },
   {
    "duration": 18,
    "start_time": "2021-06-29T05:02:02.557Z"
   },
   {
    "duration": 28,
    "start_time": "2021-06-29T05:02:02.579Z"
   },
   {
    "duration": 100,
    "start_time": "2021-06-29T05:02:02.610Z"
   },
   {
    "duration": 20,
    "start_time": "2021-06-29T05:02:02.712Z"
   },
   {
    "duration": 108,
    "start_time": "2021-06-29T05:02:02.735Z"
   },
   {
    "duration": 36,
    "start_time": "2021-06-29T05:02:02.846Z"
   },
   {
    "duration": 36,
    "start_time": "2021-06-29T05:02:02.885Z"
   },
   {
    "duration": 66,
    "start_time": "2021-06-29T05:02:02.924Z"
   },
   {
    "duration": 12,
    "start_time": "2021-06-29T05:02:02.992Z"
   },
   {
    "duration": 407,
    "start_time": "2021-06-29T05:02:03.006Z"
   },
   {
    "duration": -52,
    "start_time": "2021-06-29T05:02:03.468Z"
   },
   {
    "duration": -59,
    "start_time": "2021-06-29T05:02:03.477Z"
   },
   {
    "duration": -61,
    "start_time": "2021-06-29T05:02:03.480Z"
   },
   {
    "duration": 199,
    "start_time": "2021-06-29T05:02:07.708Z"
   },
   {
    "duration": 12,
    "start_time": "2021-06-29T05:02:10.644Z"
   },
   {
    "duration": 20,
    "start_time": "2021-06-29T05:02:13.867Z"
   },
   {
    "duration": 47,
    "start_time": "2021-06-29T05:02:16.373Z"
   },
   {
    "duration": 14,
    "start_time": "2021-06-29T05:02:19.326Z"
   },
   {
    "duration": 55,
    "start_time": "2021-06-29T05:02:22.093Z"
   },
   {
    "duration": 27,
    "start_time": "2021-06-29T05:02:25.589Z"
   },
   {
    "duration": 33,
    "start_time": "2021-06-29T05:02:30.974Z"
   },
   {
    "duration": 12,
    "start_time": "2021-06-29T05:02:35.357Z"
   },
   {
    "duration": 315,
    "start_time": "2021-06-29T05:02:38.694Z"
   },
   {
    "duration": 332,
    "start_time": "2021-06-29T05:02:53.349Z"
   },
   {
    "duration": 28,
    "start_time": "2021-06-29T05:03:02.452Z"
   },
   {
    "duration": 343,
    "start_time": "2021-06-29T05:03:25.886Z"
   },
   {
    "duration": 29,
    "start_time": "2021-06-29T05:03:37.334Z"
   },
   {
    "duration": 384,
    "start_time": "2021-06-29T05:03:58.671Z"
   },
   {
    "duration": 354,
    "start_time": "2021-06-29T05:05:21.247Z"
   },
   {
    "duration": 36,
    "start_time": "2021-06-29T05:05:26.793Z"
   },
   {
    "duration": 19,
    "start_time": "2021-06-29T05:05:52.082Z"
   },
   {
    "duration": 20,
    "start_time": "2021-06-29T05:06:42.969Z"
   },
   {
    "duration": 34,
    "start_time": "2021-06-29T05:06:59.426Z"
   },
   {
    "duration": 46,
    "start_time": "2021-06-29T05:20:57.775Z"
   },
   {
    "duration": 30,
    "start_time": "2021-06-29T05:21:11.097Z"
   },
   {
    "duration": 75,
    "start_time": "2021-06-29T05:21:14.574Z"
   },
   {
    "duration": 46,
    "start_time": "2021-06-29T05:21:20.189Z"
   },
   {
    "duration": 8,
    "start_time": "2021-06-29T05:25:27.586Z"
   },
   {
    "duration": 10,
    "start_time": "2021-06-29T05:25:39.073Z"
   },
   {
    "duration": 14,
    "start_time": "2021-06-29T05:26:46.150Z"
   },
   {
    "duration": 11,
    "start_time": "2021-06-29T05:26:55.716Z"
   },
   {
    "duration": 15,
    "start_time": "2021-06-29T05:26:59.483Z"
   },
   {
    "duration": 353,
    "start_time": "2021-06-29T05:30:28.630Z"
   },
   {
    "duration": 4770,
    "start_time": "2021-06-29T05:31:39.857Z"
   },
   {
    "duration": 5,
    "start_time": "2021-06-29T05:40:17.715Z"
   },
   {
    "duration": 315,
    "start_time": "2021-06-29T05:43:21.915Z"
   },
   {
    "duration": 291,
    "start_time": "2021-06-29T05:43:59.692Z"
   },
   {
    "duration": 320,
    "start_time": "2021-06-29T05:45:51.278Z"
   },
   {
    "duration": 358,
    "start_time": "2021-06-29T05:46:15.543Z"
   },
   {
    "duration": 310,
    "start_time": "2021-06-29T05:46:28.822Z"
   },
   {
    "duration": 324,
    "start_time": "2021-06-29T05:47:08.839Z"
   },
   {
    "duration": 365,
    "start_time": "2021-06-29T05:47:25.294Z"
   },
   {
    "duration": 329,
    "start_time": "2021-06-29T05:50:01.465Z"
   },
   {
    "duration": 313,
    "start_time": "2021-06-29T05:53:07.253Z"
   },
   {
    "duration": 4743,
    "start_time": "2021-06-29T05:53:22.327Z"
   },
   {
    "duration": 6,
    "start_time": "2021-06-29T05:53:27.294Z"
   },
   {
    "duration": 5,
    "start_time": "2021-06-29T05:53:31.942Z"
   },
   {
    "duration": 365,
    "start_time": "2021-06-29T05:57:35.511Z"
   },
   {
    "duration": 296,
    "start_time": "2021-06-29T05:57:46.737Z"
   },
   {
    "duration": 401,
    "start_time": "2021-06-29T05:57:59.496Z"
   },
   {
    "duration": 358,
    "start_time": "2021-06-29T05:58:03.112Z"
   },
   {
    "duration": 5042,
    "start_time": "2021-06-29T05:58:07.784Z"
   },
   {
    "duration": 5,
    "start_time": "2021-06-29T05:58:12.830Z"
   },
   {
    "duration": 25,
    "start_time": "2021-06-29T05:58:12.838Z"
   },
   {
    "duration": 4863,
    "start_time": "2021-06-29T05:58:23.347Z"
   },
   {
    "duration": 6,
    "start_time": "2021-06-29T05:58:28.213Z"
   },
   {
    "duration": 10,
    "start_time": "2021-06-29T05:58:28.223Z"
   },
   {
    "duration": 141,
    "start_time": "2021-06-29T06:39:15.792Z"
   },
   {
    "duration": 97,
    "start_time": "2021-06-29T06:39:34.221Z"
   },
   {
    "duration": 107,
    "start_time": "2021-06-29T06:39:41.742Z"
   },
   {
    "duration": 114,
    "start_time": "2021-06-29T06:39:46.621Z"
   },
   {
    "duration": 160,
    "start_time": "2021-06-29T06:40:29.990Z"
   },
   {
    "duration": 123,
    "start_time": "2021-06-29T06:40:35.800Z"
   },
   {
    "duration": 113,
    "start_time": "2021-06-29T06:40:49.665Z"
   },
   {
    "duration": 120,
    "start_time": "2021-06-29T06:41:10.174Z"
   },
   {
    "duration": 103,
    "start_time": "2021-06-29T06:41:21.152Z"
   },
   {
    "duration": 136,
    "start_time": "2021-06-29T06:41:27.896Z"
   },
   {
    "duration": 12,
    "start_time": "2021-06-29T07:06:55.338Z"
   },
   {
    "duration": 13,
    "start_time": "2021-06-29T07:07:59.179Z"
   },
   {
    "duration": 21,
    "start_time": "2021-06-29T07:08:10.604Z"
   },
   {
    "duration": -121,
    "start_time": "2021-06-29T07:10:52.466Z"
   },
   {
    "duration": 8141,
    "start_time": "2021-06-29T07:11:40.607Z"
   },
   {
    "duration": 8116,
    "start_time": "2021-06-29T08:32:37.076Z"
   },
   {
    "duration": 8226,
    "start_time": "2021-06-29T08:32:56.329Z"
   },
   {
    "duration": 20,
    "start_time": "2021-06-29T08:35:37.657Z"
   },
   {
    "duration": 31,
    "start_time": "2021-06-29T08:40:46.379Z"
   },
   {
    "duration": 29,
    "start_time": "2021-06-29T08:41:29.953Z"
   },
   {
    "duration": 29,
    "start_time": "2021-06-29T08:42:18.386Z"
   },
   {
    "duration": 49,
    "start_time": "2021-06-29T08:45:19.723Z"
   },
   {
    "duration": 33,
    "start_time": "2021-06-29T08:45:32.155Z"
   },
   {
    "duration": 37,
    "start_time": "2021-06-29T08:45:34.422Z"
   },
   {
    "duration": 32,
    "start_time": "2021-06-29T08:45:37.306Z"
   },
   {
    "duration": 290,
    "start_time": "2021-06-29T08:45:42.574Z"
   },
   {
    "duration": 12,
    "start_time": "2021-06-29T08:45:42.867Z"
   },
   {
    "duration": 18,
    "start_time": "2021-06-29T08:45:42.883Z"
   },
   {
    "duration": 83,
    "start_time": "2021-06-29T08:45:42.904Z"
   },
   {
    "duration": 13,
    "start_time": "2021-06-29T08:45:42.990Z"
   },
   {
    "duration": 76,
    "start_time": "2021-06-29T08:45:43.005Z"
   },
   {
    "duration": 29,
    "start_time": "2021-06-29T08:45:43.084Z"
   },
   {
    "duration": 54,
    "start_time": "2021-06-29T08:45:43.117Z"
   },
   {
    "duration": 34,
    "start_time": "2021-06-29T08:45:43.174Z"
   },
   {
    "duration": 12,
    "start_time": "2021-06-29T08:45:43.210Z"
   },
   {
    "duration": 68,
    "start_time": "2021-06-29T08:45:43.224Z"
   },
   {
    "duration": 68,
    "start_time": "2021-06-29T08:45:43.294Z"
   },
   {
    "duration": 33,
    "start_time": "2021-06-29T08:45:43.364Z"
   },
   {
    "duration": 68,
    "start_time": "2021-06-29T08:45:43.399Z"
   },
   {
    "duration": 47,
    "start_time": "2021-06-29T08:45:43.469Z"
   },
   {
    "duration": 192,
    "start_time": "2021-06-29T08:45:43.518Z"
   },
   {
    "duration": -61,
    "start_time": "2021-06-29T08:45:43.774Z"
   },
   {
    "duration": -77,
    "start_time": "2021-06-29T08:45:43.791Z"
   },
   {
    "duration": -92,
    "start_time": "2021-06-29T08:45:43.808Z"
   },
   {
    "duration": -105,
    "start_time": "2021-06-29T08:45:43.823Z"
   },
   {
    "duration": -106,
    "start_time": "2021-06-29T08:45:43.826Z"
   },
   {
    "duration": -111,
    "start_time": "2021-06-29T08:45:43.833Z"
   },
   {
    "duration": 48,
    "start_time": "2021-06-29T08:46:00.115Z"
   },
   {
    "duration": 35,
    "start_time": "2021-06-29T08:46:06.377Z"
   },
   {
    "duration": 249,
    "start_time": "2021-06-29T08:46:11.206Z"
   },
   {
    "duration": 16,
    "start_time": "2021-06-29T08:46:11.459Z"
   },
   {
    "duration": 29,
    "start_time": "2021-06-29T08:46:11.479Z"
   },
   {
    "duration": 102,
    "start_time": "2021-06-29T08:46:11.511Z"
   },
   {
    "duration": 14,
    "start_time": "2021-06-29T08:46:11.616Z"
   },
   {
    "duration": 80,
    "start_time": "2021-06-29T08:46:11.633Z"
   },
   {
    "duration": 28,
    "start_time": "2021-06-29T08:46:11.716Z"
   },
   {
    "duration": 35,
    "start_time": "2021-06-29T08:46:11.764Z"
   },
   {
    "duration": 34,
    "start_time": "2021-06-29T08:46:11.802Z"
   },
   {
    "duration": 13,
    "start_time": "2021-06-29T08:46:11.863Z"
   },
   {
    "duration": 58,
    "start_time": "2021-06-29T08:46:11.878Z"
   },
   {
    "duration": 45,
    "start_time": "2021-06-29T08:46:11.962Z"
   },
   {
    "duration": 55,
    "start_time": "2021-06-29T08:46:12.011Z"
   },
   {
    "duration": 55,
    "start_time": "2021-06-29T08:46:12.068Z"
   },
   {
    "duration": 69,
    "start_time": "2021-06-29T08:46:12.125Z"
   },
   {
    "duration": 118,
    "start_time": "2021-06-29T08:46:12.197Z"
   },
   {
    "duration": -65,
    "start_time": "2021-06-29T08:46:12.382Z"
   },
   {
    "duration": -66,
    "start_time": "2021-06-29T08:46:12.385Z"
   },
   {
    "duration": -70,
    "start_time": "2021-06-29T08:46:12.390Z"
   },
   {
    "duration": -75,
    "start_time": "2021-06-29T08:46:12.396Z"
   },
   {
    "duration": -76,
    "start_time": "2021-06-29T08:46:12.399Z"
   },
   {
    "duration": -77,
    "start_time": "2021-06-29T08:46:12.401Z"
   },
   {
    "duration": 47,
    "start_time": "2021-06-29T08:46:32.773Z"
   },
   {
    "duration": 20,
    "start_time": "2021-06-29T08:47:34.857Z"
   },
   {
    "duration": 21,
    "start_time": "2021-06-29T08:47:45.209Z"
   },
   {
    "duration": 775,
    "start_time": "2021-06-29T08:48:00.092Z"
   },
   {
    "duration": 101,
    "start_time": "2021-06-29T08:48:17.819Z"
   },
   {
    "duration": 120,
    "start_time": "2021-06-29T08:48:26.633Z"
   },
   {
    "duration": 830,
    "start_time": "2021-06-29T08:49:07.458Z"
   },
   {
    "duration": 831,
    "start_time": "2021-06-29T08:49:23.627Z"
   },
   {
    "duration": 357,
    "start_time": "2021-06-29T08:49:33.417Z"
   },
   {
    "duration": 490,
    "start_time": "2021-06-29T08:49:52.876Z"
   },
   {
    "duration": 108,
    "start_time": "2021-06-29T08:50:31.590Z"
   },
   {
    "duration": 132,
    "start_time": "2021-06-29T08:50:51.438Z"
   },
   {
    "duration": 566,
    "start_time": "2021-06-29T08:53:10.402Z"
   },
   {
    "duration": 108,
    "start_time": "2021-06-29T08:54:24.399Z"
   },
   {
    "duration": 574,
    "start_time": "2021-06-29T08:54:31.128Z"
   },
   {
    "duration": 169,
    "start_time": "2021-06-29T08:54:46.769Z"
   },
   {
    "duration": 288,
    "start_time": "2021-06-29T08:55:06.147Z"
   },
   {
    "duration": 138,
    "start_time": "2021-06-29T08:55:40.711Z"
   },
   {
    "duration": 157,
    "start_time": "2021-06-29T08:55:53.594Z"
   },
   {
    "duration": 453,
    "start_time": "2021-06-29T08:58:12.051Z"
   },
   {
    "duration": 502,
    "start_time": "2021-06-29T08:58:17.823Z"
   },
   {
    "duration": 140,
    "start_time": "2021-06-29T08:58:24.712Z"
   },
   {
    "duration": 198,
    "start_time": "2021-06-29T08:58:40.180Z"
   },
   {
    "duration": 464,
    "start_time": "2021-06-29T08:58:59.365Z"
   },
   {
    "duration": 445,
    "start_time": "2021-06-29T08:59:13.669Z"
   },
   {
    "duration": 139,
    "start_time": "2021-06-29T08:59:20.594Z"
   },
   {
    "duration": 208,
    "start_time": "2021-06-29T08:59:30.857Z"
   },
   {
    "duration": 347,
    "start_time": "2021-06-29T09:01:34.884Z"
   },
   {
    "duration": 36,
    "start_time": "2021-06-29T09:02:12.266Z"
   },
   {
    "duration": 337,
    "start_time": "2021-06-29T09:02:31.853Z"
   },
   {
    "duration": 166,
    "start_time": "2021-06-29T09:02:38.660Z"
   },
   {
    "duration": 10,
    "start_time": "2021-06-29T09:02:38.829Z"
   },
   {
    "duration": 31,
    "start_time": "2021-06-29T09:02:38.843Z"
   },
   {
    "duration": 47,
    "start_time": "2021-06-29T09:02:38.877Z"
   },
   {
    "duration": 40,
    "start_time": "2021-06-29T09:02:38.927Z"
   },
   {
    "duration": 57,
    "start_time": "2021-06-29T09:02:38.969Z"
   },
   {
    "duration": 50,
    "start_time": "2021-06-29T09:02:39.028Z"
   },
   {
    "duration": 35,
    "start_time": "2021-06-29T09:02:39.080Z"
   },
   {
    "duration": 58,
    "start_time": "2021-06-29T09:02:39.119Z"
   },
   {
    "duration": 13,
    "start_time": "2021-06-29T09:02:39.179Z"
   },
   {
    "duration": 35,
    "start_time": "2021-06-29T09:02:39.194Z"
   },
   {
    "duration": 44,
    "start_time": "2021-06-29T09:02:39.262Z"
   },
   {
    "duration": 55,
    "start_time": "2021-06-29T09:02:39.308Z"
   },
   {
    "duration": 29,
    "start_time": "2021-06-29T09:02:39.366Z"
   },
   {
    "duration": 78,
    "start_time": "2021-06-29T09:02:39.397Z"
   },
   {
    "duration": 46,
    "start_time": "2021-06-29T09:02:39.478Z"
   },
   {
    "duration": 15,
    "start_time": "2021-06-29T09:02:39.526Z"
   },
   {
    "duration": 5127,
    "start_time": "2021-06-29T09:02:39.563Z"
   },
   {
    "duration": 5,
    "start_time": "2021-06-29T09:02:44.693Z"
   },
   {
    "duration": 18,
    "start_time": "2021-06-29T09:02:44.701Z"
   },
   {
    "duration": 106,
    "start_time": "2021-06-29T09:02:44.721Z"
   },
   {
    "duration": -88,
    "start_time": "2021-06-29T09:02:44.917Z"
   },
   {
    "duration": 34,
    "start_time": "2021-06-29T09:03:43.801Z"
   },
   {
    "duration": 33,
    "start_time": "2021-06-29T09:04:37.250Z"
   },
   {
    "duration": 134,
    "start_time": "2021-06-29T09:04:41.930Z"
   },
   {
    "duration": 11,
    "start_time": "2021-06-29T09:04:42.067Z"
   },
   {
    "duration": 19,
    "start_time": "2021-06-29T09:04:42.081Z"
   },
   {
    "duration": 81,
    "start_time": "2021-06-29T09:04:42.103Z"
   },
   {
    "duration": 15,
    "start_time": "2021-06-29T09:04:42.186Z"
   },
   {
    "duration": 78,
    "start_time": "2021-06-29T09:04:42.203Z"
   },
   {
    "duration": 29,
    "start_time": "2021-06-29T09:04:42.283Z"
   },
   {
    "duration": 57,
    "start_time": "2021-06-29T09:04:42.314Z"
   },
   {
    "duration": 37,
    "start_time": "2021-06-29T09:04:42.374Z"
   },
   {
    "duration": 13,
    "start_time": "2021-06-29T09:04:42.414Z"
   },
   {
    "duration": 68,
    "start_time": "2021-06-29T09:04:42.429Z"
   },
   {
    "duration": 66,
    "start_time": "2021-06-29T09:04:42.500Z"
   },
   {
    "duration": 34,
    "start_time": "2021-06-29T09:04:42.569Z"
   },
   {
    "duration": 30,
    "start_time": "2021-06-29T09:04:42.606Z"
   },
   {
    "duration": 56,
    "start_time": "2021-06-29T09:04:42.662Z"
   },
   {
    "duration": 66,
    "start_time": "2021-06-29T09:04:42.721Z"
   },
   {
    "duration": 14,
    "start_time": "2021-06-29T09:04:42.790Z"
   },
   {
    "duration": 4925,
    "start_time": "2021-06-29T09:04:42.807Z"
   },
   {
    "duration": 6,
    "start_time": "2021-06-29T09:04:47.735Z"
   },
   {
    "duration": 22,
    "start_time": "2021-06-29T09:04:47.744Z"
   },
   {
    "duration": 116,
    "start_time": "2021-06-29T09:04:47.768Z"
   },
   {
    "duration": -6,
    "start_time": "2021-06-29T09:04:47.892Z"
   },
   {
    "duration": 151,
    "start_time": "2021-06-29T09:06:34.264Z"
   },
   {
    "duration": 12,
    "start_time": "2021-06-29T09:06:34.417Z"
   },
   {
    "duration": 40,
    "start_time": "2021-06-29T09:06:34.432Z"
   },
   {
    "duration": 47,
    "start_time": "2021-06-29T09:06:34.474Z"
   },
   {
    "duration": 43,
    "start_time": "2021-06-29T09:06:34.524Z"
   },
   {
    "duration": 57,
    "start_time": "2021-06-29T09:06:34.569Z"
   },
   {
    "duration": 56,
    "start_time": "2021-06-29T09:06:34.629Z"
   },
   {
    "duration": 33,
    "start_time": "2021-06-29T09:06:34.687Z"
   },
   {
    "duration": 66,
    "start_time": "2021-06-29T09:06:34.724Z"
   },
   {
    "duration": 12,
    "start_time": "2021-06-29T09:06:34.792Z"
   },
   {
    "duration": 61,
    "start_time": "2021-06-29T09:06:34.806Z"
   },
   {
    "duration": 49,
    "start_time": "2021-06-29T09:06:34.869Z"
   },
   {
    "duration": 61,
    "start_time": "2021-06-29T09:06:34.920Z"
   },
   {
    "duration": 29,
    "start_time": "2021-06-29T09:06:34.983Z"
   },
   {
    "duration": 82,
    "start_time": "2021-06-29T09:06:35.014Z"
   },
   {
    "duration": 71,
    "start_time": "2021-06-29T09:06:35.098Z"
   },
   {
    "duration": 14,
    "start_time": "2021-06-29T09:06:35.172Z"
   },
   {
    "duration": 4760,
    "start_time": "2021-06-29T09:06:35.189Z"
   },
   {
    "duration": 6,
    "start_time": "2021-06-29T09:06:39.963Z"
   },
   {
    "duration": 8,
    "start_time": "2021-06-29T09:06:39.972Z"
   },
   {
    "duration": 27,
    "start_time": "2021-06-29T09:06:39.983Z"
   },
   {
    "duration": 114,
    "start_time": "2021-06-29T10:03:47.282Z"
   },
   {
    "duration": 34,
    "start_time": "2021-06-29T10:04:26.201Z"
   },
   {
    "duration": 194,
    "start_time": "2021-06-29T10:12:02.412Z"
   },
   {
    "duration": 101,
    "start_time": "2021-06-29T10:12:52.183Z"
   },
   {
    "duration": 95,
    "start_time": "2021-06-29T10:13:21.911Z"
   },
   {
    "duration": 4,
    "start_time": "2021-06-29T10:13:28.979Z"
   },
   {
    "duration": 8,
    "start_time": "2021-06-29T10:15:12.819Z"
   },
   {
    "duration": 334,
    "start_time": "2021-06-29T10:15:14.644Z"
   },
   {
    "duration": 17,
    "start_time": "2021-06-29T10:15:15.268Z"
   },
   {
    "duration": 9330,
    "start_time": "2021-06-29T10:15:41.316Z"
   },
   {
    "duration": 10159,
    "start_time": "2021-06-29T10:15:55.600Z"
   },
   {
    "duration": 9,
    "start_time": "2021-06-29T10:16:32.346Z"
   },
   {
    "duration": 1606,
    "start_time": "2021-06-29T10:18:18.837Z"
   },
   {
    "duration": 190,
    "start_time": "2021-06-29T10:18:23.782Z"
   },
   {
    "duration": 11,
    "start_time": "2021-06-29T10:18:23.975Z"
   },
   {
    "duration": 19,
    "start_time": "2021-06-29T10:18:23.990Z"
   },
   {
    "duration": 75,
    "start_time": "2021-06-29T10:18:24.011Z"
   },
   {
    "duration": 14,
    "start_time": "2021-06-29T10:18:24.089Z"
   },
   {
    "duration": 81,
    "start_time": "2021-06-29T10:18:24.105Z"
   },
   {
    "duration": 27,
    "start_time": "2021-06-29T10:18:24.188Z"
   },
   {
    "duration": 66,
    "start_time": "2021-06-29T10:18:24.217Z"
   },
   {
    "duration": 33,
    "start_time": "2021-06-29T10:18:24.287Z"
   },
   {
    "duration": 12,
    "start_time": "2021-06-29T10:18:24.323Z"
   },
   {
    "duration": 38,
    "start_time": "2021-06-29T10:18:24.362Z"
   },
   {
    "duration": 76,
    "start_time": "2021-06-29T10:18:24.403Z"
   },
   {
    "duration": 33,
    "start_time": "2021-06-29T10:18:24.483Z"
   },
   {
    "duration": 65,
    "start_time": "2021-06-29T10:18:24.519Z"
   },
   {
    "duration": 51,
    "start_time": "2021-06-29T10:18:24.587Z"
   },
   {
    "duration": 63,
    "start_time": "2021-06-29T10:18:24.640Z"
   },
   {
    "duration": 14,
    "start_time": "2021-06-29T10:18:24.705Z"
   },
   {
    "duration": 5351,
    "start_time": "2021-06-29T10:18:24.721Z"
   },
   {
    "duration": 5,
    "start_time": "2021-06-29T10:18:30.075Z"
   },
   {
    "duration": 10,
    "start_time": "2021-06-29T10:18:30.082Z"
   },
   {
    "duration": 43,
    "start_time": "2021-06-29T10:18:30.095Z"
   },
   {
    "duration": 24,
    "start_time": "2021-06-29T10:18:30.140Z"
   },
   {
    "duration": 1608,
    "start_time": "2021-06-29T10:18:30.167Z"
   },
   {
    "duration": 23,
    "start_time": "2021-06-29T10:18:31.777Z"
   },
   {
    "duration": 25,
    "start_time": "2021-06-29T10:18:55.757Z"
   },
   {
    "duration": 371,
    "start_time": "2021-06-29T10:20:10.094Z"
   },
   {
    "duration": 404,
    "start_time": "2021-06-29T10:20:28.816Z"
   },
   {
    "duration": 325,
    "start_time": "2021-06-29T10:20:42.651Z"
   },
   {
    "duration": 381,
    "start_time": "2021-06-29T10:22:39.855Z"
   },
   {
    "duration": 11,
    "start_time": "2021-06-29T10:22:59.231Z"
   },
   {
    "duration": 24,
    "start_time": "2021-06-29T10:23:05.249Z"
   },
   {
    "duration": 5,
    "start_time": "2021-06-29T11:04:34.001Z"
   },
   {
    "duration": 32,
    "start_time": "2021-06-29T11:04:40.421Z"
   },
   {
    "duration": 499,
    "start_time": "2021-06-29T11:04:55.451Z"
   },
   {
    "duration": 355,
    "start_time": "2021-06-29T11:07:00.971Z"
   },
   {
    "duration": 37,
    "start_time": "2021-06-29T11:10:07.617Z"
   },
   {
    "duration": 591,
    "start_time": "2021-06-29T11:10:48.787Z"
   },
   {
    "duration": 630,
    "start_time": "2021-06-29T11:11:01.356Z"
   },
   {
    "duration": 562,
    "start_time": "2021-06-29T11:12:10.069Z"
   },
   {
    "duration": 533,
    "start_time": "2021-06-29T11:12:19.289Z"
   },
   {
    "duration": 1825,
    "start_time": "2021-06-29T11:14:48.018Z"
   },
   {
    "duration": 20,
    "start_time": "2021-06-29T11:15:01.787Z"
   },
   {
    "duration": 19,
    "start_time": "2021-06-29T11:16:59.279Z"
   },
   {
    "duration": 969,
    "start_time": "2021-06-29T11:38:10.106Z"
   },
   {
    "duration": 23,
    "start_time": "2021-06-29T11:39:08.341Z"
   },
   {
    "duration": 657,
    "start_time": "2021-06-29T11:39:42.089Z"
   },
   {
    "duration": 9,
    "start_time": "2021-06-29T11:40:25.708Z"
   },
   {
    "duration": 337,
    "start_time": "2021-06-29T11:40:26.991Z"
   },
   {
    "duration": 22,
    "start_time": "2021-06-29T11:40:27.706Z"
   },
   {
    "duration": 635,
    "start_time": "2021-06-29T11:40:56.453Z"
   },
   {
    "duration": 624,
    "start_time": "2021-06-29T11:41:42.378Z"
   },
   {
    "duration": 297,
    "start_time": "2021-06-29T11:41:50.431Z"
   },
   {
    "duration": 12,
    "start_time": "2021-06-29T11:41:50.731Z"
   },
   {
    "duration": 39,
    "start_time": "2021-06-29T11:41:50.748Z"
   },
   {
    "duration": 95,
    "start_time": "2021-06-29T11:41:50.791Z"
   },
   {
    "duration": 22,
    "start_time": "2021-06-29T11:41:50.889Z"
   },
   {
    "duration": 118,
    "start_time": "2021-06-29T11:41:50.914Z"
   },
   {
    "duration": 42,
    "start_time": "2021-06-29T11:41:51.035Z"
   },
   {
    "duration": 34,
    "start_time": "2021-06-29T11:41:51.080Z"
   },
   {
    "duration": 57,
    "start_time": "2021-06-29T11:41:51.118Z"
   },
   {
    "duration": 12,
    "start_time": "2021-06-29T11:41:51.178Z"
   },
   {
    "duration": 34,
    "start_time": "2021-06-29T11:41:51.192Z"
   },
   {
    "duration": 73,
    "start_time": "2021-06-29T11:41:51.228Z"
   },
   {
    "duration": 62,
    "start_time": "2021-06-29T11:41:51.304Z"
   },
   {
    "duration": 27,
    "start_time": "2021-06-29T11:41:51.369Z"
   },
   {
    "duration": 85,
    "start_time": "2021-06-29T11:41:51.398Z"
   },
   {
    "duration": 48,
    "start_time": "2021-06-29T11:41:51.486Z"
   },
   {
    "duration": 32,
    "start_time": "2021-06-29T11:41:51.536Z"
   },
   {
    "duration": 5099,
    "start_time": "2021-06-29T11:41:51.570Z"
   },
   {
    "duration": 8,
    "start_time": "2021-06-29T11:41:56.673Z"
   },
   {
    "duration": 8,
    "start_time": "2021-06-29T11:41:56.683Z"
   },
   {
    "duration": 69,
    "start_time": "2021-06-29T11:41:56.693Z"
   },
   {
    "duration": 9,
    "start_time": "2021-06-29T11:41:56.764Z"
   },
   {
    "duration": 11,
    "start_time": "2021-06-29T11:41:56.775Z"
   },
   {
    "duration": 29,
    "start_time": "2021-06-29T11:41:56.789Z"
   },
   {
    "duration": 554,
    "start_time": "2021-06-29T11:41:56.821Z"
   },
   {
    "duration": -137,
    "start_time": "2021-06-29T11:41:57.516Z"
   },
   {
    "duration": -138,
    "start_time": "2021-06-29T11:41:57.519Z"
   },
   {
    "duration": 513,
    "start_time": "2021-06-29T11:42:25.239Z"
   },
   {
    "duration": 14,
    "start_time": "2021-06-29T11:42:30.518Z"
   },
   {
    "duration": 867,
    "start_time": "2021-06-29T11:42:36.080Z"
   },
   {
    "duration": 14,
    "start_time": "2021-06-29T11:42:55.156Z"
   },
   {
    "duration": 22,
    "start_time": "2021-06-29T11:43:31.970Z"
   },
   {
    "duration": 18,
    "start_time": "2021-06-29T11:44:32.282Z"
   },
   {
    "duration": 25,
    "start_time": "2021-06-29T11:45:33.325Z"
   },
   {
    "duration": 26,
    "start_time": "2021-06-29T11:45:53.677Z"
   },
   {
    "duration": 42,
    "start_time": "2021-06-29T11:46:46.623Z"
   },
   {
    "duration": 9,
    "start_time": "2021-06-29T11:48:18.138Z"
   },
   {
    "duration": 307,
    "start_time": "2021-06-29T11:48:18.963Z"
   },
   {
    "duration": 18,
    "start_time": "2021-06-29T11:48:19.671Z"
   },
   {
    "duration": 19,
    "start_time": "2021-06-29T11:48:29.022Z"
   },
   {
    "duration": 329,
    "start_time": "2021-06-29T11:49:06.096Z"
   },
   {
    "duration": 324,
    "start_time": "2021-06-29T11:49:18.333Z"
   },
   {
    "duration": 1690,
    "start_time": "2021-06-29T11:49:26.902Z"
   },
   {
    "duration": 27,
    "start_time": "2021-06-29T11:49:32.758Z"
   },
   {
    "duration": 9,
    "start_time": "2021-06-29T11:51:05.687Z"
   },
   {
    "duration": 308,
    "start_time": "2021-06-29T11:51:07.731Z"
   },
   {
    "duration": 337,
    "start_time": "2021-06-29T11:51:14.113Z"
   },
   {
    "duration": 111,
    "start_time": "2021-06-29T11:53:22.108Z"
   },
   {
    "duration": 105,
    "start_time": "2021-06-29T11:54:22.289Z"
   },
   {
    "duration": 101,
    "start_time": "2021-06-29T11:54:37.718Z"
   },
   {
    "duration": 124,
    "start_time": "2021-06-29T11:54:44.291Z"
   },
   {
    "duration": 112,
    "start_time": "2021-06-29T11:55:22.253Z"
   },
   {
    "duration": 102,
    "start_time": "2021-06-29T11:55:35.865Z"
   },
   {
    "duration": 4,
    "start_time": "2021-06-29T11:57:59.709Z"
   },
   {
    "duration": 601,
    "start_time": "2021-06-29T11:58:29.316Z"
   },
   {
    "duration": 19,
    "start_time": "2021-06-29T11:58:57.278Z"
   },
   {
    "duration": 22,
    "start_time": "2021-06-29T11:59:08.675Z"
   },
   {
    "duration": 15,
    "start_time": "2021-06-29T11:59:24.757Z"
   },
   {
    "duration": 600,
    "start_time": "2021-06-29T11:59:31.317Z"
   },
   {
    "duration": 15,
    "start_time": "2021-06-29T11:59:37.185Z"
   },
   {
    "duration": 5,
    "start_time": "2021-06-29T12:00:27.115Z"
   },
   {
    "duration": 21,
    "start_time": "2021-06-29T12:01:10.227Z"
   },
   {
    "duration": 328,
    "start_time": "2021-06-29T12:01:22.213Z"
   },
   {
    "duration": 27,
    "start_time": "2021-06-29T12:01:46.530Z"
   },
   {
    "duration": 126,
    "start_time": "2021-06-29T12:04:37.976Z"
   },
   {
    "duration": 117,
    "start_time": "2021-06-29T12:05:09.347Z"
   },
   {
    "duration": 129,
    "start_time": "2021-06-29T12:06:12.656Z"
   },
   {
    "duration": 115,
    "start_time": "2021-06-29T12:06:21.770Z"
   },
   {
    "duration": 21,
    "start_time": "2021-06-29T12:08:36.760Z"
   },
   {
    "duration": 357,
    "start_time": "2021-06-29T12:08:46.756Z"
   },
   {
    "duration": 21,
    "start_time": "2021-06-29T12:08:55.359Z"
   },
   {
    "duration": 22,
    "start_time": "2021-06-29T12:09:20.828Z"
   },
   {
    "duration": 980,
    "start_time": "2021-06-29T15:39:40.056Z"
   },
   {
    "duration": 12,
    "start_time": "2021-06-29T15:39:41.039Z"
   },
   {
    "duration": 24,
    "start_time": "2021-06-29T15:39:41.054Z"
   },
   {
    "duration": 60,
    "start_time": "2021-06-29T15:39:41.080Z"
   },
   {
    "duration": 16,
    "start_time": "2021-06-29T15:39:41.166Z"
   },
   {
    "duration": 63,
    "start_time": "2021-06-29T15:39:41.185Z"
   },
   {
    "duration": 41,
    "start_time": "2021-06-29T15:39:41.251Z"
   },
   {
    "duration": 35,
    "start_time": "2021-06-29T15:39:41.295Z"
   },
   {
    "duration": 61,
    "start_time": "2021-06-29T15:39:41.333Z"
   },
   {
    "duration": 12,
    "start_time": "2021-06-29T15:39:41.396Z"
   },
   {
    "duration": 60,
    "start_time": "2021-06-29T15:39:41.410Z"
   },
   {
    "duration": 43,
    "start_time": "2021-06-29T15:39:41.472Z"
   },
   {
    "duration": 62,
    "start_time": "2021-06-29T15:39:41.517Z"
   },
   {
    "duration": 30,
    "start_time": "2021-06-29T15:39:41.582Z"
   },
   {
    "duration": 79,
    "start_time": "2021-06-29T15:39:41.615Z"
   },
   {
    "duration": 50,
    "start_time": "2021-06-29T15:39:41.696Z"
   },
   {
    "duration": 27,
    "start_time": "2021-06-29T15:39:41.749Z"
   },
   {
    "duration": 4490,
    "start_time": "2021-06-29T15:39:41.778Z"
   },
   {
    "duration": 5,
    "start_time": "2021-06-29T15:39:46.271Z"
   },
   {
    "duration": 10,
    "start_time": "2021-06-29T15:39:46.279Z"
   },
   {
    "duration": 40,
    "start_time": "2021-06-29T15:39:46.291Z"
   },
   {
    "duration": 95,
    "start_time": "2021-06-29T15:39:46.333Z"
   },
   {
    "duration": -104,
    "start_time": "2021-06-29T15:39:46.535Z"
   },
   {
    "duration": -109,
    "start_time": "2021-06-29T15:39:46.542Z"
   },
   {
    "duration": -114,
    "start_time": "2021-06-29T15:39:46.548Z"
   },
   {
    "duration": -117,
    "start_time": "2021-06-29T15:39:46.553Z"
   },
   {
    "duration": -121,
    "start_time": "2021-06-29T15:39:46.558Z"
   },
   {
    "duration": -123,
    "start_time": "2021-06-29T15:39:46.564Z"
   },
   {
    "duration": 429,
    "start_time": "2021-06-30T10:06:39.721Z"
   },
   {
    "duration": 336,
    "start_time": "2021-06-30T10:06:47.406Z"
   },
   {
    "duration": 96,
    "start_time": "2021-06-30T10:07:03.316Z"
   },
   {
    "duration": 1017,
    "start_time": "2021-06-30T10:07:10.969Z"
   },
   {
    "duration": 11,
    "start_time": "2021-06-30T10:07:11.989Z"
   },
   {
    "duration": 36,
    "start_time": "2021-06-30T10:07:12.003Z"
   },
   {
    "duration": 56,
    "start_time": "2021-06-30T10:07:12.042Z"
   },
   {
    "duration": 31,
    "start_time": "2021-06-30T10:07:12.100Z"
   },
   {
    "duration": 62,
    "start_time": "2021-06-30T10:07:12.134Z"
   },
   {
    "duration": 44,
    "start_time": "2021-06-30T10:07:12.199Z"
   },
   {
    "duration": 35,
    "start_time": "2021-06-30T10:07:12.247Z"
   },
   {
    "duration": 67,
    "start_time": "2021-06-30T10:07:12.286Z"
   },
   {
    "duration": 12,
    "start_time": "2021-06-30T10:07:12.355Z"
   },
   {
    "duration": 53,
    "start_time": "2021-06-30T10:07:12.370Z"
   },
   {
    "duration": 42,
    "start_time": "2021-06-30T10:07:12.426Z"
   },
   {
    "duration": 57,
    "start_time": "2021-06-30T10:07:12.470Z"
   },
   {
    "duration": 40,
    "start_time": "2021-06-30T10:07:12.529Z"
   },
   {
    "duration": 65,
    "start_time": "2021-06-30T10:07:12.571Z"
   },
   {
    "duration": 48,
    "start_time": "2021-06-30T10:07:12.638Z"
   },
   {
    "duration": 14,
    "start_time": "2021-06-30T10:07:12.689Z"
   },
   {
    "duration": 4716,
    "start_time": "2021-06-30T10:07:12.724Z"
   },
   {
    "duration": 8,
    "start_time": "2021-06-30T10:07:17.443Z"
   },
   {
    "duration": 11,
    "start_time": "2021-06-30T10:07:17.454Z"
   },
   {
    "duration": 63,
    "start_time": "2021-06-30T10:07:17.468Z"
   },
   {
    "duration": 98,
    "start_time": "2021-06-30T10:07:17.533Z"
   },
   {
    "duration": -49,
    "start_time": "2021-06-30T10:07:17.684Z"
   },
   {
    "duration": -55,
    "start_time": "2021-06-30T10:07:17.693Z"
   },
   {
    "duration": -55,
    "start_time": "2021-06-30T10:07:17.695Z"
   },
   {
    "duration": -56,
    "start_time": "2021-06-30T10:07:17.698Z"
   },
   {
    "duration": -58,
    "start_time": "2021-06-30T10:07:17.702Z"
   },
   {
    "duration": -60,
    "start_time": "2021-06-30T10:07:17.706Z"
   },
   {
    "duration": 28,
    "start_time": "2021-06-30T10:07:31.504Z"
   },
   {
    "duration": 618,
    "start_time": "2021-06-30T10:07:42.016Z"
   },
   {
    "duration": 23,
    "start_time": "2021-06-30T10:07:49.704Z"
   },
   {
    "duration": 31,
    "start_time": "2021-06-30T10:07:52.078Z"
   },
   {
    "duration": 17,
    "start_time": "2021-06-30T10:07:55.103Z"
   },
   {
    "duration": 479,
    "start_time": "2021-06-30T10:09:44.093Z"
   },
   {
    "duration": 14,
    "start_time": "2021-06-30T10:09:51.813Z"
   },
   {
    "duration": 93,
    "start_time": "2021-06-30T10:10:49.147Z"
   },
   {
    "duration": 312,
    "start_time": "2021-06-30T11:58:42.580Z"
   },
   {
    "duration": 923,
    "start_time": "2021-06-30T11:59:00.820Z"
   },
   {
    "duration": 14,
    "start_time": "2021-06-30T11:59:01.746Z"
   },
   {
    "duration": 40,
    "start_time": "2021-06-30T11:59:01.764Z"
   },
   {
    "duration": 58,
    "start_time": "2021-06-30T11:59:01.808Z"
   },
   {
    "duration": 18,
    "start_time": "2021-06-30T11:59:01.888Z"
   },
   {
    "duration": 79,
    "start_time": "2021-06-30T11:59:01.908Z"
   },
   {
    "duration": 29,
    "start_time": "2021-06-30T11:59:01.991Z"
   },
   {
    "duration": 32,
    "start_time": "2021-06-30T11:59:02.022Z"
   },
   {
    "duration": 62,
    "start_time": "2021-06-30T11:59:02.058Z"
   },
   {
    "duration": 12,
    "start_time": "2021-06-30T11:59:02.123Z"
   },
   {
    "duration": 67,
    "start_time": "2021-06-30T11:59:02.137Z"
   },
   {
    "duration": 42,
    "start_time": "2021-06-30T11:59:02.206Z"
   },
   {
    "duration": 64,
    "start_time": "2021-06-30T11:59:02.252Z"
   },
   {
    "duration": 28,
    "start_time": "2021-06-30T11:59:02.318Z"
   },
   {
    "duration": 90,
    "start_time": "2021-06-30T11:59:02.348Z"
   },
   {
    "duration": 67,
    "start_time": "2021-06-30T11:59:02.441Z"
   },
   {
    "duration": 15,
    "start_time": "2021-06-30T11:59:02.512Z"
   },
   {
    "duration": 4735,
    "start_time": "2021-06-30T11:59:02.529Z"
   },
   {
    "duration": 6,
    "start_time": "2021-06-30T11:59:07.266Z"
   },
   {
    "duration": 9,
    "start_time": "2021-06-30T11:59:07.285Z"
   },
   {
    "duration": 37,
    "start_time": "2021-06-30T11:59:07.297Z"
   },
   {
    "duration": 306,
    "start_time": "2021-06-30T11:59:07.336Z"
   },
   {
    "duration": -79,
    "start_time": "2021-06-30T11:59:07.724Z"
   },
   {
    "duration": -83,
    "start_time": "2021-06-30T11:59:07.729Z"
   },
   {
    "duration": -86,
    "start_time": "2021-06-30T11:59:07.734Z"
   },
   {
    "duration": -90,
    "start_time": "2021-06-30T11:59:07.739Z"
   },
   {
    "duration": -95,
    "start_time": "2021-06-30T11:59:07.745Z"
   },
   {
    "duration": -99,
    "start_time": "2021-06-30T11:59:07.750Z"
   },
   {
    "duration": -101,
    "start_time": "2021-06-30T11:59:07.754Z"
   },
   {
    "duration": 263,
    "start_time": "2021-06-30T12:06:04.003Z"
   },
   {
    "duration": 105,
    "start_time": "2021-06-30T12:06:57.049Z"
   },
   {
    "duration": 90,
    "start_time": "2021-06-30T12:07:10.713Z"
   },
   {
    "duration": 8,
    "start_time": "2021-06-30T12:08:36.915Z"
   },
   {
    "duration": 263,
    "start_time": "2021-06-30T12:08:38.962Z"
   },
   {
    "duration": 23,
    "start_time": "2021-06-30T12:08:39.512Z"
   },
   {
    "duration": 326,
    "start_time": "2021-06-30T17:56:34.356Z"
   },
   {
    "duration": 915,
    "start_time": "2021-06-30T17:56:40.688Z"
   },
   {
    "duration": 12,
    "start_time": "2021-06-30T17:56:44.580Z"
   },
   {
    "duration": 12,
    "start_time": "2021-06-30T17:56:47.342Z"
   },
   {
    "duration": 56,
    "start_time": "2021-06-30T17:56:53.471Z"
   },
   {
    "duration": 15,
    "start_time": "2021-06-30T17:56:56.636Z"
   },
   {
    "duration": 63,
    "start_time": "2021-06-30T17:56:59.726Z"
   },
   {
    "duration": 29,
    "start_time": "2021-06-30T17:57:03.853Z"
   },
   {
    "duration": 33,
    "start_time": "2021-06-30T17:57:07.709Z"
   },
   {
    "duration": 33,
    "start_time": "2021-06-30T17:57:22.110Z"
   },
   {
    "duration": 34,
    "start_time": "2021-06-30T17:57:35.015Z"
   },
   {
    "duration": 12,
    "start_time": "2021-06-30T17:57:40.309Z"
   },
   {
    "duration": 35,
    "start_time": "2021-06-30T17:57:55.119Z"
   },
   {
    "duration": 44,
    "start_time": "2021-06-30T17:58:14.327Z"
   },
   {
    "duration": 32,
    "start_time": "2021-06-30T17:58:40.697Z"
   },
   {
    "duration": 28,
    "start_time": "2021-06-30T17:58:47.168Z"
   },
   {
    "duration": 311,
    "start_time": "2021-06-30T18:02:25.339Z"
   },
   {
    "duration": 57,
    "start_time": "2021-06-30T18:02:36.932Z"
   },
   {
    "duration": 480,
    "start_time": "2021-06-30T18:06:34.450Z"
   },
   {
    "duration": 987,
    "start_time": "2021-06-30T18:07:55.713Z"
   },
   {
    "duration": 13,
    "start_time": "2021-06-30T18:08:00.184Z"
   },
   {
    "duration": 11,
    "start_time": "2021-06-30T18:08:02.759Z"
   },
   {
    "duration": 46,
    "start_time": "2021-06-30T18:08:04.704Z"
   },
   {
    "duration": 14,
    "start_time": "2021-06-30T18:08:06.735Z"
   },
   {
    "duration": 57,
    "start_time": "2021-06-30T18:08:13.663Z"
   },
   {
    "duration": 28,
    "start_time": "2021-06-30T18:08:17.336Z"
   },
   {
    "duration": 36,
    "start_time": "2021-06-30T18:08:21.113Z"
   },
   {
    "duration": 36,
    "start_time": "2021-06-30T18:08:24.383Z"
   },
   {
    "duration": 14,
    "start_time": "2021-06-30T18:08:27.504Z"
   },
   {
    "duration": 37,
    "start_time": "2021-06-30T18:08:30.447Z"
   },
   {
    "duration": 44,
    "start_time": "2021-06-30T18:08:33.944Z"
   },
   {
    "duration": 34,
    "start_time": "2021-06-30T18:08:36.297Z"
   },
   {
    "duration": 4366,
    "start_time": "2021-06-30T18:08:42.096Z"
   },
   {
    "duration": 329,
    "start_time": "2021-06-30T18:09:00.818Z"
   },
   {
    "duration": 259,
    "start_time": "2021-06-30T18:10:24.306Z"
   },
   {
    "duration": 246,
    "start_time": "2021-06-30T18:10:32.730Z"
   },
   {
    "duration": 289,
    "start_time": "2021-06-30T18:10:34.523Z"
   },
   {
    "duration": 238,
    "start_time": "2021-06-30T18:10:50.435Z"
   },
   {
    "duration": 186,
    "start_time": "2021-06-30T18:10:55.400Z"
   },
   {
    "duration": 10,
    "start_time": "2021-06-30T18:10:55.589Z"
   },
   {
    "duration": 18,
    "start_time": "2021-06-30T18:10:55.602Z"
   },
   {
    "duration": 63,
    "start_time": "2021-06-30T18:10:55.623Z"
   },
   {
    "duration": 13,
    "start_time": "2021-06-30T18:10:55.689Z"
   },
   {
    "duration": 78,
    "start_time": "2021-06-30T18:10:55.704Z"
   },
   {
    "duration": 27,
    "start_time": "2021-06-30T18:10:55.784Z"
   },
   {
    "duration": 58,
    "start_time": "2021-06-30T18:10:55.815Z"
   },
   {
    "duration": 35,
    "start_time": "2021-06-30T18:10:55.876Z"
   },
   {
    "duration": 12,
    "start_time": "2021-06-30T18:10:55.914Z"
   },
   {
    "duration": 34,
    "start_time": "2021-06-30T18:10:55.955Z"
   },
   {
    "duration": 67,
    "start_time": "2021-06-30T18:10:55.992Z"
   },
   {
    "duration": 32,
    "start_time": "2021-06-30T18:10:56.061Z"
   },
   {
    "duration": 28,
    "start_time": "2021-06-30T18:10:56.095Z"
   },
   {
    "duration": 265,
    "start_time": "2021-06-30T18:10:56.155Z"
   },
   {
    "duration": -113,
    "start_time": "2021-06-30T18:10:56.537Z"
   },
   {
    "duration": -118,
    "start_time": "2021-06-30T18:10:56.543Z"
   },
   {
    "duration": -119,
    "start_time": "2021-06-30T18:10:56.546Z"
   },
   {
    "duration": -123,
    "start_time": "2021-06-30T18:10:56.552Z"
   },
   {
    "duration": -124,
    "start_time": "2021-06-30T18:10:56.555Z"
   },
   {
    "duration": -126,
    "start_time": "2021-06-30T18:10:56.558Z"
   },
   {
    "duration": -127,
    "start_time": "2021-06-30T18:10:56.561Z"
   },
   {
    "duration": -129,
    "start_time": "2021-06-30T18:10:56.564Z"
   },
   {
    "duration": -130,
    "start_time": "2021-06-30T18:10:56.567Z"
   },
   {
    "duration": -132,
    "start_time": "2021-06-30T18:10:56.570Z"
   },
   {
    "duration": -132,
    "start_time": "2021-06-30T18:10:56.572Z"
   },
   {
    "duration": -133,
    "start_time": "2021-06-30T18:10:56.575Z"
   },
   {
    "duration": -135,
    "start_time": "2021-06-30T18:10:56.578Z"
   },
   {
    "duration": -136,
    "start_time": "2021-06-30T18:10:56.581Z"
   },
   {
    "duration": -136,
    "start_time": "2021-06-30T18:10:56.583Z"
   },
   {
    "duration": 258,
    "start_time": "2021-06-30T18:11:12.226Z"
   },
   {
    "duration": 50,
    "start_time": "2021-06-30T18:11:18.507Z"
   },
   {
    "duration": 44,
    "start_time": "2021-06-30T18:11:22.138Z"
   },
   {
    "duration": 13,
    "start_time": "2021-06-30T18:11:24.218Z"
   },
   {
    "duration": 4549,
    "start_time": "2021-06-30T18:11:26.883Z"
   },
   {
    "duration": 19,
    "start_time": "2021-06-30T18:11:31.435Z"
   },
   {
    "duration": 5,
    "start_time": "2021-06-30T18:11:34.499Z"
   },
   {
    "duration": 251,
    "start_time": "2021-06-30T18:11:38.562Z"
   },
   {
    "duration": 258,
    "start_time": "2021-06-30T18:11:47.922Z"
   },
   {
    "duration": 271,
    "start_time": "2021-06-30T18:12:49.587Z"
   },
   {
    "duration": 253,
    "start_time": "2021-06-30T18:17:27.008Z"
   },
   {
    "duration": 277,
    "start_time": "2021-06-30T18:24:48.763Z"
   },
   {
    "duration": 277,
    "start_time": "2021-06-30T18:25:55.762Z"
   },
   {
    "duration": 264,
    "start_time": "2021-06-30T18:26:04.137Z"
   },
   {
    "duration": 280,
    "start_time": "2021-06-30T18:26:17.617Z"
   },
   {
    "duration": 252,
    "start_time": "2021-06-30T18:29:05.316Z"
   },
   {
    "duration": 12,
    "start_time": "2021-06-30T18:29:14.173Z"
   },
   {
    "duration": 272,
    "start_time": "2021-06-30T18:29:29.380Z"
   },
   {
    "duration": 5,
    "start_time": "2021-06-30T18:29:32.884Z"
   },
   {
    "duration": 5,
    "start_time": "2021-06-30T18:29:34.876Z"
   },
   {
    "duration": 12,
    "start_time": "2021-06-30T18:29:39.203Z"
   },
   {
    "duration": 263,
    "start_time": "2021-06-30T18:29:55.019Z"
   },
   {
    "duration": 270,
    "start_time": "2021-06-30T18:30:05.867Z"
   },
   {
    "duration": 287,
    "start_time": "2021-06-30T18:32:24.063Z"
   },
   {
    "duration": 241,
    "start_time": "2021-06-30T18:32:33.069Z"
   },
   {
    "duration": 267,
    "start_time": "2021-06-30T18:33:49.248Z"
   },
   {
    "duration": 288,
    "start_time": "2021-06-30T18:34:02.655Z"
   },
   {
    "duration": 85,
    "start_time": "2021-06-30T18:35:03.903Z"
   },
   {
    "duration": 89,
    "start_time": "2021-06-30T18:35:10.367Z"
   },
   {
    "duration": 9,
    "start_time": "2021-06-30T18:37:12.563Z"
   },
   {
    "duration": 20,
    "start_time": "2021-06-30T18:39:04.557Z"
   },
   {
    "duration": 266,
    "start_time": "2021-06-30T18:41:04.751Z"
   },
   {
    "duration": 436,
    "start_time": "2021-06-30T18:41:43.351Z"
   },
   {
    "duration": 273,
    "start_time": "2021-06-30T18:51:37.315Z"
   },
   {
    "duration": 10,
    "start_time": "2021-06-30T18:51:46.675Z"
   },
   {
    "duration": 8,
    "start_time": "2021-06-30T18:52:19.819Z"
   },
   {
    "duration": 8,
    "start_time": "2021-06-30T18:52:50.339Z"
   },
   {
    "duration": 7658,
    "start_time": "2021-06-30T18:52:53.480Z"
   },
   {
    "duration": -340,
    "start_time": "2021-06-30T18:53:01.482Z"
   },
   {
    "duration": 20,
    "start_time": "2021-06-30T18:53:07.458Z"
   },
   {
    "duration": 7428,
    "start_time": "2021-06-30T18:53:17.418Z"
   },
   {
    "duration": 1534,
    "start_time": "2021-06-30T18:53:31.491Z"
   },
   {
    "duration": 1533,
    "start_time": "2021-06-30T18:53:37.595Z"
   },
   {
    "duration": 7,
    "start_time": "2021-06-30T18:53:52.604Z"
   },
   {
    "duration": 2381,
    "start_time": "2021-06-30T18:53:55.481Z"
   },
   {
    "duration": 1268,
    "start_time": "2021-06-30T19:03:28.665Z"
   },
   {
    "duration": 6353,
    "start_time": "2021-06-30T19:04:01.457Z"
   },
   {
    "duration": 3,
    "start_time": "2021-06-30T19:05:23.811Z"
   },
   {
    "duration": 4,
    "start_time": "2021-06-30T19:05:34.169Z"
   },
   {
    "duration": 3710,
    "start_time": "2021-06-30T19:05:55.121Z"
   },
   {
    "duration": 4003,
    "start_time": "2021-06-30T19:06:36.858Z"
   },
   {
    "duration": 3600,
    "start_time": "2021-06-30T19:06:46.619Z"
   },
   {
    "duration": 421,
    "start_time": "2021-07-01T11:22:04.122Z"
   },
   {
    "duration": 326,
    "start_time": "2021-07-01T11:23:16.287Z"
   },
   {
    "duration": 2338,
    "start_time": "2021-07-01T11:23:32.302Z"
   },
   {
    "duration": 23,
    "start_time": "2021-07-01T11:23:34.644Z"
   },
   {
    "duration": 31,
    "start_time": "2021-07-01T11:23:34.671Z"
   },
   {
    "duration": 60,
    "start_time": "2021-07-01T11:23:34.705Z"
   },
   {
    "duration": 14,
    "start_time": "2021-07-01T11:23:34.767Z"
   },
   {
    "duration": 82,
    "start_time": "2021-07-01T11:23:34.783Z"
   },
   {
    "duration": 27,
    "start_time": "2021-07-01T11:23:34.867Z"
   },
   {
    "duration": 33,
    "start_time": "2021-07-01T11:23:34.897Z"
   },
   {
    "duration": 33,
    "start_time": "2021-07-01T11:23:34.962Z"
   },
   {
    "duration": 11,
    "start_time": "2021-07-01T11:23:34.998Z"
   },
   {
    "duration": 64,
    "start_time": "2021-07-01T11:23:35.011Z"
   },
   {
    "duration": 44,
    "start_time": "2021-07-01T11:23:35.077Z"
   },
   {
    "duration": 56,
    "start_time": "2021-07-01T11:23:35.123Z"
   },
   {
    "duration": 28,
    "start_time": "2021-07-01T11:23:35.181Z"
   },
   {
    "duration": 77,
    "start_time": "2021-07-01T11:23:35.211Z"
   },
   {
    "duration": 47,
    "start_time": "2021-07-01T11:23:35.290Z"
   },
   {
    "duration": 32,
    "start_time": "2021-07-01T11:23:35.339Z"
   },
   {
    "duration": 4852,
    "start_time": "2021-07-01T11:23:35.373Z"
   },
   {
    "duration": 5,
    "start_time": "2021-07-01T11:23:40.227Z"
   },
   {
    "duration": 27,
    "start_time": "2021-07-01T11:23:40.235Z"
   },
   {
    "duration": 9704,
    "start_time": "2021-07-01T11:23:40.265Z"
   },
   {
    "duration": -86,
    "start_time": "2021-07-01T11:23:50.058Z"
   },
   {
    "duration": -98,
    "start_time": "2021-07-01T11:23:50.071Z"
   },
   {
    "duration": -100,
    "start_time": "2021-07-01T11:23:50.075Z"
   },
   {
    "duration": -101,
    "start_time": "2021-07-01T11:23:50.077Z"
   },
   {
    "duration": -102,
    "start_time": "2021-07-01T11:23:50.080Z"
   },
   {
    "duration": -104,
    "start_time": "2021-07-01T11:23:50.083Z"
   },
   {
    "duration": -106,
    "start_time": "2021-07-01T11:23:50.087Z"
   },
   {
    "duration": -84,
    "start_time": "2021-07-01T11:24:05.304Z"
   },
   {
    "duration": 371,
    "start_time": "2021-07-01T11:26:44.595Z"
   },
   {
    "duration": 20,
    "start_time": "2021-07-01T11:28:19.749Z"
   },
   {
    "duration": 397,
    "start_time": "2021-07-01T11:34:13.357Z"
   },
   {
    "duration": 7,
    "start_time": "2021-07-01T11:34:38.042Z"
   },
   {
    "duration": 8,
    "start_time": "2021-07-01T11:34:52.043Z"
   },
   {
    "duration": 7,
    "start_time": "2021-07-01T11:35:15.698Z"
   },
   {
    "duration": 8,
    "start_time": "2021-07-01T11:36:03.341Z"
   },
   {
    "duration": 342,
    "start_time": "2021-07-01T11:37:34.838Z"
   },
   {
    "duration": 12,
    "start_time": "2021-07-01T11:37:46.333Z"
   },
   {
    "duration": 13,
    "start_time": "2021-07-01T11:37:54.829Z"
   },
   {
    "duration": 10,
    "start_time": "2021-07-01T11:38:14.168Z"
   },
   {
    "duration": 12,
    "start_time": "2021-07-01T11:38:18.405Z"
   },
   {
    "duration": 9,
    "start_time": "2021-07-01T11:38:21.383Z"
   },
   {
    "duration": 6,
    "start_time": "2021-07-01T11:45:10.218Z"
   },
   {
    "duration": 22,
    "start_time": "2021-07-01T11:57:18.591Z"
   },
   {
    "duration": 384,
    "start_time": "2021-07-01T12:00:23.866Z"
   },
   {
    "duration": 315,
    "start_time": "2021-07-01T12:00:48.593Z"
   },
   {
    "duration": 24,
    "start_time": "2021-07-01T12:00:57.747Z"
   },
   {
    "duration": 558,
    "start_time": "2021-07-01T12:04:44.852Z"
   },
   {
    "duration": 39,
    "start_time": "2021-07-01T12:05:07.502Z"
   },
   {
    "duration": 36,
    "start_time": "2021-07-01T12:05:46.436Z"
   },
   {
    "duration": 339,
    "start_time": "2021-07-01T12:13:34.158Z"
   },
   {
    "duration": 385,
    "start_time": "2021-07-01T12:13:53.431Z"
   },
   {
    "duration": 5,
    "start_time": "2021-07-01T12:16:02.505Z"
   },
   {
    "duration": 582,
    "start_time": "2021-07-01T12:16:24.290Z"
   },
   {
    "duration": 342,
    "start_time": "2021-07-01T12:17:01.576Z"
   },
   {
    "duration": 390,
    "start_time": "2021-07-01T12:17:09.641Z"
   },
   {
    "duration": 340,
    "start_time": "2021-07-01T12:17:38.289Z"
   },
   {
    "duration": 391,
    "start_time": "2021-07-01T12:19:22.007Z"
   },
   {
    "duration": 56,
    "start_time": "2021-07-01T12:19:34.396Z"
   },
   {
    "duration": 394,
    "start_time": "2021-07-01T12:32:31.081Z"
   },
   {
    "duration": 31,
    "start_time": "2021-07-01T12:33:01.176Z"
   },
   {
    "duration": 1722,
    "start_time": "2021-07-02T06:43:58.097Z"
   },
   {
    "duration": 11,
    "start_time": "2021-07-02T06:43:59.822Z"
   },
   {
    "duration": 11,
    "start_time": "2021-07-02T06:43:59.836Z"
   },
   {
    "duration": 84,
    "start_time": "2021-07-02T06:43:59.849Z"
   },
   {
    "duration": 13,
    "start_time": "2021-07-02T06:43:59.935Z"
   },
   {
    "duration": 78,
    "start_time": "2021-07-02T06:43:59.951Z"
   },
   {
    "duration": 28,
    "start_time": "2021-07-02T06:44:00.031Z"
   },
   {
    "duration": 49,
    "start_time": "2021-07-02T06:44:00.062Z"
   },
   {
    "duration": 36,
    "start_time": "2021-07-02T06:44:00.114Z"
   },
   {
    "duration": 40,
    "start_time": "2021-07-02T06:44:00.153Z"
   },
   {
    "duration": 38,
    "start_time": "2021-07-02T06:44:00.195Z"
   },
   {
    "duration": 70,
    "start_time": "2021-07-02T06:44:00.236Z"
   },
   {
    "duration": 33,
    "start_time": "2021-07-02T06:44:00.308Z"
   },
   {
    "duration": 56,
    "start_time": "2021-07-02T06:44:00.343Z"
   },
   {
    "duration": 48,
    "start_time": "2021-07-02T06:44:00.402Z"
   },
   {
    "duration": 62,
    "start_time": "2021-07-02T06:44:00.453Z"
   },
   {
    "duration": 14,
    "start_time": "2021-07-02T06:44:00.517Z"
   },
   {
    "duration": 4370,
    "start_time": "2021-07-02T06:44:00.534Z"
   },
   {
    "duration": 7,
    "start_time": "2021-07-02T06:44:04.907Z"
   },
   {
    "duration": 6,
    "start_time": "2021-07-02T06:44:04.917Z"
   },
   {
    "duration": 59,
    "start_time": "2021-07-02T06:44:04.926Z"
   },
   {
    "duration": 26,
    "start_time": "2021-07-02T06:44:04.988Z"
   },
   {
    "duration": 22,
    "start_time": "2021-07-02T06:44:05.020Z"
   },
   {
    "duration": 73,
    "start_time": "2021-07-02T06:44:05.044Z"
   },
   {
    "duration": 30,
    "start_time": "2021-07-02T06:44:05.120Z"
   },
   {
    "duration": 10,
    "start_time": "2021-07-02T09:56:20.104Z"
   },
   {
    "duration": 10,
    "start_time": "2021-07-02T09:58:12.927Z"
   },
   {
    "duration": 14,
    "start_time": "2021-07-02T10:20:54.386Z"
   },
   {
    "duration": 10,
    "start_time": "2021-07-02T10:20:59.504Z"
   },
   {
    "duration": 7,
    "start_time": "2021-07-02T10:24:38.756Z"
   },
   {
    "duration": 354,
    "start_time": "2021-07-02T11:43:28.982Z"
   },
   {
    "duration": 1742,
    "start_time": "2021-07-02T11:43:44.862Z"
   },
   {
    "duration": 11,
    "start_time": "2021-07-02T11:43:46.606Z"
   },
   {
    "duration": 13,
    "start_time": "2021-07-02T11:43:46.623Z"
   },
   {
    "duration": 11,
    "start_time": "2021-07-02T11:43:46.640Z"
   },
   {
    "duration": 94,
    "start_time": "2021-07-02T11:43:46.655Z"
   },
   {
    "duration": 16,
    "start_time": "2021-07-02T11:43:46.751Z"
   },
   {
    "duration": 88,
    "start_time": "2021-07-02T11:43:46.770Z"
   },
   {
    "duration": 28,
    "start_time": "2021-07-02T11:43:46.863Z"
   },
   {
    "duration": 65,
    "start_time": "2021-07-02T11:43:46.895Z"
   },
   {
    "duration": 36,
    "start_time": "2021-07-02T11:43:46.963Z"
   },
   {
    "duration": 32,
    "start_time": "2021-07-02T11:43:47.001Z"
   },
   {
    "duration": 34,
    "start_time": "2021-07-02T11:43:47.036Z"
   },
   {
    "duration": 78,
    "start_time": "2021-07-02T11:43:47.074Z"
   },
   {
    "duration": 32,
    "start_time": "2021-07-02T11:43:47.155Z"
   },
   {
    "duration": 59,
    "start_time": "2021-07-02T11:43:47.190Z"
   },
   {
    "duration": 72,
    "start_time": "2021-07-02T11:43:47.252Z"
   },
   {
    "duration": 46,
    "start_time": "2021-07-02T11:43:47.326Z"
   },
   {
    "duration": 15,
    "start_time": "2021-07-02T11:43:47.374Z"
   },
   {
    "duration": 4479,
    "start_time": "2021-07-02T11:43:47.391Z"
   },
   {
    "duration": 5,
    "start_time": "2021-07-02T11:43:51.872Z"
   },
   {
    "duration": 10,
    "start_time": "2021-07-02T11:43:51.879Z"
   },
   {
    "duration": 43,
    "start_time": "2021-07-02T11:43:51.891Z"
   },
   {
    "duration": 21,
    "start_time": "2021-07-02T11:43:51.938Z"
   },
   {
    "duration": 23,
    "start_time": "2021-07-02T11:43:51.961Z"
   },
   {
    "duration": 68,
    "start_time": "2021-07-02T11:43:51.986Z"
   },
   {
    "duration": 28,
    "start_time": "2021-07-02T11:43:52.057Z"
   },
   {
    "duration": 43,
    "start_time": "2021-07-02T11:44:30.386Z"
   },
   {
    "duration": 37,
    "start_time": "2021-07-02T11:44:53.433Z"
   },
   {
    "duration": 139,
    "start_time": "2021-07-02T11:46:08.193Z"
   },
   {
    "duration": 101,
    "start_time": "2021-07-02T11:46:24.993Z"
   },
   {
    "duration": 468,
    "start_time": "2021-07-02T11:46:35.809Z"
   },
   {
    "duration": 169,
    "start_time": "2021-07-02T11:46:58.497Z"
   },
   {
    "duration": 280,
    "start_time": "2021-07-02T12:07:08.696Z"
   },
   {
    "duration": 19,
    "start_time": "2021-07-02T12:07:24.939Z"
   },
   {
    "duration": 352,
    "start_time": "2021-07-02T12:07:54.253Z"
   },
   {
    "duration": 275,
    "start_time": "2021-07-02T12:08:18.518Z"
   },
   {
    "duration": 200,
    "start_time": "2021-07-02T12:08:22.047Z"
   },
   {
    "duration": 12,
    "start_time": "2021-07-02T12:08:22.250Z"
   },
   {
    "duration": 22,
    "start_time": "2021-07-02T12:08:22.266Z"
   },
   {
    "duration": 33,
    "start_time": "2021-07-02T12:08:22.291Z"
   },
   {
    "duration": 52,
    "start_time": "2021-07-02T12:08:22.327Z"
   },
   {
    "duration": 43,
    "start_time": "2021-07-02T12:08:22.382Z"
   },
   {
    "duration": 59,
    "start_time": "2021-07-02T12:08:22.428Z"
   },
   {
    "duration": 50,
    "start_time": "2021-07-02T12:08:22.493Z"
   },
   {
    "duration": 33,
    "start_time": "2021-07-02T12:08:22.546Z"
   },
   {
    "duration": 63,
    "start_time": "2021-07-02T12:08:22.582Z"
   },
   {
    "duration": 15,
    "start_time": "2021-07-02T12:08:22.648Z"
   },
   {
    "duration": 67,
    "start_time": "2021-07-02T12:08:22.666Z"
   },
   {
    "duration": 47,
    "start_time": "2021-07-02T12:08:22.737Z"
   },
   {
    "duration": 64,
    "start_time": "2021-07-02T12:08:22.787Z"
   },
   {
    "duration": 30,
    "start_time": "2021-07-02T12:08:22.854Z"
   },
   {
    "duration": 76,
    "start_time": "2021-07-02T12:08:22.886Z"
   },
   {
    "duration": 63,
    "start_time": "2021-07-02T12:08:22.965Z"
   },
   {
    "duration": 18,
    "start_time": "2021-07-02T12:08:23.030Z"
   },
   {
    "duration": 4315,
    "start_time": "2021-07-02T12:08:23.051Z"
   },
   {
    "duration": 6,
    "start_time": "2021-07-02T12:08:27.368Z"
   },
   {
    "duration": 26,
    "start_time": "2021-07-02T12:08:27.376Z"
   },
   {
    "duration": 47,
    "start_time": "2021-07-02T12:08:27.405Z"
   },
   {
    "duration": 26,
    "start_time": "2021-07-02T12:08:27.456Z"
   },
   {
    "duration": 25,
    "start_time": "2021-07-02T12:08:27.484Z"
   },
   {
    "duration": 52,
    "start_time": "2021-07-02T12:08:27.512Z"
   },
   {
    "duration": 29,
    "start_time": "2021-07-02T12:08:27.566Z"
   },
   {
    "duration": 292,
    "start_time": "2021-07-02T12:10:31.302Z"
   },
   {
    "duration": 5,
    "start_time": "2021-07-02T12:10:39.352Z"
   },
   {
    "duration": 257,
    "start_time": "2021-07-02T12:10:43.255Z"
   },
   {
    "duration": 16,
    "start_time": "2021-07-02T12:10:43.514Z"
   },
   {
    "duration": 12,
    "start_time": "2021-07-02T12:10:43.532Z"
   },
   {
    "duration": 13,
    "start_time": "2021-07-02T12:10:43.547Z"
   },
   {
    "duration": 86,
    "start_time": "2021-07-02T12:10:43.562Z"
   },
   {
    "duration": 16,
    "start_time": "2021-07-02T12:10:43.651Z"
   },
   {
    "duration": 83,
    "start_time": "2021-07-02T12:10:43.670Z"
   },
   {
    "duration": 27,
    "start_time": "2021-07-02T12:10:43.757Z"
   },
   {
    "duration": 56,
    "start_time": "2021-07-02T12:10:43.787Z"
   },
   {
    "duration": 33,
    "start_time": "2021-07-02T12:10:43.845Z"
   },
   {
    "duration": 11,
    "start_time": "2021-07-02T12:10:43.880Z"
   },
   {
    "duration": 62,
    "start_time": "2021-07-02T12:10:43.893Z"
   },
   {
    "duration": 43,
    "start_time": "2021-07-02T12:10:43.957Z"
   },
   {
    "duration": 41,
    "start_time": "2021-07-02T12:10:44.025Z"
   },
   {
    "duration": 27,
    "start_time": "2021-07-02T12:10:44.069Z"
   },
   {
    "duration": 71,
    "start_time": "2021-07-02T12:10:44.099Z"
   },
   {
    "duration": 59,
    "start_time": "2021-07-02T12:10:44.172Z"
   },
   {
    "duration": 19,
    "start_time": "2021-07-02T12:10:44.233Z"
   },
   {
    "duration": 4520,
    "start_time": "2021-07-02T12:10:44.254Z"
   },
   {
    "duration": 6,
    "start_time": "2021-07-02T12:10:48.776Z"
   },
   {
    "duration": 310,
    "start_time": "2021-07-02T12:10:48.785Z"
   },
   {
    "duration": -183,
    "start_time": "2021-07-02T12:10:49.282Z"
   },
   {
    "duration": -201,
    "start_time": "2021-07-02T12:10:49.302Z"
   },
   {
    "duration": -224,
    "start_time": "2021-07-02T12:10:49.327Z"
   },
   {
    "duration": -228,
    "start_time": "2021-07-02T12:10:49.333Z"
   },
   {
    "duration": -234,
    "start_time": "2021-07-02T12:10:49.341Z"
   },
   {
    "duration": 279,
    "start_time": "2021-07-02T12:11:06.149Z"
   },
   {
    "duration": 165,
    "start_time": "2021-07-02T12:11:10.096Z"
   },
   {
    "duration": 14,
    "start_time": "2021-07-02T12:11:10.265Z"
   },
   {
    "duration": 11,
    "start_time": "2021-07-02T12:11:10.283Z"
   },
   {
    "duration": 35,
    "start_time": "2021-07-02T12:11:10.296Z"
   },
   {
    "duration": 50,
    "start_time": "2021-07-02T12:11:10.334Z"
   },
   {
    "duration": 43,
    "start_time": "2021-07-02T12:11:10.386Z"
   },
   {
    "duration": 56,
    "start_time": "2021-07-02T12:11:10.432Z"
   },
   {
    "duration": 49,
    "start_time": "2021-07-02T12:11:10.491Z"
   },
   {
    "duration": 35,
    "start_time": "2021-07-02T12:11:10.543Z"
   },
   {
    "duration": 58,
    "start_time": "2021-07-02T12:11:10.580Z"
   },
   {
    "duration": 12,
    "start_time": "2021-07-02T12:11:10.641Z"
   },
   {
    "duration": 42,
    "start_time": "2021-07-02T12:11:10.656Z"
   },
   {
    "duration": 66,
    "start_time": "2021-07-02T12:11:10.701Z"
   },
   {
    "duration": 61,
    "start_time": "2021-07-02T12:11:10.769Z"
   },
   {
    "duration": 29,
    "start_time": "2021-07-02T12:11:10.832Z"
   },
   {
    "duration": 78,
    "start_time": "2021-07-02T12:11:10.863Z"
   },
   {
    "duration": 46,
    "start_time": "2021-07-02T12:11:10.943Z"
   },
   {
    "duration": 34,
    "start_time": "2021-07-02T12:11:10.991Z"
   },
   {
    "duration": 4469,
    "start_time": "2021-07-02T12:11:11.028Z"
   },
   {
    "duration": 7,
    "start_time": "2021-07-02T12:11:15.500Z"
   },
   {
    "duration": 13,
    "start_time": "2021-07-02T12:11:15.525Z"
   },
   {
    "duration": 33,
    "start_time": "2021-07-02T12:11:15.541Z"
   },
   {
    "duration": 22,
    "start_time": "2021-07-02T12:11:15.581Z"
   },
   {
    "duration": 39,
    "start_time": "2021-07-02T12:11:15.606Z"
   },
   {
    "duration": 39,
    "start_time": "2021-07-02T12:11:15.648Z"
   },
   {
    "duration": 57,
    "start_time": "2021-07-02T12:11:15.690Z"
   },
   {
    "duration": 297,
    "start_time": "2021-07-02T12:15:07.807Z"
   },
   {
    "duration": 234,
    "start_time": "2021-07-02T12:15:11.476Z"
   },
   {
    "duration": 11,
    "start_time": "2021-07-02T12:15:11.713Z"
   },
   {
    "duration": 22,
    "start_time": "2021-07-02T12:15:11.726Z"
   },
   {
    "duration": 17,
    "start_time": "2021-07-02T12:15:11.751Z"
   },
   {
    "duration": 58,
    "start_time": "2021-07-02T12:15:11.770Z"
   },
   {
    "duration": 15,
    "start_time": "2021-07-02T12:15:11.830Z"
   },
   {
    "duration": 82,
    "start_time": "2021-07-02T12:15:11.847Z"
   },
   {
    "duration": 29,
    "start_time": "2021-07-02T12:15:11.932Z"
   },
   {
    "duration": 64,
    "start_time": "2021-07-02T12:15:11.964Z"
   },
   {
    "duration": 36,
    "start_time": "2021-07-02T12:15:12.031Z"
   },
   {
    "duration": 13,
    "start_time": "2021-07-02T12:15:12.070Z"
   },
   {
    "duration": 71,
    "start_time": "2021-07-02T12:15:12.086Z"
   },
   {
    "duration": 65,
    "start_time": "2021-07-02T12:15:12.160Z"
   },
   {
    "duration": 31,
    "start_time": "2021-07-02T12:15:12.228Z"
   },
   {
    "duration": 34,
    "start_time": "2021-07-02T12:15:12.261Z"
   },
   {
    "duration": 76,
    "start_time": "2021-07-02T12:15:12.297Z"
   },
   {
    "duration": 74,
    "start_time": "2021-07-02T12:15:12.376Z"
   },
   {
    "duration": 28,
    "start_time": "2021-07-02T12:15:12.453Z"
   },
   {
    "duration": 4387,
    "start_time": "2021-07-02T12:15:12.484Z"
   },
   {
    "duration": 7,
    "start_time": "2021-07-02T12:15:16.874Z"
   },
   {
    "duration": 13,
    "start_time": "2021-07-02T12:15:16.884Z"
   },
   {
    "duration": 47,
    "start_time": "2021-07-02T12:15:16.900Z"
   },
   {
    "duration": 22,
    "start_time": "2021-07-02T12:15:16.951Z"
   },
   {
    "duration": 53,
    "start_time": "2021-07-02T12:15:16.975Z"
   },
   {
    "duration": 41,
    "start_time": "2021-07-02T12:15:17.030Z"
   },
   {
    "duration": 52,
    "start_time": "2021-07-02T12:15:17.074Z"
   },
   {
    "duration": 99,
    "start_time": "2021-07-02T14:30:29.780Z"
   },
   {
    "duration": 96,
    "start_time": "2021-07-02T14:30:45.473Z"
   },
   {
    "duration": 10,
    "start_time": "2021-07-02T14:31:11.600Z"
   },
   {
    "duration": 94,
    "start_time": "2021-07-02T14:31:24.369Z"
   },
   {
    "duration": 92,
    "start_time": "2021-07-02T14:32:09.778Z"
   },
   {
    "duration": 257,
    "start_time": "2021-07-02T14:32:16.187Z"
   },
   {
    "duration": 11,
    "start_time": "2021-07-02T14:32:16.446Z"
   },
   {
    "duration": 20,
    "start_time": "2021-07-02T14:32:16.460Z"
   },
   {
    "duration": 97,
    "start_time": "2021-07-02T14:32:16.483Z"
   },
   {
    "duration": -76,
    "start_time": "2021-07-02T14:32:16.659Z"
   },
   {
    "duration": -83,
    "start_time": "2021-07-02T14:32:16.667Z"
   },
   {
    "duration": -85,
    "start_time": "2021-07-02T14:32:16.670Z"
   },
   {
    "duration": -87,
    "start_time": "2021-07-02T14:32:16.673Z"
   },
   {
    "duration": -119,
    "start_time": "2021-07-02T14:32:16.707Z"
   },
   {
    "duration": -134,
    "start_time": "2021-07-02T14:32:16.723Z"
   },
   {
    "duration": -136,
    "start_time": "2021-07-02T14:32:16.726Z"
   },
   {
    "duration": -139,
    "start_time": "2021-07-02T14:32:16.730Z"
   },
   {
    "duration": -145,
    "start_time": "2021-07-02T14:32:16.738Z"
   },
   {
    "duration": -160,
    "start_time": "2021-07-02T14:32:16.754Z"
   },
   {
    "duration": -161,
    "start_time": "2021-07-02T14:32:16.757Z"
   },
   {
    "duration": -163,
    "start_time": "2021-07-02T14:32:16.760Z"
   },
   {
    "duration": -165,
    "start_time": "2021-07-02T14:32:16.764Z"
   },
   {
    "duration": -168,
    "start_time": "2021-07-02T14:32:16.768Z"
   },
   {
    "duration": -190,
    "start_time": "2021-07-02T14:32:16.792Z"
   },
   {
    "duration": -210,
    "start_time": "2021-07-02T14:32:16.813Z"
   },
   {
    "duration": -212,
    "start_time": "2021-07-02T14:32:16.816Z"
   },
   {
    "duration": -214,
    "start_time": "2021-07-02T14:32:16.820Z"
   },
   {
    "duration": -216,
    "start_time": "2021-07-02T14:32:16.823Z"
   },
   {
    "duration": -252,
    "start_time": "2021-07-02T14:32:16.860Z"
   },
   {
    "duration": -254,
    "start_time": "2021-07-02T14:32:16.864Z"
   },
   {
    "duration": -256,
    "start_time": "2021-07-02T14:32:16.867Z"
   },
   {
    "duration": 11,
    "start_time": "2021-07-02T14:32:35.379Z"
   },
   {
    "duration": 11,
    "start_time": "2021-07-02T14:33:00.508Z"
   },
   {
    "duration": 79,
    "start_time": "2021-07-02T14:33:35.356Z"
   },
   {
    "duration": 47,
    "start_time": "2021-07-02T14:36:15.742Z"
   },
   {
    "duration": 33,
    "start_time": "2021-07-02T14:36:33.173Z"
   },
   {
    "duration": 18,
    "start_time": "2021-07-02T14:36:56.151Z"
   },
   {
    "duration": 287,
    "start_time": "2021-07-02T14:37:36.248Z"
   },
   {
    "duration": 230,
    "start_time": "2021-07-02T14:37:40.431Z"
   },
   {
    "duration": 10,
    "start_time": "2021-07-02T14:37:40.664Z"
   },
   {
    "duration": 10,
    "start_time": "2021-07-02T14:37:40.678Z"
   },
   {
    "duration": 38,
    "start_time": "2021-07-02T14:37:40.691Z"
   },
   {
    "duration": 92,
    "start_time": "2021-07-02T14:37:40.733Z"
   },
   {
    "duration": 15,
    "start_time": "2021-07-02T14:37:40.828Z"
   },
   {
    "duration": 80,
    "start_time": "2021-07-02T14:37:40.845Z"
   },
   {
    "duration": 28,
    "start_time": "2021-07-02T14:37:40.929Z"
   },
   {
    "duration": 33,
    "start_time": "2021-07-02T14:37:40.959Z"
   },
   {
    "duration": 60,
    "start_time": "2021-07-02T14:37:40.994Z"
   },
   {
    "duration": 12,
    "start_time": "2021-07-02T14:37:41.056Z"
   },
   {
    "duration": 61,
    "start_time": "2021-07-02T14:37:41.071Z"
   },
   {
    "duration": 34,
    "start_time": "2021-07-02T14:37:41.134Z"
   },
   {
    "duration": 56,
    "start_time": "2021-07-02T14:37:41.170Z"
   },
   {
    "duration": 27,
    "start_time": "2021-07-02T14:37:41.229Z"
   },
   {
    "duration": 76,
    "start_time": "2021-07-02T14:37:41.258Z"
   },
   {
    "duration": 46,
    "start_time": "2021-07-02T14:37:41.337Z"
   },
   {
    "duration": 39,
    "start_time": "2021-07-02T14:37:41.385Z"
   },
   {
    "duration": 4370,
    "start_time": "2021-07-02T14:37:41.427Z"
   },
   {
    "duration": 5,
    "start_time": "2021-07-02T14:37:45.800Z"
   },
   {
    "duration": 23,
    "start_time": "2021-07-02T14:37:45.807Z"
   },
   {
    "duration": 34,
    "start_time": "2021-07-02T14:37:45.832Z"
   },
   {
    "duration": 18,
    "start_time": "2021-07-02T14:37:45.871Z"
   },
   {
    "duration": 41,
    "start_time": "2021-07-02T14:37:45.892Z"
   },
   {
    "duration": 38,
    "start_time": "2021-07-02T14:37:45.936Z"
   },
   {
    "duration": 53,
    "start_time": "2021-07-02T14:37:45.976Z"
   },
   {
    "duration": 1359,
    "start_time": "2021-07-02T20:30:44.900Z"
   },
   {
    "duration": 10,
    "start_time": "2021-07-02T20:31:22.103Z"
   },
   {
    "duration": 4577,
    "start_time": "2021-07-02T20:39:58.314Z"
   },
   {
    "duration": 188,
    "start_time": "2021-07-02T20:42:46.034Z"
   },
   {
    "duration": 9,
    "start_time": "2021-07-02T20:42:46.224Z"
   },
   {
    "duration": 8,
    "start_time": "2021-07-02T20:42:46.235Z"
   },
   {
    "duration": 10,
    "start_time": "2021-07-02T20:42:46.245Z"
   },
   {
    "duration": 84,
    "start_time": "2021-07-02T20:42:46.256Z"
   },
   {
    "duration": 10,
    "start_time": "2021-07-02T20:42:46.342Z"
   },
   {
    "duration": 59,
    "start_time": "2021-07-02T20:42:46.353Z"
   },
   {
    "duration": 4999,
    "start_time": "2021-07-02T20:42:46.414Z"
   },
   {
    "duration": -33,
    "start_time": "2021-07-02T20:42:51.448Z"
   },
   {
    "duration": -42,
    "start_time": "2021-07-02T20:42:51.458Z"
   },
   {
    "duration": -59,
    "start_time": "2021-07-02T20:42:51.476Z"
   },
   {
    "duration": -77,
    "start_time": "2021-07-02T20:42:51.495Z"
   },
   {
    "duration": -95,
    "start_time": "2021-07-02T20:42:51.514Z"
   },
   {
    "duration": -120,
    "start_time": "2021-07-02T20:42:51.540Z"
   },
   {
    "duration": -142,
    "start_time": "2021-07-02T20:42:51.563Z"
   },
   {
    "duration": -159,
    "start_time": "2021-07-02T20:42:51.581Z"
   },
   {
    "duration": -187,
    "start_time": "2021-07-02T20:42:51.609Z"
   },
   {
    "duration": -206,
    "start_time": "2021-07-02T20:42:51.629Z"
   },
   {
    "duration": -224,
    "start_time": "2021-07-02T20:42:51.648Z"
   },
   {
    "duration": -231,
    "start_time": "2021-07-02T20:42:51.656Z"
   },
   {
    "duration": -236,
    "start_time": "2021-07-02T20:42:51.662Z"
   },
   {
    "duration": -238,
    "start_time": "2021-07-02T20:42:51.665Z"
   },
   {
    "duration": -245,
    "start_time": "2021-07-02T20:42:51.673Z"
   },
   {
    "duration": -248,
    "start_time": "2021-07-02T20:42:51.677Z"
   },
   {
    "duration": -250,
    "start_time": "2021-07-02T20:42:51.680Z"
   },
   {
    "duration": -253,
    "start_time": "2021-07-02T20:42:51.684Z"
   },
   {
    "duration": -256,
    "start_time": "2021-07-02T20:42:51.688Z"
   },
   {
    "duration": 15,
    "start_time": "2021-07-02T20:43:29.620Z"
   },
   {
    "duration": 4243,
    "start_time": "2021-07-02T20:44:44.098Z"
   },
   {
    "duration": 4450,
    "start_time": "2021-07-02T20:46:23.862Z"
   },
   {
    "duration": 14,
    "start_time": "2021-07-02T20:47:31.575Z"
   },
   {
    "duration": 17,
    "start_time": "2021-07-02T20:52:03.448Z"
   },
   {
    "duration": 24,
    "start_time": "2021-07-02T20:53:37.789Z"
   },
   {
    "duration": 20,
    "start_time": "2021-07-02T20:56:28.572Z"
   },
   {
    "duration": 21,
    "start_time": "2021-07-02T20:58:33.943Z"
   },
   {
    "duration": 48,
    "start_time": "2021-07-02T21:00:20.290Z"
   },
   {
    "duration": 36,
    "start_time": "2021-07-02T21:01:20.506Z"
   },
   {
    "duration": 362,
    "start_time": "2021-07-02T21:01:46.509Z"
   },
   {
    "duration": 8,
    "start_time": "2021-07-02T21:01:46.872Z"
   },
   {
    "duration": 10,
    "start_time": "2021-07-02T21:01:46.882Z"
   },
   {
    "duration": 8,
    "start_time": "2021-07-02T21:01:46.894Z"
   },
   {
    "duration": 51,
    "start_time": "2021-07-02T21:01:46.903Z"
   },
   {
    "duration": 30,
    "start_time": "2021-07-02T21:01:46.956Z"
   },
   {
    "duration": 37,
    "start_time": "2021-07-02T21:01:46.988Z"
   },
   {
    "duration": 14,
    "start_time": "2021-07-02T21:01:47.028Z"
   },
   {
    "duration": 43,
    "start_time": "2021-07-02T21:01:47.044Z"
   },
   {
    "duration": 21,
    "start_time": "2021-07-02T21:01:47.089Z"
   },
   {
    "duration": 17,
    "start_time": "2021-07-02T21:01:47.112Z"
   },
   {
    "duration": 20,
    "start_time": "2021-07-02T21:01:47.130Z"
   },
   {
    "duration": 58,
    "start_time": "2021-07-02T21:01:47.152Z"
   },
   {
    "duration": 20,
    "start_time": "2021-07-02T21:01:47.212Z"
   },
   {
    "duration": 8,
    "start_time": "2021-07-02T21:01:47.233Z"
   },
   {
    "duration": 52,
    "start_time": "2021-07-02T21:01:47.243Z"
   },
   {
    "duration": 22,
    "start_time": "2021-07-02T21:01:47.297Z"
   },
   {
    "duration": 18,
    "start_time": "2021-07-02T21:01:47.322Z"
   },
   {
    "duration": 47,
    "start_time": "2021-07-02T21:01:47.342Z"
   },
   {
    "duration": 33,
    "start_time": "2021-07-02T21:01:47.391Z"
   },
   {
    "duration": 30,
    "start_time": "2021-07-02T21:01:47.426Z"
   },
   {
    "duration": 39,
    "start_time": "2021-07-02T21:01:47.458Z"
   },
   {
    "duration": 3429,
    "start_time": "2021-07-02T21:01:47.501Z"
   },
   {
    "duration": 4,
    "start_time": "2021-07-02T21:01:50.932Z"
   },
   {
    "duration": 6,
    "start_time": "2021-07-02T21:01:50.937Z"
   },
   {
    "duration": 20,
    "start_time": "2021-07-02T21:01:50.944Z"
   },
   {
    "duration": 29,
    "start_time": "2021-07-02T21:01:50.966Z"
   },
   {
    "duration": 15,
    "start_time": "2021-07-02T21:01:50.996Z"
   },
   {
    "duration": 29,
    "start_time": "2021-07-02T21:01:51.012Z"
   },
   {
    "duration": 47,
    "start_time": "2021-07-02T21:01:51.043Z"
   },
   {
    "duration": 13,
    "start_time": "2021-07-02T21:02:45.492Z"
   },
   {
    "duration": 14,
    "start_time": "2021-07-02T21:03:44.981Z"
   },
   {
    "duration": 239,
    "start_time": "2021-07-02T21:07:46.409Z"
   },
   {
    "duration": 202,
    "start_time": "2021-07-02T21:08:11.922Z"
   },
   {
    "duration": 10,
    "start_time": "2021-07-02T21:08:12.125Z"
   },
   {
    "duration": 7,
    "start_time": "2021-07-02T21:08:12.137Z"
   },
   {
    "duration": 8,
    "start_time": "2021-07-02T21:08:12.146Z"
   },
   {
    "duration": 74,
    "start_time": "2021-07-02T21:08:12.155Z"
   },
   {
    "duration": 9,
    "start_time": "2021-07-02T21:08:12.231Z"
   },
   {
    "duration": 55,
    "start_time": "2021-07-02T21:08:12.241Z"
   },
   {
    "duration": 14,
    "start_time": "2021-07-02T21:08:12.299Z"
   },
   {
    "duration": 11,
    "start_time": "2021-07-02T21:08:12.315Z"
   },
   {
    "duration": 19,
    "start_time": "2021-07-02T21:08:12.328Z"
   },
   {
    "duration": 48,
    "start_time": "2021-07-02T21:08:12.349Z"
   },
   {
    "duration": 20,
    "start_time": "2021-07-02T21:08:12.399Z"
   },
   {
    "duration": 13,
    "start_time": "2021-07-02T21:08:12.420Z"
   },
   {
    "duration": 21,
    "start_time": "2021-07-02T21:08:12.434Z"
   },
   {
    "duration": 32,
    "start_time": "2021-07-02T21:08:12.457Z"
   },
   {
    "duration": 20,
    "start_time": "2021-07-02T21:08:12.491Z"
   },
   {
    "duration": 19,
    "start_time": "2021-07-02T21:08:12.513Z"
   },
   {
    "duration": 18,
    "start_time": "2021-07-02T21:08:12.534Z"
   },
   {
    "duration": 45,
    "start_time": "2021-07-02T21:08:12.554Z"
   },
   {
    "duration": 28,
    "start_time": "2021-07-02T21:08:12.600Z"
   },
   {
    "duration": 27,
    "start_time": "2021-07-02T21:08:12.630Z"
   },
   {
    "duration": 37,
    "start_time": "2021-07-02T21:08:12.659Z"
   },
   {
    "duration": 3389,
    "start_time": "2021-07-02T21:08:12.699Z"
   },
   {
    "duration": 4,
    "start_time": "2021-07-02T21:08:16.090Z"
   },
   {
    "duration": 7,
    "start_time": "2021-07-02T21:08:16.096Z"
   },
   {
    "duration": 15,
    "start_time": "2021-07-02T21:08:16.105Z"
   },
   {
    "duration": 13,
    "start_time": "2021-07-02T21:08:16.122Z"
   },
   {
    "duration": 49,
    "start_time": "2021-07-02T21:08:16.137Z"
   },
   {
    "duration": 27,
    "start_time": "2021-07-02T21:08:16.188Z"
   },
   {
    "duration": 18,
    "start_time": "2021-07-02T21:08:16.217Z"
   },
   {
    "duration": 61,
    "start_time": "2021-07-02T21:10:14.956Z"
   },
   {
    "duration": 204,
    "start_time": "2021-07-02T21:22:19.693Z"
   },
   {
    "duration": 9,
    "start_time": "2021-07-02T21:22:19.899Z"
   },
   {
    "duration": 7,
    "start_time": "2021-07-02T21:22:19.910Z"
   },
   {
    "duration": 9,
    "start_time": "2021-07-02T21:22:19.919Z"
   },
   {
    "duration": 83,
    "start_time": "2021-07-02T21:22:19.930Z"
   },
   {
    "duration": 11,
    "start_time": "2021-07-02T21:22:20.014Z"
   },
   {
    "duration": 37,
    "start_time": "2021-07-02T21:22:20.026Z"
   },
   {
    "duration": 15,
    "start_time": "2021-07-02T21:22:20.085Z"
   },
   {
    "duration": 13,
    "start_time": "2021-07-02T21:22:20.102Z"
   },
   {
    "duration": 20,
    "start_time": "2021-07-02T21:22:20.117Z"
   },
   {
    "duration": 47,
    "start_time": "2021-07-02T21:22:20.139Z"
   },
   {
    "duration": 21,
    "start_time": "2021-07-02T21:22:20.188Z"
   },
   {
    "duration": 14,
    "start_time": "2021-07-02T21:22:20.211Z"
   },
   {
    "duration": 23,
    "start_time": "2021-07-02T21:22:20.226Z"
   },
   {
    "duration": 37,
    "start_time": "2021-07-02T21:22:20.251Z"
   },
   {
    "duration": 23,
    "start_time": "2021-07-02T21:22:20.289Z"
   },
   {
    "duration": 21,
    "start_time": "2021-07-02T21:22:20.313Z"
   },
   {
    "duration": 16,
    "start_time": "2021-07-02T21:22:20.335Z"
   },
   {
    "duration": 57,
    "start_time": "2021-07-02T21:22:20.353Z"
   },
   {
    "duration": 26,
    "start_time": "2021-07-02T21:22:20.412Z"
   },
   {
    "duration": 12,
    "start_time": "2021-07-02T21:22:20.440Z"
   },
   {
    "duration": 3541,
    "start_time": "2021-07-02T21:22:20.453Z"
   },
   {
    "duration": 4,
    "start_time": "2021-07-02T21:22:23.997Z"
   },
   {
    "duration": 12,
    "start_time": "2021-07-02T21:22:24.003Z"
   },
   {
    "duration": 17,
    "start_time": "2021-07-02T21:22:24.016Z"
   },
   {
    "duration": 13,
    "start_time": "2021-07-02T21:22:24.034Z"
   },
   {
    "duration": 44,
    "start_time": "2021-07-02T21:22:24.048Z"
   },
   {
    "duration": 25,
    "start_time": "2021-07-02T21:22:24.094Z"
   },
   {
    "duration": 19,
    "start_time": "2021-07-02T21:22:24.121Z"
   },
   {
    "duration": 12,
    "start_time": "2021-07-02T21:38:58.432Z"
   },
   {
    "duration": 224,
    "start_time": "2021-07-02T21:45:23.038Z"
   },
   {
    "duration": 9,
    "start_time": "2021-07-02T21:45:23.264Z"
   },
   {
    "duration": 9,
    "start_time": "2021-07-02T21:45:23.275Z"
   },
   {
    "duration": 8,
    "start_time": "2021-07-02T21:45:23.286Z"
   },
   {
    "duration": 59,
    "start_time": "2021-07-02T21:45:23.296Z"
   },
   {
    "duration": 30,
    "start_time": "2021-07-02T21:45:23.356Z"
   },
   {
    "duration": 39,
    "start_time": "2021-07-02T21:45:23.388Z"
   },
   {
    "duration": 14,
    "start_time": "2021-07-02T21:45:23.430Z"
   },
   {
    "duration": 40,
    "start_time": "2021-07-02T21:45:23.446Z"
   },
   {
    "duration": 22,
    "start_time": "2021-07-02T21:45:23.487Z"
   },
   {
    "duration": 19,
    "start_time": "2021-07-02T21:45:23.511Z"
   },
   {
    "duration": 22,
    "start_time": "2021-07-02T21:45:23.531Z"
   },
   {
    "duration": 44,
    "start_time": "2021-07-02T21:45:23.555Z"
   },
   {
    "duration": 69,
    "start_time": "2021-07-02T21:45:23.600Z"
   },
   {
    "duration": -121,
    "start_time": "2021-07-02T21:45:23.792Z"
   },
   {
    "duration": -124,
    "start_time": "2021-07-02T21:45:23.796Z"
   },
   {
    "duration": -126,
    "start_time": "2021-07-02T21:45:23.799Z"
   },
   {
    "duration": -130,
    "start_time": "2021-07-02T21:45:23.804Z"
   },
   {
    "duration": -134,
    "start_time": "2021-07-02T21:45:23.809Z"
   },
   {
    "duration": -138,
    "start_time": "2021-07-02T21:45:23.814Z"
   },
   {
    "duration": -141,
    "start_time": "2021-07-02T21:45:23.818Z"
   },
   {
    "duration": -144,
    "start_time": "2021-07-02T21:45:23.822Z"
   },
   {
    "duration": -147,
    "start_time": "2021-07-02T21:45:23.826Z"
   },
   {
    "duration": -150,
    "start_time": "2021-07-02T21:45:23.830Z"
   },
   {
    "duration": -153,
    "start_time": "2021-07-02T21:45:23.834Z"
   },
   {
    "duration": -156,
    "start_time": "2021-07-02T21:45:23.838Z"
   },
   {
    "duration": -159,
    "start_time": "2021-07-02T21:45:23.842Z"
   },
   {
    "duration": -162,
    "start_time": "2021-07-02T21:45:23.846Z"
   },
   {
    "duration": -191,
    "start_time": "2021-07-02T21:45:23.876Z"
   },
   {
    "duration": -198,
    "start_time": "2021-07-02T21:45:23.884Z"
   },
   {
    "duration": -202,
    "start_time": "2021-07-02T21:45:23.889Z"
   },
   {
    "duration": 12,
    "start_time": "2021-07-02T21:45:50.699Z"
   },
   {
    "duration": 227,
    "start_time": "2021-07-02T21:45:55.552Z"
   },
   {
    "duration": 8,
    "start_time": "2021-07-02T21:45:55.782Z"
   },
   {
    "duration": 9,
    "start_time": "2021-07-02T21:45:55.792Z"
   },
   {
    "duration": 9,
    "start_time": "2021-07-02T21:45:55.803Z"
   },
   {
    "duration": 76,
    "start_time": "2021-07-02T21:45:55.813Z"
   },
   {
    "duration": 10,
    "start_time": "2021-07-02T21:45:55.891Z"
   },
   {
    "duration": 37,
    "start_time": "2021-07-02T21:45:55.903Z"
   },
   {
    "duration": 15,
    "start_time": "2021-07-02T21:45:55.942Z"
   },
   {
    "duration": 14,
    "start_time": "2021-07-02T21:45:55.985Z"
   },
   {
    "duration": 20,
    "start_time": "2021-07-02T21:45:56.000Z"
   },
   {
    "duration": 17,
    "start_time": "2021-07-02T21:45:56.022Z"
   },
   {
    "duration": 54,
    "start_time": "2021-07-02T21:45:56.040Z"
   },
   {
    "duration": 14,
    "start_time": "2021-07-02T21:45:56.095Z"
   },
   {
    "duration": 11,
    "start_time": "2021-07-02T21:45:56.111Z"
   },
   {
    "duration": 22,
    "start_time": "2021-07-02T21:45:56.124Z"
   },
   {
    "duration": 40,
    "start_time": "2021-07-02T21:45:56.148Z"
   },
   {
    "duration": 24,
    "start_time": "2021-07-02T21:45:56.190Z"
   },
   {
    "duration": 18,
    "start_time": "2021-07-02T21:45:56.216Z"
   },
   {
    "duration": 24,
    "start_time": "2021-07-02T21:45:56.236Z"
   },
   {
    "duration": 50,
    "start_time": "2021-07-02T21:45:56.261Z"
   },
   {
    "duration": 28,
    "start_time": "2021-07-02T21:45:56.313Z"
   },
   {
    "duration": 12,
    "start_time": "2021-07-02T21:45:56.342Z"
   },
   {
    "duration": 3400,
    "start_time": "2021-07-02T21:45:56.357Z"
   },
   {
    "duration": 3,
    "start_time": "2021-07-02T21:45:59.759Z"
   },
   {
    "duration": 28,
    "start_time": "2021-07-02T21:45:59.764Z"
   },
   {
    "duration": 26,
    "start_time": "2021-07-02T21:45:59.794Z"
   },
   {
    "duration": 14,
    "start_time": "2021-07-02T21:45:59.821Z"
   },
   {
    "duration": 15,
    "start_time": "2021-07-02T21:45:59.836Z"
   },
   {
    "duration": 41,
    "start_time": "2021-07-02T21:45:59.853Z"
   },
   {
    "duration": 18,
    "start_time": "2021-07-02T21:45:59.896Z"
   },
   {
    "duration": 59,
    "start_time": "2021-07-02T21:52:22.740Z"
   },
   {
    "duration": 58,
    "start_time": "2021-07-02T21:53:20.788Z"
   },
   {
    "duration": 59,
    "start_time": "2021-07-02T21:53:52.700Z"
   },
   {
    "duration": 183,
    "start_time": "2021-07-02T21:54:28.701Z"
   },
   {
    "duration": 4,
    "start_time": "2021-07-02T21:54:42.086Z"
   },
   {
    "duration": 5,
    "start_time": "2021-07-02T21:54:54.781Z"
   },
   {
    "duration": 19,
    "start_time": "2021-07-02T21:56:49.246Z"
   },
   {
    "duration": 61,
    "start_time": "2021-07-02T22:06:10.418Z"
   },
   {
    "duration": 65,
    "start_time": "2021-07-02T22:07:25.530Z"
   },
   {
    "duration": 60,
    "start_time": "2021-07-02T22:07:38.976Z"
   },
   {
    "duration": 59,
    "start_time": "2021-07-02T22:07:52.729Z"
   },
   {
    "duration": 21,
    "start_time": "2021-07-02T22:08:15.953Z"
   },
   {
    "duration": 207,
    "start_time": "2021-07-02T22:08:26.445Z"
   },
   {
    "duration": 9,
    "start_time": "2021-07-02T22:08:26.654Z"
   },
   {
    "duration": 7,
    "start_time": "2021-07-02T22:08:26.665Z"
   },
   {
    "duration": 17,
    "start_time": "2021-07-02T22:08:26.674Z"
   },
   {
    "duration": 52,
    "start_time": "2021-07-02T22:08:26.692Z"
   },
   {
    "duration": 10,
    "start_time": "2021-07-02T22:08:26.745Z"
   },
   {
    "duration": 63,
    "start_time": "2021-07-02T22:08:26.756Z"
   },
   {
    "duration": 15,
    "start_time": "2021-07-02T22:08:26.821Z"
   },
   {
    "duration": 12,
    "start_time": "2021-07-02T22:08:26.837Z"
   },
   {
    "duration": 44,
    "start_time": "2021-07-02T22:08:26.851Z"
   },
   {
    "duration": 18,
    "start_time": "2021-07-02T22:08:26.897Z"
   },
   {
    "duration": 21,
    "start_time": "2021-07-02T22:08:26.916Z"
   },
   {
    "duration": 13,
    "start_time": "2021-07-02T22:08:26.939Z"
   },
   {
    "duration": 42,
    "start_time": "2021-07-02T22:08:26.954Z"
   },
   {
    "duration": 20,
    "start_time": "2021-07-02T22:08:26.998Z"
   },
   {
    "duration": 8,
    "start_time": "2021-07-02T22:08:27.020Z"
   },
   {
    "duration": 22,
    "start_time": "2021-07-02T22:08:27.030Z"
   },
   {
    "duration": 48,
    "start_time": "2021-07-02T22:08:27.054Z"
   },
   {
    "duration": 17,
    "start_time": "2021-07-02T22:08:27.104Z"
   },
   {
    "duration": 31,
    "start_time": "2021-07-02T22:08:27.123Z"
   },
   {
    "duration": 51,
    "start_time": "2021-07-02T22:08:27.156Z"
   },
   {
    "duration": 13,
    "start_time": "2021-07-02T22:08:27.209Z"
   },
   {
    "duration": 3349,
    "start_time": "2021-07-02T22:08:27.225Z"
   },
   {
    "duration": 4,
    "start_time": "2021-07-02T22:08:30.585Z"
   },
   {
    "duration": 19,
    "start_time": "2021-07-02T22:08:30.591Z"
   },
   {
    "duration": 34,
    "start_time": "2021-07-02T22:08:30.612Z"
   },
   {
    "duration": 4,
    "start_time": "2021-07-02T22:08:30.648Z"
   },
   {
    "duration": 33,
    "start_time": "2021-07-02T22:08:30.653Z"
   },
   {
    "duration": 34,
    "start_time": "2021-07-02T22:08:30.688Z"
   },
   {
    "duration": 15,
    "start_time": "2021-07-02T22:08:30.724Z"
   },
   {
    "duration": 34,
    "start_time": "2021-07-02T22:08:30.741Z"
   },
   {
    "duration": 26,
    "start_time": "2021-07-02T22:08:30.776Z"
   },
   {
    "duration": 194,
    "start_time": "2021-07-02T22:10:43.519Z"
   },
   {
    "duration": 194,
    "start_time": "2021-07-02T22:10:58.842Z"
   },
   {
    "duration": 3,
    "start_time": "2021-07-02T22:12:08.685Z"
   },
   {
    "duration": 3,
    "start_time": "2021-07-02T22:12:13.603Z"
   },
   {
    "duration": 304,
    "start_time": "2021-07-02T22:12:34.540Z"
   },
   {
    "duration": 13,
    "start_time": "2021-07-02T22:14:21.176Z"
   },
   {
    "duration": 321,
    "start_time": "2021-07-02T22:15:10.568Z"
   },
   {
    "duration": 316,
    "start_time": "2021-07-02T22:15:20.512Z"
   },
   {
    "duration": 174,
    "start_time": "2021-07-02T22:18:25.673Z"
   },
   {
    "duration": 217,
    "start_time": "2021-07-02T22:18:36.553Z"
   },
   {
    "duration": 10,
    "start_time": "2021-07-02T22:18:36.772Z"
   },
   {
    "duration": 9,
    "start_time": "2021-07-02T22:18:36.784Z"
   },
   {
    "duration": 10,
    "start_time": "2021-07-02T22:18:36.795Z"
   },
   {
    "duration": 91,
    "start_time": "2021-07-02T22:18:36.807Z"
   },
   {
    "duration": 11,
    "start_time": "2021-07-02T22:18:36.901Z"
   },
   {
    "duration": 35,
    "start_time": "2021-07-02T22:18:36.914Z"
   },
   {
    "duration": 37,
    "start_time": "2021-07-02T22:18:36.950Z"
   },
   {
    "duration": 13,
    "start_time": "2021-07-02T22:18:36.989Z"
   },
   {
    "duration": 22,
    "start_time": "2021-07-02T22:18:37.004Z"
   },
   {
    "duration": 17,
    "start_time": "2021-07-02T22:18:37.027Z"
   },
   {
    "duration": 53,
    "start_time": "2021-07-02T22:18:37.045Z"
   },
   {
    "duration": 15,
    "start_time": "2021-07-02T22:18:37.100Z"
   },
   {
    "duration": 15,
    "start_time": "2021-07-02T22:18:37.117Z"
   },
   {
    "duration": 22,
    "start_time": "2021-07-02T22:18:37.134Z"
   },
   {
    "duration": 29,
    "start_time": "2021-07-02T22:18:37.158Z"
   },
   {
    "duration": 24,
    "start_time": "2021-07-02T22:18:37.189Z"
   },
   {
    "duration": 21,
    "start_time": "2021-07-02T22:18:37.214Z"
   },
   {
    "duration": 17,
    "start_time": "2021-07-02T22:18:37.236Z"
   },
   {
    "duration": 57,
    "start_time": "2021-07-02T22:18:37.255Z"
   },
   {
    "duration": 26,
    "start_time": "2021-07-02T22:18:37.314Z"
   },
   {
    "duration": 12,
    "start_time": "2021-07-02T22:18:37.342Z"
   },
   {
    "duration": 3463,
    "start_time": "2021-07-02T22:18:37.356Z"
   },
   {
    "duration": 4,
    "start_time": "2021-07-02T22:18:40.822Z"
   },
   {
    "duration": 201,
    "start_time": "2021-07-02T22:18:40.827Z"
   },
   {
    "duration": -96,
    "start_time": "2021-07-02T22:18:41.127Z"
   },
   {
    "duration": -107,
    "start_time": "2021-07-02T22:18:41.138Z"
   },
   {
    "duration": -115,
    "start_time": "2021-07-02T22:18:41.147Z"
   },
   {
    "duration": -120,
    "start_time": "2021-07-02T22:18:41.153Z"
   },
   {
    "duration": -123,
    "start_time": "2021-07-02T22:18:41.157Z"
   },
   {
    "duration": -128,
    "start_time": "2021-07-02T22:18:41.163Z"
   },
   {
    "duration": -131,
    "start_time": "2021-07-02T22:18:41.167Z"
   },
   {
    "duration": 188,
    "start_time": "2021-07-02T22:20:24.500Z"
   },
   {
    "duration": 142,
    "start_time": "2021-07-02T22:20:27.933Z"
   },
   {
    "duration": 9,
    "start_time": "2021-07-02T22:20:28.077Z"
   },
   {
    "duration": 7,
    "start_time": "2021-07-02T22:20:28.089Z"
   },
   {
    "duration": 8,
    "start_time": "2021-07-02T22:20:28.098Z"
   },
   {
    "duration": 50,
    "start_time": "2021-07-02T22:20:28.108Z"
   },
   {
    "duration": 31,
    "start_time": "2021-07-02T22:20:28.160Z"
   },
   {
    "duration": 35,
    "start_time": "2021-07-02T22:20:28.193Z"
   },
   {
    "duration": 14,
    "start_time": "2021-07-02T22:20:28.230Z"
   },
   {
    "duration": 40,
    "start_time": "2021-07-02T22:20:28.246Z"
   },
   {
    "duration": 25,
    "start_time": "2021-07-02T22:20:28.288Z"
   },
   {
    "duration": 17,
    "start_time": "2021-07-02T22:20:28.315Z"
   },
   {
    "duration": 20,
    "start_time": "2021-07-02T22:20:28.334Z"
   },
   {
    "duration": 37,
    "start_time": "2021-07-02T22:20:28.356Z"
   },
   {
    "duration": 15,
    "start_time": "2021-07-02T22:20:28.395Z"
   },
   {
    "duration": 20,
    "start_time": "2021-07-02T22:20:28.411Z"
   },
   {
    "duration": 9,
    "start_time": "2021-07-02T22:20:28.432Z"
   },
   {
    "duration": 53,
    "start_time": "2021-07-02T22:20:28.442Z"
   },
   {
    "duration": 19,
    "start_time": "2021-07-02T22:20:28.496Z"
   },
   {
    "duration": 18,
    "start_time": "2021-07-02T22:20:28.517Z"
   },
   {
    "duration": 49,
    "start_time": "2021-07-02T22:20:28.537Z"
   },
   {
    "duration": 26,
    "start_time": "2021-07-02T22:20:28.588Z"
   },
   {
    "duration": 13,
    "start_time": "2021-07-02T22:20:28.615Z"
   },
   {
    "duration": 3393,
    "start_time": "2021-07-02T22:20:28.631Z"
   },
   {
    "duration": 4,
    "start_time": "2021-07-02T22:20:32.027Z"
   },
   {
    "duration": 4477,
    "start_time": "2021-07-02T22:20:32.032Z"
   },
   {
    "duration": -92,
    "start_time": "2021-07-02T22:20:36.603Z"
   },
   {
    "duration": -101,
    "start_time": "2021-07-02T22:20:36.613Z"
   },
   {
    "duration": -106,
    "start_time": "2021-07-02T22:20:36.619Z"
   },
   {
    "duration": -109,
    "start_time": "2021-07-02T22:20:36.624Z"
   },
   {
    "duration": -113,
    "start_time": "2021-07-02T22:20:36.629Z"
   },
   {
    "duration": -117,
    "start_time": "2021-07-02T22:20:36.634Z"
   },
   {
    "duration": -121,
    "start_time": "2021-07-02T22:20:36.639Z"
   },
   {
    "duration": 223,
    "start_time": "2021-07-02T22:22:02.031Z"
   },
   {
    "duration": 9,
    "start_time": "2021-07-02T22:22:02.256Z"
   },
   {
    "duration": 10,
    "start_time": "2021-07-02T22:22:02.267Z"
   },
   {
    "duration": 11,
    "start_time": "2021-07-02T22:22:02.279Z"
   },
   {
    "duration": 59,
    "start_time": "2021-07-02T22:22:02.292Z"
   },
   {
    "duration": 9,
    "start_time": "2021-07-02T22:22:02.353Z"
   },
   {
    "duration": 52,
    "start_time": "2021-07-02T22:22:02.363Z"
   },
   {
    "duration": 15,
    "start_time": "2021-07-02T22:22:02.417Z"
   },
   {
    "duration": 11,
    "start_time": "2021-07-02T22:22:02.434Z"
   },
   {
    "duration": 43,
    "start_time": "2021-07-02T22:22:02.447Z"
   },
   {
    "duration": 17,
    "start_time": "2021-07-02T22:22:02.492Z"
   },
   {
    "duration": 20,
    "start_time": "2021-07-02T22:22:02.511Z"
   },
   {
    "duration": 12,
    "start_time": "2021-07-02T22:22:02.533Z"
   },
   {
    "duration": 38,
    "start_time": "2021-07-02T22:22:02.547Z"
   },
   {
    "duration": 23,
    "start_time": "2021-07-02T22:22:02.587Z"
   },
   {
    "duration": 8,
    "start_time": "2021-07-02T22:22:02.612Z"
   },
   {
    "duration": 30,
    "start_time": "2021-07-02T22:22:02.622Z"
   },
   {
    "duration": 35,
    "start_time": "2021-07-02T22:22:02.654Z"
   },
   {
    "duration": 22,
    "start_time": "2021-07-02T22:22:02.691Z"
   },
   {
    "duration": 28,
    "start_time": "2021-07-02T22:22:02.714Z"
   },
   {
    "duration": 42,
    "start_time": "2021-07-02T22:22:02.743Z"
   },
   {
    "duration": 13,
    "start_time": "2021-07-02T22:22:02.786Z"
   },
   {
    "duration": 3466,
    "start_time": "2021-07-02T22:22:02.801Z"
   },
   {
    "duration": 16,
    "start_time": "2021-07-02T22:22:06.270Z"
   },
   {
    "duration": 8,
    "start_time": "2021-07-02T22:22:06.288Z"
   },
   {
    "duration": 17,
    "start_time": "2021-07-02T22:22:06.298Z"
   },
   {
    "duration": 4,
    "start_time": "2021-07-02T22:22:06.317Z"
   },
   {
    "duration": 22,
    "start_time": "2021-07-02T22:22:06.322Z"
   },
   {
    "duration": 41,
    "start_time": "2021-07-02T22:22:06.345Z"
   },
   {
    "duration": 15,
    "start_time": "2021-07-02T22:22:06.387Z"
   },
   {
    "duration": 28,
    "start_time": "2021-07-02T22:22:06.403Z"
   },
   {
    "duration": 295,
    "start_time": "2021-07-02T22:22:06.433Z"
   },
   {
    "duration": 306,
    "start_time": "2021-07-02T22:23:45.656Z"
   },
   {
    "duration": 143,
    "start_time": "2021-07-02T22:23:58.752Z"
   },
   {
    "duration": 7,
    "start_time": "2021-07-02T22:23:58.897Z"
   },
   {
    "duration": 7,
    "start_time": "2021-07-02T22:23:58.906Z"
   },
   {
    "duration": 7,
    "start_time": "2021-07-02T22:23:58.915Z"
   },
   {
    "duration": 78,
    "start_time": "2021-07-02T22:23:58.923Z"
   },
   {
    "duration": 9,
    "start_time": "2021-07-02T22:23:59.003Z"
   },
   {
    "duration": 35,
    "start_time": "2021-07-02T22:23:59.014Z"
   },
   {
    "duration": 36,
    "start_time": "2021-07-02T22:23:59.051Z"
   },
   {
    "duration": 12,
    "start_time": "2021-07-02T22:23:59.090Z"
   },
   {
    "duration": 32,
    "start_time": "2021-07-02T22:23:59.104Z"
   },
   {
    "duration": 17,
    "start_time": "2021-07-02T22:23:59.137Z"
   },
   {
    "duration": 39,
    "start_time": "2021-07-02T22:23:59.156Z"
   },
   {
    "duration": 14,
    "start_time": "2021-07-02T22:23:59.196Z"
   },
   {
    "duration": 17,
    "start_time": "2021-07-02T22:23:59.211Z"
   },
   {
    "duration": 21,
    "start_time": "2021-07-02T22:23:59.229Z"
   },
   {
    "duration": 37,
    "start_time": "2021-07-02T22:23:59.252Z"
   },
   {
    "duration": 23,
    "start_time": "2021-07-02T22:23:59.291Z"
   },
   {
    "duration": 21,
    "start_time": "2021-07-02T22:23:59.315Z"
   },
   {
    "duration": 16,
    "start_time": "2021-07-02T22:23:59.338Z"
   },
   {
    "duration": 54,
    "start_time": "2021-07-02T22:23:59.356Z"
   },
   {
    "duration": 26,
    "start_time": "2021-07-02T22:23:59.412Z"
   },
   {
    "duration": 13,
    "start_time": "2021-07-02T22:23:59.440Z"
   },
   {
    "duration": 3319,
    "start_time": "2021-07-02T22:23:59.484Z"
   },
   {
    "duration": 4,
    "start_time": "2021-07-02T22:24:02.805Z"
   },
   {
    "duration": 7,
    "start_time": "2021-07-02T22:24:02.810Z"
   },
   {
    "duration": 15,
    "start_time": "2021-07-02T22:24:02.818Z"
   },
   {
    "duration": 4,
    "start_time": "2021-07-02T22:24:02.835Z"
   },
   {
    "duration": 18,
    "start_time": "2021-07-02T22:24:02.841Z"
   },
   {
    "duration": 19,
    "start_time": "2021-07-02T22:24:02.885Z"
   },
   {
    "duration": 14,
    "start_time": "2021-07-02T22:24:02.905Z"
   },
   {
    "duration": 31,
    "start_time": "2021-07-02T22:24:02.921Z"
   },
   {
    "duration": 295,
    "start_time": "2021-07-02T22:24:02.953Z"
   },
   {
    "duration": 301,
    "start_time": "2021-07-02T22:24:47.232Z"
   },
   {
    "duration": 13,
    "start_time": "2021-07-02T22:24:55.015Z"
   },
   {
    "duration": 309,
    "start_time": "2021-07-02T22:25:57.442Z"
   },
   {
    "duration": 207,
    "start_time": "2021-07-02T22:27:54.769Z"
   },
   {
    "duration": 312,
    "start_time": "2021-07-02T22:27:59.484Z"
   },
   {
    "duration": 9,
    "start_time": "2021-07-02T22:27:59.797Z"
   },
   {
    "duration": 7,
    "start_time": "2021-07-02T22:27:59.808Z"
   },
   {
    "duration": 7,
    "start_time": "2021-07-02T22:27:59.817Z"
   },
   {
    "duration": 77,
    "start_time": "2021-07-02T22:27:59.825Z"
   },
   {
    "duration": 9,
    "start_time": "2021-07-02T22:27:59.903Z"
   },
   {
    "duration": 38,
    "start_time": "2021-07-02T22:27:59.914Z"
   },
   {
    "duration": 35,
    "start_time": "2021-07-02T22:27:59.955Z"
   },
   {
    "duration": 13,
    "start_time": "2021-07-02T22:27:59.992Z"
   },
   {
    "duration": 23,
    "start_time": "2021-07-02T22:28:00.007Z"
   },
   {
    "duration": 19,
    "start_time": "2021-07-02T22:28:00.032Z"
   },
   {
    "duration": 52,
    "start_time": "2021-07-02T22:28:00.053Z"
   },
   {
    "duration": 15,
    "start_time": "2021-07-02T22:28:00.106Z"
   },
   {
    "duration": 16,
    "start_time": "2021-07-02T22:28:00.122Z"
   },
   {
    "duration": 51,
    "start_time": "2021-07-02T22:28:00.139Z"
   },
   {
    "duration": 8,
    "start_time": "2021-07-02T22:28:00.191Z"
   },
   {
    "duration": 22,
    "start_time": "2021-07-02T22:28:00.201Z"
   },
   {
    "duration": 19,
    "start_time": "2021-07-02T22:28:00.225Z"
   },
   {
    "duration": 45,
    "start_time": "2021-07-02T22:28:00.245Z"
   },
   {
    "duration": 29,
    "start_time": "2021-07-02T22:28:00.292Z"
   },
   {
    "duration": 28,
    "start_time": "2021-07-02T22:28:00.323Z"
   },
   {
    "duration": 34,
    "start_time": "2021-07-02T22:28:00.352Z"
   },
   {
    "duration": 3534,
    "start_time": "2021-07-02T22:28:00.389Z"
   },
   {
    "duration": 4,
    "start_time": "2021-07-02T22:28:03.925Z"
   },
   {
    "duration": 203,
    "start_time": "2021-07-02T22:28:03.931Z"
   },
   {
    "duration": -57,
    "start_time": "2021-07-02T22:28:04.193Z"
   },
   {
    "duration": -74,
    "start_time": "2021-07-02T22:28:04.211Z"
   },
   {
    "duration": -80,
    "start_time": "2021-07-02T22:28:04.218Z"
   },
   {
    "duration": -86,
    "start_time": "2021-07-02T22:28:04.224Z"
   },
   {
    "duration": -98,
    "start_time": "2021-07-02T22:28:04.237Z"
   },
   {
    "duration": -106,
    "start_time": "2021-07-02T22:28:04.246Z"
   },
   {
    "duration": -121,
    "start_time": "2021-07-02T22:28:04.262Z"
   },
   {
    "duration": 242,
    "start_time": "2021-07-02T22:28:29.580Z"
   },
   {
    "duration": 178,
    "start_time": "2021-07-02T22:28:34.062Z"
   },
   {
    "duration": 10,
    "start_time": "2021-07-02T22:28:34.242Z"
   },
   {
    "duration": 8,
    "start_time": "2021-07-02T22:28:34.254Z"
   },
   {
    "duration": 24,
    "start_time": "2021-07-02T22:28:34.264Z"
   },
   {
    "duration": 55,
    "start_time": "2021-07-02T22:28:34.289Z"
   },
   {
    "duration": 9,
    "start_time": "2021-07-02T22:28:34.346Z"
   },
   {
    "duration": 55,
    "start_time": "2021-07-02T22:28:34.357Z"
   },
   {
    "duration": 14,
    "start_time": "2021-07-02T22:28:34.415Z"
   },
   {
    "duration": 12,
    "start_time": "2021-07-02T22:28:34.432Z"
   },
   {
    "duration": 45,
    "start_time": "2021-07-02T22:28:34.446Z"
   },
   {
    "duration": 18,
    "start_time": "2021-07-02T22:28:34.493Z"
   },
   {
    "duration": 21,
    "start_time": "2021-07-02T22:28:34.513Z"
   },
   {
    "duration": 13,
    "start_time": "2021-07-02T22:28:34.536Z"
   },
   {
    "duration": 42,
    "start_time": "2021-07-02T22:28:34.551Z"
   },
   {
    "duration": 21,
    "start_time": "2021-07-02T22:28:34.595Z"
   },
   {
    "duration": 9,
    "start_time": "2021-07-02T22:28:34.617Z"
   },
   {
    "duration": 21,
    "start_time": "2021-07-02T22:28:34.628Z"
   },
   {
    "duration": 49,
    "start_time": "2021-07-02T22:28:34.651Z"
   },
   {
    "duration": 18,
    "start_time": "2021-07-02T22:28:34.701Z"
   },
   {
    "duration": 28,
    "start_time": "2021-07-02T22:28:34.721Z"
   },
   {
    "duration": 51,
    "start_time": "2021-07-02T22:28:34.751Z"
   },
   {
    "duration": 13,
    "start_time": "2021-07-02T22:28:34.804Z"
   },
   {
    "duration": 3373,
    "start_time": "2021-07-02T22:28:34.820Z"
   },
   {
    "duration": 4,
    "start_time": "2021-07-02T22:28:38.196Z"
   },
   {
    "duration": 190,
    "start_time": "2021-07-02T22:28:38.202Z"
   },
   {
    "duration": -124,
    "start_time": "2021-07-02T22:28:38.518Z"
   },
   {
    "duration": -126,
    "start_time": "2021-07-02T22:28:38.522Z"
   },
   {
    "duration": -131,
    "start_time": "2021-07-02T22:28:38.529Z"
   },
   {
    "duration": -136,
    "start_time": "2021-07-02T22:28:38.535Z"
   },
   {
    "duration": -138,
    "start_time": "2021-07-02T22:28:38.539Z"
   },
   {
    "duration": -169,
    "start_time": "2021-07-02T22:28:38.571Z"
   },
   {
    "duration": -175,
    "start_time": "2021-07-02T22:28:38.578Z"
   },
   {
    "duration": 181,
    "start_time": "2021-07-02T22:29:00.797Z"
   },
   {
    "duration": 9,
    "start_time": "2021-07-02T22:29:00.980Z"
   },
   {
    "duration": 11,
    "start_time": "2021-07-02T22:29:00.991Z"
   },
   {
    "duration": 8,
    "start_time": "2021-07-02T22:29:01.004Z"
   },
   {
    "duration": 71,
    "start_time": "2021-07-02T22:29:01.014Z"
   },
   {
    "duration": 12,
    "start_time": "2021-07-02T22:29:01.087Z"
   },
   {
    "duration": 39,
    "start_time": "2021-07-02T22:29:01.101Z"
   },
   {
    "duration": 15,
    "start_time": "2021-07-02T22:29:01.144Z"
   },
   {
    "duration": 36,
    "start_time": "2021-07-02T22:29:01.161Z"
   },
   {
    "duration": 21,
    "start_time": "2021-07-02T22:29:01.199Z"
   },
   {
    "duration": 18,
    "start_time": "2021-07-02T22:29:01.221Z"
   },
   {
    "duration": 51,
    "start_time": "2021-07-02T22:29:01.240Z"
   },
   {
    "duration": 14,
    "start_time": "2021-07-02T22:29:01.292Z"
   },
   {
    "duration": 14,
    "start_time": "2021-07-02T22:29:01.308Z"
   },
   {
    "duration": 21,
    "start_time": "2021-07-02T22:29:01.323Z"
   },
   {
    "duration": 45,
    "start_time": "2021-07-02T22:29:01.345Z"
   },
   {
    "duration": 23,
    "start_time": "2021-07-02T22:29:01.392Z"
   },
   {
    "duration": 20,
    "start_time": "2021-07-02T22:29:01.417Z"
   },
   {
    "duration": 17,
    "start_time": "2021-07-02T22:29:01.439Z"
   },
   {
    "duration": 54,
    "start_time": "2021-07-02T22:29:01.458Z"
   },
   {
    "duration": 28,
    "start_time": "2021-07-02T22:29:01.513Z"
   },
   {
    "duration": 13,
    "start_time": "2021-07-02T22:29:01.543Z"
   },
   {
    "duration": 3364,
    "start_time": "2021-07-02T22:29:01.588Z"
   },
   {
    "duration": 4,
    "start_time": "2021-07-02T22:29:04.954Z"
   },
   {
    "duration": 7,
    "start_time": "2021-07-02T22:29:04.959Z"
   },
   {
    "duration": 31,
    "start_time": "2021-07-02T22:29:04.967Z"
   },
   {
    "duration": 4,
    "start_time": "2021-07-02T22:29:04.999Z"
   },
   {
    "duration": 21,
    "start_time": "2021-07-02T22:29:05.004Z"
   },
   {
    "duration": 17,
    "start_time": "2021-07-02T22:29:05.026Z"
   },
   {
    "duration": 42,
    "start_time": "2021-07-02T22:29:05.045Z"
   },
   {
    "duration": 29,
    "start_time": "2021-07-02T22:29:05.089Z"
   },
   {
    "duration": 336,
    "start_time": "2021-07-02T22:29:05.119Z"
   },
   {
    "duration": 12,
    "start_time": "2021-07-02T22:29:23.052Z"
   },
   {
    "duration": 180,
    "start_time": "2021-07-02T22:30:07.371Z"
   },
   {
    "duration": 192,
    "start_time": "2021-07-02T22:38:50.462Z"
   },
   {
    "duration": 193,
    "start_time": "2021-07-02T22:38:58.223Z"
   },
   {
    "duration": 178,
    "start_time": "2021-07-02T22:39:40.222Z"
   },
   {
    "duration": 187,
    "start_time": "2021-07-02T22:42:58.345Z"
   },
   {
    "duration": 184,
    "start_time": "2021-07-02T22:43:16.305Z"
   },
   {
    "duration": 213,
    "start_time": "2021-07-02T22:44:16.769Z"
   },
   {
    "duration": 829,
    "start_time": "2021-07-02T22:44:51.026Z"
   },
   {
    "duration": 194,
    "start_time": "2021-07-02T22:45:03.561Z"
   },
   {
    "duration": 24,
    "start_time": "2021-07-02T22:45:13.954Z"
   },
   {
    "duration": 3,
    "start_time": "2021-07-02T22:46:41.031Z"
   },
   {
    "duration": 822,
    "start_time": "2021-07-02T22:46:49.810Z"
   },
   {
    "duration": 24,
    "start_time": "2021-07-02T22:47:26.165Z"
   },
   {
    "duration": 832,
    "start_time": "2021-07-02T22:47:50.061Z"
   },
   {
    "duration": 200,
    "start_time": "2021-07-02T22:48:23.197Z"
   },
   {
    "duration": 8,
    "start_time": "2021-07-02T22:48:23.399Z"
   },
   {
    "duration": 19,
    "start_time": "2021-07-02T22:48:23.409Z"
   },
   {
    "duration": 9,
    "start_time": "2021-07-02T22:48:23.430Z"
   },
   {
    "duration": 69,
    "start_time": "2021-07-02T22:48:23.440Z"
   },
   {
    "duration": 10,
    "start_time": "2021-07-02T22:48:23.511Z"
   },
   {
    "duration": 36,
    "start_time": "2021-07-02T22:48:23.523Z"
   },
   {
    "duration": 34,
    "start_time": "2021-07-02T22:48:23.561Z"
   },
   {
    "duration": 13,
    "start_time": "2021-07-02T22:48:23.597Z"
   },
   {
    "duration": 21,
    "start_time": "2021-07-02T22:48:23.611Z"
   },
   {
    "duration": 17,
    "start_time": "2021-07-02T22:48:23.633Z"
   },
   {
    "duration": 49,
    "start_time": "2021-07-02T22:48:23.651Z"
   },
   {
    "duration": 14,
    "start_time": "2021-07-02T22:48:23.701Z"
   },
   {
    "duration": 15,
    "start_time": "2021-07-02T22:48:23.717Z"
   },
   {
    "duration": 20,
    "start_time": "2021-07-02T22:48:23.734Z"
   },
   {
    "duration": 37,
    "start_time": "2021-07-02T22:48:23.756Z"
   },
   {
    "duration": 28,
    "start_time": "2021-07-02T22:48:23.795Z"
   },
   {
    "duration": 20,
    "start_time": "2021-07-02T22:48:23.825Z"
   },
   {
    "duration": 45,
    "start_time": "2021-07-02T22:48:23.847Z"
   },
   {
    "duration": 29,
    "start_time": "2021-07-02T22:48:23.894Z"
   },
   {
    "duration": 28,
    "start_time": "2021-07-02T22:48:23.925Z"
   },
   {
    "duration": 33,
    "start_time": "2021-07-02T22:48:23.955Z"
   },
   {
    "duration": 3354,
    "start_time": "2021-07-02T22:48:23.991Z"
   },
   {
    "duration": 4,
    "start_time": "2021-07-02T22:48:27.347Z"
   },
   {
    "duration": 6,
    "start_time": "2021-07-02T22:48:27.352Z"
   },
   {
    "duration": 48,
    "start_time": "2021-07-02T22:48:27.359Z"
   },
   {
    "duration": 18,
    "start_time": "2021-07-02T22:48:27.409Z"
   },
   {
    "duration": 4,
    "start_time": "2021-07-02T22:48:27.428Z"
   },
   {
    "duration": 25,
    "start_time": "2021-07-02T22:48:27.433Z"
   },
   {
    "duration": 38,
    "start_time": "2021-07-02T22:48:27.460Z"
   },
   {
    "duration": 14,
    "start_time": "2021-07-02T22:48:27.499Z"
   },
   {
    "duration": 26,
    "start_time": "2021-07-02T22:48:27.515Z"
   },
   {
    "duration": 11,
    "start_time": "2021-07-02T22:48:27.543Z"
   },
   {
    "duration": 214,
    "start_time": "2021-07-02T22:48:27.555Z"
   },
   {
    "duration": 26,
    "start_time": "2021-07-02T22:49:13.334Z"
   },
   {
    "duration": 13,
    "start_time": "2021-07-02T22:49:51.287Z"
   },
   {
    "duration": 82,
    "start_time": "2021-07-02T22:58:02.368Z"
   },
   {
    "duration": 74,
    "start_time": "2021-07-02T22:58:14.317Z"
   },
   {
    "duration": 67,
    "start_time": "2021-07-02T23:01:04.209Z"
   },
   {
    "duration": 60,
    "start_time": "2021-07-02T23:03:39.202Z"
   },
   {
    "duration": 69,
    "start_time": "2021-07-02T23:04:39.276Z"
   },
   {
    "duration": 80,
    "start_time": "2021-07-02T23:04:47.587Z"
   },
   {
    "duration": 56,
    "start_time": "2021-07-02T23:04:51.315Z"
   },
   {
    "duration": 16,
    "start_time": "2021-07-02T23:05:18.835Z"
   },
   {
    "duration": 16,
    "start_time": "2021-07-02T23:05:22.092Z"
   },
   {
    "duration": 19,
    "start_time": "2021-07-02T23:05:37.476Z"
   },
   {
    "duration": 21,
    "start_time": "2021-07-02T23:10:22.970Z"
   },
   {
    "duration": 11,
    "start_time": "2021-07-02T23:11:40.793Z"
   },
   {
    "duration": 21,
    "start_time": "2021-07-02T23:14:32.223Z"
   },
   {
    "duration": 1780,
    "start_time": "2021-07-03T16:50:36.631Z"
   },
   {
    "duration": 12,
    "start_time": "2021-07-03T16:50:38.414Z"
   },
   {
    "duration": 12,
    "start_time": "2021-07-03T16:50:38.430Z"
   },
   {
    "duration": 41,
    "start_time": "2021-07-03T16:50:38.446Z"
   },
   {
    "duration": 78,
    "start_time": "2021-07-03T16:50:38.489Z"
   },
   {
    "duration": 16,
    "start_time": "2021-07-03T16:50:38.585Z"
   },
   {
    "duration": 81,
    "start_time": "2021-07-03T16:50:38.603Z"
   },
   {
    "duration": 22,
    "start_time": "2021-07-03T16:50:38.689Z"
   },
   {
    "duration": 21,
    "start_time": "2021-07-03T16:50:38.715Z"
   },
   {
    "duration": 69,
    "start_time": "2021-07-03T16:50:38.738Z"
   },
   {
    "duration": 29,
    "start_time": "2021-07-03T16:50:38.810Z"
   },
   {
    "duration": 55,
    "start_time": "2021-07-03T16:50:38.841Z"
   },
   {
    "duration": 23,
    "start_time": "2021-07-03T16:50:38.898Z"
   },
   {
    "duration": 30,
    "start_time": "2021-07-03T16:50:38.924Z"
   },
   {
    "duration": 60,
    "start_time": "2021-07-03T16:50:38.957Z"
   },
   {
    "duration": 12,
    "start_time": "2021-07-03T16:50:39.020Z"
   },
   {
    "duration": 72,
    "start_time": "2021-07-03T16:50:39.035Z"
   },
   {
    "duration": 29,
    "start_time": "2021-07-03T16:50:39.110Z"
   },
   {
    "duration": 51,
    "start_time": "2021-07-03T16:50:39.142Z"
   },
   {
    "duration": 47,
    "start_time": "2021-07-03T16:50:39.196Z"
   },
   {
    "duration": 66,
    "start_time": "2021-07-03T16:50:39.246Z"
   },
   {
    "duration": 17,
    "start_time": "2021-07-03T16:50:39.315Z"
   },
   {
    "duration": 4548,
    "start_time": "2021-07-03T16:50:39.337Z"
   },
   {
    "duration": 7,
    "start_time": "2021-07-03T16:50:43.889Z"
   },
   {
    "duration": 9,
    "start_time": "2021-07-03T16:50:43.899Z"
   },
   {
    "duration": 81,
    "start_time": "2021-07-03T16:50:43.911Z"
   },
   {
    "duration": 33,
    "start_time": "2021-07-03T16:50:43.996Z"
   },
   {
    "duration": 8,
    "start_time": "2021-07-03T16:50:44.032Z"
   },
   {
    "duration": 67,
    "start_time": "2021-07-03T16:50:44.043Z"
   },
   {
    "duration": 25,
    "start_time": "2021-07-03T16:50:44.112Z"
   },
   {
    "duration": 54,
    "start_time": "2021-07-03T16:50:44.140Z"
   },
   {
    "duration": 41,
    "start_time": "2021-07-03T16:50:44.196Z"
   },
   {
    "duration": 57,
    "start_time": "2021-07-03T16:50:44.240Z"
   },
   {
    "duration": 386,
    "start_time": "2021-07-04T08:27:00.736Z"
   },
   {
    "duration": 1784,
    "start_time": "2021-07-04T08:27:05.955Z"
   },
   {
    "duration": 17,
    "start_time": "2021-07-04T08:27:07.743Z"
   },
   {
    "duration": 16,
    "start_time": "2021-07-04T08:27:07.767Z"
   },
   {
    "duration": 12,
    "start_time": "2021-07-04T08:27:07.785Z"
   },
   {
    "duration": 106,
    "start_time": "2021-07-04T08:27:07.799Z"
   },
   {
    "duration": 14,
    "start_time": "2021-07-04T08:27:07.908Z"
   },
   {
    "duration": 15,
    "start_time": "2021-07-04T08:27:07.925Z"
   },
   {
    "duration": 59,
    "start_time": "2021-07-04T08:27:07.969Z"
   },
   {
    "duration": 49,
    "start_time": "2021-07-04T08:27:08.031Z"
   },
   {
    "duration": 21,
    "start_time": "2021-07-04T08:27:08.083Z"
   },
   {
    "duration": 65,
    "start_time": "2021-07-04T08:27:08.107Z"
   },
   {
    "duration": 29,
    "start_time": "2021-07-04T08:27:08.174Z"
   },
   {
    "duration": 63,
    "start_time": "2021-07-04T08:27:08.206Z"
   },
   {
    "duration": 23,
    "start_time": "2021-07-04T08:27:08.271Z"
   },
   {
    "duration": 22,
    "start_time": "2021-07-04T08:27:08.297Z"
   },
   {
    "duration": 69,
    "start_time": "2021-07-04T08:27:08.322Z"
   },
   {
    "duration": 12,
    "start_time": "2021-07-04T08:27:08.393Z"
   },
   {
    "duration": 66,
    "start_time": "2021-07-04T08:27:08.408Z"
   },
   {
    "duration": 32,
    "start_time": "2021-07-04T08:27:08.476Z"
   },
   {
    "duration": 58,
    "start_time": "2021-07-04T08:27:08.511Z"
   },
   {
    "duration": 49,
    "start_time": "2021-07-04T08:27:08.572Z"
   },
   {
    "duration": 73,
    "start_time": "2021-07-04T08:27:08.625Z"
   },
   {
    "duration": 19,
    "start_time": "2021-07-04T08:27:08.705Z"
   },
   {
    "duration": 5153,
    "start_time": "2021-07-04T08:27:08.727Z"
   },
   {
    "duration": 6,
    "start_time": "2021-07-04T08:27:13.884Z"
   },
   {
    "duration": 11,
    "start_time": "2021-07-04T08:27:13.893Z"
   },
   {
    "duration": 91,
    "start_time": "2021-07-04T08:27:13.907Z"
   },
   {
    "duration": 24,
    "start_time": "2021-07-04T08:27:14.000Z"
   },
   {
    "duration": 6,
    "start_time": "2021-07-04T08:27:14.027Z"
   },
   {
    "duration": 59,
    "start_time": "2021-07-04T08:27:14.036Z"
   },
   {
    "duration": 28,
    "start_time": "2021-07-04T08:27:14.098Z"
   },
   {
    "duration": 51,
    "start_time": "2021-07-04T08:27:14.129Z"
   },
   {
    "duration": 38,
    "start_time": "2021-07-04T08:27:14.183Z"
   },
   {
    "duration": 61,
    "start_time": "2021-07-04T08:27:14.224Z"
   },
   {
    "duration": 12,
    "start_time": "2021-07-04T08:32:17.678Z"
   },
   {
    "duration": 18,
    "start_time": "2021-07-04T08:32:43.951Z"
   },
   {
    "duration": 15,
    "start_time": "2021-07-04T08:33:53.987Z"
   },
   {
    "duration": 15,
    "start_time": "2021-07-04T08:34:22.077Z"
   },
   {
    "duration": 12,
    "start_time": "2021-07-04T08:36:14.669Z"
   },
   {
    "duration": -55,
    "start_time": "2021-07-04T08:36:35.289Z"
   },
   {
    "duration": 7532,
    "start_time": "2021-07-04T08:36:44.881Z"
   },
   {
    "duration": 7679,
    "start_time": "2021-07-04T08:36:55.655Z"
   },
   {
    "duration": 7908,
    "start_time": "2021-07-04T08:37:15.072Z"
   },
   {
    "duration": 194,
    "start_time": "2021-07-04T08:37:40.872Z"
   },
   {
    "duration": 12,
    "start_time": "2021-07-04T08:37:41.068Z"
   },
   {
    "duration": 12,
    "start_time": "2021-07-04T08:37:41.084Z"
   },
   {
    "duration": 14,
    "start_time": "2021-07-04T08:37:41.099Z"
   },
   {
    "duration": 121,
    "start_time": "2021-07-04T08:37:41.115Z"
   },
   {
    "duration": 36,
    "start_time": "2021-07-04T08:37:41.239Z"
   },
   {
    "duration": 7673,
    "start_time": "2021-07-04T08:37:41.278Z"
   },
   {
    "duration": -83,
    "start_time": "2021-07-04T08:37:49.037Z"
   },
   {
    "duration": -85,
    "start_time": "2021-07-04T08:37:49.041Z"
   },
   {
    "duration": -88,
    "start_time": "2021-07-04T08:37:49.045Z"
   },
   {
    "duration": -90,
    "start_time": "2021-07-04T08:37:49.049Z"
   },
   {
    "duration": -94,
    "start_time": "2021-07-04T08:37:49.054Z"
   },
   {
    "duration": -99,
    "start_time": "2021-07-04T08:37:49.060Z"
   },
   {
    "duration": -100,
    "start_time": "2021-07-04T08:37:49.063Z"
   },
   {
    "duration": -106,
    "start_time": "2021-07-04T08:37:49.070Z"
   },
   {
    "duration": -108,
    "start_time": "2021-07-04T08:37:49.073Z"
   },
   {
    "duration": -110,
    "start_time": "2021-07-04T08:37:49.077Z"
   },
   {
    "duration": -112,
    "start_time": "2021-07-04T08:37:49.080Z"
   },
   {
    "duration": -115,
    "start_time": "2021-07-04T08:37:49.084Z"
   },
   {
    "duration": -118,
    "start_time": "2021-07-04T08:37:49.089Z"
   },
   {
    "duration": -122,
    "start_time": "2021-07-04T08:37:49.094Z"
   },
   {
    "duration": -133,
    "start_time": "2021-07-04T08:37:49.107Z"
   },
   {
    "duration": -139,
    "start_time": "2021-07-04T08:37:49.114Z"
   },
   {
    "duration": -144,
    "start_time": "2021-07-04T08:37:49.120Z"
   },
   {
    "duration": -151,
    "start_time": "2021-07-04T08:37:49.129Z"
   },
   {
    "duration": -154,
    "start_time": "2021-07-04T08:37:49.133Z"
   },
   {
    "duration": -163,
    "start_time": "2021-07-04T08:37:49.144Z"
   },
   {
    "duration": -166,
    "start_time": "2021-07-04T08:37:49.148Z"
   },
   {
    "duration": -172,
    "start_time": "2021-07-04T08:37:49.156Z"
   },
   {
    "duration": -179,
    "start_time": "2021-07-04T08:37:49.164Z"
   },
   {
    "duration": -183,
    "start_time": "2021-07-04T08:37:49.169Z"
   },
   {
    "duration": -191,
    "start_time": "2021-07-04T08:37:49.179Z"
   },
   {
    "duration": -194,
    "start_time": "2021-07-04T08:37:49.183Z"
   },
   {
    "duration": -197,
    "start_time": "2021-07-04T08:37:49.188Z"
   },
   {
    "duration": -205,
    "start_time": "2021-07-04T08:37:49.197Z"
   },
   {
    "duration": 14,
    "start_time": "2021-07-04T08:38:27.119Z"
   },
   {
    "duration": 33,
    "start_time": "2021-07-04T08:39:17.145Z"
   },
   {
    "duration": 7529,
    "start_time": "2021-07-04T08:45:16.744Z"
   },
   {
    "duration": 14,
    "start_time": "2021-07-04T08:45:40.847Z"
   },
   {
    "duration": 20,
    "start_time": "2021-07-04T08:47:49.521Z"
   },
   {
    "duration": 14,
    "start_time": "2021-07-04T08:47:54.290Z"
   },
   {
    "duration": 104,
    "start_time": "2021-07-04T08:49:59.758Z"
   },
   {
    "duration": 98,
    "start_time": "2021-07-04T08:50:05.079Z"
   },
   {
    "duration": 12,
    "start_time": "2021-07-04T08:50:12.642Z"
   },
   {
    "duration": 21,
    "start_time": "2021-07-04T09:15:10.719Z"
   },
   {
    "duration": 19,
    "start_time": "2021-07-04T09:15:13.691Z"
   },
   {
    "duration": 182,
    "start_time": "2021-07-04T09:24:39.619Z"
   },
   {
    "duration": 13,
    "start_time": "2021-07-04T09:24:39.804Z"
   },
   {
    "duration": 14,
    "start_time": "2021-07-04T09:24:39.821Z"
   },
   {
    "duration": 14,
    "start_time": "2021-07-04T09:24:39.867Z"
   },
   {
    "duration": 12,
    "start_time": "2021-07-04T09:24:39.883Z"
   },
   {
    "duration": 112,
    "start_time": "2021-07-04T09:24:39.898Z"
   },
   {
    "duration": 105,
    "start_time": "2021-07-04T09:24:40.012Z"
   },
   {
    "duration": -68,
    "start_time": "2021-07-04T09:24:40.189Z"
   },
   {
    "duration": -71,
    "start_time": "2021-07-04T09:24:40.194Z"
   },
   {
    "duration": -74,
    "start_time": "2021-07-04T09:24:40.198Z"
   },
   {
    "duration": -77,
    "start_time": "2021-07-04T09:24:40.203Z"
   },
   {
    "duration": -80,
    "start_time": "2021-07-04T09:24:40.207Z"
   },
   {
    "duration": -105,
    "start_time": "2021-07-04T09:24:40.234Z"
   },
   {
    "duration": -112,
    "start_time": "2021-07-04T09:24:40.242Z"
   },
   {
    "duration": -116,
    "start_time": "2021-07-04T09:24:40.247Z"
   },
   {
    "duration": -118,
    "start_time": "2021-07-04T09:24:40.251Z"
   },
   {
    "duration": -120,
    "start_time": "2021-07-04T09:24:40.254Z"
   },
   {
    "duration": -126,
    "start_time": "2021-07-04T09:24:40.261Z"
   },
   {
    "duration": -127,
    "start_time": "2021-07-04T09:24:40.264Z"
   },
   {
    "duration": -130,
    "start_time": "2021-07-04T09:24:40.269Z"
   },
   {
    "duration": -131,
    "start_time": "2021-07-04T09:24:40.272Z"
   },
   {
    "duration": -134,
    "start_time": "2021-07-04T09:24:40.276Z"
   },
   {
    "duration": -136,
    "start_time": "2021-07-04T09:24:40.280Z"
   },
   {
    "duration": -138,
    "start_time": "2021-07-04T09:24:40.283Z"
   },
   {
    "duration": -141,
    "start_time": "2021-07-04T09:24:40.287Z"
   },
   {
    "duration": -143,
    "start_time": "2021-07-04T09:24:40.290Z"
   },
   {
    "duration": -149,
    "start_time": "2021-07-04T09:24:40.297Z"
   },
   {
    "duration": -151,
    "start_time": "2021-07-04T09:24:40.300Z"
   },
   {
    "duration": -153,
    "start_time": "2021-07-04T09:24:40.303Z"
   },
   {
    "duration": -156,
    "start_time": "2021-07-04T09:24:40.307Z"
   },
   {
    "duration": -159,
    "start_time": "2021-07-04T09:24:40.311Z"
   },
   {
    "duration": -162,
    "start_time": "2021-07-04T09:24:40.315Z"
   },
   {
    "duration": -163,
    "start_time": "2021-07-04T09:24:40.318Z"
   },
   {
    "duration": -166,
    "start_time": "2021-07-04T09:24:40.322Z"
   },
   {
    "duration": -158,
    "start_time": "2021-07-04T09:24:40.325Z"
   },
   {
    "duration": 20,
    "start_time": "2021-07-04T09:26:24.791Z"
   },
   {
    "duration": 51,
    "start_time": "2021-07-04T09:36:22.049Z"
   },
   {
    "duration": 31,
    "start_time": "2021-07-04T09:36:30.311Z"
   },
   {
    "duration": 25,
    "start_time": "2021-07-04T09:38:38.373Z"
   },
   {
    "duration": 23,
    "start_time": "2021-07-04T09:38:40.864Z"
   },
   {
    "duration": 32,
    "start_time": "2021-07-04T09:38:43.534Z"
   },
   {
    "duration": 11,
    "start_time": "2021-07-04T09:38:48.882Z"
   },
   {
    "duration": 15,
    "start_time": "2021-07-04T09:47:24.417Z"
   },
   {
    "duration": 56,
    "start_time": "2021-07-04T09:47:30.964Z"
   },
   {
    "duration": 11,
    "start_time": "2021-07-04T09:47:41.008Z"
   },
   {
    "duration": 96,
    "start_time": "2021-07-04T09:47:52.085Z"
   },
   {
    "duration": 15,
    "start_time": "2021-07-04T09:47:56.003Z"
   },
   {
    "duration": 326,
    "start_time": "2021-07-04T09:48:38.411Z"
   },
   {
    "duration": 328,
    "start_time": "2021-07-04T09:48:44.922Z"
   },
   {
    "duration": 12,
    "start_time": "2021-07-04T09:49:53.403Z"
   },
   {
    "duration": 301,
    "start_time": "2021-07-04T10:00:39.492Z"
   },
   {
    "duration": 71,
    "start_time": "2021-07-04T10:01:11.559Z"
   },
   {
    "duration": 125,
    "start_time": "2021-07-04T10:03:01.202Z"
   },
   {
    "duration": 354,
    "start_time": "2021-07-04T10:03:05.200Z"
   },
   {
    "duration": 124,
    "start_time": "2021-07-04T10:03:27.264Z"
   },
   {
    "duration": 27,
    "start_time": "2021-07-04T10:14:12.829Z"
   },
   {
    "duration": 20,
    "start_time": "2021-07-04T10:14:15.642Z"
   },
   {
    "duration": 287,
    "start_time": "2021-07-04T10:15:30.049Z"
   },
   {
    "duration": 51,
    "start_time": "2021-07-04T10:15:30.340Z"
   },
   {
    "duration": 26,
    "start_time": "2021-07-04T10:15:30.395Z"
   },
   {
    "duration": 22,
    "start_time": "2021-07-04T10:15:30.424Z"
   },
   {
    "duration": 32,
    "start_time": "2021-07-04T10:15:30.449Z"
   },
   {
    "duration": 27,
    "start_time": "2021-07-04T10:15:30.483Z"
   },
   {
    "duration": 144,
    "start_time": "2021-07-04T10:15:30.514Z"
   },
   {
    "duration": 109,
    "start_time": "2021-07-04T10:15:30.669Z"
   },
   {
    "duration": -60,
    "start_time": "2021-07-04T10:15:30.842Z"
   },
   {
    "duration": -64,
    "start_time": "2021-07-04T10:15:30.848Z"
   },
   {
    "duration": -67,
    "start_time": "2021-07-04T10:15:30.852Z"
   },
   {
    "duration": -78,
    "start_time": "2021-07-04T10:15:30.865Z"
   },
   {
    "duration": -82,
    "start_time": "2021-07-04T10:15:30.870Z"
   },
   {
    "duration": -85,
    "start_time": "2021-07-04T10:15:30.875Z"
   },
   {
    "duration": -88,
    "start_time": "2021-07-04T10:15:30.879Z"
   },
   {
    "duration": -92,
    "start_time": "2021-07-04T10:15:30.884Z"
   },
   {
    "duration": -96,
    "start_time": "2021-07-04T10:15:30.889Z"
   },
   {
    "duration": -100,
    "start_time": "2021-07-04T10:15:30.895Z"
   },
   {
    "duration": -105,
    "start_time": "2021-07-04T10:15:30.901Z"
   },
   {
    "duration": -130,
    "start_time": "2021-07-04T10:15:30.928Z"
   },
   {
    "duration": -133,
    "start_time": "2021-07-04T10:15:30.932Z"
   },
   {
    "duration": -135,
    "start_time": "2021-07-04T10:15:30.937Z"
   },
   {
    "duration": -137,
    "start_time": "2021-07-04T10:15:30.941Z"
   },
   {
    "duration": -139,
    "start_time": "2021-07-04T10:15:30.945Z"
   },
   {
    "duration": -141,
    "start_time": "2021-07-04T10:15:30.949Z"
   },
   {
    "duration": -143,
    "start_time": "2021-07-04T10:15:30.953Z"
   },
   {
    "duration": -153,
    "start_time": "2021-07-04T10:15:30.965Z"
   },
   {
    "duration": -155,
    "start_time": "2021-07-04T10:15:30.969Z"
   },
   {
    "duration": -157,
    "start_time": "2021-07-04T10:15:30.973Z"
   },
   {
    "duration": -159,
    "start_time": "2021-07-04T10:15:30.977Z"
   },
   {
    "duration": -161,
    "start_time": "2021-07-04T10:15:30.981Z"
   },
   {
    "duration": -164,
    "start_time": "2021-07-04T10:15:30.985Z"
   },
   {
    "duration": -121,
    "start_time": "2021-07-04T10:15:30.989Z"
   },
   {
    "duration": -125,
    "start_time": "2021-07-04T10:15:30.995Z"
   },
   {
    "duration": -127,
    "start_time": "2021-07-04T10:15:30.999Z"
   },
   {
    "duration": -129,
    "start_time": "2021-07-04T10:15:31.003Z"
   },
   {
    "duration": -131,
    "start_time": "2021-07-04T10:15:31.007Z"
   },
   {
    "duration": -133,
    "start_time": "2021-07-04T10:15:31.011Z"
   },
   {
    "duration": -135,
    "start_time": "2021-07-04T10:15:31.015Z"
   },
   {
    "duration": 208,
    "start_time": "2021-07-04T10:16:20.227Z"
   },
   {
    "duration": 39,
    "start_time": "2021-07-04T10:16:20.438Z"
   },
   {
    "duration": 19,
    "start_time": "2021-07-04T10:16:20.480Z"
   },
   {
    "duration": 15,
    "start_time": "2021-07-04T10:16:20.502Z"
   },
   {
    "duration": 52,
    "start_time": "2021-07-04T10:16:20.520Z"
   },
   {
    "duration": 14,
    "start_time": "2021-07-04T10:16:20.575Z"
   },
   {
    "duration": 136,
    "start_time": "2021-07-04T10:16:20.592Z"
   },
   {
    "duration": 45,
    "start_time": "2021-07-04T10:16:20.733Z"
   },
   {
    "duration": 102,
    "start_time": "2021-07-04T10:16:20.782Z"
   },
   {
    "duration": -89,
    "start_time": "2021-07-04T10:16:20.976Z"
   },
   {
    "duration": -94,
    "start_time": "2021-07-04T10:16:20.983Z"
   },
   {
    "duration": -98,
    "start_time": "2021-07-04T10:16:20.988Z"
   },
   {
    "duration": -102,
    "start_time": "2021-07-04T10:16:20.993Z"
   },
   {
    "duration": -106,
    "start_time": "2021-07-04T10:16:20.998Z"
   },
   {
    "duration": -110,
    "start_time": "2021-07-04T10:16:21.003Z"
   },
   {
    "duration": -117,
    "start_time": "2021-07-04T10:16:21.012Z"
   },
   {
    "duration": -123,
    "start_time": "2021-07-04T10:16:21.020Z"
   },
   {
    "duration": -129,
    "start_time": "2021-07-04T10:16:21.027Z"
   },
   {
    "duration": -140,
    "start_time": "2021-07-04T10:16:21.039Z"
   },
   {
    "duration": -143,
    "start_time": "2021-07-04T10:16:21.044Z"
   },
   {
    "duration": -146,
    "start_time": "2021-07-04T10:16:21.048Z"
   },
   {
    "duration": -176,
    "start_time": "2021-07-04T10:16:21.079Z"
   },
   {
    "duration": -179,
    "start_time": "2021-07-04T10:16:21.084Z"
   },
   {
    "duration": -182,
    "start_time": "2021-07-04T10:16:21.088Z"
   },
   {
    "duration": -185,
    "start_time": "2021-07-04T10:16:21.093Z"
   },
   {
    "duration": -188,
    "start_time": "2021-07-04T10:16:21.097Z"
   },
   {
    "duration": -192,
    "start_time": "2021-07-04T10:16:21.102Z"
   },
   {
    "duration": -203,
    "start_time": "2021-07-04T10:16:21.115Z"
   },
   {
    "duration": -206,
    "start_time": "2021-07-04T10:16:21.119Z"
   },
   {
    "duration": -208,
    "start_time": "2021-07-04T10:16:21.123Z"
   },
   {
    "duration": -210,
    "start_time": "2021-07-04T10:16:21.126Z"
   },
   {
    "duration": -212,
    "start_time": "2021-07-04T10:16:21.130Z"
   },
   {
    "duration": -215,
    "start_time": "2021-07-04T10:16:21.134Z"
   },
   {
    "duration": -218,
    "start_time": "2021-07-04T10:16:21.138Z"
   },
   {
    "duration": -220,
    "start_time": "2021-07-04T10:16:21.141Z"
   },
   {
    "duration": -222,
    "start_time": "2021-07-04T10:16:21.145Z"
   },
   {
    "duration": -225,
    "start_time": "2021-07-04T10:16:21.149Z"
   },
   {
    "duration": -228,
    "start_time": "2021-07-04T10:16:21.153Z"
   },
   {
    "duration": 20,
    "start_time": "2021-07-04T10:16:44.179Z"
   },
   {
    "duration": 153,
    "start_time": "2021-07-04T10:16:48.485Z"
   },
   {
    "duration": 159,
    "start_time": "2021-07-04T10:16:58.882Z"
   },
   {
    "duration": 48,
    "start_time": "2021-07-04T10:16:59.045Z"
   },
   {
    "duration": 26,
    "start_time": "2021-07-04T10:16:59.098Z"
   },
   {
    "duration": 46,
    "start_time": "2021-07-04T10:16:59.128Z"
   },
   {
    "duration": 19,
    "start_time": "2021-07-04T10:16:59.177Z"
   },
   {
    "duration": 11,
    "start_time": "2021-07-04T10:16:59.198Z"
   },
   {
    "duration": 124,
    "start_time": "2021-07-04T10:16:59.212Z"
   },
   {
    "duration": 39,
    "start_time": "2021-07-04T10:16:59.340Z"
   },
   {
    "duration": 19,
    "start_time": "2021-07-04T10:16:59.382Z"
   },
   {
    "duration": 14,
    "start_time": "2021-07-04T10:16:59.404Z"
   },
   {
    "duration": 92,
    "start_time": "2021-07-04T10:16:59.420Z"
   },
   {
    "duration": 52,
    "start_time": "2021-07-04T10:16:59.515Z"
   },
   {
    "duration": 28,
    "start_time": "2021-07-04T10:16:59.570Z"
   },
   {
    "duration": 22,
    "start_time": "2021-07-04T10:16:59.601Z"
   },
   {
    "duration": 57,
    "start_time": "2021-07-04T10:16:59.625Z"
   },
   {
    "duration": 33,
    "start_time": "2021-07-04T10:16:59.684Z"
   },
   {
    "duration": 13,
    "start_time": "2021-07-04T10:16:59.719Z"
   },
   {
    "duration": 39,
    "start_time": "2021-07-04T10:16:59.735Z"
   },
   {
    "duration": 155,
    "start_time": "2021-07-04T10:16:59.777Z"
   },
   {
    "duration": 66,
    "start_time": "2021-07-04T10:16:59.936Z"
   },
   {
    "duration": 65,
    "start_time": "2021-07-04T10:17:00.005Z"
   },
   {
    "duration": 42,
    "start_time": "2021-07-04T10:17:00.074Z"
   },
   {
    "duration": 93,
    "start_time": "2021-07-04T10:17:00.124Z"
   },
   {
    "duration": 78,
    "start_time": "2021-07-04T10:17:00.221Z"
   },
   {
    "duration": 30,
    "start_time": "2021-07-04T10:17:00.302Z"
   },
   {
    "duration": 7270,
    "start_time": "2021-07-04T10:17:00.335Z"
   },
   {
    "duration": 6,
    "start_time": "2021-07-04T10:17:07.608Z"
   },
   {
    "duration": 11,
    "start_time": "2021-07-04T10:17:07.617Z"
   },
   {
    "duration": 63,
    "start_time": "2021-07-04T10:17:07.631Z"
   },
   {
    "duration": 23,
    "start_time": "2021-07-04T10:17:07.697Z"
   },
   {
    "duration": 7,
    "start_time": "2021-07-04T10:17:07.722Z"
   },
   {
    "duration": 62,
    "start_time": "2021-07-04T10:17:07.731Z"
   },
   {
    "duration": 25,
    "start_time": "2021-07-04T10:17:07.795Z"
   },
   {
    "duration": 68,
    "start_time": "2021-07-04T10:17:07.823Z"
   },
   {
    "duration": 81,
    "start_time": "2021-07-04T10:17:07.894Z"
   },
   {
    "duration": 47,
    "start_time": "2021-07-04T10:17:07.978Z"
   },
   {
    "duration": 15,
    "start_time": "2021-07-04T10:20:46.310Z"
   },
   {
    "duration": 20,
    "start_time": "2021-07-04T10:23:04.535Z"
   },
   {
    "duration": 20,
    "start_time": "2021-07-04T10:23:15.173Z"
   },
   {
    "duration": 95,
    "start_time": "2021-07-04T10:23:33.145Z"
   },
   {
    "duration": 359,
    "start_time": "2021-07-04T10:24:07.192Z"
   },
   {
    "duration": 51,
    "start_time": "2021-07-04T10:24:15.160Z"
   },
   {
    "duration": 24,
    "start_time": "2021-07-04T12:37:00.806Z"
   },
   {
    "duration": 30,
    "start_time": "2021-07-04T12:43:01.562Z"
   },
   {
    "duration": 52,
    "start_time": "2021-07-04T12:50:29.614Z"
   },
   {
    "duration": 33,
    "start_time": "2021-07-04T12:57:43.880Z"
   },
   {
    "duration": 72,
    "start_time": "2021-07-04T12:57:56.751Z"
   },
   {
    "duration": 148,
    "start_time": "2021-07-04T12:58:29.744Z"
   },
   {
    "duration": 20,
    "start_time": "2021-07-04T12:59:06.567Z"
   },
   {
    "duration": 209,
    "start_time": "2021-07-04T12:59:16.796Z"
   },
   {
    "duration": 20,
    "start_time": "2021-07-04T12:59:17.008Z"
   },
   {
    "duration": 36,
    "start_time": "2021-07-04T12:59:17.032Z"
   },
   {
    "duration": 16,
    "start_time": "2021-07-04T12:59:17.070Z"
   },
   {
    "duration": 17,
    "start_time": "2021-07-04T12:59:17.089Z"
   },
   {
    "duration": 14,
    "start_time": "2021-07-04T12:59:17.109Z"
   },
   {
    "duration": 170,
    "start_time": "2021-07-04T12:59:17.126Z"
   },
   {
    "duration": 29,
    "start_time": "2021-07-04T12:59:17.302Z"
   },
   {
    "duration": 54,
    "start_time": "2021-07-04T12:59:17.335Z"
   },
   {
    "duration": 18,
    "start_time": "2021-07-04T12:59:17.391Z"
   },
   {
    "duration": 59,
    "start_time": "2021-07-04T12:59:17.412Z"
   },
   {
    "duration": 29,
    "start_time": "2021-07-04T12:59:17.474Z"
   },
   {
    "duration": 23,
    "start_time": "2021-07-04T12:59:17.506Z"
   },
   {
    "duration": 56,
    "start_time": "2021-07-04T12:59:17.532Z"
   },
   {
    "duration": 34,
    "start_time": "2021-07-04T12:59:17.591Z"
   },
   {
    "duration": 42,
    "start_time": "2021-07-04T12:59:17.627Z"
   },
   {
    "duration": 10,
    "start_time": "2021-07-04T12:59:17.672Z"
   },
   {
    "duration": 14,
    "start_time": "2021-07-04T12:59:17.684Z"
   },
   {
    "duration": 22,
    "start_time": "2021-07-04T12:59:17.700Z"
   },
   {
    "duration": 116,
    "start_time": "2021-07-04T12:59:17.725Z"
   },
   {
    "duration": 1233,
    "start_time": "2021-07-04T12:59:17.844Z"
   },
   {
    "duration": -208,
    "start_time": "2021-07-04T12:59:19.288Z"
   },
   {
    "duration": -210,
    "start_time": "2021-07-04T12:59:19.292Z"
   },
   {
    "duration": -215,
    "start_time": "2021-07-04T12:59:19.298Z"
   },
   {
    "duration": -217,
    "start_time": "2021-07-04T12:59:19.301Z"
   },
   {
    "duration": -219,
    "start_time": "2021-07-04T12:59:19.305Z"
   },
   {
    "duration": -221,
    "start_time": "2021-07-04T12:59:19.308Z"
   },
   {
    "duration": -224,
    "start_time": "2021-07-04T12:59:19.312Z"
   },
   {
    "duration": -226,
    "start_time": "2021-07-04T12:59:19.316Z"
   },
   {
    "duration": -229,
    "start_time": "2021-07-04T12:59:19.320Z"
   },
   {
    "duration": -230,
    "start_time": "2021-07-04T12:59:19.323Z"
   },
   {
    "duration": -233,
    "start_time": "2021-07-04T12:59:19.327Z"
   },
   {
    "duration": -236,
    "start_time": "2021-07-04T12:59:19.331Z"
   },
   {
    "duration": -237,
    "start_time": "2021-07-04T12:59:19.334Z"
   },
   {
    "duration": -240,
    "start_time": "2021-07-04T12:59:19.338Z"
   },
   {
    "duration": -243,
    "start_time": "2021-07-04T12:59:19.342Z"
   },
   {
    "duration": -244,
    "start_time": "2021-07-04T12:59:19.345Z"
   },
   {
    "duration": 107,
    "start_time": "2021-07-04T13:00:19.737Z"
   },
   {
    "duration": 21,
    "start_time": "2021-07-04T13:00:26.192Z"
   },
   {
    "duration": 49,
    "start_time": "2021-07-04T13:00:39.571Z"
   },
   {
    "duration": 324,
    "start_time": "2021-07-04T13:00:53.969Z"
   },
   {
    "duration": 213,
    "start_time": "2021-07-04T13:01:16.415Z"
   },
   {
    "duration": 36,
    "start_time": "2021-07-04T13:01:16.632Z"
   },
   {
    "duration": 33,
    "start_time": "2021-07-04T13:01:16.672Z"
   },
   {
    "duration": 18,
    "start_time": "2021-07-04T13:01:16.709Z"
   },
   {
    "duration": 41,
    "start_time": "2021-07-04T13:01:16.730Z"
   },
   {
    "duration": 13,
    "start_time": "2021-07-04T13:01:16.775Z"
   },
   {
    "duration": 149,
    "start_time": "2021-07-04T13:01:16.791Z"
   },
   {
    "duration": 40,
    "start_time": "2021-07-04T13:01:16.945Z"
   },
   {
    "duration": 26,
    "start_time": "2021-07-04T13:01:16.989Z"
   },
   {
    "duration": 51,
    "start_time": "2021-07-04T13:01:17.018Z"
   },
   {
    "duration": 47,
    "start_time": "2021-07-04T13:01:17.072Z"
   },
   {
    "duration": 55,
    "start_time": "2021-07-04T13:01:17.121Z"
   },
   {
    "duration": 25,
    "start_time": "2021-07-04T13:01:17.180Z"
   },
   {
    "duration": 25,
    "start_time": "2021-07-04T13:01:17.208Z"
   },
   {
    "duration": 34,
    "start_time": "2021-07-04T13:01:17.268Z"
   },
   {
    "duration": 13,
    "start_time": "2021-07-04T13:01:17.305Z"
   },
   {
    "duration": 12,
    "start_time": "2021-07-04T13:01:17.321Z"
   },
   {
    "duration": 16,
    "start_time": "2021-07-04T13:01:17.368Z"
   },
   {
    "duration": 30,
    "start_time": "2021-07-04T13:01:17.387Z"
   },
   {
    "duration": 75,
    "start_time": "2021-07-04T13:01:17.420Z"
   },
   {
    "duration": 332,
    "start_time": "2021-07-04T13:01:17.498Z"
   },
   {
    "duration": -152,
    "start_time": "2021-07-04T13:01:17.986Z"
   },
   {
    "duration": -155,
    "start_time": "2021-07-04T13:01:17.990Z"
   },
   {
    "duration": -159,
    "start_time": "2021-07-04T13:01:17.996Z"
   },
   {
    "duration": -161,
    "start_time": "2021-07-04T13:01:18.000Z"
   },
   {
    "duration": -163,
    "start_time": "2021-07-04T13:01:18.003Z"
   },
   {
    "duration": -166,
    "start_time": "2021-07-04T13:01:18.008Z"
   },
   {
    "duration": -168,
    "start_time": "2021-07-04T13:01:18.011Z"
   },
   {
    "duration": -170,
    "start_time": "2021-07-04T13:01:18.015Z"
   },
   {
    "duration": -172,
    "start_time": "2021-07-04T13:01:18.019Z"
   },
   {
    "duration": -173,
    "start_time": "2021-07-04T13:01:18.023Z"
   },
   {
    "duration": -174,
    "start_time": "2021-07-04T13:01:18.026Z"
   },
   {
    "duration": -175,
    "start_time": "2021-07-04T13:01:18.030Z"
   },
   {
    "duration": -177,
    "start_time": "2021-07-04T13:01:18.034Z"
   },
   {
    "duration": -179,
    "start_time": "2021-07-04T13:01:18.038Z"
   },
   {
    "duration": -180,
    "start_time": "2021-07-04T13:01:18.041Z"
   },
   {
    "duration": -182,
    "start_time": "2021-07-04T13:01:18.045Z"
   },
   {
    "duration": 35,
    "start_time": "2021-07-04T13:01:57.115Z"
   },
   {
    "duration": 324,
    "start_time": "2021-07-04T13:02:07.578Z"
   },
   {
    "duration": 13,
    "start_time": "2021-07-04T13:02:52.868Z"
   },
   {
    "duration": 343,
    "start_time": "2021-07-04T13:05:15.540Z"
   },
   {
    "duration": 200,
    "start_time": "2021-07-04T13:05:56.738Z"
   },
   {
    "duration": 32,
    "start_time": "2021-07-04T13:05:56.942Z"
   },
   {
    "duration": 31,
    "start_time": "2021-07-04T13:05:56.978Z"
   },
   {
    "duration": 15,
    "start_time": "2021-07-04T13:05:57.012Z"
   },
   {
    "duration": 42,
    "start_time": "2021-07-04T13:05:57.031Z"
   },
   {
    "duration": 12,
    "start_time": "2021-07-04T13:05:57.076Z"
   },
   {
    "duration": 110,
    "start_time": "2021-07-04T13:05:57.094Z"
   },
   {
    "duration": 24,
    "start_time": "2021-07-04T13:05:57.208Z"
   },
   {
    "duration": 50,
    "start_time": "2021-07-04T13:05:57.235Z"
   },
   {
    "duration": 13,
    "start_time": "2021-07-04T13:05:57.287Z"
   },
   {
    "duration": 31,
    "start_time": "2021-07-04T13:05:57.303Z"
   },
   {
    "duration": 29,
    "start_time": "2021-07-04T13:05:57.368Z"
   },
   {
    "duration": 35380,
    "start_time": "2021-07-04T13:05:57.400Z"
   },
   {
    "duration": -207,
    "start_time": "2021-07-04T13:06:32.992Z"
   },
   {
    "duration": -212,
    "start_time": "2021-07-04T13:06:32.999Z"
   },
   {
    "duration": -218,
    "start_time": "2021-07-04T13:06:33.007Z"
   },
   {
    "duration": -222,
    "start_time": "2021-07-04T13:06:33.013Z"
   },
   {
    "duration": -225,
    "start_time": "2021-07-04T13:06:33.018Z"
   },
   {
    "duration": -230,
    "start_time": "2021-07-04T13:06:33.025Z"
   },
   {
    "duration": -237,
    "start_time": "2021-07-04T13:06:33.034Z"
   },
   {
    "duration": -241,
    "start_time": "2021-07-04T13:06:33.040Z"
   },
   {
    "duration": -244,
    "start_time": "2021-07-04T13:06:33.045Z"
   },
   {
    "duration": -247,
    "start_time": "2021-07-04T13:06:33.050Z"
   },
   {
    "duration": -261,
    "start_time": "2021-07-04T13:06:33.066Z"
   },
   {
    "duration": -266,
    "start_time": "2021-07-04T13:06:33.073Z"
   },
   {
    "duration": -269,
    "start_time": "2021-07-04T13:06:33.078Z"
   },
   {
    "duration": -273,
    "start_time": "2021-07-04T13:06:33.084Z"
   },
   {
    "duration": -277,
    "start_time": "2021-07-04T13:06:33.089Z"
   },
   {
    "duration": -280,
    "start_time": "2021-07-04T13:06:33.094Z"
   },
   {
    "duration": -282,
    "start_time": "2021-07-04T13:06:33.099Z"
   },
   {
    "duration": -285,
    "start_time": "2021-07-04T13:06:33.104Z"
   },
   {
    "duration": -287,
    "start_time": "2021-07-04T13:06:33.108Z"
   },
   {
    "duration": -245,
    "start_time": "2021-07-04T13:06:33.112Z"
   },
   {
    "duration": -247,
    "start_time": "2021-07-04T13:06:33.116Z"
   },
   {
    "duration": -250,
    "start_time": "2021-07-04T13:06:33.121Z"
   },
   {
    "duration": -252,
    "start_time": "2021-07-04T13:06:33.125Z"
   },
   {
    "duration": -254,
    "start_time": "2021-07-04T13:06:33.129Z"
   },
   {
    "duration": -256,
    "start_time": "2021-07-04T13:06:33.133Z"
   },
   {
    "duration": 41534,
    "start_time": "2021-07-04T13:09:08.154Z"
   },
   {
    "duration": 313,
    "start_time": "2021-07-04T13:10:58.770Z"
   },
   {
    "duration": 4,
    "start_time": "2021-07-04T13:11:06.144Z"
   },
   {
    "duration": 20,
    "start_time": "2021-07-04T13:12:08.555Z"
   },
   {
    "duration": 20,
    "start_time": "2021-07-04T13:12:17.763Z"
   },
   {
    "duration": 22,
    "start_time": "2021-07-04T13:12:33.997Z"
   },
   {
    "duration": 357,
    "start_time": "2021-07-04T13:13:05.548Z"
   },
   {
    "duration": 315,
    "start_time": "2021-07-04T13:13:17.942Z"
   },
   {
    "duration": 338,
    "start_time": "2021-07-04T13:13:23.695Z"
   },
   {
    "duration": 192,
    "start_time": "2021-07-04T13:13:33.181Z"
   },
   {
    "duration": 21,
    "start_time": "2021-07-04T13:13:33.375Z"
   },
   {
    "duration": 16,
    "start_time": "2021-07-04T13:13:33.399Z"
   },
   {
    "duration": 14,
    "start_time": "2021-07-04T13:13:33.418Z"
   },
   {
    "duration": 13,
    "start_time": "2021-07-04T13:13:33.474Z"
   },
   {
    "duration": 12,
    "start_time": "2021-07-04T13:13:33.489Z"
   },
   {
    "duration": 106,
    "start_time": "2021-07-04T13:13:33.503Z"
   },
   {
    "duration": 20,
    "start_time": "2021-07-04T13:13:33.613Z"
   },
   {
    "duration": 47,
    "start_time": "2021-07-04T13:13:33.636Z"
   },
   {
    "duration": 14,
    "start_time": "2021-07-04T13:13:33.685Z"
   },
   {
    "duration": 31,
    "start_time": "2021-07-04T13:13:33.702Z"
   },
   {
    "duration": 58,
    "start_time": "2021-07-04T13:13:33.735Z"
   },
   {
    "duration": 20,
    "start_time": "2021-07-04T13:13:33.795Z"
   },
   {
    "duration": 55,
    "start_time": "2021-07-04T13:13:33.817Z"
   },
   {
    "duration": 23,
    "start_time": "2021-07-04T13:13:33.874Z"
   },
   {
    "duration": 34,
    "start_time": "2021-07-04T13:13:33.899Z"
   },
   {
    "duration": 37,
    "start_time": "2021-07-04T13:13:33.936Z"
   },
   {
    "duration": 11,
    "start_time": "2021-07-04T13:13:33.975Z"
   },
   {
    "duration": 16,
    "start_time": "2021-07-04T13:13:33.988Z"
   },
   {
    "duration": 65,
    "start_time": "2021-07-04T13:13:34.006Z"
   },
   {
    "duration": 46,
    "start_time": "2021-07-04T13:13:34.074Z"
   },
   {
    "duration": 318,
    "start_time": "2021-07-04T13:13:34.123Z"
   },
   {
    "duration": -174,
    "start_time": "2021-07-04T13:13:34.618Z"
   },
   {
    "duration": -182,
    "start_time": "2021-07-04T13:13:34.628Z"
   },
   {
    "duration": -188,
    "start_time": "2021-07-04T13:13:34.636Z"
   },
   {
    "duration": -195,
    "start_time": "2021-07-04T13:13:34.644Z"
   },
   {
    "duration": -201,
    "start_time": "2021-07-04T13:13:34.652Z"
   },
   {
    "duration": -208,
    "start_time": "2021-07-04T13:13:34.660Z"
   },
   {
    "duration": -214,
    "start_time": "2021-07-04T13:13:34.668Z"
   },
   {
    "duration": -218,
    "start_time": "2021-07-04T13:13:34.673Z"
   },
   {
    "duration": -221,
    "start_time": "2021-07-04T13:13:34.678Z"
   },
   {
    "duration": -225,
    "start_time": "2021-07-04T13:13:34.683Z"
   },
   {
    "duration": -230,
    "start_time": "2021-07-04T13:13:34.689Z"
   },
   {
    "duration": -233,
    "start_time": "2021-07-04T13:13:34.694Z"
   },
   {
    "duration": -237,
    "start_time": "2021-07-04T13:13:34.700Z"
   },
   {
    "duration": -250,
    "start_time": "2021-07-04T13:13:34.714Z"
   },
   {
    "duration": -254,
    "start_time": "2021-07-04T13:13:34.719Z"
   },
   {
    "duration": -258,
    "start_time": "2021-07-04T13:13:34.724Z"
   },
   {
    "duration": 369,
    "start_time": "2021-07-04T13:14:43.149Z"
   },
   {
    "duration": 21,
    "start_time": "2021-07-04T13:14:52.621Z"
   },
   {
    "duration": 358,
    "start_time": "2021-07-04T13:15:03.016Z"
   },
   {
    "duration": 136,
    "start_time": "2021-07-04T13:15:11.255Z"
   },
   {
    "duration": 18,
    "start_time": "2021-07-04T13:15:11.394Z"
   },
   {
    "duration": 52,
    "start_time": "2021-07-04T13:15:11.415Z"
   },
   {
    "duration": 13,
    "start_time": "2021-07-04T13:15:11.470Z"
   },
   {
    "duration": 11,
    "start_time": "2021-07-04T13:15:11.485Z"
   },
   {
    "duration": 11,
    "start_time": "2021-07-04T13:15:11.499Z"
   },
   {
    "duration": 116,
    "start_time": "2021-07-04T13:15:11.512Z"
   },
   {
    "duration": 35,
    "start_time": "2021-07-04T13:15:11.633Z"
   },
   {
    "duration": 19,
    "start_time": "2021-07-04T13:15:11.671Z"
   },
   {
    "duration": 16,
    "start_time": "2021-07-04T13:15:11.693Z"
   },
   {
    "duration": 64,
    "start_time": "2021-07-04T13:15:11.712Z"
   },
   {
    "duration": 29,
    "start_time": "2021-07-04T13:15:11.779Z"
   },
   {
    "duration": 22,
    "start_time": "2021-07-04T13:15:11.810Z"
   },
   {
    "duration": 52,
    "start_time": "2021-07-04T13:15:11.834Z"
   },
   {
    "duration": 24,
    "start_time": "2021-07-04T13:15:11.888Z"
   },
   {
    "duration": 62,
    "start_time": "2021-07-04T13:15:11.915Z"
   },
   {
    "duration": 13,
    "start_time": "2021-07-04T13:15:11.979Z"
   },
   {
    "duration": 10,
    "start_time": "2021-07-04T13:15:11.995Z"
   },
   {
    "duration": 13,
    "start_time": "2021-07-04T13:15:12.007Z"
   },
   {
    "duration": 60,
    "start_time": "2021-07-04T13:15:12.022Z"
   },
   {
    "duration": 46,
    "start_time": "2021-07-04T13:15:12.084Z"
   },
   {
    "duration": 328,
    "start_time": "2021-07-04T13:15:12.132Z"
   },
   {
    "duration": -161,
    "start_time": "2021-07-04T13:15:12.626Z"
   },
   {
    "duration": -168,
    "start_time": "2021-07-04T13:15:12.634Z"
   },
   {
    "duration": -172,
    "start_time": "2021-07-04T13:15:12.640Z"
   },
   {
    "duration": -176,
    "start_time": "2021-07-04T13:15:12.645Z"
   },
   {
    "duration": -184,
    "start_time": "2021-07-04T13:15:12.654Z"
   },
   {
    "duration": -188,
    "start_time": "2021-07-04T13:15:12.660Z"
   },
   {
    "duration": -197,
    "start_time": "2021-07-04T13:15:12.670Z"
   },
   {
    "duration": -203,
    "start_time": "2021-07-04T13:15:12.677Z"
   },
   {
    "duration": -208,
    "start_time": "2021-07-04T13:15:12.684Z"
   },
   {
    "duration": -214,
    "start_time": "2021-07-04T13:15:12.691Z"
   },
   {
    "duration": -220,
    "start_time": "2021-07-04T13:15:12.698Z"
   },
   {
    "duration": -224,
    "start_time": "2021-07-04T13:15:12.703Z"
   },
   {
    "duration": -238,
    "start_time": "2021-07-04T13:15:12.718Z"
   },
   {
    "duration": -243,
    "start_time": "2021-07-04T13:15:12.725Z"
   },
   {
    "duration": -247,
    "start_time": "2021-07-04T13:15:12.730Z"
   },
   {
    "duration": -250,
    "start_time": "2021-07-04T13:15:12.735Z"
   },
   {
    "duration": 110,
    "start_time": "2021-07-04T13:17:30.139Z"
   },
   {
    "duration": 350,
    "start_time": "2021-07-04T13:17:41.408Z"
   },
   {
    "duration": 304,
    "start_time": "2021-07-04T13:17:57.057Z"
   },
   {
    "duration": 314,
    "start_time": "2021-07-04T13:18:13.794Z"
   },
   {
    "duration": 168,
    "start_time": "2021-07-04T13:20:23.472Z"
   },
   {
    "duration": 26,
    "start_time": "2021-07-04T13:20:23.643Z"
   },
   {
    "duration": 17,
    "start_time": "2021-07-04T13:20:23.673Z"
   },
   {
    "duration": 15,
    "start_time": "2021-07-04T13:20:23.693Z"
   },
   {
    "duration": 11,
    "start_time": "2021-07-04T13:20:23.711Z"
   },
   {
    "duration": 52,
    "start_time": "2021-07-04T13:20:23.724Z"
   },
   {
    "duration": 101,
    "start_time": "2021-07-04T13:20:23.779Z"
   },
   {
    "duration": 22,
    "start_time": "2021-07-04T13:20:23.884Z"
   },
   {
    "duration": 20,
    "start_time": "2021-07-04T13:20:23.910Z"
   },
   {
    "duration": 48,
    "start_time": "2021-07-04T13:20:23.932Z"
   },
   {
    "duration": 299,
    "start_time": "2021-07-04T13:20:23.983Z"
   },
   {
    "duration": -71,
    "start_time": "2021-07-04T13:20:24.355Z"
   },
   {
    "duration": -73,
    "start_time": "2021-07-04T13:20:24.359Z"
   },
   {
    "duration": -106,
    "start_time": "2021-07-04T13:20:24.393Z"
   },
   {
    "duration": -116,
    "start_time": "2021-07-04T13:20:24.405Z"
   },
   {
    "duration": -120,
    "start_time": "2021-07-04T13:20:24.410Z"
   },
   {
    "duration": -124,
    "start_time": "2021-07-04T13:20:24.416Z"
   },
   {
    "duration": -129,
    "start_time": "2021-07-04T13:20:24.422Z"
   },
   {
    "duration": -131,
    "start_time": "2021-07-04T13:20:24.426Z"
   },
   {
    "duration": -135,
    "start_time": "2021-07-04T13:20:24.431Z"
   },
   {
    "duration": -138,
    "start_time": "2021-07-04T13:20:24.436Z"
   },
   {
    "duration": -142,
    "start_time": "2021-07-04T13:20:24.441Z"
   },
   {
    "duration": -144,
    "start_time": "2021-07-04T13:20:24.445Z"
   },
   {
    "duration": -148,
    "start_time": "2021-07-04T13:20:24.450Z"
   },
   {
    "duration": -150,
    "start_time": "2021-07-04T13:20:24.454Z"
   },
   {
    "duration": -153,
    "start_time": "2021-07-04T13:20:24.458Z"
   },
   {
    "duration": -155,
    "start_time": "2021-07-04T13:20:24.462Z"
   },
   {
    "duration": -159,
    "start_time": "2021-07-04T13:20:24.467Z"
   },
   {
    "duration": -161,
    "start_time": "2021-07-04T13:20:24.471Z"
   },
   {
    "duration": -172,
    "start_time": "2021-07-04T13:20:24.483Z"
   },
   {
    "duration": -174,
    "start_time": "2021-07-04T13:20:24.487Z"
   },
   {
    "duration": -176,
    "start_time": "2021-07-04T13:20:24.490Z"
   },
   {
    "duration": -178,
    "start_time": "2021-07-04T13:20:24.494Z"
   },
   {
    "duration": -181,
    "start_time": "2021-07-04T13:20:24.498Z"
   },
   {
    "duration": -185,
    "start_time": "2021-07-04T13:20:24.504Z"
   },
   {
    "duration": -188,
    "start_time": "2021-07-04T13:20:24.508Z"
   },
   {
    "duration": 315,
    "start_time": "2021-07-04T13:22:04.061Z"
   },
   {
    "duration": 33,
    "start_time": "2021-07-04T13:22:25.880Z"
   },
   {
    "duration": 32,
    "start_time": "2021-07-04T13:26:42.038Z"
   },
   {
    "duration": 321,
    "start_time": "2021-07-04T13:29:03.693Z"
   },
   {
    "duration": 61,
    "start_time": "2021-07-04T13:29:12.645Z"
   },
   {
    "duration": 461,
    "start_time": "2021-07-04T13:30:16.414Z"
   },
   {
    "duration": 365,
    "start_time": "2021-07-04T13:30:41.439Z"
   },
   {
    "duration": 57,
    "start_time": "2021-07-04T13:30:47.285Z"
   },
   {
    "duration": 308,
    "start_time": "2021-07-04T13:31:00.189Z"
   },
   {
    "duration": 29,
    "start_time": "2021-07-04T13:31:45.064Z"
   },
   {
    "duration": 24,
    "start_time": "2021-07-04T13:32:58.215Z"
   },
   {
    "duration": 34,
    "start_time": "2021-07-04T13:33:10.016Z"
   },
   {
    "duration": 14,
    "start_time": "2021-07-04T13:35:43.571Z"
   },
   {
    "duration": 10,
    "start_time": "2021-07-04T13:35:47.362Z"
   },
   {
    "duration": 30,
    "start_time": "2021-07-04T13:35:53.307Z"
   },
   {
    "duration": 53,
    "start_time": "2021-07-04T13:35:55.081Z"
   },
   {
    "duration": 54,
    "start_time": "2021-07-04T13:38:43.511Z"
   },
   {
    "duration": 173,
    "start_time": "2021-07-04T13:38:59.423Z"
   },
   {
    "duration": 21,
    "start_time": "2021-07-04T13:38:59.598Z"
   },
   {
    "duration": 16,
    "start_time": "2021-07-04T13:38:59.622Z"
   },
   {
    "duration": 37,
    "start_time": "2021-07-04T13:38:59.641Z"
   },
   {
    "duration": 13,
    "start_time": "2021-07-04T13:38:59.681Z"
   },
   {
    "duration": 12,
    "start_time": "2021-07-04T13:38:59.697Z"
   },
   {
    "duration": 148,
    "start_time": "2021-07-04T13:38:59.712Z"
   },
   {
    "duration": 24,
    "start_time": "2021-07-04T13:38:59.863Z"
   },
   {
    "duration": 34,
    "start_time": "2021-07-04T13:38:59.891Z"
   },
   {
    "duration": 15,
    "start_time": "2021-07-04T13:38:59.928Z"
   },
   {
    "duration": 34,
    "start_time": "2021-07-04T13:38:59.966Z"
   },
   {
    "duration": 33,
    "start_time": "2021-07-04T13:39:00.003Z"
   },
   {
    "duration": 90,
    "start_time": "2021-07-04T13:39:00.038Z"
   },
   {
    "duration": 58,
    "start_time": "2021-07-04T13:39:00.131Z"
   },
   {
    "duration": 28,
    "start_time": "2021-07-04T13:39:00.192Z"
   },
   {
    "duration": 26,
    "start_time": "2021-07-04T13:39:00.224Z"
   },
   {
    "duration": 23,
    "start_time": "2021-07-04T13:39:00.253Z"
   },
   {
    "duration": 42,
    "start_time": "2021-07-04T13:39:00.279Z"
   },
   {
    "duration": 77,
    "start_time": "2021-07-04T13:39:00.324Z"
   },
   {
    "duration": 64,
    "start_time": "2021-07-04T13:39:00.404Z"
   },
   {
    "duration": 43,
    "start_time": "2021-07-04T13:39:00.471Z"
   },
   {
    "duration": 54,
    "start_time": "2021-07-04T13:39:00.517Z"
   },
   {
    "duration": 58,
    "start_time": "2021-07-04T13:39:00.575Z"
   },
   {
    "duration": 78,
    "start_time": "2021-07-04T13:39:00.636Z"
   },
   {
    "duration": 20,
    "start_time": "2021-07-04T13:39:00.716Z"
   },
   {
    "duration": 6050,
    "start_time": "2021-07-04T13:39:00.739Z"
   },
   {
    "duration": 8,
    "start_time": "2021-07-04T13:39:06.797Z"
   },
   {
    "duration": 7,
    "start_time": "2021-07-04T13:39:06.808Z"
   },
   {
    "duration": 70,
    "start_time": "2021-07-04T13:39:06.818Z"
   },
   {
    "duration": 32,
    "start_time": "2021-07-04T13:39:06.893Z"
   },
   {
    "duration": 7,
    "start_time": "2021-07-04T13:39:06.929Z"
   },
   {
    "duration": 56,
    "start_time": "2021-07-04T13:39:06.939Z"
   },
   {
    "duration": 25,
    "start_time": "2021-07-04T13:39:06.998Z"
   },
   {
    "duration": 56,
    "start_time": "2021-07-04T13:39:07.026Z"
   },
   {
    "duration": 44,
    "start_time": "2021-07-04T13:39:07.085Z"
   },
   {
    "duration": 58,
    "start_time": "2021-07-04T13:39:07.132Z"
   },
   {
    "duration": 7692,
    "start_time": "2021-07-04T13:45:16.036Z"
   },
   {
    "duration": 39,
    "start_time": "2021-07-04T13:45:30.098Z"
   },
   {
    "duration": 3727,
    "start_time": "2021-07-04T13:56:22.327Z"
   },
   {
    "duration": 4,
    "start_time": "2021-07-04T13:56:39.164Z"
   },
   {
    "duration": 40,
    "start_time": "2021-07-04T14:00:35.164Z"
   },
   {
    "duration": 40,
    "start_time": "2021-07-04T14:01:33.114Z"
   },
   {
    "duration": 45,
    "start_time": "2021-07-04T14:02:24.019Z"
   },
   {
    "duration": 43,
    "start_time": "2021-07-04T14:03:19.363Z"
   },
   {
    "duration": 242,
    "start_time": "2021-07-04T14:03:47.554Z"
   },
   {
    "duration": 20,
    "start_time": "2021-07-04T14:03:47.799Z"
   },
   {
    "duration": 15,
    "start_time": "2021-07-04T14:03:47.822Z"
   },
   {
    "duration": 41,
    "start_time": "2021-07-04T14:03:47.840Z"
   },
   {
    "duration": 15,
    "start_time": "2021-07-04T14:03:47.884Z"
   },
   {
    "duration": 11,
    "start_time": "2021-07-04T14:03:47.902Z"
   },
   {
    "duration": 127,
    "start_time": "2021-07-04T14:03:47.917Z"
   },
   {
    "duration": 42,
    "start_time": "2021-07-04T14:03:48.048Z"
   },
   {
    "duration": 25,
    "start_time": "2021-07-04T14:03:48.093Z"
   },
   {
    "duration": 66,
    "start_time": "2021-07-04T14:03:48.121Z"
   },
   {
    "duration": 47,
    "start_time": "2021-07-04T14:03:48.190Z"
   },
   {
    "duration": 61,
    "start_time": "2021-07-04T14:03:48.240Z"
   },
   {
    "duration": 93,
    "start_time": "2021-07-04T14:03:48.303Z"
   },
   {
    "duration": 22,
    "start_time": "2021-07-04T14:03:48.399Z"
   },
   {
    "duration": 23,
    "start_time": "2021-07-04T14:03:48.424Z"
   },
   {
    "duration": 15,
    "start_time": "2021-07-04T14:03:48.468Z"
   },
   {
    "duration": 18,
    "start_time": "2021-07-04T14:03:48.486Z"
   },
   {
    "duration": 66,
    "start_time": "2021-07-04T14:03:48.507Z"
   },
   {
    "duration": 49,
    "start_time": "2021-07-04T14:03:48.577Z"
   },
   {
    "duration": 73,
    "start_time": "2021-07-04T14:03:48.629Z"
   },
   {
    "duration": 32,
    "start_time": "2021-07-04T14:03:48.704Z"
   },
   {
    "duration": 58,
    "start_time": "2021-07-04T14:03:48.738Z"
   },
   {
    "duration": 90,
    "start_time": "2021-07-04T14:03:48.802Z"
   },
   {
    "duration": 42,
    "start_time": "2021-07-04T14:03:48.894Z"
   },
   {
    "duration": 46,
    "start_time": "2021-07-04T14:03:48.938Z"
   },
   {
    "duration": 4,
    "start_time": "2021-07-04T14:03:48.989Z"
   },
   {
    "duration": 4499,
    "start_time": "2021-07-04T14:03:48.995Z"
   },
   {
    "duration": 40,
    "start_time": "2021-07-04T14:03:53.497Z"
   },
   {
    "duration": 29,
    "start_time": "2021-07-04T14:03:53.539Z"
   },
   {
    "duration": 17,
    "start_time": "2021-07-04T14:03:53.571Z"
   },
   {
    "duration": 78,
    "start_time": "2021-07-04T14:03:53.591Z"
   },
   {
    "duration": 24,
    "start_time": "2021-07-04T14:03:53.672Z"
   },
   {
    "duration": 6,
    "start_time": "2021-07-04T14:03:53.700Z"
   },
   {
    "duration": 63,
    "start_time": "2021-07-04T14:03:53.709Z"
   },
   {
    "duration": 27,
    "start_time": "2021-07-04T14:03:53.775Z"
   },
   {
    "duration": 24,
    "start_time": "2021-07-04T14:03:53.804Z"
   },
   {
    "duration": 67,
    "start_time": "2021-07-04T14:03:53.831Z"
   },
   {
    "duration": 31,
    "start_time": "2021-07-04T14:03:53.901Z"
   },
   {
    "duration": 38,
    "start_time": "2021-07-04T14:04:01.534Z"
   },
   {
    "duration": 44,
    "start_time": "2021-07-04T14:05:27.318Z"
   },
   {
    "duration": 354,
    "start_time": "2021-07-04T14:09:15.683Z"
   },
   {
    "duration": 326,
    "start_time": "2021-07-04T14:10:14.475Z"
   },
   {
    "duration": 4,
    "start_time": "2021-07-04T14:12:39.707Z"
   },
   {
    "duration": 3603,
    "start_time": "2021-07-04T14:13:10.436Z"
   },
   {
    "duration": 312,
    "start_time": "2021-07-04T14:13:27.774Z"
   },
   {
    "duration": 290,
    "start_time": "2021-07-04T14:13:31.181Z"
   },
   {
    "duration": 30,
    "start_time": "2021-07-04T14:13:39.245Z"
   },
   {
    "duration": 29,
    "start_time": "2021-07-04T14:13:46.069Z"
   },
   {
    "duration": 16,
    "start_time": "2021-07-04T14:14:10.765Z"
   },
   {
    "duration": 4299,
    "start_time": "2021-07-04T14:15:02.535Z"
   },
   {
    "duration": 107,
    "start_time": "2021-07-04T14:15:33.616Z"
   },
   {
    "duration": 7,
    "start_time": "2021-07-04T14:19:02.663Z"
   },
   {
    "duration": 39,
    "start_time": "2021-07-04T14:20:41.843Z"
   },
   {
    "duration": 28,
    "start_time": "2021-07-04T14:21:26.949Z"
   },
   {
    "duration": 161,
    "start_time": "2021-07-04T14:21:54.908Z"
   },
   {
    "duration": 19,
    "start_time": "2021-07-04T14:21:55.072Z"
   },
   {
    "duration": 16,
    "start_time": "2021-07-04T14:21:55.094Z"
   },
   {
    "duration": 15,
    "start_time": "2021-07-04T14:21:55.113Z"
   },
   {
    "duration": 47,
    "start_time": "2021-07-04T14:21:55.130Z"
   },
   {
    "duration": 12,
    "start_time": "2021-07-04T14:21:55.180Z"
   },
   {
    "duration": 113,
    "start_time": "2021-07-04T14:21:55.195Z"
   },
   {
    "duration": 23,
    "start_time": "2021-07-04T14:21:55.312Z"
   },
   {
    "duration": 42,
    "start_time": "2021-07-04T14:21:55.338Z"
   },
   {
    "duration": 18,
    "start_time": "2021-07-04T14:21:55.383Z"
   },
   {
    "duration": 335,
    "start_time": "2021-07-04T14:21:55.404Z"
   },
   {
    "duration": -68,
    "start_time": "2021-07-04T14:21:55.811Z"
   },
   {
    "duration": -81,
    "start_time": "2021-07-04T14:21:55.825Z"
   },
   {
    "duration": -174,
    "start_time": "2021-07-04T14:21:55.920Z"
   },
   {
    "duration": -177,
    "start_time": "2021-07-04T14:21:55.924Z"
   },
   {
    "duration": -181,
    "start_time": "2021-07-04T14:21:55.929Z"
   },
   {
    "duration": -186,
    "start_time": "2021-07-04T14:21:55.935Z"
   },
   {
    "duration": -188,
    "start_time": "2021-07-04T14:21:55.939Z"
   },
   {
    "duration": -191,
    "start_time": "2021-07-04T14:21:55.943Z"
   },
   {
    "duration": -194,
    "start_time": "2021-07-04T14:21:55.947Z"
   },
   {
    "duration": -197,
    "start_time": "2021-07-04T14:21:55.952Z"
   },
   {
    "duration": -200,
    "start_time": "2021-07-04T14:21:55.956Z"
   },
   {
    "duration": -203,
    "start_time": "2021-07-04T14:21:55.960Z"
   },
   {
    "duration": -207,
    "start_time": "2021-07-04T14:21:55.965Z"
   },
   {
    "duration": -208,
    "start_time": "2021-07-04T14:21:55.968Z"
   },
   {
    "duration": -211,
    "start_time": "2021-07-04T14:21:55.972Z"
   },
   {
    "duration": -214,
    "start_time": "2021-07-04T14:21:55.976Z"
   },
   {
    "duration": -216,
    "start_time": "2021-07-04T14:21:55.980Z"
   },
   {
    "duration": -219,
    "start_time": "2021-07-04T14:21:55.984Z"
   },
   {
    "duration": -229,
    "start_time": "2021-07-04T14:21:55.996Z"
   },
   {
    "duration": -232,
    "start_time": "2021-07-04T14:21:56.000Z"
   },
   {
    "duration": -243,
    "start_time": "2021-07-04T14:21:56.012Z"
   },
   {
    "duration": -248,
    "start_time": "2021-07-04T14:21:56.018Z"
   },
   {
    "duration": -251,
    "start_time": "2021-07-04T14:21:56.023Z"
   },
   {
    "duration": -254,
    "start_time": "2021-07-04T14:21:56.027Z"
   },
   {
    "duration": -256,
    "start_time": "2021-07-04T14:21:56.030Z"
   },
   {
    "duration": -259,
    "start_time": "2021-07-04T14:21:56.035Z"
   },
   {
    "duration": -261,
    "start_time": "2021-07-04T14:21:56.038Z"
   },
   {
    "duration": -264,
    "start_time": "2021-07-04T14:21:56.042Z"
   },
   {
    "duration": -267,
    "start_time": "2021-07-04T14:21:56.046Z"
   },
   {
    "duration": -269,
    "start_time": "2021-07-04T14:21:56.050Z"
   },
   {
    "duration": -272,
    "start_time": "2021-07-04T14:21:56.054Z"
   },
   {
    "duration": 344,
    "start_time": "2021-07-04T14:22:26.236Z"
   },
   {
    "duration": 310,
    "start_time": "2021-07-04T14:23:25.022Z"
   },
   {
    "duration": 38,
    "start_time": "2021-07-04T14:23:39.157Z"
   },
   {
    "duration": 72,
    "start_time": "2021-07-04T14:23:46.429Z"
   },
   {
    "duration": 23,
    "start_time": "2021-07-04T14:23:50.911Z"
   },
   {
    "duration": 13,
    "start_time": "2021-07-04T14:23:53.597Z"
   },
   {
    "duration": 11,
    "start_time": "2021-07-04T14:23:56.382Z"
   },
   {
    "duration": 30,
    "start_time": "2021-07-04T14:26:34.689Z"
   },
   {
    "duration": 211,
    "start_time": "2021-07-04T14:27:17.559Z"
   },
   {
    "duration": 20,
    "start_time": "2021-07-04T14:27:17.772Z"
   },
   {
    "duration": 18,
    "start_time": "2021-07-04T14:27:17.796Z"
   },
   {
    "duration": 49,
    "start_time": "2021-07-04T14:27:17.818Z"
   },
   {
    "duration": 14,
    "start_time": "2021-07-04T14:27:17.870Z"
   },
   {
    "duration": 12,
    "start_time": "2021-07-04T14:27:17.887Z"
   },
   {
    "duration": 120,
    "start_time": "2021-07-04T14:27:17.903Z"
   },
   {
    "duration": 39,
    "start_time": "2021-07-04T14:27:18.028Z"
   },
   {
    "duration": 23,
    "start_time": "2021-07-04T14:27:18.071Z"
   },
   {
    "duration": 16,
    "start_time": "2021-07-04T14:27:18.097Z"
   },
   {
    "duration": 73,
    "start_time": "2021-07-04T14:27:18.116Z"
   },
   {
    "duration": 85,
    "start_time": "2021-07-04T14:27:18.192Z"
   },
   {
    "duration": 26,
    "start_time": "2021-07-04T14:27:18.280Z"
   },
   {
    "duration": 16,
    "start_time": "2021-07-04T14:27:18.309Z"
   },
   {
    "duration": 54,
    "start_time": "2021-07-04T14:27:18.328Z"
   },
   {
    "duration": 14,
    "start_time": "2021-07-04T14:27:18.384Z"
   },
   {
    "duration": 21,
    "start_time": "2021-07-04T14:27:18.401Z"
   },
   {
    "duration": 71,
    "start_time": "2021-07-04T14:27:18.424Z"
   },
   {
    "duration": 31,
    "start_time": "2021-07-04T14:27:18.498Z"
   },
   {
    "duration": 52,
    "start_time": "2021-07-04T14:27:18.531Z"
   },
   {
    "duration": 27,
    "start_time": "2021-07-04T14:27:18.585Z"
   },
   {
    "duration": 77,
    "start_time": "2021-07-04T14:27:18.615Z"
   },
   {
    "duration": 46,
    "start_time": "2021-07-04T14:27:18.697Z"
   },
   {
    "duration": 36,
    "start_time": "2021-07-04T14:27:18.746Z"
   },
   {
    "duration": 6,
    "start_time": "2021-07-04T14:27:18.785Z"
   },
   {
    "duration": 414,
    "start_time": "2021-07-04T14:27:18.793Z"
   },
   {
    "duration": -114,
    "start_time": "2021-07-04T14:27:19.324Z"
   },
   {
    "duration": -122,
    "start_time": "2021-07-04T14:27:19.333Z"
   },
   {
    "duration": -129,
    "start_time": "2021-07-04T14:27:19.342Z"
   },
   {
    "duration": -136,
    "start_time": "2021-07-04T14:27:19.350Z"
   },
   {
    "duration": -144,
    "start_time": "2021-07-04T14:27:19.359Z"
   },
   {
    "duration": -149,
    "start_time": "2021-07-04T14:27:19.366Z"
   },
   {
    "duration": -157,
    "start_time": "2021-07-04T14:27:19.375Z"
   },
   {
    "duration": -164,
    "start_time": "2021-07-04T14:27:19.383Z"
   },
   {
    "duration": -172,
    "start_time": "2021-07-04T14:27:19.392Z"
   },
   {
    "duration": -179,
    "start_time": "2021-07-04T14:27:19.401Z"
   },
   {
    "duration": -187,
    "start_time": "2021-07-04T14:27:19.410Z"
   },
   {
    "duration": -193,
    "start_time": "2021-07-04T14:27:19.417Z"
   },
   {
    "duration": -205,
    "start_time": "2021-07-04T14:27:19.431Z"
   },
   {
    "duration": -209,
    "start_time": "2021-07-04T14:27:19.436Z"
   },
   {
    "duration": -212,
    "start_time": "2021-07-04T14:27:19.441Z"
   },
   {
    "duration": 3,
    "start_time": "2021-07-04T14:27:32.843Z"
   },
   {
    "duration": 5,
    "start_time": "2021-07-04T14:27:34.297Z"
   },
   {
    "duration": 3719,
    "start_time": "2021-07-04T14:27:35.983Z"
   },
   {
    "duration": 32,
    "start_time": "2021-07-04T14:27:39.705Z"
   },
   {
    "duration": 38,
    "start_time": "2021-07-04T14:27:39.740Z"
   },
   {
    "duration": 98,
    "start_time": "2021-07-04T14:27:40.147Z"
   },
   {
    "duration": 6,
    "start_time": "2021-07-04T14:27:41.888Z"
   },
   {
    "duration": 190,
    "start_time": "2021-07-04T14:27:44.520Z"
   },
   {
    "duration": 23,
    "start_time": "2021-07-04T14:27:44.713Z"
   },
   {
    "duration": 38,
    "start_time": "2021-07-04T14:27:44.739Z"
   },
   {
    "duration": 27,
    "start_time": "2021-07-04T14:27:44.781Z"
   },
   {
    "duration": 16,
    "start_time": "2021-07-04T14:27:44.810Z"
   },
   {
    "duration": 21,
    "start_time": "2021-07-04T14:27:44.829Z"
   },
   {
    "duration": 92,
    "start_time": "2021-07-04T14:27:44.853Z"
   },
   {
    "duration": 34,
    "start_time": "2021-07-04T14:27:44.949Z"
   },
   {
    "duration": 19,
    "start_time": "2021-07-04T14:27:44.986Z"
   },
   {
    "duration": 21,
    "start_time": "2021-07-04T14:27:45.008Z"
   },
   {
    "duration": 62,
    "start_time": "2021-07-04T14:27:45.031Z"
   },
   {
    "duration": 86,
    "start_time": "2021-07-04T14:27:45.095Z"
   },
   {
    "duration": 24,
    "start_time": "2021-07-04T14:27:45.184Z"
   },
   {
    "duration": 13,
    "start_time": "2021-07-04T14:27:45.210Z"
   },
   {
    "duration": 43,
    "start_time": "2021-07-04T14:27:45.225Z"
   },
   {
    "duration": 14,
    "start_time": "2021-07-04T14:27:45.270Z"
   },
   {
    "duration": 33,
    "start_time": "2021-07-04T14:27:45.286Z"
   },
   {
    "duration": 70,
    "start_time": "2021-07-04T14:27:45.321Z"
   },
   {
    "duration": 34,
    "start_time": "2021-07-04T14:27:45.394Z"
   },
   {
    "duration": 47,
    "start_time": "2021-07-04T14:27:45.430Z"
   },
   {
    "duration": 38,
    "start_time": "2021-07-04T14:27:45.480Z"
   },
   {
    "duration": 67,
    "start_time": "2021-07-04T14:27:45.520Z"
   },
   {
    "duration": 42,
    "start_time": "2021-07-04T14:27:45.592Z"
   },
   {
    "duration": 34,
    "start_time": "2021-07-04T14:27:45.637Z"
   },
   {
    "duration": 16,
    "start_time": "2021-07-04T14:27:45.674Z"
   },
   {
    "duration": 19,
    "start_time": "2021-07-04T14:27:45.693Z"
   },
   {
    "duration": 10,
    "start_time": "2021-07-04T14:27:45.715Z"
   },
   {
    "duration": 3994,
    "start_time": "2021-07-04T14:27:45.728Z"
   },
   {
    "duration": 49,
    "start_time": "2021-07-04T14:27:49.724Z"
   },
   {
    "duration": 21,
    "start_time": "2021-07-04T14:27:49.775Z"
   },
   {
    "duration": 123,
    "start_time": "2021-07-04T14:27:49.799Z"
   },
   {
    "duration": -123,
    "start_time": "2021-07-04T14:27:50.048Z"
   },
   {
    "duration": -132,
    "start_time": "2021-07-04T14:27:50.059Z"
   },
   {
    "duration": -135,
    "start_time": "2021-07-04T14:27:50.064Z"
   },
   {
    "duration": -143,
    "start_time": "2021-07-04T14:27:50.074Z"
   },
   {
    "duration": -145,
    "start_time": "2021-07-04T14:27:50.078Z"
   },
   {
    "duration": -146,
    "start_time": "2021-07-04T14:27:50.081Z"
   },
   {
    "duration": -153,
    "start_time": "2021-07-04T14:27:50.090Z"
   },
   {
    "duration": -156,
    "start_time": "2021-07-04T14:27:50.095Z"
   },
   {
    "duration": -158,
    "start_time": "2021-07-04T14:27:50.099Z"
   },
   {
    "duration": -181,
    "start_time": "2021-07-04T14:27:50.125Z"
   },
   {
    "duration": 168,
    "start_time": "2021-07-04T14:27:59.832Z"
   },
   {
    "duration": 24,
    "start_time": "2021-07-04T14:28:00.003Z"
   },
   {
    "duration": 25,
    "start_time": "2021-07-04T14:28:00.030Z"
   },
   {
    "duration": 34,
    "start_time": "2021-07-04T14:28:00.057Z"
   },
   {
    "duration": 15,
    "start_time": "2021-07-04T14:28:00.094Z"
   },
   {
    "duration": 20,
    "start_time": "2021-07-04T14:28:00.111Z"
   },
   {
    "duration": 153,
    "start_time": "2021-07-04T14:28:01.625Z"
   },
   {
    "duration": 20,
    "start_time": "2021-07-04T14:28:01.781Z"
   },
   {
    "duration": 18,
    "start_time": "2021-07-04T14:28:01.805Z"
   },
   {
    "duration": 50,
    "start_time": "2021-07-04T14:28:01.826Z"
   },
   {
    "duration": 31,
    "start_time": "2021-07-04T14:28:01.878Z"
   },
   {
    "duration": 91,
    "start_time": "2021-07-04T14:28:01.912Z"
   },
   {
    "duration": 25,
    "start_time": "2021-07-04T14:28:02.006Z"
   },
   {
    "duration": 38,
    "start_time": "2021-07-04T14:28:02.036Z"
   },
   {
    "duration": 25,
    "start_time": "2021-07-04T14:28:02.077Z"
   },
   {
    "duration": 19,
    "start_time": "2021-07-04T14:28:02.104Z"
   },
   {
    "duration": 23,
    "start_time": "2021-07-04T14:28:02.125Z"
   },
   {
    "duration": 65,
    "start_time": "2021-07-04T14:28:02.151Z"
   },
   {
    "duration": 56,
    "start_time": "2021-07-04T14:28:02.218Z"
   },
   {
    "duration": 31,
    "start_time": "2021-07-04T14:28:02.277Z"
   },
   {
    "duration": 58,
    "start_time": "2021-07-04T14:28:02.311Z"
   },
   {
    "duration": 51,
    "start_time": "2021-07-04T14:28:02.372Z"
   },
   {
    "duration": 65,
    "start_time": "2021-07-04T14:28:02.426Z"
   },
   {
    "duration": 20,
    "start_time": "2021-07-04T14:28:02.493Z"
   },
   {
    "duration": 14,
    "start_time": "2021-07-04T14:28:02.516Z"
   },
   {
    "duration": 14,
    "start_time": "2021-07-04T14:28:02.532Z"
   },
   {
    "duration": 19,
    "start_time": "2021-07-04T14:28:02.548Z"
   },
   {
    "duration": 3914,
    "start_time": "2021-07-04T14:28:02.569Z"
   },
   {
    "duration": 35,
    "start_time": "2021-07-04T14:28:06.487Z"
   },
   {
    "duration": 19,
    "start_time": "2021-07-04T14:28:06.525Z"
   },
   {
    "duration": 24,
    "start_time": "2021-07-04T14:28:06.546Z"
   },
   {
    "duration": 38,
    "start_time": "2021-07-04T14:28:06.572Z"
   },
   {
    "duration": 25,
    "start_time": "2021-07-04T14:28:06.613Z"
   },
   {
    "duration": 20,
    "start_time": "2021-07-04T14:28:06.667Z"
   },
   {
    "duration": 5,
    "start_time": "2021-07-04T14:28:06.690Z"
   },
   {
    "duration": 75,
    "start_time": "2021-07-04T14:28:06.698Z"
   },
   {
    "duration": 31,
    "start_time": "2021-07-04T14:28:06.776Z"
   },
   {
    "duration": 26,
    "start_time": "2021-07-04T14:28:06.810Z"
   },
   {
    "duration": 69,
    "start_time": "2021-07-04T14:28:06.839Z"
   },
   {
    "duration": 331,
    "start_time": "2021-07-04T14:28:06.911Z"
   },
   {
    "duration": 312,
    "start_time": "2021-07-04T14:29:30.337Z"
   },
   {
    "duration": 316,
    "start_time": "2021-07-04T14:37:10.029Z"
   },
   {
    "duration": 344,
    "start_time": "2021-07-04T14:37:25.532Z"
   },
   {
    "duration": 43,
    "start_time": "2021-07-04T14:39:44.253Z"
   },
   {
    "duration": 4,
    "start_time": "2021-07-04T14:43:32.234Z"
   },
   {
    "duration": 114,
    "start_time": "2021-07-04T14:43:39.976Z"
   },
   {
    "duration": -70,
    "start_time": "2021-07-04T14:58:12.976Z"
   },
   {
    "duration": -76,
    "start_time": "2021-07-04T14:58:12.985Z"
   },
   {
    "duration": 26,
    "start_time": "2021-07-04T15:10:36.854Z"
   },
   {
    "duration": 257,
    "start_time": "2021-07-04T15:10:40.268Z"
   },
   {
    "duration": 19,
    "start_time": "2021-07-04T15:10:40.528Z"
   },
   {
    "duration": 31,
    "start_time": "2021-07-04T15:10:40.550Z"
   },
   {
    "duration": 14,
    "start_time": "2021-07-04T15:10:40.584Z"
   },
   {
    "duration": 11,
    "start_time": "2021-07-04T15:10:40.601Z"
   },
   {
    "duration": 13,
    "start_time": "2021-07-04T15:10:40.615Z"
   },
   {
    "duration": 110,
    "start_time": "2021-07-04T15:10:40.631Z"
   },
   {
    "duration": 38,
    "start_time": "2021-07-04T15:10:40.745Z"
   },
   {
    "duration": 20,
    "start_time": "2021-07-04T15:10:40.785Z"
   },
   {
    "duration": 17,
    "start_time": "2021-07-04T15:10:40.807Z"
   },
   {
    "duration": 65,
    "start_time": "2021-07-04T15:10:40.826Z"
   },
   {
    "duration": 76,
    "start_time": "2021-07-04T15:10:40.894Z"
   },
   {
    "duration": 25,
    "start_time": "2021-07-04T15:10:40.972Z"
   },
   {
    "duration": 12,
    "start_time": "2021-07-04T15:10:41.000Z"
   },
   {
    "duration": 12,
    "start_time": "2021-07-04T15:10:41.015Z"
   },
   {
    "duration": 12,
    "start_time": "2021-07-04T15:10:41.067Z"
   },
   {
    "duration": 22,
    "start_time": "2021-07-04T15:10:41.082Z"
   },
   {
    "duration": 74,
    "start_time": "2021-07-04T15:10:41.107Z"
   },
   {
    "duration": 34,
    "start_time": "2021-07-04T15:10:41.183Z"
   },
   {
    "duration": 50,
    "start_time": "2021-07-04T15:10:41.219Z"
   },
   {
    "duration": 27,
    "start_time": "2021-07-04T15:10:41.272Z"
   },
   {
    "duration": 82,
    "start_time": "2021-07-04T15:10:41.301Z"
   },
   {
    "duration": 44,
    "start_time": "2021-07-04T15:10:41.388Z"
   },
   {
    "duration": 39,
    "start_time": "2021-07-04T15:10:41.435Z"
   },
   {
    "duration": 8,
    "start_time": "2021-07-04T15:10:41.477Z"
   },
   {
    "duration": 6,
    "start_time": "2021-07-04T15:10:41.488Z"
   },
   {
    "duration": 1633,
    "start_time": "2021-07-04T15:10:41.497Z"
   },
   {
    "duration": -102,
    "start_time": "2021-07-04T15:10:43.235Z"
   },
   {
    "duration": -105,
    "start_time": "2021-07-04T15:10:43.240Z"
   },
   {
    "duration": -107,
    "start_time": "2021-07-04T15:10:43.244Z"
   },
   {
    "duration": -109,
    "start_time": "2021-07-04T15:10:43.248Z"
   },
   {
    "duration": -112,
    "start_time": "2021-07-04T15:10:43.253Z"
   },
   {
    "duration": -116,
    "start_time": "2021-07-04T15:10:43.259Z"
   },
   {
    "duration": -118,
    "start_time": "2021-07-04T15:10:43.263Z"
   },
   {
    "duration": -122,
    "start_time": "2021-07-04T15:10:43.269Z"
   },
   {
    "duration": -124,
    "start_time": "2021-07-04T15:10:43.273Z"
   },
   {
    "duration": -127,
    "start_time": "2021-07-04T15:10:43.278Z"
   },
   {
    "duration": -127,
    "start_time": "2021-07-04T15:10:43.281Z"
   },
   {
    "duration": -130,
    "start_time": "2021-07-04T15:10:43.286Z"
   },
   {
    "duration": -132,
    "start_time": "2021-07-04T15:10:43.290Z"
   },
   {
    "duration": -134,
    "start_time": "2021-07-04T15:10:43.294Z"
   },
   {
    "duration": -139,
    "start_time": "2021-07-04T15:10:43.301Z"
   },
   {
    "duration": 4,
    "start_time": "2021-07-04T15:11:39.709Z"
   },
   {
    "duration": 4,
    "start_time": "2021-07-04T15:13:01.614Z"
   },
   {
    "duration": 4,
    "start_time": "2021-07-04T15:13:02.623Z"
   },
   {
    "duration": 1468,
    "start_time": "2021-07-04T15:13:06.604Z"
   },
   {
    "duration": 8607,
    "start_time": "2021-07-04T15:13:35.432Z"
   },
   {
    "duration": 6,
    "start_time": "2021-07-04T15:15:21.145Z"
   },
   {
    "duration": 332,
    "start_time": "2021-07-04T15:15:34.588Z"
   },
   {
    "duration": 1999,
    "start_time": "2021-07-04T15:16:02.412Z"
   },
   {
    "duration": 8186,
    "start_time": "2021-07-04T15:16:19.459Z"
   },
   {
    "duration": 102,
    "start_time": "2021-07-04T15:17:36.228Z"
   },
   {
    "duration": 127,
    "start_time": "2021-07-04T15:17:59.748Z"
   },
   {
    "duration": 1808,
    "start_time": "2021-07-04T15:19:17.846Z"
   },
   {
    "duration": 36,
    "start_time": "2021-07-04T15:19:34.655Z"
   },
   {
    "duration": 7,
    "start_time": "2021-07-04T15:19:45.577Z"
   },
   {
    "duration": 1747,
    "start_time": "2021-07-04T15:19:47.829Z"
   },
   {
    "duration": 4,
    "start_time": "2021-07-04T15:23:28.161Z"
   },
   {
    "duration": 4,
    "start_time": "2021-07-04T15:23:29.099Z"
   },
   {
    "duration": 4,
    "start_time": "2021-07-04T15:23:38.441Z"
   },
   {
    "duration": 354,
    "start_time": "2021-07-04T15:24:31.626Z"
   },
   {
    "duration": 304,
    "start_time": "2021-07-04T15:24:51.234Z"
   },
   {
    "duration": 6,
    "start_time": "2021-07-04T15:25:54.876Z"
   },
   {
    "duration": 451,
    "start_time": "2021-07-04T15:26:11.916Z"
   },
   {
    "duration": 326,
    "start_time": "2021-07-04T15:26:17.388Z"
   },
   {
    "duration": 5,
    "start_time": "2021-07-04T15:26:33.547Z"
   },
   {
    "duration": 4,
    "start_time": "2021-07-04T15:27:14.144Z"
   },
   {
    "duration": 4,
    "start_time": "2021-07-04T15:27:16.413Z"
   },
   {
    "duration": 4573,
    "start_time": "2021-07-04T15:27:20.541Z"
   },
   {
    "duration": 46,
    "start_time": "2021-07-04T15:27:33.167Z"
   },
   {
    "duration": 24,
    "start_time": "2021-07-04T15:27:35.853Z"
   },
   {
    "duration": 8,
    "start_time": "2021-07-04T15:27:43.062Z"
   },
   {
    "duration": 202,
    "start_time": "2021-07-04T15:28:20.443Z"
   },
   {
    "duration": 32,
    "start_time": "2021-07-04T15:28:20.647Z"
   },
   {
    "duration": 18,
    "start_time": "2021-07-04T15:28:20.682Z"
   },
   {
    "duration": 13,
    "start_time": "2021-07-04T15:28:20.703Z"
   },
   {
    "duration": 11,
    "start_time": "2021-07-04T15:28:20.719Z"
   },
   {
    "duration": 43,
    "start_time": "2021-07-04T15:28:20.732Z"
   },
   {
    "duration": 96,
    "start_time": "2021-07-04T15:28:20.777Z"
   },
   {
    "duration": 21,
    "start_time": "2021-07-04T15:28:20.876Z"
   },
   {
    "duration": 20,
    "start_time": "2021-07-04T15:28:20.900Z"
   },
   {
    "duration": 52,
    "start_time": "2021-07-04T15:28:20.922Z"
   },
   {
    "duration": 31,
    "start_time": "2021-07-04T15:28:20.977Z"
   },
   {
    "duration": 89,
    "start_time": "2021-07-04T15:28:21.011Z"
   },
   {
    "duration": 24,
    "start_time": "2021-07-04T15:28:21.102Z"
   },
   {
    "duration": 40,
    "start_time": "2021-07-04T15:28:21.128Z"
   },
   {
    "duration": 11,
    "start_time": "2021-07-04T15:28:21.170Z"
   },
   {
    "duration": 17,
    "start_time": "2021-07-04T15:28:21.183Z"
   },
   {
    "duration": 21,
    "start_time": "2021-07-04T15:28:21.203Z"
   },
   {
    "duration": 76,
    "start_time": "2021-07-04T15:28:21.227Z"
   },
   {
    "duration": 35,
    "start_time": "2021-07-04T15:28:21.306Z"
   },
   {
    "duration": 32,
    "start_time": "2021-07-04T15:28:21.367Z"
   },
   {
    "duration": 28,
    "start_time": "2021-07-04T15:28:21.401Z"
   },
   {
    "duration": 71,
    "start_time": "2021-07-04T15:28:21.432Z"
   },
   {
    "duration": 41,
    "start_time": "2021-07-04T15:28:21.508Z"
   },
   {
    "duration": 30,
    "start_time": "2021-07-04T15:28:21.552Z"
   },
   {
    "duration": 23,
    "start_time": "2021-07-04T15:28:21.585Z"
   },
   {
    "duration": 3,
    "start_time": "2021-07-04T15:28:21.611Z"
   },
   {
    "duration": 4576,
    "start_time": "2021-07-04T15:28:21.617Z"
   },
   {
    "duration": 34,
    "start_time": "2021-07-04T15:28:26.196Z"
   },
   {
    "duration": 40,
    "start_time": "2021-07-04T15:28:26.233Z"
   },
   {
    "duration": 9,
    "start_time": "2021-07-04T15:28:26.276Z"
   },
   {
    "duration": 36,
    "start_time": "2021-07-04T15:28:26.287Z"
   },
   {
    "duration": 54,
    "start_time": "2021-07-04T15:28:26.325Z"
   },
   {
    "duration": 22,
    "start_time": "2021-07-04T15:28:26.382Z"
   },
   {
    "duration": 8,
    "start_time": "2021-07-04T15:28:26.407Z"
   },
   {
    "duration": 78,
    "start_time": "2021-07-04T15:28:26.418Z"
   },
   {
    "duration": 82,
    "start_time": "2021-07-04T15:28:26.499Z"
   },
   {
    "duration": 20,
    "start_time": "2021-07-04T15:28:26.583Z"
   },
   {
    "duration": 21,
    "start_time": "2021-07-04T15:28:26.605Z"
   },
   {
    "duration": 555,
    "start_time": "2021-07-04T15:28:26.628Z"
   },
   {
    "duration": -88,
    "start_time": "2021-07-04T15:28:27.273Z"
   },
   {
    "duration": -92,
    "start_time": "2021-07-04T15:28:27.279Z"
   },
   {
    "duration": -95,
    "start_time": "2021-07-04T15:28:27.283Z"
   },
   {
    "duration": 14,
    "start_time": "2021-07-04T15:28:50.166Z"
   },
   {
    "duration": 47,
    "start_time": "2021-07-04T15:29:01.255Z"
   },
   {
    "duration": 399,
    "start_time": "2021-07-04T15:29:17.063Z"
   },
   {
    "duration": 32,
    "start_time": "2021-07-04T15:29:46.327Z"
   },
   {
    "duration": 38,
    "start_time": "2021-07-04T16:37:25.466Z"
   },
   {
    "duration": 42,
    "start_time": "2021-07-04T16:37:46.176Z"
   },
   {
    "duration": 44,
    "start_time": "2021-07-04T16:38:02.738Z"
   },
   {
    "duration": 35,
    "start_time": "2021-07-04T16:38:12.335Z"
   },
   {
    "duration": 35,
    "start_time": "2021-07-04T16:38:24.283Z"
   },
   {
    "duration": 26,
    "start_time": "2021-07-04T16:38:52.824Z"
   },
   {
    "duration": 17,
    "start_time": "2021-07-04T16:39:07.576Z"
   },
   {
    "duration": 39,
    "start_time": "2021-07-04T16:39:40.864Z"
   },
   {
    "duration": 40,
    "start_time": "2021-07-04T16:39:49.986Z"
   },
   {
    "duration": 49,
    "start_time": "2021-07-04T16:40:33.018Z"
   },
   {
    "duration": 49,
    "start_time": "2021-07-04T16:40:46.276Z"
   },
   {
    "duration": 48,
    "start_time": "2021-07-04T16:42:51.996Z"
   },
   {
    "duration": 7,
    "start_time": "2021-07-04T16:46:57.863Z"
   },
   {
    "duration": 15,
    "start_time": "2021-07-04T16:47:10.159Z"
   },
   {
    "duration": 357,
    "start_time": "2021-07-04T16:47:15.640Z"
   },
   {
    "duration": 20,
    "start_time": "2021-07-04T16:47:16.000Z"
   },
   {
    "duration": 17,
    "start_time": "2021-07-04T16:47:16.023Z"
   },
   {
    "duration": 37,
    "start_time": "2021-07-04T16:47:16.042Z"
   },
   {
    "duration": 12,
    "start_time": "2021-07-04T16:47:16.081Z"
   },
   {
    "duration": 12,
    "start_time": "2021-07-04T16:47:16.096Z"
   },
   {
    "duration": 115,
    "start_time": "2021-07-04T16:47:16.110Z"
   },
   {
    "duration": 22,
    "start_time": "2021-07-04T16:47:16.229Z"
   },
   {
    "duration": 19,
    "start_time": "2021-07-04T16:47:16.269Z"
   },
   {
    "duration": 23,
    "start_time": "2021-07-04T16:47:16.290Z"
   },
   {
    "duration": 58,
    "start_time": "2021-07-04T16:47:16.316Z"
   },
   {
    "duration": 65,
    "start_time": "2021-07-04T16:47:16.376Z"
   },
   {
    "duration": 43,
    "start_time": "2021-07-04T16:47:16.443Z"
   },
   {
    "duration": 14,
    "start_time": "2021-07-04T16:47:16.488Z"
   },
   {
    "duration": 12,
    "start_time": "2021-07-04T16:47:16.504Z"
   },
   {
    "duration": 12,
    "start_time": "2021-07-04T16:47:16.518Z"
   },
   {
    "duration": 55,
    "start_time": "2021-07-04T16:47:16.532Z"
   },
   {
    "duration": 53,
    "start_time": "2021-07-04T16:47:16.589Z"
   },
   {
    "duration": 59,
    "start_time": "2021-07-04T16:47:16.645Z"
   },
   {
    "duration": 60,
    "start_time": "2021-07-04T16:47:16.707Z"
   },
   {
    "duration": 26,
    "start_time": "2021-07-04T16:47:16.769Z"
   },
   {
    "duration": 74,
    "start_time": "2021-07-04T16:47:16.798Z"
   },
   {
    "duration": 44,
    "start_time": "2021-07-04T16:47:16.876Z"
   },
   {
    "duration": 19,
    "start_time": "2021-07-04T16:47:16.923Z"
   },
   {
    "duration": 28,
    "start_time": "2021-07-04T16:47:16.967Z"
   },
   {
    "duration": 4,
    "start_time": "2021-07-04T16:47:16.997Z"
   },
   {
    "duration": 4492,
    "start_time": "2021-07-04T16:47:17.003Z"
   },
   {
    "duration": 34,
    "start_time": "2021-07-04T16:47:21.497Z"
   },
   {
    "duration": 36,
    "start_time": "2021-07-04T16:47:21.534Z"
   },
   {
    "duration": 9,
    "start_time": "2021-07-04T16:47:21.573Z"
   },
   {
    "duration": 37,
    "start_time": "2021-07-04T16:47:21.585Z"
   },
   {
    "duration": 50,
    "start_time": "2021-07-04T16:47:21.624Z"
   },
   {
    "duration": 23,
    "start_time": "2021-07-04T16:47:21.677Z"
   },
   {
    "duration": 6,
    "start_time": "2021-07-04T16:47:21.703Z"
   },
   {
    "duration": 74,
    "start_time": "2021-07-04T16:47:21.712Z"
   },
   {
    "duration": 53,
    "start_time": "2021-07-04T16:47:21.789Z"
   },
   {
    "duration": 20,
    "start_time": "2021-07-04T16:47:21.867Z"
   },
   {
    "duration": 27,
    "start_time": "2021-07-04T16:47:21.889Z"
   },
   {
    "duration": 47,
    "start_time": "2021-07-04T16:47:21.919Z"
   },
   {
    "duration": 55,
    "start_time": "2021-07-04T16:47:21.969Z"
   },
   {
    "duration": 60,
    "start_time": "2021-07-04T16:47:22.027Z"
   },
   {
    "duration": 49,
    "start_time": "2021-07-04T16:48:21.352Z"
   },
   {
    "duration": 315,
    "start_time": "2021-07-04T16:49:00.124Z"
   },
   {
    "duration": 108,
    "start_time": "2021-07-04T16:49:16.295Z"
   },
   {
    "duration": 17,
    "start_time": "2021-07-04T16:49:21.369Z"
   },
   {
    "duration": 344,
    "start_time": "2021-07-04T16:50:23.130Z"
   },
   {
    "duration": 344,
    "start_time": "2021-07-04T16:50:33.306Z"
   },
   {
    "duration": 19,
    "start_time": "2021-07-04T16:50:47.379Z"
   },
   {
    "duration": 24,
    "start_time": "2021-07-04T16:53:13.613Z"
   },
   {
    "duration": 55,
    "start_time": "2021-07-04T16:54:31.146Z"
   },
   {
    "duration": 38,
    "start_time": "2021-07-04T16:55:24.785Z"
   },
   {
    "duration": 53,
    "start_time": "2021-07-04T16:56:57.095Z"
   },
   {
    "duration": 361,
    "start_time": "2021-07-04T17:05:25.845Z"
   },
   {
    "duration": 430,
    "start_time": "2021-07-04T17:05:33.175Z"
   },
   {
    "duration": 309,
    "start_time": "2021-07-04T17:06:00.587Z"
   },
   {
    "duration": 348,
    "start_time": "2021-07-04T17:06:32.682Z"
   },
   {
    "duration": 324,
    "start_time": "2021-07-04T17:06:40.689Z"
   },
   {
    "duration": 211,
    "start_time": "2021-07-04T17:06:49.297Z"
   },
   {
    "duration": 19,
    "start_time": "2021-07-04T17:06:49.510Z"
   },
   {
    "duration": 36,
    "start_time": "2021-07-04T17:06:49.532Z"
   },
   {
    "duration": 15,
    "start_time": "2021-07-04T17:06:49.571Z"
   },
   {
    "duration": 11,
    "start_time": "2021-07-04T17:06:49.588Z"
   },
   {
    "duration": 10,
    "start_time": "2021-07-04T17:06:49.602Z"
   },
   {
    "duration": 121,
    "start_time": "2021-07-04T17:06:49.615Z"
   },
   {
    "duration": 36,
    "start_time": "2021-07-04T17:06:49.739Z"
   },
   {
    "duration": 18,
    "start_time": "2021-07-04T17:06:49.778Z"
   },
   {
    "duration": 15,
    "start_time": "2021-07-04T17:06:49.798Z"
   },
   {
    "duration": 67,
    "start_time": "2021-07-04T17:06:49.815Z"
   },
   {
    "duration": 83,
    "start_time": "2021-07-04T17:06:49.885Z"
   },
   {
    "duration": 23,
    "start_time": "2021-07-04T17:06:49.971Z"
   },
   {
    "duration": 15,
    "start_time": "2021-07-04T17:06:49.996Z"
   },
   {
    "duration": 13,
    "start_time": "2021-07-04T17:06:50.013Z"
   },
   {
    "duration": 46,
    "start_time": "2021-07-04T17:06:50.028Z"
   },
   {
    "duration": 24,
    "start_time": "2021-07-04T17:06:50.077Z"
   },
   {
    "duration": 65,
    "start_time": "2021-07-04T17:06:50.103Z"
   },
   {
    "duration": 34,
    "start_time": "2021-07-04T17:06:50.170Z"
   },
   {
    "duration": 61,
    "start_time": "2021-07-04T17:06:50.207Z"
   },
   {
    "duration": 26,
    "start_time": "2021-07-04T17:06:50.270Z"
   },
   {
    "duration": 69,
    "start_time": "2021-07-04T17:06:50.298Z"
   },
   {
    "duration": 42,
    "start_time": "2021-07-04T17:06:50.372Z"
   },
   {
    "duration": 19,
    "start_time": "2021-07-04T17:06:50.417Z"
   },
   {
    "duration": 65,
    "start_time": "2021-07-04T17:06:50.438Z"
   },
   {
    "duration": 4,
    "start_time": "2021-07-04T17:06:50.505Z"
   },
   {
    "duration": 4831,
    "start_time": "2021-07-04T17:06:50.511Z"
   },
   {
    "duration": 46,
    "start_time": "2021-07-04T17:06:55.344Z"
   },
   {
    "duration": 19,
    "start_time": "2021-07-04T17:06:55.393Z"
   },
   {
    "duration": 9,
    "start_time": "2021-07-04T17:06:55.415Z"
   },
   {
    "duration": 71,
    "start_time": "2021-07-04T17:06:55.427Z"
   },
   {
    "duration": 26,
    "start_time": "2021-07-04T17:06:55.500Z"
   },
   {
    "duration": 44,
    "start_time": "2021-07-04T17:06:55.529Z"
   },
   {
    "duration": 7,
    "start_time": "2021-07-04T17:06:55.576Z"
   },
   {
    "duration": 40,
    "start_time": "2021-07-04T17:06:55.585Z"
   },
   {
    "duration": 79,
    "start_time": "2021-07-04T17:06:55.627Z"
   },
   {
    "duration": 2111,
    "start_time": "2021-07-04T17:06:55.708Z"
   },
   {
    "duration": -99,
    "start_time": "2021-07-04T17:06:57.922Z"
   },
   {
    "duration": -102,
    "start_time": "2021-07-04T17:06:57.927Z"
   },
   {
    "duration": -106,
    "start_time": "2021-07-04T17:06:57.933Z"
   },
   {
    "duration": -108,
    "start_time": "2021-07-04T17:06:57.937Z"
   },
   {
    "duration": -110,
    "start_time": "2021-07-04T17:06:57.941Z"
   },
   {
    "duration": -113,
    "start_time": "2021-07-04T17:06:57.946Z"
   },
   {
    "duration": 46,
    "start_time": "2021-07-04T17:07:21.121Z"
   },
   {
    "duration": 200,
    "start_time": "2021-07-04T17:07:23.499Z"
   },
   {
    "duration": 21,
    "start_time": "2021-07-04T17:07:23.702Z"
   },
   {
    "duration": 42,
    "start_time": "2021-07-04T17:07:23.725Z"
   },
   {
    "duration": 14,
    "start_time": "2021-07-04T17:07:23.770Z"
   },
   {
    "duration": 21,
    "start_time": "2021-07-04T17:07:23.787Z"
   },
   {
    "duration": 22,
    "start_time": "2021-07-04T17:07:23.811Z"
   },
   {
    "duration": 91,
    "start_time": "2021-07-04T17:07:23.836Z"
   },
   {
    "duration": 38,
    "start_time": "2021-07-04T17:07:23.931Z"
   },
   {
    "duration": 20,
    "start_time": "2021-07-04T17:07:23.972Z"
   },
   {
    "duration": 14,
    "start_time": "2021-07-04T17:07:23.995Z"
   },
   {
    "duration": 68,
    "start_time": "2021-07-04T17:07:24.011Z"
   },
   {
    "duration": 65,
    "start_time": "2021-07-04T17:07:24.081Z"
   },
   {
    "duration": 40,
    "start_time": "2021-07-04T17:07:24.149Z"
   },
   {
    "duration": 16,
    "start_time": "2021-07-04T17:07:24.192Z"
   },
   {
    "duration": 10,
    "start_time": "2021-07-04T17:07:24.211Z"
   },
   {
    "duration": 47,
    "start_time": "2021-07-04T17:07:24.224Z"
   },
   {
    "duration": 20,
    "start_time": "2021-07-04T17:07:24.274Z"
   },
   {
    "duration": 77,
    "start_time": "2021-07-04T17:07:24.297Z"
   },
   {
    "duration": 34,
    "start_time": "2021-07-04T17:07:24.376Z"
   },
   {
    "duration": 31,
    "start_time": "2021-07-04T17:07:24.412Z"
   },
   {
    "duration": 26,
    "start_time": "2021-07-04T17:07:24.468Z"
   },
   {
    "duration": 73,
    "start_time": "2021-07-04T17:07:24.497Z"
   },
   {
    "duration": 42,
    "start_time": "2021-07-04T17:07:24.574Z"
   },
   {
    "duration": 18,
    "start_time": "2021-07-04T17:07:24.619Z"
   },
   {
    "duration": 58,
    "start_time": "2021-07-04T17:07:24.639Z"
   },
   {
    "duration": 3,
    "start_time": "2021-07-04T17:07:24.699Z"
   },
   {
    "duration": 4570,
    "start_time": "2021-07-04T17:07:24.705Z"
   },
   {
    "duration": 38,
    "start_time": "2021-07-04T17:07:29.278Z"
   },
   {
    "duration": 24,
    "start_time": "2021-07-04T17:07:29.318Z"
   },
   {
    "duration": 25,
    "start_time": "2021-07-04T17:07:29.345Z"
   },
   {
    "duration": 39,
    "start_time": "2021-07-04T17:07:29.373Z"
   },
   {
    "duration": 53,
    "start_time": "2021-07-04T17:07:29.414Z"
   },
   {
    "duration": 21,
    "start_time": "2021-07-04T17:07:29.470Z"
   },
   {
    "duration": 8,
    "start_time": "2021-07-04T17:07:29.493Z"
   },
   {
    "duration": 72,
    "start_time": "2021-07-04T17:07:29.504Z"
   },
   {
    "duration": 56,
    "start_time": "2021-07-04T17:07:29.578Z"
   },
   {
    "duration": 70,
    "start_time": "2021-07-04T17:07:29.636Z"
   },
   {
    "duration": 21,
    "start_time": "2021-07-04T17:07:29.709Z"
   },
   {
    "duration": 24,
    "start_time": "2021-07-04T17:07:29.768Z"
   },
   {
    "duration": 15,
    "start_time": "2021-07-04T17:07:29.794Z"
   },
   {
    "duration": 82,
    "start_time": "2021-07-04T17:07:29.811Z"
   },
   {
    "duration": 32,
    "start_time": "2021-07-04T17:07:29.895Z"
   },
   {
    "duration": 49,
    "start_time": "2021-07-04T17:17:23.991Z"
   },
   {
    "duration": 45,
    "start_time": "2021-07-04T17:18:13.215Z"
   },
   {
    "duration": 1228,
    "start_time": "2021-07-04T17:19:38.459Z"
   },
   {
    "duration": 20,
    "start_time": "2021-07-04T17:19:39.690Z"
   },
   {
    "duration": 15,
    "start_time": "2021-07-04T17:19:39.713Z"
   },
   {
    "duration": 45,
    "start_time": "2021-07-04T17:19:39.731Z"
   },
   {
    "duration": 12,
    "start_time": "2021-07-04T17:19:39.778Z"
   },
   {
    "duration": 17,
    "start_time": "2021-07-04T17:19:39.792Z"
   },
   {
    "duration": 157,
    "start_time": "2021-07-04T17:19:39.812Z"
   },
   {
    "duration": 30,
    "start_time": "2021-07-04T17:19:39.975Z"
   },
   {
    "duration": 22,
    "start_time": "2021-07-04T17:19:40.008Z"
   },
   {
    "duration": 15,
    "start_time": "2021-07-04T17:19:40.067Z"
   },
   {
    "duration": 31,
    "start_time": "2021-07-04T17:19:40.085Z"
   },
   {
    "duration": 129,
    "start_time": "2021-07-04T17:19:40.119Z"
   },
   {
    "duration": 42,
    "start_time": "2021-07-04T17:19:40.251Z"
   },
   {
    "duration": 19,
    "start_time": "2021-07-04T17:19:40.302Z"
   },
   {
    "duration": 10,
    "start_time": "2021-07-04T17:19:40.323Z"
   },
   {
    "duration": 39,
    "start_time": "2021-07-04T17:19:40.336Z"
   },
   {
    "duration": 20,
    "start_time": "2021-07-04T17:19:40.377Z"
   },
   {
    "duration": 70,
    "start_time": "2021-07-04T17:19:40.400Z"
   },
   {
    "duration": 34,
    "start_time": "2021-07-04T17:19:40.473Z"
   },
   {
    "duration": 58,
    "start_time": "2021-07-04T17:19:40.509Z"
   },
   {
    "duration": 37,
    "start_time": "2021-07-04T17:19:40.570Z"
   },
   {
    "duration": 99,
    "start_time": "2021-07-04T17:19:40.610Z"
   },
   {
    "duration": 77,
    "start_time": "2021-07-04T17:19:40.716Z"
   },
   {
    "duration": 19,
    "start_time": "2021-07-04T17:19:40.797Z"
   },
   {
    "duration": 67,
    "start_time": "2021-07-04T17:19:40.820Z"
   },
   {
    "duration": 5,
    "start_time": "2021-07-04T17:19:40.890Z"
   },
   {
    "duration": 5378,
    "start_time": "2021-07-04T17:19:40.898Z"
   },
   {
    "duration": 36,
    "start_time": "2021-07-04T17:19:46.279Z"
   },
   {
    "duration": 25,
    "start_time": "2021-07-04T17:19:46.317Z"
   },
   {
    "duration": 9,
    "start_time": "2021-07-04T17:19:46.368Z"
   },
   {
    "duration": 47,
    "start_time": "2021-07-04T17:19:46.380Z"
   },
   {
    "duration": 50,
    "start_time": "2021-07-04T17:19:46.429Z"
   },
   {
    "duration": 27,
    "start_time": "2021-07-04T17:19:46.481Z"
   },
   {
    "duration": 7,
    "start_time": "2021-07-04T17:19:46.511Z"
   },
   {
    "duration": 93,
    "start_time": "2021-07-04T17:19:46.521Z"
   },
   {
    "duration": 87,
    "start_time": "2021-07-04T17:19:46.617Z"
   },
   {
    "duration": 75,
    "start_time": "2021-07-04T17:19:46.707Z"
   },
   {
    "duration": 19,
    "start_time": "2021-07-04T17:19:46.785Z"
   },
   {
    "duration": 61,
    "start_time": "2021-07-04T17:19:46.807Z"
   },
   {
    "duration": 15,
    "start_time": "2021-07-04T17:19:46.871Z"
   },
   {
    "duration": 82,
    "start_time": "2021-07-04T17:19:46.889Z"
   },
   {
    "duration": 31,
    "start_time": "2021-07-04T17:19:46.974Z"
   },
   {
    "duration": 2057,
    "start_time": "2021-07-05T11:37:36.499Z"
   },
   {
    "duration": 24,
    "start_time": "2021-07-05T11:37:38.560Z"
   },
   {
    "duration": 34,
    "start_time": "2021-07-05T11:37:38.587Z"
   },
   {
    "duration": 34,
    "start_time": "2021-07-05T11:37:38.624Z"
   },
   {
    "duration": 24,
    "start_time": "2021-07-05T11:37:38.661Z"
   },
   {
    "duration": 26,
    "start_time": "2021-07-05T11:37:38.688Z"
   },
   {
    "duration": 84,
    "start_time": "2021-07-05T11:37:38.716Z"
   },
   {
    "duration": 23,
    "start_time": "2021-07-05T11:37:38.804Z"
   },
   {
    "duration": 19,
    "start_time": "2021-07-05T11:37:38.830Z"
   },
   {
    "duration": 51,
    "start_time": "2021-07-05T11:37:38.852Z"
   },
   {
    "duration": 81,
    "start_time": "2021-07-05T11:37:38.905Z"
   },
   {
    "duration": 64,
    "start_time": "2021-07-05T11:37:38.989Z"
   },
   {
    "duration": 47,
    "start_time": "2021-07-05T11:37:39.056Z"
   },
   {
    "duration": 19,
    "start_time": "2021-07-05T11:37:39.106Z"
   },
   {
    "duration": 18,
    "start_time": "2021-07-05T11:37:39.127Z"
   },
   {
    "duration": 26,
    "start_time": "2021-07-05T11:37:39.148Z"
   },
   {
    "duration": 52,
    "start_time": "2021-07-05T11:37:39.177Z"
   },
   {
    "duration": 76,
    "start_time": "2021-07-05T11:37:39.233Z"
   },
   {
    "duration": 38,
    "start_time": "2021-07-05T11:37:39.312Z"
   },
   {
    "duration": 62,
    "start_time": "2021-07-05T11:37:39.353Z"
   },
   {
    "duration": 34,
    "start_time": "2021-07-05T11:37:39.417Z"
   },
   {
    "duration": 65,
    "start_time": "2021-07-05T11:37:39.453Z"
   },
   {
    "duration": 44,
    "start_time": "2021-07-05T11:37:39.524Z"
   },
   {
    "duration": 39,
    "start_time": "2021-07-05T11:37:39.571Z"
   },
   {
    "duration": 27,
    "start_time": "2021-07-05T11:37:39.612Z"
   },
   {
    "duration": 21,
    "start_time": "2021-07-05T11:37:39.641Z"
   },
   {
    "duration": 4797,
    "start_time": "2021-07-05T11:37:39.664Z"
   },
   {
    "duration": 39,
    "start_time": "2021-07-05T11:37:44.464Z"
   },
   {
    "duration": 33,
    "start_time": "2021-07-05T11:37:44.506Z"
   },
   {
    "duration": 20,
    "start_time": "2021-07-05T11:37:44.542Z"
   },
   {
    "duration": 58,
    "start_time": "2021-07-05T11:37:44.565Z"
   },
   {
    "duration": 45,
    "start_time": "2021-07-05T11:37:44.625Z"
   },
   {
    "duration": 40,
    "start_time": "2021-07-05T11:37:44.673Z"
   },
   {
    "duration": 7,
    "start_time": "2021-07-05T11:37:44.716Z"
   },
   {
    "duration": 52,
    "start_time": "2021-07-05T11:37:44.726Z"
   },
   {
    "duration": 62,
    "start_time": "2021-07-05T11:37:44.780Z"
   },
   {
    "duration": 74,
    "start_time": "2021-07-05T11:37:44.845Z"
   },
   {
    "duration": 21,
    "start_time": "2021-07-05T11:37:44.922Z"
   },
   {
    "duration": 30,
    "start_time": "2021-07-05T11:37:44.946Z"
   },
   {
    "duration": 17,
    "start_time": "2021-07-05T11:37:45.001Z"
   },
   {
    "duration": 83,
    "start_time": "2021-07-05T11:37:45.021Z"
   },
   {
    "duration": 35,
    "start_time": "2021-07-05T11:37:45.107Z"
   }
  ],
  "kernelspec": {
   "display_name": "Python 3",
   "language": "python",
   "name": "python3"
  },
  "language_info": {
   "codemirror_mode": {
    "name": "ipython",
    "version": 3
   },
   "file_extension": ".py",
   "mimetype": "text/x-python",
   "name": "python",
   "nbconvert_exporter": "python",
   "pygments_lexer": "ipython3",
   "version": "3.7.8"
  },
  "toc": {
   "base_numbering": 1,
   "nav_menu": {
    "height": "219px",
    "width": "399px"
   },
   "number_sections": true,
   "sideBar": true,
   "skip_h1_title": true,
   "title_cell": "Table of Contents",
   "title_sidebar": "Contents",
   "toc_cell": false,
   "toc_position": {},
   "toc_section_display": true,
   "toc_window_display": true
  }
 },
 "nbformat": 4,
 "nbformat_minor": 2
}
