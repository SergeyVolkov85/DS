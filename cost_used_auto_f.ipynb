{
 "cells": [
  {
   "cell_type": "markdown",
   "metadata": {},
   "source": [
    "# Определение стоимости автомобилей"
   ]
  },
  {
   "cell_type": "markdown",
   "metadata": {},
   "source": [
    "Сервис по продаже автомобилей с пробегом «Не бит, не крашен» разрабатывает приложение для привлечения новых клиентов. В нём можно быстро узнать рыночную стоимость своего автомобиля. В вашем распоряжении исторические данные: технические характеристики, комплектации и цены автомобилей. Вам нужно построить модель для определения стоимости. \n",
    "\n",
    "Заказчику важны:\n",
    "\n",
    "- качество предсказания;\n",
    "- скорость предсказания;\n",
    "- время обучения."
   ]
  },
  {
   "cell_type": "markdown",
   "metadata": {},
   "source": [
    "## Подготовка данных"
   ]
  },
  {
   "cell_type": "code",
   "execution_count": 1,
   "metadata": {},
   "outputs": [],
   "source": [
    "import pandas as pd\n",
    "import numpy as np\n",
    "import math\n",
    "from catboost import CatBoostRegressor, Pool\n",
    "from sklearn.model_selection import train_test_split\n",
    "from sklearn.metrics import mean_squared_error\n",
    "from sklearn.ensemble import RandomForestRegressor\n",
    "from sklearn.model_selection import GridSearchCV\n",
    "import lightgbm as lgb\n",
    "import matplotlib.pyplot as plt\n"
   ]
  },
  {
   "cell_type": "code",
   "execution_count": 31,
   "metadata": {},
   "outputs": [
    {
     "data": {
      "text/html": [
       "<div>\n",
       "<style scoped>\n",
       "    .dataframe tbody tr th:only-of-type {\n",
       "        vertical-align: middle;\n",
       "    }\n",
       "\n",
       "    .dataframe tbody tr th {\n",
       "        vertical-align: top;\n",
       "    }\n",
       "\n",
       "    .dataframe thead th {\n",
       "        text-align: right;\n",
       "    }\n",
       "</style>\n",
       "<table border=\"1\" class=\"dataframe\">\n",
       "  <thead>\n",
       "    <tr style=\"text-align: right;\">\n",
       "      <th></th>\n",
       "      <th>DateCrawled</th>\n",
       "      <th>Price</th>\n",
       "      <th>VehicleType</th>\n",
       "      <th>RegistrationYear</th>\n",
       "      <th>Gearbox</th>\n",
       "      <th>Power</th>\n",
       "      <th>Model</th>\n",
       "      <th>Kilometer</th>\n",
       "      <th>RegistrationMonth</th>\n",
       "      <th>FuelType</th>\n",
       "      <th>Brand</th>\n",
       "      <th>NotRepaired</th>\n",
       "      <th>DateCreated</th>\n",
       "      <th>NumberOfPictures</th>\n",
       "      <th>PostalCode</th>\n",
       "      <th>LastSeen</th>\n",
       "    </tr>\n",
       "  </thead>\n",
       "  <tbody>\n",
       "    <tr>\n",
       "      <td>0</td>\n",
       "      <td>2016-03-24 11:52:17</td>\n",
       "      <td>480</td>\n",
       "      <td>NaN</td>\n",
       "      <td>1993</td>\n",
       "      <td>manual</td>\n",
       "      <td>0</td>\n",
       "      <td>golf</td>\n",
       "      <td>150000</td>\n",
       "      <td>0</td>\n",
       "      <td>petrol</td>\n",
       "      <td>volkswagen</td>\n",
       "      <td>NaN</td>\n",
       "      <td>2016-03-24 00:00:00</td>\n",
       "      <td>0</td>\n",
       "      <td>70435</td>\n",
       "      <td>2016-04-07 03:16:57</td>\n",
       "    </tr>\n",
       "    <tr>\n",
       "      <td>1</td>\n",
       "      <td>2016-03-24 10:58:45</td>\n",
       "      <td>18300</td>\n",
       "      <td>coupe</td>\n",
       "      <td>2011</td>\n",
       "      <td>manual</td>\n",
       "      <td>190</td>\n",
       "      <td>NaN</td>\n",
       "      <td>125000</td>\n",
       "      <td>5</td>\n",
       "      <td>gasoline</td>\n",
       "      <td>audi</td>\n",
       "      <td>yes</td>\n",
       "      <td>2016-03-24 00:00:00</td>\n",
       "      <td>0</td>\n",
       "      <td>66954</td>\n",
       "      <td>2016-04-07 01:46:50</td>\n",
       "    </tr>\n",
       "    <tr>\n",
       "      <td>2</td>\n",
       "      <td>2016-03-14 12:52:21</td>\n",
       "      <td>9800</td>\n",
       "      <td>suv</td>\n",
       "      <td>2004</td>\n",
       "      <td>auto</td>\n",
       "      <td>163</td>\n",
       "      <td>grand</td>\n",
       "      <td>125000</td>\n",
       "      <td>8</td>\n",
       "      <td>gasoline</td>\n",
       "      <td>jeep</td>\n",
       "      <td>NaN</td>\n",
       "      <td>2016-03-14 00:00:00</td>\n",
       "      <td>0</td>\n",
       "      <td>90480</td>\n",
       "      <td>2016-04-05 12:47:46</td>\n",
       "    </tr>\n",
       "    <tr>\n",
       "      <td>3</td>\n",
       "      <td>2016-03-17 16:54:04</td>\n",
       "      <td>1500</td>\n",
       "      <td>small</td>\n",
       "      <td>2001</td>\n",
       "      <td>manual</td>\n",
       "      <td>75</td>\n",
       "      <td>golf</td>\n",
       "      <td>150000</td>\n",
       "      <td>6</td>\n",
       "      <td>petrol</td>\n",
       "      <td>volkswagen</td>\n",
       "      <td>no</td>\n",
       "      <td>2016-03-17 00:00:00</td>\n",
       "      <td>0</td>\n",
       "      <td>91074</td>\n",
       "      <td>2016-03-17 17:40:17</td>\n",
       "    </tr>\n",
       "    <tr>\n",
       "      <td>4</td>\n",
       "      <td>2016-03-31 17:25:20</td>\n",
       "      <td>3600</td>\n",
       "      <td>small</td>\n",
       "      <td>2008</td>\n",
       "      <td>manual</td>\n",
       "      <td>69</td>\n",
       "      <td>fabia</td>\n",
       "      <td>90000</td>\n",
       "      <td>7</td>\n",
       "      <td>gasoline</td>\n",
       "      <td>skoda</td>\n",
       "      <td>no</td>\n",
       "      <td>2016-03-31 00:00:00</td>\n",
       "      <td>0</td>\n",
       "      <td>60437</td>\n",
       "      <td>2016-04-06 10:17:21</td>\n",
       "    </tr>\n",
       "  </tbody>\n",
       "</table>\n",
       "</div>"
      ],
      "text/plain": [
       "           DateCrawled  Price VehicleType  RegistrationYear Gearbox  Power  \\\n",
       "0  2016-03-24 11:52:17    480         NaN              1993  manual      0   \n",
       "1  2016-03-24 10:58:45  18300       coupe              2011  manual    190   \n",
       "2  2016-03-14 12:52:21   9800         suv              2004    auto    163   \n",
       "3  2016-03-17 16:54:04   1500       small              2001  manual     75   \n",
       "4  2016-03-31 17:25:20   3600       small              2008  manual     69   \n",
       "\n",
       "   Model  Kilometer  RegistrationMonth  FuelType       Brand NotRepaired  \\\n",
       "0   golf     150000                  0    petrol  volkswagen         NaN   \n",
       "1    NaN     125000                  5  gasoline        audi         yes   \n",
       "2  grand     125000                  8  gasoline        jeep         NaN   \n",
       "3   golf     150000                  6    petrol  volkswagen          no   \n",
       "4  fabia      90000                  7  gasoline       skoda          no   \n",
       "\n",
       "           DateCreated  NumberOfPictures  PostalCode             LastSeen  \n",
       "0  2016-03-24 00:00:00                 0       70435  2016-04-07 03:16:57  \n",
       "1  2016-03-24 00:00:00                 0       66954  2016-04-07 01:46:50  \n",
       "2  2016-03-14 00:00:00                 0       90480  2016-04-05 12:47:46  \n",
       "3  2016-03-17 00:00:00                 0       91074  2016-03-17 17:40:17  \n",
       "4  2016-03-31 00:00:00                 0       60437  2016-04-06 10:17:21  "
      ]
     },
     "execution_count": 31,
     "metadata": {},
     "output_type": "execute_result"
    }
   ],
   "source": [
    "data = pd.read_csv('/datasets/autos.csv') \n",
    "data.head()"
   ]
  },
  {
   "cell_type": "code",
   "execution_count": 32,
   "metadata": {},
   "outputs": [
    {
     "name": "stdout",
     "output_type": "stream",
     "text": [
      "<class 'pandas.core.frame.DataFrame'>\n",
      "RangeIndex: 354369 entries, 0 to 354368\n",
      "Data columns (total 16 columns):\n",
      "DateCrawled          354369 non-null object\n",
      "Price                354369 non-null int64\n",
      "VehicleType          316879 non-null object\n",
      "RegistrationYear     354369 non-null int64\n",
      "Gearbox              334536 non-null object\n",
      "Power                354369 non-null int64\n",
      "Model                334664 non-null object\n",
      "Kilometer            354369 non-null int64\n",
      "RegistrationMonth    354369 non-null int64\n",
      "FuelType             321474 non-null object\n",
      "Brand                354369 non-null object\n",
      "NotRepaired          283215 non-null object\n",
      "DateCreated          354369 non-null object\n",
      "NumberOfPictures     354369 non-null int64\n",
      "PostalCode           354369 non-null int64\n",
      "LastSeen             354369 non-null object\n",
      "dtypes: int64(7), object(9)\n",
      "memory usage: 43.3+ MB\n"
     ]
    }
   ],
   "source": [
    "data.info()"
   ]
  },
  {
   "cell_type": "code",
   "execution_count": 33,
   "metadata": {},
   "outputs": [
    {
     "data": {
      "text/plain": [
       "count    354369.000000\n",
       "mean        110.094337\n",
       "std         189.850405\n",
       "min           0.000000\n",
       "25%          69.000000\n",
       "50%         105.000000\n",
       "75%         143.000000\n",
       "max       20000.000000\n",
       "Name: Power, dtype: float64"
      ]
     },
     "execution_count": 33,
     "metadata": {},
     "output_type": "execute_result"
    }
   ],
   "source": [
    "data['Power'].describe()"
   ]
  },
  {
   "cell_type": "code",
   "execution_count": 34,
   "metadata": {},
   "outputs": [
    {
     "data": {
      "text/html": [
       "<div>\n",
       "<style scoped>\n",
       "    .dataframe tbody tr th:only-of-type {\n",
       "        vertical-align: middle;\n",
       "    }\n",
       "\n",
       "    .dataframe tbody tr th {\n",
       "        vertical-align: top;\n",
       "    }\n",
       "\n",
       "    .dataframe thead th {\n",
       "        text-align: right;\n",
       "    }\n",
       "</style>\n",
       "<table border=\"1\" class=\"dataframe\">\n",
       "  <thead>\n",
       "    <tr style=\"text-align: right;\">\n",
       "      <th></th>\n",
       "      <th>DateCrawled</th>\n",
       "      <th>Price</th>\n",
       "      <th>VehicleType</th>\n",
       "      <th>RegistrationYear</th>\n",
       "      <th>Gearbox</th>\n",
       "      <th>Power</th>\n",
       "      <th>Model</th>\n",
       "      <th>Kilometer</th>\n",
       "      <th>RegistrationMonth</th>\n",
       "      <th>FuelType</th>\n",
       "      <th>Brand</th>\n",
       "      <th>NotRepaired</th>\n",
       "      <th>DateCreated</th>\n",
       "      <th>NumberOfPictures</th>\n",
       "      <th>PostalCode</th>\n",
       "      <th>LastSeen</th>\n",
       "    </tr>\n",
       "  </thead>\n",
       "  <tbody>\n",
       "    <tr>\n",
       "      <td>1816</td>\n",
       "      <td>2016-03-22 20:52:00</td>\n",
       "      <td>3200</td>\n",
       "      <td>small</td>\n",
       "      <td>2004</td>\n",
       "      <td>manual</td>\n",
       "      <td>1398</td>\n",
       "      <td>corolla</td>\n",
       "      <td>5000</td>\n",
       "      <td>6</td>\n",
       "      <td>petrol</td>\n",
       "      <td>toyota</td>\n",
       "      <td>no</td>\n",
       "      <td>2016-03-22 00:00:00</td>\n",
       "      <td>0</td>\n",
       "      <td>22043</td>\n",
       "      <td>2016-03-22 21:43:26</td>\n",
       "    </tr>\n",
       "    <tr>\n",
       "      <td>2102</td>\n",
       "      <td>2016-03-21 11:55:22</td>\n",
       "      <td>0</td>\n",
       "      <td>sedan</td>\n",
       "      <td>1999</td>\n",
       "      <td>NaN</td>\n",
       "      <td>1799</td>\n",
       "      <td>vectra</td>\n",
       "      <td>150000</td>\n",
       "      <td>1</td>\n",
       "      <td>petrol</td>\n",
       "      <td>opel</td>\n",
       "      <td>yes</td>\n",
       "      <td>2016-03-21 00:00:00</td>\n",
       "      <td>0</td>\n",
       "      <td>1723</td>\n",
       "      <td>2016-04-04 04:49:06</td>\n",
       "    </tr>\n",
       "    <tr>\n",
       "      <td>3746</td>\n",
       "      <td>2016-03-21 14:48:31</td>\n",
       "      <td>0</td>\n",
       "      <td>NaN</td>\n",
       "      <td>2017</td>\n",
       "      <td>manual</td>\n",
       "      <td>750</td>\n",
       "      <td>NaN</td>\n",
       "      <td>150000</td>\n",
       "      <td>8</td>\n",
       "      <td>petrol</td>\n",
       "      <td>smart</td>\n",
       "      <td>no</td>\n",
       "      <td>2016-03-21 00:00:00</td>\n",
       "      <td>0</td>\n",
       "      <td>49356</td>\n",
       "      <td>2016-03-24 03:44:59</td>\n",
       "    </tr>\n",
       "    <tr>\n",
       "      <td>4060</td>\n",
       "      <td>2016-04-03 20:31:00</td>\n",
       "      <td>3100</td>\n",
       "      <td>sedan</td>\n",
       "      <td>2005</td>\n",
       "      <td>manual</td>\n",
       "      <td>953</td>\n",
       "      <td>colt</td>\n",
       "      <td>150000</td>\n",
       "      <td>4</td>\n",
       "      <td>gasoline</td>\n",
       "      <td>mitsubishi</td>\n",
       "      <td>no</td>\n",
       "      <td>2016-04-03 00:00:00</td>\n",
       "      <td>0</td>\n",
       "      <td>60326</td>\n",
       "      <td>2016-04-07 14:56:46</td>\n",
       "    </tr>\n",
       "    <tr>\n",
       "      <td>5328</td>\n",
       "      <td>2016-03-29 19:44:48</td>\n",
       "      <td>500</td>\n",
       "      <td>wagon</td>\n",
       "      <td>1999</td>\n",
       "      <td>manual</td>\n",
       "      <td>1001</td>\n",
       "      <td>astra</td>\n",
       "      <td>150000</td>\n",
       "      <td>7</td>\n",
       "      <td>petrol</td>\n",
       "      <td>opel</td>\n",
       "      <td>NaN</td>\n",
       "      <td>2016-03-29 00:00:00</td>\n",
       "      <td>0</td>\n",
       "      <td>33154</td>\n",
       "      <td>2016-04-06 05:44:36</td>\n",
       "    </tr>\n",
       "    <tr>\n",
       "      <td>...</td>\n",
       "      <td>...</td>\n",
       "      <td>...</td>\n",
       "      <td>...</td>\n",
       "      <td>...</td>\n",
       "      <td>...</td>\n",
       "      <td>...</td>\n",
       "      <td>...</td>\n",
       "      <td>...</td>\n",
       "      <td>...</td>\n",
       "      <td>...</td>\n",
       "      <td>...</td>\n",
       "      <td>...</td>\n",
       "      <td>...</td>\n",
       "      <td>...</td>\n",
       "      <td>...</td>\n",
       "      <td>...</td>\n",
       "    </tr>\n",
       "    <tr>\n",
       "      <td>348968</td>\n",
       "      <td>2016-04-04 18:53:25</td>\n",
       "      <td>250</td>\n",
       "      <td>small</td>\n",
       "      <td>1999</td>\n",
       "      <td>manual</td>\n",
       "      <td>1241</td>\n",
       "      <td>ypsilon</td>\n",
       "      <td>150000</td>\n",
       "      <td>5</td>\n",
       "      <td>petrol</td>\n",
       "      <td>lancia</td>\n",
       "      <td>yes</td>\n",
       "      <td>2016-04-04 00:00:00</td>\n",
       "      <td>0</td>\n",
       "      <td>28259</td>\n",
       "      <td>2016-04-04 18:53:25</td>\n",
       "    </tr>\n",
       "    <tr>\n",
       "      <td>351947</td>\n",
       "      <td>2016-03-07 21:36:19</td>\n",
       "      <td>1500</td>\n",
       "      <td>bus</td>\n",
       "      <td>2001</td>\n",
       "      <td>manual</td>\n",
       "      <td>1001</td>\n",
       "      <td>zafira</td>\n",
       "      <td>5000</td>\n",
       "      <td>7</td>\n",
       "      <td>gasoline</td>\n",
       "      <td>opel</td>\n",
       "      <td>no</td>\n",
       "      <td>2016-03-07 00:00:00</td>\n",
       "      <td>0</td>\n",
       "      <td>66117</td>\n",
       "      <td>2016-03-09 12:47:08</td>\n",
       "    </tr>\n",
       "    <tr>\n",
       "      <td>353493</td>\n",
       "      <td>2016-04-02 20:54:21</td>\n",
       "      <td>12500</td>\n",
       "      <td>NaN</td>\n",
       "      <td>2017</td>\n",
       "      <td>manual</td>\n",
       "      <td>2000</td>\n",
       "      <td>other</td>\n",
       "      <td>60000</td>\n",
       "      <td>0</td>\n",
       "      <td>gasoline</td>\n",
       "      <td>chrysler</td>\n",
       "      <td>no</td>\n",
       "      <td>2016-04-02 00:00:00</td>\n",
       "      <td>0</td>\n",
       "      <td>44145</td>\n",
       "      <td>2016-04-06 21:44:39</td>\n",
       "    </tr>\n",
       "    <tr>\n",
       "      <td>353633</td>\n",
       "      <td>2016-03-23 23:55:21</td>\n",
       "      <td>2400</td>\n",
       "      <td>sedan</td>\n",
       "      <td>2007</td>\n",
       "      <td>manual</td>\n",
       "      <td>650</td>\n",
       "      <td>c2</td>\n",
       "      <td>150000</td>\n",
       "      <td>8</td>\n",
       "      <td>petrol</td>\n",
       "      <td>citroen</td>\n",
       "      <td>NaN</td>\n",
       "      <td>2016-03-23 00:00:00</td>\n",
       "      <td>0</td>\n",
       "      <td>45277</td>\n",
       "      <td>2016-03-27 01:15:17</td>\n",
       "    </tr>\n",
       "    <tr>\n",
       "      <td>354260</td>\n",
       "      <td>2016-03-09 17:59:03</td>\n",
       "      <td>399</td>\n",
       "      <td>other</td>\n",
       "      <td>1994</td>\n",
       "      <td>NaN</td>\n",
       "      <td>1103</td>\n",
       "      <td>3er</td>\n",
       "      <td>150000</td>\n",
       "      <td>0</td>\n",
       "      <td>NaN</td>\n",
       "      <td>bmw</td>\n",
       "      <td>NaN</td>\n",
       "      <td>2016-03-09 00:00:00</td>\n",
       "      <td>0</td>\n",
       "      <td>56235</td>\n",
       "      <td>2016-03-17 09:17:08</td>\n",
       "    </tr>\n",
       "  </tbody>\n",
       "</table>\n",
       "<p>394 rows × 16 columns</p>\n",
       "</div>"
      ],
      "text/plain": [
       "                DateCrawled  Price VehicleType  RegistrationYear Gearbox  \\\n",
       "1816    2016-03-22 20:52:00   3200       small              2004  manual   \n",
       "2102    2016-03-21 11:55:22      0       sedan              1999     NaN   \n",
       "3746    2016-03-21 14:48:31      0         NaN              2017  manual   \n",
       "4060    2016-04-03 20:31:00   3100       sedan              2005  manual   \n",
       "5328    2016-03-29 19:44:48    500       wagon              1999  manual   \n",
       "...                     ...    ...         ...               ...     ...   \n",
       "348968  2016-04-04 18:53:25    250       small              1999  manual   \n",
       "351947  2016-03-07 21:36:19   1500         bus              2001  manual   \n",
       "353493  2016-04-02 20:54:21  12500         NaN              2017  manual   \n",
       "353633  2016-03-23 23:55:21   2400       sedan              2007  manual   \n",
       "354260  2016-03-09 17:59:03    399       other              1994     NaN   \n",
       "\n",
       "        Power    Model  Kilometer  RegistrationMonth  FuelType       Brand  \\\n",
       "1816     1398  corolla       5000                  6    petrol      toyota   \n",
       "2102     1799   vectra     150000                  1    petrol        opel   \n",
       "3746      750      NaN     150000                  8    petrol       smart   \n",
       "4060      953     colt     150000                  4  gasoline  mitsubishi   \n",
       "5328     1001    astra     150000                  7    petrol        opel   \n",
       "...       ...      ...        ...                ...       ...         ...   \n",
       "348968   1241  ypsilon     150000                  5    petrol      lancia   \n",
       "351947   1001   zafira       5000                  7  gasoline        opel   \n",
       "353493   2000    other      60000                  0  gasoline    chrysler   \n",
       "353633    650       c2     150000                  8    petrol     citroen   \n",
       "354260   1103      3er     150000                  0       NaN         bmw   \n",
       "\n",
       "       NotRepaired          DateCreated  NumberOfPictures  PostalCode  \\\n",
       "1816            no  2016-03-22 00:00:00                 0       22043   \n",
       "2102           yes  2016-03-21 00:00:00                 0        1723   \n",
       "3746            no  2016-03-21 00:00:00                 0       49356   \n",
       "4060            no  2016-04-03 00:00:00                 0       60326   \n",
       "5328           NaN  2016-03-29 00:00:00                 0       33154   \n",
       "...            ...                  ...               ...         ...   \n",
       "348968         yes  2016-04-04 00:00:00                 0       28259   \n",
       "351947          no  2016-03-07 00:00:00                 0       66117   \n",
       "353493          no  2016-04-02 00:00:00                 0       44145   \n",
       "353633         NaN  2016-03-23 00:00:00                 0       45277   \n",
       "354260         NaN  2016-03-09 00:00:00                 0       56235   \n",
       "\n",
       "                   LastSeen  \n",
       "1816    2016-03-22 21:43:26  \n",
       "2102    2016-04-04 04:49:06  \n",
       "3746    2016-03-24 03:44:59  \n",
       "4060    2016-04-07 14:56:46  \n",
       "5328    2016-04-06 05:44:36  \n",
       "...                     ...  \n",
       "348968  2016-04-04 18:53:25  \n",
       "351947  2016-03-09 12:47:08  \n",
       "353493  2016-04-06 21:44:39  \n",
       "353633  2016-03-27 01:15:17  \n",
       "354260  2016-03-17 09:17:08  \n",
       "\n",
       "[394 rows x 16 columns]"
      ]
     },
     "execution_count": 34,
     "metadata": {},
     "output_type": "execute_result"
    }
   ],
   "source": [
    "data.query('Power>=600')"
   ]
  },
  {
   "cell_type": "markdown",
   "metadata": {},
   "source": [
    "В дата сете есть пропуски, также есть аномальные данные, например в столбце Power, видимо ошибка при занесении"
   ]
  },
  {
   "cell_type": "code",
   "execution_count": 35,
   "metadata": {
    "scrolled": true
   },
   "outputs": [
    {
     "data": {
      "text/plain": [
       "0"
      ]
     },
     "execution_count": 35,
     "metadata": {},
     "output_type": "execute_result"
    }
   ],
   "source": [
    "data['Brand'].isnull().sum()"
   ]
  },
  {
   "cell_type": "raw",
   "metadata": {
    "scrolled": true
   },
   "source": [
    "#data['ZeroP']=data.query('Price == 0')\n",
    "\n",
    "data['ZeroP'] = None\n",
    "data['ZeroP']=data.query('Price == 0')\n",
    "data"
   ]
  },
  {
   "cell_type": "code",
   "execution_count": 36,
   "metadata": {
    "scrolled": true
   },
   "outputs": [
    {
     "data": {
      "text/html": [
       "<div>\n",
       "<style scoped>\n",
       "    .dataframe tbody tr th:only-of-type {\n",
       "        vertical-align: middle;\n",
       "    }\n",
       "\n",
       "    .dataframe tbody tr th {\n",
       "        vertical-align: top;\n",
       "    }\n",
       "\n",
       "    .dataframe thead th {\n",
       "        text-align: right;\n",
       "    }\n",
       "</style>\n",
       "<table border=\"1\" class=\"dataframe\">\n",
       "  <thead>\n",
       "    <tr style=\"text-align: right;\">\n",
       "      <th></th>\n",
       "      <th>Price</th>\n",
       "      <th>Brand</th>\n",
       "      <th>VehicleType</th>\n",
       "    </tr>\n",
       "  </thead>\n",
       "  <tbody>\n",
       "    <tr>\n",
       "      <td>0</td>\n",
       "      <td>480</td>\n",
       "      <td>volkswagen</td>\n",
       "      <td>NaN</td>\n",
       "    </tr>\n",
       "    <tr>\n",
       "      <td>1</td>\n",
       "      <td>18300</td>\n",
       "      <td>audi</td>\n",
       "      <td>coupe</td>\n",
       "    </tr>\n",
       "    <tr>\n",
       "      <td>2</td>\n",
       "      <td>9800</td>\n",
       "      <td>jeep</td>\n",
       "      <td>suv</td>\n",
       "    </tr>\n",
       "    <tr>\n",
       "      <td>3</td>\n",
       "      <td>1500</td>\n",
       "      <td>volkswagen</td>\n",
       "      <td>small</td>\n",
       "    </tr>\n",
       "    <tr>\n",
       "      <td>4</td>\n",
       "      <td>3600</td>\n",
       "      <td>skoda</td>\n",
       "      <td>small</td>\n",
       "    </tr>\n",
       "    <tr>\n",
       "      <td>...</td>\n",
       "      <td>...</td>\n",
       "      <td>...</td>\n",
       "      <td>...</td>\n",
       "    </tr>\n",
       "    <tr>\n",
       "      <td>354364</td>\n",
       "      <td>0</td>\n",
       "      <td>mitsubishi</td>\n",
       "      <td>NaN</td>\n",
       "    </tr>\n",
       "    <tr>\n",
       "      <td>354365</td>\n",
       "      <td>2200</td>\n",
       "      <td>sonstige_autos</td>\n",
       "      <td>NaN</td>\n",
       "    </tr>\n",
       "    <tr>\n",
       "      <td>354366</td>\n",
       "      <td>1199</td>\n",
       "      <td>smart</td>\n",
       "      <td>convertible</td>\n",
       "    </tr>\n",
       "    <tr>\n",
       "      <td>354367</td>\n",
       "      <td>9200</td>\n",
       "      <td>volkswagen</td>\n",
       "      <td>bus</td>\n",
       "    </tr>\n",
       "    <tr>\n",
       "      <td>354368</td>\n",
       "      <td>3400</td>\n",
       "      <td>volkswagen</td>\n",
       "      <td>wagon</td>\n",
       "    </tr>\n",
       "  </tbody>\n",
       "</table>\n",
       "<p>354369 rows × 3 columns</p>\n",
       "</div>"
      ],
      "text/plain": [
       "        Price           Brand  VehicleType\n",
       "0         480      volkswagen          NaN\n",
       "1       18300            audi        coupe\n",
       "2        9800            jeep          suv\n",
       "3        1500      volkswagen        small\n",
       "4        3600           skoda        small\n",
       "...       ...             ...          ...\n",
       "354364      0      mitsubishi          NaN\n",
       "354365   2200  sonstige_autos          NaN\n",
       "354366   1199           smart  convertible\n",
       "354367   9200      volkswagen          bus\n",
       "354368   3400      volkswagen        wagon\n",
       "\n",
       "[354369 rows x 3 columns]"
      ]
     },
     "execution_count": 36,
     "metadata": {},
     "output_type": "execute_result"
    }
   ],
   "source": [
    "data[['Price','Brand','VehicleType']]"
   ]
  },
  {
   "cell_type": "code",
   "execution_count": 37,
   "metadata": {
    "scrolled": false
   },
   "outputs": [
    {
     "data": {
      "text/html": [
       "<div>\n",
       "<style scoped>\n",
       "    .dataframe tbody tr th:only-of-type {\n",
       "        vertical-align: middle;\n",
       "    }\n",
       "\n",
       "    .dataframe tbody tr th {\n",
       "        vertical-align: top;\n",
       "    }\n",
       "\n",
       "    .dataframe thead th {\n",
       "        text-align: right;\n",
       "    }\n",
       "</style>\n",
       "<table border=\"1\" class=\"dataframe\">\n",
       "  <thead>\n",
       "    <tr style=\"text-align: right;\">\n",
       "      <th></th>\n",
       "      <th></th>\n",
       "      <th>Price</th>\n",
       "    </tr>\n",
       "    <tr>\n",
       "      <th>Brand</th>\n",
       "      <th>VehicleType</th>\n",
       "      <th></th>\n",
       "    </tr>\n",
       "  </thead>\n",
       "  <tbody>\n",
       "    <tr>\n",
       "      <td rowspan=\"5\" valign=\"top\">alfa_romeo</td>\n",
       "      <td>convertible</td>\n",
       "      <td>7035.727778</td>\n",
       "    </tr>\n",
       "    <tr>\n",
       "      <td>coupe</td>\n",
       "      <td>5106.205240</td>\n",
       "    </tr>\n",
       "    <tr>\n",
       "      <td>other</td>\n",
       "      <td>3153.333333</td>\n",
       "    </tr>\n",
       "    <tr>\n",
       "      <td>sedan</td>\n",
       "      <td>3045.095238</td>\n",
       "    </tr>\n",
       "    <tr>\n",
       "      <td>small</td>\n",
       "      <td>4466.242678</td>\n",
       "    </tr>\n",
       "    <tr>\n",
       "      <td>...</td>\n",
       "      <td>...</td>\n",
       "      <td>...</td>\n",
       "    </tr>\n",
       "    <tr>\n",
       "      <td rowspan=\"5\" valign=\"top\">volvo</td>\n",
       "      <td>other</td>\n",
       "      <td>11588.000000</td>\n",
       "    </tr>\n",
       "    <tr>\n",
       "      <td>sedan</td>\n",
       "      <td>4680.300156</td>\n",
       "    </tr>\n",
       "    <tr>\n",
       "      <td>small</td>\n",
       "      <td>3912.714286</td>\n",
       "    </tr>\n",
       "    <tr>\n",
       "      <td>suv</td>\n",
       "      <td>11857.031674</td>\n",
       "    </tr>\n",
       "    <tr>\n",
       "      <td>wagon</td>\n",
       "      <td>3247.175968</td>\n",
       "    </tr>\n",
       "  </tbody>\n",
       "</table>\n",
       "<p>296 rows × 1 columns</p>\n",
       "</div>"
      ],
      "text/plain": [
       "                               Price\n",
       "Brand      VehicleType              \n",
       "alfa_romeo convertible   7035.727778\n",
       "           coupe         5106.205240\n",
       "           other         3153.333333\n",
       "           sedan         3045.095238\n",
       "           small         4466.242678\n",
       "...                              ...\n",
       "volvo      other        11588.000000\n",
       "           sedan         4680.300156\n",
       "           small         3912.714286\n",
       "           suv          11857.031674\n",
       "           wagon         3247.175968\n",
       "\n",
       "[296 rows x 1 columns]"
      ]
     },
     "execution_count": 37,
     "metadata": {},
     "output_type": "execute_result"
    }
   ],
   "source": [
    "chek = data.pivot_table('Price',index=['Brand','VehicleType'])\n",
    "chek"
   ]
  },
  {
   "cell_type": "code",
   "execution_count": 39,
   "metadata": {
    "scrolled": true
   },
   "outputs": [
    {
     "data": {
      "text/plain": [
       "0           480\n",
       "1         18300\n",
       "2          9800\n",
       "3          1500\n",
       "4          3600\n",
       "          ...  \n",
       "354364        0\n",
       "354365     2200\n",
       "354366     1199\n",
       "354367     9200\n",
       "354368     3400\n",
       "Name: Price, Length: 354369, dtype: int64"
      ]
     },
     "execution_count": 39,
     "metadata": {},
     "output_type": "execute_result"
    }
   ],
   "source": [
    "data['Price'].replace('0', chek)"
   ]
  },
  {
   "cell_type": "code",
   "execution_count": 44,
   "metadata": {},
   "outputs": [
    {
     "data": {
      "text/html": [
       "<div>\n",
       "<style scoped>\n",
       "    .dataframe tbody tr th:only-of-type {\n",
       "        vertical-align: middle;\n",
       "    }\n",
       "\n",
       "    .dataframe tbody tr th {\n",
       "        vertical-align: top;\n",
       "    }\n",
       "\n",
       "    .dataframe thead th {\n",
       "        text-align: right;\n",
       "    }\n",
       "</style>\n",
       "<table border=\"1\" class=\"dataframe\">\n",
       "  <thead>\n",
       "    <tr style=\"text-align: right;\">\n",
       "      <th></th>\n",
       "      <th>DateCrawled</th>\n",
       "      <th>Price</th>\n",
       "      <th>VehicleType</th>\n",
       "      <th>RegistrationYear</th>\n",
       "      <th>Gearbox</th>\n",
       "      <th>Power</th>\n",
       "      <th>Model</th>\n",
       "      <th>Kilometer</th>\n",
       "      <th>RegistrationMonth</th>\n",
       "      <th>FuelType</th>\n",
       "      <th>Brand</th>\n",
       "      <th>NotRepaired</th>\n",
       "      <th>DateCreated</th>\n",
       "      <th>NumberOfPictures</th>\n",
       "      <th>PostalCode</th>\n",
       "      <th>LastSeen</th>\n",
       "    </tr>\n",
       "  </thead>\n",
       "  <tbody>\n",
       "    <tr>\n",
       "      <td>0</td>\n",
       "      <td>2016-03-24 11:52:17</td>\n",
       "      <td>480</td>\n",
       "      <td>sedan</td>\n",
       "      <td>1993</td>\n",
       "      <td>manual</td>\n",
       "      <td>0</td>\n",
       "      <td>golf</td>\n",
       "      <td>150000</td>\n",
       "      <td>0</td>\n",
       "      <td>petrol</td>\n",
       "      <td>volkswagen</td>\n",
       "      <td>no</td>\n",
       "      <td>2016-03-24 00:00:00</td>\n",
       "      <td>0</td>\n",
       "      <td>70435</td>\n",
       "      <td>2016-04-07 03:16:57</td>\n",
       "    </tr>\n",
       "    <tr>\n",
       "      <td>1</td>\n",
       "      <td>2016-03-24 10:58:45</td>\n",
       "      <td>18300</td>\n",
       "      <td>coupe</td>\n",
       "      <td>2011</td>\n",
       "      <td>manual</td>\n",
       "      <td>190</td>\n",
       "      <td>golf</td>\n",
       "      <td>125000</td>\n",
       "      <td>5</td>\n",
       "      <td>gasoline</td>\n",
       "      <td>audi</td>\n",
       "      <td>yes</td>\n",
       "      <td>2016-03-24 00:00:00</td>\n",
       "      <td>0</td>\n",
       "      <td>66954</td>\n",
       "      <td>2016-04-07 01:46:50</td>\n",
       "    </tr>\n",
       "    <tr>\n",
       "      <td>2</td>\n",
       "      <td>2016-03-14 12:52:21</td>\n",
       "      <td>9800</td>\n",
       "      <td>suv</td>\n",
       "      <td>2004</td>\n",
       "      <td>auto</td>\n",
       "      <td>163</td>\n",
       "      <td>grand</td>\n",
       "      <td>125000</td>\n",
       "      <td>8</td>\n",
       "      <td>gasoline</td>\n",
       "      <td>jeep</td>\n",
       "      <td>no</td>\n",
       "      <td>2016-03-14 00:00:00</td>\n",
       "      <td>0</td>\n",
       "      <td>90480</td>\n",
       "      <td>2016-04-05 12:47:46</td>\n",
       "    </tr>\n",
       "    <tr>\n",
       "      <td>3</td>\n",
       "      <td>2016-03-17 16:54:04</td>\n",
       "      <td>1500</td>\n",
       "      <td>small</td>\n",
       "      <td>2001</td>\n",
       "      <td>manual</td>\n",
       "      <td>75</td>\n",
       "      <td>golf</td>\n",
       "      <td>150000</td>\n",
       "      <td>6</td>\n",
       "      <td>petrol</td>\n",
       "      <td>volkswagen</td>\n",
       "      <td>no</td>\n",
       "      <td>2016-03-17 00:00:00</td>\n",
       "      <td>0</td>\n",
       "      <td>91074</td>\n",
       "      <td>2016-03-17 17:40:17</td>\n",
       "    </tr>\n",
       "    <tr>\n",
       "      <td>4</td>\n",
       "      <td>2016-03-31 17:25:20</td>\n",
       "      <td>3600</td>\n",
       "      <td>small</td>\n",
       "      <td>2008</td>\n",
       "      <td>manual</td>\n",
       "      <td>69</td>\n",
       "      <td>fabia</td>\n",
       "      <td>90000</td>\n",
       "      <td>7</td>\n",
       "      <td>gasoline</td>\n",
       "      <td>skoda</td>\n",
       "      <td>no</td>\n",
       "      <td>2016-03-31 00:00:00</td>\n",
       "      <td>0</td>\n",
       "      <td>60437</td>\n",
       "      <td>2016-04-06 10:17:21</td>\n",
       "    </tr>\n",
       "    <tr>\n",
       "      <td>...</td>\n",
       "      <td>...</td>\n",
       "      <td>...</td>\n",
       "      <td>...</td>\n",
       "      <td>...</td>\n",
       "      <td>...</td>\n",
       "      <td>...</td>\n",
       "      <td>...</td>\n",
       "      <td>...</td>\n",
       "      <td>...</td>\n",
       "      <td>...</td>\n",
       "      <td>...</td>\n",
       "      <td>...</td>\n",
       "      <td>...</td>\n",
       "      <td>...</td>\n",
       "      <td>...</td>\n",
       "      <td>...</td>\n",
       "    </tr>\n",
       "    <tr>\n",
       "      <td>354364</td>\n",
       "      <td>2016-03-21 09:50:58</td>\n",
       "      <td>0</td>\n",
       "      <td>sedan</td>\n",
       "      <td>2005</td>\n",
       "      <td>manual</td>\n",
       "      <td>0</td>\n",
       "      <td>colt</td>\n",
       "      <td>150000</td>\n",
       "      <td>7</td>\n",
       "      <td>petrol</td>\n",
       "      <td>mitsubishi</td>\n",
       "      <td>yes</td>\n",
       "      <td>2016-03-21 00:00:00</td>\n",
       "      <td>0</td>\n",
       "      <td>2694</td>\n",
       "      <td>2016-03-21 10:42:49</td>\n",
       "    </tr>\n",
       "    <tr>\n",
       "      <td>354365</td>\n",
       "      <td>2016-03-14 17:48:27</td>\n",
       "      <td>2200</td>\n",
       "      <td>sedan</td>\n",
       "      <td>2005</td>\n",
       "      <td>manual</td>\n",
       "      <td>0</td>\n",
       "      <td>golf</td>\n",
       "      <td>20000</td>\n",
       "      <td>1</td>\n",
       "      <td>petrol</td>\n",
       "      <td>sonstige_autos</td>\n",
       "      <td>no</td>\n",
       "      <td>2016-03-14 00:00:00</td>\n",
       "      <td>0</td>\n",
       "      <td>39576</td>\n",
       "      <td>2016-04-06 00:46:52</td>\n",
       "    </tr>\n",
       "    <tr>\n",
       "      <td>354366</td>\n",
       "      <td>2016-03-05 19:56:21</td>\n",
       "      <td>1199</td>\n",
       "      <td>convertible</td>\n",
       "      <td>2000</td>\n",
       "      <td>auto</td>\n",
       "      <td>101</td>\n",
       "      <td>fortwo</td>\n",
       "      <td>125000</td>\n",
       "      <td>3</td>\n",
       "      <td>petrol</td>\n",
       "      <td>smart</td>\n",
       "      <td>no</td>\n",
       "      <td>2016-03-05 00:00:00</td>\n",
       "      <td>0</td>\n",
       "      <td>26135</td>\n",
       "      <td>2016-03-11 18:17:12</td>\n",
       "    </tr>\n",
       "    <tr>\n",
       "      <td>354367</td>\n",
       "      <td>2016-03-19 18:57:12</td>\n",
       "      <td>9200</td>\n",
       "      <td>bus</td>\n",
       "      <td>1996</td>\n",
       "      <td>manual</td>\n",
       "      <td>102</td>\n",
       "      <td>transporter</td>\n",
       "      <td>150000</td>\n",
       "      <td>3</td>\n",
       "      <td>gasoline</td>\n",
       "      <td>volkswagen</td>\n",
       "      <td>no</td>\n",
       "      <td>2016-03-19 00:00:00</td>\n",
       "      <td>0</td>\n",
       "      <td>87439</td>\n",
       "      <td>2016-04-07 07:15:26</td>\n",
       "    </tr>\n",
       "    <tr>\n",
       "      <td>354368</td>\n",
       "      <td>2016-03-20 19:41:08</td>\n",
       "      <td>3400</td>\n",
       "      <td>wagon</td>\n",
       "      <td>2002</td>\n",
       "      <td>manual</td>\n",
       "      <td>100</td>\n",
       "      <td>golf</td>\n",
       "      <td>150000</td>\n",
       "      <td>6</td>\n",
       "      <td>gasoline</td>\n",
       "      <td>volkswagen</td>\n",
       "      <td>no</td>\n",
       "      <td>2016-03-20 00:00:00</td>\n",
       "      <td>0</td>\n",
       "      <td>40764</td>\n",
       "      <td>2016-03-24 12:45:21</td>\n",
       "    </tr>\n",
       "  </tbody>\n",
       "</table>\n",
       "<p>354369 rows × 16 columns</p>\n",
       "</div>"
      ],
      "text/plain": [
       "                DateCrawled  Price  VehicleType  RegistrationYear Gearbox  \\\n",
       "0       2016-03-24 11:52:17    480        sedan              1993  manual   \n",
       "1       2016-03-24 10:58:45  18300        coupe              2011  manual   \n",
       "2       2016-03-14 12:52:21   9800          suv              2004    auto   \n",
       "3       2016-03-17 16:54:04   1500        small              2001  manual   \n",
       "4       2016-03-31 17:25:20   3600        small              2008  manual   \n",
       "...                     ...    ...          ...               ...     ...   \n",
       "354364  2016-03-21 09:50:58      0        sedan              2005  manual   \n",
       "354365  2016-03-14 17:48:27   2200        sedan              2005  manual   \n",
       "354366  2016-03-05 19:56:21   1199  convertible              2000    auto   \n",
       "354367  2016-03-19 18:57:12   9200          bus              1996  manual   \n",
       "354368  2016-03-20 19:41:08   3400        wagon              2002  manual   \n",
       "\n",
       "        Power        Model  Kilometer  RegistrationMonth  FuelType  \\\n",
       "0           0         golf     150000                  0    petrol   \n",
       "1         190         golf     125000                  5  gasoline   \n",
       "2         163        grand     125000                  8  gasoline   \n",
       "3          75         golf     150000                  6    petrol   \n",
       "4          69        fabia      90000                  7  gasoline   \n",
       "...       ...          ...        ...                ...       ...   \n",
       "354364      0         colt     150000                  7    petrol   \n",
       "354365      0         golf      20000                  1    petrol   \n",
       "354366    101       fortwo     125000                  3    petrol   \n",
       "354367    102  transporter     150000                  3  gasoline   \n",
       "354368    100         golf     150000                  6  gasoline   \n",
       "\n",
       "                 Brand NotRepaired          DateCreated  NumberOfPictures  \\\n",
       "0           volkswagen          no  2016-03-24 00:00:00                 0   \n",
       "1                 audi         yes  2016-03-24 00:00:00                 0   \n",
       "2                 jeep          no  2016-03-14 00:00:00                 0   \n",
       "3           volkswagen          no  2016-03-17 00:00:00                 0   \n",
       "4                skoda          no  2016-03-31 00:00:00                 0   \n",
       "...                ...         ...                  ...               ...   \n",
       "354364      mitsubishi         yes  2016-03-21 00:00:00                 0   \n",
       "354365  sonstige_autos          no  2016-03-14 00:00:00                 0   \n",
       "354366           smart          no  2016-03-05 00:00:00                 0   \n",
       "354367      volkswagen          no  2016-03-19 00:00:00                 0   \n",
       "354368      volkswagen          no  2016-03-20 00:00:00                 0   \n",
       "\n",
       "        PostalCode             LastSeen  \n",
       "0            70435  2016-04-07 03:16:57  \n",
       "1            66954  2016-04-07 01:46:50  \n",
       "2            90480  2016-04-05 12:47:46  \n",
       "3            91074  2016-03-17 17:40:17  \n",
       "4            60437  2016-04-06 10:17:21  \n",
       "...            ...                  ...  \n",
       "354364        2694  2016-03-21 10:42:49  \n",
       "354365       39576  2016-04-06 00:46:52  \n",
       "354366       26135  2016-03-11 18:17:12  \n",
       "354367       87439  2016-04-07 07:15:26  \n",
       "354368       40764  2016-03-24 12:45:21  \n",
       "\n",
       "[354369 rows x 16 columns]"
      ]
     },
     "execution_count": 44,
     "metadata": {},
     "output_type": "execute_result"
    }
   ],
   "source": [
    "data"
   ]
  },
  {
   "cell_type": "code",
   "execution_count": 45,
   "metadata": {},
   "outputs": [],
   "source": [
    "data[\"VehicleType\"] = data[\"VehicleType\"].fillna(data[\"VehicleType\"].mode().values[0])\n",
    "data[\"Gearbox\"] = data[\"Gearbox\"].fillna(data[\"Gearbox\"].mode().values[0])\n",
    "data[\"Model\"] = data[\"Model\"].fillna(data[\"Model\"].mode().values[0])\n",
    "data[\"FuelType\"] = data[\"FuelType\"].fillna(data[\"FuelType\"].mode().values[0])\n",
    "\n",
    "data[\"NotRepaired\"] = data[\"NotRepaired\"].fillna(\"no\")"
   ]
  },
  {
   "cell_type": "code",
   "execution_count": 46,
   "metadata": {},
   "outputs": [],
   "source": [
    "#data[\"VehicleType\"].describe()"
   ]
  },
  {
   "cell_type": "markdown",
   "metadata": {},
   "source": [
    "objects_columns = [\"VehicleType\",\"Gearbox\",\"Model\",\"FuelType\",\"Brand\",\"NotRepaired\"]\n",
    "for column in objects_columns:\n",
    "    print(column, pd.Series(data[column].unique()).str.lower().duplicated().sum())"
   ]
  },
  {
   "cell_type": "code",
   "execution_count": 47,
   "metadata": {},
   "outputs": [
    {
     "data": {
      "text/plain": [
       "5"
      ]
     },
     "execution_count": 47,
     "metadata": {},
     "output_type": "execute_result"
    }
   ],
   "source": [
    "data.duplicated().sum()"
   ]
  },
  {
   "cell_type": "code",
   "execution_count": 48,
   "metadata": {},
   "outputs": [
    {
     "data": {
      "text/plain": [
       "0"
      ]
     },
     "execution_count": 48,
     "metadata": {},
     "output_type": "execute_result"
    }
   ],
   "source": [
    "data = data.drop_duplicates()\n",
    "data.duplicated().sum()"
   ]
  },
  {
   "cell_type": "code",
   "execution_count": 49,
   "metadata": {},
   "outputs": [],
   "source": [
    "#print(data[\"Model\"].fillna(data[\"Model\"].mode().values[0]))"
   ]
  },
  {
   "cell_type": "code",
   "execution_count": 50,
   "metadata": {},
   "outputs": [
    {
     "data": {
      "text/html": [
       "<div>\n",
       "<style scoped>\n",
       "    .dataframe tbody tr th:only-of-type {\n",
       "        vertical-align: middle;\n",
       "    }\n",
       "\n",
       "    .dataframe tbody tr th {\n",
       "        vertical-align: top;\n",
       "    }\n",
       "\n",
       "    .dataframe thead th {\n",
       "        text-align: right;\n",
       "    }\n",
       "</style>\n",
       "<table border=\"1\" class=\"dataframe\">\n",
       "  <thead>\n",
       "    <tr style=\"text-align: right;\">\n",
       "      <th></th>\n",
       "      <th>Price</th>\n",
       "      <th>RegistrationYear</th>\n",
       "      <th>Power</th>\n",
       "      <th>Kilometer</th>\n",
       "      <th>RegistrationMonth</th>\n",
       "      <th>NumberOfPictures</th>\n",
       "      <th>PostalCode</th>\n",
       "    </tr>\n",
       "  </thead>\n",
       "  <tbody>\n",
       "    <tr>\n",
       "      <td>count</td>\n",
       "      <td>354364.000000</td>\n",
       "      <td>354364.000000</td>\n",
       "      <td>354364.000000</td>\n",
       "      <td>354364.000000</td>\n",
       "      <td>354364.000000</td>\n",
       "      <td>354364.0</td>\n",
       "      <td>354364.000000</td>\n",
       "    </tr>\n",
       "    <tr>\n",
       "      <td>mean</td>\n",
       "      <td>4416.655608</td>\n",
       "      <td>2004.234471</td>\n",
       "      <td>110.093723</td>\n",
       "      <td>128211.373051</td>\n",
       "      <td>5.714641</td>\n",
       "      <td>0.0</td>\n",
       "      <td>50508.461698</td>\n",
       "    </tr>\n",
       "    <tr>\n",
       "      <td>std</td>\n",
       "      <td>4514.159690</td>\n",
       "      <td>90.228593</td>\n",
       "      <td>189.851590</td>\n",
       "      <td>37905.136957</td>\n",
       "      <td>3.726433</td>\n",
       "      <td>0.0</td>\n",
       "      <td>25783.124276</td>\n",
       "    </tr>\n",
       "    <tr>\n",
       "      <td>min</td>\n",
       "      <td>0.000000</td>\n",
       "      <td>1000.000000</td>\n",
       "      <td>0.000000</td>\n",
       "      <td>5000.000000</td>\n",
       "      <td>0.000000</td>\n",
       "      <td>0.0</td>\n",
       "      <td>1067.000000</td>\n",
       "    </tr>\n",
       "    <tr>\n",
       "      <td>25%</td>\n",
       "      <td>1050.000000</td>\n",
       "      <td>1999.000000</td>\n",
       "      <td>69.000000</td>\n",
       "      <td>125000.000000</td>\n",
       "      <td>3.000000</td>\n",
       "      <td>0.0</td>\n",
       "      <td>30165.000000</td>\n",
       "    </tr>\n",
       "    <tr>\n",
       "      <td>50%</td>\n",
       "      <td>2700.000000</td>\n",
       "      <td>2003.000000</td>\n",
       "      <td>105.000000</td>\n",
       "      <td>150000.000000</td>\n",
       "      <td>6.000000</td>\n",
       "      <td>0.0</td>\n",
       "      <td>49409.500000</td>\n",
       "    </tr>\n",
       "    <tr>\n",
       "      <td>75%</td>\n",
       "      <td>6400.000000</td>\n",
       "      <td>2008.000000</td>\n",
       "      <td>143.000000</td>\n",
       "      <td>150000.000000</td>\n",
       "      <td>9.000000</td>\n",
       "      <td>0.0</td>\n",
       "      <td>71083.000000</td>\n",
       "    </tr>\n",
       "    <tr>\n",
       "      <td>max</td>\n",
       "      <td>20000.000000</td>\n",
       "      <td>9999.000000</td>\n",
       "      <td>20000.000000</td>\n",
       "      <td>150000.000000</td>\n",
       "      <td>12.000000</td>\n",
       "      <td>0.0</td>\n",
       "      <td>99998.000000</td>\n",
       "    </tr>\n",
       "  </tbody>\n",
       "</table>\n",
       "</div>"
      ],
      "text/plain": [
       "               Price  RegistrationYear          Power      Kilometer  \\\n",
       "count  354364.000000     354364.000000  354364.000000  354364.000000   \n",
       "mean     4416.655608       2004.234471     110.093723  128211.373051   \n",
       "std      4514.159690         90.228593     189.851590   37905.136957   \n",
       "min         0.000000       1000.000000       0.000000    5000.000000   \n",
       "25%      1050.000000       1999.000000      69.000000  125000.000000   \n",
       "50%      2700.000000       2003.000000     105.000000  150000.000000   \n",
       "75%      6400.000000       2008.000000     143.000000  150000.000000   \n",
       "max     20000.000000       9999.000000   20000.000000  150000.000000   \n",
       "\n",
       "       RegistrationMonth  NumberOfPictures     PostalCode  \n",
       "count      354364.000000          354364.0  354364.000000  \n",
       "mean            5.714641               0.0   50508.461698  \n",
       "std             3.726433               0.0   25783.124276  \n",
       "min             0.000000               0.0    1067.000000  \n",
       "25%             3.000000               0.0   30165.000000  \n",
       "50%             6.000000               0.0   49409.500000  \n",
       "75%             9.000000               0.0   71083.000000  \n",
       "max            12.000000               0.0   99998.000000  "
      ]
     },
     "execution_count": 50,
     "metadata": {},
     "output_type": "execute_result"
    }
   ],
   "source": [
    "data.describe()"
   ]
  },
  {
   "cell_type": "code",
   "execution_count": null,
   "metadata": {},
   "outputs": [],
   "source": []
  },
  {
   "cell_type": "code",
   "execution_count": null,
   "metadata": {},
   "outputs": [],
   "source": []
  },
  {
   "cell_type": "code",
   "execution_count": null,
   "metadata": {},
   "outputs": [],
   "source": []
  },
  {
   "cell_type": "markdown",
   "metadata": {},
   "source": [
    "Удалим столбцы: которые больше не потребуются"
   ]
  },
  {
   "cell_type": "code",
   "execution_count": 51,
   "metadata": {},
   "outputs": [],
   "source": [
    "data_with_date = data.copy()\n",
    "data = data.drop([\"DateCrawled\",\"DateCreated\",\"LastSeen\",\"NumberOfPictures\",\"PostalCode\"],axis = 1)"
   ]
  },
  {
   "cell_type": "markdown",
   "metadata": {},
   "source": [
    "###### Вывод:\n",
    "\n",
    "Проанализируем значения числовых признаков перед применения к ним алгоритма очистки выбросов\n",
    "\n",
    "Можно заметить, что в столбце RegistrationYear присутствуют аномальные значения, предлагаю установить границы, в котором может находится значение этого столбца. А именно, год регистрации не может быть больше 2020, и не может быть меньше 1930. Все показания выше или ниже этих значений приведем к максимальной или минимальной границе (признак не нуждается в поиске выбросов)\n",
    "\n",
    "Можно заметить, что в столбце RegistrationMonth, встречается значение 0, которое корректнее было бы изменить на 1.\n",
    "\n",
    "Так же в Power присутствуют аномальные значения (20 000 лошадиных сил), ограничим их  (признак нуждается в поиске выбросов)\n",
    "\n",
    "Столбец Kilometer имеет достаточно реальные значения, поэтому смысла искать там выбросы нет \n",
    "\n",
    "\n",
    "Такие признаки как NumberOfPictures и PostalCode (признаки не нуждается в поиске выбросов) , так как не влияют на реальную стоимость автомобиля (их мы просто удалим)"
   ]
  },
  {
   "cell_type": "markdown",
   "metadata": {},
   "source": [
    "###### Обработаем выбросы и границы значений в упомянутых выше признаках"
   ]
  },
  {
   "cell_type": "code",
   "execution_count": 52,
   "metadata": {},
   "outputs": [],
   "source": [
    "# RegistrationYear \n",
    "def Balance_RegistrationYear(value):\n",
    "    if value > 2020:\n",
    "        return 2020\n",
    "    elif value < 1990:\n",
    "        return 1990\n",
    "    else:\n",
    "        return value\n",
    "data[\"RegistrationYear\"] = data[\"RegistrationYear\"].apply(Balance_RegistrationYear)\n",
    "# RegistrationMonth\n",
    "data.loc[data['RegistrationMonth'] == 0, 'RegistrationMonth'] = 1\n",
    "# Power\n",
    "data.loc[data['Power'] > 600, 'Power'] = 600"
   ]
  },
  {
   "cell_type": "code",
   "execution_count": 53,
   "metadata": {},
   "outputs": [
    {
     "data": {
      "text/plain": [
       "count    354364.000000\n",
       "mean        107.010946\n",
       "std          65.475871\n",
       "min           0.000000\n",
       "25%          69.000000\n",
       "50%         105.000000\n",
       "75%         143.000000\n",
       "max         600.000000\n",
       "Name: Power, dtype: float64"
      ]
     },
     "execution_count": 53,
     "metadata": {},
     "output_type": "execute_result"
    }
   ],
   "source": [
    "data['Power'].describe()"
   ]
  },
  {
   "cell_type": "code",
   "execution_count": 55,
   "metadata": {},
   "outputs": [
    {
     "data": {
      "text/html": [
       "<div>\n",
       "<style scoped>\n",
       "    .dataframe tbody tr th:only-of-type {\n",
       "        vertical-align: middle;\n",
       "    }\n",
       "\n",
       "    .dataframe tbody tr th {\n",
       "        vertical-align: top;\n",
       "    }\n",
       "\n",
       "    .dataframe thead th {\n",
       "        text-align: right;\n",
       "    }\n",
       "</style>\n",
       "<table border=\"1\" class=\"dataframe\">\n",
       "  <thead>\n",
       "    <tr style=\"text-align: right;\">\n",
       "      <th></th>\n",
       "      <th>Price</th>\n",
       "      <th>RegistrationYear</th>\n",
       "      <th>Power</th>\n",
       "      <th>Kilometer</th>\n",
       "      <th>RegistrationMonth</th>\n",
       "    </tr>\n",
       "  </thead>\n",
       "  <tbody>\n",
       "    <tr>\n",
       "      <td>Price</td>\n",
       "      <td>1.000000</td>\n",
       "      <td>0.439346</td>\n",
       "      <td>0.469027</td>\n",
       "      <td>-0.333208</td>\n",
       "      <td>0.098893</td>\n",
       "    </tr>\n",
       "    <tr>\n",
       "      <td>RegistrationYear</td>\n",
       "      <td>0.439346</td>\n",
       "      <td>1.000000</td>\n",
       "      <td>0.096869</td>\n",
       "      <td>-0.243613</td>\n",
       "      <td>0.033220</td>\n",
       "    </tr>\n",
       "    <tr>\n",
       "      <td>Power</td>\n",
       "      <td>0.469027</td>\n",
       "      <td>0.096869</td>\n",
       "      <td>1.000000</td>\n",
       "      <td>0.082051</td>\n",
       "      <td>0.114145</td>\n",
       "    </tr>\n",
       "    <tr>\n",
       "      <td>Kilometer</td>\n",
       "      <td>-0.333208</td>\n",
       "      <td>-0.243613</td>\n",
       "      <td>0.082051</td>\n",
       "      <td>1.000000</td>\n",
       "      <td>0.009732</td>\n",
       "    </tr>\n",
       "    <tr>\n",
       "      <td>RegistrationMonth</td>\n",
       "      <td>0.098893</td>\n",
       "      <td>0.033220</td>\n",
       "      <td>0.114145</td>\n",
       "      <td>0.009732</td>\n",
       "      <td>1.000000</td>\n",
       "    </tr>\n",
       "  </tbody>\n",
       "</table>\n",
       "</div>"
      ],
      "text/plain": [
       "                      Price  RegistrationYear     Power  Kilometer  \\\n",
       "Price              1.000000          0.439346  0.469027  -0.333208   \n",
       "RegistrationYear   0.439346          1.000000  0.096869  -0.243613   \n",
       "Power              0.469027          0.096869  1.000000   0.082051   \n",
       "Kilometer         -0.333208         -0.243613  0.082051   1.000000   \n",
       "RegistrationMonth  0.098893          0.033220  0.114145   0.009732   \n",
       "\n",
       "                   RegistrationMonth  \n",
       "Price                       0.098893  \n",
       "RegistrationYear            0.033220  \n",
       "Power                       0.114145  \n",
       "Kilometer                   0.009732  \n",
       "RegistrationMonth           1.000000  "
      ]
     },
     "execution_count": 55,
     "metadata": {},
     "output_type": "execute_result"
    }
   ],
   "source": [
    "data.corr()"
   ]
  },
  {
   "cell_type": "code",
   "execution_count": 56,
   "metadata": {},
   "outputs": [],
   "source": [
    "#data.query('RegistrationYear <= 1930')"
   ]
  },
  {
   "cell_type": "code",
   "execution_count": null,
   "metadata": {},
   "outputs": [],
   "source": []
  },
  {
   "cell_type": "markdown",
   "metadata": {},
   "source": [
    "## Обучение моделей"
   ]
  },
  {
   "cell_type": "markdown",
   "metadata": {},
   "source": [
    "###### Разделим и закодируем выборки"
   ]
  },
  {
   "cell_type": "code",
   "execution_count": 57,
   "metadata": {},
   "outputs": [],
   "source": [
    "data_ohe = data.copy()\n",
    "data_ohe = pd.get_dummies(data_ohe)\n",
    "data_light = data.copy()\n",
    "data_light = data_light.astype({\"VehicleType\":'category',\n",
    "                                  \"Gearbox\":'category',\n",
    "                                  \"Model\":'category',\n",
    "                                  \"FuelType\":'category',\n",
    "                                  \"Brand\":'category',\n",
    "                                  \"NotRepaired\":'category'})"
   ]
  },
  {
   "cell_type": "markdown",
   "metadata": {},
   "source": [
    "# Разделим данные на выборки"
   ]
  },
  {
   "cell_type": "code",
   "execution_count": 58,
   "metadata": {},
   "outputs": [],
   "source": [
    "trainX,testX,trainY,testY = train_test_split(data_ohe.drop(\"Price\",axis = 1),\n",
    "                                             data_ohe[\"Price\"],\n",
    "                                             test_size = 0.25,\n",
    "                                             random_state = 42)\n",
    "\n",
    "trainX_wo_ohe,testX_wo_ohe,trainY_wo_ohe,testY_wo_ohe = train_test_split(data.drop(\"Price\",axis = 1),\n",
    "                                             data[\"Price\"],\n",
    "                                             test_size = 0.25,\n",
    "                                             random_state = 42)\n",
    "(trainX_wo_ohe_light,\n",
    " testX_wo_ohe_light,\n",
    " trainY_wo_ohe_light,\n",
    " testY_wo_ohe_light) = train_test_split(data_light.drop(\"Price\",axis = 1),\n",
    "                                             data_light[\"Price\"],\n",
    "                                             test_size = 0.25,\n",
    "                                             random_state = 42)"
   ]
  },
  {
   "cell_type": "code",
   "execution_count": null,
   "metadata": {},
   "outputs": [
    {
     "name": "stdout",
     "output_type": "stream",
     "text": [
      "0:\tloss: 1810.2064996\tbest: 1810.2064996 (0)\ttotal: 8m 13s\tremaining: 1h 13m 57s\n",
      "1:\tloss: 1775.9454291\tbest: 1775.9454291 (1)\ttotal: 16m 29s\tremaining: 1h 5m 56s\n",
      "2:\tloss: 1786.4801386\tbest: 1775.9454291 (1)\ttotal: 24m 39s\tremaining: 57m 32s\n",
      "3:\tloss: 1800.3052889\tbest: 1775.9454291 (1)\ttotal: 32m 54s\tremaining: 49m 22s\n",
      "4:\tloss: 1825.2248696\tbest: 1775.9454291 (1)\ttotal: 41m 19s\tremaining: 41m 19s\n",
      "5:\tloss: 1736.0247078\tbest: 1736.0247078 (5)\ttotal: 1h 1m 48s\tremaining: 41m 12s\n",
      "6:\tloss: 1751.8012133\tbest: 1736.0247078 (5)\ttotal: 1h 22m 30s\tremaining: 35m 21s\n",
      "7:\tloss: 1783.9631787\tbest: 1736.0247078 (5)\ttotal: 1h 42m 58s\tremaining: 25m 44s\n"
     ]
    }
   ],
   "source": [
    "%%time\n",
    "# catboost\n",
    "catboost = CatBoostRegressor(loss_function='RMSE')\n",
    "parameters_cat = {'depth':[5,10], 'learning_rate':np.arange(0.1,1,0.2)}\n",
    "catboost_grid = catboost.grid_search(parameters_cat,\n",
    "            Pool(trainX_wo_ohe, trainY_wo_ohe, cat_features=[\"VehicleType\",\"Gearbox\",\n",
    "                                                             \"Model\",\"FuelType\",\n",
    "                                                             \"Brand\",\"NotRepaired\"]),\n",
    "            cv=3,\n",
    "            verbose=True,\n",
    "            plot=False)"
   ]
  },
  {
   "cell_type": "code",
   "execution_count": 87,
   "metadata": {},
   "outputs": [
    {
     "data": {
      "text/plain": [
       "{'depth': 10, 'learning_rate': 0.1}"
      ]
     },
     "execution_count": 87,
     "metadata": {},
     "output_type": "execute_result"
    }
   ],
   "source": [
    "catboost_grid['params']"
   ]
  },
  {
   "cell_type": "code",
   "execution_count": null,
   "metadata": {},
   "outputs": [],
   "source": []
  },
  {
   "cell_type": "code",
   "execution_count": 88,
   "metadata": {},
   "outputs": [
    {
     "name": "stdout",
     "output_type": "stream",
     "text": [
      "0:\tlearn: 4196.7204848\ttotal: 1.42s\tremaining: 23m 33s\n",
      "100:\tlearn: 1800.1696715\ttotal: 2m 14s\tremaining: 19m 53s\n",
      "200:\tlearn: 1710.5146736\ttotal: 4m 25s\tremaining: 17m 37s\n",
      "300:\tlearn: 1654.9959507\ttotal: 6m 42s\tremaining: 15m 34s\n",
      "400:\tlearn: 1612.3559760\ttotal: 9m 1s\tremaining: 13m 28s\n",
      "500:\tlearn: 1579.1563173\ttotal: 11m 17s\tremaining: 11m 14s\n",
      "600:\tlearn: 1550.9294880\ttotal: 13m 37s\tremaining: 9m 2s\n",
      "700:\tlearn: 1526.6763400\ttotal: 15m 58s\tremaining: 6m 48s\n",
      "800:\tlearn: 1506.0560264\ttotal: 18m 18s\tremaining: 4m 32s\n",
      "900:\tlearn: 1485.9453965\ttotal: 20m 38s\tremaining: 2m 16s\n",
      "999:\tlearn: 1467.5271013\ttotal: 23m\tremaining: 0us\n",
      "CPU times: user 21min 26s, sys: 1min 39s, total: 23min 5s\n",
      "Wall time: 23min 8s\n"
     ]
    },
    {
     "data": {
      "text/plain": [
       "<catboost.core.CatBoostRegressor at 0x7f8c07331d50>"
      ]
     },
     "execution_count": 88,
     "metadata": {},
     "output_type": "execute_result"
    }
   ],
   "source": [
    "%%time\n",
    "final_cat = CatBoostRegressor(depth=catboost_grid['params']['depth'], \n",
    "                              learning_rate=catboost_grid['params']['learning_rate'],\n",
    "                              loss_function='RMSE',verbose=100)\n",
    "final_cat.fit(Pool(trainX_wo_ohe,trainY_wo_ohe,\n",
    "                   cat_features=['VehicleType','Gearbox','Model','FuelType','Brand','NotRepaired']))"
   ]
  },
  {
   "cell_type": "code",
   "execution_count": null,
   "metadata": {},
   "outputs": [],
   "source": []
  },
  {
   "cell_type": "code",
   "execution_count": 89,
   "metadata": {},
   "outputs": [
    {
     "name": "stdout",
     "output_type": "stream",
     "text": [
      "CPU times: user 15min 17s, sys: 0 ns, total: 15min 17s\n",
      "Wall time: 15min 38s\n"
     ]
    },
    {
     "data": {
      "text/plain": [
       "RandomForestRegressor(bootstrap=True, criterion='mse', max_depth=None,\n",
       "                      max_features='auto', max_leaf_nodes=None,\n",
       "                      min_impurity_decrease=0.0, min_impurity_split=None,\n",
       "                      min_samples_leaf=1, min_samples_split=2,\n",
       "                      min_weight_fraction_leaf=0.0, n_estimators=100, n_jobs=-1,\n",
       "                      oob_score=False, random_state=42, verbose=0,\n",
       "                      warm_start=False)"
      ]
     },
     "execution_count": 89,
     "metadata": {},
     "output_type": "execute_result"
    }
   ],
   "source": [
    "%%time\n",
    "# RandomForest\n",
    "RF = RandomForestRegressor(criterion = 'mse',random_state=42,n_estimators = 100,n_jobs=-1)\n",
    "RF.fit(trainX,trainY)"
   ]
  },
  {
   "cell_type": "code",
   "execution_count": null,
   "metadata": {},
   "outputs": [],
   "source": []
  },
  {
   "cell_type": "code",
   "execution_count": 90,
   "metadata": {},
   "outputs": [
    {
     "name": "stdout",
     "output_type": "stream",
     "text": [
      "[100]\ttraining's l2: 3.11514e+06\tvalid_1's l2: 3.23958e+06\n",
      "[200]\ttraining's l2: 2.90792e+06\tvalid_1's l2: 3.12195e+06\n",
      "[300]\ttraining's l2: 2.77442e+06\tvalid_1's l2: 3.05903e+06\n",
      "[400]\ttraining's l2: 2.67665e+06\tvalid_1's l2: 3.02013e+06\n",
      "[500]\ttraining's l2: 2.5892e+06\tvalid_1's l2: 2.98712e+06\n",
      "[600]\ttraining's l2: 2.51952e+06\tvalid_1's l2: 2.96558e+06\n",
      "[700]\ttraining's l2: 2.4584e+06\tvalid_1's l2: 2.94495e+06\n",
      "[800]\ttraining's l2: 2.40855e+06\tvalid_1's l2: 2.93347e+06\n",
      "[900]\ttraining's l2: 2.36453e+06\tvalid_1's l2: 2.92332e+06\n",
      "[1000]\ttraining's l2: 2.32414e+06\tvalid_1's l2: 2.91469e+06\n",
      "CPU times: user 1min 19s, sys: 0 ns, total: 1min 19s\n",
      "Wall time: 1min 21s\n"
     ]
    }
   ],
   "source": [
    "%%time\n",
    "# LightGBM\n",
    "lgb_train = lgb.Dataset(trainX_wo_ohe_light, trainY_wo_ohe_light)\n",
    "lgb_test = lgb.Dataset(testX_wo_ohe_light, testY_wo_ohe_light, reference=lgb_train)\n",
    "parameters_light = {'metric': 'l2', 'max_depth':10,'random_state': 42,'learning_rate':0.1}\n",
    "light = lgb.train(parameters_light,\n",
    "                lgb_train,\n",
    "                num_boost_round=1000,\n",
    "                valid_sets=[lgb_train, lgb_test],\n",
    "                verbose_eval=100)"
   ]
  },
  {
   "cell_type": "code",
   "execution_count": null,
   "metadata": {},
   "outputs": [],
   "source": []
  },
  {
   "cell_type": "code",
   "execution_count": 91,
   "metadata": {},
   "outputs": [
    {
     "name": "stdout",
     "output_type": "stream",
     "text": [
      "CatBoost: 1711.6634987925677\n",
      "CPU times: user 2.69 s, sys: 0 ns, total: 2.69 s\n",
      "Wall time: 2.7 s\n"
     ]
    }
   ],
   "source": [
    "%%time\n",
    "print(\"CatBoost:\",mean_squared_error(testY,final_cat.predict(testX_wo_ohe))**0.5)"
   ]
  },
  {
   "cell_type": "code",
   "execution_count": null,
   "metadata": {},
   "outputs": [],
   "source": []
  },
  {
   "cell_type": "code",
   "execution_count": 92,
   "metadata": {},
   "outputs": [
    {
     "name": "stdout",
     "output_type": "stream",
     "text": [
      "RandomForest: 1759.7767496781123\n",
      "CPU times: user 6.81 s, sys: 0 ns, total: 6.81 s\n",
      "Wall time: 6.92 s\n"
     ]
    }
   ],
   "source": [
    "%%time\n",
    "print(\"RandomForest:\",mean_squared_error(testY,RF.predict(testX))**0.5)"
   ]
  },
  {
   "cell_type": "code",
   "execution_count": null,
   "metadata": {},
   "outputs": [],
   "source": []
  },
  {
   "cell_type": "code",
   "execution_count": 93,
   "metadata": {},
   "outputs": [
    {
     "name": "stdout",
     "output_type": "stream",
     "text": [
      "LightGBM: 1707.2463775468862\n",
      "CPU times: user 11.4 s, sys: 0 ns, total: 11.4 s\n",
      "Wall time: 11.4 s\n"
     ]
    }
   ],
   "source": [
    "%%time\n",
    "print(\"LightGBM:\",mean_squared_error(testY,light.predict(testX_wo_ohe_light))**0.5)"
   ]
  },
  {
   "cell_type": "code",
   "execution_count": null,
   "metadata": {},
   "outputs": [],
   "source": []
  },
  {
   "cell_type": "markdown",
   "metadata": {},
   "source": [
    "## Анализ моделей"
   ]
  },
  {
   "cell_type": "markdown",
   "metadata": {},
   "source": [
    "В условии задачи для выбора модели у нас изначально было три условия:\n",
    "\n",
    "1. Время предсказания меньше\n",
    "2. Качество предсказаний ниже\n",
    "3. Время обучения больше\n",
    "\n",
    "Исходя из полученных результатов можо сделать вывод, что \"Случайный Лес\" нам сразу не подходит, т.к. у него самое большое время обучения (11 мин) и самая низкая метрика качества RMSE, \" второе место\"-CatBoost, самые лучшие данные по скорости обучения и метрике качества получились у LightGBM, RMSE 1695 и время обучения 1 мин.\n",
    "\n",
    "Основываясь на этом лучше всего нам подойдет модель LightGBM."
   ]
  },
  {
   "cell_type": "markdown",
   "metadata": {},
   "source": [
    "## Чек-лист проверки"
   ]
  },
  {
   "cell_type": "markdown",
   "metadata": {},
   "source": [
    "Поставьте 'x' в выполненных пунктах. Далее нажмите Shift+Enter."
   ]
  },
  {
   "cell_type": "markdown",
   "metadata": {},
   "source": [
    "- [x]  Jupyter Notebook открыт\n",
    "- [ ]  Весь код выполняется без ошибок\n",
    "- [ ]  Ячейки с кодом расположены в порядке исполнения\n",
    "- [ ]  Выполнена загрузка и подготовка данных\n",
    "- [ ]  Выполнено обучение моделей\n",
    "- [ ]  Есть анализ скорости работы и качества моделей"
   ]
  },
  {
   "cell_type": "code",
   "execution_count": null,
   "metadata": {},
   "outputs": [],
   "source": []
  }
 ],
 "metadata": {
  "ExecuteTimeLog": [
   {
    "duration": 1440,
    "start_time": "2021-10-30T13:19:32.993Z"
   },
   {
    "duration": 1147,
    "start_time": "2021-10-30T13:19:35.313Z"
   },
   {
    "duration": 1163,
    "start_time": "2021-10-30T13:19:42.848Z"
   },
   {
    "duration": 1100,
    "start_time": "2021-10-30T13:20:02.950Z"
   },
   {
    "duration": 155,
    "start_time": "2021-10-30T13:20:51.757Z"
   },
   {
    "duration": 344,
    "start_time": "2021-11-01T14:00:42.709Z"
   },
   {
    "duration": 287,
    "start_time": "2021-11-01T14:00:47.602Z"
   },
   {
    "duration": 1426,
    "start_time": "2021-11-01T14:00:53.007Z"
   },
   {
    "duration": 1128,
    "start_time": "2021-11-01T14:00:54.436Z"
   },
   {
    "duration": 163,
    "start_time": "2021-11-01T14:00:55.567Z"
   },
   {
    "duration": 6,
    "start_time": "2021-11-01T14:00:55.732Z"
   },
   {
    "duration": 7,
    "start_time": "2021-11-01T14:01:08.606Z"
   },
   {
    "duration": 21,
    "start_time": "2021-11-01T14:01:13.198Z"
   },
   {
    "duration": 23,
    "start_time": "2021-11-01T14:01:57.230Z"
   },
   {
    "duration": 363,
    "start_time": "2021-11-01T14:05:09.122Z"
   },
   {
    "duration": 299,
    "start_time": "2021-11-01T14:05:20.129Z"
   },
   {
    "duration": 111,
    "start_time": "2021-11-01T14:05:32.913Z"
   },
   {
    "duration": 43,
    "start_time": "2021-11-01T14:05:51.267Z"
   },
   {
    "duration": 10,
    "start_time": "2021-11-01T14:07:02.604Z"
   },
   {
    "duration": 9,
    "start_time": "2021-11-01T14:07:13.803Z"
   },
   {
    "duration": 38,
    "start_time": "2021-11-01T14:07:19.948Z"
   },
   {
    "duration": 38,
    "start_time": "2021-11-01T14:07:58.124Z"
   },
   {
    "duration": 76,
    "start_time": "2021-11-01T14:09:07.783Z"
   },
   {
    "duration": 40,
    "start_time": "2021-11-01T14:09:21.645Z"
   },
   {
    "duration": 40,
    "start_time": "2021-11-01T14:09:40.774Z"
   },
   {
    "duration": 297,
    "start_time": "2021-11-01T14:10:39.494Z"
   },
   {
    "duration": 352,
    "start_time": "2021-11-01T14:10:52.590Z"
   },
   {
    "duration": 8,
    "start_time": "2021-11-01T14:11:33.617Z"
   },
   {
    "duration": 8,
    "start_time": "2021-11-01T14:14:42.355Z"
   },
   {
    "duration": 6,
    "start_time": "2021-11-01T14:14:58.802Z"
   },
   {
    "duration": 295,
    "start_time": "2021-11-01T14:17:31.373Z"
   },
   {
    "duration": 489,
    "start_time": "2021-11-01T14:17:42.341Z"
   },
   {
    "duration": 90,
    "start_time": "2021-11-01T14:19:26.702Z"
   },
   {
    "duration": 118,
    "start_time": "2021-11-01T14:19:39.806Z"
   },
   {
    "duration": 105,
    "start_time": "2021-11-01T14:19:59.431Z"
   },
   {
    "duration": 3,
    "start_time": "2021-11-01T14:21:02.217Z"
   },
   {
    "duration": 3,
    "start_time": "2021-11-01T14:21:12.121Z"
   },
   {
    "duration": 277,
    "start_time": "2021-11-01T14:21:25.378Z"
   },
   {
    "duration": 287,
    "start_time": "2021-11-01T14:21:30.704Z"
   },
   {
    "duration": 442,
    "start_time": "2021-11-01T14:21:46.976Z"
   },
   {
    "duration": 281,
    "start_time": "2021-11-01T14:21:54.457Z"
   },
   {
    "duration": 5,
    "start_time": "2021-11-01T14:22:01.465Z"
   },
   {
    "duration": 5,
    "start_time": "2021-11-01T14:22:07.825Z"
   },
   {
    "duration": 296,
    "start_time": "2021-11-01T14:22:21.577Z"
   },
   {
    "duration": 294,
    "start_time": "2021-11-01T14:22:27.737Z"
   },
   {
    "duration": 288,
    "start_time": "2021-11-01T14:22:45.315Z"
   },
   {
    "duration": 4,
    "start_time": "2021-11-01T14:23:11.604Z"
   },
   {
    "duration": 305,
    "start_time": "2021-11-01T14:23:17.849Z"
   },
   {
    "duration": 6,
    "start_time": "2021-11-01T14:23:25.137Z"
   },
   {
    "duration": 4,
    "start_time": "2021-11-01T14:23:36.107Z"
   },
   {
    "duration": 297,
    "start_time": "2021-11-01T14:23:44.755Z"
   },
   {
    "duration": 462,
    "start_time": "2021-11-01T14:23:52.259Z"
   },
   {
    "duration": 5,
    "start_time": "2021-11-01T14:24:18.460Z"
   },
   {
    "duration": 4,
    "start_time": "2021-11-01T14:24:30.123Z"
   },
   {
    "duration": 6,
    "start_time": "2021-11-01T14:25:23.469Z"
   },
   {
    "duration": 469,
    "start_time": "2021-11-01T14:26:59.022Z"
   },
   {
    "duration": 127,
    "start_time": "2021-11-01T14:27:18.368Z"
   },
   {
    "duration": 478,
    "start_time": "2021-11-01T14:27:23.694Z"
   },
   {
    "duration": 472,
    "start_time": "2021-11-01T14:27:33.030Z"
   },
   {
    "duration": 773,
    "start_time": "2021-11-01T14:29:16.169Z"
   },
   {
    "duration": 295,
    "start_time": "2021-11-01T14:29:40.696Z"
   },
   {
    "duration": 1162,
    "start_time": "2021-11-01T14:30:10.464Z"
   },
   {
    "duration": 287,
    "start_time": "2021-11-01T14:32:23.699Z"
   },
   {
    "duration": 429,
    "start_time": "2021-11-01T14:32:33.202Z"
   },
   {
    "duration": 363,
    "start_time": "2021-11-01T14:32:39.514Z"
   },
   {
    "duration": 287,
    "start_time": "2021-11-01T14:32:53.774Z"
   },
   {
    "duration": 404,
    "start_time": "2021-11-01T14:33:01.596Z"
   },
   {
    "duration": 100,
    "start_time": "2021-11-01T14:33:10.507Z"
   },
   {
    "duration": 4,
    "start_time": "2021-11-01T14:33:16.036Z"
   },
   {
    "duration": 1214,
    "start_time": "2021-11-03T08:07:47.528Z"
   },
   {
    "duration": 868,
    "start_time": "2021-11-03T08:07:48.744Z"
   },
   {
    "duration": 136,
    "start_time": "2021-11-03T08:07:49.614Z"
   },
   {
    "duration": 26,
    "start_time": "2021-11-03T08:07:49.752Z"
   },
   {
    "duration": 31,
    "start_time": "2021-11-03T08:07:49.779Z"
   },
   {
    "duration": 18,
    "start_time": "2021-11-03T08:07:49.811Z"
   },
   {
    "duration": 442,
    "start_time": "2021-11-03T08:08:53.054Z"
   },
   {
    "duration": 154,
    "start_time": "2021-11-03T09:18:46.396Z"
   },
   {
    "duration": 23,
    "start_time": "2021-11-03T09:18:53.733Z"
   },
   {
    "duration": 6,
    "start_time": "2021-11-03T09:19:13.992Z"
   },
   {
    "duration": 48,
    "start_time": "2021-11-03T09:19:31.043Z"
   },
   {
    "duration": 449,
    "start_time": "2021-11-03T09:21:02.821Z"
   },
   {
    "duration": 89,
    "start_time": "2021-11-03T09:21:11.187Z"
   },
   {
    "duration": 446,
    "start_time": "2021-11-03T09:21:34.763Z"
   },
   {
    "duration": 388,
    "start_time": "2021-11-03T09:21:46.469Z"
   },
   {
    "duration": 864,
    "start_time": "2021-11-03T09:22:44.078Z"
   },
   {
    "duration": 920,
    "start_time": "2021-11-03T09:26:24.043Z"
   },
   {
    "duration": 36,
    "start_time": "2021-11-03T09:26:39.123Z"
   },
   {
    "duration": 424,
    "start_time": "2021-11-03T09:27:10.358Z"
   },
   {
    "duration": 522,
    "start_time": "2021-11-03T09:27:15.822Z"
   },
   {
    "duration": 120,
    "start_time": "2021-11-03T09:27:29.339Z"
   },
   {
    "duration": 121,
    "start_time": "2021-11-03T09:27:36.843Z"
   },
   {
    "duration": 121,
    "start_time": "2021-11-03T09:28:02.940Z"
   },
   {
    "duration": 38,
    "start_time": "2021-11-03T09:28:29.332Z"
   },
   {
    "duration": 373,
    "start_time": "2021-11-03T09:28:36.311Z"
   },
   {
    "duration": 128,
    "start_time": "2021-11-03T09:28:46.252Z"
   },
   {
    "duration": 474,
    "start_time": "2021-11-03T09:28:50.878Z"
   },
   {
    "duration": 37,
    "start_time": "2021-11-03T09:28:59.629Z"
   },
   {
    "duration": 2,
    "start_time": "2021-11-03T09:32:00.527Z"
   },
   {
    "duration": 117,
    "start_time": "2021-11-03T09:32:17.304Z"
   },
   {
    "duration": 73,
    "start_time": "2021-11-03T09:32:37.692Z"
   },
   {
    "duration": 1148,
    "start_time": "2021-11-03T17:43:22.045Z"
   },
   {
    "duration": 817,
    "start_time": "2021-11-03T17:43:23.195Z"
   },
   {
    "duration": 124,
    "start_time": "2021-11-03T17:43:24.014Z"
   },
   {
    "duration": 17,
    "start_time": "2021-11-03T17:43:24.144Z"
   },
   {
    "duration": 29,
    "start_time": "2021-11-03T17:43:24.163Z"
   },
   {
    "duration": 16,
    "start_time": "2021-11-03T17:43:24.193Z"
   },
   {
    "duration": 171,
    "start_time": "2021-11-03T17:43:24.210Z"
   },
   {
    "duration": 46,
    "start_time": "2021-11-03T17:43:24.383Z"
   },
   {
    "duration": 98,
    "start_time": "2021-11-03T17:43:24.431Z"
   },
   {
    "duration": 447,
    "start_time": "2021-11-03T17:43:24.531Z"
   },
   {
    "duration": 865,
    "start_time": "2021-11-03T17:43:24.979Z"
   },
   {
    "duration": 2,
    "start_time": "2021-11-03T17:43:25.846Z"
   },
   {
    "duration": 104,
    "start_time": "2021-11-03T17:43:25.849Z"
   },
   {
    "duration": 89,
    "start_time": "2021-11-03T17:43:25.955Z"
   },
   {
    "duration": 3,
    "start_time": "2021-11-03T17:51:33.998Z"
   },
   {
    "duration": 355,
    "start_time": "2021-11-03T18:06:40.379Z"
   },
   {
    "duration": 140,
    "start_time": "2021-11-03T18:06:53.678Z"
   },
   {
    "duration": 723,
    "start_time": "2021-11-03T18:07:08.302Z"
   },
   {
    "duration": 138,
    "start_time": "2021-11-03T18:07:27.341Z"
   },
   {
    "duration": 4,
    "start_time": "2021-11-03T18:07:41.989Z"
   },
   {
    "duration": 265,
    "start_time": "2021-11-03T18:07:56.885Z"
   },
   {
    "duration": 17,
    "start_time": "2021-11-03T18:08:11.853Z"
   },
   {
    "duration": 35,
    "start_time": "2021-11-03T18:10:31.231Z"
   },
   {
    "duration": 4,
    "start_time": "2021-11-03T18:14:36.310Z"
   },
   {
    "duration": 272,
    "start_time": "2021-11-03T18:15:19.974Z"
   },
   {
    "duration": 330,
    "start_time": "2021-11-03T18:15:34.644Z"
   },
   {
    "duration": 46,
    "start_time": "2021-11-03T18:16:13.662Z"
   },
   {
    "duration": 23,
    "start_time": "2021-11-03T18:16:23.846Z"
   },
   {
    "duration": 18,
    "start_time": "2021-11-03T18:17:15.183Z"
   },
   {
    "duration": 4,
    "start_time": "2021-11-03T18:17:46.554Z"
   },
   {
    "duration": 837,
    "start_time": "2021-11-03T18:17:46.560Z"
   },
   {
    "duration": 122,
    "start_time": "2021-11-03T18:17:47.400Z"
   },
   {
    "duration": 31,
    "start_time": "2021-11-03T18:17:47.525Z"
   },
   {
    "duration": 27,
    "start_time": "2021-11-03T18:17:47.558Z"
   },
   {
    "duration": 18,
    "start_time": "2021-11-03T18:17:47.587Z"
   },
   {
    "duration": 52,
    "start_time": "2021-11-03T18:17:47.607Z"
   },
   {
    "duration": 180,
    "start_time": "2021-11-03T18:17:47.661Z"
   },
   {
    "duration": 3,
    "start_time": "2021-11-03T18:17:47.843Z"
   },
   {
    "duration": 388,
    "start_time": "2021-11-03T18:17:47.847Z"
   },
   {
    "duration": 938,
    "start_time": "2021-11-03T18:17:48.245Z"
   },
   {
    "duration": 14,
    "start_time": "2021-11-03T18:17:49.185Z"
   },
   {
    "duration": 246,
    "start_time": "2021-11-03T18:17:49.213Z"
   },
   {
    "duration": 425,
    "start_time": "2021-11-03T18:17:49.464Z"
   },
   {
    "duration": -128,
    "start_time": "2021-11-03T18:17:50.019Z"
   },
   {
    "duration": -130,
    "start_time": "2021-11-03T18:17:50.022Z"
   },
   {
    "duration": -132,
    "start_time": "2021-11-03T18:17:50.025Z"
   },
   {
    "duration": -133,
    "start_time": "2021-11-03T18:17:50.027Z"
   },
   {
    "duration": -133,
    "start_time": "2021-11-03T18:17:50.028Z"
   },
   {
    "duration": 12,
    "start_time": "2021-11-03T18:17:59.993Z"
   },
   {
    "duration": 52,
    "start_time": "2021-11-03T18:18:58.687Z"
   },
   {
    "duration": 149,
    "start_time": "2021-11-03T18:19:00.953Z"
   },
   {
    "duration": 17,
    "start_time": "2021-11-03T18:19:02.832Z"
   },
   {
    "duration": 31,
    "start_time": "2021-11-03T18:19:03.638Z"
   },
   {
    "duration": 27,
    "start_time": "2021-11-03T18:19:04.327Z"
   },
   {
    "duration": 270,
    "start_time": "2021-11-03T18:26:33.080Z"
   },
   {
    "duration": 293,
    "start_time": "2021-11-03T18:26:46.040Z"
   },
   {
    "duration": 978,
    "start_time": "2021-11-03T18:26:59.840Z"
   },
   {
    "duration": 1029,
    "start_time": "2021-11-03T18:27:01.831Z"
   },
   {
    "duration": 179,
    "start_time": "2021-11-03T18:27:26.313Z"
   },
   {
    "duration": 3,
    "start_time": "2021-11-03T18:27:44.497Z"
   },
   {
    "duration": 174,
    "start_time": "2021-11-03T18:27:53.698Z"
   },
   {
    "duration": 59,
    "start_time": "2021-11-03T18:30:41.837Z"
   },
   {
    "duration": 8890059,
    "start_time": "2021-11-03T18:30:46.972Z"
   },
   {
    "duration": 687767,
    "start_time": "2021-11-03T21:09:46.081Z"
   },
   {
    "duration": 102,
    "start_time": "2021-11-03T21:21:13.849Z"
   },
   {
    "duration": -2302,
    "start_time": "2021-11-03T21:21:16.255Z"
   },
   {
    "duration": -2308,
    "start_time": "2021-11-03T21:21:16.262Z"
   },
   {
    "duration": -2326,
    "start_time": "2021-11-03T21:21:16.281Z"
   },
   {
    "duration": 82,
    "start_time": "2021-11-03T21:21:39.722Z"
   },
   {
    "duration": 5891,
    "start_time": "2021-11-03T21:21:55.682Z"
   },
   {
    "duration": 188,
    "start_time": "2021-11-03T21:22:01.882Z"
   },
   {
    "duration": 175,
    "start_time": "2021-11-03T21:23:15.650Z"
   },
   {
    "duration": 4,
    "start_time": "2021-11-03T21:23:43.668Z"
   },
   {
    "duration": 881356,
    "start_time": "2021-11-03T21:23:50.171Z"
   },
   {
    "duration": 66697,
    "start_time": "2021-11-03T21:40:07.956Z"
   },
   {
    "duration": 83,
    "start_time": "2021-11-03T21:44:37.768Z"
   },
   {
    "duration": 2182,
    "start_time": "2021-11-03T21:45:05.736Z"
   },
   {
    "duration": 2080,
    "start_time": "2021-11-03T21:46:42.171Z"
   },
   {
    "duration": 5766,
    "start_time": "2021-11-03T21:47:05.882Z"
   },
   {
    "duration": 9014,
    "start_time": "2021-11-03T21:48:09.963Z"
   },
   {
    "duration": 1553,
    "start_time": "2021-11-05T16:20:09.934Z"
   },
   {
    "duration": 1229,
    "start_time": "2021-11-05T16:20:11.489Z"
   },
   {
    "duration": 163,
    "start_time": "2021-11-05T16:20:12.721Z"
   },
   {
    "duration": 20,
    "start_time": "2021-11-05T16:20:12.887Z"
   },
   {
    "duration": 65,
    "start_time": "2021-11-05T16:20:12.909Z"
   },
   {
    "duration": 20,
    "start_time": "2021-11-05T16:20:12.976Z"
   },
   {
    "duration": 233,
    "start_time": "2021-11-05T16:20:12.999Z"
   },
   {
    "duration": 3,
    "start_time": "2021-11-05T16:20:13.235Z"
   },
   {
    "duration": 599,
    "start_time": "2021-11-05T16:20:13.242Z"
   },
   {
    "duration": 1214,
    "start_time": "2021-11-05T16:20:13.844Z"
   },
   {
    "duration": 3,
    "start_time": "2021-11-05T16:20:15.060Z"
   },
   {
    "duration": 138,
    "start_time": "2021-11-05T16:20:15.066Z"
   },
   {
    "duration": 132,
    "start_time": "2021-11-05T16:20:15.206Z"
   },
   {
    "duration": 229,
    "start_time": "2021-11-05T16:20:15.340Z"
   },
   {
    "duration": 21,
    "start_time": "2021-11-05T16:20:15.571Z"
   },
   {
    "duration": 64,
    "start_time": "2021-11-05T16:20:15.594Z"
   },
   {
    "duration": 14,
    "start_time": "2021-11-05T16:20:15.661Z"
   },
   {
    "duration": 1711,
    "start_time": "2021-11-05T16:20:15.677Z"
   },
   {
    "duration": 1865,
    "start_time": "2021-11-05T16:20:17.390Z"
   },
   {
    "duration": 251,
    "start_time": "2021-11-05T16:28:28.336Z"
   },
   {
    "duration": -200,
    "start_time": "2021-11-05T16:28:28.791Z"
   },
   {
    "duration": -209,
    "start_time": "2021-11-05T16:28:28.802Z"
   },
   {
    "duration": -216,
    "start_time": "2021-11-05T16:28:28.811Z"
   },
   {
    "duration": -224,
    "start_time": "2021-11-05T16:28:28.821Z"
   },
   {
    "duration": -231,
    "start_time": "2021-11-05T16:28:28.830Z"
   },
   {
    "duration": -239,
    "start_time": "2021-11-05T16:28:28.840Z"
   },
   {
    "duration": -243,
    "start_time": "2021-11-05T16:28:28.846Z"
   },
   {
    "duration": 47,
    "start_time": "2021-11-05T16:28:38.581Z"
   },
   {
    "duration": 1556,
    "start_time": "2021-11-05T16:28:41.696Z"
   },
   {
    "duration": 1673,
    "start_time": "2021-11-05T16:29:11.993Z"
   },
   {
    "duration": 9691273,
    "start_time": "2021-11-05T16:29:15.055Z"
   },
   {
    "duration": 3273,
    "start_time": "2021-11-05T19:10:46.330Z"
   },
   {
    "duration": 3260,
    "start_time": "2021-11-05T19:11:11.523Z"
   },
   {
    "duration": 6474,
    "start_time": "2021-11-05T19:11:21.689Z"
   },
   {
    "duration": 6395,
    "start_time": "2021-11-05T19:11:37.681Z"
   },
   {
    "duration": 7,
    "start_time": "2021-11-05T19:11:52.809Z"
   },
   {
    "duration": 3308,
    "start_time": "2021-11-05T19:12:02.666Z"
   },
   {
    "duration": 19,
    "start_time": "2021-11-05T19:12:57.882Z"
   },
   {
    "duration": 157245,
    "start_time": "2021-11-05T19:13:10.676Z"
   },
   {
    "duration": 107,
    "start_time": "2021-11-05T19:17:30.063Z"
   },
   {
    "duration": 109,
    "start_time": "2021-11-05T19:17:34.311Z"
   },
   {
    "duration": 39,
    "start_time": "2021-11-05T19:17:41.505Z"
   },
   {
    "duration": 277,
    "start_time": "2021-11-05T19:21:43.434Z"
   },
   {
    "duration": 593,
    "start_time": "2021-11-05T19:21:52.812Z"
   },
   {
    "duration": 257,
    "start_time": "2021-11-05T19:22:21.266Z"
   },
   {
    "duration": 288,
    "start_time": "2021-11-05T19:22:45.220Z"
   },
   {
    "duration": 86,
    "start_time": "2021-11-05T19:23:30.467Z"
   },
   {
    "duration": 63,
    "start_time": "2021-11-05T19:29:03.097Z"
   },
   {
    "duration": 79461,
    "start_time": "2021-11-05T19:29:30.778Z"
   },
   {
    "duration": 6608,
    "start_time": "2021-11-05T19:32:40.297Z"
   },
   {
    "duration": 113,
    "start_time": "2021-11-05T19:34:51.648Z"
   },
   {
    "duration": 22,
    "start_time": "2021-11-05T19:35:10.207Z"
   },
   {
    "duration": 31,
    "start_time": "2021-11-05T19:35:27.666Z"
   },
   {
    "duration": 305,
    "start_time": "2021-11-05T19:35:38.120Z"
   },
   {
    "duration": 12,
    "start_time": "2021-11-05T19:35:54.575Z"
   },
   {
    "duration": 254,
    "start_time": "2021-11-05T19:36:06.560Z"
   },
   {
    "duration": 18,
    "start_time": "2021-11-05T19:36:17.048Z"
   },
   {
    "duration": 7153,
    "start_time": "2021-11-05T19:36:54.218Z"
   },
   {
    "duration": 643,
    "start_time": "2021-11-05T19:37:25.034Z"
   },
   {
    "duration": 268,
    "start_time": "2021-11-05T19:37:39.010Z"
   },
   {
    "duration": 256,
    "start_time": "2021-11-05T19:37:43.994Z"
   },
   {
    "duration": 249,
    "start_time": "2021-11-05T19:39:09.805Z"
   },
   {
    "duration": 98,
    "start_time": "2021-11-05T19:40:12.518Z"
   },
   {
    "duration": 253,
    "start_time": "2021-11-05T19:40:18.860Z"
   },
   {
    "duration": 268,
    "start_time": "2021-11-05T19:41:26.030Z"
   },
   {
    "duration": 6254,
    "start_time": "2021-11-05T19:43:00.553Z"
   },
   {
    "duration": 242,
    "start_time": "2021-11-05T19:43:18.990Z"
   },
   {
    "duration": 8,
    "start_time": "2021-11-05T19:45:54.187Z"
   },
   {
    "duration": 37,
    "start_time": "2021-11-05T19:46:00.753Z"
   },
   {
    "duration": 282,
    "start_time": "2021-11-05T19:46:17.852Z"
   },
   {
    "duration": 278,
    "start_time": "2021-11-05T19:46:24.930Z"
   },
   {
    "duration": 5,
    "start_time": "2021-11-06T13:43:34.616Z"
   },
   {
    "duration": 1206,
    "start_time": "2021-11-06T13:43:34.624Z"
   },
   {
    "duration": 170,
    "start_time": "2021-11-06T13:43:35.833Z"
   },
   {
    "duration": 33,
    "start_time": "2021-11-06T13:43:36.005Z"
   },
   {
    "duration": 121,
    "start_time": "2021-11-06T13:43:36.040Z"
   },
   {
    "duration": 21,
    "start_time": "2021-11-06T13:43:36.163Z"
   },
   {
    "duration": 44,
    "start_time": "2021-11-06T13:43:36.186Z"
   },
   {
    "duration": 225,
    "start_time": "2021-11-06T13:43:36.234Z"
   },
   {
    "duration": 4,
    "start_time": "2021-11-06T13:43:36.462Z"
   },
   {
    "duration": 578,
    "start_time": "2021-11-06T13:43:36.468Z"
   },
   {
    "duration": 1266,
    "start_time": "2021-11-06T13:43:37.048Z"
   },
   {
    "duration": 3,
    "start_time": "2021-11-06T13:43:38.317Z"
   },
   {
    "duration": 157,
    "start_time": "2021-11-06T13:43:38.322Z"
   },
   {
    "duration": 127,
    "start_time": "2021-11-06T13:43:38.482Z"
   },
   {
    "duration": 406,
    "start_time": "2021-11-06T13:43:38.612Z"
   },
   {
    "duration": 32,
    "start_time": "2021-11-06T13:43:39.021Z"
   },
   {
    "duration": 86,
    "start_time": "2021-11-06T13:43:39.056Z"
   },
   {
    "duration": 4,
    "start_time": "2021-11-06T13:43:39.145Z"
   },
   {
    "duration": 2057,
    "start_time": "2021-11-06T13:43:39.152Z"
   },
   {
    "duration": 2517,
    "start_time": "2021-11-06T13:43:41.212Z"
   },
   {
    "duration": 13761383,
    "start_time": "2021-11-06T13:43:43.732Z"
   },
   {
    "duration": 15,
    "start_time": "2021-11-06T17:33:05.118Z"
   },
   {
    "duration": 1388675,
    "start_time": "2021-11-06T17:33:05.140Z"
   },
   {
    "duration": 938285,
    "start_time": "2021-11-06T17:56:13.817Z"
   },
   {
    "duration": 81043,
    "start_time": "2021-11-06T18:11:52.104Z"
   },
   {
    "duration": 2706,
    "start_time": "2021-11-06T18:13:13.149Z"
   },
   {
    "duration": 6995,
    "start_time": "2021-11-06T18:13:15.857Z"
   },
   {
    "duration": 11436,
    "start_time": "2021-11-06T18:13:22.854Z"
   },
   {
    "duration": 1586,
    "start_time": "2021-11-07T09:15:36.606Z"
   },
   {
    "duration": 1138,
    "start_time": "2021-11-07T09:15:41.019Z"
   },
   {
    "duration": 154,
    "start_time": "2021-11-07T09:15:43.538Z"
   },
   {
    "duration": 22,
    "start_time": "2021-11-07T09:15:46.834Z"
   },
   {
    "duration": 44,
    "start_time": "2021-11-07T09:15:48.874Z"
   },
   {
    "duration": 22,
    "start_time": "2021-11-07T09:16:06.196Z"
   },
   {
    "duration": 98,
    "start_time": "2021-11-07T09:19:51.494Z"
   },
   {
    "duration": 88,
    "start_time": "2021-11-07T09:20:00.829Z"
   },
   {
    "duration": 23,
    "start_time": "2021-11-07T09:20:11.350Z"
   },
   {
    "duration": 92,
    "start_time": "2021-11-07T09:20:12.037Z"
   },
   {
    "duration": 67,
    "start_time": "2021-11-07T09:23:08.232Z"
   },
   {
    "duration": 130,
    "start_time": "2021-11-07T09:29:07.343Z"
   },
   {
    "duration": 93,
    "start_time": "2021-11-07T09:34:18.869Z"
   },
   {
    "duration": 128,
    "start_time": "2021-11-07T09:34:24.661Z"
   },
   {
    "duration": 537,
    "start_time": "2021-11-07T09:34:39.687Z"
   },
   {
    "duration": 445,
    "start_time": "2021-11-07T09:34:46.342Z"
   },
   {
    "duration": 122,
    "start_time": "2021-11-07T09:34:56.270Z"
   },
   {
    "duration": 127,
    "start_time": "2021-11-07T09:35:13.670Z"
   },
   {
    "duration": 411,
    "start_time": "2021-11-07T09:36:54.178Z"
   },
   {
    "duration": 14,
    "start_time": "2021-11-07T09:37:23.210Z"
   },
   {
    "duration": 5,
    "start_time": "2021-11-07T09:37:25.825Z"
   },
   {
    "duration": 9,
    "start_time": "2021-11-07T09:37:37.897Z"
   },
   {
    "duration": 112,
    "start_time": "2021-11-07T09:38:22.305Z"
   },
   {
    "duration": 110,
    "start_time": "2021-11-07T09:38:24.809Z"
   },
   {
    "duration": 118,
    "start_time": "2021-11-07T09:38:30.783Z"
   },
   {
    "duration": 20,
    "start_time": "2021-11-07T09:38:46.394Z"
   },
   {
    "duration": 22,
    "start_time": "2021-11-07T09:38:47.307Z"
   },
   {
    "duration": 123,
    "start_time": "2021-11-07T09:38:48.482Z"
   },
   {
    "duration": 136,
    "start_time": "2021-11-07T09:38:53.125Z"
   },
   {
    "duration": 1101,
    "start_time": "2021-11-07T09:39:08.210Z"
   },
   {
    "duration": 165,
    "start_time": "2021-11-07T09:39:09.315Z"
   },
   {
    "duration": 22,
    "start_time": "2021-11-07T09:39:09.674Z"
   },
   {
    "duration": 42,
    "start_time": "2021-11-07T09:39:10.075Z"
   },
   {
    "duration": 20,
    "start_time": "2021-11-07T09:39:10.821Z"
   },
   {
    "duration": 23,
    "start_time": "2021-11-07T09:39:12.123Z"
   },
   {
    "duration": 114,
    "start_time": "2021-11-07T09:39:13.195Z"
   },
   {
    "duration": 209,
    "start_time": "2021-11-07T09:39:15.786Z"
   },
   {
    "duration": 8,
    "start_time": "2021-11-07T09:42:58.630Z"
   },
   {
    "duration": 37,
    "start_time": "2021-11-07T09:43:26.638Z"
   },
   {
    "duration": 265,
    "start_time": "2021-11-07T09:43:48.033Z"
   },
   {
    "duration": 151,
    "start_time": "2021-11-07T09:43:59.399Z"
   },
   {
    "duration": 210,
    "start_time": "2021-11-07T09:44:14.097Z"
   },
   {
    "duration": 38,
    "start_time": "2021-11-07T09:57:48.844Z"
   },
   {
    "duration": 205,
    "start_time": "2021-11-07T09:59:20.654Z"
   },
   {
    "duration": 3,
    "start_time": "2021-11-07T09:59:22.389Z"
   },
   {
    "duration": 557,
    "start_time": "2021-11-07T09:59:23.357Z"
   },
   {
    "duration": 1303,
    "start_time": "2021-11-07T09:59:24.046Z"
   },
   {
    "duration": 3,
    "start_time": "2021-11-07T09:59:25.352Z"
   },
   {
    "duration": 120,
    "start_time": "2021-11-07T09:59:26.278Z"
   },
   {
    "duration": 121,
    "start_time": "2021-11-07T09:59:31.316Z"
   },
   {
    "duration": 213,
    "start_time": "2021-11-07T09:59:34.613Z"
   },
   {
    "duration": 21,
    "start_time": "2021-11-07T09:59:36.525Z"
   },
   {
    "duration": 42,
    "start_time": "2021-11-07T09:59:38.005Z"
   },
   {
    "duration": 41,
    "start_time": "2021-11-07T10:00:25.695Z"
   },
   {
    "duration": 4,
    "start_time": "2021-11-07T10:00:26.702Z"
   },
   {
    "duration": 1735,
    "start_time": "2021-11-07T10:00:29.438Z"
   },
   {
    "duration": 1648,
    "start_time": "2021-11-07T10:00:32.814Z"
   }
  ],
  "kernelspec": {
   "display_name": "Python 3",
   "language": "python",
   "name": "python3"
  },
  "language_info": {
   "codemirror_mode": {
    "name": "ipython",
    "version": 3
   },
   "file_extension": ".py",
   "mimetype": "text/x-python",
   "name": "python",
   "nbconvert_exporter": "python",
   "pygments_lexer": "ipython3",
   "version": "3.8.8"
  },
  "toc": {
   "base_numbering": 1,
   "nav_menu": {},
   "number_sections": true,
   "sideBar": true,
   "skip_h1_title": true,
   "title_cell": "Table of Contents",
   "title_sidebar": "Contents",
   "toc_cell": false,
   "toc_position": {},
   "toc_section_display": true,
   "toc_window_display": false
  }
 },
 "nbformat": 4,
 "nbformat_minor": 2
}
