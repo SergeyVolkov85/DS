{
 "cells": [
  {
   "cell_type": "markdown",
   "metadata": {},
   "source": [
    "Привет! Меня зовут Валерий Гриднев, я провожу ревью твоей работы. Предлагаю общаться на «ты», если не против.\n",
    "\n",
    "В работе ты увидишь комментарии, помеченные разным цветом.\n",
    "\n",
    "<div class=\"alert alert-success\">\n",
    "Зеленым цветом помечены оброзцовые решения. Которые можно использовать в дальнейшем.\n",
    "</div>\n",
    "\n",
    "<div class=\"alert alert-warning\">\n",
    "Желтым цветом отмечено то, что ты можешь улучшить или доработать. Если их меньше 3,то можешь учесть это при выполнении следующих работ.\n",
    "</div>\n",
    "\n",
    "<div class=\"alert alert-danger\">\n",
    "Красным цветом помечены моменты, которые необходимо доработать, чтобы проект был принят. Уверен, что у тебя все получится. Буду ждать твою работу на повторное ревью. \n",
    "</div>\n",
    "\n",
    "Будет комфортнее работать над проектом вместе, если ты будешь **писать об изменениях** в проекте по моим рекомендациям. Для этого выбери для своих комментариев \n",
    "\n",
    "<div class=\"alert alert-block alert-info\">заметный цвет</div>\n",
    "\n",
    "Пожалуйста, **не перемещай, не изменяй и не удаляй мои комментарии**. Всё это поможет выполнить повторную проверку твоего проекта оперативнее.\n",
    "___"
   ]
  },
  {
   "cell_type": "markdown",
   "metadata": {
    "toc": true
   },
   "source": [
    "<h1>Содержание<span class=\"tocSkip\"></span></h1>\n",
    "<div class=\"toc\"><ul class=\"toc-item\"><li><span><a href=\"#Подготовка\" data-toc-modified-id=\"Подготовка-1\"><span class=\"toc-item-num\">1&nbsp;&nbsp;</span>Подготовка</a></span></li><li><span><a href=\"#Анализ\" data-toc-modified-id=\"Анализ-2\"><span class=\"toc-item-num\">2&nbsp;&nbsp;</span>Анализ</a></span></li><li><span><a href=\"#Обучение\" data-toc-modified-id=\"Обучение-3\"><span class=\"toc-item-num\">3&nbsp;&nbsp;</span>Обучение</a></span></li><li><span><a href=\"#Тестирование\" data-toc-modified-id=\"Тестирование-4\"><span class=\"toc-item-num\">4&nbsp;&nbsp;</span>Тестирование</a></span></li><li><span><a href=\"#Чек-лист-проверки\" data-toc-modified-id=\"Чек-лист-проверки-5\"><span class=\"toc-item-num\">5&nbsp;&nbsp;</span>Чек-лист проверки</a></span></li></ul></div>"
   ]
  },
  {
   "cell_type": "markdown",
   "metadata": {},
   "source": [
    "#  Прогнозирование заказов такси"
   ]
  },
  {
   "cell_type": "markdown",
   "metadata": {},
   "source": [
    "Компания «Чётенькое такси» собрала исторические данные о заказах такси в аэропортах. Чтобы привлекать больше водителей в период пиковой нагрузки, нужно спрогнозировать количество заказов такси на следующий час. Постройте модель для такого предсказания.\n",
    "\n",
    "Значение метрики *RMSE* на тестовой выборке должно быть не больше 48.\n",
    "\n",
    "Вам нужно:\n",
    "\n",
    "1. Загрузить данные и выполнить их ресемплирование по одному часу.\n",
    "2. Проанализировать данные.\n",
    "3. Обучить разные модели с различными гиперпараметрами. Сделать тестовую выборку размером 10% от исходных данных.\n",
    "4. Проверить данные на тестовой выборке и сделать выводы.\n",
    "\n",
    "\n",
    "Данные лежат в файле `taxi.csv`. Количество заказов находится в столбце `num_orders` (от англ. *number of orders*, «число заказов»)."
   ]
  },
  {
   "cell_type": "markdown",
   "metadata": {},
   "source": [
    "<div class=\"alert alert-danger\">\n",
    "    \n",
    "**Комментарий ревьюера**\n",
    "    \n",
    "Сергей, возможно ты отправил не ту версию проекта? С таким оформление никак не могу принять работу. Пожалуйста внеси правки и конечно же жду вопросы от тебя\n",
    "</div>"
   ]
  },
  {
   "cell_type": "markdown",
   "metadata": {},
   "source": [
    "## Подготовка"
   ]
  },
  {
   "cell_type": "code",
   "execution_count": null,
   "metadata": {},
   "outputs": [],
   "source": [
    "import pandas as pd\n",
    "import numpy as np\n",
    "from sklearn.model_selection import train_test_split\n",
    "from sklearn.linear_model import LinearRegression\n",
    "from sklearn.metrics import mean_absolute_error\n",
    "from statsmodels.tsa.seasonal import seasonal_decompose\n",
    "import matplotlib.pyplot as plt\n",
    "from sklearn.metrics import mean_squared_error\n",
    "from sklearn.ensemble import RandomForestRegressor\n",
    "from catboost import CatBoostRegressor,Pool\n",
    "from lightgbm import LGBMRegressor\n",
    "from sklearn.model_selection import cross_val_score\n",
    "from sklearn.preprocessing import StandardScaler\n",
    "from sklearn.model_selection import TimeSeriesSplit\n",
    "from sklearn.metrics import mean_squared_error, make_scorer\n",
    "from sklearn.model_selection import GridSearchCV\n",
    "import lightgbm as lgb\n",
    "import time\n",
    "import warnings\n",
    "warnings.filterwarnings('ignore')\n",
    "\n",
    "\n"
   ]
  },
  {
   "cell_type": "markdown",
   "metadata": {},
   "source": [
    "## Анализ"
   ]
  },
  {
   "cell_type": "markdown",
   "metadata": {
    "scrolled": true
   },
   "source": [
    "Прочитаем файл, создадим ДатаФрейм, выведем таблицу. Столбец datetime приведем к формату даты и переведем в индекс через index_col, parse_dates:"
   ]
  },
  {
   "cell_type": "code",
   "execution_count": 2,
   "metadata": {
    "scrolled": true
   },
   "outputs": [],
   "source": [
    "data = pd.read_csv('/datasets/taxi.csv', index_col=[0], parse_dates=[0])"
   ]
  },
  {
   "cell_type": "code",
   "execution_count": 3,
   "metadata": {
    "scrolled": true
   },
   "outputs": [
    {
     "data": {
      "text/html": [
       "<div>\n",
       "<style scoped>\n",
       "    .dataframe tbody tr th:only-of-type {\n",
       "        vertical-align: middle;\n",
       "    }\n",
       "\n",
       "    .dataframe tbody tr th {\n",
       "        vertical-align: top;\n",
       "    }\n",
       "\n",
       "    .dataframe thead th {\n",
       "        text-align: right;\n",
       "    }\n",
       "</style>\n",
       "<table border=\"1\" class=\"dataframe\">\n",
       "  <thead>\n",
       "    <tr style=\"text-align: right;\">\n",
       "      <th></th>\n",
       "      <th>num_orders</th>\n",
       "    </tr>\n",
       "    <tr>\n",
       "      <th>datetime</th>\n",
       "      <th></th>\n",
       "    </tr>\n",
       "  </thead>\n",
       "  <tbody>\n",
       "    <tr>\n",
       "      <td>2018-03-01 00:00:00</td>\n",
       "      <td>9</td>\n",
       "    </tr>\n",
       "    <tr>\n",
       "      <td>2018-03-01 00:10:00</td>\n",
       "      <td>14</td>\n",
       "    </tr>\n",
       "    <tr>\n",
       "      <td>2018-03-01 00:20:00</td>\n",
       "      <td>28</td>\n",
       "    </tr>\n",
       "    <tr>\n",
       "      <td>2018-03-01 00:30:00</td>\n",
       "      <td>20</td>\n",
       "    </tr>\n",
       "    <tr>\n",
       "      <td>2018-03-01 00:40:00</td>\n",
       "      <td>32</td>\n",
       "    </tr>\n",
       "    <tr>\n",
       "      <td>...</td>\n",
       "      <td>...</td>\n",
       "    </tr>\n",
       "    <tr>\n",
       "      <td>2018-08-31 23:10:00</td>\n",
       "      <td>32</td>\n",
       "    </tr>\n",
       "    <tr>\n",
       "      <td>2018-08-31 23:20:00</td>\n",
       "      <td>24</td>\n",
       "    </tr>\n",
       "    <tr>\n",
       "      <td>2018-08-31 23:30:00</td>\n",
       "      <td>27</td>\n",
       "    </tr>\n",
       "    <tr>\n",
       "      <td>2018-08-31 23:40:00</td>\n",
       "      <td>39</td>\n",
       "    </tr>\n",
       "    <tr>\n",
       "      <td>2018-08-31 23:50:00</td>\n",
       "      <td>53</td>\n",
       "    </tr>\n",
       "  </tbody>\n",
       "</table>\n",
       "<p>26496 rows × 1 columns</p>\n",
       "</div>"
      ],
      "text/plain": [
       "                     num_orders\n",
       "datetime                       \n",
       "2018-03-01 00:00:00           9\n",
       "2018-03-01 00:10:00          14\n",
       "2018-03-01 00:20:00          28\n",
       "2018-03-01 00:30:00          20\n",
       "2018-03-01 00:40:00          32\n",
       "...                         ...\n",
       "2018-08-31 23:10:00          32\n",
       "2018-08-31 23:20:00          24\n",
       "2018-08-31 23:30:00          27\n",
       "2018-08-31 23:40:00          39\n",
       "2018-08-31 23:50:00          53\n",
       "\n",
       "[26496 rows x 1 columns]"
      ]
     },
     "execution_count": 3,
     "metadata": {},
     "output_type": "execute_result"
    }
   ],
   "source": [
    "data"
   ]
  },
  {
   "cell_type": "code",
   "execution_count": 4,
   "metadata": {},
   "outputs": [
    {
     "name": "stdout",
     "output_type": "stream",
     "text": [
      "<class 'pandas.core.frame.DataFrame'>\n",
      "DatetimeIndex: 26496 entries, 2018-03-01 00:00:00 to 2018-08-31 23:50:00\n",
      "Data columns (total 1 columns):\n",
      "num_orders    26496 non-null int64\n",
      "dtypes: int64(1)\n",
      "memory usage: 414.0 KB\n"
     ]
    }
   ],
   "source": [
    "data.info()"
   ]
  },
  {
   "cell_type": "code",
   "execution_count": 5,
   "metadata": {},
   "outputs": [],
   "source": [
    "data = data.sort_index()"
   ]
  },
  {
   "cell_type": "markdown",
   "metadata": {},
   "source": [
    "Проверим, в хронологическом ли порядке расположены даты и время, посмотрим атрибут индекса таблицы is_monotonic:"
   ]
  },
  {
   "cell_type": "code",
   "execution_count": 6,
   "metadata": {},
   "outputs": [
    {
     "data": {
      "text/plain": [
       "True"
      ]
     },
     "execution_count": 6,
     "metadata": {},
     "output_type": "execute_result"
    }
   ],
   "source": [
    "data.index.is_monotonic"
   ]
  },
  {
   "cell_type": "markdown",
   "metadata": {},
   "source": [
    "<div class=\"alert alert-success\">\n",
    "    \n",
    "**Комментарий ревьюера**\n",
    "    \n",
    "Отлично!\n",
    "</div>"
   ]
  },
  {
   "cell_type": "code",
   "execution_count": 7,
   "metadata": {},
   "outputs": [
    {
     "name": "stdout",
     "output_type": "stream",
     "text": [
      "<class 'pandas.core.frame.DataFrame'>\n",
      "DatetimeIndex: 26496 entries, 2018-03-01 00:00:00 to 2018-08-31 23:50:00\n",
      "Data columns (total 1 columns):\n",
      "num_orders    26496 non-null int64\n",
      "dtypes: int64(1)\n",
      "memory usage: 414.0 KB\n"
     ]
    }
   ],
   "source": [
    "data.info()"
   ]
  },
  {
   "cell_type": "markdown",
   "metadata": {},
   "source": [
    "Построим график временного ряда"
   ]
  },
  {
   "cell_type": "code",
   "execution_count": 8,
   "metadata": {},
   "outputs": [
    {
     "data": {
      "text/plain": [
       "<matplotlib.axes._subplots.AxesSubplot at 0x7f374ec617d0>"
      ]
     },
     "execution_count": 8,
     "metadata": {},
     "output_type": "execute_result"
    },
    {
     "data": {
      "image/png": "[encoded data removed]",
      "text/plain": [
       "<Figure size 864x360 with 1 Axes>"
      ]
     },
     "metadata": {
      "needs_background": "light"
     },
     "output_type": "display_data"
    }
   ],
   "source": [
    "data.plot(figsize=(12,5))"
   ]
  },
  {
   "cell_type": "markdown",
   "metadata": {},
   "source": [
    "Проведем Ресемплирование - изменение временного ряда на часовой и вычислим агрегированное значение ряда по .sum():"
   ]
  },
  {
   "cell_type": "code",
   "execution_count": 9,
   "metadata": {},
   "outputs": [
    {
     "data": {
      "text/html": [
       "<div>\n",
       "<style scoped>\n",
       "    .dataframe tbody tr th:only-of-type {\n",
       "        vertical-align: middle;\n",
       "    }\n",
       "\n",
       "    .dataframe tbody tr th {\n",
       "        vertical-align: top;\n",
       "    }\n",
       "\n",
       "    .dataframe thead th {\n",
       "        text-align: right;\n",
       "    }\n",
       "</style>\n",
       "<table border=\"1\" class=\"dataframe\">\n",
       "  <thead>\n",
       "    <tr style=\"text-align: right;\">\n",
       "      <th></th>\n",
       "      <th>num_orders</th>\n",
       "    </tr>\n",
       "    <tr>\n",
       "      <th>datetime</th>\n",
       "      <th></th>\n",
       "    </tr>\n",
       "  </thead>\n",
       "  <tbody>\n",
       "    <tr>\n",
       "      <td>2018-03-01 00:00:00</td>\n",
       "      <td>124</td>\n",
       "    </tr>\n",
       "    <tr>\n",
       "      <td>2018-03-01 01:00:00</td>\n",
       "      <td>85</td>\n",
       "    </tr>\n",
       "    <tr>\n",
       "      <td>2018-03-01 02:00:00</td>\n",
       "      <td>71</td>\n",
       "    </tr>\n",
       "    <tr>\n",
       "      <td>2018-03-01 03:00:00</td>\n",
       "      <td>66</td>\n",
       "    </tr>\n",
       "    <tr>\n",
       "      <td>2018-03-01 04:00:00</td>\n",
       "      <td>43</td>\n",
       "    </tr>\n",
       "    <tr>\n",
       "      <td>...</td>\n",
       "      <td>...</td>\n",
       "    </tr>\n",
       "    <tr>\n",
       "      <td>2018-08-31 19:00:00</td>\n",
       "      <td>136</td>\n",
       "    </tr>\n",
       "    <tr>\n",
       "      <td>2018-08-31 20:00:00</td>\n",
       "      <td>154</td>\n",
       "    </tr>\n",
       "    <tr>\n",
       "      <td>2018-08-31 21:00:00</td>\n",
       "      <td>159</td>\n",
       "    </tr>\n",
       "    <tr>\n",
       "      <td>2018-08-31 22:00:00</td>\n",
       "      <td>223</td>\n",
       "    </tr>\n",
       "    <tr>\n",
       "      <td>2018-08-31 23:00:00</td>\n",
       "      <td>205</td>\n",
       "    </tr>\n",
       "  </tbody>\n",
       "</table>\n",
       "<p>4416 rows × 1 columns</p>\n",
       "</div>"
      ],
      "text/plain": [
       "                     num_orders\n",
       "datetime                       \n",
       "2018-03-01 00:00:00         124\n",
       "2018-03-01 01:00:00          85\n",
       "2018-03-01 02:00:00          71\n",
       "2018-03-01 03:00:00          66\n",
       "2018-03-01 04:00:00          43\n",
       "...                         ...\n",
       "2018-08-31 19:00:00         136\n",
       "2018-08-31 20:00:00         154\n",
       "2018-08-31 21:00:00         159\n",
       "2018-08-31 22:00:00         223\n",
       "2018-08-31 23:00:00         205\n",
       "\n",
       "[4416 rows x 1 columns]"
      ]
     },
     "execution_count": 9,
     "metadata": {},
     "output_type": "execute_result"
    }
   ],
   "source": [
    "data = data.resample('1H').sum()\n",
    "data"
   ]
  },
  {
   "cell_type": "code",
   "execution_count": 10,
   "metadata": {},
   "outputs": [
    {
     "data": {
      "text/plain": [
       "<matplotlib.axes._subplots.AxesSubplot at 0x7f374e87ba10>"
      ]
     },
     "execution_count": 10,
     "metadata": {},
     "output_type": "execute_result"
    },
    {
     "data": {
      "image/png": "[encoded data removed]",
      "text/plain": [
       "<Figure size 432x288 with 1 Axes>"
      ]
     },
     "metadata": {
      "needs_background": "light"
     },
     "output_type": "display_data"
    }
   ],
   "source": [
    "data.plot()"
   ]
  },
  {
   "cell_type": "code",
   "execution_count": 11,
   "metadata": {},
   "outputs": [
    {
     "data": {
      "text/plain": [
       "<matplotlib.axes._subplots.AxesSubplot at 0x7f375ad39950>"
      ]
     },
     "execution_count": 11,
     "metadata": {},
     "output_type": "execute_result"
    },
    {
     "data": {
      "image/png": "[encoded data removed]",
      "text/plain": [
       "<Figure size 432x288 with 1 Axes>"
      ]
     },
     "metadata": {
      "needs_background": "light"
     },
     "output_type": "display_data"
    }
   ],
   "source": [
    "data['rolling_mean'] = data.rolling(10).mean()\n",
    "data.plot()"
   ]
  },
  {
   "cell_type": "markdown",
   "metadata": {},
   "source": [
    "<div class=\"alert alert-warning\">\n",
    "    \n",
    "**Комментарий ревьюера**\n",
    "    \n",
    "Что мы видим на графиках? Какие выводы можем сделать? \n",
    "</div>"
   ]
  },
  {
   "cell_type": "markdown",
   "metadata": {},
   "source": [
    "Посмотрим на тренд и сезонность данных с помощью функции seasonal_decompose(). Она раскладывает временной ряд на три составляющие: тренд, сезонность и остаток"
   ]
  },
  {
   "cell_type": "code",
   "execution_count": 12,
   "metadata": {},
   "outputs": [],
   "source": [
    "data = data.resample('1H').sum()\n",
    "decomposed = seasonal_decompose(data)"
   ]
  },
  {
   "cell_type": "code",
   "execution_count": 13,
   "metadata": {},
   "outputs": [
    {
     "data": {
      "image/png": "[encoded data removed]",
      "text/plain": [
       "<Figure size 432x576 with 3 Axes>"
      ]
     },
     "metadata": {
      "needs_background": "light"
     },
     "output_type": "display_data"
    }
   ],
   "source": [
    "plt.figure(figsize=(6, 8))\n",
    "plt.subplot(311)\n",
    "# Чтобы график корректно отобразился, указываем его\n",
    "# оси ax, равными plt.gca() (англ. get current axis,\n",
    "# получить текущие оси)\n",
    "decomposed.trend.plot(ax=plt.gca())\n",
    "plt.title('Trend')\n",
    "plt.subplot(312)\n",
    "decomposed.seasonal.plot(ax=plt.gca()) # < напишите код здесь >\n",
    "plt.title('Seasonality')\n",
    "plt.subplot(313)\n",
    "decomposed.resid.plot(ax=plt.gca()) # < напишите код здесь >\n",
    "plt.title('Residuals')\n",
    "plt.tight_layout()\n"
   ]
  },
  {
   "cell_type": "code",
   "execution_count": 14,
   "metadata": {},
   "outputs": [
    {
     "data": {
      "image/png": "[encoded data removed]",
      "text/plain": [
       "<Figure size 864x576 with 3 Axes>"
      ]
     },
     "metadata": {
      "needs_background": "light"
     },
     "output_type": "display_data"
    }
   ],
   "source": [
    "plt.figure(figsize=(12, 8))\n",
    "plt.subplot(311)\n",
    "\n",
    "decomposed.trend.plot(ax=plt.gca())\n",
    "plt.title('Trend')\n",
    "plt.subplot(312)\n",
    "decomposed.seasonal['2018-03-01':'2018-03-03'].plot(ax=plt.gca())\n",
    "plt.title('Seasonality')\n",
    "plt.subplot(313)\n",
    "decomposed.resid.plot(ax=plt.gca())\n",
    "plt.title('Residuals')\n",
    "plt.tight_layout()"
   ]
  },
  {
   "cell_type": "markdown",
   "metadata": {},
   "source": [
    "По графику сезонности можно отметить переодичность: пик загрузки приходится в полночь, минимум в 6 утра. Также наблюдается локальный максимум днем."
   ]
  },
  {
   "cell_type": "markdown",
   "metadata": {},
   "source": [
    "<div class=\"alert alert-warning\">\n",
    "    \n",
    "**Комментарий ревьюера**\n",
    "    \n",
    "Конец главы, а выводов нет( \n",
    "    \n",
    "Что интересного мы можем увидеть в данных графиках? Какие фичи стоит создавать?</div>"
   ]
  },
  {
   "cell_type": "markdown",
   "metadata": {},
   "source": [
    "Вывод:\n",
    "\n",
    "В процессе загрузки и обработки данных обнаружили:\n",
    "\n",
    "Среднее меняется с течением времени. Данные представляют собой нестационарный временной ряд. Прогнозировать такие ряды сложнее: свойства меняются слишком быстро."
   ]
  },
  {
   "cell_type": "code",
   "execution_count": null,
   "metadata": {},
   "outputs": [],
   "source": []
  },
  {
   "cell_type": "code",
   "execution_count": null,
   "metadata": {},
   "outputs": [],
   "source": []
  },
  {
   "cell_type": "markdown",
   "metadata": {},
   "source": [
    "## Обучение"
   ]
  },
  {
   "cell_type": "markdown",
   "metadata": {},
   "source": [
    "<div class=\"alert alert-block alert-info\">Беря во внимание замечания, я переделал 3 и 4 раздел, по совету коллег использовал TimeSeriesSplit/</div>"
   ]
  },
  {
   "cell_type": "markdown",
   "metadata": {},
   "source": [
    "<div class=\"alert alert-success\">\n",
    "    \n",
    "**Комментарий ревьюера(Хорошо) v_2**\n",
    "     \n",
    "Отлично, правильное решение\n",
    "</div>"
   ]
  },
  {
   "cell_type": "markdown",
   "metadata": {},
   "source": [
    "При анализе ряда мы убедились в наличии \"сезонности\". Есть смысл добавить дополнительные признаки перед обучением моделей. Также, для определения, будет функция расти или уменьшаться заполним недостающие значения."
   ]
  },
  {
   "cell_type": "code",
   "execution_count": 15,
   "metadata": {},
   "outputs": [],
   "source": [
    "\n",
    "def make_features(data, max_lag, rolling_mean_size):\n",
    "    data['dayofweek'] = data.index.dayofweek\n",
    "    data['day'] = data.index.day\n",
    "    data['month'] = data.index.month\n",
    "    data['week'] = data.index.week\n",
    "    data['hour'] = data.index.hour\n",
    "    \n",
    "    for lag in range(1, max_lag + 1):\n",
    "        data['lag_{}'.format(lag)] = data['num_orders'].shift(lag)\n",
    "\n",
    "    data['rolling_mean'] = data['num_orders'].shift().rolling(rolling_mean_size).mean()"
   ]
  },
  {
   "cell_type": "markdown",
   "metadata": {},
   "source": [
    "<div class=\"alert alert-success\">\n",
    "    \n",
    "**Комментарий ревьюера**\n",
    "    \n",
    "Почему выбрал именно такой размер лага?Какие еще варианты рассматривались?\n",
    "</div>"
   ]
  },
  {
   "cell_type": "markdown",
   "metadata": {},
   "source": [
    " Напишем ее функцию для кросс-валидации."
   ]
  },
  {
   "cell_type": "code",
   "execution_count": 16,
   "metadata": {},
   "outputs": [],
   "source": [
    "def rmse(predict, actual):\n",
    "    score = np.sqrt(mean_squared_error(actual, predict))\n",
    "    return score"
   ]
  },
  {
   "cell_type": "markdown",
   "metadata": {},
   "source": [
    "Обучим модели с подбором лучшего lag"
   ]
  },
  {
   "cell_type": "markdown",
   "metadata": {},
   "source": [
    "1. Обучим модель Линейная регрессия"
   ]
  },
  {
   "cell_type": "code",
   "execution_count": 17,
   "metadata": {},
   "outputs": [
    {
     "name": "stdout",
     "output_type": "stream",
     "text": [
      "Best lag: 73\n",
      "Best RMSE: 23.71528446449377\n",
      "CPU times: user 1min 3s, sys: 1min 27s, total: 2min 30s\n",
      "Wall time: 2min 30s\n"
     ]
    }
   ],
   "source": [
    "%%time\n",
    "best_result = 10000\n",
    "best_lag = 0\n",
    "best_LinearRegression = None\n",
    "for i in range(1, 100):\n",
    "    df = data.copy() #копируем оригинальный датасет для добавления признаков\n",
    "    make_features(df, i, 10)\n",
    "    \n",
    "    train, test = train_test_split(df, shuffle=False, test_size=0.1)\n",
    "    train = train.dropna()\n",
    "\n",
    "    target_train = train['num_orders']\n",
    "    features_train = train.drop('num_orders', axis=1)\n",
    "    target_test = test['num_orders']\n",
    "    features_test = test.drop('num_orders',axis=1)\n",
    "\n",
    "    lr = LinearRegression()\n",
    "    lr.fit(features_train, target_train)\n",
    "\n",
    "    tss = TimeSeriesSplit(max_train_size=None, n_splits=8)\n",
    "    rmse_score = make_scorer(rmse, greater_is_better = False)\n",
    "    scores = cross_val_score(lr, features_train, target_train, cv=tss , scoring=rmse_score)\n",
    "    result = scores.mean() * -1\n",
    "    if result < best_result:\n",
    "        best_lag = i\n",
    "        best_result = result\n",
    "        best_LinearRegression = lr\n",
    "print('Best lag:', best_lag)  \n",
    "print('Best RMSE:', best_result)\n",
    "#    print(f'RMSE на кроссвалидации: {scores.mean() * -1}')"
   ]
  },
  {
   "cell_type": "markdown",
   "metadata": {},
   "source": [
    "<div class=\"alert alert-success\">\n",
    "    \n",
    "**Комментарий ревьюера(Хорошо) v_2**\n",
    "     \n",
    "Отличная идея с кросс-валидацией, молодец\n",
    "</div>"
   ]
  },
  {
   "cell_type": "markdown",
   "metadata": {},
   "source": [
    "2. Обучим модель градиентного бустинга LightGBM"
   ]
  },
  {
   "cell_type": "code",
   "execution_count": 31,
   "metadata": {},
   "outputs": [
    {
     "name": "stdout",
     "output_type": "stream",
     "text": [
      "RMSE на обучающей выборке: 9.319718372701129\n",
      "RMSE на тестовой выборке: 38.56483834892652\n",
      "CPU times: user 7.96 s, sys: 0 ns, total: 7.96 s\n",
      "Wall time: 8.04 s\n"
     ]
    }
   ],
   "source": [
    "%%time\n",
    "lgb_train = lgb.Dataset(features_train, target_train)\n",
    "lgb_test = lgb.Dataset(features_test, target_test, reference=lgb_train)\n",
    "\n",
    "params = {\n",
    "    'boosting': 'GBDT',\n",
    "    'metric': 'rmse',\n",
    "    'num_leaves': 100,\n",
    "    'verbose': -1,\n",
    "#    'force_row_wise': True,\n",
    "    'max_depth':10\n",
    "#    'force_col_wise': True\n",
    "}\n",
    "\n",
    "\n",
    "gbm = lgb.train(params,\n",
    "                lgb_train,\n",
    "                num_boost_round=50,\n",
    "                valid_sets=lgb_test,\n",
    "                verbose_eval=False\n",
    "                )\n",
    "\n",
    "test_predict = gbm.predict(features_train, num_iteration=gbm.best_iteration)\n",
    "rmse_train = mean_squared_error(target_train, test_predict) ** 0.5\n",
    "print(f'RMSE на обучающей выборке: {rmse_train}')\n",
    "target_predict = gbm.predict(features_test, num_iteration=gbm.best_iteration)\n",
    "\n",
    "rmse_test = mean_squared_error(target_test, target_predict) ** 0.5\n",
    "print(f'RMSE на тестовой выборке: {rmse_test}')"
   ]
  },
  {
   "cell_type": "markdown",
   "metadata": {},
   "source": [
    "<div class=\"alert alert-danger\">\n",
    "    \n",
    "**Комментарий ревьюера(Ошибка)v_2**\n",
    "\n",
    "1)Мы не должны на данном этапе подставлять тестовые данные. Используя трейн данные, мы должны обучить несколько моделей, проанализировать их и только потом тестировать\n",
    "\n",
    "2)У тебя метрики отличаются в 4 раза, разве это нормально? Как думаешь, с чем это связано?\n",
    "</div>"
   ]
  },
  {
   "cell_type": "markdown",
   "metadata": {},
   "source": []
  },
  {
   "cell_type": "markdown",
   "metadata": {},
   "source": [
    "<div class=\"alert alert-block alert-info\">Да, я обратил внимание, подумал, что сдела не верно, пытался сделать по-другому, но не вышло, код ниже, может подскажешь, что не верно я делаю, сам не могу разобраться...(</div>"
   ]
  },
  {
   "cell_type": "markdown",
   "metadata": {},
   "source": [
    "<div class=\"alert alert-success\">\n",
    "    \n",
    "**Комментарий ревьюера(Хорошо) v_3**\n",
    "     \n",
    "Смотри)\n",
    "    \n",
    "1) и самое главное, как уже писал выше, ты подставляешь тестовые данные, и это плохо)\n",
    "    \n",
    "2)Нужно или выделять дополнительно валидационную часть или делать кросс-валидацию\n",
    "  \n",
    "3)Ты забыл что можно переобучиться. Лучше останавливать обучение, когда результаты начинают отличаться больше чем на 10%(трейн и валидация)\n",
    "</div>"
   ]
  },
  {
   "cell_type": "code",
   "execution_count": null,
   "metadata": {},
   "outputs": [],
   "source": [
    "\n",
    "final_GBM = LGBMRegressor(depth=gsearch[\"params\"][\"depth\"], \n",
    "                              learning_rate=gsearch[\"params\"]['learning_rate'],\n",
    "                              loss_function='RMSE',verbose=100)\n",
    "final_GBM.fit(features_train,train_target)"
   ]
  },
  {
   "cell_type": "code",
   "execution_count": null,
   "metadata": {},
   "outputs": [],
   "source": [
    "scoresLGB = cross_val_score(final_GBM, features_train, target_train, cv=tss , scoring=rmse_score)\n",
    "resultLGB = scoresLGB.mean() * -1\n",
    "print('RMSE на обучающей выборке', resultLGB.round(2))"
   ]
  },
  {
   "cell_type": "markdown",
   "metadata": {},
   "source": [
    "Разделим выборки на features - признаки и target — целевой признак.\n"
   ]
  },
  {
   "cell_type": "code",
   "execution_count": null,
   "metadata": {},
   "outputs": [],
   "source": [
    "\n"
   ]
  },
  {
   "cell_type": "markdown",
   "metadata": {},
   "source": [
    "<div class=\"alert alert-success\">\n",
    "    \n",
    "**Комментарий ревьюера**\n",
    "    \n",
    "Сделал верно, молодец! \n",
    "\n",
    "А нужно ли трансформить тест? Разве не лучше после находки лучшей модели трейн и валид части объединить?\n",
    "</div>"
   ]
  },
  {
   "cell_type": "markdown",
   "metadata": {},
   "source": [
    "Запишем объединенные выборки в переменные train_valid_features и train_valid_target:"
   ]
  },
  {
   "cell_type": "markdown",
   "metadata": {},
   "source": [
    "<div class=\"alert alert-warning\">\n",
    "    \n",
    "**Комментарий ревьюера**\n",
    "    \n",
    "Почему и для чего объединяем? Пожалуйста поясни\n",
    "</div>"
   ]
  },
  {
   "cell_type": "markdown",
   "metadata": {},
   "source": [
    "3. Обучим модель градиентного бустинга CatBoostRegressor"
   ]
  },
  {
   "cell_type": "code",
   "execution_count": 32,
   "metadata": {},
   "outputs": [
    {
     "name": "stdout",
     "output_type": "stream",
     "text": [
      "0:\tloss: 31.0397151\tbest: 31.0397151 (0)\ttotal: 31.3s\tremaining: 4m 41s\n",
      "1:\tloss: 31.5016688\tbest: 31.0397151 (0)\ttotal: 1m 2s\tremaining: 4m 11s\n",
      "2:\tloss: 33.2210049\tbest: 31.0397151 (0)\ttotal: 1m 32s\tremaining: 3m 36s\n",
      "3:\tloss: 32.3300769\tbest: 31.0397151 (0)\ttotal: 2m 2s\tremaining: 3m 4s\n",
      "4:\tloss: 32.0544973\tbest: 31.0397151 (0)\ttotal: 2m 33s\tremaining: 2m 33s\n",
      "5:\tloss: 35.5844279\tbest: 31.0397151 (0)\ttotal: 8m 53s\tremaining: 5m 55s\n",
      "6:\tloss: 36.8771217\tbest: 31.0397151 (0)\ttotal: 15m 14s\tremaining: 6m 31s\n",
      "7:\tloss: 40.3196215\tbest: 31.0397151 (0)\ttotal: 21m 38s\tremaining: 5m 24s\n",
      "8:\tloss: 42.0147673\tbest: 31.0397151 (0)\ttotal: 28m\tremaining: 3m 6s\n",
      "9:\tloss: 45.0418294\tbest: 31.0397151 (0)\ttotal: 34m 17s\tremaining: 0us\n",
      "Estimating final quality...\n"
     ]
    }
   ],
   "source": [
    "catboost = CatBoostRegressor(loss_function='RMSE',random_state = 12345)\n",
    "parameters_cat = {'depth':[5,10], 'learning_rate':np.arange(0.1,1,0.2)}\n",
    "catboost_grid = catboost.grid_search(parameters_cat,\n",
    "            Pool(features_train,target_train),cv=tss,verbose=True)"
   ]
  },
  {
   "cell_type": "code",
   "execution_count": 33,
   "metadata": {
    "scrolled": true
   },
   "outputs": [
    {
     "name": "stdout",
     "output_type": "stream",
     "text": [
      "0:\tlearn: 36.8883893\ttotal: 3.99ms\tremaining: 3.99s\n",
      "100:\tlearn: 19.6347169\ttotal: 3.27s\tremaining: 29.1s\n",
      "200:\tlearn: 16.5143416\ttotal: 6.93s\tremaining: 27.6s\n",
      "300:\tlearn: 14.5764924\ttotal: 10.3s\tremaining: 23.9s\n",
      "400:\tlearn: 13.0267868\ttotal: 13.6s\tremaining: 20.4s\n",
      "500:\tlearn: 11.6107253\ttotal: 16.9s\tremaining: 16.8s\n",
      "600:\tlearn: 10.3698247\ttotal: 20.2s\tremaining: 13.4s\n",
      "700:\tlearn: 9.3162570\ttotal: 23.4s\tremaining: 10s\n",
      "800:\tlearn: 8.3259118\ttotal: 26.9s\tremaining: 6.68s\n",
      "900:\tlearn: 7.5088020\ttotal: 30.2s\tremaining: 3.31s\n",
      "999:\tlearn: 6.7740937\ttotal: 33.4s\tremaining: 0us\n",
      "CPU times: user 30.6 s, sys: 3.14 s, total: 33.7 s\n",
      "Wall time: 34.8 s\n"
     ]
    },
    {
     "data": {
      "text/plain": [
       "<catboost.core.CatBoostRegressor at 0x7f3745697050>"
      ]
     },
     "execution_count": 33,
     "metadata": {},
     "output_type": "execute_result"
    }
   ],
   "source": [
    "%%time\n",
    "final_cat = CatBoostRegressor(depth=catboost_grid[\"params\"][\"depth\"], \n",
    "                              learning_rate=catboost_grid[\"params\"]['learning_rate'],\n",
    "                              loss_function='RMSE',verbose=100)\n",
    "final_cat.fit(Pool(features_train,target_train))\n"
   ]
  },
  {
   "cell_type": "code",
   "execution_count": 34,
   "metadata": {
    "scrolled": true
   },
   "outputs": [
    {
     "name": "stdout",
     "output_type": "stream",
     "text": [
      "0:\tlearn: 27.3313995\ttotal: 3.12ms\tremaining: 3.12s\n",
      "100:\tlearn: 8.5375198\ttotal: 1.58s\tremaining: 14.1s\n",
      "200:\tlearn: 4.5250610\ttotal: 3.26s\tremaining: 12.9s\n",
      "300:\tlearn: 2.2886334\ttotal: 5.02s\tremaining: 11.7s\n",
      "400:\tlearn: 1.1236111\ttotal: 6.61s\tremaining: 9.87s\n",
      "500:\tlearn: 0.5617427\ttotal: 8.25s\tremaining: 8.21s\n",
      "600:\tlearn: 0.2909456\ttotal: 9.93s\tremaining: 6.59s\n",
      "700:\tlearn: 0.1483693\ttotal: 11.7s\tremaining: 4.98s\n",
      "800:\tlearn: 0.0746368\ttotal: 13.4s\tremaining: 3.32s\n",
      "900:\tlearn: 0.0388632\ttotal: 15s\tremaining: 1.65s\n",
      "999:\tlearn: 0.0196861\ttotal: 16.7s\tremaining: 0us\n",
      "0:\tlearn: 27.8596605\ttotal: 2.78ms\tremaining: 2.77s\n",
      "100:\tlearn: 11.4665585\ttotal: 1.92s\tremaining: 17.1s\n",
      "200:\tlearn: 7.4440809\ttotal: 3.8s\tremaining: 15.1s\n",
      "300:\tlearn: 5.1193201\ttotal: 5.76s\tremaining: 13.4s\n",
      "400:\tlearn: 3.5933350\ttotal: 7.63s\tremaining: 11.4s\n",
      "500:\tlearn: 2.5057107\ttotal: 9.59s\tremaining: 9.55s\n",
      "600:\tlearn: 1.7276976\ttotal: 11.5s\tremaining: 7.61s\n",
      "700:\tlearn: 1.2358132\ttotal: 13.4s\tremaining: 5.73s\n",
      "800:\tlearn: 0.8847807\ttotal: 15.4s\tremaining: 3.82s\n",
      "900:\tlearn: 0.6156893\ttotal: 17.4s\tremaining: 1.91s\n",
      "999:\tlearn: 0.4273780\ttotal: 19.1s\tremaining: 0us\n",
      "0:\tlearn: 29.3287493\ttotal: 2.93ms\tremaining: 2.93s\n",
      "100:\tlearn: 13.2620368\ttotal: 2.15s\tremaining: 19.2s\n",
      "200:\tlearn: 9.5254328\ttotal: 4.32s\tremaining: 17.2s\n",
      "300:\tlearn: 7.1563124\ttotal: 6.49s\tremaining: 15.1s\n",
      "400:\tlearn: 5.3973026\ttotal: 8.65s\tremaining: 12.9s\n",
      "500:\tlearn: 4.1356001\ttotal: 10.8s\tremaining: 10.8s\n",
      "600:\tlearn: 3.1739656\ttotal: 13s\tremaining: 8.63s\n",
      "700:\tlearn: 2.4399344\ttotal: 15.2s\tremaining: 6.46s\n",
      "800:\tlearn: 1.9055425\ttotal: 17.4s\tremaining: 4.33s\n",
      "900:\tlearn: 1.5196807\ttotal: 19.8s\tremaining: 2.17s\n",
      "999:\tlearn: 1.1683057\ttotal: 22s\tremaining: 0us\n",
      "0:\tlearn: 29.9722880\ttotal: 4.17ms\tremaining: 4.16s\n",
      "100:\tlearn: 14.3688640\ttotal: 2.32s\tremaining: 20.7s\n",
      "200:\tlearn: 11.0535388\ttotal: 4.68s\tremaining: 18.6s\n",
      "300:\tlearn: 8.7615156\ttotal: 7.15s\tremaining: 16.6s\n",
      "400:\tlearn: 6.9569555\ttotal: 9.51s\tremaining: 14.2s\n",
      "500:\tlearn: 5.7398375\ttotal: 11.8s\tremaining: 11.7s\n",
      "600:\tlearn: 4.6526927\ttotal: 14.1s\tremaining: 9.39s\n",
      "700:\tlearn: 3.8426067\ttotal: 16.4s\tremaining: 7s\n",
      "800:\tlearn: 3.1005564\ttotal: 18.8s\tremaining: 4.67s\n",
      "900:\tlearn: 2.5368036\ttotal: 21.1s\tremaining: 2.32s\n",
      "999:\tlearn: 2.0681965\ttotal: 23.4s\tremaining: 0us\n",
      "0:\tlearn: 31.5230294\ttotal: 3.38ms\tremaining: 3.38s\n",
      "100:\tlearn: 15.2909146\ttotal: 2.96s\tremaining: 26.3s\n",
      "200:\tlearn: 12.2990345\ttotal: 5.74s\tremaining: 22.8s\n",
      "300:\tlearn: 10.1501217\ttotal: 8.79s\tremaining: 20.4s\n",
      "400:\tlearn: 8.4071957\ttotal: 11.5s\tremaining: 17.1s\n",
      "500:\tlearn: 6.9364504\ttotal: 14s\tremaining: 14s\n",
      "600:\tlearn: 5.7918236\ttotal: 16.7s\tremaining: 11.1s\n",
      "700:\tlearn: 4.8031152\ttotal: 19.4s\tremaining: 8.26s\n",
      "800:\tlearn: 4.0125264\ttotal: 22s\tremaining: 5.47s\n",
      "900:\tlearn: 3.3923646\ttotal: 24.9s\tremaining: 2.73s\n",
      "999:\tlearn: 2.8834748\ttotal: 27.9s\tremaining: 0us\n",
      "0:\tlearn: 31.9149308\ttotal: 3.7ms\tremaining: 3.7s\n",
      "100:\tlearn: 16.2075327\ttotal: 3.08s\tremaining: 27.4s\n",
      "200:\tlearn: 13.2695709\ttotal: 5.94s\tremaining: 23.6s\n",
      "300:\tlearn: 11.1900277\ttotal: 8.9s\tremaining: 20.7s\n",
      "400:\tlearn: 9.5769935\ttotal: 12s\tremaining: 17.9s\n",
      "500:\tlearn: 8.3088755\ttotal: 14.7s\tremaining: 14.7s\n",
      "600:\tlearn: 7.1138287\ttotal: 17.7s\tremaining: 11.7s\n",
      "700:\tlearn: 6.1421929\ttotal: 20.5s\tremaining: 8.73s\n",
      "800:\tlearn: 5.2758290\ttotal: 23.3s\tremaining: 5.79s\n",
      "900:\tlearn: 4.6026660\ttotal: 26.1s\tremaining: 2.87s\n",
      "999:\tlearn: 4.0114240\ttotal: 29s\tremaining: 0us\n",
      "0:\tlearn: 32.5895793\ttotal: 3.81ms\tremaining: 3.81s\n",
      "100:\tlearn: 17.0366090\ttotal: 2.93s\tremaining: 26.1s\n",
      "200:\tlearn: 14.0604887\ttotal: 5.89s\tremaining: 23.4s\n",
      "300:\tlearn: 12.1082724\ttotal: 8.66s\tremaining: 20.1s\n",
      "400:\tlearn: 10.5030269\ttotal: 11.7s\tremaining: 17.5s\n",
      "500:\tlearn: 9.0725255\ttotal: 14.7s\tremaining: 14.6s\n",
      "600:\tlearn: 7.9447219\ttotal: 17.7s\tremaining: 11.7s\n",
      "700:\tlearn: 6.9944221\ttotal: 20.6s\tremaining: 8.79s\n",
      "800:\tlearn: 6.1699799\ttotal: 23.5s\tremaining: 5.84s\n",
      "900:\tlearn: 5.4398480\ttotal: 26.5s\tremaining: 2.91s\n",
      "999:\tlearn: 4.7800127\ttotal: 29.3s\tremaining: 0us\n",
      "0:\tlearn: 34.0688874\ttotal: 3.82ms\tremaining: 3.82s\n",
      "100:\tlearn: 18.1975463\ttotal: 3.18s\tremaining: 28.3s\n",
      "200:\tlearn: 15.3405410\ttotal: 6.44s\tremaining: 25.6s\n",
      "300:\tlearn: 13.2917967\ttotal: 9.6s\tremaining: 22.3s\n",
      "400:\tlearn: 11.7424367\ttotal: 12.8s\tremaining: 19.1s\n",
      "500:\tlearn: 10.3522189\ttotal: 15.9s\tremaining: 15.9s\n",
      "600:\tlearn: 9.1515949\ttotal: 18.9s\tremaining: 12.5s\n",
      "700:\tlearn: 8.1375217\ttotal: 22s\tremaining: 9.37s\n",
      "800:\tlearn: 7.2328741\ttotal: 25.1s\tremaining: 6.24s\n",
      "900:\tlearn: 6.4896368\ttotal: 28.1s\tremaining: 3.09s\n",
      "999:\tlearn: 5.7862313\ttotal: 31.4s\tremaining: 0us\n"
     ]
    }
   ],
   "source": [
    "scores = cross_val_score(final_cat, features_train, target_train, cv=tss , scoring=rmse_score)\n",
    "resultCB = scores.mean() * -1"
   ]
  },
  {
   "cell_type": "markdown",
   "metadata": {
    "scrolled": true
   },
   "source": []
  },
  {
   "cell_type": "code",
   "execution_count": 35,
   "metadata": {},
   "outputs": [
    {
     "name": "stdout",
     "output_type": "stream",
     "text": [
      "RMSE на обучающей выборке 23.06\n"
     ]
    }
   ],
   "source": [
    "print('RMSE на обучающей выборке', resultCB.round(2))"
   ]
  },
  {
   "cell_type": "markdown",
   "metadata": {
    "scrolled": true
   },
   "source": [
    "3.Обучим модель Случайный лес."
   ]
  },
  {
   "cell_type": "code",
   "execution_count": 36,
   "metadata": {
    "scrolled": true
   },
   "outputs": [
    {
     "name": "stdout",
     "output_type": "stream",
     "text": [
      "Best hyper parameter: {'max_depth': 30, 'max_features': 'auto', 'n_estimators': 100}\n"
     ]
    }
   ],
   "source": [
    "rfr = RandomForestRegressor()\n",
    "\n",
    "grid_params = {\n",
    "     'n_estimators' : [10,50,100],\n",
    "    'max_features' : ['auto', 'log2', 'sqrt'],\n",
    "     'max_depth' : [10,20,30]\n",
    "  }\n",
    "grid = GridSearchCV(rfr, param_grid=grid_params, cv=tss, \n",
    "n_jobs = 1, verbose = 0, return_train_score=True)\n",
    "grid.fit(features_train, target_train)\n",
    "print('Best hyper parameter:', grid.best_params_)"
   ]
  },
  {
   "cell_type": "code",
   "execution_count": 39,
   "metadata": {
    "scrolled": true
   },
   "outputs": [
    {
     "name": "stdout",
     "output_type": "stream",
     "text": [
      "RMSE на кроссвалидации: 23.394689645164817\n",
      "CPU times: user 1min 19s, sys: 0 ns, total: 1min 19s\n",
      "Wall time: 1min 20s\n"
     ]
    }
   ],
   "source": [
    "%%time\n",
    "rfr = RandomForestRegressor(\n",
    "    n_estimators=100,\n",
    "    max_depth = 30,\n",
    ")\n",
    "\n",
    "rfr.fit(features_train, target_train)\n",
    "scores = cross_val_score(rfr, features_train, target_train, scoring=rmse_score, cv=tss)\n",
    "print(f'RMSE на кроссвалидации: {scores.mean() * -1}')"
   ]
  },
  {
   "cell_type": "markdown",
   "metadata": {},
   "source": [
    "<div class=\"alert alert-danger\">\n",
    "    \n",
    "**Комментарий ревьюера**\n",
    "    \n",
    "Во всех моделях ты допускаешь одну очень важную ошибку, которая не даст тебе получить хорошего результата.\n",
    "    \n",
    "Мы должны подбирать гиперпараметры смотря на метрики трейна и валидации. Чтобы они были наименьшими, НО не практически не отличались. Как только трейн значительно лучше валидации, значит у нас переобучение и на тесте всё будет плохо. Плюс, после того как мы получим нужную модель и лучшие гиперпараметры. Стоит объединить трейн и валидацию и обучить с данными гиперпараметрами модель заново. \n",
    "</div>"
   ]
  },
  {
   "cell_type": "markdown",
   "metadata": {},
   "source": [
    "<div class=\"alert alert-warning\">\n",
    "    \n",
    "**Комментарий ревьюера**\n",
    "    \n",
    "Как будем защищаться от переобучения?\n",
    "</div>"
   ]
  },
  {
   "cell_type": "markdown",
   "metadata": {},
   "source": [
    "<div class=\"alert alert-block alert-info\">Использовали кросс-валидацию и TimeSeriesSplit</div>"
   ]
  },
  {
   "cell_type": "markdown",
   "metadata": {},
   "source": [
    "Вывод :\n",
    "\n",
    "Наилучшие гиперпараметры найдены\n",
    "\n",
    "Модели обучены\n",
    "\n",
    "Подготовка к тестированию завершена"
   ]
  },
  {
   "cell_type": "code",
   "execution_count": null,
   "metadata": {},
   "outputs": [],
   "source": []
  },
  {
   "cell_type": "code",
   "execution_count": null,
   "metadata": {},
   "outputs": [],
   "source": []
  },
  {
   "cell_type": "code",
   "execution_count": null,
   "metadata": {},
   "outputs": [],
   "source": []
  },
  {
   "cell_type": "code",
   "execution_count": null,
   "metadata": {},
   "outputs": [],
   "source": []
  },
  {
   "cell_type": "code",
   "execution_count": null,
   "metadata": {},
   "outputs": [],
   "source": []
  },
  {
   "cell_type": "markdown",
   "metadata": {},
   "source": [
    "<div class=\"alert alert-warning\">\n",
    "    \n",
    "**Комментарий ревьюера**\n",
    "    \n",
    "Хорошо бы все результаты заполнять в таблицу, чтобы было удобно смотреть\n",
    "    \n",
    "Снова нет выводов\n",
    "</div>"
   ]
  },
  {
   "cell_type": "code",
   "execution_count": null,
   "metadata": {},
   "outputs": [],
   "source": []
  },
  {
   "cell_type": "code",
   "execution_count": null,
   "metadata": {},
   "outputs": [],
   "source": []
  },
  {
   "cell_type": "markdown",
   "metadata": {},
   "source": [
    "## Тестирование"
   ]
  },
  {
   "cell_type": "markdown",
   "metadata": {},
   "source": [
    "Сделаем предсказания моделей на тестовой выборке и оценим их качество:"
   ]
  },
  {
   "cell_type": "markdown",
   "metadata": {},
   "source": [
    "1 - LinearRegression"
   ]
  },
  {
   "cell_type": "code",
   "execution_count": 75,
   "metadata": {},
   "outputs": [
    {
     "name": "stdout",
     "output_type": "stream",
     "text": [
      "RMSE на тестовой выборке: 41.70370925599874\n",
      "CPU times: user 8.98 ms, sys: 0 ns, total: 8.98 ms\n",
      "Wall time: 2.62 ms\n"
     ]
    }
   ],
   "source": [
    "%%time\n",
    "target_predict = lr.predict(features_test)\n",
    "rmse_testLR = mean_squared_error(target_test, target_predict) ** 0.5\n",
    "print(f'RMSE на тестовой выборке: {rmse_testLR}')"
   ]
  },
  {
   "cell_type": "code",
   "execution_count": 71,
   "metadata": {},
   "outputs": [
    {
     "data": {
      "image/png": "[encoded data removed]",
      "text/plain": [
       "<Figure size 432x288 with 1 Axes>"
      ]
     },
     "metadata": {
      "needs_background": "light"
     },
     "output_type": "display_data"
    }
   ],
   "source": [
    "a=np.array(target_test, np.int32)\n",
    "b=np.array(target_predict, np.int32)\n",
    "\n",
    "plt.plot(a, color = 'red', label = 'Historical data')\n",
    "plt.plot(b, color = 'blue', label='Predicted data')\n",
    "plt.legend()\n",
    "plt.show()"
   ]
  },
  {
   "cell_type": "markdown",
   "metadata": {},
   "source": []
  },
  {
   "cell_type": "code",
   "execution_count": null,
   "metadata": {},
   "outputs": [],
   "source": []
  },
  {
   "cell_type": "markdown",
   "metadata": {},
   "source": []
  },
  {
   "cell_type": "markdown",
   "metadata": {},
   "source": [
    "2-CatBoost"
   ]
  },
  {
   "cell_type": "code",
   "execution_count": null,
   "metadata": {},
   "outputs": [],
   "source": []
  },
  {
   "cell_type": "code",
   "execution_count": 74,
   "metadata": {},
   "outputs": [
    {
     "name": "stdout",
     "output_type": "stream",
     "text": [
      "RMSE на тестовой выборке: 37.86061842028361\n",
      "CPU times: user 12 ms, sys: 0 ns, total: 12 ms\n",
      "Wall time: 4.83 ms\n"
     ]
    }
   ],
   "source": [
    "%%time\n",
    "target_predict = final_cat.predict(features_test)\n",
    "rmse_testCB = mean_squared_error(target_test, target_predict) ** 0.5\n",
    "print(f'RMSE на тестовой выборке: {rmse_testCB}')"
   ]
  },
  {
   "cell_type": "code",
   "execution_count": 76,
   "metadata": {},
   "outputs": [
    {
     "data": {
      "image/png": "[encoded data removed]",
      "text/plain": [
       "<Figure size 432x288 with 1 Axes>"
      ]
     },
     "metadata": {
      "needs_background": "light"
     },
     "output_type": "display_data"
    }
   ],
   "source": [
    "a=np.array(target_test, np.int32)\n",
    "b=np.array(target_predict, np.int32)\n",
    "\n",
    "plt.plot(a, color = 'red', label = 'Historical data')\n",
    "plt.plot(b, color = 'blue', label='Predicted data')\n",
    "plt.legend()\n",
    "plt.show()"
   ]
  },
  {
   "cell_type": "markdown",
   "metadata": {},
   "source": [
    "3-LGBM"
   ]
  },
  {
   "cell_type": "code",
   "execution_count": 78,
   "metadata": {},
   "outputs": [
    {
     "name": "stdout",
     "output_type": "stream",
     "text": [
      "RMSE на тестовой выборке: 38.56483834892652\n",
      "CPU times: user 18.6 ms, sys: 0 ns, total: 18.6 ms\n",
      "Wall time: 15.2 ms\n"
     ]
    }
   ],
   "source": [
    "%%time\n",
    "target_predict = gbm.predict(features_test)\n",
    "rmse_testLGBM = mean_squared_error(target_test, target_predict) ** 0.5\n",
    "print(f'RMSE на тестовой выборке: {rmse_testLGBM}')"
   ]
  },
  {
   "cell_type": "code",
   "execution_count": 79,
   "metadata": {},
   "outputs": [
    {
     "data": {
      "image/png": "[encoded data removed]",
      "text/plain": [
       "<Figure size 432x288 with 1 Axes>"
      ]
     },
     "metadata": {
      "needs_background": "light"
     },
     "output_type": "display_data"
    }
   ],
   "source": [
    "a=np.array(target_test, np.int32)\n",
    "b=np.array(target_predict, np.int32)\n",
    "\n",
    "plt.plot(a, color = 'red', label = 'Historical data')\n",
    "plt.plot(b, color = 'blue', label='Predicted data')\n",
    "plt.legend()\n",
    "plt.show()"
   ]
  },
  {
   "cell_type": "markdown",
   "metadata": {},
   "source": [
    "<div class=\"alert alert-warning\">\n",
    "    \n",
    "**Комментарий ревьюера**\n",
    "    \n",
    "Как и ожидалось, мы переобучились(\n",
    "</div>"
   ]
  },
  {
   "cell_type": "markdown",
   "metadata": {},
   "source": [
    "RandomForest"
   ]
  },
  {
   "cell_type": "code",
   "execution_count": 81,
   "metadata": {},
   "outputs": [
    {
     "name": "stdout",
     "output_type": "stream",
     "text": [
      " RMSE на тестовой выборке: 40.21926852715907\n",
      "CPU times: user 15.7 ms, sys: 74 µs, total: 15.7 ms\n",
      "Wall time: 14.4 ms\n"
     ]
    }
   ],
   "source": [
    "%%time\n",
    "target_predict = rfr.predict(features_test)\n",
    "rmse_testRF = mean_squared_error(target_test, target_predict) ** 0.5\n",
    "print(f' RMSE на тестовой выборке: {rmse_testRF}')"
   ]
  },
  {
   "cell_type": "code",
   "execution_count": 82,
   "metadata": {},
   "outputs": [
    {
     "data": {
      "image/png": "[encoded data removed]",
      "text/plain": [
       "<Figure size 432x288 with 1 Axes>"
      ]
     },
     "metadata": {
      "needs_background": "light"
     },
     "output_type": "display_data"
    }
   ],
   "source": [
    "a=np.array(target_test, np.int32)\n",
    "b=np.array(target_predict, np.int32)\n",
    "\n",
    "plt.plot(a, color = 'red', label = 'Historical data')\n",
    "plt.plot(b, color = 'blue', label='Predicted data')\n",
    "plt.legend()\n",
    "plt.show()"
   ]
  },
  {
   "cell_type": "code",
   "execution_count": null,
   "metadata": {},
   "outputs": [],
   "source": []
  },
  {
   "cell_type": "markdown",
   "metadata": {},
   "source": [
    "Составим таблицу, отражающая результаты исследования"
   ]
  },
  {
   "cell_type": "code",
   "execution_count": 83,
   "metadata": {},
   "outputs": [],
   "source": [
    "data1 = {'Модель':['LinearRegression', 'CatBoost', 'LightGBM', 'RandomForest',], \n",
    "         'Метрика RMSE': [41.70, 37.86, 38.56, 40.21,]}"
   ]
  },
  {
   "cell_type": "code",
   "execution_count": 84,
   "metadata": {},
   "outputs": [
    {
     "data": {
      "text/html": [
       "<div>\n",
       "<style scoped>\n",
       "    .dataframe tbody tr th:only-of-type {\n",
       "        vertical-align: middle;\n",
       "    }\n",
       "\n",
       "    .dataframe tbody tr th {\n",
       "        vertical-align: top;\n",
       "    }\n",
       "\n",
       "    .dataframe thead th {\n",
       "        text-align: right;\n",
       "    }\n",
       "</style>\n",
       "<table border=\"1\" class=\"dataframe\">\n",
       "  <thead>\n",
       "    <tr style=\"text-align: right;\">\n",
       "      <th></th>\n",
       "      <th>Модель</th>\n",
       "      <th>Метрика RMSE</th>\n",
       "    </tr>\n",
       "  </thead>\n",
       "  <tbody>\n",
       "    <tr>\n",
       "      <td>0</td>\n",
       "      <td>LinearRegression</td>\n",
       "      <td>41.70</td>\n",
       "    </tr>\n",
       "    <tr>\n",
       "      <td>1</td>\n",
       "      <td>CatBoost</td>\n",
       "      <td>37.86</td>\n",
       "    </tr>\n",
       "    <tr>\n",
       "      <td>2</td>\n",
       "      <td>LightGBM</td>\n",
       "      <td>38.56</td>\n",
       "    </tr>\n",
       "    <tr>\n",
       "      <td>3</td>\n",
       "      <td>RandomForest</td>\n",
       "      <td>40.21</td>\n",
       "    </tr>\n",
       "  </tbody>\n",
       "</table>\n",
       "</div>"
      ],
      "text/plain": [
       "             Модель  Метрика RMSE\n",
       "0  LinearRegression         41.70\n",
       "1          CatBoost         37.86\n",
       "2          LightGBM         38.56\n",
       "3      RandomForest         40.21"
      ]
     },
     "execution_count": 84,
     "metadata": {},
     "output_type": "execute_result"
    }
   ],
   "source": [
    "\n",
    "df1 = pd.DataFrame(data1)\n",
    "df1"
   ]
  },
  {
   "cell_type": "markdown",
   "metadata": {},
   "source": [
    "ВЫВОД:\n",
    "\n",
    "\n",
    "В таблице мы видим, что по условию RMSE нам подходят все модели, но наименьшую ошибку показала модель построенная на алгоритме CatBoost. По времени лучшая LGBM."
   ]
  },
  {
   "cell_type": "code",
   "execution_count": null,
   "metadata": {},
   "outputs": [],
   "source": []
  },
  {
   "cell_type": "markdown",
   "metadata": {},
   "source": [
    "<div class=\"alert alert-success\">\n",
    "    \n",
    "**Комментарий ревьюера**\n",
    "    \n",
    "Сергей, работа выглядит сырой. Пожалуйста ответь на мои вопросы и внеси корректировки. Если нужна помощь или есть вопросы, я всегда рад и готов помочь) Пожелания по доп материалам принимаются)\n",
    "</div>"
   ]
  },
  {
   "cell_type": "markdown",
   "metadata": {},
   "source": [
    "<div class=\"alert alert-success\">\n",
    "    \n",
    "**Комментарий ревьюера(Хорошо) v_2**\n",
    "     \n",
    "Сергей, уже лучше. Пожалуйста отвечай на мои вопросы. И самое главное задавай свои. Если нужна помощь, всегда рад. Исправлять немного, должны справиться за 1 итерацию)\n",
    "    \n",
    "    \n",
    "https://www.youtube.com/watch?v=u433nrxdf5k&ab_channel=DataMininginAction\n",
    "\n",
    "</div>"
   ]
  },
  {
   "cell_type": "markdown",
   "metadata": {},
   "source": []
  },
  {
   "cell_type": "markdown",
   "metadata": {},
   "source": [
    "   <div class=\"alert alert-block alert-info\">\n",
    "        Валерий, спасибо за комментарии и помощь, вчера ночью отправил и не длбавил вопросы. Я хотел бонусом использовать метод fbprophet, нашел интересную статью, понимаю, что он \"опирается\" на другую метрику, но все же было интересно, нов тернажере у меня не загрузилась библиотека, а локально на ноуте при вызове fit умирает ядро, убил 4 часа, так и не разобрался..., может подскажешь, где литературу взять по этой библиотеке или что я не так делаю код выложу ниже. Есть еще такого рода вопрос, если мы например предсказывпем продажи запасных частей у нас получается не один же признак, как в задачи с такси заказ, а номенклатура из тысячи позицицй, как быть с такого рода задачей, может уже есть интересные решения с использованием библиотек и методов, которые мы изучили, буду рад инфы по этому поводу! За видео отдельное спасибо!!! </div>"
   ]
  },
  {
   "cell_type": "markdown",
   "metadata": {},
   "source": [
    "<div class=\"alert alert-success\">\n",
    "    \n",
    "**Комментарий ревьюера(Хорошо) v_3**\n",
    "     \n",
    "1)Интересная либа, круто что нашел) Вот видео, вроде какие-то базовые вещи рассказывает)Если плохо с английским можно через ябразуер перевод включить) https://www.youtube.com/watch?v=VtItg-J6-CI&ab_channel=KrishNaik\n",
    "    \n",
    "2)Про тысячи позиций: тут вопрос как мы будем ставить задачу. Советую посмотреть митапы х5 и амазона(например), они любят рассказывать как и что делают. Ну и конечно открытые решение на kaggle)\n",
    "</div>"
   ]
  },
  {
   "cell_type": "code",
   "execution_count": null,
   "metadata": {},
   "outputs": [],
   "source": [
    "import pandas as pd\n",
    "import fbprophet\n",
    "import matplotlib.pyplot as plt"
   ]
  },
  {
   "cell_type": "code",
   "execution_count": null,
   "metadata": {},
   "outputs": [],
   "source": [
    "df = pd.read_csv('/datasets/taxi.csv')\n",
    "df.info()"
   ]
  },
  {
   "cell_type": "code",
   "execution_count": null,
   "metadata": {},
   "outputs": [],
   "source": [
    "df['datetime'] = pd.to_datetime(df['datetime'])"
   ]
  },
  {
   "cell_type": "code",
   "execution_count": null,
   "metadata": {},
   "outputs": [],
   "source": [
    "plt.plot(df['datetime'], df['num_orders']);\n",
    "#df.plot(figsize=(12,5))"
   ]
  },
  {
   "cell_type": "code",
   "execution_count": null,
   "metadata": {},
   "outputs": [],
   "source": [
    "df.rename(columns = {'datetime':'ds', 'num_orders':'y'}, inplace = True)\n",
    "df"
   ]
  },
  {
   "cell_type": "code",
   "execution_count": null,
   "metadata": {},
   "outputs": [],
   "source": [
    "df['ds'] = pd.to_datetime(df['ds'])"
   ]
  },
  {
   "cell_type": "code",
   "execution_count": null,
   "metadata": {},
   "outputs": [],
   "source": [
    "model = fbprophet.Prophet(yearly_seasonality = False,     weekly_seasonality = True,  seasonality_mode = 'multiplicative')"
   ]
  },
  {
   "cell_type": "code",
   "execution_count": null,
   "metadata": {},
   "outputs": [],
   "source": [
    "model.fit(df)\n",
    "#на этом моменте у меня выскакивает ошибка, которая убивает ядро..."
   ]
  },
  {
   "cell_type": "code",
   "execution_count": null,
   "metadata": {},
   "outputs": [],
   "source": [
    "future = model.make_future_dataframe(periods = 30, freq = 'd')\n",
    "forecast = model.predict(future)"
   ]
  },
  {
   "cell_type": "markdown",
   "metadata": {},
   "source": [
    "<div class=\"alert alert-success\">\n",
    "    \n",
    "**Комментарий ревьюера(Хорошо) v_3**\n",
    "     \n",
    "Сергей, проект принимаю, чтобы не терзать дедлайнами. Но очень прошу разобраться с материалом и прислать мне через куратора итоговую версию работы)Конечно же с вопросами)Успехов в следующих проектах!)\n",
    "</div>"
   ]
  },
  {
   "cell_type": "markdown",
   "metadata": {},
   "source": []
  },
  {
   "cell_type": "markdown",
   "metadata": {},
   "source": []
  },
  {
   "cell_type": "markdown",
   "metadata": {},
   "source": []
  },
  {
   "cell_type": "markdown",
   "metadata": {},
   "source": [
    "## Чек-лист проверки"
   ]
  },
  {
   "cell_type": "markdown",
   "metadata": {},
   "source": [
    "- [x]  Jupyter Notebook открыт\n",
    "- [ ]  Весь код выполняется без ошибок\n",
    "- [ ]  Ячейки с кодом расположены в порядке исполнения\n",
    "- [ ]  Данные загружены и подготовлены\n",
    "- [ ]  Данные проанализированы\n",
    "- [ ]  Модель обучена, гиперпараметры подобраны\n",
    "- [ ]  Качество моделей проверено, выводы сделаны\n",
    "- [ ]  Значение *RMSE* на тестовой выборке не больше 48"
   ]
  }
 ],
 "metadata": {
  "ExecuteTimeLog": [
   {
    "duration": 304,
    "start_time": "2021-11-13T07:12:25.734Z"
   },
   {
    "duration": 1000,
    "start_time": "2021-11-13T07:12:29.497Z"
   },
   {
    "duration": 15,
    "start_time": "2021-11-13T07:12:32.332Z"
   },
   {
    "duration": 37,
    "start_time": "2021-11-13T12:04:20.596Z"
   },
   {
    "duration": 8,
    "start_time": "2021-11-13T12:04:20.635Z"
   },
   {
    "duration": 7258,
    "start_time": "2021-11-13T12:05:12.154Z"
   },
   {
    "duration": 7,
    "start_time": "2021-11-13T12:06:07.111Z"
   },
   {
    "duration": 3,
    "start_time": "2021-11-13T12:07:33.478Z"
   },
   {
    "duration": 9,
    "start_time": "2021-11-13T12:07:37.863Z"
   },
   {
    "duration": 4,
    "start_time": "2021-11-13T12:07:52.887Z"
   },
   {
    "duration": 5,
    "start_time": "2021-11-13T12:08:23.079Z"
   },
   {
    "duration": 7,
    "start_time": "2021-11-13T12:08:41.352Z"
   },
   {
    "duration": 4,
    "start_time": "2021-11-13T12:09:05.913Z"
   },
   {
    "duration": 6,
    "start_time": "2021-11-13T12:09:06.568Z"
   },
   {
    "duration": 550,
    "start_time": "2021-11-13T12:09:42.377Z"
   },
   {
    "duration": 446,
    "start_time": "2021-11-13T12:09:59.569Z"
   },
   {
    "duration": 10,
    "start_time": "2021-11-13T12:10:04.161Z"
   },
   {
    "duration": 219,
    "start_time": "2021-11-13T12:10:05.729Z"
   },
   {
    "duration": 285,
    "start_time": "2021-11-13T12:10:58.427Z"
   },
   {
    "duration": 11,
    "start_time": "2021-11-13T12:11:19.511Z"
   },
   {
    "duration": 58,
    "start_time": "2021-11-13T12:11:54.076Z"
   },
   {
    "duration": 9,
    "start_time": "2021-11-13T12:11:55.475Z"
   },
   {
    "duration": 7,
    "start_time": "2021-11-13T12:11:55.659Z"
   },
   {
    "duration": 3,
    "start_time": "2021-11-13T12:11:55.834Z"
   },
   {
    "duration": 4,
    "start_time": "2021-11-13T12:11:56.018Z"
   },
   {
    "duration": 5,
    "start_time": "2021-11-13T12:11:56.204Z"
   },
   {
    "duration": 6,
    "start_time": "2021-11-13T12:11:56.435Z"
   },
   {
    "duration": 651,
    "start_time": "2021-11-13T12:11:56.595Z"
   },
   {
    "duration": 8,
    "start_time": "2021-11-13T12:11:57.248Z"
   },
   {
    "duration": 286,
    "start_time": "2021-11-13T12:11:57.258Z"
   },
   {
    "duration": 279,
    "start_time": "2021-11-13T12:11:57.546Z"
   },
   {
    "duration": 285,
    "start_time": "2021-11-13T12:12:39.957Z"
   },
   {
    "duration": 12,
    "start_time": "2021-11-13T12:13:04.301Z"
   },
   {
    "duration": 810,
    "start_time": "2021-11-13T12:13:06.757Z"
   },
   {
    "duration": 11,
    "start_time": "2021-11-13T12:14:53.513Z"
   },
   {
    "duration": 3,
    "start_time": "2021-11-13T12:15:21.815Z"
   },
   {
    "duration": 89,
    "start_time": "2021-11-13T12:19:16.253Z"
   },
   {
    "duration": 6,
    "start_time": "2021-11-13T12:19:31.250Z"
   },
   {
    "duration": 9263,
    "start_time": "2021-11-13T12:22:19.662Z"
   },
   {
    "duration": 6,
    "start_time": "2021-11-13T12:22:33.783Z"
   },
   {
    "duration": 7,
    "start_time": "2021-11-13T12:23:21.407Z"
   },
   {
    "duration": 11,
    "start_time": "2021-11-13T12:24:06.688Z"
   },
   {
    "duration": 16,
    "start_time": "2021-11-13T12:25:02.896Z"
   },
   {
    "duration": 20,
    "start_time": "2021-11-13T12:26:14.689Z"
   },
   {
    "duration": 272,
    "start_time": "2021-11-13T12:30:07.756Z"
   },
   {
    "duration": 289,
    "start_time": "2021-11-13T12:30:53.901Z"
   },
   {
    "duration": 281,
    "start_time": "2021-11-13T12:31:56.686Z"
   },
   {
    "duration": 86,
    "start_time": "2021-11-13T12:32:04.407Z"
   },
   {
    "duration": 18,
    "start_time": "2021-11-13T12:32:08.823Z"
   },
   {
    "duration": 295,
    "start_time": "2021-11-13T12:32:25.039Z"
   },
   {
    "duration": 284,
    "start_time": "2021-11-13T12:32:44.096Z"
   },
   {
    "duration": 90,
    "start_time": "2021-11-13T12:33:11.608Z"
   },
   {
    "duration": 292,
    "start_time": "2021-11-13T12:33:17.048Z"
   },
   {
    "duration": 37,
    "start_time": "2021-11-13T12:33:49.243Z"
   },
   {
    "duration": 271,
    "start_time": "2021-11-13T12:33:55.120Z"
   },
   {
    "duration": 39,
    "start_time": "2021-11-13T12:34:12.857Z"
   },
   {
    "duration": 4,
    "start_time": "2021-11-13T12:34:17.544Z"
   },
   {
    "duration": 4,
    "start_time": "2021-11-13T12:34:23.977Z"
   },
   {
    "duration": 2,
    "start_time": "2021-11-13T12:34:39.881Z"
   },
   {
    "duration": 4,
    "start_time": "2021-11-13T12:34:44.457Z"
   },
   {
    "duration": 3,
    "start_time": "2021-11-13T12:35:43.019Z"
   },
   {
    "duration": 2,
    "start_time": "2021-11-13T12:35:53.250Z"
   },
   {
    "duration": 4,
    "start_time": "2021-11-13T12:35:53.707Z"
   },
   {
    "duration": 99,
    "start_time": "2021-11-13T12:36:02.051Z"
   },
   {
    "duration": 769,
    "start_time": "2021-11-13T12:37:00.581Z"
   },
   {
    "duration": 4,
    "start_time": "2021-11-13T12:37:05.187Z"
   },
   {
    "duration": 2,
    "start_time": "2021-11-13T12:37:06.868Z"
   },
   {
    "duration": 4,
    "start_time": "2021-11-13T12:37:07.747Z"
   },
   {
    "duration": 4,
    "start_time": "2021-11-13T12:37:08.747Z"
   },
   {
    "duration": 2,
    "start_time": "2021-11-13T12:37:09.404Z"
   },
   {
    "duration": 4,
    "start_time": "2021-11-13T12:37:09.949Z"
   },
   {
    "duration": 242,
    "start_time": "2021-11-13T12:43:52.178Z"
   },
   {
    "duration": 274,
    "start_time": "2021-11-13T12:44:05.962Z"
   },
   {
    "duration": 3,
    "start_time": "2021-11-13T12:44:20.458Z"
   },
   {
    "duration": 182,
    "start_time": "2021-11-13T12:46:20.269Z"
   },
   {
    "duration": 131,
    "start_time": "2021-11-13T12:48:06.765Z"
   },
   {
    "duration": 1066,
    "start_time": "2021-11-13T12:52:39.076Z"
   },
   {
    "duration": 38,
    "start_time": "2021-11-13T12:52:55.186Z"
   },
   {
    "duration": 1080,
    "start_time": "2021-11-13T12:53:02.105Z"
   },
   {
    "duration": 37,
    "start_time": "2021-11-13T12:53:59.972Z"
   },
   {
    "duration": 1025,
    "start_time": "2021-11-13T12:54:17.203Z"
   },
   {
    "duration": 37,
    "start_time": "2021-11-13T12:54:28.659Z"
   },
   {
    "duration": 1068,
    "start_time": "2021-11-13T12:54:33.885Z"
   },
   {
    "duration": 10563,
    "start_time": "2021-11-13T12:55:00.437Z"
   },
   {
    "duration": 6,
    "start_time": "2021-11-13T12:55:14.533Z"
   },
   {
    "duration": 95,
    "start_time": "2021-11-13T12:56:18.437Z"
   },
   {
    "duration": 287,
    "start_time": "2021-11-13T12:56:30.278Z"
   },
   {
    "duration": 92,
    "start_time": "2021-11-13T12:56:46.414Z"
   },
   {
    "duration": 90,
    "start_time": "2021-11-13T12:56:50.638Z"
   },
   {
    "duration": 4,
    "start_time": "2021-11-13T12:57:05.198Z"
   },
   {
    "duration": 97,
    "start_time": "2021-11-13T12:57:47.959Z"
   },
   {
    "duration": 96,
    "start_time": "2021-11-13T12:58:06.455Z"
   },
   {
    "duration": 5,
    "start_time": "2021-11-13T12:58:13.239Z"
   },
   {
    "duration": 5,
    "start_time": "2021-11-13T12:58:47.880Z"
   },
   {
    "duration": 199,
    "start_time": "2021-11-13T12:59:44.120Z"
   },
   {
    "duration": 35,
    "start_time": "2021-11-13T13:01:15.382Z"
   },
   {
    "duration": 9,
    "start_time": "2021-11-13T13:01:15.787Z"
   },
   {
    "duration": 8,
    "start_time": "2021-11-13T13:01:15.798Z"
   },
   {
    "duration": 3,
    "start_time": "2021-11-13T13:01:15.808Z"
   },
   {
    "duration": 4,
    "start_time": "2021-11-13T13:01:15.833Z"
   },
   {
    "duration": 8,
    "start_time": "2021-11-13T13:01:15.839Z"
   },
   {
    "duration": 7,
    "start_time": "2021-11-13T13:01:15.849Z"
   },
   {
    "duration": 597,
    "start_time": "2021-11-13T13:01:16.161Z"
   },
   {
    "duration": 9,
    "start_time": "2021-11-13T13:01:16.760Z"
   },
   {
    "duration": 265,
    "start_time": "2021-11-13T13:01:16.771Z"
   },
   {
    "duration": 309,
    "start_time": "2021-11-13T13:01:17.038Z"
   },
   {
    "duration": 11,
    "start_time": "2021-11-13T13:01:17.349Z"
   },
   {
    "duration": 825,
    "start_time": "2021-11-13T13:01:17.362Z"
   },
   {
    "duration": 12,
    "start_time": "2021-11-13T13:01:18.188Z"
   },
   {
    "duration": 11,
    "start_time": "2021-11-13T13:01:18.201Z"
   },
   {
    "duration": 32,
    "start_time": "2021-11-13T13:01:18.214Z"
   },
   {
    "duration": 7,
    "start_time": "2021-11-13T13:01:18.248Z"
   },
   {
    "duration": 17,
    "start_time": "2021-11-13T13:01:18.257Z"
   },
   {
    "duration": 125,
    "start_time": "2021-11-13T13:01:18.276Z"
   },
   {
    "duration": 3,
    "start_time": "2021-11-13T13:01:18.403Z"
   },
   {
    "duration": 10,
    "start_time": "2021-11-13T13:01:18.408Z"
   },
   {
    "duration": 7,
    "start_time": "2021-11-13T13:01:18.420Z"
   },
   {
    "duration": 4,
    "start_time": "2021-11-13T13:01:18.444Z"
   },
   {
    "duration": 6,
    "start_time": "2021-11-13T13:01:18.450Z"
   },
   {
    "duration": 6,
    "start_time": "2021-11-13T13:01:18.457Z"
   },
   {
    "duration": 4,
    "start_time": "2021-11-13T13:01:18.465Z"
   },
   {
    "duration": 217,
    "start_time": "2021-11-13T13:01:18.471Z"
   },
   {
    "duration": 87,
    "start_time": "2021-11-13T13:01:18.690Z"
   },
   {
    "duration": 4,
    "start_time": "2021-11-13T13:01:18.779Z"
   },
   {
    "duration": 9,
    "start_time": "2021-11-13T13:01:18.785Z"
   },
   {
    "duration": 273,
    "start_time": "2021-11-13T13:01:18.796Z"
   },
   {
    "duration": 80,
    "start_time": "2021-11-13T13:02:25.644Z"
   },
   {
    "duration": 309,
    "start_time": "2021-11-13T13:02:41.795Z"
   },
   {
    "duration": 49,
    "start_time": "2021-11-13T13:03:42.908Z"
   },
   {
    "duration": 5,
    "start_time": "2021-11-13T13:03:46.380Z"
   },
   {
    "duration": 5,
    "start_time": "2021-11-13T13:03:48.811Z"
   },
   {
    "duration": 43,
    "start_time": "2021-11-13T13:03:54.084Z"
   },
   {
    "duration": 5,
    "start_time": "2021-11-13T13:03:56.132Z"
   },
   {
    "duration": 4,
    "start_time": "2021-11-13T13:03:57.461Z"
   },
   {
    "duration": 47,
    "start_time": "2021-11-13T13:04:04.557Z"
   },
   {
    "duration": 5,
    "start_time": "2021-11-13T13:04:07.364Z"
   },
   {
    "duration": 4,
    "start_time": "2021-11-13T13:04:08.541Z"
   },
   {
    "duration": 100,
    "start_time": "2021-11-13T13:07:00.191Z"
   },
   {
    "duration": 96,
    "start_time": "2021-11-13T13:07:25.936Z"
   },
   {
    "duration": 101,
    "start_time": "2021-11-13T13:07:29.248Z"
   },
   {
    "duration": 90,
    "start_time": "2021-11-13T13:07:38.368Z"
   },
   {
    "duration": 47,
    "start_time": "2021-11-13T13:07:56.424Z"
   },
   {
    "duration": 5,
    "start_time": "2021-11-13T13:08:01.656Z"
   },
   {
    "duration": 4,
    "start_time": "2021-11-13T13:08:04.473Z"
   },
   {
    "duration": 67,
    "start_time": "2021-11-13T13:08:11.584Z"
   },
   {
    "duration": 5,
    "start_time": "2021-11-13T13:08:12.513Z"
   },
   {
    "duration": 5,
    "start_time": "2021-11-13T13:08:13.280Z"
   },
   {
    "duration": 44,
    "start_time": "2021-11-13T13:12:20.284Z"
   },
   {
    "duration": 293,
    "start_time": "2021-11-13T13:12:21.227Z"
   },
   {
    "duration": 314,
    "start_time": "2021-11-13T13:13:46.190Z"
   },
   {
    "duration": 288,
    "start_time": "2021-11-13T13:14:09.294Z"
   },
   {
    "duration": 2405,
    "start_time": "2021-11-13T13:16:22.680Z"
   },
   {
    "duration": 2436,
    "start_time": "2021-11-13T13:18:23.010Z"
   },
   {
    "duration": 286,
    "start_time": "2021-11-13T13:19:22.948Z"
   },
   {
    "duration": 2748,
    "start_time": "2021-11-13T13:19:30.956Z"
   },
   {
    "duration": 2526,
    "start_time": "2021-11-13T13:19:53.653Z"
   },
   {
    "duration": 2637,
    "start_time": "2021-11-13T13:20:45.597Z"
   },
   {
    "duration": 5,
    "start_time": "2021-11-13T13:20:50.685Z"
   },
   {
    "duration": 2872,
    "start_time": "2021-11-13T13:21:17.597Z"
   },
   {
    "duration": 5,
    "start_time": "2021-11-13T13:21:20.471Z"
   },
   {
    "duration": 4,
    "start_time": "2021-11-13T13:21:22.345Z"
   },
   {
    "duration": 3,
    "start_time": "2021-11-13T13:22:41.102Z"
   },
   {
    "duration": 18,
    "start_time": "2021-11-13T13:23:37.162Z"
   },
   {
    "duration": 19,
    "start_time": "2021-11-13T13:23:53.155Z"
   },
   {
    "duration": 5,
    "start_time": "2021-11-13T13:23:54.553Z"
   },
   {
    "duration": 4,
    "start_time": "2021-11-13T13:23:57.424Z"
   },
   {
    "duration": 287,
    "start_time": "2021-11-13T13:25:02.288Z"
   },
   {
    "duration": 692,
    "start_time": "2021-11-13T13:25:26.307Z"
   },
   {
    "duration": 280,
    "start_time": "2021-11-13T13:25:49.281Z"
   },
   {
    "duration": 289,
    "start_time": "2021-11-13T13:26:12.940Z"
   },
   {
    "duration": 320,
    "start_time": "2021-11-13T13:27:21.778Z"
   },
   {
    "duration": 266,
    "start_time": "2021-11-13T13:27:34.731Z"
   },
   {
    "duration": 269,
    "start_time": "2021-11-13T13:27:51.970Z"
   },
   {
    "duration": 321,
    "start_time": "2021-11-13T13:28:25.315Z"
   },
   {
    "duration": 285,
    "start_time": "2021-11-13T13:28:38.203Z"
   },
   {
    "duration": 357,
    "start_time": "2021-11-13T13:30:15.085Z"
   },
   {
    "duration": 304,
    "start_time": "2021-11-13T13:30:22.717Z"
   },
   {
    "duration": 276,
    "start_time": "2021-11-13T13:31:23.987Z"
   },
   {
    "duration": 6,
    "start_time": "2021-11-13T13:32:05.846Z"
   },
   {
    "duration": 492,
    "start_time": "2021-11-13T13:32:33.985Z"
   },
   {
    "duration": 324,
    "start_time": "2021-11-13T13:32:55.194Z"
   },
   {
    "duration": 129,
    "start_time": "2021-11-13T13:35:20.378Z"
   },
   {
    "duration": 7,
    "start_time": "2021-11-13T13:36:25.619Z"
   },
   {
    "duration": 288,
    "start_time": "2021-11-13T13:36:33.040Z"
   },
   {
    "duration": 133,
    "start_time": "2021-11-13T13:37:51.565Z"
   },
   {
    "duration": 5,
    "start_time": "2021-11-13T13:37:57.883Z"
   },
   {
    "duration": 271,
    "start_time": "2021-11-13T13:38:20.868Z"
   },
   {
    "duration": 123,
    "start_time": "2021-11-13T13:38:30.340Z"
   },
   {
    "duration": 272,
    "start_time": "2021-11-13T13:39:20.091Z"
   },
   {
    "duration": 304,
    "start_time": "2021-11-13T13:39:55.590Z"
   },
   {
    "duration": 277,
    "start_time": "2021-11-13T13:40:01.093Z"
   },
   {
    "duration": 275,
    "start_time": "2021-11-13T13:40:47.582Z"
   },
   {
    "duration": 137,
    "start_time": "2021-11-13T13:40:54.022Z"
   },
   {
    "duration": 94,
    "start_time": "2021-11-13T13:41:49.966Z"
   },
   {
    "duration": 98,
    "start_time": "2021-11-13T13:42:05.929Z"
   },
   {
    "duration": 4,
    "start_time": "2021-11-13T13:43:14.873Z"
   },
   {
    "duration": 4,
    "start_time": "2021-11-13T13:43:18.201Z"
   },
   {
    "duration": 3,
    "start_time": "2021-11-13T13:44:00.683Z"
   },
   {
    "duration": 4,
    "start_time": "2021-11-13T13:44:05.217Z"
   },
   {
    "duration": 295,
    "start_time": "2021-11-13T13:44:09.698Z"
   },
   {
    "duration": 275,
    "start_time": "2021-11-13T13:44:57.443Z"
   },
   {
    "duration": 394,
    "start_time": "2021-11-13T13:45:42.924Z"
   },
   {
    "duration": 281,
    "start_time": "2021-11-13T13:47:59.445Z"
   },
   {
    "duration": 284,
    "start_time": "2021-11-13T13:48:10.215Z"
   },
   {
    "duration": 294,
    "start_time": "2021-11-13T13:53:03.778Z"
   },
   {
    "duration": 293,
    "start_time": "2021-11-13T13:53:11.819Z"
   },
   {
    "duration": 2,
    "start_time": "2021-11-13T13:53:20.210Z"
   },
   {
    "duration": 110,
    "start_time": "2021-11-13T13:53:20.491Z"
   },
   {
    "duration": 86,
    "start_time": "2021-11-13T13:53:36.387Z"
   },
   {
    "duration": 89,
    "start_time": "2021-11-13T13:53:41.626Z"
   },
   {
    "duration": 272,
    "start_time": "2021-11-13T13:53:47.826Z"
   },
   {
    "duration": 283,
    "start_time": "2021-11-13T13:54:33.524Z"
   },
   {
    "duration": 3,
    "start_time": "2021-11-13T13:54:38.978Z"
   },
   {
    "duration": 272,
    "start_time": "2021-11-13T13:54:39.986Z"
   },
   {
    "duration": 2,
    "start_time": "2021-11-13T13:54:53.445Z"
   },
   {
    "duration": 3,
    "start_time": "2021-11-13T13:54:55.325Z"
   },
   {
    "duration": 3,
    "start_time": "2021-11-13T13:55:30.982Z"
   },
   {
    "duration": 289,
    "start_time": "2021-11-13T13:55:56.263Z"
   },
   {
    "duration": 278,
    "start_time": "2021-11-13T13:56:34.702Z"
   },
   {
    "duration": 285,
    "start_time": "2021-11-13T13:57:01.784Z"
   },
   {
    "duration": 271,
    "start_time": "2021-11-13T13:57:14.270Z"
   },
   {
    "duration": 36,
    "start_time": "2021-11-13T13:57:28.420Z"
   },
   {
    "duration": 17,
    "start_time": "2021-11-13T13:57:28.458Z"
   },
   {
    "duration": 10,
    "start_time": "2021-11-13T13:57:28.477Z"
   },
   {
    "duration": 3,
    "start_time": "2021-11-13T13:57:28.490Z"
   },
   {
    "duration": 8,
    "start_time": "2021-11-13T13:57:28.495Z"
   },
   {
    "duration": 6,
    "start_time": "2021-11-13T13:57:28.849Z"
   },
   {
    "duration": 11,
    "start_time": "2021-11-13T13:57:28.857Z"
   },
   {
    "duration": 855,
    "start_time": "2021-11-13T13:57:28.892Z"
   },
   {
    "duration": 10,
    "start_time": "2021-11-13T13:57:29.750Z"
   },
   {
    "duration": 402,
    "start_time": "2021-11-13T13:57:29.762Z"
   },
   {
    "duration": 290,
    "start_time": "2021-11-13T13:57:30.165Z"
   },
   {
    "duration": 12,
    "start_time": "2021-11-13T13:57:30.457Z"
   },
   {
    "duration": 838,
    "start_time": "2021-11-13T13:57:30.471Z"
   },
   {
    "duration": 11,
    "start_time": "2021-11-13T13:57:31.311Z"
   },
   {
    "duration": 22,
    "start_time": "2021-11-13T13:57:31.324Z"
   },
   {
    "duration": 21,
    "start_time": "2021-11-13T13:57:31.349Z"
   },
   {
    "duration": 18,
    "start_time": "2021-11-13T13:57:31.373Z"
   },
   {
    "duration": 40,
    "start_time": "2021-11-13T13:57:31.394Z"
   },
   {
    "duration": 136,
    "start_time": "2021-11-13T13:57:31.436Z"
   },
   {
    "duration": 3,
    "start_time": "2021-11-13T13:57:31.574Z"
   },
   {
    "duration": 8,
    "start_time": "2021-11-13T13:57:31.579Z"
   },
   {
    "duration": 19,
    "start_time": "2021-11-13T13:57:31.590Z"
   },
   {
    "duration": 9,
    "start_time": "2021-11-13T13:57:31.611Z"
   },
   {
    "duration": 5,
    "start_time": "2021-11-13T13:57:31.622Z"
   },
   {
    "duration": 22,
    "start_time": "2021-11-13T13:57:31.629Z"
   },
   {
    "duration": 10,
    "start_time": "2021-11-13T13:57:31.653Z"
   },
   {
    "duration": 189,
    "start_time": "2021-11-13T13:57:31.665Z"
   },
   {
    "duration": 94,
    "start_time": "2021-11-13T13:57:31.856Z"
   },
   {
    "duration": 6,
    "start_time": "2021-11-13T13:57:31.952Z"
   },
   {
    "duration": 25,
    "start_time": "2021-11-13T13:57:31.959Z"
   },
   {
    "duration": 195,
    "start_time": "2021-11-13T13:57:31.986Z"
   },
   {
    "duration": 16,
    "start_time": "2021-11-13T13:57:32.182Z"
   },
   {
    "duration": 22,
    "start_time": "2021-11-13T13:57:32.200Z"
   },
   {
    "duration": 3,
    "start_time": "2021-11-13T13:57:32.227Z"
   },
   {
    "duration": 431,
    "start_time": "2021-11-13T13:57:32.232Z"
   },
   {
    "duration": -105,
    "start_time": "2021-11-13T13:57:32.770Z"
   },
   {
    "duration": -111,
    "start_time": "2021-11-13T13:57:32.777Z"
   },
   {
    "duration": -112,
    "start_time": "2021-11-13T13:57:32.779Z"
   },
   {
    "duration": -114,
    "start_time": "2021-11-13T13:57:32.782Z"
   },
   {
    "duration": -117,
    "start_time": "2021-11-13T13:57:32.786Z"
   },
   {
    "duration": -125,
    "start_time": "2021-11-13T13:57:32.795Z"
   },
   {
    "duration": -148,
    "start_time": "2021-11-13T13:57:32.819Z"
   },
   {
    "duration": -166,
    "start_time": "2021-11-13T13:57:32.838Z"
   },
   {
    "duration": -174,
    "start_time": "2021-11-13T13:57:32.847Z"
   },
   {
    "duration": -209,
    "start_time": "2021-11-13T13:57:32.882Z"
   },
   {
    "duration": -240,
    "start_time": "2021-11-13T13:57:32.914Z"
   },
   {
    "duration": -241,
    "start_time": "2021-11-13T13:57:32.916Z"
   },
   {
    "duration": 12,
    "start_time": "2021-11-13T13:58:01.863Z"
   },
   {
    "duration": 3,
    "start_time": "2021-11-13T13:58:02.830Z"
   },
   {
    "duration": 3,
    "start_time": "2021-11-13T13:58:03.750Z"
   },
   {
    "duration": 280,
    "start_time": "2021-11-13T13:58:04.583Z"
   },
   {
    "duration": 293,
    "start_time": "2021-11-13T13:58:45.113Z"
   },
   {
    "duration": 266,
    "start_time": "2021-11-13T13:59:07.336Z"
   },
   {
    "duration": 264,
    "start_time": "2021-11-13T13:59:13.225Z"
   },
   {
    "duration": 37,
    "start_time": "2021-11-13T13:59:29.535Z"
   },
   {
    "duration": 39,
    "start_time": "2021-11-13T13:59:32.101Z"
   },
   {
    "duration": 10,
    "start_time": "2021-11-13T13:59:32.142Z"
   },
   {
    "duration": 15,
    "start_time": "2021-11-13T13:59:32.154Z"
   },
   {
    "duration": 14,
    "start_time": "2021-11-13T13:59:32.170Z"
   },
   {
    "duration": 15,
    "start_time": "2021-11-13T13:59:32.186Z"
   },
   {
    "duration": 5,
    "start_time": "2021-11-13T13:59:32.457Z"
   },
   {
    "duration": 7,
    "start_time": "2021-11-13T13:59:32.464Z"
   },
   {
    "duration": 674,
    "start_time": "2021-11-13T13:59:32.473Z"
   },
   {
    "duration": 10,
    "start_time": "2021-11-13T13:59:33.150Z"
   },
   {
    "duration": 270,
    "start_time": "2021-11-13T13:59:33.162Z"
   },
   {
    "duration": 297,
    "start_time": "2021-11-13T13:59:33.434Z"
   },
   {
    "duration": 17,
    "start_time": "2021-11-13T13:59:33.733Z"
   },
   {
    "duration": 798,
    "start_time": "2021-11-13T13:59:33.751Z"
   },
   {
    "duration": 12,
    "start_time": "2021-11-13T13:59:34.551Z"
   },
   {
    "duration": 5,
    "start_time": "2021-11-13T13:59:34.565Z"
   },
   {
    "duration": 16,
    "start_time": "2021-11-13T13:59:34.571Z"
   },
   {
    "duration": 21,
    "start_time": "2021-11-13T13:59:34.588Z"
   },
   {
    "duration": 43,
    "start_time": "2021-11-13T13:59:34.610Z"
   },
   {
    "duration": 91,
    "start_time": "2021-11-13T13:59:34.655Z"
   },
   {
    "duration": 3,
    "start_time": "2021-11-13T13:59:34.748Z"
   },
   {
    "duration": 6,
    "start_time": "2021-11-13T13:59:34.753Z"
   },
   {
    "duration": 8,
    "start_time": "2021-11-13T13:59:34.761Z"
   },
   {
    "duration": 5,
    "start_time": "2021-11-13T13:59:34.771Z"
   },
   {
    "duration": 10,
    "start_time": "2021-11-13T13:59:34.778Z"
   },
   {
    "duration": 10,
    "start_time": "2021-11-13T13:59:34.790Z"
   },
   {
    "duration": 9,
    "start_time": "2021-11-13T13:59:34.802Z"
   },
   {
    "duration": 200,
    "start_time": "2021-11-13T13:59:34.813Z"
   },
   {
    "duration": 96,
    "start_time": "2021-11-13T13:59:35.015Z"
   },
   {
    "duration": 4,
    "start_time": "2021-11-13T13:59:35.113Z"
   },
   {
    "duration": 23,
    "start_time": "2021-11-13T13:59:35.121Z"
   },
   {
    "duration": 179,
    "start_time": "2021-11-13T13:59:35.147Z"
   },
   {
    "duration": 21,
    "start_time": "2021-11-13T13:59:35.327Z"
   },
   {
    "duration": 302,
    "start_time": "2021-11-13T13:59:35.350Z"
   },
   {
    "duration": -103,
    "start_time": "2021-11-13T13:59:35.757Z"
   },
   {
    "duration": -117,
    "start_time": "2021-11-13T13:59:35.772Z"
   },
   {
    "duration": -121,
    "start_time": "2021-11-13T13:59:35.777Z"
   },
   {
    "duration": -122,
    "start_time": "2021-11-13T13:59:35.779Z"
   },
   {
    "duration": -123,
    "start_time": "2021-11-13T13:59:35.781Z"
   },
   {
    "duration": -125,
    "start_time": "2021-11-13T13:59:35.784Z"
   },
   {
    "duration": -131,
    "start_time": "2021-11-13T13:59:35.791Z"
   },
   {
    "duration": -134,
    "start_time": "2021-11-13T13:59:35.794Z"
   },
   {
    "duration": -136,
    "start_time": "2021-11-13T13:59:35.797Z"
   },
   {
    "duration": -137,
    "start_time": "2021-11-13T13:59:35.799Z"
   },
   {
    "duration": -144,
    "start_time": "2021-11-13T13:59:35.807Z"
   },
   {
    "duration": -146,
    "start_time": "2021-11-13T13:59:35.810Z"
   },
   {
    "duration": -147,
    "start_time": "2021-11-13T13:59:35.812Z"
   },
   {
    "duration": -149,
    "start_time": "2021-11-13T13:59:35.815Z"
   },
   {
    "duration": 274,
    "start_time": "2021-11-13T13:59:40.992Z"
   },
   {
    "duration": 11,
    "start_time": "2021-11-13T13:59:57.840Z"
   },
   {
    "duration": 284,
    "start_time": "2021-11-13T13:59:58.864Z"
   },
   {
    "duration": 310,
    "start_time": "2021-11-13T14:00:25.357Z"
   },
   {
    "duration": 309,
    "start_time": "2021-11-13T14:00:43.585Z"
   },
   {
    "duration": 303,
    "start_time": "2021-11-13T14:01:11.122Z"
   },
   {
    "duration": 279,
    "start_time": "2021-11-13T14:01:22.674Z"
   },
   {
    "duration": 5,
    "start_time": "2021-11-13T14:02:01.258Z"
   },
   {
    "duration": 3,
    "start_time": "2021-11-13T14:02:05.410Z"
   },
   {
    "duration": 286,
    "start_time": "2021-11-13T14:02:06.362Z"
   },
   {
    "duration": 94,
    "start_time": "2021-11-13T14:05:12.477Z"
   },
   {
    "duration": 24,
    "start_time": "2021-11-13T14:05:16.989Z"
   },
   {
    "duration": 37,
    "start_time": "2021-11-13T14:05:34.099Z"
   },
   {
    "duration": 7,
    "start_time": "2021-11-13T14:05:34.138Z"
   },
   {
    "duration": 10,
    "start_time": "2021-11-13T14:05:34.147Z"
   },
   {
    "duration": 3,
    "start_time": "2021-11-13T14:05:34.159Z"
   },
   {
    "duration": 5,
    "start_time": "2021-11-13T14:05:34.164Z"
   },
   {
    "duration": 6,
    "start_time": "2021-11-13T14:05:34.515Z"
   },
   {
    "duration": 23,
    "start_time": "2021-11-13T14:05:34.524Z"
   },
   {
    "duration": 725,
    "start_time": "2021-11-13T14:05:34.550Z"
   },
   {
    "duration": 8,
    "start_time": "2021-11-13T14:05:35.277Z"
   },
   {
    "duration": 306,
    "start_time": "2021-11-13T14:05:35.287Z"
   },
   {
    "duration": 307,
    "start_time": "2021-11-13T14:05:35.594Z"
   },
   {
    "duration": 13,
    "start_time": "2021-11-13T14:05:35.902Z"
   },
   {
    "duration": 819,
    "start_time": "2021-11-13T14:05:35.916Z"
   },
   {
    "duration": 16,
    "start_time": "2021-11-13T14:05:36.739Z"
   },
   {
    "duration": 7,
    "start_time": "2021-11-13T14:05:36.758Z"
   },
   {
    "duration": 12,
    "start_time": "2021-11-13T14:05:36.767Z"
   },
   {
    "duration": 22,
    "start_time": "2021-11-13T14:05:36.782Z"
   },
   {
    "duration": 54,
    "start_time": "2021-11-13T14:05:36.806Z"
   },
   {
    "duration": 383,
    "start_time": "2021-11-13T14:05:36.862Z"
   },
   {
    "duration": -150,
    "start_time": "2021-11-13T14:05:37.398Z"
   },
   {
    "duration": -194,
    "start_time": "2021-11-13T14:05:37.443Z"
   },
   {
    "duration": -196,
    "start_time": "2021-11-13T14:05:37.447Z"
   },
   {
    "duration": -202,
    "start_time": "2021-11-13T14:05:37.454Z"
   },
   {
    "duration": -205,
    "start_time": "2021-11-13T14:05:37.459Z"
   },
   {
    "duration": -208,
    "start_time": "2021-11-13T14:05:37.463Z"
   },
   {
    "duration": -211,
    "start_time": "2021-11-13T14:05:37.467Z"
   },
   {
    "duration": -215,
    "start_time": "2021-11-13T14:05:37.473Z"
   },
   {
    "duration": -218,
    "start_time": "2021-11-13T14:05:37.477Z"
   },
   {
    "duration": 286,
    "start_time": "2021-11-13T14:05:38.608Z"
   },
   {
    "duration": -99,
    "start_time": "2021-11-13T14:05:38.995Z"
   },
   {
    "duration": -103,
    "start_time": "2021-11-13T14:05:39.000Z"
   },
   {
    "duration": -110,
    "start_time": "2021-11-13T14:05:39.008Z"
   },
   {
    "duration": 4,
    "start_time": "2021-11-13T14:06:06.349Z"
   },
   {
    "duration": 287,
    "start_time": "2021-11-13T14:06:09.046Z"
   },
   {
    "duration": 289,
    "start_time": "2021-11-13T14:06:12.613Z"
   },
   {
    "duration": 34,
    "start_time": "2021-11-13T14:06:22.614Z"
   },
   {
    "duration": 4,
    "start_time": "2021-11-13T14:06:26.112Z"
   },
   {
    "duration": 283,
    "start_time": "2021-11-13T14:06:32.750Z"
   },
   {
    "duration": 36,
    "start_time": "2021-11-13T14:06:38.331Z"
   },
   {
    "duration": 9,
    "start_time": "2021-11-13T14:06:38.369Z"
   },
   {
    "duration": 12,
    "start_time": "2021-11-13T14:06:38.380Z"
   },
   {
    "duration": 3,
    "start_time": "2021-11-13T14:06:38.394Z"
   },
   {
    "duration": 11,
    "start_time": "2021-11-13T14:06:38.399Z"
   },
   {
    "duration": 6,
    "start_time": "2021-11-13T14:06:38.685Z"
   },
   {
    "duration": 9,
    "start_time": "2021-11-13T14:06:38.694Z"
   },
   {
    "duration": 608,
    "start_time": "2021-11-13T14:06:38.705Z"
   },
   {
    "duration": 9,
    "start_time": "2021-11-13T14:06:39.315Z"
   },
   {
    "duration": 358,
    "start_time": "2021-11-13T14:06:39.326Z"
   },
   {
    "duration": 299,
    "start_time": "2021-11-13T14:06:39.686Z"
   },
   {
    "duration": 13,
    "start_time": "2021-11-13T14:06:39.987Z"
   },
   {
    "duration": 991,
    "start_time": "2021-11-13T14:06:40.002Z"
   },
   {
    "duration": 13,
    "start_time": "2021-11-13T14:06:40.995Z"
   },
   {
    "duration": 32,
    "start_time": "2021-11-13T14:06:41.012Z"
   },
   {
    "duration": 8,
    "start_time": "2021-11-13T14:06:41.047Z"
   },
   {
    "duration": 23,
    "start_time": "2021-11-13T14:06:41.057Z"
   },
   {
    "duration": 26,
    "start_time": "2021-11-13T14:06:41.083Z"
   },
   {
    "duration": 377,
    "start_time": "2021-11-13T14:06:41.112Z"
   },
   {
    "duration": -78,
    "start_time": "2021-11-13T14:06:41.569Z"
   },
   {
    "duration": -80,
    "start_time": "2021-11-13T14:06:41.572Z"
   },
   {
    "duration": -85,
    "start_time": "2021-11-13T14:06:41.578Z"
   },
   {
    "duration": -87,
    "start_time": "2021-11-13T14:06:41.581Z"
   },
   {
    "duration": -87,
    "start_time": "2021-11-13T14:06:41.582Z"
   },
   {
    "duration": -88,
    "start_time": "2021-11-13T14:06:41.584Z"
   },
   {
    "duration": -89,
    "start_time": "2021-11-13T14:06:41.586Z"
   },
   {
    "duration": -91,
    "start_time": "2021-11-13T14:06:41.589Z"
   },
   {
    "duration": -97,
    "start_time": "2021-11-13T14:06:41.596Z"
   },
   {
    "duration": -98,
    "start_time": "2021-11-13T14:06:41.598Z"
   },
   {
    "duration": -99,
    "start_time": "2021-11-13T14:06:41.600Z"
   },
   {
    "duration": -100,
    "start_time": "2021-11-13T14:06:41.602Z"
   },
   {
    "duration": -101,
    "start_time": "2021-11-13T14:06:41.604Z"
   },
   {
    "duration": 28,
    "start_time": "2021-11-13T14:07:16.119Z"
   },
   {
    "duration": 320,
    "start_time": "2021-11-13T14:07:22.239Z"
   },
   {
    "duration": 1170,
    "start_time": "2021-11-13T17:52:51.281Z"
   },
   {
    "duration": 10,
    "start_time": "2021-11-13T17:52:52.453Z"
   },
   {
    "duration": 5,
    "start_time": "2021-11-13T17:52:52.465Z"
   },
   {
    "duration": 2,
    "start_time": "2021-11-13T17:52:52.472Z"
   },
   {
    "duration": 6,
    "start_time": "2021-11-13T17:52:52.476Z"
   },
   {
    "duration": 7,
    "start_time": "2021-11-13T17:52:52.483Z"
   },
   {
    "duration": 18,
    "start_time": "2021-11-13T17:52:52.491Z"
   },
   {
    "duration": 590,
    "start_time": "2021-11-13T17:52:52.511Z"
   },
   {
    "duration": 9,
    "start_time": "2021-11-13T17:52:53.103Z"
   },
   {
    "duration": 297,
    "start_time": "2021-11-13T17:52:53.114Z"
   },
   {
    "duration": 261,
    "start_time": "2021-11-13T17:52:53.413Z"
   },
   {
    "duration": 10,
    "start_time": "2021-11-13T17:52:53.676Z"
   },
   {
    "duration": 762,
    "start_time": "2021-11-13T17:52:53.688Z"
   },
   {
    "duration": 10,
    "start_time": "2021-11-13T17:52:54.452Z"
   },
   {
    "duration": 5,
    "start_time": "2021-11-13T17:52:54.464Z"
   },
   {
    "duration": 12,
    "start_time": "2021-11-13T17:52:54.470Z"
   },
   {
    "duration": 25,
    "start_time": "2021-11-13T17:52:54.483Z"
   },
   {
    "duration": 27,
    "start_time": "2021-11-13T17:52:54.510Z"
   },
   {
    "duration": 542,
    "start_time": "2021-11-13T17:52:54.539Z"
   },
   {
    "duration": -79,
    "start_time": "2021-11-13T17:52:55.162Z"
   },
   {
    "duration": -83,
    "start_time": "2021-11-13T17:52:55.168Z"
   },
   {
    "duration": -84,
    "start_time": "2021-11-13T17:52:55.170Z"
   },
   {
    "duration": -85,
    "start_time": "2021-11-13T17:52:55.172Z"
   },
   {
    "duration": -85,
    "start_time": "2021-11-13T17:52:55.174Z"
   },
   {
    "duration": -86,
    "start_time": "2021-11-13T17:52:55.176Z"
   },
   {
    "duration": -88,
    "start_time": "2021-11-13T17:52:55.179Z"
   },
   {
    "duration": -88,
    "start_time": "2021-11-13T17:52:55.181Z"
   },
   {
    "duration": -89,
    "start_time": "2021-11-13T17:52:55.183Z"
   },
   {
    "duration": -89,
    "start_time": "2021-11-13T17:52:55.185Z"
   },
   {
    "duration": -90,
    "start_time": "2021-11-13T17:52:55.187Z"
   },
   {
    "duration": -92,
    "start_time": "2021-11-13T17:52:55.190Z"
   },
   {
    "duration": -92,
    "start_time": "2021-11-13T17:52:55.192Z"
   },
   {
    "duration": 376,
    "start_time": "2021-11-13T17:53:07.109Z"
   },
   {
    "duration": 365,
    "start_time": "2021-11-13T17:53:58.464Z"
   },
   {
    "duration": 52,
    "start_time": "2021-11-13T17:54:27.219Z"
   },
   {
    "duration": 14,
    "start_time": "2021-11-13T17:54:27.274Z"
   },
   {
    "duration": 16,
    "start_time": "2021-11-13T17:54:27.291Z"
   },
   {
    "duration": 4,
    "start_time": "2021-11-13T17:54:27.309Z"
   },
   {
    "duration": 6,
    "start_time": "2021-11-13T17:54:27.315Z"
   },
   {
    "duration": 17,
    "start_time": "2021-11-13T17:54:27.323Z"
   },
   {
    "duration": 21,
    "start_time": "2021-11-13T17:54:27.343Z"
   },
   {
    "duration": 902,
    "start_time": "2021-11-13T17:54:27.367Z"
   },
   {
    "duration": 11,
    "start_time": "2021-11-13T17:54:28.272Z"
   },
   {
    "duration": 406,
    "start_time": "2021-11-13T17:54:28.287Z"
   },
   {
    "duration": 427,
    "start_time": "2021-11-13T17:54:28.696Z"
   },
   {
    "duration": 14,
    "start_time": "2021-11-13T17:54:29.125Z"
   },
   {
    "duration": 855,
    "start_time": "2021-11-13T17:54:29.141Z"
   },
   {
    "duration": 15,
    "start_time": "2021-11-13T17:54:29.998Z"
   },
   {
    "duration": 25,
    "start_time": "2021-11-13T17:54:30.015Z"
   },
   {
    "duration": 14,
    "start_time": "2021-11-13T17:54:30.042Z"
   },
   {
    "duration": 18,
    "start_time": "2021-11-13T17:54:30.057Z"
   },
   {
    "duration": 28,
    "start_time": "2021-11-13T17:54:30.077Z"
   },
   {
    "duration": 3,
    "start_time": "2021-11-13T17:54:30.107Z"
   },
   {
    "duration": 11,
    "start_time": "2021-11-13T17:54:30.112Z"
   },
   {
    "duration": 16,
    "start_time": "2021-11-13T17:54:30.125Z"
   },
   {
    "duration": 20,
    "start_time": "2021-11-13T17:54:30.143Z"
   },
   {
    "duration": 12,
    "start_time": "2021-11-13T17:54:30.166Z"
   },
   {
    "duration": 20,
    "start_time": "2021-11-13T17:54:30.180Z"
   },
   {
    "duration": 18,
    "start_time": "2021-11-13T17:54:30.201Z"
   },
   {
    "duration": 188,
    "start_time": "2021-11-13T17:54:30.221Z"
   },
   {
    "duration": 510,
    "start_time": "2021-11-13T17:54:30.411Z"
   },
   {
    "duration": -49,
    "start_time": "2021-11-13T17:54:30.971Z"
   },
   {
    "duration": -53,
    "start_time": "2021-11-13T17:54:30.976Z"
   },
   {
    "duration": -55,
    "start_time": "2021-11-13T17:54:30.979Z"
   },
   {
    "duration": -56,
    "start_time": "2021-11-13T17:54:30.981Z"
   },
   {
    "duration": 36,
    "start_time": "2021-11-13T17:55:20.052Z"
   },
   {
    "duration": 8,
    "start_time": "2021-11-13T17:55:20.090Z"
   },
   {
    "duration": 11,
    "start_time": "2021-11-13T17:55:20.100Z"
   },
   {
    "duration": 3,
    "start_time": "2021-11-13T17:55:20.113Z"
   },
   {
    "duration": 11,
    "start_time": "2021-11-13T17:55:20.118Z"
   },
   {
    "duration": 11,
    "start_time": "2021-11-13T17:55:20.131Z"
   },
   {
    "duration": 9,
    "start_time": "2021-11-13T17:55:20.143Z"
   },
   {
    "duration": 594,
    "start_time": "2021-11-13T17:55:20.155Z"
   },
   {
    "duration": 8,
    "start_time": "2021-11-13T17:55:20.751Z"
   },
   {
    "duration": 249,
    "start_time": "2021-11-13T17:55:20.760Z"
   },
   {
    "duration": 292,
    "start_time": "2021-11-13T17:55:21.010Z"
   },
   {
    "duration": 11,
    "start_time": "2021-11-13T17:55:21.306Z"
   },
   {
    "duration": 794,
    "start_time": "2021-11-13T17:55:21.319Z"
   },
   {
    "duration": 10,
    "start_time": "2021-11-13T17:55:22.115Z"
   },
   {
    "duration": 17,
    "start_time": "2021-11-13T17:55:22.128Z"
   },
   {
    "duration": 26,
    "start_time": "2021-11-13T17:55:22.147Z"
   },
   {
    "duration": 27,
    "start_time": "2021-11-13T17:55:22.174Z"
   },
   {
    "duration": 527,
    "start_time": "2021-11-13T17:55:22.203Z"
   },
   {
    "duration": -79,
    "start_time": "2021-11-13T17:55:22.811Z"
   },
   {
    "duration": -82,
    "start_time": "2021-11-13T17:55:22.815Z"
   },
   {
    "duration": -82,
    "start_time": "2021-11-13T17:55:22.817Z"
   },
   {
    "duration": -86,
    "start_time": "2021-11-13T17:55:22.822Z"
   },
   {
    "duration": -87,
    "start_time": "2021-11-13T17:55:22.824Z"
   },
   {
    "duration": -89,
    "start_time": "2021-11-13T17:55:22.827Z"
   },
   {
    "duration": -91,
    "start_time": "2021-11-13T17:55:22.830Z"
   },
   {
    "duration": -92,
    "start_time": "2021-11-13T17:55:22.832Z"
   },
   {
    "duration": -94,
    "start_time": "2021-11-13T17:55:22.835Z"
   },
   {
    "duration": -95,
    "start_time": "2021-11-13T17:55:22.837Z"
   },
   {
    "duration": -97,
    "start_time": "2021-11-13T17:55:22.840Z"
   },
   {
    "duration": -99,
    "start_time": "2021-11-13T17:55:22.843Z"
   },
   {
    "duration": -101,
    "start_time": "2021-11-13T17:55:22.846Z"
   },
   {
    "duration": 447,
    "start_time": "2021-11-13T17:55:38.197Z"
   },
   {
    "duration": 373,
    "start_time": "2021-11-13T17:55:44.294Z"
   },
   {
    "duration": 363,
    "start_time": "2021-11-13T17:55:53.255Z"
   },
   {
    "duration": 37,
    "start_time": "2021-11-13T17:55:57.131Z"
   },
   {
    "duration": 8,
    "start_time": "2021-11-13T17:55:57.170Z"
   },
   {
    "duration": 10,
    "start_time": "2021-11-13T17:55:57.181Z"
   },
   {
    "duration": 4,
    "start_time": "2021-11-13T17:55:57.193Z"
   },
   {
    "duration": 8,
    "start_time": "2021-11-13T17:55:57.198Z"
   },
   {
    "duration": 13,
    "start_time": "2021-11-13T17:55:57.208Z"
   },
   {
    "duration": 7,
    "start_time": "2021-11-13T17:55:57.223Z"
   },
   {
    "duration": 628,
    "start_time": "2021-11-13T17:55:57.233Z"
   },
   {
    "duration": 9,
    "start_time": "2021-11-13T17:55:57.864Z"
   },
   {
    "duration": 260,
    "start_time": "2021-11-13T17:55:57.875Z"
   },
   {
    "duration": 283,
    "start_time": "2021-11-13T17:55:58.137Z"
   },
   {
    "duration": 12,
    "start_time": "2021-11-13T17:55:58.422Z"
   },
   {
    "duration": 819,
    "start_time": "2021-11-13T17:55:58.436Z"
   },
   {
    "duration": 14,
    "start_time": "2021-11-13T17:55:59.257Z"
   },
   {
    "duration": 5,
    "start_time": "2021-11-13T17:55:59.274Z"
   },
   {
    "duration": 28,
    "start_time": "2021-11-13T17:55:59.282Z"
   },
   {
    "duration": 10,
    "start_time": "2021-11-13T17:55:59.311Z"
   },
   {
    "duration": 28,
    "start_time": "2021-11-13T17:55:59.323Z"
   },
   {
    "duration": 3,
    "start_time": "2021-11-13T17:55:59.353Z"
   },
   {
    "duration": 6,
    "start_time": "2021-11-13T17:55:59.358Z"
   },
   {
    "duration": 17,
    "start_time": "2021-11-13T17:55:59.366Z"
   },
   {
    "duration": 24,
    "start_time": "2021-11-13T17:55:59.384Z"
   },
   {
    "duration": 5,
    "start_time": "2021-11-13T17:55:59.411Z"
   },
   {
    "duration": 6,
    "start_time": "2021-11-13T17:55:59.417Z"
   },
   {
    "duration": 8,
    "start_time": "2021-11-13T17:55:59.424Z"
   },
   {
    "duration": 190,
    "start_time": "2021-11-13T17:55:59.433Z"
   },
   {
    "duration": 492,
    "start_time": "2021-11-13T17:55:59.625Z"
   },
   {
    "duration": -43,
    "start_time": "2021-11-13T17:56:00.161Z"
   },
   {
    "duration": -53,
    "start_time": "2021-11-13T17:56:00.173Z"
   },
   {
    "duration": -53,
    "start_time": "2021-11-13T17:56:00.174Z"
   },
   {
    "duration": 379,
    "start_time": "2021-11-13T17:56:19.167Z"
   },
   {
    "duration": 410,
    "start_time": "2021-11-13T17:56:24.506Z"
   },
   {
    "duration": 350,
    "start_time": "2021-11-13T17:56:34.183Z"
   },
   {
    "duration": 36,
    "start_time": "2021-11-13T17:56:39.853Z"
   },
   {
    "duration": 7,
    "start_time": "2021-11-13T17:56:39.890Z"
   },
   {
    "duration": 6,
    "start_time": "2021-11-13T17:56:39.899Z"
   },
   {
    "duration": 2,
    "start_time": "2021-11-13T17:56:39.907Z"
   },
   {
    "duration": 7,
    "start_time": "2021-11-13T17:56:39.911Z"
   },
   {
    "duration": 5,
    "start_time": "2021-11-13T17:56:39.920Z"
   },
   {
    "duration": 6,
    "start_time": "2021-11-13T17:56:39.926Z"
   },
   {
    "duration": 692,
    "start_time": "2021-11-13T17:56:39.935Z"
   },
   {
    "duration": 8,
    "start_time": "2021-11-13T17:56:40.629Z"
   },
   {
    "duration": 246,
    "start_time": "2021-11-13T17:56:40.638Z"
   },
   {
    "duration": 314,
    "start_time": "2021-11-13T17:56:40.885Z"
   },
   {
    "duration": 15,
    "start_time": "2021-11-13T17:56:41.201Z"
   },
   {
    "duration": 813,
    "start_time": "2021-11-13T17:56:41.218Z"
   },
   {
    "duration": 9,
    "start_time": "2021-11-13T17:56:42.033Z"
   },
   {
    "duration": 14,
    "start_time": "2021-11-13T17:56:42.044Z"
   },
   {
    "duration": 13,
    "start_time": "2021-11-13T17:56:42.060Z"
   },
   {
    "duration": 12,
    "start_time": "2021-11-13T17:56:42.075Z"
   },
   {
    "duration": 36,
    "start_time": "2021-11-13T17:56:42.089Z"
   },
   {
    "duration": 4,
    "start_time": "2021-11-13T17:56:42.127Z"
   },
   {
    "duration": 13,
    "start_time": "2021-11-13T17:56:42.133Z"
   },
   {
    "duration": 8,
    "start_time": "2021-11-13T17:56:42.147Z"
   },
   {
    "duration": 6,
    "start_time": "2021-11-13T17:56:42.156Z"
   },
   {
    "duration": 6,
    "start_time": "2021-11-13T17:56:42.165Z"
   },
   {
    "duration": 5,
    "start_time": "2021-11-13T17:56:42.173Z"
   },
   {
    "duration": 5,
    "start_time": "2021-11-13T17:56:42.180Z"
   },
   {
    "duration": 190,
    "start_time": "2021-11-13T17:56:42.187Z"
   },
   {
    "duration": 67,
    "start_time": "2021-11-13T17:56:42.379Z"
   },
   {
    "duration": 3,
    "start_time": "2021-11-13T17:56:42.448Z"
   },
   {
    "duration": 6,
    "start_time": "2021-11-13T17:56:42.453Z"
   },
   {
    "duration": 230,
    "start_time": "2021-11-13T17:56:42.460Z"
   },
   {
    "duration": 29,
    "start_time": "2021-11-13T17:57:17.248Z"
   },
   {
    "duration": 4,
    "start_time": "2021-11-13T17:57:22.458Z"
   },
   {
    "duration": 3,
    "start_time": "2021-11-13T17:57:23.088Z"
   },
   {
    "duration": 4,
    "start_time": "2021-11-13T17:57:23.688Z"
   },
   {
    "duration": 3,
    "start_time": "2021-11-13T17:57:26.880Z"
   },
   {
    "duration": 2,
    "start_time": "2021-11-13T17:57:27.600Z"
   },
   {
    "duration": 4,
    "start_time": "2021-11-13T17:57:28.305Z"
   },
   {
    "duration": 174,
    "start_time": "2021-11-13T17:57:39.784Z"
   },
   {
    "duration": 29,
    "start_time": "2021-11-13T17:58:02.841Z"
   },
   {
    "duration": 3,
    "start_time": "2021-11-13T17:58:25.256Z"
   },
   {
    "duration": 2,
    "start_time": "2021-11-13T17:58:26.042Z"
   },
   {
    "duration": 3,
    "start_time": "2021-11-13T17:58:26.594Z"
   },
   {
    "duration": 3,
    "start_time": "2021-11-13T17:58:27.617Z"
   },
   {
    "duration": 3,
    "start_time": "2021-11-13T17:58:28.024Z"
   },
   {
    "duration": 4,
    "start_time": "2021-11-13T17:58:28.362Z"
   },
   {
    "duration": 3,
    "start_time": "2021-11-13T17:58:29.297Z"
   },
   {
    "duration": 169,
    "start_time": "2021-11-13T17:58:30.137Z"
   },
   {
    "duration": 68,
    "start_time": "2021-11-13T17:58:41.794Z"
   },
   {
    "duration": 5,
    "start_time": "2021-11-13T17:58:42.577Z"
   },
   {
    "duration": 4,
    "start_time": "2021-11-13T17:58:43.603Z"
   },
   {
    "duration": 171,
    "start_time": "2021-11-13T17:58:45.056Z"
   },
   {
    "duration": 1652,
    "start_time": "2021-11-14T11:41:34.874Z"
   },
   {
    "duration": 15,
    "start_time": "2021-11-14T11:41:36.528Z"
   },
   {
    "duration": 14,
    "start_time": "2021-11-14T11:41:36.546Z"
   },
   {
    "duration": 12,
    "start_time": "2021-11-14T11:41:36.565Z"
   },
   {
    "duration": 6,
    "start_time": "2021-11-14T11:41:36.580Z"
   },
   {
    "duration": 10,
    "start_time": "2021-11-14T11:41:36.588Z"
   },
   {
    "duration": 8,
    "start_time": "2021-11-14T11:41:36.600Z"
   },
   {
    "duration": 947,
    "start_time": "2021-11-14T11:41:36.610Z"
   },
   {
    "duration": 73,
    "start_time": "2021-11-14T11:41:37.563Z"
   },
   {
    "duration": 460,
    "start_time": "2021-11-14T11:41:37.639Z"
   },
   {
    "duration": 457,
    "start_time": "2021-11-14T11:41:38.102Z"
   },
   {
    "duration": 21,
    "start_time": "2021-11-14T11:41:38.563Z"
   },
   {
    "duration": 1332,
    "start_time": "2021-11-14T11:41:38.586Z"
   },
   {
    "duration": 17,
    "start_time": "2021-11-14T11:41:39.921Z"
   },
   {
    "duration": 8,
    "start_time": "2021-11-14T11:41:39.965Z"
   },
   {
    "duration": 11,
    "start_time": "2021-11-14T11:41:39.976Z"
   },
   {
    "duration": 13,
    "start_time": "2021-11-14T11:41:39.990Z"
   },
   {
    "duration": 512,
    "start_time": "2021-11-14T11:41:40.006Z"
   },
   {
    "duration": -93,
    "start_time": "2021-11-14T11:41:40.614Z"
   },
   {
    "duration": -96,
    "start_time": "2021-11-14T11:41:40.619Z"
   },
   {
    "duration": -96,
    "start_time": "2021-11-14T11:41:40.621Z"
   },
   {
    "duration": -97,
    "start_time": "2021-11-14T11:41:40.623Z"
   },
   {
    "duration": -98,
    "start_time": "2021-11-14T11:41:40.626Z"
   },
   {
    "duration": -100,
    "start_time": "2021-11-14T11:41:40.629Z"
   },
   {
    "duration": -101,
    "start_time": "2021-11-14T11:41:40.632Z"
   },
   {
    "duration": -102,
    "start_time": "2021-11-14T11:41:40.635Z"
   },
   {
    "duration": -104,
    "start_time": "2021-11-14T11:41:40.638Z"
   },
   {
    "duration": -104,
    "start_time": "2021-11-14T11:41:40.640Z"
   },
   {
    "duration": -105,
    "start_time": "2021-11-14T11:41:40.643Z"
   },
   {
    "duration": -106,
    "start_time": "2021-11-14T11:41:40.645Z"
   },
   {
    "duration": 62,
    "start_time": "2021-11-14T11:42:00.144Z"
   },
   {
    "duration": 11,
    "start_time": "2021-11-14T11:42:00.208Z"
   },
   {
    "duration": 22,
    "start_time": "2021-11-14T11:42:00.222Z"
   },
   {
    "duration": 26,
    "start_time": "2021-11-14T11:42:00.247Z"
   },
   {
    "duration": 426,
    "start_time": "2021-11-14T11:42:00.276Z"
   },
   {
    "duration": -72,
    "start_time": "2021-11-14T11:42:00.777Z"
   },
   {
    "duration": -77,
    "start_time": "2021-11-14T11:42:00.784Z"
   },
   {
    "duration": -82,
    "start_time": "2021-11-14T11:42:00.790Z"
   },
   {
    "duration": -110,
    "start_time": "2021-11-14T11:42:00.820Z"
   },
   {
    "duration": -122,
    "start_time": "2021-11-14T11:42:00.833Z"
   },
   {
    "duration": -132,
    "start_time": "2021-11-14T11:42:00.844Z"
   },
   {
    "duration": -143,
    "start_time": "2021-11-14T11:42:00.856Z"
   },
   {
    "duration": -144,
    "start_time": "2021-11-14T11:42:00.859Z"
   },
   {
    "duration": -146,
    "start_time": "2021-11-14T11:42:00.862Z"
   },
   {
    "duration": -147,
    "start_time": "2021-11-14T11:42:00.864Z"
   },
   {
    "duration": -148,
    "start_time": "2021-11-14T11:42:00.867Z"
   },
   {
    "duration": -149,
    "start_time": "2021-11-14T11:42:00.869Z"
   },
   {
    "duration": -151,
    "start_time": "2021-11-14T11:42:00.872Z"
   },
   {
    "duration": -151,
    "start_time": "2021-11-14T11:42:00.874Z"
   },
   {
    "duration": -153,
    "start_time": "2021-11-14T11:42:00.877Z"
   },
   {
    "duration": -153,
    "start_time": "2021-11-14T11:42:00.879Z"
   },
   {
    "duration": -154,
    "start_time": "2021-11-14T11:42:00.881Z"
   },
   {
    "duration": -155,
    "start_time": "2021-11-14T11:42:00.883Z"
   },
   {
    "duration": -161,
    "start_time": "2021-11-14T11:42:00.891Z"
   },
   {
    "duration": -169,
    "start_time": "2021-11-14T11:42:00.900Z"
   },
   {
    "duration": -172,
    "start_time": "2021-11-14T11:42:00.904Z"
   },
   {
    "duration": -183,
    "start_time": "2021-11-14T11:42:00.916Z"
   },
   {
    "duration": -184,
    "start_time": "2021-11-14T11:42:00.919Z"
   },
   {
    "duration": -185,
    "start_time": "2021-11-14T11:42:00.921Z"
   },
   {
    "duration": -186,
    "start_time": "2021-11-14T11:42:00.923Z"
   },
   {
    "duration": 386,
    "start_time": "2021-11-14T11:42:10.741Z"
   },
   {
    "duration": 425,
    "start_time": "2021-11-14T11:42:15.474Z"
   },
   {
    "duration": 409,
    "start_time": "2021-11-14T11:42:18.307Z"
   },
   {
    "duration": 56,
    "start_time": "2021-11-14T11:42:24.643Z"
   },
   {
    "duration": 11,
    "start_time": "2021-11-14T11:42:26.499Z"
   },
   {
    "duration": 10,
    "start_time": "2021-11-14T11:42:29.673Z"
   },
   {
    "duration": 3,
    "start_time": "2021-11-14T11:42:32.108Z"
   },
   {
    "duration": 370,
    "start_time": "2021-11-14T11:42:34.251Z"
   },
   {
    "duration": 895,
    "start_time": "2021-11-14T11:42:37.802Z"
   },
   {
    "duration": 387,
    "start_time": "2021-11-14T11:42:51.227Z"
   },
   {
    "duration": 359,
    "start_time": "2021-11-14T11:42:54.779Z"
   },
   {
    "duration": 385,
    "start_time": "2021-11-14T11:42:55.835Z"
   },
   {
    "duration": 54,
    "start_time": "2021-11-14T11:43:06.657Z"
   },
   {
    "duration": 11,
    "start_time": "2021-11-14T11:43:06.714Z"
   },
   {
    "duration": 10,
    "start_time": "2021-11-14T11:43:06.728Z"
   },
   {
    "duration": 5,
    "start_time": "2021-11-14T11:43:06.762Z"
   },
   {
    "duration": 9,
    "start_time": "2021-11-14T11:43:06.771Z"
   },
   {
    "duration": 12,
    "start_time": "2021-11-14T11:43:06.782Z"
   },
   {
    "duration": 7,
    "start_time": "2021-11-14T11:43:06.797Z"
   },
   {
    "duration": 947,
    "start_time": "2021-11-14T11:43:06.808Z"
   },
   {
    "duration": 17,
    "start_time": "2021-11-14T11:43:07.757Z"
   },
   {
    "duration": 447,
    "start_time": "2021-11-14T11:43:07.777Z"
   },
   {
    "duration": 482,
    "start_time": "2021-11-14T11:43:08.226Z"
   },
   {
    "duration": 15,
    "start_time": "2021-11-14T11:43:08.710Z"
   },
   {
    "duration": 1425,
    "start_time": "2021-11-14T11:43:08.727Z"
   },
   {
    "duration": 25,
    "start_time": "2021-11-14T11:43:10.154Z"
   },
   {
    "duration": 18,
    "start_time": "2021-11-14T11:43:10.181Z"
   },
   {
    "duration": 25,
    "start_time": "2021-11-14T11:43:10.201Z"
   },
   {
    "duration": 20,
    "start_time": "2021-11-14T11:43:10.228Z"
   },
   {
    "duration": 392,
    "start_time": "2021-11-14T11:43:10.250Z"
   },
   {
    "duration": -145,
    "start_time": "2021-11-14T11:43:10.790Z"
   },
   {
    "duration": -146,
    "start_time": "2021-11-14T11:43:10.792Z"
   },
   {
    "duration": -147,
    "start_time": "2021-11-14T11:43:10.795Z"
   },
   {
    "duration": -148,
    "start_time": "2021-11-14T11:43:10.797Z"
   },
   {
    "duration": -151,
    "start_time": "2021-11-14T11:43:10.801Z"
   },
   {
    "duration": -152,
    "start_time": "2021-11-14T11:43:10.804Z"
   },
   {
    "duration": -153,
    "start_time": "2021-11-14T11:43:10.806Z"
   },
   {
    "duration": -154,
    "start_time": "2021-11-14T11:43:10.809Z"
   },
   {
    "duration": -155,
    "start_time": "2021-11-14T11:43:10.811Z"
   },
   {
    "duration": -156,
    "start_time": "2021-11-14T11:43:10.814Z"
   },
   {
    "duration": -158,
    "start_time": "2021-11-14T11:43:10.817Z"
   },
   {
    "duration": -158,
    "start_time": "2021-11-14T11:43:10.819Z"
   },
   {
    "duration": 443,
    "start_time": "2021-11-14T11:46:23.902Z"
   },
   {
    "duration": 440,
    "start_time": "2021-11-14T11:46:27.702Z"
   },
   {
    "duration": 6,
    "start_time": "2021-11-14T11:46:31.873Z"
   },
   {
    "duration": 8,
    "start_time": "2021-11-14T11:46:32.583Z"
   },
   {
    "duration": 434,
    "start_time": "2021-11-14T11:46:33.301Z"
   },
   {
    "duration": 52,
    "start_time": "2021-11-14T11:46:42.901Z"
   },
   {
    "duration": 18,
    "start_time": "2021-11-14T11:46:42.955Z"
   },
   {
    "duration": 18,
    "start_time": "2021-11-14T11:46:42.978Z"
   },
   {
    "duration": 4,
    "start_time": "2021-11-14T11:46:43.000Z"
   },
   {
    "duration": 8,
    "start_time": "2021-11-14T11:46:43.006Z"
   },
   {
    "duration": 56,
    "start_time": "2021-11-14T11:46:43.017Z"
   },
   {
    "duration": 11,
    "start_time": "2021-11-14T11:46:43.075Z"
   },
   {
    "duration": 1079,
    "start_time": "2021-11-14T11:46:43.089Z"
   },
   {
    "duration": 13,
    "start_time": "2021-11-14T11:46:44.174Z"
   },
   {
    "duration": 454,
    "start_time": "2021-11-14T11:46:44.190Z"
   },
   {
    "duration": 473,
    "start_time": "2021-11-14T11:46:44.646Z"
   },
   {
    "duration": 16,
    "start_time": "2021-11-14T11:46:45.121Z"
   },
   {
    "duration": 1471,
    "start_time": "2021-11-14T11:46:45.140Z"
   },
   {
    "duration": 19,
    "start_time": "2021-11-14T11:46:46.613Z"
   },
   {
    "duration": 29,
    "start_time": "2021-11-14T11:46:46.634Z"
   },
   {
    "duration": 20,
    "start_time": "2021-11-14T11:46:46.667Z"
   },
   {
    "duration": 10,
    "start_time": "2021-11-14T11:46:46.689Z"
   },
   {
    "duration": 433,
    "start_time": "2021-11-14T11:46:46.701Z"
   },
   {
    "duration": -87,
    "start_time": "2021-11-14T11:46:47.224Z"
   },
   {
    "duration": -95,
    "start_time": "2021-11-14T11:46:47.234Z"
   },
   {
    "duration": -97,
    "start_time": "2021-11-14T11:46:47.238Z"
   },
   {
    "duration": -100,
    "start_time": "2021-11-14T11:46:47.243Z"
   },
   {
    "duration": -103,
    "start_time": "2021-11-14T11:46:47.248Z"
   },
   {
    "duration": -106,
    "start_time": "2021-11-14T11:46:47.253Z"
   },
   {
    "duration": -108,
    "start_time": "2021-11-14T11:46:47.258Z"
   },
   {
    "duration": -115,
    "start_time": "2021-11-14T11:46:47.267Z"
   },
   {
    "duration": -118,
    "start_time": "2021-11-14T11:46:47.272Z"
   },
   {
    "duration": -135,
    "start_time": "2021-11-14T11:46:47.292Z"
   },
   {
    "duration": -139,
    "start_time": "2021-11-14T11:46:47.298Z"
   },
   {
    "duration": -135,
    "start_time": "2021-11-14T11:46:47.303Z"
   },
   {
    "duration": 20,
    "start_time": "2021-11-14T11:47:14.493Z"
   },
   {
    "duration": 19,
    "start_time": "2021-11-14T11:47:30.736Z"
   },
   {
    "duration": 45,
    "start_time": "2021-11-14T11:48:09.772Z"
   },
   {
    "duration": 11,
    "start_time": "2021-11-14T11:48:09.820Z"
   },
   {
    "duration": 28,
    "start_time": "2021-11-14T11:48:09.834Z"
   },
   {
    "duration": 7,
    "start_time": "2021-11-14T11:48:09.867Z"
   },
   {
    "duration": 12,
    "start_time": "2021-11-14T11:48:09.877Z"
   },
   {
    "duration": 13,
    "start_time": "2021-11-14T11:48:09.892Z"
   },
   {
    "duration": 1014,
    "start_time": "2021-11-14T11:48:09.908Z"
   },
   {
    "duration": 18,
    "start_time": "2021-11-14T11:48:10.926Z"
   },
   {
    "duration": 527,
    "start_time": "2021-11-14T11:48:10.962Z"
   },
   {
    "duration": 560,
    "start_time": "2021-11-14T11:48:11.491Z"
   },
   {
    "duration": 23,
    "start_time": "2021-11-14T11:48:12.053Z"
   },
   {
    "duration": 1478,
    "start_time": "2021-11-14T11:48:12.079Z"
   },
   {
    "duration": 25,
    "start_time": "2021-11-14T11:48:13.560Z"
   },
   {
    "duration": 5,
    "start_time": "2021-11-14T11:48:13.587Z"
   },
   {
    "duration": 9,
    "start_time": "2021-11-14T11:48:13.595Z"
   },
   {
    "duration": 11,
    "start_time": "2021-11-14T11:48:13.607Z"
   },
   {
    "duration": 395,
    "start_time": "2021-11-14T11:48:13.661Z"
   },
   {
    "duration": -176,
    "start_time": "2021-11-14T11:48:14.239Z"
   },
   {
    "duration": -178,
    "start_time": "2021-11-14T11:48:14.245Z"
   },
   {
    "duration": -181,
    "start_time": "2021-11-14T11:48:14.251Z"
   },
   {
    "duration": -184,
    "start_time": "2021-11-14T11:48:14.256Z"
   },
   {
    "duration": -185,
    "start_time": "2021-11-14T11:48:14.260Z"
   },
   {
    "duration": -189,
    "start_time": "2021-11-14T11:48:14.266Z"
   },
   {
    "duration": -192,
    "start_time": "2021-11-14T11:48:14.271Z"
   },
   {
    "duration": -195,
    "start_time": "2021-11-14T11:48:14.276Z"
   },
   {
    "duration": -198,
    "start_time": "2021-11-14T11:48:14.281Z"
   },
   {
    "duration": -204,
    "start_time": "2021-11-14T11:48:14.289Z"
   },
   {
    "duration": -209,
    "start_time": "2021-11-14T11:48:14.296Z"
   },
   {
    "duration": -215,
    "start_time": "2021-11-14T11:48:14.304Z"
   },
   {
    "duration": 56,
    "start_time": "2021-11-14T11:49:21.447Z"
   },
   {
    "duration": 12,
    "start_time": "2021-11-14T11:49:21.506Z"
   },
   {
    "duration": 10,
    "start_time": "2021-11-14T11:49:21.521Z"
   },
   {
    "duration": 42,
    "start_time": "2021-11-14T11:49:21.534Z"
   },
   {
    "duration": 7,
    "start_time": "2021-11-14T11:49:21.580Z"
   },
   {
    "duration": 11,
    "start_time": "2021-11-14T11:49:21.589Z"
   },
   {
    "duration": 1062,
    "start_time": "2021-11-14T11:49:21.602Z"
   },
   {
    "duration": 20,
    "start_time": "2021-11-14T11:49:22.667Z"
   },
   {
    "duration": 514,
    "start_time": "2021-11-14T11:49:22.691Z"
   },
   {
    "duration": 576,
    "start_time": "2021-11-14T11:49:23.209Z"
   },
   {
    "duration": 536,
    "start_time": "2021-11-14T11:49:23.788Z"
   },
   {
    "duration": -109,
    "start_time": "2021-11-14T11:49:24.436Z"
   },
   {
    "duration": -109,
    "start_time": "2021-11-14T11:49:24.438Z"
   },
   {
    "duration": -112,
    "start_time": "2021-11-14T11:49:24.442Z"
   },
   {
    "duration": -113,
    "start_time": "2021-11-14T11:49:24.444Z"
   },
   {
    "duration": -115,
    "start_time": "2021-11-14T11:49:24.448Z"
   },
   {
    "duration": -119,
    "start_time": "2021-11-14T11:49:24.454Z"
   },
   {
    "duration": -121,
    "start_time": "2021-11-14T11:49:24.457Z"
   },
   {
    "duration": -126,
    "start_time": "2021-11-14T11:49:24.463Z"
   },
   {
    "duration": -151,
    "start_time": "2021-11-14T11:49:24.490Z"
   },
   {
    "duration": -154,
    "start_time": "2021-11-14T11:49:24.494Z"
   },
   {
    "duration": -155,
    "start_time": "2021-11-14T11:49:24.498Z"
   },
   {
    "duration": -160,
    "start_time": "2021-11-14T11:49:24.504Z"
   },
   {
    "duration": -162,
    "start_time": "2021-11-14T11:49:24.507Z"
   },
   {
    "duration": -162,
    "start_time": "2021-11-14T11:49:24.509Z"
   },
   {
    "duration": -166,
    "start_time": "2021-11-14T11:49:24.514Z"
   },
   {
    "duration": -171,
    "start_time": "2021-11-14T11:49:24.520Z"
   },
   {
    "duration": -173,
    "start_time": "2021-11-14T11:49:24.523Z"
   },
   {
    "duration": -173,
    "start_time": "2021-11-14T11:49:24.525Z"
   },
   {
    "duration": 403,
    "start_time": "2021-11-14T11:49:33.376Z"
   },
   {
    "duration": 405,
    "start_time": "2021-11-14T11:49:54.938Z"
   },
   {
    "duration": 378,
    "start_time": "2021-11-14T11:50:27.643Z"
   },
   {
    "duration": 26,
    "start_time": "2021-11-14T11:50:37.457Z"
   },
   {
    "duration": 1905,
    "start_time": "2021-11-14T11:50:42.826Z"
   },
   {
    "duration": 1584,
    "start_time": "2021-11-14T11:51:40.025Z"
   },
   {
    "duration": 55,
    "start_time": "2021-11-14T11:52:53.225Z"
   },
   {
    "duration": 11,
    "start_time": "2021-11-14T11:52:53.282Z"
   },
   {
    "duration": 18,
    "start_time": "2021-11-14T11:52:53.298Z"
   },
   {
    "duration": 43,
    "start_time": "2021-11-14T11:52:53.319Z"
   },
   {
    "duration": 30,
    "start_time": "2021-11-14T11:52:53.366Z"
   },
   {
    "duration": 11,
    "start_time": "2021-11-14T11:52:53.399Z"
   },
   {
    "duration": 1016,
    "start_time": "2021-11-14T11:52:53.413Z"
   },
   {
    "duration": 19,
    "start_time": "2021-11-14T11:52:54.431Z"
   },
   {
    "duration": 485,
    "start_time": "2021-11-14T11:52:54.467Z"
   },
   {
    "duration": 520,
    "start_time": "2021-11-14T11:52:54.956Z"
   },
   {
    "duration": 17,
    "start_time": "2021-11-14T11:52:55.479Z"
   },
   {
    "duration": 1940,
    "start_time": "2021-11-14T11:52:55.499Z"
   },
   {
    "duration": 1581,
    "start_time": "2021-11-14T11:52:57.442Z"
   },
   {
    "duration": 45,
    "start_time": "2021-11-14T11:52:59.025Z"
   },
   {
    "duration": 20,
    "start_time": "2021-11-14T11:52:59.073Z"
   },
   {
    "duration": 16,
    "start_time": "2021-11-14T11:52:59.096Z"
   },
   {
    "duration": 13,
    "start_time": "2021-11-14T11:52:59.115Z"
   },
   {
    "duration": 422,
    "start_time": "2021-11-14T11:52:59.131Z"
   },
   {
    "duration": -108,
    "start_time": "2021-11-14T11:52:59.664Z"
   },
   {
    "duration": -115,
    "start_time": "2021-11-14T11:52:59.672Z"
   },
   {
    "duration": -136,
    "start_time": "2021-11-14T11:52:59.696Z"
   },
   {
    "duration": -137,
    "start_time": "2021-11-14T11:52:59.700Z"
   },
   {
    "duration": -139,
    "start_time": "2021-11-14T11:52:59.705Z"
   },
   {
    "duration": -143,
    "start_time": "2021-11-14T11:52:59.710Z"
   },
   {
    "duration": -148,
    "start_time": "2021-11-14T11:52:59.717Z"
   },
   {
    "duration": -150,
    "start_time": "2021-11-14T11:52:59.721Z"
   },
   {
    "duration": -154,
    "start_time": "2021-11-14T11:52:59.726Z"
   },
   {
    "duration": -157,
    "start_time": "2021-11-14T11:52:59.731Z"
   },
   {
    "duration": -162,
    "start_time": "2021-11-14T11:52:59.738Z"
   },
   {
    "duration": -165,
    "start_time": "2021-11-14T11:52:59.742Z"
   },
   {
    "duration": 61,
    "start_time": "2021-11-14T11:54:44.086Z"
   },
   {
    "duration": 14,
    "start_time": "2021-11-14T11:55:23.270Z"
   },
   {
    "duration": 8,
    "start_time": "2021-11-14T11:55:36.479Z"
   },
   {
    "duration": 10,
    "start_time": "2021-11-14T11:56:07.934Z"
   },
   {
    "duration": 10,
    "start_time": "2021-11-14T11:56:29.006Z"
   },
   {
    "duration": 4,
    "start_time": "2021-11-14T11:56:54.935Z"
   },
   {
    "duration": 4,
    "start_time": "2021-11-14T11:58:18.121Z"
   },
   {
    "duration": 6,
    "start_time": "2021-11-14T11:58:18.825Z"
   },
   {
    "duration": 3,
    "start_time": "2021-11-14T11:59:29.619Z"
   },
   {
    "duration": 11,
    "start_time": "2021-11-14T11:59:32.914Z"
   },
   {
    "duration": 372,
    "start_time": "2021-11-14T11:59:50.171Z"
   },
   {
    "duration": 3,
    "start_time": "2021-11-14T11:59:56.434Z"
   },
   {
    "duration": 10,
    "start_time": "2021-11-14T11:59:57.035Z"
   },
   {
    "duration": 9,
    "start_time": "2021-11-14T12:00:15.508Z"
   },
   {
    "duration": 5,
    "start_time": "2021-11-14T12:00:19.539Z"
   },
   {
    "duration": 6,
    "start_time": "2021-11-14T12:00:37.387Z"
   },
   {
    "duration": 380,
    "start_time": "2021-11-14T12:01:42.272Z"
   },
   {
    "duration": 116,
    "start_time": "2021-11-14T12:02:16.676Z"
   },
   {
    "duration": 4,
    "start_time": "2021-11-14T12:02:30.655Z"
   },
   {
    "duration": 4,
    "start_time": "2021-11-14T12:02:40.734Z"
   },
   {
    "duration": 96404,
    "start_time": "2021-11-14T12:02:53.734Z"
   },
   {
    "duration": 4,
    "start_time": "2021-11-14T12:06:30.142Z"
   },
   {
    "duration": 3652,
    "start_time": "2021-11-14T12:06:31.640Z"
   },
   {
    "duration": 407,
    "start_time": "2021-11-14T12:07:17.139Z"
   },
   {
    "duration": 67,
    "start_time": "2021-11-14T12:07:39.260Z"
   },
   {
    "duration": 6,
    "start_time": "2021-11-14T12:08:03.282Z"
   },
   {
    "duration": 3,
    "start_time": "2021-11-14T12:08:19.948Z"
   },
   {
    "duration": 79172,
    "start_time": "2021-11-14T12:08:30.405Z"
   },
   {
    "duration": 4,
    "start_time": "2021-11-14T12:10:50.831Z"
   },
   {
    "duration": 1743,
    "start_time": "2021-11-14T12:10:51.733Z"
   },
   {
    "duration": 4,
    "start_time": "2021-11-14T12:13:30.120Z"
   },
   {
    "duration": 24,
    "start_time": "2021-11-14T12:13:43.161Z"
   },
   {
    "duration": 464,
    "start_time": "2021-11-14T12:14:16.113Z"
   },
   {
    "duration": 294,
    "start_time": "2021-11-14T12:14:30.376Z"
   },
   {
    "duration": 5,
    "start_time": "2021-11-14T12:15:15.202Z"
   },
   {
    "duration": 8,
    "start_time": "2021-11-14T12:15:27.572Z"
   },
   {
    "duration": 297,
    "start_time": "2021-11-14T12:15:49.003Z"
   },
   {
    "duration": 1488,
    "start_time": "2021-11-14T12:16:10.227Z"
   },
   {
    "duration": 14,
    "start_time": "2021-11-14T12:16:30.836Z"
   },
   {
    "duration": 9,
    "start_time": "2021-11-14T12:16:44.244Z"
   },
   {
    "duration": 310,
    "start_time": "2021-11-14T12:17:30.749Z"
   },
   {
    "duration": 20,
    "start_time": "2021-11-14T12:18:53.726Z"
   },
   {
    "duration": 6,
    "start_time": "2021-11-14T12:19:16.894Z"
   },
   {
    "duration": 5,
    "start_time": "2021-11-14T12:19:25.559Z"
   },
   {
    "duration": 111700,
    "start_time": "2021-11-14T12:19:33.673Z"
   },
   {
    "duration": 4,
    "start_time": "2021-11-14T12:22:56.019Z"
   },
   {
    "duration": 4081,
    "start_time": "2021-11-14T12:22:56.785Z"
   },
   {
    "duration": 11,
    "start_time": "2021-11-14T12:23:13.113Z"
   },
   {
    "duration": 309,
    "start_time": "2021-11-14T12:23:14.706Z"
   },
   {
    "duration": 7,
    "start_time": "2021-11-14T12:33:37.989Z"
   },
   {
    "duration": 6,
    "start_time": "2021-11-14T12:34:48.750Z"
   },
   {
    "duration": 302,
    "start_time": "2021-11-14T12:35:02.602Z"
   },
   {
    "duration": 74,
    "start_time": "2021-11-14T12:36:17.888Z"
   },
   {
    "duration": 12,
    "start_time": "2021-11-14T12:37:35.281Z"
   },
   {
    "duration": 470,
    "start_time": "2021-11-14T12:37:38.207Z"
   },
   {
    "duration": 46,
    "start_time": "2021-11-14T12:39:39.984Z"
   },
   {
    "duration": 52,
    "start_time": "2021-11-14T12:39:57.149Z"
   },
   {
    "duration": 8,
    "start_time": "2021-11-14T12:40:01.209Z"
   },
   {
    "duration": 69,
    "start_time": "2021-11-14T12:40:01.221Z"
   },
   {
    "duration": 17,
    "start_time": "2021-11-14T12:40:01.294Z"
   },
   {
    "duration": 20,
    "start_time": "2021-11-14T12:40:01.315Z"
   },
   {
    "duration": 48,
    "start_time": "2021-11-14T12:40:01.338Z"
   },
   {
    "duration": 27,
    "start_time": "2021-11-14T12:40:01.389Z"
   },
   {
    "duration": 26,
    "start_time": "2021-11-14T12:40:01.419Z"
   },
   {
    "duration": 1390,
    "start_time": "2021-11-14T12:40:01.451Z"
   },
   {
    "duration": 37,
    "start_time": "2021-11-14T12:40:02.843Z"
   },
   {
    "duration": 505,
    "start_time": "2021-11-14T12:40:02.882Z"
   },
   {
    "duration": 565,
    "start_time": "2021-11-14T12:40:03.389Z"
   },
   {
    "duration": 25,
    "start_time": "2021-11-14T12:40:03.959Z"
   },
   {
    "duration": 1789,
    "start_time": "2021-11-14T12:40:03.986Z"
   },
   {
    "duration": 1917,
    "start_time": "2021-11-14T12:40:05.779Z"
   },
   {
    "duration": 83,
    "start_time": "2021-11-14T12:40:07.699Z"
   },
   {
    "duration": 20,
    "start_time": "2021-11-14T12:40:07.786Z"
   },
   {
    "duration": 6,
    "start_time": "2021-11-14T12:40:07.809Z"
   },
   {
    "duration": 12,
    "start_time": "2021-11-14T12:40:07.818Z"
   },
   {
    "duration": 13,
    "start_time": "2021-11-14T12:40:07.860Z"
   },
   {
    "duration": 6,
    "start_time": "2021-11-14T12:40:07.876Z"
   },
   {
    "duration": 31,
    "start_time": "2021-11-14T12:40:07.885Z"
   },
   {
    "duration": 6,
    "start_time": "2021-11-14T12:40:07.925Z"
   },
   {
    "duration": 4,
    "start_time": "2021-11-14T12:40:07.936Z"
   },
   {
    "duration": 21,
    "start_time": "2021-11-14T12:40:07.961Z"
   },
   {
    "duration": 189,
    "start_time": "2021-11-14T12:40:07.985Z"
   },
   {
    "duration": 7,
    "start_time": "2021-11-14T12:40:08.177Z"
   },
   {
    "duration": 73,
    "start_time": "2021-11-14T12:40:08.188Z"
   },
   {
    "duration": 15,
    "start_time": "2021-11-14T12:40:08.264Z"
   },
   {
    "duration": 121463,
    "start_time": "2021-11-14T12:40:08.282Z"
   },
   {
    "duration": 5,
    "start_time": "2021-11-14T12:42:09.748Z"
   },
   {
    "duration": 4522,
    "start_time": "2021-11-14T12:42:09.756Z"
   },
   {
    "duration": 7,
    "start_time": "2021-11-14T12:42:14.282Z"
   },
   {
    "duration": 6,
    "start_time": "2021-11-14T12:42:14.292Z"
   },
   {
    "duration": 574173,
    "start_time": "2021-11-14T12:42:14.301Z"
   },
   {
    "duration": 5,
    "start_time": "2021-11-14T12:51:48.478Z"
   },
   {
    "duration": 3196,
    "start_time": "2021-11-14T12:51:48.486Z"
   },
   {
    "duration": 6,
    "start_time": "2021-11-14T12:51:51.684Z"
   },
   {
    "duration": 8,
    "start_time": "2021-11-14T12:51:51.692Z"
   },
   {
    "duration": 120805,
    "start_time": "2021-11-14T12:51:51.765Z"
   },
   {
    "duration": 4,
    "start_time": "2021-11-14T12:53:52.575Z"
   },
   {
    "duration": 5787,
    "start_time": "2021-11-14T12:53:52.582Z"
   },
   {
    "duration": 92,
    "start_time": "2021-11-14T12:53:58.372Z"
   },
   {
    "duration": 109,
    "start_time": "2021-11-14T12:53:58.467Z"
   },
   {
    "duration": 410,
    "start_time": "2021-11-14T12:53:58.660Z"
   },
   {
    "duration": 8,
    "start_time": "2021-11-14T12:53:59.074Z"
   },
   {
    "duration": 331,
    "start_time": "2021-11-14T12:53:59.085Z"
   },
   {
    "duration": 9,
    "start_time": "2021-11-14T12:53:59.419Z"
   },
   {
    "duration": 333,
    "start_time": "2021-11-14T12:53:59.430Z"
   },
   {
    "duration": 22,
    "start_time": "2021-11-14T12:53:59.768Z"
   },
   {
    "duration": 329,
    "start_time": "2021-11-14T12:53:59.861Z"
   },
   {
    "duration": 67,
    "start_time": "2021-11-14T12:54:00.193Z"
   },
   {
    "duration": 413,
    "start_time": "2021-11-14T12:54:00.264Z"
   },
   {
    "duration": 2496,
    "start_time": "2021-11-14T12:54:00.681Z"
   },
   {
    "duration": 3829,
    "start_time": "2021-11-14T12:54:03.265Z"
   },
   {
    "duration": 88,
    "start_time": "2021-11-14T12:54:26.176Z"
   },
   {
    "duration": 60,
    "start_time": "2021-11-14T12:55:04.902Z"
   },
   {
    "duration": 1220,
    "start_time": "2021-11-14T14:15:59.633Z"
   },
   {
    "duration": 40,
    "start_time": "2021-11-14T14:16:00.855Z"
   },
   {
    "duration": 11,
    "start_time": "2021-11-14T14:16:00.897Z"
   },
   {
    "duration": 18,
    "start_time": "2021-11-14T14:16:00.910Z"
   },
   {
    "duration": 10,
    "start_time": "2021-11-14T14:16:00.930Z"
   },
   {
    "duration": 63,
    "start_time": "2021-11-14T14:16:00.941Z"
   },
   {
    "duration": 26,
    "start_time": "2021-11-14T14:16:01.006Z"
   },
   {
    "duration": 686,
    "start_time": "2021-11-14T14:16:01.034Z"
   },
   {
    "duration": 72,
    "start_time": "2021-11-14T14:16:01.722Z"
   },
   {
    "duration": 287,
    "start_time": "2021-11-14T14:16:01.795Z"
   },
   {
    "duration": 327,
    "start_time": "2021-11-14T14:16:02.085Z"
   },
   {
    "duration": 14,
    "start_time": "2021-11-14T14:16:02.413Z"
   },
   {
    "duration": 1021,
    "start_time": "2021-11-14T14:16:02.429Z"
   },
   {
    "duration": 1030,
    "start_time": "2021-11-14T14:16:03.451Z"
   },
   {
    "duration": 37,
    "start_time": "2021-11-14T14:16:04.482Z"
   },
   {
    "duration": 8,
    "start_time": "2021-11-14T14:16:04.521Z"
   },
   {
    "duration": 5,
    "start_time": "2021-11-14T14:16:04.531Z"
   },
   {
    "duration": 7,
    "start_time": "2021-11-14T14:16:04.538Z"
   },
   {
    "duration": 15,
    "start_time": "2021-11-14T14:16:04.547Z"
   },
   {
    "duration": 2,
    "start_time": "2021-11-14T14:16:04.564Z"
   },
   {
    "duration": 6,
    "start_time": "2021-11-14T14:16:04.568Z"
   },
   {
    "duration": 5,
    "start_time": "2021-11-14T14:16:04.575Z"
   },
   {
    "duration": 2,
    "start_time": "2021-11-14T14:16:04.608Z"
   },
   {
    "duration": 11,
    "start_time": "2021-11-14T14:16:04.613Z"
   },
   {
    "duration": 85,
    "start_time": "2021-11-14T14:16:04.625Z"
   },
   {
    "duration": 94,
    "start_time": "2021-11-14T14:16:04.713Z"
   },
   {
    "duration": 4,
    "start_time": "2021-11-14T14:16:04.809Z"
   },
   {
    "duration": 5,
    "start_time": "2021-11-14T14:16:04.815Z"
   },
   {
    "duration": 78195,
    "start_time": "2021-11-14T14:16:04.821Z"
   },
   {
    "duration": 3,
    "start_time": "2021-11-14T14:17:23.018Z"
   },
   {
    "duration": 2469,
    "start_time": "2021-11-14T14:17:23.022Z"
   },
   {
    "duration": 5,
    "start_time": "2021-11-14T14:17:25.492Z"
   },
   {
    "duration": 17,
    "start_time": "2021-11-14T14:17:25.499Z"
   },
   {
    "duration": 18797,
    "start_time": "2021-11-14T14:17:25.518Z"
   },
   {
    "duration": 3,
    "start_time": "2021-11-14T14:17:44.317Z"
   },
   {
    "duration": 491,
    "start_time": "2021-11-14T14:17:44.321Z"
   },
   {
    "duration": 4,
    "start_time": "2021-11-14T14:17:44.814Z"
   },
   {
    "duration": 24,
    "start_time": "2021-11-14T14:17:44.819Z"
   },
   {
    "duration": 31573,
    "start_time": "2021-11-14T14:17:44.845Z"
   },
   {
    "duration": 87,
    "start_time": "2021-11-14T14:18:16.420Z"
   },
   {
    "duration": 1400,
    "start_time": "2021-11-14T14:18:16.509Z"
   },
   {
    "duration": 99,
    "start_time": "2021-11-14T14:18:17.911Z"
   },
   {
    "duration": 99,
    "start_time": "2021-11-14T14:18:18.011Z"
   },
   {
    "duration": 96,
    "start_time": "2021-11-14T14:18:18.114Z"
   },
   {
    "duration": 332,
    "start_time": "2021-11-14T14:18:18.212Z"
   },
   {
    "duration": 6,
    "start_time": "2021-11-14T14:18:18.545Z"
   },
   {
    "duration": 178,
    "start_time": "2021-11-14T14:18:18.553Z"
   },
   {
    "duration": 8,
    "start_time": "2021-11-14T14:18:18.733Z"
   },
   {
    "duration": 212,
    "start_time": "2021-11-14T14:18:18.742Z"
   },
   {
    "duration": 7,
    "start_time": "2021-11-14T14:18:18.955Z"
   },
   {
    "duration": 217,
    "start_time": "2021-11-14T14:18:18.964Z"
   },
   {
    "duration": 26,
    "start_time": "2021-11-14T14:18:19.182Z"
   },
   {
    "duration": 324,
    "start_time": "2021-11-14T14:18:19.210Z"
   },
   {
    "duration": 138,
    "start_time": "2021-11-14T14:44:53.952Z"
   },
   {
    "duration": 87,
    "start_time": "2021-11-14T14:52:52.518Z"
   },
   {
    "duration": 1558,
    "start_time": "2021-11-16T11:56:41.094Z"
   },
   {
    "duration": 47,
    "start_time": "2021-11-16T11:56:42.654Z"
   },
   {
    "duration": 28,
    "start_time": "2021-11-16T11:56:42.707Z"
   },
   {
    "duration": 8,
    "start_time": "2021-11-16T11:56:42.739Z"
   },
   {
    "duration": 4,
    "start_time": "2021-11-16T11:56:42.750Z"
   },
   {
    "duration": 8,
    "start_time": "2021-11-16T11:56:42.756Z"
   },
   {
    "duration": 61,
    "start_time": "2021-11-16T11:56:42.768Z"
   },
   {
    "duration": 1041,
    "start_time": "2021-11-16T11:56:42.832Z"
   },
   {
    "duration": 101,
    "start_time": "2021-11-16T11:56:43.875Z"
   },
   {
    "duration": 474,
    "start_time": "2021-11-16T11:56:43.978Z"
   },
   {
    "duration": 501,
    "start_time": "2021-11-16T11:56:44.455Z"
   },
   {
    "duration": 18,
    "start_time": "2021-11-16T11:56:44.958Z"
   },
   {
    "duration": 1670,
    "start_time": "2021-11-16T11:56:44.979Z"
   },
   {
    "duration": 1716,
    "start_time": "2021-11-16T11:56:46.651Z"
   },
   {
    "duration": 61,
    "start_time": "2021-11-16T11:56:48.370Z"
   },
   {
    "duration": 13,
    "start_time": "2021-11-16T11:56:48.433Z"
   },
   {
    "duration": 8,
    "start_time": "2021-11-16T11:56:48.448Z"
   },
   {
    "duration": 11,
    "start_time": "2021-11-16T11:56:48.459Z"
   },
   {
    "duration": 57,
    "start_time": "2021-11-16T11:56:48.472Z"
   },
   {
    "duration": 4,
    "start_time": "2021-11-16T11:56:48.531Z"
   },
   {
    "duration": 11,
    "start_time": "2021-11-16T11:56:48.537Z"
   },
   {
    "duration": 8,
    "start_time": "2021-11-16T11:56:48.550Z"
   },
   {
    "duration": 5,
    "start_time": "2021-11-16T11:56:48.560Z"
   },
   {
    "duration": 62,
    "start_time": "2021-11-16T11:56:48.567Z"
   },
   {
    "duration": 92,
    "start_time": "2021-11-16T11:56:48.638Z"
   },
   {
    "duration": 94,
    "start_time": "2021-11-16T11:56:48.736Z"
   },
   {
    "duration": 11,
    "start_time": "2021-11-16T11:56:48.834Z"
   },
   {
    "duration": 10,
    "start_time": "2021-11-16T11:56:48.847Z"
   },
   {
    "duration": 1557,
    "start_time": "2021-11-16T11:58:23.887Z"
   },
   {
    "duration": 47,
    "start_time": "2021-11-16T11:58:25.447Z"
   },
   {
    "duration": 16,
    "start_time": "2021-11-16T11:58:25.497Z"
   },
   {
    "duration": 8,
    "start_time": "2021-11-16T11:58:25.530Z"
   },
   {
    "duration": 13,
    "start_time": "2021-11-16T11:58:25.541Z"
   },
   {
    "duration": 19,
    "start_time": "2021-11-16T11:58:25.556Z"
   },
   {
    "duration": 12,
    "start_time": "2021-11-16T11:58:25.578Z"
   },
   {
    "duration": 1021,
    "start_time": "2021-11-16T11:58:25.593Z"
   },
   {
    "duration": 85,
    "start_time": "2021-11-16T11:58:26.618Z"
   },
   {
    "duration": 473,
    "start_time": "2021-11-16T11:58:26.706Z"
   },
   {
    "duration": 518,
    "start_time": "2021-11-16T11:58:27.181Z"
   },
   {
    "duration": 34,
    "start_time": "2021-11-16T11:58:27.702Z"
   },
   {
    "duration": 1692,
    "start_time": "2021-11-16T11:58:27.739Z"
   },
   {
    "duration": 1631,
    "start_time": "2021-11-16T11:58:29.433Z"
   },
   {
    "duration": 176,
    "start_time": "2021-11-16T11:58:31.067Z"
   },
   {
    "duration": 20,
    "start_time": "2021-11-16T11:58:31.246Z"
   },
   {
    "duration": 6,
    "start_time": "2021-11-16T11:58:31.268Z"
   },
   {
    "duration": 52,
    "start_time": "2021-11-16T11:58:31.277Z"
   },
   {
    "duration": 26,
    "start_time": "2021-11-16T11:58:31.332Z"
   },
   {
    "duration": 4,
    "start_time": "2021-11-16T11:58:31.360Z"
   },
   {
    "duration": 8,
    "start_time": "2021-11-16T11:58:31.366Z"
   },
   {
    "duration": 8,
    "start_time": "2021-11-16T11:58:31.376Z"
   },
   {
    "duration": 43,
    "start_time": "2021-11-16T11:58:31.386Z"
   },
   {
    "duration": 201,
    "start_time": "2021-11-16T11:58:31.431Z"
   },
   {
    "duration": 99,
    "start_time": "2021-11-16T11:58:31.635Z"
   },
   {
    "duration": 99,
    "start_time": "2021-11-16T11:58:31.739Z"
   },
   {
    "duration": 14,
    "start_time": "2021-11-16T11:58:31.844Z"
   },
   {
    "duration": 9,
    "start_time": "2021-11-16T11:58:31.861Z"
   },
   {
    "duration": 156678,
    "start_time": "2021-11-16T11:58:31.872Z"
   },
   {
    "duration": 5,
    "start_time": "2021-11-16T12:01:08.552Z"
   },
   {
    "duration": 4787,
    "start_time": "2021-11-16T12:01:08.561Z"
   },
   {
    "duration": 6,
    "start_time": "2021-11-16T12:01:13.350Z"
   },
   {
    "duration": 5,
    "start_time": "2021-11-16T12:01:13.358Z"
   },
   {
    "duration": 44969,
    "start_time": "2021-11-16T12:01:13.366Z"
   },
   {
    "duration": 4,
    "start_time": "2021-11-16T12:01:58.338Z"
   },
   {
    "duration": 1787,
    "start_time": "2021-11-16T12:01:58.344Z"
   },
   {
    "duration": 6,
    "start_time": "2021-11-16T12:02:00.134Z"
   },
   {
    "duration": 20,
    "start_time": "2021-11-16T12:02:00.143Z"
   },
   {
    "duration": 105364,
    "start_time": "2021-11-16T12:02:00.166Z"
   },
   {
    "duration": 5,
    "start_time": "2021-11-16T12:03:45.534Z"
   },
   {
    "duration": 7089,
    "start_time": "2021-11-16T12:03:45.542Z"
   },
   {
    "duration": 102,
    "start_time": "2021-11-16T12:03:52.634Z"
   },
   {
    "duration": 98,
    "start_time": "2021-11-16T12:03:52.739Z"
   },
   {
    "duration": 99,
    "start_time": "2021-11-16T12:03:52.931Z"
   },
   {
    "duration": 398,
    "start_time": "2021-11-16T12:03:53.035Z"
   },
   {
    "duration": 21,
    "start_time": "2021-11-16T12:03:53.436Z"
   },
   {
    "duration": 331,
    "start_time": "2021-11-16T12:03:53.460Z"
   },
   {
    "duration": 38,
    "start_time": "2021-11-16T12:03:53.794Z"
   },
   {
    "duration": 330,
    "start_time": "2021-11-16T12:03:53.834Z"
   },
   {
    "duration": 69,
    "start_time": "2021-11-16T12:03:54.166Z"
   },
   {
    "duration": 333,
    "start_time": "2021-11-16T12:03:54.237Z"
   },
   {
    "duration": 58,
    "start_time": "2021-11-16T12:03:54.573Z"
   },
   {
    "duration": 395,
    "start_time": "2021-11-16T12:03:54.634Z"
   },
   {
    "duration": 5,
    "start_time": "2021-11-16T12:03:55.213Z"
   },
   {
    "duration": 66,
    "start_time": "2021-11-16T12:03:55.221Z"
   },
   {
    "duration": 11,
    "start_time": "2021-11-16T12:03:55.290Z"
   },
   {
    "duration": 26,
    "start_time": "2021-11-16T12:03:55.303Z"
   },
   {
    "duration": 17,
    "start_time": "2021-11-16T12:03:55.331Z"
   },
   {
    "duration": 27,
    "start_time": "2021-11-16T12:03:55.350Z"
   },
   {
    "duration": 20,
    "start_time": "2021-11-16T12:03:55.381Z"
   },
   {
    "duration": 1078,
    "start_time": "2021-11-16T12:03:55.404Z"
   },
   {
    "duration": 19,
    "start_time": "2021-11-16T12:03:56.484Z"
   },
   {
    "duration": 474,
    "start_time": "2021-11-16T12:03:56.530Z"
   },
   {
    "duration": 543,
    "start_time": "2021-11-16T12:03:57.007Z"
   },
   {
    "duration": 22,
    "start_time": "2021-11-16T12:03:57.553Z"
   },
   {
    "duration": 1698,
    "start_time": "2021-11-16T12:03:57.577Z"
   },
   {
    "duration": 1786,
    "start_time": "2021-11-16T12:03:59.278Z"
   },
   {
    "duration": 179,
    "start_time": "2021-11-16T12:04:01.066Z"
   },
   {
    "duration": 20,
    "start_time": "2021-11-16T12:04:01.247Z"
   },
   {
    "duration": 6,
    "start_time": "2021-11-16T12:04:01.269Z"
   },
   {
    "duration": 31,
    "start_time": "2021-11-16T12:04:01.277Z"
   },
   {
    "duration": 17,
    "start_time": "2021-11-16T12:04:01.333Z"
   },
   {
    "duration": 4,
    "start_time": "2021-11-16T12:04:01.355Z"
   },
   {
    "duration": 8,
    "start_time": "2021-11-16T12:04:01.362Z"
   },
   {
    "duration": 11,
    "start_time": "2021-11-16T12:04:01.372Z"
   },
   {
    "duration": 44,
    "start_time": "2021-11-16T12:04:01.385Z"
   },
   {
    "duration": 298,
    "start_time": "2021-11-16T12:04:01.432Z"
   },
   {
    "duration": 96,
    "start_time": "2021-11-16T12:04:01.734Z"
   },
   {
    "duration": 8,
    "start_time": "2021-11-16T12:04:01.833Z"
   },
   {
    "duration": 85,
    "start_time": "2021-11-16T12:04:01.844Z"
   },
   {
    "duration": 6,
    "start_time": "2021-11-16T12:04:01.932Z"
   },
   {
    "duration": 152249,
    "start_time": "2021-11-16T12:04:01.941Z"
   },
   {
    "duration": 4,
    "start_time": "2021-11-16T12:06:34.192Z"
   },
   {
    "duration": 5428,
    "start_time": "2021-11-16T12:06:34.198Z"
   },
   {
    "duration": 6,
    "start_time": "2021-11-16T12:06:39.628Z"
   },
   {
    "duration": 7,
    "start_time": "2021-11-16T12:06:39.636Z"
   },
   {
    "duration": 102596,
    "start_time": "2021-11-16T12:06:39.645Z"
   },
   {
    "duration": 87,
    "start_time": "2021-11-16T12:08:22.243Z"
   },
   {
    "duration": 2807,
    "start_time": "2021-11-16T12:08:22.332Z"
   },
   {
    "duration": 6,
    "start_time": "2021-11-16T12:08:25.141Z"
   },
   {
    "duration": 80,
    "start_time": "2021-11-16T12:08:25.149Z"
   },
   {
    "duration": 104602,
    "start_time": "2021-11-16T12:08:25.232Z"
   },
   {
    "duration": 4,
    "start_time": "2021-11-16T12:10:09.836Z"
   },
   {
    "duration": 6595,
    "start_time": "2021-11-16T12:10:09.842Z"
   },
   {
    "duration": 98,
    "start_time": "2021-11-16T12:10:16.439Z"
   },
   {
    "duration": 96,
    "start_time": "2021-11-16T12:10:16.540Z"
   },
   {
    "duration": 101,
    "start_time": "2021-11-16T12:10:16.729Z"
   },
   {
    "duration": 8,
    "start_time": "2021-11-16T12:10:16.833Z"
   },
   {
    "duration": 12,
    "start_time": "2021-11-16T12:12:02.592Z"
   },
   {
    "duration": 299,
    "start_time": "2021-11-16T12:12:03.623Z"
   },
   {
    "duration": 428,
    "start_time": "2021-11-16T12:12:13.312Z"
   },
   {
    "duration": 366,
    "start_time": "2021-11-16T12:12:16.279Z"
   },
   {
    "duration": 16,
    "start_time": "2021-11-16T12:12:34.408Z"
   },
   {
    "duration": 397,
    "start_time": "2021-11-19T13:50:18.302Z"
   },
   {
    "duration": 1580,
    "start_time": "2021-11-19T13:51:19.612Z"
   },
   {
    "duration": 50,
    "start_time": "2021-11-19T13:51:21.195Z"
   },
   {
    "duration": 17,
    "start_time": "2021-11-19T13:51:21.248Z"
   },
   {
    "duration": 10,
    "start_time": "2021-11-19T13:51:21.283Z"
   },
   {
    "duration": 5,
    "start_time": "2021-11-19T13:51:21.296Z"
   },
   {
    "duration": 14,
    "start_time": "2021-11-19T13:51:21.303Z"
   },
   {
    "duration": 11,
    "start_time": "2021-11-19T13:51:21.319Z"
   },
   {
    "duration": 1046,
    "start_time": "2021-11-19T13:51:21.332Z"
   },
   {
    "duration": 85,
    "start_time": "2021-11-19T13:51:22.381Z"
   },
   {
    "duration": 498,
    "start_time": "2021-11-19T13:51:22.483Z"
   },
   {
    "duration": 638,
    "start_time": "2021-11-19T13:51:22.984Z"
   },
   {
    "duration": 20,
    "start_time": "2021-11-19T13:51:23.625Z"
   },
   {
    "duration": 1994,
    "start_time": "2021-11-19T13:51:23.648Z"
   },
   {
    "duration": 1636,
    "start_time": "2021-11-19T13:51:25.645Z"
   },
   {
    "duration": 168,
    "start_time": "2021-11-19T13:51:27.284Z"
   },
   {
    "duration": 32,
    "start_time": "2021-11-19T13:51:27.455Z"
   },
   {
    "duration": 7,
    "start_time": "2021-11-19T13:51:27.489Z"
   },
   {
    "duration": 9,
    "start_time": "2021-11-19T13:51:27.499Z"
   },
   {
    "duration": 19,
    "start_time": "2021-11-19T13:51:27.510Z"
   },
   {
    "duration": 3,
    "start_time": "2021-11-19T13:51:27.531Z"
   },
   {
    "duration": 9,
    "start_time": "2021-11-19T13:51:27.537Z"
   },
   {
    "duration": 17,
    "start_time": "2021-11-19T13:51:27.582Z"
   },
   {
    "duration": 7,
    "start_time": "2021-11-19T13:51:27.601Z"
   },
   {
    "duration": 881,
    "start_time": "2021-11-19T13:51:27.610Z"
   },
   {
    "duration": 96,
    "start_time": "2021-11-19T13:51:28.494Z"
   },
   {
    "duration": 5,
    "start_time": "2021-11-19T13:51:28.682Z"
   },
   {
    "duration": 3,
    "start_time": "2021-11-19T13:51:28.697Z"
   },
   {
    "duration": 8,
    "start_time": "2021-11-19T13:51:28.703Z"
   },
   {
    "duration": 178657,
    "start_time": "2021-11-19T13:51:28.713Z"
   },
   {
    "duration": 5,
    "start_time": "2021-11-19T13:54:27.373Z"
   },
   {
    "duration": 17360,
    "start_time": "2021-11-19T13:54:27.380Z"
   },
   {
    "duration": 5,
    "start_time": "2021-11-19T13:54:44.743Z"
   },
   {
    "duration": 6,
    "start_time": "2021-11-19T13:54:44.750Z"
   },
   {
    "duration": 708644,
    "start_time": "2021-11-19T13:54:44.759Z"
   },
   {
    "duration": 340,
    "start_time": "2021-11-19T14:06:33.065Z"
   },
   {
    "duration": 332,
    "start_time": "2021-11-19T14:06:33.075Z"
   },
   {
    "duration": 327,
    "start_time": "2021-11-19T14:06:33.081Z"
   },
   {
    "duration": 319,
    "start_time": "2021-11-19T14:06:33.090Z"
   },
   {
    "duration": 313,
    "start_time": "2021-11-19T14:06:33.098Z"
   },
   {
    "duration": 298,
    "start_time": "2021-11-19T14:06:33.115Z"
   },
   {
    "duration": 257,
    "start_time": "2021-11-19T14:06:33.157Z"
   },
   {
    "duration": 221,
    "start_time": "2021-11-19T14:06:33.195Z"
   },
   {
    "duration": 188,
    "start_time": "2021-11-19T14:06:33.229Z"
   },
   {
    "duration": 158,
    "start_time": "2021-11-19T14:06:33.260Z"
   },
   {
    "duration": 124,
    "start_time": "2021-11-19T14:06:33.295Z"
   },
   {
    "duration": 93,
    "start_time": "2021-11-19T14:06:33.328Z"
   },
   {
    "duration": 75,
    "start_time": "2021-11-19T14:06:33.347Z"
   },
   {
    "duration": 73,
    "start_time": "2021-11-19T14:06:33.350Z"
   },
   {
    "duration": 66,
    "start_time": "2021-11-19T14:06:33.359Z"
   },
   {
    "duration": 64,
    "start_time": "2021-11-19T14:06:33.362Z"
   },
   {
    "duration": 62,
    "start_time": "2021-11-19T14:06:33.365Z"
   },
   {
    "duration": 56,
    "start_time": "2021-11-19T14:06:33.373Z"
   },
   {
    "duration": 51,
    "start_time": "2021-11-19T14:06:33.379Z"
   },
   {
    "duration": 49,
    "start_time": "2021-11-19T14:06:33.382Z"
   },
   {
    "duration": 48,
    "start_time": "2021-11-19T14:06:33.385Z"
   },
   {
    "duration": 16,
    "start_time": "2021-11-19T14:08:27.738Z"
   },
   {
    "duration": 6,
    "start_time": "2021-11-19T14:08:41.464Z"
   },
   {
    "duration": 5,
    "start_time": "2021-11-19T14:08:57.332Z"
   },
   {
    "duration": 9,
    "start_time": "2021-11-19T14:09:55.587Z"
   },
   {
    "duration": 6,
    "start_time": "2021-11-19T14:10:42.804Z"
   },
   {
    "duration": 320,
    "start_time": "2021-11-19T14:11:13.723Z"
   },
   {
    "duration": 6,
    "start_time": "2021-11-19T14:11:30.883Z"
   },
   {
    "duration": 4,
    "start_time": "2021-11-19T14:11:41.460Z"
   },
   {
    "duration": 4,
    "start_time": "2021-11-19T14:14:47.761Z"
   },
   {
    "duration": 313,
    "start_time": "2021-11-19T14:14:49.152Z"
   },
   {
    "duration": 6,
    "start_time": "2021-11-19T14:14:56.752Z"
   },
   {
    "duration": 4,
    "start_time": "2021-11-19T14:15:09.383Z"
   },
   {
    "duration": 407,
    "start_time": "2021-11-19T14:15:10.047Z"
   },
   {
    "duration": 334,
    "start_time": "2021-11-19T14:15:44.449Z"
   },
   {
    "duration": 170,
    "start_time": "2021-11-19T14:16:21.514Z"
   },
   {
    "duration": 14,
    "start_time": "2021-11-19T14:16:54.017Z"
   },
   {
    "duration": 657,
    "start_time": "2021-11-19T14:17:02.249Z"
   },
   {
    "duration": 6,
    "start_time": "2021-11-19T14:17:19.673Z"
   },
   {
    "duration": 658,
    "start_time": "2021-11-19T14:17:22.674Z"
   },
   {
    "duration": 6,
    "start_time": "2021-11-19T14:17:29.736Z"
   },
   {
    "duration": 650,
    "start_time": "2021-11-19T14:17:31.058Z"
   },
   {
    "duration": 6,
    "start_time": "2021-11-19T14:17:39.596Z"
   },
   {
    "duration": 10,
    "start_time": "2021-11-19T14:17:49.609Z"
   },
   {
    "duration": 297,
    "start_time": "2021-11-19T14:17:53.737Z"
   },
   {
    "duration": 241,
    "start_time": "2021-11-19T14:19:30.346Z"
   },
   {
    "duration": 14,
    "start_time": "2021-11-19T14:19:31.612Z"
   },
   {
    "duration": 6,
    "start_time": "2021-11-19T14:19:32.508Z"
   },
   {
    "duration": 330,
    "start_time": "2021-11-19T14:19:50.189Z"
   },
   {
    "duration": 4521,
    "start_time": "2021-11-19T14:20:51.877Z"
   },
   {
    "duration": 14,
    "start_time": "2021-11-19T14:21:00.569Z"
   },
   {
    "duration": 7,
    "start_time": "2021-11-19T14:21:02.244Z"
   },
   {
    "duration": 6,
    "start_time": "2021-11-19T14:21:25.822Z"
   },
   {
    "duration": 5,
    "start_time": "2021-11-19T14:21:30.021Z"
   },
   {
    "duration": 9,
    "start_time": "2021-11-19T14:21:42.302Z"
   },
   {
    "duration": 17,
    "start_time": "2021-11-19T14:22:11.687Z"
   },
   {
    "duration": 6,
    "start_time": "2021-11-19T14:22:16.999Z"
   },
   {
    "duration": 1222,
    "start_time": "2021-11-19T14:22:30.294Z"
   },
   {
    "duration": 5,
    "start_time": "2021-11-19T14:22:34.631Z"
   },
   {
    "duration": 675,
    "start_time": "2021-11-19T14:22:40.511Z"
   },
   {
    "duration": 5,
    "start_time": "2021-11-19T14:23:14.509Z"
   },
   {
    "duration": 3,
    "start_time": "2021-11-19T14:23:16.167Z"
   },
   {
    "duration": 4540,
    "start_time": "2021-11-19T14:23:16.742Z"
   },
   {
    "duration": 13,
    "start_time": "2021-11-19T14:23:23.622Z"
   },
   {
    "duration": 5,
    "start_time": "2021-11-19T14:23:26.055Z"
   },
   {
    "duration": 328,
    "start_time": "2021-11-19T14:23:34.951Z"
   },
   {
    "duration": 14,
    "start_time": "2021-11-19T14:24:22.352Z"
   },
   {
    "duration": 17,
    "start_time": "2021-11-19T14:24:25.312Z"
   },
   {
    "duration": 414,
    "start_time": "2021-11-19T14:25:27.009Z"
   },
   {
    "duration": 7,
    "start_time": "2021-11-19T14:26:04.873Z"
   },
   {
    "duration": 3355830,
    "start_time": "2021-11-19T14:26:12.361Z"
   },
   {
    "duration": 67139,
    "start_time": "2021-11-19T15:22:08.194Z"
   },
   {
    "duration": 311,
    "start_time": "2021-11-19T15:23:15.337Z"
   },
   {
    "duration": 6,
    "start_time": "2021-11-19T16:07:45.244Z"
   },
   {
    "duration": 2325302,
    "start_time": "2021-11-19T16:07:53.507Z"
   },
   {
    "duration": 84,
    "start_time": "2021-11-21T12:54:46.952Z"
   },
   {
    "duration": 1072,
    "start_time": "2021-11-21T12:55:49.329Z"
   },
   {
    "duration": 34,
    "start_time": "2021-11-21T12:55:50.403Z"
   },
   {
    "duration": 10,
    "start_time": "2021-11-21T12:55:52.481Z"
   },
   {
    "duration": 6,
    "start_time": "2021-11-21T12:55:53.688Z"
   },
   {
    "duration": 3,
    "start_time": "2021-11-21T12:55:54.133Z"
   },
   {
    "duration": 4,
    "start_time": "2021-11-21T12:55:54.801Z"
   },
   {
    "duration": 5,
    "start_time": "2021-11-21T12:55:55.368Z"
   },
   {
    "duration": 585,
    "start_time": "2021-11-21T12:55:55.849Z"
   },
   {
    "duration": 55,
    "start_time": "2021-11-21T12:55:56.807Z"
   },
   {
    "duration": 229,
    "start_time": "2021-11-21T12:55:57.169Z"
   },
   {
    "duration": 253,
    "start_time": "2021-11-21T12:55:57.543Z"
   },
   {
    "duration": 11,
    "start_time": "2021-11-21T12:55:58.489Z"
   },
   {
    "duration": 914,
    "start_time": "2021-11-21T12:55:58.875Z"
   },
   {
    "duration": 910,
    "start_time": "2021-11-21T12:55:59.791Z"
   },
   {
    "duration": 4,
    "start_time": "2021-11-21T12:56:03.783Z"
   },
   {
    "duration": 86,
    "start_time": "2021-11-21T12:58:34.035Z"
   },
   {
    "duration": 3,
    "start_time": "2021-11-21T12:58:34.573Z"
   },
   {
    "duration": 3,
    "start_time": "2021-11-21T12:58:40.994Z"
   },
   {
    "duration": 449,
    "start_time": "2021-11-21T13:00:00.902Z"
   },
   {
    "duration": 6,
    "start_time": "2021-11-21T13:00:49.139Z"
   },
   {
    "duration": 2,
    "start_time": "2021-11-21T13:01:01.854Z"
   },
   {
    "duration": 264,
    "start_time": "2021-11-21T13:01:04.615Z"
   },
   {
    "duration": 5,
    "start_time": "2021-11-21T13:01:53.577Z"
   },
   {
    "duration": 159286,
    "start_time": "2021-11-21T13:02:03.703Z"
   },
   {
    "duration": 4,
    "start_time": "2021-11-21T13:05:57.133Z"
   },
   {
    "duration": 249,
    "start_time": "2021-11-21T13:18:12.750Z"
   },
   {
    "duration": 10096,
    "start_time": "2021-11-21T13:18:43.208Z"
   },
   {
    "duration": 291,
    "start_time": "2021-11-21T13:24:00.366Z"
   },
   {
    "duration": 2439371,
    "start_time": "2021-11-21T13:24:10.770Z"
   },
   {
    "duration": 44674,
    "start_time": "2021-11-21T14:04:50.142Z"
   },
   {
    "duration": 169,
    "start_time": "2021-11-21T14:05:34.818Z"
   },
   {
    "duration": 18,
    "start_time": "2021-11-21T14:05:34.990Z"
   },
   {
    "duration": 240,
    "start_time": "2021-11-21T14:05:35.010Z"
   },
   {
    "duration": -122,
    "start_time": "2021-11-21T14:05:35.374Z"
   },
   {
    "duration": 3159,
    "start_time": "2021-11-21T17:22:28.155Z"
   },
   {
    "duration": 21,
    "start_time": "2021-11-21T17:22:42.761Z"
   },
   {
    "duration": 148,
    "start_time": "2021-11-21T17:42:43.683Z"
   },
   {
    "duration": 148,
    "start_time": "2021-11-21T17:43:38.702Z"
   },
   {
    "duration": 8,
    "start_time": "2021-11-21T17:43:42.199Z"
   },
   {
    "duration": 154,
    "start_time": "2021-11-21T17:43:42.942Z"
   },
   {
    "duration": 34,
    "start_time": "2021-11-21T17:44:00.054Z"
   },
   {
    "duration": 157,
    "start_time": "2021-11-21T17:44:01.718Z"
   },
   {
    "duration": 8,
    "start_time": "2021-11-21T17:44:22.238Z"
   },
   {
    "duration": 21,
    "start_time": "2021-11-21T17:50:52.139Z"
   },
   {
    "duration": 357414,
    "start_time": "2021-11-21T17:52:09.855Z"
   },
   {
    "duration": 80766,
    "start_time": "2021-11-21T17:58:07.271Z"
   },
   {
    "duration": 82345,
    "start_time": "2021-11-21T18:00:41.544Z"
   },
   {
    "duration": 18,
    "start_time": "2021-11-21T18:02:03.891Z"
   },
   {
    "duration": 3,
    "start_time": "2021-11-21T18:03:04.944Z"
   },
   {
    "duration": 253,
    "start_time": "2021-11-21T18:03:45.680Z"
   },
   {
    "duration": 266,
    "start_time": "2021-11-21T18:03:54.379Z"
   },
   {
    "duration": 43948,
    "start_time": "2021-11-21T18:04:04.960Z"
   },
   {
    "duration": 3,
    "start_time": "2021-11-21T18:05:35.433Z"
   },
   {
    "duration": 4,
    "start_time": "2021-11-21T18:05:50.745Z"
   },
   {
    "duration": 223176,
    "start_time": "2021-11-21T18:07:02.387Z"
   },
   {
    "duration": 18,
    "start_time": "2021-11-21T18:10:45.565Z"
   },
   {
    "duration": 160,
    "start_time": "2021-11-21T18:10:45.585Z"
   },
   {
    "duration": 4,
    "start_time": "2021-11-21T18:12:27.537Z"
   },
   {
    "duration": 77,
    "start_time": "2021-11-21T18:13:29.272Z"
   },
   {
    "duration": 80,
    "start_time": "2021-11-21T18:14:06.001Z"
   },
   {
    "duration": 71,
    "start_time": "2021-11-21T18:14:17.185Z"
   },
   {
    "duration": 3,
    "start_time": "2021-11-21T18:14:24.379Z"
   },
   {
    "duration": 4,
    "start_time": "2021-11-21T18:14:32.314Z"
   },
   {
    "duration": 3265,
    "start_time": "2021-11-21T18:15:08.942Z"
   },
   {
    "duration": 209766,
    "start_time": "2021-11-21T18:15:12.208Z"
   },
   {
    "duration": 3,
    "start_time": "2021-11-21T18:18:41.976Z"
   },
   {
    "duration": 4,
    "start_time": "2021-11-21T18:27:13.559Z"
   },
   {
    "duration": 35,
    "start_time": "2021-11-21T18:27:13.564Z"
   },
   {
    "duration": 7,
    "start_time": "2021-11-21T18:27:13.601Z"
   },
   {
    "duration": 6,
    "start_time": "2021-11-21T18:27:13.610Z"
   },
   {
    "duration": 2,
    "start_time": "2021-11-21T18:27:13.618Z"
   },
   {
    "duration": 5,
    "start_time": "2021-11-21T18:27:13.622Z"
   },
   {
    "duration": 5,
    "start_time": "2021-11-21T18:27:13.629Z"
   },
   {
    "duration": 692,
    "start_time": "2021-11-21T18:27:13.636Z"
   },
   {
    "duration": 11,
    "start_time": "2021-11-21T18:27:14.330Z"
   },
   {
    "duration": 259,
    "start_time": "2021-11-21T18:27:14.342Z"
   },
   {
    "duration": 265,
    "start_time": "2021-11-21T18:27:14.603Z"
   },
   {
    "duration": 19,
    "start_time": "2021-11-21T18:27:14.869Z"
   },
   {
    "duration": 968,
    "start_time": "2021-11-21T18:27:14.890Z"
   },
   {
    "duration": 861,
    "start_time": "2021-11-21T18:27:15.859Z"
   },
   {
    "duration": 4,
    "start_time": "2021-11-21T18:27:16.721Z"
   },
   {
    "duration": 5,
    "start_time": "2021-11-21T18:27:16.726Z"
   },
   {
    "duration": 152557,
    "start_time": "2021-11-21T18:27:16.733Z"
   },
   {
    "duration": 10298,
    "start_time": "2021-11-21T18:29:49.292Z"
   },
   {
    "duration": 213819,
    "start_time": "2021-11-21T18:29:59.593Z"
   },
   {
    "duration": 3,
    "start_time": "2021-11-21T18:33:33.414Z"
   },
   {
    "duration": 2391803,
    "start_time": "2021-11-21T18:33:33.419Z"
   },
   {
    "duration": 34635,
    "start_time": "2021-11-21T19:13:25.224Z"
   },
   {
    "duration": 211959,
    "start_time": "2021-11-21T19:13:59.860Z"
   },
   {
    "duration": 3,
    "start_time": "2021-11-21T19:17:31.821Z"
   },
   {
    "duration": 364382,
    "start_time": "2021-11-21T19:17:31.825Z"
   },
   {
    "duration": 80274,
    "start_time": "2021-11-21T19:23:36.209Z"
   },
   {
    "duration": 5,
    "start_time": "2021-11-21T19:24:56.487Z"
   },
   {
    "duration": 340,
    "start_time": "2021-11-21T19:24:56.494Z"
   },
   {
    "duration": 10,
    "start_time": "2021-11-21T19:24:56.835Z"
   },
   {
    "duration": 172,
    "start_time": "2021-11-21T19:24:56.847Z"
   },
   {
    "duration": 236,
    "start_time": "2021-11-21T19:24:57.021Z"
   },
   {
    "duration": -21,
    "start_time": "2021-11-21T19:24:57.280Z"
   },
   {
    "duration": -23,
    "start_time": "2021-11-21T19:24:57.283Z"
   },
   {
    "duration": -26,
    "start_time": "2021-11-21T19:24:57.287Z"
   },
   {
    "duration": -30,
    "start_time": "2021-11-21T19:24:57.291Z"
   },
   {
    "duration": -32,
    "start_time": "2021-11-21T19:24:57.294Z"
   },
   {
    "duration": -35,
    "start_time": "2021-11-21T19:24:57.298Z"
   },
   {
    "duration": -37,
    "start_time": "2021-11-21T19:24:57.301Z"
   },
   {
    "duration": -39,
    "start_time": "2021-11-21T19:24:57.305Z"
   },
   {
    "duration": 4,
    "start_time": "2021-11-21T19:26:08.051Z"
   },
   {
    "duration": 232,
    "start_time": "2021-11-21T19:26:23.531Z"
   },
   {
    "duration": 280,
    "start_time": "2021-11-21T19:26:47.939Z"
   },
   {
    "duration": 693,
    "start_time": "2021-11-21T19:27:36.030Z"
   },
   {
    "duration": 3882,
    "start_time": "2021-11-21T19:28:11.622Z"
   },
   {
    "duration": 245,
    "start_time": "2021-11-21T19:28:15.506Z"
   },
   {
    "duration": 236,
    "start_time": "2021-11-21T19:28:20.869Z"
   },
   {
    "duration": 230,
    "start_time": "2021-11-21T19:28:32.798Z"
   },
   {
    "duration": 71679,
    "start_time": "2021-11-21T19:29:43.567Z"
   },
   {
    "duration": 23,
    "start_time": "2021-11-21T19:31:08.529Z"
   },
   {
    "duration": 229,
    "start_time": "2021-11-21T19:31:11.729Z"
   },
   {
    "duration": 24,
    "start_time": "2021-11-21T19:31:15.761Z"
   },
   {
    "duration": 231,
    "start_time": "2021-11-21T19:31:20.481Z"
   },
   {
    "duration": 251,
    "start_time": "2021-11-21T19:31:31.728Z"
   },
   {
    "duration": 2,
    "start_time": "2021-11-21T19:32:10.874Z"
   },
   {
    "duration": 6,
    "start_time": "2021-11-21T19:32:14.424Z"
   },
   {
    "duration": 5,
    "start_time": "2021-11-21T19:32:21.697Z"
   },
   {
    "duration": 5,
    "start_time": "2021-11-21T19:32:24.425Z"
   },
   {
    "duration": 3,
    "start_time": "2021-11-21T19:32:28.369Z"
   },
   {
    "duration": 4,
    "start_time": "2021-11-21T19:32:28.913Z"
   },
   {
    "duration": 4,
    "start_time": "2021-11-21T19:32:41.794Z"
   },
   {
    "duration": 2,
    "start_time": "2021-11-21T19:32:44.378Z"
   },
   {
    "duration": 3,
    "start_time": "2021-11-21T19:32:47.642Z"
   },
   {
    "duration": 3,
    "start_time": "2021-11-21T19:33:29.371Z"
   },
   {
    "duration": 81,
    "start_time": "2021-11-21T19:33:30.020Z"
   },
   {
    "duration": 7,
    "start_time": "2021-11-21T19:33:44.059Z"
   },
   {
    "duration": 81,
    "start_time": "2021-11-21T19:34:54.588Z"
   },
   {
    "duration": 74,
    "start_time": "2021-11-21T19:35:24.244Z"
   },
   {
    "duration": 3,
    "start_time": "2021-11-21T19:35:58.461Z"
   },
   {
    "duration": 237,
    "start_time": "2021-11-21T19:36:02.670Z"
   },
   {
    "duration": 3,
    "start_time": "2021-11-21T19:36:26.086Z"
   },
   {
    "duration": 240,
    "start_time": "2021-11-21T19:36:28.375Z"
   },
   {
    "duration": 3,
    "start_time": "2021-11-21T19:36:38.550Z"
   },
   {
    "duration": 575,
    "start_time": "2021-11-21T19:36:39.414Z"
   },
   {
    "duration": 4,
    "start_time": "2021-11-21T19:37:05.862Z"
   },
   {
    "duration": 4,
    "start_time": "2021-11-21T19:37:11.511Z"
   },
   {
    "duration": 3,
    "start_time": "2021-11-21T19:37:13.606Z"
   },
   {
    "duration": 240,
    "start_time": "2021-11-21T19:37:15.998Z"
   },
   {
    "duration": 3,
    "start_time": "2021-11-21T19:37:46.893Z"
   },
   {
    "duration": 8,
    "start_time": "2021-11-21T19:37:47.806Z"
   },
   {
    "duration": 2,
    "start_time": "2021-11-21T19:39:13.703Z"
   },
   {
    "duration": 7,
    "start_time": "2021-11-21T19:39:16.161Z"
   },
   {
    "duration": 3397,
    "start_time": "2021-11-21T19:40:43.546Z"
   },
   {
    "duration": 3287,
    "start_time": "2021-11-21T19:41:04.601Z"
   },
   {
    "duration": 229,
    "start_time": "2021-11-21T19:41:20.291Z"
   },
   {
    "duration": 226,
    "start_time": "2021-11-21T19:41:27.841Z"
   },
   {
    "duration": 4,
    "start_time": "2021-11-21T19:41:41.873Z"
   },
   {
    "duration": 4,
    "start_time": "2021-11-21T19:42:06.548Z"
   },
   {
    "duration": 5,
    "start_time": "2021-11-21T19:42:21.108Z"
   },
   {
    "duration": 8,
    "start_time": "2021-11-21T19:42:36.339Z"
   },
   {
    "duration": 3438,
    "start_time": "2021-11-21T19:46:44.415Z"
   },
   {
    "duration": 3323,
    "start_time": "2021-11-21T19:47:12.767Z"
   },
   {
    "duration": 605,
    "start_time": "2021-11-21T19:47:21.215Z"
   },
   {
    "duration": 232,
    "start_time": "2021-11-21T19:49:54.355Z"
   },
   {
    "duration": 3,
    "start_time": "2021-11-21T19:51:06.114Z"
   },
   {
    "duration": 4,
    "start_time": "2021-11-21T19:51:13.714Z"
   },
   {
    "duration": 227,
    "start_time": "2021-11-21T19:52:14.116Z"
   },
   {
    "duration": 253,
    "start_time": "2021-11-21T19:52:56.117Z"
   },
   {
    "duration": 233,
    "start_time": "2021-11-21T19:55:01.095Z"
   },
   {
    "duration": 265,
    "start_time": "2021-11-21T19:55:40.105Z"
   },
   {
    "duration": 226,
    "start_time": "2021-11-21T19:56:12.248Z"
   },
   {
    "duration": 228,
    "start_time": "2021-11-21T19:56:48.912Z"
   },
   {
    "duration": 235,
    "start_time": "2021-11-21T19:57:15.426Z"
   },
   {
    "duration": 4,
    "start_time": "2021-11-21T19:57:48.137Z"
   },
   {
    "duration": 5,
    "start_time": "2021-11-21T19:58:18.057Z"
   },
   {
    "duration": 3,
    "start_time": "2021-11-21T19:58:40.243Z"
   },
   {
    "duration": 5,
    "start_time": "2021-11-21T19:58:44.434Z"
   },
   {
    "duration": 236,
    "start_time": "2021-11-21T19:59:00.040Z"
   },
   {
    "duration": 225,
    "start_time": "2021-11-21T19:59:43.412Z"
   },
   {
    "duration": 360,
    "start_time": "2021-11-21T20:00:28.203Z"
   },
   {
    "duration": 3,
    "start_time": "2021-11-21T20:00:32.843Z"
   },
   {
    "duration": 3,
    "start_time": "2021-11-21T20:00:45.164Z"
   },
   {
    "duration": 18,
    "start_time": "2021-11-21T20:01:11.956Z"
   },
   {
    "duration": 150,
    "start_time": "2021-11-21T20:01:19.796Z"
   },
   {
    "duration": 7,
    "start_time": "2021-11-21T20:01:24.652Z"
   },
   {
    "duration": 150,
    "start_time": "2021-11-21T20:01:27.165Z"
   },
   {
    "duration": 20,
    "start_time": "2021-11-21T20:01:30.326Z"
   },
   {
    "duration": 149,
    "start_time": "2021-11-21T20:01:32.508Z"
   },
   {
    "duration": 18,
    "start_time": "2021-11-21T20:01:37.316Z"
   },
   {
    "duration": 253,
    "start_time": "2021-11-21T20:01:46.198Z"
   },
   {
    "duration": 6,
    "start_time": "2021-11-21T20:01:47.539Z"
   },
   {
    "duration": 2,
    "start_time": "2021-11-21T20:01:48.252Z"
   },
   {
    "duration": 3,
    "start_time": "2021-11-21T20:01:49.524Z"
   },
   {
    "duration": 7,
    "start_time": "2021-11-21T20:01:50.069Z"
   },
   {
    "duration": 1151,
    "start_time": "2021-11-21T20:02:15.260Z"
   },
   {
    "duration": 37,
    "start_time": "2021-11-21T20:02:16.412Z"
   },
   {
    "duration": 12,
    "start_time": "2021-11-21T20:02:16.451Z"
   },
   {
    "duration": 23,
    "start_time": "2021-11-21T20:02:16.465Z"
   },
   {
    "duration": 3,
    "start_time": "2021-11-21T20:02:16.489Z"
   },
   {
    "duration": 5,
    "start_time": "2021-11-21T20:02:16.493Z"
   },
   {
    "duration": 6,
    "start_time": "2021-11-21T20:02:16.499Z"
   },
   {
    "duration": 624,
    "start_time": "2021-11-21T20:02:16.506Z"
   },
   {
    "duration": 71,
    "start_time": "2021-11-21T20:02:17.132Z"
   },
   {
    "duration": 249,
    "start_time": "2021-11-21T20:02:17.205Z"
   },
   {
    "duration": 276,
    "start_time": "2021-11-21T20:02:17.456Z"
   },
   {
    "duration": 11,
    "start_time": "2021-11-21T20:02:17.734Z"
   },
   {
    "duration": 924,
    "start_time": "2021-11-21T20:02:17.747Z"
   },
   {
    "duration": 948,
    "start_time": "2021-11-21T20:02:18.674Z"
   },
   {
    "duration": 5,
    "start_time": "2021-11-21T20:02:19.624Z"
   },
   {
    "duration": 5,
    "start_time": "2021-11-21T20:02:19.631Z"
   },
   {
    "duration": 150353,
    "start_time": "2021-11-21T20:02:19.638Z"
   },
   {
    "duration": 3326,
    "start_time": "2021-11-21T20:04:49.993Z"
   },
   {
    "duration": 385,
    "start_time": "2021-11-21T20:04:53.320Z"
   },
   {
    "duration": -32,
    "start_time": "2021-11-21T20:04:53.740Z"
   },
   {
    "duration": -50,
    "start_time": "2021-11-21T20:04:53.759Z"
   },
   {
    "duration": -62,
    "start_time": "2021-11-21T20:04:53.772Z"
   },
   {
    "duration": -63,
    "start_time": "2021-11-21T20:04:53.774Z"
   },
   {
    "duration": -77,
    "start_time": "2021-11-21T20:04:53.789Z"
   },
   {
    "duration": -80,
    "start_time": "2021-11-21T20:04:53.793Z"
   },
   {
    "duration": -90,
    "start_time": "2021-11-21T20:04:53.804Z"
   },
   {
    "duration": -95,
    "start_time": "2021-11-21T20:04:53.810Z"
   },
   {
    "duration": -106,
    "start_time": "2021-11-21T20:04:53.822Z"
   },
   {
    "duration": -109,
    "start_time": "2021-11-21T20:04:53.826Z"
   },
   {
    "duration": -119,
    "start_time": "2021-11-21T20:04:53.837Z"
   },
   {
    "duration": -120,
    "start_time": "2021-11-21T20:04:53.840Z"
   },
   {
    "duration": -132,
    "start_time": "2021-11-21T20:04:53.853Z"
   },
   {
    "duration": -134,
    "start_time": "2021-11-21T20:04:53.856Z"
   },
   {
    "duration": -137,
    "start_time": "2021-11-21T20:04:53.860Z"
   },
   {
    "duration": -147,
    "start_time": "2021-11-21T20:04:53.871Z"
   },
   {
    "duration": -148,
    "start_time": "2021-11-21T20:04:53.873Z"
   },
   {
    "duration": -161,
    "start_time": "2021-11-21T20:04:53.887Z"
   },
   {
    "duration": -163,
    "start_time": "2021-11-21T20:04:53.890Z"
   },
   {
    "duration": -174,
    "start_time": "2021-11-21T20:04:53.902Z"
   },
   {
    "duration": 233,
    "start_time": "2021-11-21T20:05:14.020Z"
   },
   {
    "duration": 235,
    "start_time": "2021-11-21T20:06:53.462Z"
   },
   {
    "duration": 166,
    "start_time": "2021-11-21T20:12:25.204Z"
   },
   {
    "duration": 159,
    "start_time": "2021-11-21T20:13:17.944Z"
   },
   {
    "duration": 168,
    "start_time": "2021-11-21T20:16:54.016Z"
   },
   {
    "duration": 179,
    "start_time": "2021-11-21T20:19:04.938Z"
   },
   {
    "duration": 81,
    "start_time": "2021-11-21T20:19:59.685Z"
   },
   {
    "duration": 3907,
    "start_time": "2021-11-21T20:20:32.299Z"
   },
   {
    "duration": 232,
    "start_time": "2021-11-21T20:21:18.547Z"
   },
   {
    "duration": 263,
    "start_time": "2021-11-21T20:21:26.262Z"
   },
   {
    "duration": 3307,
    "start_time": "2021-11-21T20:23:57.381Z"
   },
   {
    "duration": 8111,
    "start_time": "2021-11-21T20:24:44.677Z"
   },
   {
    "duration": 2410355,
    "start_time": "2021-11-21T20:25:11.486Z"
   },
   {
    "duration": 34847,
    "start_time": "2021-11-21T21:05:21.843Z"
   },
   {
    "duration": 210188,
    "start_time": "2021-11-21T21:05:56.692Z"
   },
   {
    "duration": 3,
    "start_time": "2021-11-21T21:09:26.881Z"
   },
   {
    "duration": 367102,
    "start_time": "2021-11-21T21:16:26.047Z"
   },
   {
    "duration": 81940,
    "start_time": "2021-11-21T21:22:33.151Z"
   },
   {
    "duration": 82247,
    "start_time": "2021-11-21T21:24:01.215Z"
   },
   {
    "duration": 80855,
    "start_time": "2021-11-21T21:25:29.528Z"
   },
   {
    "duration": 299,
    "start_time": "2021-11-21T21:28:03.834Z"
   },
   {
    "duration": 295,
    "start_time": "2021-11-21T21:28:58.492Z"
   },
   {
    "duration": 245,
    "start_time": "2021-11-21T21:29:51.468Z"
   },
   {
    "duration": 229,
    "start_time": "2021-11-21T21:30:27.125Z"
   },
   {
    "duration": 251,
    "start_time": "2021-11-21T21:31:01.485Z"
   },
   {
    "duration": 242,
    "start_time": "2021-11-21T21:33:07.232Z"
   },
   {
    "duration": 458,
    "start_time": "2021-11-21T21:35:02.912Z"
   },
   {
    "duration": 243,
    "start_time": "2021-11-21T21:35:14.345Z"
   },
   {
    "duration": 235,
    "start_time": "2021-11-21T21:36:59.204Z"
   },
   {
    "duration": 228,
    "start_time": "2021-11-21T21:37:28.851Z"
   },
   {
    "duration": 231,
    "start_time": "2021-11-21T21:43:21.312Z"
   },
   {
    "duration": 242,
    "start_time": "2021-11-21T21:43:34.279Z"
   },
   {
    "duration": 246,
    "start_time": "2021-11-21T21:43:49.841Z"
   },
   {
    "duration": 280,
    "start_time": "2021-11-21T21:43:59.521Z"
   },
   {
    "duration": 269,
    "start_time": "2021-11-21T21:44:29.658Z"
   },
   {
    "duration": 242,
    "start_time": "2021-11-21T21:44:41.874Z"
   },
   {
    "duration": 252,
    "start_time": "2021-11-21T21:44:53.233Z"
   },
   {
    "duration": 246,
    "start_time": "2021-11-21T21:45:07.147Z"
   },
   {
    "duration": 278,
    "start_time": "2021-11-21T21:45:49.800Z"
   },
   {
    "duration": 253,
    "start_time": "2021-11-21T21:46:20.500Z"
   },
   {
    "duration": 266,
    "start_time": "2021-11-21T21:46:33.195Z"
   },
   {
    "duration": 251,
    "start_time": "2021-11-21T21:46:44.548Z"
   },
   {
    "duration": 242,
    "start_time": "2021-11-21T21:46:49.348Z"
   },
   {
    "duration": 271,
    "start_time": "2021-11-21T21:49:47.822Z"
   },
   {
    "duration": 241,
    "start_time": "2021-11-21T21:49:59.710Z"
   },
   {
    "duration": 241,
    "start_time": "2021-11-21T21:50:57.824Z"
   },
   {
    "duration": 230,
    "start_time": "2021-11-21T21:51:06.599Z"
   },
   {
    "duration": 265,
    "start_time": "2021-11-21T21:51:24.057Z"
   },
   {
    "duration": 231,
    "start_time": "2021-11-21T21:51:44.239Z"
   },
   {
    "duration": 239,
    "start_time": "2021-11-21T21:52:07.705Z"
   },
   {
    "duration": 15,
    "start_time": "2021-11-21T21:52:29.457Z"
   },
   {
    "duration": 159,
    "start_time": "2021-11-21T21:52:31.520Z"
   },
   {
    "duration": 11,
    "start_time": "2021-11-21T21:52:37.826Z"
   },
   {
    "duration": 7,
    "start_time": "2021-11-21T21:53:05.290Z"
   },
   {
    "duration": 8,
    "start_time": "2021-11-21T21:53:17.961Z"
   },
   {
    "duration": 59,
    "start_time": "2021-11-21T21:53:26.429Z"
   },
   {
    "duration": 159,
    "start_time": "2021-11-21T21:53:52.730Z"
   },
   {
    "duration": 24,
    "start_time": "2021-11-21T21:54:04.801Z"
   },
   {
    "duration": 20,
    "start_time": "2021-11-21T21:54:13.969Z"
   },
   {
    "duration": 152,
    "start_time": "2021-11-21T21:54:21.618Z"
   },
   {
    "duration": 18,
    "start_time": "2021-11-21T21:54:24.937Z"
   },
   {
    "duration": 18,
    "start_time": "2021-11-21T21:54:30.706Z"
   },
   {
    "duration": 181,
    "start_time": "2021-11-21T21:54:34.561Z"
   },
   {
    "duration": 3,
    "start_time": "2021-11-21T21:54:42.834Z"
   },
   {
    "duration": 7,
    "start_time": "2021-11-21T21:54:48.546Z"
   },
   {
    "duration": 7415,
    "start_time": "2021-11-21T21:54:52.890Z"
   },
   {
    "duration": 257,
    "start_time": "2021-11-21T21:55:08.619Z"
   },
   {
    "duration": 830,
    "start_time": "2021-11-21T21:55:37.104Z"
   },
   {
    "duration": 6126,
    "start_time": "2021-11-21T21:55:44.029Z"
   },
   {
    "duration": 227,
    "start_time": "2021-11-21T21:56:27.765Z"
   },
   {
    "duration": 838,
    "start_time": "2021-11-21T21:57:10.513Z"
   },
   {
    "duration": 6014,
    "start_time": "2021-11-21T21:57:17.709Z"
   },
   {
    "duration": 240,
    "start_time": "2021-11-21T21:57:35.501Z"
   },
   {
    "duration": 589812,
    "start_time": "2021-11-21T21:58:58.712Z"
   },
   {
    "duration": 3,
    "start_time": "2021-11-21T22:09:09.351Z"
   },
   {
    "duration": 826,
    "start_time": "2021-11-21T22:09:26.815Z"
   },
   {
    "duration": 230,
    "start_time": "2021-11-21T22:09:34.941Z"
   },
   {
    "duration": 836,
    "start_time": "2021-11-21T22:11:41.968Z"
   },
   {
    "duration": 474,
    "start_time": "2021-11-21T22:12:29.858Z"
   },
   {
    "duration": 84,
    "start_time": "2021-11-21T22:13:28.349Z"
   },
   {
    "duration": 81,
    "start_time": "2021-11-21T22:13:46.029Z"
   },
   {
    "duration": 6514,
    "start_time": "2021-11-21T22:13:52.454Z"
   },
   {
    "duration": 427888,
    "start_time": "2021-11-21T22:15:09.770Z"
   },
   {
    "duration": 2,
    "start_time": "2021-11-21T22:22:17.660Z"
   },
   {
    "duration": 995,
    "start_time": "2021-11-21T22:23:11.112Z"
   },
   {
    "duration": 234,
    "start_time": "2021-11-21T22:23:21.187Z"
   },
   {
    "duration": 827,
    "start_time": "2021-11-22T19:35:41.496Z"
   }
  ],
  "kernelspec": {
   "display_name": "Python 3",
   "language": "python",
   "name": "python3"
  },
  "language_info": {
   "codemirror_mode": {
    "name": "ipython",
    "version": 3
   },
   "file_extension": ".py",
   "mimetype": "text/x-python",
   "name": "python",
   "nbconvert_exporter": "python",
   "pygments_lexer": "ipython3",
   "version": "3.7.8"
  },
  "toc": {
   "base_numbering": 1,
   "nav_menu": {},
   "number_sections": true,
   "sideBar": true,
   "skip_h1_title": true,
   "title_cell": "Содержание",
   "title_sidebar": "Contents",
   "toc_cell": true,
   "toc_position": {
    "height": "calc(100% - 180px)",
    "left": "10px",
    "top": "150px",
    "width": "366.391px"
   },
   "toc_section_display": true,
   "toc_window_display": false
  }
 },
 "nbformat": 4,
 "nbformat_minor": 2
}
