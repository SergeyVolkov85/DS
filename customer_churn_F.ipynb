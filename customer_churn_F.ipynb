{
 "cells": [
  {
   "cell_type": "markdown",
   "metadata": {},
   "source": [
    "<div style=\"background: #cceeaa; padding: 5px; border: 1px solid green; border-radius: 5px;\">\n",
    "    <font color='green'> <b><u>КОММЕНТАРИЙ РЕВЬЮЕРА</u></b>\n",
    "\n",
    "Сергей, доброго дня! рад приветствовать тебя) <br />\n",
    "<br />\n",
    "Меня зовут Николай Шавлюго. <br />И на этом этапе твоего движения к новой профессии от меня будут комментарии по написанному коду. <br />Чтобы меньше \"мусорить эфир\" и чтобы максимально наглядно отделяться от основного кода, есть предложение условиться в некоторых обозначениях:<br /> <br />\n",
    "<u><b>ТАКОЙ ШРИФТ</b></u> - всегда начало комментария <br />\n",
    "<font color='green'>такой шрифт</font> - комментарии о том, что всё ОК <br/>\n",
    "<font color='orange'>такой шрифт</font> - комментарии о том, что всё ОК по результату,<br> однако есть на что обратить внимание в плане применения техник, или есть способы сделать более короткий или быстрый код <br/>\n",
    "<font color='red'>такой шрифт</font> - комментарии о том, что есть критичный момент, влияющий на бизнес-результат проекта.<br/>\n",
    "</font><br /><br />\n",
    "<font color='green'>Моей целью является не \"уличить\" в не знании, а просто высказать сверху твоих знаний - свой опыт, что бы ты мог использовать его для своего дальнейшего успеха) И очень здорово будет, если тебе удастся задавать вопросы, да и вообще - всячески доставать меня, если я по каким-то причинам не приму проект:) При этом, из своего опыта скажу, хорошо и важно, когда переписка ревьюера и студента - сохраняется на следующие проекты и даже на будущую практическую деятельность.<br>\n",
    "<br> Я сразу же начал общаться на ты:) но если это не очень удобно, то дай знать)) <BR> В ПУТЬ!<br>"
   ]
  },
  {
   "cell_type": "markdown",
   "metadata": {
    "toc": true
   },
   "source": [
    "<h1>Содержание<span class=\"tocSkip\"></span></h1>\n",
    "<div class=\"toc\"><ul class=\"toc-item\"><li><span><a href=\"#Подготовка-данных\" data-toc-modified-id=\"Подготовка-данных-1\"><span class=\"toc-item-num\">1&nbsp;&nbsp;</span>Подготовка данных</a></span><ul class=\"toc-item\"><li><span><a href=\"#Подготовка-данных-для-машинного-обучения\" data-toc-modified-id=\"Подготовка-данных-для-машинного-обучения-1.1\"><span class=\"toc-item-num\">1.1&nbsp;&nbsp;</span>Подготовка данных для машинного обучения</a></span></li><li><span><a href=\"#Формирование-выборок:-обучающая,-валидационная,-тестовая\" data-toc-modified-id=\"Формирование-выборок:-обучающая,-валидационная,-тестовая-1.2\"><span class=\"toc-item-num\">1.2&nbsp;&nbsp;</span>Формирование выборок: обучающая, валидационная, тестовая</a></span></li><li><span><a href=\"#Масштабирование-признаков\" data-toc-modified-id=\"Масштабирование-признаков-1.3\"><span class=\"toc-item-num\">1.3&nbsp;&nbsp;</span>Масштабирование признаков</a></span></li></ul></li><li><span><a href=\"#Исследование-задачи\" data-toc-modified-id=\"Исследование-задачи-2\"><span class=\"toc-item-num\">2&nbsp;&nbsp;</span>Исследование задачи</a></span><ul class=\"toc-item\"><li><span><a href=\"#Точность-разных-моделей\" data-toc-modified-id=\"Точность-разных-моделей-2.1\"><span class=\"toc-item-num\">2.1&nbsp;&nbsp;</span>Точность разных моделей</a></span></li><li><span><a href=\"#Проверка-адекватности\" data-toc-modified-id=\"Проверка-адекватности-2.2\"><span class=\"toc-item-num\">2.2&nbsp;&nbsp;</span>Проверка адекватности</a></span></li></ul></li><li><span><a href=\"#Борьба-с-дисбалансом\" data-toc-modified-id=\"Борьба-с-дисбалансом-3\"><span class=\"toc-item-num\">3&nbsp;&nbsp;</span>Борьба с дисбалансом</a></span><ul class=\"toc-item\"><li><span><a href=\"#Обучение-моделей-на-сбаланированной-выборке\" data-toc-modified-id=\"Обучение-моделей-на-сбаланированной-выборке-3.1\"><span class=\"toc-item-num\">3.1&nbsp;&nbsp;</span>Обучение моделей на сбаланированной выборке</a></span></li><li><span><a href=\"#Улучшение-модели\" data-toc-modified-id=\"Улучшение-модели-3.2\"><span class=\"toc-item-num\">3.2&nbsp;&nbsp;</span>Улучшение модели</a></span></li></ul></li><li><span><a href=\"#Тестирование-модели\" data-toc-modified-id=\"Тестирование-модели-4\"><span class=\"toc-item-num\">4&nbsp;&nbsp;</span>Тестирование модели</a></span></li><li><span><a href=\"#Чек-лист-готовности-проекта\" data-toc-modified-id=\"Чек-лист-готовности-проекта-5\"><span class=\"toc-item-num\">5&nbsp;&nbsp;</span>Чек-лист готовности проекта</a></span></li></ul></div>"
   ]
  },
  {
   "cell_type": "markdown",
   "metadata": {},
   "source": [
    "# Отток клиентов"
   ]
  },
  {
   "cell_type": "markdown",
   "metadata": {},
   "source": [
    "Привет! Меня зовут Сергей, буду рад пообщаться и узнать новое! Тема для трудная из-за этого отправляю \"сыроватый\" проект, т.к. по ходу возникло много вопросо, особенно после последней консультации(была вчера), нам сказали, что в реальности метрика accuracy не используется... Сам проект старался делать использую пройденный лекуционный материал."
   ]
  },
  {
   "cell_type": "markdown",
   "metadata": {},
   "source": [
    "<div style=\"background: #cceeaa; padding: 5px; border: 1px solid green; border-radius: 5px;\">\n",
    "    <font color='green'> <b><u>КОММЕНТАРИЙ РЕВЬЮЕРА</u></b>\n",
    "</font>\n",
    "<font color='green'><br>ОК, Сергей, понял. Постараюсь ответить на все вопорсы."
   ]
  },
  {
   "cell_type": "markdown",
   "metadata": {},
   "source": [
    "Из «Бета-Банка» стали уходить клиенты. Каждый месяц. Немного, но заметно. Банковские маркетологи посчитали: сохранять текущих клиентов дешевле, чем привлекать новых.\n",
    "\n",
    "Нужно спрогнозировать, уйдёт клиент из банка в ближайшее время или нет. Вам предоставлены исторические данные о поведении клиентов и расторжении договоров с банком. \n",
    "\n",
    "Постройте модель с предельно большим значением *F1*-меры. Чтобы сдать проект успешно, нужно довести метрику до 0.59. Проверьте *F1*-меру на тестовой выборке самостоятельно.\n",
    "\n",
    "Дополнительно измеряйте *AUC-ROC*, сравнивайте её значение с *F1*-мерой.\n",
    "\n",
    "Источник данных: [https://www.kaggle.com/barelydedicated/bank-customer-churn-modeling](https://www.kaggle.com/barelydedicated/bank-customer-churn-modeling)"
   ]
  },
  {
   "cell_type": "markdown",
   "metadata": {},
   "source": [
    "Признаки\n",
    "RowNumber — индекс строки в данных\n",
    "CustomerId — уникальный идентификатор клиента\n",
    "Surname — фамилия\n",
    "CreditScore — кредитный рейтинг\n",
    "Geography — страна проживания\n",
    "Gender — пол\n",
    "Age — возраст\n",
    "Tenure — сколько лет человек является клиентом банка\n",
    "Balance — баланс на счёте\n",
    "NumOfProducts — количество продуктов банка, используемых клиентом\n",
    "HasCrCard — наличие кредитной карты\n",
    "IsActiveMember — активность клиента\n",
    "EstimatedSalary — предполагаемая зарплата\n",
    "Целевой признак\n",
    "Exited — факт ухода клиента"
   ]
  },
  {
   "cell_type": "markdown",
   "metadata": {},
   "source": [
    "## Подготовка данных"
   ]
  },
  {
   "cell_type": "code",
   "execution_count": 1,
   "metadata": {},
   "outputs": [],
   "source": [
    "import pandas as pd\n",
    "\n",
    "from sklearn.model_selection import train_test_split\n",
    "from sklearn.linear_model import LinearRegression\n",
    "from sklearn.tree import DecisionTreeRegressor\n",
    "from sklearn.ensemble import RandomForestRegressor\n",
    "from sklearn.ensemble import RandomForestClassifier\n",
    "from sklearn.metrics import mean_absolute_error\n",
    "import numpy as np\n",
    "from sklearn.tree import DecisionTreeClassifier\n",
    "from sklearn.linear_model import LogisticRegression\n",
    "from sklearn.preprocessing import StandardScaler\n",
    "from sklearn.metrics import accuracy_score\n",
    "from sklearn.metrics import confusion_matrix\n",
    "from sklearn.metrics import recall_score\n",
    "from sklearn.metrics import precision_score\n",
    "from sklearn.metrics import f1_score\n",
    "from sklearn.metrics import roc_auc_score\n",
    "from sklearn.metrics import roc_curve\n",
    "from sklearn.utils import shuffle\n",
    "import matplotlib.pyplot as plt"
   ]
  },
  {
   "cell_type": "code",
   "execution_count": 2,
   "metadata": {},
   "outputs": [
    {
     "data": {
      "text/html": [
       "<div>\n",
       "<style scoped>\n",
       "    .dataframe tbody tr th:only-of-type {\n",
       "        vertical-align: middle;\n",
       "    }\n",
       "\n",
       "    .dataframe tbody tr th {\n",
       "        vertical-align: top;\n",
       "    }\n",
       "\n",
       "    .dataframe thead th {\n",
       "        text-align: right;\n",
       "    }\n",
       "</style>\n",
       "<table border=\"1\" class=\"dataframe\">\n",
       "  <thead>\n",
       "    <tr style=\"text-align: right;\">\n",
       "      <th></th>\n",
       "      <th>RowNumber</th>\n",
       "      <th>CustomerId</th>\n",
       "      <th>Surname</th>\n",
       "      <th>CreditScore</th>\n",
       "      <th>Geography</th>\n",
       "      <th>Gender</th>\n",
       "      <th>Age</th>\n",
       "      <th>Tenure</th>\n",
       "      <th>Balance</th>\n",
       "      <th>NumOfProducts</th>\n",
       "      <th>HasCrCard</th>\n",
       "      <th>IsActiveMember</th>\n",
       "      <th>EstimatedSalary</th>\n",
       "      <th>Exited</th>\n",
       "    </tr>\n",
       "  </thead>\n",
       "  <tbody>\n",
       "    <tr>\n",
       "      <td>0</td>\n",
       "      <td>1</td>\n",
       "      <td>15634602</td>\n",
       "      <td>Hargrave</td>\n",
       "      <td>619</td>\n",
       "      <td>France</td>\n",
       "      <td>Female</td>\n",
       "      <td>42</td>\n",
       "      <td>2.0</td>\n",
       "      <td>0.00</td>\n",
       "      <td>1</td>\n",
       "      <td>1</td>\n",
       "      <td>1</td>\n",
       "      <td>101348.88</td>\n",
       "      <td>1</td>\n",
       "    </tr>\n",
       "    <tr>\n",
       "      <td>1</td>\n",
       "      <td>2</td>\n",
       "      <td>15647311</td>\n",
       "      <td>Hill</td>\n",
       "      <td>608</td>\n",
       "      <td>Spain</td>\n",
       "      <td>Female</td>\n",
       "      <td>41</td>\n",
       "      <td>1.0</td>\n",
       "      <td>83807.86</td>\n",
       "      <td>1</td>\n",
       "      <td>0</td>\n",
       "      <td>1</td>\n",
       "      <td>112542.58</td>\n",
       "      <td>0</td>\n",
       "    </tr>\n",
       "    <tr>\n",
       "      <td>2</td>\n",
       "      <td>3</td>\n",
       "      <td>15619304</td>\n",
       "      <td>Onio</td>\n",
       "      <td>502</td>\n",
       "      <td>France</td>\n",
       "      <td>Female</td>\n",
       "      <td>42</td>\n",
       "      <td>8.0</td>\n",
       "      <td>159660.80</td>\n",
       "      <td>3</td>\n",
       "      <td>1</td>\n",
       "      <td>0</td>\n",
       "      <td>113931.57</td>\n",
       "      <td>1</td>\n",
       "    </tr>\n",
       "    <tr>\n",
       "      <td>3</td>\n",
       "      <td>4</td>\n",
       "      <td>15701354</td>\n",
       "      <td>Boni</td>\n",
       "      <td>699</td>\n",
       "      <td>France</td>\n",
       "      <td>Female</td>\n",
       "      <td>39</td>\n",
       "      <td>1.0</td>\n",
       "      <td>0.00</td>\n",
       "      <td>2</td>\n",
       "      <td>0</td>\n",
       "      <td>0</td>\n",
       "      <td>93826.63</td>\n",
       "      <td>0</td>\n",
       "    </tr>\n",
       "    <tr>\n",
       "      <td>4</td>\n",
       "      <td>5</td>\n",
       "      <td>15737888</td>\n",
       "      <td>Mitchell</td>\n",
       "      <td>850</td>\n",
       "      <td>Spain</td>\n",
       "      <td>Female</td>\n",
       "      <td>43</td>\n",
       "      <td>2.0</td>\n",
       "      <td>125510.82</td>\n",
       "      <td>1</td>\n",
       "      <td>1</td>\n",
       "      <td>1</td>\n",
       "      <td>79084.10</td>\n",
       "      <td>0</td>\n",
       "    </tr>\n",
       "  </tbody>\n",
       "</table>\n",
       "</div>"
      ],
      "text/plain": [
       "   RowNumber  CustomerId   Surname  CreditScore Geography  Gender  Age  \\\n",
       "0          1    15634602  Hargrave          619    France  Female   42   \n",
       "1          2    15647311      Hill          608     Spain  Female   41   \n",
       "2          3    15619304      Onio          502    France  Female   42   \n",
       "3          4    15701354      Boni          699    France  Female   39   \n",
       "4          5    15737888  Mitchell          850     Spain  Female   43   \n",
       "\n",
       "   Tenure    Balance  NumOfProducts  HasCrCard  IsActiveMember  \\\n",
       "0     2.0       0.00              1          1               1   \n",
       "1     1.0   83807.86              1          0               1   \n",
       "2     8.0  159660.80              3          1               0   \n",
       "3     1.0       0.00              2          0               0   \n",
       "4     2.0  125510.82              1          1               1   \n",
       "\n",
       "   EstimatedSalary  Exited  \n",
       "0        101348.88       1  \n",
       "1        112542.58       0  \n",
       "2        113931.57       1  \n",
       "3         93826.63       0  \n",
       "4         79084.10       0  "
      ]
     },
     "execution_count": 2,
     "metadata": {},
     "output_type": "execute_result"
    }
   ],
   "source": [
    "data = pd.read_csv('/datasets/Churn.csv')\n",
    "data.head(5)"
   ]
  },
  {
   "cell_type": "markdown",
   "metadata": {},
   "source": [
    "<div style=\"background: #cceeaa; padding: 5px; border: 1px solid green; border-radius: 5px;\">\n",
    "    <font color='green'> <b><u>КОММЕНТАРИЙ РЕВЬЮЕРА</u></b>\n",
    "</font>\n",
    "<font color='green'><br>ОК, данные на базе)"
   ]
  },
  {
   "cell_type": "code",
   "execution_count": 3,
   "metadata": {},
   "outputs": [
    {
     "name": "stdout",
     "output_type": "stream",
     "text": [
      "<class 'pandas.core.frame.DataFrame'>\n",
      "RangeIndex: 10000 entries, 0 to 9999\n",
      "Data columns (total 14 columns):\n",
      "RowNumber          10000 non-null int64\n",
      "CustomerId         10000 non-null int64\n",
      "Surname            10000 non-null object\n",
      "CreditScore        10000 non-null int64\n",
      "Geography          10000 non-null object\n",
      "Gender             10000 non-null object\n",
      "Age                10000 non-null int64\n",
      "Tenure             9091 non-null float64\n",
      "Balance            10000 non-null float64\n",
      "NumOfProducts      10000 non-null int64\n",
      "HasCrCard          10000 non-null int64\n",
      "IsActiveMember     10000 non-null int64\n",
      "EstimatedSalary    10000 non-null float64\n",
      "Exited             10000 non-null int64\n",
      "dtypes: float64(3), int64(8), object(3)\n",
      "memory usage: 1.1+ MB\n"
     ]
    }
   ],
   "source": [
    "data.info()"
   ]
  },
  {
   "cell_type": "code",
   "execution_count": 4,
   "metadata": {},
   "outputs": [],
   "source": [
    "data['Tenure'] = data['Tenure'].fillna(-1)"
   ]
  },
  {
   "cell_type": "code",
   "execution_count": 5,
   "metadata": {},
   "outputs": [
    {
     "data": {
      "text/plain": [
       "0        2.0\n",
       "1        1.0\n",
       "2        8.0\n",
       "3        1.0\n",
       "4        2.0\n",
       "        ... \n",
       "9995     5.0\n",
       "9996    10.0\n",
       "9997     7.0\n",
       "9998     3.0\n",
       "9999    -1.0\n",
       "Name: Tenure, Length: 10000, dtype: float64"
      ]
     },
     "execution_count": 5,
     "metadata": {},
     "output_type": "execute_result"
    }
   ],
   "source": [
    "data['Tenure']"
   ]
  },
  {
   "cell_type": "code",
   "execution_count": 6,
   "metadata": {},
   "outputs": [
    {
     "data": {
      "text/plain": [
       "array(['France', 'Spain', 'Germany'], dtype=object)"
      ]
     },
     "execution_count": 6,
     "metadata": {},
     "output_type": "execute_result"
    }
   ],
   "source": [
    "data['Geography'].unique()"
   ]
  },
  {
   "cell_type": "code",
   "execution_count": 7,
   "metadata": {},
   "outputs": [
    {
     "data": {
      "text/plain": [
       "0"
      ]
     },
     "execution_count": 7,
     "metadata": {},
     "output_type": "execute_result"
    }
   ],
   "source": [
    "data.duplicated().sum()"
   ]
  },
  {
   "cell_type": "code",
   "execution_count": 8,
   "metadata": {},
   "outputs": [
    {
     "data": {
      "text/plain": [
       "10000"
      ]
     },
     "execution_count": 8,
     "metadata": {},
     "output_type": "execute_result"
    }
   ],
   "source": [
    "data['CustomerId'].value_counts().sum()"
   ]
  },
  {
   "cell_type": "markdown",
   "metadata": {},
   "source": [
    "<div style=\"background: #cceeaa; padding: 5px; border: 1px solid green; border-radius: 5px;\">\n",
    "    <font color='green'> <b><u>КОММЕНТАРИЙ РЕВЬЮЕРА</u></b>\n",
    "</font>\n",
    "<font color='green'><br>И, в общем-то, первичный аналитический осмотр на месте) Пропуски сразу -1 поставл....\n",
    "\n",
    "Возможно, что групповая (например по географии) медиана также не принесла бы большой ошибки. А может взять и удалить, чтобы не \"искушаться\"..Тут понятно, что однозначного решения нет, как и алгоритма. Правило только одно (как в медицине) - НЕ нарведи. Т.е. принимаемое решение должно соотноситься с возможным ущербом на конечный результат. В нашем случае ущерб от медианного заполнения ниже от ущерба удалить данные?. Причём выше/ниже - это только на чуйке/жизенном опыте смого аналитика.<br>\n",
    "Интересная это работа - быть DS-аналитиком)<br><br>\n",
    "    \n",
    "В данном случае, спарведливости ради, если построить распределение ДО и ПОСЛЕ заполнения пропусков, то увидим, что оно изменится. Т.е. данный подход несколько исказит инфо, а значит и результат моделирования будет уже не очень.<br> Тут лучшим способом будет - заполнение случайным числом.<br>\n",
    "    \n",
    "Ещё вараинт:<br> удалить пропущенные строки. А по окнчании построения модели, вывести важность факторов самой модели. И если фактор tenure окажется не значим, то как в принципе удалить его из моделирования, а первоначально удалённые строки - вернуть.\n",
    "    \n",
    "ок, посмотрим дальше, что будет...."
   ]
  },
  {
   "cell_type": "markdown",
   "metadata": {},
   "source": [
    "### Подготовка данных для машинного обучения"
   ]
  },
  {
   "cell_type": "code",
   "execution_count": 9,
   "metadata": {},
   "outputs": [
    {
     "data": {
      "text/plain": [
       "(10000, 14)"
      ]
     },
     "execution_count": 9,
     "metadata": {},
     "output_type": "execute_result"
    }
   ],
   "source": [
    "data.shape"
   ]
  },
  {
   "cell_type": "code",
   "execution_count": 10,
   "metadata": {},
   "outputs": [],
   "source": [
    "#data = pd.get_dummies(data, drop_first=True)\n",
    "#data.head()"
   ]
  },
  {
   "cell_type": "code",
   "execution_count": 11,
   "metadata": {},
   "outputs": [
    {
     "data": {
      "text/html": [
       "<div>\n",
       "<style scoped>\n",
       "    .dataframe tbody tr th:only-of-type {\n",
       "        vertical-align: middle;\n",
       "    }\n",
       "\n",
       "    .dataframe tbody tr th {\n",
       "        vertical-align: top;\n",
       "    }\n",
       "\n",
       "    .dataframe thead th {\n",
       "        text-align: right;\n",
       "    }\n",
       "</style>\n",
       "<table border=\"1\" class=\"dataframe\">\n",
       "  <thead>\n",
       "    <tr style=\"text-align: right;\">\n",
       "      <th></th>\n",
       "      <th>CreditScore</th>\n",
       "      <th>Geography</th>\n",
       "      <th>Gender</th>\n",
       "      <th>Age</th>\n",
       "      <th>Tenure</th>\n",
       "      <th>Balance</th>\n",
       "      <th>NumOfProducts</th>\n",
       "      <th>HasCrCard</th>\n",
       "      <th>IsActiveMember</th>\n",
       "      <th>EstimatedSalary</th>\n",
       "      <th>Exited</th>\n",
       "    </tr>\n",
       "  </thead>\n",
       "  <tbody>\n",
       "    <tr>\n",
       "      <td>0</td>\n",
       "      <td>619</td>\n",
       "      <td>France</td>\n",
       "      <td>Female</td>\n",
       "      <td>42</td>\n",
       "      <td>2.0</td>\n",
       "      <td>0.00</td>\n",
       "      <td>1</td>\n",
       "      <td>1</td>\n",
       "      <td>1</td>\n",
       "      <td>101348.88</td>\n",
       "      <td>1</td>\n",
       "    </tr>\n",
       "    <tr>\n",
       "      <td>1</td>\n",
       "      <td>608</td>\n",
       "      <td>Spain</td>\n",
       "      <td>Female</td>\n",
       "      <td>41</td>\n",
       "      <td>1.0</td>\n",
       "      <td>83807.86</td>\n",
       "      <td>1</td>\n",
       "      <td>0</td>\n",
       "      <td>1</td>\n",
       "      <td>112542.58</td>\n",
       "      <td>0</td>\n",
       "    </tr>\n",
       "    <tr>\n",
       "      <td>2</td>\n",
       "      <td>502</td>\n",
       "      <td>France</td>\n",
       "      <td>Female</td>\n",
       "      <td>42</td>\n",
       "      <td>8.0</td>\n",
       "      <td>159660.80</td>\n",
       "      <td>3</td>\n",
       "      <td>1</td>\n",
       "      <td>0</td>\n",
       "      <td>113931.57</td>\n",
       "      <td>1</td>\n",
       "    </tr>\n",
       "    <tr>\n",
       "      <td>3</td>\n",
       "      <td>699</td>\n",
       "      <td>France</td>\n",
       "      <td>Female</td>\n",
       "      <td>39</td>\n",
       "      <td>1.0</td>\n",
       "      <td>0.00</td>\n",
       "      <td>2</td>\n",
       "      <td>0</td>\n",
       "      <td>0</td>\n",
       "      <td>93826.63</td>\n",
       "      <td>0</td>\n",
       "    </tr>\n",
       "    <tr>\n",
       "      <td>4</td>\n",
       "      <td>850</td>\n",
       "      <td>Spain</td>\n",
       "      <td>Female</td>\n",
       "      <td>43</td>\n",
       "      <td>2.0</td>\n",
       "      <td>125510.82</td>\n",
       "      <td>1</td>\n",
       "      <td>1</td>\n",
       "      <td>1</td>\n",
       "      <td>79084.10</td>\n",
       "      <td>0</td>\n",
       "    </tr>\n",
       "  </tbody>\n",
       "</table>\n",
       "</div>"
      ],
      "text/plain": [
       "   CreditScore Geography  Gender  Age  Tenure    Balance  NumOfProducts  \\\n",
       "0          619    France  Female   42     2.0       0.00              1   \n",
       "1          608     Spain  Female   41     1.0   83807.86              1   \n",
       "2          502    France  Female   42     8.0  159660.80              3   \n",
       "3          699    France  Female   39     1.0       0.00              2   \n",
       "4          850     Spain  Female   43     2.0  125510.82              1   \n",
       "\n",
       "   HasCrCard  IsActiveMember  EstimatedSalary  Exited  \n",
       "0          1               1        101348.88       1  \n",
       "1          0               1        112542.58       0  \n",
       "2          1               0        113931.57       1  \n",
       "3          0               0         93826.63       0  \n",
       "4          1               1         79084.10       0  "
      ]
     },
     "execution_count": 11,
     "metadata": {},
     "output_type": "execute_result"
    }
   ],
   "source": [
    "for_drop = ['RowNumber','CustomerId', 'Surname']\n",
    "data_ml = data.drop(for_drop, axis=1)\n",
    "data_ml.head()"
   ]
  },
  {
   "cell_type": "markdown",
   "metadata": {},
   "source": [
    "<div style=\"background: #cceeaa; padding: 5px; border: 1px solid green; border-radius: 5px;\">\n",
    "    <font color='green'> <b><u>КОММЕНТАРИЙ РЕВЬЮЕРА</u></b>\n",
    "</font>\n",
    "<font color='green'><br>таааак, категорически..... согласен с дропом)"
   ]
  },
  {
   "cell_type": "code",
   "execution_count": 12,
   "metadata": {},
   "outputs": [
    {
     "data": {
      "text/html": [
       "<div>\n",
       "<style scoped>\n",
       "    .dataframe tbody tr th:only-of-type {\n",
       "        vertical-align: middle;\n",
       "    }\n",
       "\n",
       "    .dataframe tbody tr th {\n",
       "        vertical-align: top;\n",
       "    }\n",
       "\n",
       "    .dataframe thead th {\n",
       "        text-align: right;\n",
       "    }\n",
       "</style>\n",
       "<table border=\"1\" class=\"dataframe\">\n",
       "  <thead>\n",
       "    <tr style=\"text-align: right;\">\n",
       "      <th></th>\n",
       "      <th>CreditScore</th>\n",
       "      <th>Age</th>\n",
       "      <th>Tenure</th>\n",
       "      <th>Balance</th>\n",
       "      <th>NumOfProducts</th>\n",
       "      <th>HasCrCard</th>\n",
       "      <th>IsActiveMember</th>\n",
       "      <th>EstimatedSalary</th>\n",
       "      <th>Exited</th>\n",
       "      <th>Geography_Germany</th>\n",
       "      <th>Geography_Spain</th>\n",
       "      <th>Gender_Male</th>\n",
       "    </tr>\n",
       "  </thead>\n",
       "  <tbody>\n",
       "    <tr>\n",
       "      <td>0</td>\n",
       "      <td>619</td>\n",
       "      <td>42</td>\n",
       "      <td>2.0</td>\n",
       "      <td>0.00</td>\n",
       "      <td>1</td>\n",
       "      <td>1</td>\n",
       "      <td>1</td>\n",
       "      <td>101348.88</td>\n",
       "      <td>1</td>\n",
       "      <td>0</td>\n",
       "      <td>0</td>\n",
       "      <td>0</td>\n",
       "    </tr>\n",
       "    <tr>\n",
       "      <td>1</td>\n",
       "      <td>608</td>\n",
       "      <td>41</td>\n",
       "      <td>1.0</td>\n",
       "      <td>83807.86</td>\n",
       "      <td>1</td>\n",
       "      <td>0</td>\n",
       "      <td>1</td>\n",
       "      <td>112542.58</td>\n",
       "      <td>0</td>\n",
       "      <td>0</td>\n",
       "      <td>1</td>\n",
       "      <td>0</td>\n",
       "    </tr>\n",
       "    <tr>\n",
       "      <td>2</td>\n",
       "      <td>502</td>\n",
       "      <td>42</td>\n",
       "      <td>8.0</td>\n",
       "      <td>159660.80</td>\n",
       "      <td>3</td>\n",
       "      <td>1</td>\n",
       "      <td>0</td>\n",
       "      <td>113931.57</td>\n",
       "      <td>1</td>\n",
       "      <td>0</td>\n",
       "      <td>0</td>\n",
       "      <td>0</td>\n",
       "    </tr>\n",
       "    <tr>\n",
       "      <td>3</td>\n",
       "      <td>699</td>\n",
       "      <td>39</td>\n",
       "      <td>1.0</td>\n",
       "      <td>0.00</td>\n",
       "      <td>2</td>\n",
       "      <td>0</td>\n",
       "      <td>0</td>\n",
       "      <td>93826.63</td>\n",
       "      <td>0</td>\n",
       "      <td>0</td>\n",
       "      <td>0</td>\n",
       "      <td>0</td>\n",
       "    </tr>\n",
       "    <tr>\n",
       "      <td>4</td>\n",
       "      <td>850</td>\n",
       "      <td>43</td>\n",
       "      <td>2.0</td>\n",
       "      <td>125510.82</td>\n",
       "      <td>1</td>\n",
       "      <td>1</td>\n",
       "      <td>1</td>\n",
       "      <td>79084.10</td>\n",
       "      <td>0</td>\n",
       "      <td>0</td>\n",
       "      <td>1</td>\n",
       "      <td>0</td>\n",
       "    </tr>\n",
       "  </tbody>\n",
       "</table>\n",
       "</div>"
      ],
      "text/plain": [
       "   CreditScore  Age  Tenure    Balance  NumOfProducts  HasCrCard  \\\n",
       "0          619   42     2.0       0.00              1          1   \n",
       "1          608   41     1.0   83807.86              1          0   \n",
       "2          502   42     8.0  159660.80              3          1   \n",
       "3          699   39     1.0       0.00              2          0   \n",
       "4          850   43     2.0  125510.82              1          1   \n",
       "\n",
       "   IsActiveMember  EstimatedSalary  Exited  Geography_Germany  \\\n",
       "0               1        101348.88       1                  0   \n",
       "1               1        112542.58       0                  0   \n",
       "2               0        113931.57       1                  0   \n",
       "3               0         93826.63       0                  0   \n",
       "4               1         79084.10       0                  0   \n",
       "\n",
       "   Geography_Spain  Gender_Male  \n",
       "0                0            0  \n",
       "1                1            0  \n",
       "2                0            0  \n",
       "3                0            0  \n",
       "4                1            0  "
      ]
     },
     "execution_count": 12,
     "metadata": {},
     "output_type": "execute_result"
    }
   ],
   "source": [
    "data_ml = pd.get_dummies(data_ml, drop_first=True)\n",
    "data_ml.head()\n"
   ]
  },
  {
   "cell_type": "code",
   "execution_count": 13,
   "metadata": {},
   "outputs": [
    {
     "data": {
      "text/plain": [
       "(10000, 14)"
      ]
     },
     "execution_count": 13,
     "metadata": {},
     "output_type": "execute_result"
    }
   ],
   "source": [
    "data.shape"
   ]
  },
  {
   "cell_type": "markdown",
   "metadata": {},
   "source": [
    "<div style=\"background: #cceeaa; padding: 5px; border: 1px solid green; border-radius: 5px;\">\n",
    "    <font color='green'> <b><u>КОММЕНТАРИЙ РЕВЬЮЕРА</u></b>\n",
    "</font>\n",
    "<font color='green'><br>ок, drop_first=True - здесь важно! Этот метод категоризации в целом - удобная вешщь. Единственное, когда категорий у фактора будет не 2 или 3 (как у нас сейчас с географией, например), а 20 или 100 ... вот тогда лучше другой метод категоризации освоить, например ordinal (это можно будет отработать в спринте 10 - при прогнозе цен на авто)"
   ]
  },
  {
   "cell_type": "markdown",
   "metadata": {},
   "source": [
    "### Формирование выборок: обучающая, валидационная, тестовая"
   ]
  },
  {
   "cell_type": "markdown",
   "metadata": {},
   "source": [
    "В нашем случае нет отдельно выделенной тестовой выборки, поэтому существющие данные мы делим на три выборки:\n",
    "\n",
    " обучающая 60% для обучения модели\n",
    " \n",
    " валидационная 20% для выбора лучшего алгоритма и оптимальных параметров\n",
    " \n",
    " тестовая 20% для финального теста лучшей модели."
   ]
  },
  {
   "cell_type": "code",
   "execution_count": 14,
   "metadata": {},
   "outputs": [],
   "source": [
    "features = data_ml.drop('Exited', axis=1)\n",
    "target = data_ml['Exited']"
   ]
  },
  {
   "cell_type": "code",
   "execution_count": 15,
   "metadata": {},
   "outputs": [
    {
     "data": {
      "text/html": [
       "<div>\n",
       "<style scoped>\n",
       "    .dataframe tbody tr th:only-of-type {\n",
       "        vertical-align: middle;\n",
       "    }\n",
       "\n",
       "    .dataframe tbody tr th {\n",
       "        vertical-align: top;\n",
       "    }\n",
       "\n",
       "    .dataframe thead th {\n",
       "        text-align: right;\n",
       "    }\n",
       "</style>\n",
       "<table border=\"1\" class=\"dataframe\">\n",
       "  <thead>\n",
       "    <tr style=\"text-align: right;\">\n",
       "      <th></th>\n",
       "      <th>CreditScore</th>\n",
       "      <th>Age</th>\n",
       "      <th>Tenure</th>\n",
       "      <th>Balance</th>\n",
       "      <th>NumOfProducts</th>\n",
       "      <th>HasCrCard</th>\n",
       "      <th>IsActiveMember</th>\n",
       "      <th>EstimatedSalary</th>\n",
       "      <th>Geography_Germany</th>\n",
       "      <th>Geography_Spain</th>\n",
       "      <th>Gender_Male</th>\n",
       "    </tr>\n",
       "  </thead>\n",
       "  <tbody>\n",
       "    <tr>\n",
       "      <td>0</td>\n",
       "      <td>619</td>\n",
       "      <td>42</td>\n",
       "      <td>2.0</td>\n",
       "      <td>0.00</td>\n",
       "      <td>1</td>\n",
       "      <td>1</td>\n",
       "      <td>1</td>\n",
       "      <td>101348.88</td>\n",
       "      <td>0</td>\n",
       "      <td>0</td>\n",
       "      <td>0</td>\n",
       "    </tr>\n",
       "    <tr>\n",
       "      <td>1</td>\n",
       "      <td>608</td>\n",
       "      <td>41</td>\n",
       "      <td>1.0</td>\n",
       "      <td>83807.86</td>\n",
       "      <td>1</td>\n",
       "      <td>0</td>\n",
       "      <td>1</td>\n",
       "      <td>112542.58</td>\n",
       "      <td>0</td>\n",
       "      <td>1</td>\n",
       "      <td>0</td>\n",
       "    </tr>\n",
       "    <tr>\n",
       "      <td>2</td>\n",
       "      <td>502</td>\n",
       "      <td>42</td>\n",
       "      <td>8.0</td>\n",
       "      <td>159660.80</td>\n",
       "      <td>3</td>\n",
       "      <td>1</td>\n",
       "      <td>0</td>\n",
       "      <td>113931.57</td>\n",
       "      <td>0</td>\n",
       "      <td>0</td>\n",
       "      <td>0</td>\n",
       "    </tr>\n",
       "    <tr>\n",
       "      <td>3</td>\n",
       "      <td>699</td>\n",
       "      <td>39</td>\n",
       "      <td>1.0</td>\n",
       "      <td>0.00</td>\n",
       "      <td>2</td>\n",
       "      <td>0</td>\n",
       "      <td>0</td>\n",
       "      <td>93826.63</td>\n",
       "      <td>0</td>\n",
       "      <td>0</td>\n",
       "      <td>0</td>\n",
       "    </tr>\n",
       "    <tr>\n",
       "      <td>4</td>\n",
       "      <td>850</td>\n",
       "      <td>43</td>\n",
       "      <td>2.0</td>\n",
       "      <td>125510.82</td>\n",
       "      <td>1</td>\n",
       "      <td>1</td>\n",
       "      <td>1</td>\n",
       "      <td>79084.10</td>\n",
       "      <td>0</td>\n",
       "      <td>1</td>\n",
       "      <td>0</td>\n",
       "    </tr>\n",
       "  </tbody>\n",
       "</table>\n",
       "</div>"
      ],
      "text/plain": [
       "   CreditScore  Age  Tenure    Balance  NumOfProducts  HasCrCard  \\\n",
       "0          619   42     2.0       0.00              1          1   \n",
       "1          608   41     1.0   83807.86              1          0   \n",
       "2          502   42     8.0  159660.80              3          1   \n",
       "3          699   39     1.0       0.00              2          0   \n",
       "4          850   43     2.0  125510.82              1          1   \n",
       "\n",
       "   IsActiveMember  EstimatedSalary  Geography_Germany  Geography_Spain  \\\n",
       "0               1        101348.88                  0                0   \n",
       "1               1        112542.58                  0                1   \n",
       "2               0        113931.57                  0                0   \n",
       "3               0         93826.63                  0                0   \n",
       "4               1         79084.10                  0                1   \n",
       "\n",
       "   Gender_Male  \n",
       "0            0  \n",
       "1            0  \n",
       "2            0  \n",
       "3            0  \n",
       "4            0  "
      ]
     },
     "execution_count": 15,
     "metadata": {},
     "output_type": "execute_result"
    }
   ],
   "source": [
    "features.head()"
   ]
  },
  {
   "cell_type": "code",
   "execution_count": 16,
   "metadata": {},
   "outputs": [
    {
     "data": {
      "text/plain": [
       "0    1\n",
       "1    0\n",
       "2    1\n",
       "3    0\n",
       "4    0\n",
       "Name: Exited, dtype: int64"
      ]
     },
     "execution_count": 16,
     "metadata": {},
     "output_type": "execute_result"
    }
   ],
   "source": [
    "target.head()"
   ]
  },
  {
   "cell_type": "markdown",
   "metadata": {},
   "source": [
    "###### Выделим валидационную выборку, разделим оставшиеся 40% на 2 равные части (валидационная и тестовая)"
   ]
  },
  {
   "cell_type": "code",
   "execution_count": 17,
   "metadata": {},
   "outputs": [],
   "source": [
    "features_train, features_validtest, target_train, target_validtest = train_test_split(features, target, train_size=0.6, random_state=12345)"
   ]
  },
  {
   "cell_type": "code",
   "execution_count": 18,
   "metadata": {},
   "outputs": [
    {
     "name": "stdout",
     "output_type": "stream",
     "text": [
      "Признаки обучающей выборки: (6000, 11) Целевой признак обучающей выборки: (6000,) Валидационная и тестовая вместе (4000, 11) (4000,)\n"
     ]
    }
   ],
   "source": [
    "print('Признаки обучающей выборки:',features_train.shape,  \n",
    "      'Целевой признак обучающей выборки:', target_train.shape, \n",
    "      'Валидационная и тестовая вместе', features_validtest.shape, target_validtest.shape)"
   ]
  },
  {
   "cell_type": "code",
   "execution_count": 19,
   "metadata": {},
   "outputs": [],
   "source": [
    "features_valid, features_test, target_valid, target_test = train_test_split(features_validtest,\n",
    "                                                    target_validtest,\n",
    "                                                    train_size=0.5,\n",
    "                                                    random_state=12345)"
   ]
  },
  {
   "cell_type": "code",
   "execution_count": 20,
   "metadata": {},
   "outputs": [
    {
     "name": "stdout",
     "output_type": "stream",
     "text": [
      "(2000, 11) (2000,) (2000, 11) (2000,)\n"
     ]
    }
   ],
   "source": [
    "print(features_valid.shape, target_valid.shape, features_test.shape, target_test.shape)"
   ]
  },
  {
   "cell_type": "markdown",
   "metadata": {},
   "source": [
    "<div style=\"background: #cceeaa; padding: 5px; border: 1px solid green; border-radius: 5px;\">\n",
    "    <font color='green'> <b><u>КОММЕНТАРИЙ РЕВЬЮЕРА</u></b>\n",
    "</font>\n",
    "<font color='green'><br>ОК, разбил и проверил результат, так и надо. random_state - можно объявить в самом начале (state=12345, а пото мользоваться random_state=state)"
   ]
  },
  {
   "cell_type": "markdown",
   "metadata": {},
   "source": [
    "### Масштабирование признаков"
   ]
  },
  {
   "cell_type": "code",
   "execution_count": 21,
   "metadata": {},
   "outputs": [],
   "source": [
    "import warnings\n",
    "warnings.filterwarnings('ignore')"
   ]
  },
  {
   "cell_type": "code",
   "execution_count": 22,
   "metadata": {},
   "outputs": [],
   "source": [
    "#Для масштабирования зафиксируем численные признаки\n",
    "numeric = ['CreditScore', 'Age', 'Tenure', 'Balance', 'NumOfProducts', 'EstimatedSalary']"
   ]
  },
  {
   "cell_type": "code",
   "execution_count": 23,
   "metadata": {},
   "outputs": [
    {
     "data": {
      "text/plain": [
       "StandardScaler(copy=True, with_mean=True, with_std=True)"
      ]
     },
     "execution_count": 23,
     "metadata": {},
     "output_type": "execute_result"
    }
   ],
   "source": [
    "#Создадим объект этой структуры и настроим его на обучающих данных:\n",
    "scaler = StandardScaler()\n",
    "scaler.fit(features_train[numeric])\n",
    "           "
   ]
  },
  {
   "cell_type": "code",
   "execution_count": 24,
   "metadata": {},
   "outputs": [
    {
     "data": {
      "text/html": [
       "<div>\n",
       "<style scoped>\n",
       "    .dataframe tbody tr th:only-of-type {\n",
       "        vertical-align: middle;\n",
       "    }\n",
       "\n",
       "    .dataframe tbody tr th {\n",
       "        vertical-align: top;\n",
       "    }\n",
       "\n",
       "    .dataframe thead th {\n",
       "        text-align: right;\n",
       "    }\n",
       "</style>\n",
       "<table border=\"1\" class=\"dataframe\">\n",
       "  <thead>\n",
       "    <tr style=\"text-align: right;\">\n",
       "      <th></th>\n",
       "      <th>CreditScore</th>\n",
       "      <th>Age</th>\n",
       "      <th>Tenure</th>\n",
       "      <th>Balance</th>\n",
       "      <th>NumOfProducts</th>\n",
       "      <th>HasCrCard</th>\n",
       "      <th>IsActiveMember</th>\n",
       "      <th>EstimatedSalary</th>\n",
       "      <th>Geography_Germany</th>\n",
       "      <th>Geography_Spain</th>\n",
       "      <th>Gender_Male</th>\n",
       "    </tr>\n",
       "  </thead>\n",
       "  <tbody>\n",
       "    <tr>\n",
       "      <td>7479</td>\n",
       "      <td>-0.886751</td>\n",
       "      <td>-0.373192</td>\n",
       "      <td>1.083651</td>\n",
       "      <td>1.232271</td>\n",
       "      <td>-0.891560</td>\n",
       "      <td>1</td>\n",
       "      <td>0</td>\n",
       "      <td>-0.187705</td>\n",
       "      <td>0</td>\n",
       "      <td>1</td>\n",
       "      <td>1</td>\n",
       "    </tr>\n",
       "    <tr>\n",
       "      <td>3411</td>\n",
       "      <td>0.608663</td>\n",
       "      <td>-0.183385</td>\n",
       "      <td>1.083651</td>\n",
       "      <td>0.600563</td>\n",
       "      <td>-0.891560</td>\n",
       "      <td>0</td>\n",
       "      <td>0</td>\n",
       "      <td>-0.333945</td>\n",
       "      <td>0</td>\n",
       "      <td>0</td>\n",
       "      <td>0</td>\n",
       "    </tr>\n",
       "    <tr>\n",
       "      <td>6027</td>\n",
       "      <td>2.052152</td>\n",
       "      <td>0.480939</td>\n",
       "      <td>-0.452862</td>\n",
       "      <td>1.027098</td>\n",
       "      <td>0.830152</td>\n",
       "      <td>0</td>\n",
       "      <td>1</td>\n",
       "      <td>1.503095</td>\n",
       "      <td>1</td>\n",
       "      <td>0</td>\n",
       "      <td>1</td>\n",
       "    </tr>\n",
       "    <tr>\n",
       "      <td>1247</td>\n",
       "      <td>-1.457915</td>\n",
       "      <td>-1.417129</td>\n",
       "      <td>0.469046</td>\n",
       "      <td>-1.233163</td>\n",
       "      <td>0.830152</td>\n",
       "      <td>1</td>\n",
       "      <td>0</td>\n",
       "      <td>-1.071061</td>\n",
       "      <td>0</td>\n",
       "      <td>0</td>\n",
       "      <td>1</td>\n",
       "    </tr>\n",
       "    <tr>\n",
       "      <td>3716</td>\n",
       "      <td>0.130961</td>\n",
       "      <td>-1.132419</td>\n",
       "      <td>-0.760164</td>\n",
       "      <td>1.140475</td>\n",
       "      <td>-0.891560</td>\n",
       "      <td>0</td>\n",
       "      <td>0</td>\n",
       "      <td>1.524268</td>\n",
       "      <td>1</td>\n",
       "      <td>0</td>\n",
       "      <td>0</td>\n",
       "    </tr>\n",
       "  </tbody>\n",
       "</table>\n",
       "</div>"
      ],
      "text/plain": [
       "      CreditScore       Age    Tenure   Balance  NumOfProducts  HasCrCard  \\\n",
       "7479    -0.886751 -0.373192  1.083651  1.232271      -0.891560          1   \n",
       "3411     0.608663 -0.183385  1.083651  0.600563      -0.891560          0   \n",
       "6027     2.052152  0.480939 -0.452862  1.027098       0.830152          0   \n",
       "1247    -1.457915 -1.417129  0.469046 -1.233163       0.830152          1   \n",
       "3716     0.130961 -1.132419 -0.760164  1.140475      -0.891560          0   \n",
       "\n",
       "      IsActiveMember  EstimatedSalary  Geography_Germany  Geography_Spain  \\\n",
       "7479               0        -0.187705                  0                1   \n",
       "3411               0        -0.333945                  0                0   \n",
       "6027               1         1.503095                  1                0   \n",
       "1247               0        -1.071061                  0                0   \n",
       "3716               0         1.524268                  1                0   \n",
       "\n",
       "      Gender_Male  \n",
       "7479            1  \n",
       "3411            0  \n",
       "6027            1  \n",
       "1247            1  \n",
       "3716            0  "
      ]
     },
     "execution_count": 24,
     "metadata": {},
     "output_type": "execute_result"
    }
   ],
   "source": [
    "#Масштабируем численные признаки обучающей выборки \n",
    "features_train[numeric] = scaler.transform(features_train[numeric])\n",
    "features_train.head()"
   ]
  },
  {
   "cell_type": "code",
   "execution_count": 25,
   "metadata": {},
   "outputs": [
    {
     "data": {
      "text/html": [
       "<div>\n",
       "<style scoped>\n",
       "    .dataframe tbody tr th:only-of-type {\n",
       "        vertical-align: middle;\n",
       "    }\n",
       "\n",
       "    .dataframe tbody tr th {\n",
       "        vertical-align: top;\n",
       "    }\n",
       "\n",
       "    .dataframe thead th {\n",
       "        text-align: right;\n",
       "    }\n",
       "</style>\n",
       "<table border=\"1\" class=\"dataframe\">\n",
       "  <thead>\n",
       "    <tr style=\"text-align: right;\">\n",
       "      <th></th>\n",
       "      <th>CreditScore</th>\n",
       "      <th>Age</th>\n",
       "      <th>Tenure</th>\n",
       "      <th>Balance</th>\n",
       "      <th>NumOfProducts</th>\n",
       "      <th>HasCrCard</th>\n",
       "      <th>IsActiveMember</th>\n",
       "      <th>EstimatedSalary</th>\n",
       "      <th>Geography_Germany</th>\n",
       "      <th>Geography_Spain</th>\n",
       "      <th>Gender_Male</th>\n",
       "    </tr>\n",
       "  </thead>\n",
       "  <tbody>\n",
       "    <tr>\n",
       "      <td>8532</td>\n",
       "      <td>-0.699824</td>\n",
       "      <td>-0.373192</td>\n",
       "      <td>-0.760164</td>\n",
       "      <td>-1.233163</td>\n",
       "      <td>0.830152</td>\n",
       "      <td>1</td>\n",
       "      <td>0</td>\n",
       "      <td>-0.015173</td>\n",
       "      <td>0</td>\n",
       "      <td>0</td>\n",
       "      <td>0</td>\n",
       "    </tr>\n",
       "    <tr>\n",
       "      <td>5799</td>\n",
       "      <td>-0.284431</td>\n",
       "      <td>0.575842</td>\n",
       "      <td>-0.452862</td>\n",
       "      <td>-1.233163</td>\n",
       "      <td>-0.891560</td>\n",
       "      <td>1</td>\n",
       "      <td>1</td>\n",
       "      <td>1.471724</td>\n",
       "      <td>0</td>\n",
       "      <td>0</td>\n",
       "      <td>0</td>\n",
       "    </tr>\n",
       "    <tr>\n",
       "      <td>5511</td>\n",
       "      <td>0.151731</td>\n",
       "      <td>-0.657902</td>\n",
       "      <td>-1.374769</td>\n",
       "      <td>0.438711</td>\n",
       "      <td>-0.891560</td>\n",
       "      <td>1</td>\n",
       "      <td>0</td>\n",
       "      <td>-1.367107</td>\n",
       "      <td>1</td>\n",
       "      <td>0</td>\n",
       "      <td>1</td>\n",
       "    </tr>\n",
       "    <tr>\n",
       "      <td>7365</td>\n",
       "      <td>-0.876366</td>\n",
       "      <td>-0.278288</td>\n",
       "      <td>1.698257</td>\n",
       "      <td>1.239884</td>\n",
       "      <td>-0.891560</td>\n",
       "      <td>1</td>\n",
       "      <td>1</td>\n",
       "      <td>-0.786517</td>\n",
       "      <td>0</td>\n",
       "      <td>1</td>\n",
       "      <td>0</td>\n",
       "    </tr>\n",
       "    <tr>\n",
       "      <td>7367</td>\n",
       "      <td>-0.481743</td>\n",
       "      <td>0.291132</td>\n",
       "      <td>1.698257</td>\n",
       "      <td>-1.233163</td>\n",
       "      <td>0.830152</td>\n",
       "      <td>1</td>\n",
       "      <td>0</td>\n",
       "      <td>1.358533</td>\n",
       "      <td>0</td>\n",
       "      <td>1</td>\n",
       "      <td>1</td>\n",
       "    </tr>\n",
       "  </tbody>\n",
       "</table>\n",
       "</div>"
      ],
      "text/plain": [
       "      CreditScore       Age    Tenure   Balance  NumOfProducts  HasCrCard  \\\n",
       "8532    -0.699824 -0.373192 -0.760164 -1.233163       0.830152          1   \n",
       "5799    -0.284431  0.575842 -0.452862 -1.233163      -0.891560          1   \n",
       "5511     0.151731 -0.657902 -1.374769  0.438711      -0.891560          1   \n",
       "7365    -0.876366 -0.278288  1.698257  1.239884      -0.891560          1   \n",
       "7367    -0.481743  0.291132  1.698257 -1.233163       0.830152          1   \n",
       "\n",
       "      IsActiveMember  EstimatedSalary  Geography_Germany  Geography_Spain  \\\n",
       "8532               0        -0.015173                  0                0   \n",
       "5799               1         1.471724                  0                0   \n",
       "5511               0        -1.367107                  1                0   \n",
       "7365               1        -0.786517                  0                1   \n",
       "7367               0         1.358533                  0                1   \n",
       "\n",
       "      Gender_Male  \n",
       "8532            0  \n",
       "5799            0  \n",
       "5511            1  \n",
       "7365            0  \n",
       "7367            1  "
      ]
     },
     "execution_count": 25,
     "metadata": {},
     "output_type": "execute_result"
    }
   ],
   "source": [
    "#Масштабируем численные признаки валидационной выборки \n",
    "features_valid[numeric] = scaler.transform(features_valid[numeric])\n",
    "features_valid.head()"
   ]
  },
  {
   "cell_type": "code",
   "execution_count": 26,
   "metadata": {},
   "outputs": [
    {
     "data": {
      "text/html": [
       "<div>\n",
       "<style scoped>\n",
       "    .dataframe tbody tr th:only-of-type {\n",
       "        vertical-align: middle;\n",
       "    }\n",
       "\n",
       "    .dataframe tbody tr th {\n",
       "        vertical-align: top;\n",
       "    }\n",
       "\n",
       "    .dataframe thead th {\n",
       "        text-align: right;\n",
       "    }\n",
       "</style>\n",
       "<table border=\"1\" class=\"dataframe\">\n",
       "  <thead>\n",
       "    <tr style=\"text-align: right;\">\n",
       "      <th></th>\n",
       "      <th>CreditScore</th>\n",
       "      <th>Age</th>\n",
       "      <th>Tenure</th>\n",
       "      <th>Balance</th>\n",
       "      <th>NumOfProducts</th>\n",
       "      <th>HasCrCard</th>\n",
       "      <th>IsActiveMember</th>\n",
       "      <th>EstimatedSalary</th>\n",
       "      <th>Geography_Germany</th>\n",
       "      <th>Geography_Spain</th>\n",
       "      <th>Gender_Male</th>\n",
       "    </tr>\n",
       "  </thead>\n",
       "  <tbody>\n",
       "    <tr>\n",
       "      <td>7041</td>\n",
       "      <td>-2.226392</td>\n",
       "      <td>-0.088482</td>\n",
       "      <td>-0.760164</td>\n",
       "      <td>-1.233163</td>\n",
       "      <td>0.830152</td>\n",
       "      <td>1</td>\n",
       "      <td>0</td>\n",
       "      <td>0.647083</td>\n",
       "      <td>0</td>\n",
       "      <td>0</td>\n",
       "      <td>1</td>\n",
       "    </tr>\n",
       "    <tr>\n",
       "      <td>5709</td>\n",
       "      <td>-0.087120</td>\n",
       "      <td>0.006422</td>\n",
       "      <td>1.390954</td>\n",
       "      <td>-1.233163</td>\n",
       "      <td>-0.891560</td>\n",
       "      <td>1</td>\n",
       "      <td>0</td>\n",
       "      <td>-1.658410</td>\n",
       "      <td>0</td>\n",
       "      <td>0</td>\n",
       "      <td>0</td>\n",
       "    </tr>\n",
       "    <tr>\n",
       "      <td>7117</td>\n",
       "      <td>-0.917905</td>\n",
       "      <td>-0.752805</td>\n",
       "      <td>0.161744</td>\n",
       "      <td>0.722307</td>\n",
       "      <td>-0.891560</td>\n",
       "      <td>1</td>\n",
       "      <td>1</td>\n",
       "      <td>-1.369334</td>\n",
       "      <td>0</td>\n",
       "      <td>1</td>\n",
       "      <td>1</td>\n",
       "    </tr>\n",
       "    <tr>\n",
       "      <td>7775</td>\n",
       "      <td>-0.253277</td>\n",
       "      <td>0.101325</td>\n",
       "      <td>1.698257</td>\n",
       "      <td>-1.233163</td>\n",
       "      <td>0.830152</td>\n",
       "      <td>1</td>\n",
       "      <td>0</td>\n",
       "      <td>0.075086</td>\n",
       "      <td>0</td>\n",
       "      <td>1</td>\n",
       "      <td>1</td>\n",
       "    </tr>\n",
       "    <tr>\n",
       "      <td>8735</td>\n",
       "      <td>0.785204</td>\n",
       "      <td>-0.847708</td>\n",
       "      <td>1.698257</td>\n",
       "      <td>0.615625</td>\n",
       "      <td>-0.891560</td>\n",
       "      <td>0</td>\n",
       "      <td>1</td>\n",
       "      <td>-1.070919</td>\n",
       "      <td>0</td>\n",
       "      <td>0</td>\n",
       "      <td>1</td>\n",
       "    </tr>\n",
       "  </tbody>\n",
       "</table>\n",
       "</div>"
      ],
      "text/plain": [
       "      CreditScore       Age    Tenure   Balance  NumOfProducts  HasCrCard  \\\n",
       "7041    -2.226392 -0.088482 -0.760164 -1.233163       0.830152          1   \n",
       "5709    -0.087120  0.006422  1.390954 -1.233163      -0.891560          1   \n",
       "7117    -0.917905 -0.752805  0.161744  0.722307      -0.891560          1   \n",
       "7775    -0.253277  0.101325  1.698257 -1.233163       0.830152          1   \n",
       "8735     0.785204 -0.847708  1.698257  0.615625      -0.891560          0   \n",
       "\n",
       "      IsActiveMember  EstimatedSalary  Geography_Germany  Geography_Spain  \\\n",
       "7041               0         0.647083                  0                0   \n",
       "5709               0        -1.658410                  0                0   \n",
       "7117               1        -1.369334                  0                1   \n",
       "7775               0         0.075086                  0                1   \n",
       "8735               1        -1.070919                  0                0   \n",
       "\n",
       "      Gender_Male  \n",
       "7041            1  \n",
       "5709            0  \n",
       "7117            1  \n",
       "7775            1  \n",
       "8735            1  "
      ]
     },
     "execution_count": 26,
     "metadata": {},
     "output_type": "execute_result"
    }
   ],
   "source": [
    "#Масштабируем численные признаки тестовой выборки \n",
    "features_test[numeric] = scaler.transform(features_test[numeric])\n",
    "features_test.head()"
   ]
  },
  {
   "cell_type": "markdown",
   "metadata": {},
   "source": [
    "<div style=\"background: #cceeaa; padding: 5px; border: 1px solid green; border-radius: 5px;\">\n",
    "    <font color='green'> <b><u>КОММЕНТАРИЙ РЕВЬЮЕРА</u></b>\n",
    "</font>\n",
    "<font color='green'><br>масштабирование - отдельно по выборкам, ок."
   ]
  },
  {
   "cell_type": "markdown",
   "metadata": {},
   "source": [
    "<div style=\"background: #cceeaa; padding: 5px; border: 1px solid green; border-radius: 5px;\">\n",
    "<font color='green'> \n",
    "    <b><u>КОММЕНТАРИЙ РЕВЬЮЕРА</u></b>\n",
    "<font color='green'><br>\n",
    "ЭТУ КОМАНДУ МОЖНО ИСПОЛЬЗОВАТЬ ДЛЯ ФИЛЬТРА ПРЕДУПРЕЖДЕНИЙ.<br>\n",
    "import warnings<br>\n",
    "warnings.filterwarnings('ignore') <br>"
   ]
  },
  {
   "cell_type": "markdown",
   "metadata": {},
   "source": [
    "## Исследование задачи"
   ]
  },
  {
   "cell_type": "code",
   "execution_count": null,
   "metadata": {},
   "outputs": [],
   "source": []
  },
  {
   "cell_type": "markdown",
   "metadata": {},
   "source": [
    "### Точность разных моделей"
   ]
  },
  {
   "cell_type": "code",
   "execution_count": null,
   "metadata": {},
   "outputs": [],
   "source": []
  },
  {
   "cell_type": "code",
   "execution_count": 27,
   "metadata": {},
   "outputs": [],
   "source": [
    "def all_models_accuracy(features_train, target_train, features_valid, target_valid):\n",
    "    model_DTC = DecisionTreeClassifier(random_state=123)\n",
    "    DTC_score = model_DTC.fit(features_train, target_train).score(features_valid, target_valid)\n",
    "    \n",
    "    model_RFC = RandomForestClassifier(random_state=12345, n_estimators = 100)\n",
    "    RFC_score = model_RFC.fit(features_train, target_train).score(features_valid, target_valid)\n",
    "    \n",
    "    model_LgR = LogisticRegression(solver = 'liblinear')\n",
    "    LgR_score = model_LgR.fit(features_train, target_train).score(features_valid, target_valid)\n",
    "    print(\"Точность:\" \"дерево решений\", DTC_score, \"случайный лес \", RFC_score, \"логистческая регрессия\", LgR_score)"
   ]
  },
  {
   "cell_type": "code",
   "execution_count": 28,
   "metadata": {},
   "outputs": [
    {
     "name": "stdout",
     "output_type": "stream",
     "text": [
      "Точность:дерево решений 0.784 случайный лес  0.8605 логистческая регрессия 0.8025\n"
     ]
    }
   ],
   "source": [
    "all_models_accuracy(features_train, target_train, features_valid, target_valid)"
   ]
  },
  {
   "cell_type": "markdown",
   "metadata": {},
   "source": [
    "Проверка баланса классов выборки"
   ]
  },
  {
   "cell_type": "code",
   "execution_count": 29,
   "metadata": {},
   "outputs": [
    {
     "data": {
      "text/plain": [
       "0    0.800667\n",
       "1    0.199333\n",
       "Name: Exited, dtype: float64"
      ]
     },
     "execution_count": 29,
     "metadata": {},
     "output_type": "execute_result"
    }
   ],
   "source": [
    "target_train.value_counts(normalize = 1)"
   ]
  },
  {
   "cell_type": "code",
   "execution_count": 30,
   "metadata": {},
   "outputs": [
    {
     "data": {
      "text/plain": [
       "0    0.791\n",
       "1    0.209\n",
       "Name: Exited, dtype: float64"
      ]
     },
     "execution_count": 30,
     "metadata": {},
     "output_type": "execute_result"
    }
   ],
   "source": [
    "target_valid.value_counts(normalize = 1)"
   ]
  },
  {
   "cell_type": "code",
   "execution_count": null,
   "metadata": {},
   "outputs": [],
   "source": []
  },
  {
   "cell_type": "markdown",
   "metadata": {},
   "source": [
    "### Проверка адекватности"
   ]
  },
  {
   "cell_type": "code",
   "execution_count": 31,
   "metadata": {},
   "outputs": [
    {
     "name": "stdout",
     "output_type": "stream",
     "text": [
      "Доли ответов:дерево решений 0    0.793\n",
      "1    0.207\n",
      "dtype: float64 случайный лес  0    0.8685\n",
      "1    0.1315\n",
      "dtype: float64 логистческая регрессия 0    0.9125\n",
      "1    0.0875\n",
      "dtype: float64"
     ]
    }
   ],
   "source": [
    "def all_models_share(features_train, target_train, features_valid, target_valid):\n",
    "    model_DTC = DecisionTreeClassifier(random_state=123)\n",
    "    model_DTC.fit(features_train, target_train)\n",
    "    DTC_share = pd.Series(model_DTC.predict(features_valid)).value_counts(normalize = 1)\n",
    "    \n",
    "    \n",
    "    \n",
    "    model_RFC = RandomForestClassifier(random_state=12345, n_estimators = 100)\n",
    "    model_RFC.fit(features_train, target_train)\n",
    "    RFC_share = pd.Series(model_RFC.predict(features_valid)).value_counts(normalize = 1)\n",
    "    \n",
    "    model_LgR = LogisticRegression(solver = 'liblinear')\n",
    "    model_LgR.fit(features_train, target_train)\n",
    "    LgR_share = pd.Series(model_LgR.predict(features_valid)).value_counts(normalize = 1)\n",
    "    \n",
    "\n",
    "    \n",
    "    print(\"Доли ответов:\" \"дерево решений\", DTC_share, \"случайный лес \", RFC_share, \"логистческая регрессия\", LgR_share , end='')\n",
    "all_models_share(features_train, target_train, features_valid, target_valid)"
   ]
  },
  {
   "cell_type": "code",
   "execution_count": null,
   "metadata": {},
   "outputs": [],
   "source": []
  },
  {
   "cell_type": "code",
   "execution_count": 32,
   "metadata": {},
   "outputs": [
    {
     "data": {
      "text/plain": [
       "(2000,)"
      ]
     },
     "execution_count": 32,
     "metadata": {},
     "output_type": "execute_result"
    }
   ],
   "source": [
    "#Создаем константную модель\n",
    "target_predict_constant = pd.Series([0]*len(target_valid))\n",
    "target_predict_constant.shape"
   ]
  },
  {
   "cell_type": "code",
   "execution_count": 33,
   "metadata": {},
   "outputs": [
    {
     "data": {
      "text/plain": [
       "0.791"
      ]
     },
     "execution_count": 33,
     "metadata": {},
     "output_type": "execute_result"
    }
   ],
   "source": [
    "accuracy_score_constant = accuracy_score(target_valid, target_predict_constant)\n",
    "accuracy_score_constant"
   ]
  },
  {
   "cell_type": "markdown",
   "metadata": {},
   "source": [
    "Ни одна модель не показал результат выше констентной модели, вероятно проблема кроется в дисбалансе классов.\n",
    "\n",
    "Чтобы разобраться подбробнее ознакомися с матрицой ошибок для каждой модели."
   ]
  },
  {
   "cell_type": "markdown",
   "metadata": {},
   "source": [
    "<div style=\"background: #cceeaa; padding: 5px; border: 1px solid green; border-radius: 5px;\">\n",
    "<font color='green'> \n",
    "    <b><u>КОММЕНТАРИЙ РЕВЬЮЕРА</u></b>\n",
    "<font color='green'><br>\n",
    "ок, есть результат и вывод."
   ]
  },
  {
   "cell_type": "markdown",
   "metadata": {},
   "source": [
    "<div style=\"background: #ffeeaa; padding: 5px; border: 1px solid green; border-radius: 5px;\">\n",
    "<font color='green'> \n",
    "    <b><u>КОММЕНТАРИЙ РЕВЬЮЕРА</u></b>\n",
    "<font color='green'><br>\n",
    "правда не увидел, как подбирались параметры( Для этого валид-выборка и нужна ведь. Ты удалил бок с побором параметров?"
   ]
  },
  {
   "cell_type": "code",
   "execution_count": null,
   "metadata": {},
   "outputs": [],
   "source": []
  },
  {
   "cell_type": "code",
   "execution_count": 34,
   "metadata": {},
   "outputs": [
    {
     "data": {
      "text/plain": [
       "array([[1368,  214],\n",
       "       [ 218,  200]])"
      ]
     },
     "execution_count": 34,
     "metadata": {},
     "output_type": "execute_result"
    }
   ],
   "source": [
    "#матрица ошибок для дерево решений\n",
    "model_DTC = DecisionTreeClassifier(random_state=123)\n",
    "model_DTC.fit(features_train, target_train)\n",
    "DTC_prediction = model_DTC.predict(features_valid)\n",
    "confusion_matrix(target_valid, DTC_prediction)"
   ]
  },
  {
   "cell_type": "code",
   "execution_count": 35,
   "metadata": {},
   "outputs": [],
   "source": [
    "#Изучим полноту, точность и F1-меру\n",
    "def rec_prec_f1(target_valid, prediction):\n",
    "    print(\"Полнота\" , recall_score(target_valid, prediction))\n",
    "    print(\"Точность\", precision_score(target_valid, prediction))\n",
    "    print(\"F1-мера\", f1_score(target_valid, prediction))\n",
    "    print(\"AUC-ROC\", roc_auc_score(target_valid, prediction))"
   ]
  },
  {
   "cell_type": "code",
   "execution_count": 36,
   "metadata": {},
   "outputs": [
    {
     "name": "stdout",
     "output_type": "stream",
     "text": [
      "Полнота 0.4784688995215311\n",
      "Точность 0.4830917874396135\n",
      "F1-мера 0.4807692307692308\n",
      "AUC-ROC 0.6715985458416758\n"
     ]
    }
   ],
   "source": [
    "#полнота, точность и F1-мера для дерева решений\n",
    "rec_prec_f1(target_valid, DTC_prediction)"
   ]
  },
  {
   "cell_type": "markdown",
   "metadata": {},
   "source": [
    "Низкое значние F1- меры свидетельствует о низком качестве модели, проблема в точности."
   ]
  },
  {
   "cell_type": "code",
   "execution_count": 37,
   "metadata": {},
   "outputs": [
    {
     "data": {
      "text/plain": [
       "array([[1520,   62],\n",
       "       [ 217,  201]])"
      ]
     },
     "execution_count": 37,
     "metadata": {},
     "output_type": "execute_result"
    }
   ],
   "source": [
    "#матрица ошибок для случайного леса\n",
    "model_RFC = RandomForestClassifier(random_state=12345, n_estimators = 100)\n",
    "model_RFC.fit(features_train, target_train)\n",
    "RFC_prediction = model_RFC.predict(features_valid)\n",
    "confusion_matrix(target_valid, RFC_prediction)"
   ]
  },
  {
   "cell_type": "code",
   "execution_count": null,
   "metadata": {},
   "outputs": [],
   "source": []
  },
  {
   "cell_type": "code",
   "execution_count": 38,
   "metadata": {},
   "outputs": [
    {
     "name": "stdout",
     "output_type": "stream",
     "text": [
      "Полнота 0.48086124401913877\n",
      "Точность 0.7642585551330798\n",
      "F1-мера 0.5903083700440529\n",
      "AUC-ROC 0.7208351732105808\n"
     ]
    }
   ],
   "source": [
    "#полнота, точность и F1-мера для случайного леса\n",
    "rec_prec_f1(target_valid, RFC_prediction)"
   ]
  },
  {
   "cell_type": "markdown",
   "metadata": {},
   "source": [
    "<div style=\"background: #cceeaa; padding: 5px; border: 1px solid green; border-radius: 5px;\">\n",
    "<font color='green'> \n",
    "    <b><u>КОММЕНТАРИЙ РЕВЬЮЕРА</u></b>\n",
    "<font color='green'><br>\n",
    "таааак, есть важные метрики, ОК."
   ]
  },
  {
   "cell_type": "code",
   "execution_count": null,
   "metadata": {},
   "outputs": [],
   "source": []
  },
  {
   "cell_type": "code",
   "execution_count": 39,
   "metadata": {},
   "outputs": [
    {
     "data": {
      "text/plain": [
       "array([[1506,   76],\n",
       "       [ 319,   99]])"
      ]
     },
     "execution_count": 39,
     "metadata": {},
     "output_type": "execute_result"
    }
   ],
   "source": [
    "#матрица ошибок для логистической регрессии\n",
    "model_LgR = LogisticRegression(solver = 'liblinear')\n",
    "model_LgR.fit(features_train, target_train)\n",
    "LgR_prediction = model_LgR.predict(features_valid)\n",
    "confusion_matrix(target_valid, LgR_prediction)"
   ]
  },
  {
   "cell_type": "markdown",
   "metadata": {},
   "source": [
    "Для логистической регрессии расчитаем метрику AUC-ROC"
   ]
  },
  {
   "cell_type": "code",
   "execution_count": 40,
   "metadata": {},
   "outputs": [
    {
     "data": {
      "text/plain": [
       "0.7585576975423272"
      ]
     },
     "execution_count": 40,
     "metadata": {},
     "output_type": "execute_result"
    }
   ],
   "source": [
    "LgR_probabilities_one_valid = model_LgR.predict_proba(features_valid)[:, 1]\n",
    "\n",
    "auc_roc_LgR = roc_auc_score(target_valid, LgR_probabilities_one_valid)\n",
    "\n",
    "auc_roc_LgR"
   ]
  },
  {
   "cell_type": "code",
   "execution_count": 41,
   "metadata": {},
   "outputs": [
    {
     "data": {
      "image/png": "[encoded data removed]",
      "text/plain": [
       "<Figure size 432x288 with 1 Axes>"
      ]
     },
     "metadata": {
      "needs_background": "light"
     },
     "output_type": "display_data"
    }
   ],
   "source": [
    "fpr, tpr, thresholds = roc_curve(target_valid, LgR_probabilities_one_valid) \n",
    "\n",
    "plt.figure()\n",
    "plt.plot(fpr, tpr)\n",
    "plt.plot([0, 1], [0, 1], linestyle='--')\n",
    "plt.xlim([0.0, 1.0])\n",
    "plt.ylim([0.0, 1.0])\n",
    "plt.xlabel('False Positive Rate')\n",
    "plt.ylabel('True Positive Rate')\n",
    "plt.title('ROC-кривая')\n",
    "plt.show()"
   ]
  },
  {
   "cell_type": "code",
   "execution_count": 42,
   "metadata": {},
   "outputs": [
    {
     "data": {
      "text/plain": [
       "0.7585576975423272"
      ]
     },
     "execution_count": 42,
     "metadata": {},
     "output_type": "execute_result"
    }
   ],
   "source": [
    "LgR_probabilities_one_valid = model_LgR.predict_proba(features_valid)[:, 1]\n",
    "\n",
    "auc_roc_LgR = roc_auc_score(target_valid, LgR_probabilities_one_valid)\n",
    "\n",
    "auc_roc_LgR"
   ]
  },
  {
   "cell_type": "code",
   "execution_count": 43,
   "metadata": {},
   "outputs": [
    {
     "data": {
      "image/png": "[encoded data removed]",
      "text/plain": [
       "<Figure size 432x288 with 1 Axes>"
      ]
     },
     "metadata": {
      "needs_background": "light"
     },
     "output_type": "display_data"
    }
   ],
   "source": [
    "fpr, tpr, thresholds = roc_curve(target_valid, LgR_probabilities_one_valid) \n",
    "\n",
    "plt.figure()\n",
    "plt.plot(fpr, tpr)\n",
    "plt.plot([0, 1], [0, 1], linestyle='--')\n",
    "plt.xlim([0.0, 1.0])\n",
    "plt.ylim([0.0, 1.0])\n",
    "plt.xlabel('False Positive Rate')\n",
    "plt.ylabel('True Positive Rate')\n",
    "plt.title('ROC-кривая')\n",
    "plt.show()"
   ]
  },
  {
   "cell_type": "code",
   "execution_count": 44,
   "metadata": {},
   "outputs": [
    {
     "name": "stdout",
     "output_type": "stream",
     "text": [
      "Score 0.701\n",
      "AUC-ROC 0.7634724381347575\n"
     ]
    },
    {
     "data": {
      "image/png": "[encoded data removed]",
      "text/plain": [
       "<Figure size 432x288 with 1 Axes>"
      ]
     },
     "metadata": {
      "needs_background": "light"
     },
     "output_type": "display_data"
    }
   ],
   "source": [
    "#попробуем обучать логистическую регресию сбалансировав классы\n",
    "model_LgR = LogisticRegression(solver = 'liblinear', class_weight='balanced')\n",
    "model_LgR.fit(features_train, target_train)\n",
    "LgR_probabilities_one_valid_class_weight = model_LgR.predict_proba(features_valid)[:, 1]\n",
    "print(\"Score\", model_LgR.score(features_valid, target_valid))\n",
    "print(\"AUC-ROC\", roc_auc_score(target_valid, LgR_probabilities_one_valid_class_weight))\n",
    "\n",
    "fpr, tpr, thresholds = roc_curve(target_valid, LgR_probabilities_one_valid_class_weight) \n",
    "plt.figure()\n",
    "plt.plot(fpr, tpr)\n",
    "plt.plot([0, 1], [0, 1], linestyle='--')\n",
    "plt.xlim([0.0, 1.0])\n",
    "plt.ylim([0.0, 1.0])\n",
    "plt.xlabel('False Positive Rate')\n",
    "plt.ylabel('True Positive Rate')\n",
    "plt.title('ROC-кривая')\n",
    "plt.show()"
   ]
  },
  {
   "cell_type": "code",
   "execution_count": 45,
   "metadata": {},
   "outputs": [
    {
     "name": "stdout",
     "output_type": "stream",
     "text": [
      "Score 0.701\n",
      "AUC-ROC 0.7634724381347575\n"
     ]
    },
    {
     "data": {
      "image/png": "[encoded data removed]",
      "text/plain": [
       "<Figure size 432x288 with 1 Axes>"
      ]
     },
     "metadata": {
      "needs_background": "light"
     },
     "output_type": "display_data"
    }
   ],
   "source": [
    "#попробуем обучать логистическую регресию сбалансировав классы\n",
    "model_LgR = LogisticRegression(solver = 'liblinear', class_weight='balanced')\n",
    "model_LgR.fit(features_train, target_train)\n",
    "LgR_probabilities_one_valid_class_weight = model_LgR.predict_proba(features_valid)[:, 1]\n",
    "print(\"Score\", model_LgR.score(features_valid, target_valid))\n",
    "print(\"AUC-ROC\", roc_auc_score(target_valid, LgR_probabilities_one_valid_class_weight))\n",
    "\n",
    "fpr, tpr, thresholds = roc_curve(target_valid, LgR_probabilities_one_valid_class_weight) \n",
    "plt.figure()\n",
    "plt.plot(fpr, tpr)\n",
    "plt.plot([0, 1], [0, 1], linestyle='--')\n",
    "plt.xlim([0.0, 1.0])\n",
    "plt.ylim([0.0, 1.0])\n",
    "plt.xlabel('False Positive Rate')\n",
    "plt.ylabel('True Positive Rate')\n",
    "plt.title('ROC-кривая')\n",
    "plt.show()"
   ]
  },
  {
   "cell_type": "markdown",
   "metadata": {},
   "source": [
    "Точность предсказаний не улучшилась."
   ]
  },
  {
   "cell_type": "markdown",
   "metadata": {},
   "source": [
    "<div style=\"background: #cceeaa; padding: 5px; border: 1px solid green; border-radius: 5px;\">\n",
    "<font color='green'> \n",
    "    <b><u>КОММЕНТАРИЙ РЕВЬЮЕРА</u></b>\n",
    "<font color='green'><br>\n",
    "ок, но помним, что нам надо метрику F1 отслеживать в этом проекте)"
   ]
  },
  {
   "cell_type": "code",
   "execution_count": null,
   "metadata": {},
   "outputs": [],
   "source": []
  },
  {
   "cell_type": "code",
   "execution_count": null,
   "metadata": {},
   "outputs": [],
   "source": []
  },
  {
   "cell_type": "markdown",
   "metadata": {},
   "source": [
    "## Борьба с дисбалансом"
   ]
  },
  {
   "cell_type": "raw",
   "metadata": {},
   "source": [
    "1. Разделим обучающую выборку на отрицательные и положительные объекты;\n",
    "2. Скопируем несколько раз положительные объекты;\n",
    "3. С учётом полученных данных создадим новую обучающую выборку;\n",
    "4. Перемешаем данные: идущие друг за другом одинаковые вопросы не помогут обучению.\n",
    "5. Обучим новые модели"
   ]
  },
  {
   "cell_type": "code",
   "execution_count": 46,
   "metadata": {},
   "outputs": [
    {
     "data": {
      "text/plain": [
       "0    0.800667\n",
       "1    0.199333\n",
       "Name: Exited, dtype: float64"
      ]
     },
     "execution_count": 46,
     "metadata": {},
     "output_type": "execute_result"
    }
   ],
   "source": [
    "#Ознакомимся с пероначальным распределением классов\n",
    "target_train.value_counts(normalize = 1)"
   ]
  },
  {
   "cell_type": "code",
   "execution_count": 47,
   "metadata": {},
   "outputs": [
    {
     "data": {
      "text/plain": [
       "(6000,)"
      ]
     },
     "execution_count": 47,
     "metadata": {},
     "output_type": "execute_result"
    }
   ],
   "source": [
    "target_train.shape"
   ]
  },
  {
   "cell_type": "code",
   "execution_count": 48,
   "metadata": {},
   "outputs": [
    {
     "data": {
      "text/plain": [
       "<matplotlib.axes._subplots.AxesSubplot at 0x7efc50597f90>"
      ]
     },
     "execution_count": 48,
     "metadata": {},
     "output_type": "execute_result"
    },
    {
     "data": {
      "image/png": "[encoded data removed]",
      "text/plain": [
       "<Figure size 72x72 with 1 Axes>"
      ]
     },
     "metadata": {
      "needs_background": "light"
     },
     "output_type": "display_data"
    }
   ],
   "source": [
    "target_train.plot(kind ='hist', bins=2, figsize=(1,1))"
   ]
  },
  {
   "cell_type": "code",
   "execution_count": 49,
   "metadata": {},
   "outputs": [],
   "source": [
    "#создадим функцию для увеличения представленной класса в выборке \n",
    "def upsample(features, target, repeat, upsampled_сlass):\n",
    "    features_zeros = features[target == 0]\n",
    "    features_ones = features[target == 1]\n",
    "    target_zeros = target[target == 0]\n",
    "    target_ones = target[target == 1]\n",
    "    \n",
    "    if upsampled_сlass == 0:\n",
    "        features_upsampled = pd.concat([features_zeros]* repeat + [features_ones] )\n",
    "        target_upsampled = pd.concat([target_zeros]* repeat + [target_ones] )\n",
    "        features_upsampled, target_upsampled = shuffle(\n",
    "        features_upsampled, target_upsampled, random_state=12345)\n",
    "        \n",
    "    elif upsampled_сlass == 1:\n",
    "        features_upsampled = pd.concat([features_zeros] + [features_ones] * repeat)\n",
    "        target_upsampled = pd.concat([target_zeros] + [target_ones] * repeat)\n",
    "        features_upsampled, target_upsampled = shuffle(\n",
    "        features_upsampled, target_upsampled, random_state=12345)\n",
    "    else:\n",
    "        features_upsampled = 0\n",
    "        target_upsampled = 0  \n",
    "        \n",
    "        \n",
    "       \n",
    "    return features_upsampled, target_upsampled\n",
    "    \"Функция принимаем значение признаков (features[]), целевого признака (target[]), repeat(int / float), \"\n",
    "    \" класс который будет увеличен (upsampled_сlass (0 or 1))\""
   ]
  },
  {
   "cell_type": "code",
   "execution_count": 50,
   "metadata": {},
   "outputs": [
    {
     "name": "stdout",
     "output_type": "stream",
     "text": [
      "0    0.941407\n",
      "1    0.058593\n",
      "Name: Exited, dtype: float64\n",
      "(20412,)\n"
     ]
    }
   ],
   "source": [
    "#Протестируем функцию (верное значение)\n",
    "features_train_upsampled, target_train_upsampled = upsample(features_train, target_train, 4, 0)\n",
    "print(target_train_upsampled.value_counts(normalize = 1))\n",
    "print(target_train_upsampled.shape)"
   ]
  },
  {
   "cell_type": "code",
   "execution_count": 51,
   "metadata": {},
   "outputs": [
    {
     "data": {
      "text/plain": [
       "0"
      ]
     },
     "execution_count": 51,
     "metadata": {},
     "output_type": "execute_result"
    }
   ],
   "source": [
    "#Протестируем функцию (верное значение)\n",
    "features_train_upsampled, target_train_upsampled = upsample(features_train, target_train, 4, 3)\n",
    "features_train_upsampled"
   ]
  },
  {
   "cell_type": "code",
   "execution_count": 52,
   "metadata": {},
   "outputs": [
    {
     "name": "stdout",
     "output_type": "stream",
     "text": [
      "0    0.501043\n",
      "1    0.498957\n",
      "Name: Exited, dtype: float64\n",
      "(9588,)\n"
     ]
    }
   ],
   "source": [
    "#применим функцию upsample \n",
    "#увеличим количество положительных ответов в 4 раза\n",
    "features_train_upsampled, target_train_upsampled = upsample(features_train, target_train, 4, 1)\n",
    "print(target_train_upsampled.value_counts(normalize = 1))\n",
    "print(target_train_upsampled.shape)"
   ]
  },
  {
   "cell_type": "code",
   "execution_count": 53,
   "metadata": {},
   "outputs": [
    {
     "data": {
      "text/plain": [
       "<matplotlib.axes._subplots.AxesSubplot at 0x7efc5057cbd0>"
      ]
     },
     "execution_count": 53,
     "metadata": {},
     "output_type": "execute_result"
    },
    {
     "data": {
      "image/png": "[encoded data removed]",
      "text/plain": [
       "<Figure size 72x72 with 1 Axes>"
      ]
     },
     "metadata": {
      "needs_background": "light"
     },
     "output_type": "display_data"
    }
   ],
   "source": [
    "target_train_upsampled.plot(kind ='hist', bins=2, figsize=(1,1))"
   ]
  },
  {
   "cell_type": "markdown",
   "metadata": {},
   "source": [
    "<div style=\"background: #cceeaa; padding: 5px; border: 1px solid green; border-radius: 5px;\">\n",
    "<font color='green'> \n",
    "    <b><u>КОММЕНТАРИЙ РЕВЬЮЕРА</u></b>\n",
    "<font color='green'><br>\n",
    "Хорошо, балансируем ТОЛЬКО трайн."
   ]
  },
  {
   "cell_type": "code",
   "execution_count": null,
   "metadata": {},
   "outputs": [],
   "source": []
  },
  {
   "cell_type": "markdown",
   "metadata": {},
   "source": [
    "### Обучение моделей на сбаланированной выборке"
   ]
  },
  {
   "cell_type": "code",
   "execution_count": 54,
   "metadata": {},
   "outputs": [
    {
     "name": "stdout",
     "output_type": "stream",
     "text": [
      "Точность:дерево решений 0.784 случайный лес  0.8605 логистческая регрессия 0.8025\n"
     ]
    }
   ],
   "source": [
    "#точность моделей на выборке с дисбалансом\n",
    "all_models_accuracy(features_train, target_train, features_valid, target_valid)"
   ]
  },
  {
   "cell_type": "code",
   "execution_count": 55,
   "metadata": {},
   "outputs": [
    {
     "name": "stdout",
     "output_type": "stream",
     "text": [
      "Точность:дерево решений 0.7745 случайный лес  0.8495 логистческая регрессия 0.7005\n"
     ]
    }
   ],
   "source": [
    "#точность моделей на сбалансированной выборке\n",
    "all_models_accuracy(features_train_upsampled, target_train_upsampled, features_valid, target_valid)"
   ]
  },
  {
   "cell_type": "markdown",
   "metadata": {},
   "source": [
    "Проверим изменилось ли качество предсказаний"
   ]
  },
  {
   "cell_type": "code",
   "execution_count": 56,
   "metadata": {},
   "outputs": [
    {
     "name": "stdout",
     "output_type": "stream",
     "text": [
      "Полнота 0.4449760765550239\n",
      "Точность 0.45925925925925926\n",
      "F1-мера 0.4520048602673147\n",
      "AUC-ROC 0.6532718562294715\n"
     ]
    }
   ],
   "source": [
    "#Решающее дерево\n",
    "model_DTC_upsampled = DecisionTreeClassifier(random_state=123)\n",
    "model_DTC_upsampled.fit(features_train_upsampled, target_train_upsampled)\n",
    "DTC_prediction_upsampled = model_DTC_upsampled.predict(features_valid)\n",
    "rec_prec_f1(target_valid, DTC_prediction_upsampled)"
   ]
  },
  {
   "cell_type": "code",
   "execution_count": 57,
   "metadata": {},
   "outputs": [
    {
     "name": "stdout",
     "output_type": "stream",
     "text": [
      "Полнота 0.5334928229665071\n",
      "Точность 0.6778115501519757\n",
      "F1-мера 0.5970548862115126\n",
      "AUC-ROC 0.7332445151494988\n"
     ]
    }
   ],
   "source": [
    "#Случайный лес\n",
    "model_RFC_upsampled = RandomForestClassifier(random_state=12345, n_estimators = 100)\n",
    "model_RFC_upsampled.fit(features_train_upsampled, target_train_upsampled)\n",
    "RFC_prediction_upsampled = model_RFC_upsampled.predict(features_valid)\n",
    "rec_prec_f1(target_valid, RFC_prediction_upsampled)"
   ]
  },
  {
   "cell_type": "code",
   "execution_count": 58,
   "metadata": {},
   "outputs": [
    {
     "name": "stdout",
     "output_type": "stream",
     "text": [
      "Полнота 0.6818181818181818\n",
      "Точность 0.3794940079893475\n",
      "F1-мера 0.4875962360992301\n",
      "AUC-ROC 0.6936271692908861\n"
     ]
    }
   ],
   "source": [
    "#Логистическая регрессия\n",
    "model_LgR_upsampled = LogisticRegression(solver = 'liblinear')\n",
    "model_LgR_upsampled.fit(features_train_upsampled, target_train_upsampled)\n",
    "LgR_prediction_upsampled = model_LgR_upsampled.predict(features_valid)\n",
    "rec_prec_f1(target_valid, LgR_prediction_upsampled)"
   ]
  },
  {
   "cell_type": "markdown",
   "metadata": {},
   "source": [
    "Вывод: \n",
    "\n",
    "Показания всех моделей улучшилась. Лучший результат показывает модель \"случайный лес\" 0,0597, что уже можно считать лучше целевого показателя. Путем изменения параметров постаремся улучшить модель ещё."
   ]
  },
  {
   "cell_type": "markdown",
   "metadata": {},
   "source": [
    "<div style=\"background: #ffeeaa; padding: 5px; border: 1px solid green; border-radius: 5px;\">\n",
    "<font color='green'> \n",
    "    <b><u>КОММЕНТАРИЙ РЕВЬЮЕРА</u></b>\n",
    "<font color='green'><br>\n",
    "а выводы? Есть вопрос \"Проверим изменилось ли качество предсказаний\", а ответа и нет(.."
   ]
  },
  {
   "cell_type": "markdown",
   "metadata": {},
   "source": [
    "### Улучшение модели"
   ]
  },
  {
   "cell_type": "code",
   "execution_count": 59,
   "metadata": {},
   "outputs": [],
   "source": [
    "from itertools import product\n",
    "import tqdm"
   ]
  },
  {
   "cell_type": "markdown",
   "metadata": {},
   "source": [
    "<div style=\"background: #cceeaa; padding: 5px; border: 1px solid green; border-radius: 5px;\">\n",
    "<font color='green'> \n",
    "    <b><u>КОММЕНТАРИЙ РЕВЬЮЕРА</u></b>\n",
    "<font color='green'><br>ООООО, вижу подготовка к перебору гиперпараметров...."
   ]
  },
  {
   "cell_type": "code",
   "execution_count": 67,
   "metadata": {},
   "outputs": [],
   "source": [
    "def RandomForestQuality(features_train, target_train, features_valid, target_valid):\n",
    "    \n",
    "    #Параметры для перебора\n",
    "    bootstrap = [True, False]\n",
    "    class_weight = ['balanced', 'balanced_subsample', None]\n",
    "    max_features = ['auto', 'sqrt', 'log2'] \n",
    "    max_depth = [] #диапазон изменения параметра мксимальной глубины каждого дерева\n",
    "    for i in range(1, 20):\n",
    "        max_depth.append(i)\n",
    "\n",
    "    #Метод itertools.product для перебора нескольких параметров\n",
    "    myproduct = product(bootstrap, class_weight, max_features, max_depth)\n",
    "    \n",
    "    #Строки, котоыре будут наполняться циклом при переборе параметров\n",
    "    bootstrap_table = []\n",
    "    class_weight_table = []\n",
    "    features_table = []\n",
    "    depth_table = []\n",
    "    f1_table = []\n",
    "    recall_table = []\n",
    "    precision_table = []\n",
    "    score_train_table = []\n",
    "    score_valid_table = []\n",
    "    \n",
    "    #Цикл перебора всех параметров: bootstrap, class_weight, max_features, max_depth\n",
    "    for p in tqdm.tqdm(myproduct,):\n",
    "        #Обучение модели\n",
    "        model_forest = RandomForestClassifier(\n",
    "            bootstrap=p[0] , class_weight= p[1], max_features = p[2], max_depth = p[3], \n",
    "            n_estimators = 10, random_state=12345)\n",
    "        model_forest.fit(features_train, target_train)\n",
    "        prediction = model_forest.predict(features_valid) #предсказание целевого признака\n",
    "        \n",
    "        #расчет параметров\n",
    "        f1 = f1_score(target_valid, prediction)\n",
    "        recall = recall_score(target_valid, prediction)\n",
    "        precision = precision_score(target_valid, prediction)\n",
    "        score_train = model_forest.score(features_train, target_train)\n",
    "        score_valid = model_forest.score(features_valid, target_valid)\n",
    "        \n",
    "        #внесение значиний параметров в строки\n",
    "        bootstrap_table.append(p[0])\n",
    "        class_weight_table.append(p[1])\n",
    "        features_table.append(p[2])\n",
    "        depth_table.append(p[3])\n",
    "\n",
    "        #внесение значений метрик в строки\n",
    "        f1_table.append(f1)\n",
    "        recall_table.append(recall)\n",
    "        precision_table.append(precision)\n",
    "        score_train_table.append(score_train)\n",
    "        score_valid_table.append(score_valid)\n",
    "               \n",
    "    \n",
    "    #Обоъединение строк в датафрем\n",
    "    quality_table = pd.DataFrame(data = (\n",
    "        bootstrap_table, class_weight_table, features_table, depth_table, \n",
    "        f1_table, recall_table, precision_table, score_train_table, score_valid_table)).T\n",
    "    quality_table.columns = (\n",
    "        'bootstrap', 'class_weight', 'max_features', 'max_depth', 'f1', 'recall', 'precision', 'score_train', 'score_valid')\n",
    "    return quality_table\n",
    "\n",
    "    \"4 параметра: features_train, target_train — признаки и целевой признак обучающей выборки\"\n",
    "    \"features_valid, target_valid — признаки и целевой признак обучающей выборки\""
   ]
  },
  {
   "cell_type": "code",
   "execution_count": null,
   "metadata": {},
   "outputs": [],
   "source": [
    "%%time\n",
    "quality_table = RandomForestQuality(features_train_upsampled, target_train_upsampled, features_valid, target_valid)"
   ]
  },
  {
   "cell_type": "code",
   "execution_count": 69,
   "metadata": {
    "scrolled": false
   },
   "outputs": [
    {
     "data": {
      "text/html": [
       "<div>\n",
       "<style scoped>\n",
       "    .dataframe tbody tr th:only-of-type {\n",
       "        vertical-align: middle;\n",
       "    }\n",
       "\n",
       "    .dataframe tbody tr th {\n",
       "        vertical-align: top;\n",
       "    }\n",
       "\n",
       "    .dataframe thead th {\n",
       "        text-align: right;\n",
       "    }\n",
       "</style>\n",
       "<table border=\"1\" class=\"dataframe\">\n",
       "  <thead>\n",
       "    <tr style=\"text-align: right;\">\n",
       "      <th></th>\n",
       "      <th>bootstrap</th>\n",
       "      <th>class_weight</th>\n",
       "      <th>max_features</th>\n",
       "      <th>max_depth</th>\n",
       "      <th>f1</th>\n",
       "      <th>recall</th>\n",
       "      <th>precision</th>\n",
       "      <th>score_train</th>\n",
       "      <th>score_valid</th>\n",
       "    </tr>\n",
       "  </thead>\n",
       "  <tbody>\n",
       "    <tr>\n",
       "      <td>328</td>\n",
       "      <td>False</td>\n",
       "      <td>None</td>\n",
       "      <td>log2</td>\n",
       "      <td>6</td>\n",
       "      <td>0.608258</td>\n",
       "      <td>0.722488</td>\n",
       "      <td>0.525217</td>\n",
       "      <td>0.796934</td>\n",
       "      <td>0.8055</td>\n",
       "    </tr>\n",
       "    <tr>\n",
       "      <td>233</td>\n",
       "      <td>False</td>\n",
       "      <td>balanced_subsample</td>\n",
       "      <td>auto</td>\n",
       "      <td>6</td>\n",
       "      <td>0.608258</td>\n",
       "      <td>0.722488</td>\n",
       "      <td>0.525217</td>\n",
       "      <td>0.796829</td>\n",
       "      <td>0.8055</td>\n",
       "    </tr>\n",
       "    <tr>\n",
       "      <td>195</td>\n",
       "      <td>False</td>\n",
       "      <td>balanced</td>\n",
       "      <td>sqrt</td>\n",
       "      <td>6</td>\n",
       "      <td>0.608258</td>\n",
       "      <td>0.722488</td>\n",
       "      <td>0.525217</td>\n",
       "      <td>0.796829</td>\n",
       "      <td>0.8055</td>\n",
       "    </tr>\n",
       "    <tr>\n",
       "      <td>309</td>\n",
       "      <td>False</td>\n",
       "      <td>None</td>\n",
       "      <td>sqrt</td>\n",
       "      <td>6</td>\n",
       "      <td>0.608258</td>\n",
       "      <td>0.722488</td>\n",
       "      <td>0.525217</td>\n",
       "      <td>0.796934</td>\n",
       "      <td>0.8055</td>\n",
       "    </tr>\n",
       "    <tr>\n",
       "      <td>290</td>\n",
       "      <td>False</td>\n",
       "      <td>None</td>\n",
       "      <td>auto</td>\n",
       "      <td>6</td>\n",
       "      <td>0.608258</td>\n",
       "      <td>0.722488</td>\n",
       "      <td>0.525217</td>\n",
       "      <td>0.796934</td>\n",
       "      <td>0.8055</td>\n",
       "    </tr>\n",
       "    <tr>\n",
       "      <td>214</td>\n",
       "      <td>False</td>\n",
       "      <td>balanced</td>\n",
       "      <td>log2</td>\n",
       "      <td>6</td>\n",
       "      <td>0.608258</td>\n",
       "      <td>0.722488</td>\n",
       "      <td>0.525217</td>\n",
       "      <td>0.796829</td>\n",
       "      <td>0.8055</td>\n",
       "    </tr>\n",
       "    <tr>\n",
       "      <td>271</td>\n",
       "      <td>False</td>\n",
       "      <td>balanced_subsample</td>\n",
       "      <td>log2</td>\n",
       "      <td>6</td>\n",
       "      <td>0.608258</td>\n",
       "      <td>0.722488</td>\n",
       "      <td>0.525217</td>\n",
       "      <td>0.796829</td>\n",
       "      <td>0.8055</td>\n",
       "    </tr>\n",
       "    <tr>\n",
       "      <td>176</td>\n",
       "      <td>False</td>\n",
       "      <td>balanced</td>\n",
       "      <td>auto</td>\n",
       "      <td>6</td>\n",
       "      <td>0.608258</td>\n",
       "      <td>0.722488</td>\n",
       "      <td>0.525217</td>\n",
       "      <td>0.796829</td>\n",
       "      <td>0.8055</td>\n",
       "    </tr>\n",
       "    <tr>\n",
       "      <td>252</td>\n",
       "      <td>False</td>\n",
       "      <td>balanced_subsample</td>\n",
       "      <td>sqrt</td>\n",
       "      <td>6</td>\n",
       "      <td>0.608258</td>\n",
       "      <td>0.722488</td>\n",
       "      <td>0.525217</td>\n",
       "      <td>0.796829</td>\n",
       "      <td>0.8055</td>\n",
       "    </tr>\n",
       "    <tr>\n",
       "      <td>213</td>\n",
       "      <td>False</td>\n",
       "      <td>balanced</td>\n",
       "      <td>log2</td>\n",
       "      <td>5</td>\n",
       "      <td>0.608237</td>\n",
       "      <td>0.688995</td>\n",
       "      <td>0.544423</td>\n",
       "      <td>0.779203</td>\n",
       "      <td>0.8145</td>\n",
       "    </tr>\n",
       "    <tr>\n",
       "      <td>232</td>\n",
       "      <td>False</td>\n",
       "      <td>balanced_subsample</td>\n",
       "      <td>auto</td>\n",
       "      <td>5</td>\n",
       "      <td>0.608237</td>\n",
       "      <td>0.688995</td>\n",
       "      <td>0.544423</td>\n",
       "      <td>0.779203</td>\n",
       "      <td>0.8145</td>\n",
       "    </tr>\n",
       "    <tr>\n",
       "      <td>270</td>\n",
       "      <td>False</td>\n",
       "      <td>balanced_subsample</td>\n",
       "      <td>log2</td>\n",
       "      <td>5</td>\n",
       "      <td>0.608237</td>\n",
       "      <td>0.688995</td>\n",
       "      <td>0.544423</td>\n",
       "      <td>0.779203</td>\n",
       "      <td>0.8145</td>\n",
       "    </tr>\n",
       "    <tr>\n",
       "      <td>251</td>\n",
       "      <td>False</td>\n",
       "      <td>balanced_subsample</td>\n",
       "      <td>sqrt</td>\n",
       "      <td>5</td>\n",
       "      <td>0.608237</td>\n",
       "      <td>0.688995</td>\n",
       "      <td>0.544423</td>\n",
       "      <td>0.779203</td>\n",
       "      <td>0.8145</td>\n",
       "    </tr>\n",
       "    <tr>\n",
       "      <td>289</td>\n",
       "      <td>False</td>\n",
       "      <td>None</td>\n",
       "      <td>auto</td>\n",
       "      <td>5</td>\n",
       "      <td>0.608237</td>\n",
       "      <td>0.688995</td>\n",
       "      <td>0.544423</td>\n",
       "      <td>0.778786</td>\n",
       "      <td>0.8145</td>\n",
       "    </tr>\n",
       "    <tr>\n",
       "      <td>308</td>\n",
       "      <td>False</td>\n",
       "      <td>None</td>\n",
       "      <td>sqrt</td>\n",
       "      <td>5</td>\n",
       "      <td>0.608237</td>\n",
       "      <td>0.688995</td>\n",
       "      <td>0.544423</td>\n",
       "      <td>0.778786</td>\n",
       "      <td>0.8145</td>\n",
       "    </tr>\n",
       "    <tr>\n",
       "      <td>327</td>\n",
       "      <td>False</td>\n",
       "      <td>None</td>\n",
       "      <td>log2</td>\n",
       "      <td>5</td>\n",
       "      <td>0.608237</td>\n",
       "      <td>0.688995</td>\n",
       "      <td>0.544423</td>\n",
       "      <td>0.778786</td>\n",
       "      <td>0.8145</td>\n",
       "    </tr>\n",
       "    <tr>\n",
       "      <td>194</td>\n",
       "      <td>False</td>\n",
       "      <td>balanced</td>\n",
       "      <td>sqrt</td>\n",
       "      <td>5</td>\n",
       "      <td>0.608237</td>\n",
       "      <td>0.688995</td>\n",
       "      <td>0.544423</td>\n",
       "      <td>0.779203</td>\n",
       "      <td>0.8145</td>\n",
       "    </tr>\n",
       "    <tr>\n",
       "      <td>175</td>\n",
       "      <td>False</td>\n",
       "      <td>balanced</td>\n",
       "      <td>auto</td>\n",
       "      <td>5</td>\n",
       "      <td>0.608237</td>\n",
       "      <td>0.688995</td>\n",
       "      <td>0.544423</td>\n",
       "      <td>0.779203</td>\n",
       "      <td>0.8145</td>\n",
       "    </tr>\n",
       "    <tr>\n",
       "      <td>155</td>\n",
       "      <td>True</td>\n",
       "      <td>None</td>\n",
       "      <td>log2</td>\n",
       "      <td>4</td>\n",
       "      <td>0.606426</td>\n",
       "      <td>0.722488</td>\n",
       "      <td>0.522491</td>\n",
       "      <td>0.763559</td>\n",
       "      <td>0.804</td>\n",
       "    </tr>\n",
       "    <tr>\n",
       "      <td>136</td>\n",
       "      <td>True</td>\n",
       "      <td>None</td>\n",
       "      <td>sqrt</td>\n",
       "      <td>4</td>\n",
       "      <td>0.606426</td>\n",
       "      <td>0.722488</td>\n",
       "      <td>0.522491</td>\n",
       "      <td>0.763559</td>\n",
       "      <td>0.804</td>\n",
       "    </tr>\n",
       "    <tr>\n",
       "      <td>117</td>\n",
       "      <td>True</td>\n",
       "      <td>None</td>\n",
       "      <td>auto</td>\n",
       "      <td>4</td>\n",
       "      <td>0.606426</td>\n",
       "      <td>0.722488</td>\n",
       "      <td>0.522491</td>\n",
       "      <td>0.763559</td>\n",
       "      <td>0.804</td>\n",
       "    </tr>\n",
       "    <tr>\n",
       "      <td>41</td>\n",
       "      <td>True</td>\n",
       "      <td>balanced</td>\n",
       "      <td>log2</td>\n",
       "      <td>4</td>\n",
       "      <td>0.606</td>\n",
       "      <td>0.72488</td>\n",
       "      <td>0.520619</td>\n",
       "      <td>0.767522</td>\n",
       "      <td>0.803</td>\n",
       "    </tr>\n",
       "    <tr>\n",
       "      <td>3</td>\n",
       "      <td>True</td>\n",
       "      <td>balanced</td>\n",
       "      <td>auto</td>\n",
       "      <td>4</td>\n",
       "      <td>0.606</td>\n",
       "      <td>0.72488</td>\n",
       "      <td>0.520619</td>\n",
       "      <td>0.767522</td>\n",
       "      <td>0.803</td>\n",
       "    </tr>\n",
       "    <tr>\n",
       "      <td>22</td>\n",
       "      <td>True</td>\n",
       "      <td>balanced</td>\n",
       "      <td>sqrt</td>\n",
       "      <td>4</td>\n",
       "      <td>0.606</td>\n",
       "      <td>0.72488</td>\n",
       "      <td>0.520619</td>\n",
       "      <td>0.767522</td>\n",
       "      <td>0.803</td>\n",
       "    </tr>\n",
       "    <tr>\n",
       "      <td>137</td>\n",
       "      <td>True</td>\n",
       "      <td>None</td>\n",
       "      <td>sqrt</td>\n",
       "      <td>5</td>\n",
       "      <td>0.602927</td>\n",
       "      <td>0.739234</td>\n",
       "      <td>0.509061</td>\n",
       "      <td>0.782645</td>\n",
       "      <td>0.7965</td>\n",
       "    </tr>\n",
       "    <tr>\n",
       "      <td>118</td>\n",
       "      <td>True</td>\n",
       "      <td>None</td>\n",
       "      <td>auto</td>\n",
       "      <td>5</td>\n",
       "      <td>0.602927</td>\n",
       "      <td>0.739234</td>\n",
       "      <td>0.509061</td>\n",
       "      <td>0.782645</td>\n",
       "      <td>0.7965</td>\n",
       "    </tr>\n",
       "    <tr>\n",
       "      <td>156</td>\n",
       "      <td>True</td>\n",
       "      <td>None</td>\n",
       "      <td>log2</td>\n",
       "      <td>5</td>\n",
       "      <td>0.602927</td>\n",
       "      <td>0.739234</td>\n",
       "      <td>0.509061</td>\n",
       "      <td>0.782645</td>\n",
       "      <td>0.7965</td>\n",
       "    </tr>\n",
       "    <tr>\n",
       "      <td>98</td>\n",
       "      <td>True</td>\n",
       "      <td>balanced_subsample</td>\n",
       "      <td>log2</td>\n",
       "      <td>4</td>\n",
       "      <td>0.602386</td>\n",
       "      <td>0.72488</td>\n",
       "      <td>0.515306</td>\n",
       "      <td>0.766896</td>\n",
       "      <td>0.8</td>\n",
       "    </tr>\n",
       "    <tr>\n",
       "      <td>60</td>\n",
       "      <td>True</td>\n",
       "      <td>balanced_subsample</td>\n",
       "      <td>auto</td>\n",
       "      <td>4</td>\n",
       "      <td>0.602386</td>\n",
       "      <td>0.72488</td>\n",
       "      <td>0.515306</td>\n",
       "      <td>0.766896</td>\n",
       "      <td>0.8</td>\n",
       "    </tr>\n",
       "    <tr>\n",
       "      <td>79</td>\n",
       "      <td>True</td>\n",
       "      <td>balanced_subsample</td>\n",
       "      <td>sqrt</td>\n",
       "      <td>4</td>\n",
       "      <td>0.602386</td>\n",
       "      <td>0.72488</td>\n",
       "      <td>0.515306</td>\n",
       "      <td>0.766896</td>\n",
       "      <td>0.8</td>\n",
       "    </tr>\n",
       "    <tr>\n",
       "      <td>23</td>\n",
       "      <td>True</td>\n",
       "      <td>balanced</td>\n",
       "      <td>sqrt</td>\n",
       "      <td>5</td>\n",
       "      <td>0.601167</td>\n",
       "      <td>0.739234</td>\n",
       "      <td>0.506557</td>\n",
       "      <td>0.781602</td>\n",
       "      <td>0.795</td>\n",
       "    </tr>\n",
       "    <tr>\n",
       "      <td>42</td>\n",
       "      <td>True</td>\n",
       "      <td>balanced</td>\n",
       "      <td>log2</td>\n",
       "      <td>5</td>\n",
       "      <td>0.601167</td>\n",
       "      <td>0.739234</td>\n",
       "      <td>0.506557</td>\n",
       "      <td>0.781602</td>\n",
       "      <td>0.795</td>\n",
       "    </tr>\n",
       "    <tr>\n",
       "      <td>4</td>\n",
       "      <td>True</td>\n",
       "      <td>balanced</td>\n",
       "      <td>auto</td>\n",
       "      <td>5</td>\n",
       "      <td>0.601167</td>\n",
       "      <td>0.739234</td>\n",
       "      <td>0.506557</td>\n",
       "      <td>0.781602</td>\n",
       "      <td>0.795</td>\n",
       "    </tr>\n",
       "    <tr>\n",
       "      <td>99</td>\n",
       "      <td>True</td>\n",
       "      <td>balanced_subsample</td>\n",
       "      <td>log2</td>\n",
       "      <td>5</td>\n",
       "      <td>0.599613</td>\n",
       "      <td>0.741627</td>\n",
       "      <td>0.503247</td>\n",
       "      <td>0.782854</td>\n",
       "      <td>0.793</td>\n",
       "    </tr>\n",
       "    <tr>\n",
       "      <td>61</td>\n",
       "      <td>True</td>\n",
       "      <td>balanced_subsample</td>\n",
       "      <td>auto</td>\n",
       "      <td>5</td>\n",
       "      <td>0.599613</td>\n",
       "      <td>0.741627</td>\n",
       "      <td>0.503247</td>\n",
       "      <td>0.782854</td>\n",
       "      <td>0.793</td>\n",
       "    </tr>\n",
       "    <tr>\n",
       "      <td>80</td>\n",
       "      <td>True</td>\n",
       "      <td>balanced_subsample</td>\n",
       "      <td>sqrt</td>\n",
       "      <td>5</td>\n",
       "      <td>0.599613</td>\n",
       "      <td>0.741627</td>\n",
       "      <td>0.503247</td>\n",
       "      <td>0.782854</td>\n",
       "      <td>0.793</td>\n",
       "    </tr>\n",
       "    <tr>\n",
       "      <td>288</td>\n",
       "      <td>False</td>\n",
       "      <td>None</td>\n",
       "      <td>auto</td>\n",
       "      <td>4</td>\n",
       "      <td>0.598555</td>\n",
       "      <td>0.69378</td>\n",
       "      <td>0.526316</td>\n",
       "      <td>0.762933</td>\n",
       "      <td>0.8055</td>\n",
       "    </tr>\n",
       "    <tr>\n",
       "      <td>326</td>\n",
       "      <td>False</td>\n",
       "      <td>None</td>\n",
       "      <td>log2</td>\n",
       "      <td>4</td>\n",
       "      <td>0.598555</td>\n",
       "      <td>0.69378</td>\n",
       "      <td>0.526316</td>\n",
       "      <td>0.762933</td>\n",
       "      <td>0.8055</td>\n",
       "    </tr>\n",
       "    <tr>\n",
       "      <td>307</td>\n",
       "      <td>False</td>\n",
       "      <td>None</td>\n",
       "      <td>sqrt</td>\n",
       "      <td>4</td>\n",
       "      <td>0.598555</td>\n",
       "      <td>0.69378</td>\n",
       "      <td>0.526316</td>\n",
       "      <td>0.762933</td>\n",
       "      <td>0.8055</td>\n",
       "    </tr>\n",
       "    <tr>\n",
       "      <td>250</td>\n",
       "      <td>False</td>\n",
       "      <td>balanced_subsample</td>\n",
       "      <td>sqrt</td>\n",
       "      <td>4</td>\n",
       "      <td>0.595701</td>\n",
       "      <td>0.696172</td>\n",
       "      <td>0.520572</td>\n",
       "      <td>0.762411</td>\n",
       "      <td>0.8025</td>\n",
       "    </tr>\n",
       "    <tr>\n",
       "      <td>174</td>\n",
       "      <td>False</td>\n",
       "      <td>balanced</td>\n",
       "      <td>auto</td>\n",
       "      <td>4</td>\n",
       "      <td>0.595701</td>\n",
       "      <td>0.696172</td>\n",
       "      <td>0.520572</td>\n",
       "      <td>0.762411</td>\n",
       "      <td>0.8025</td>\n",
       "    </tr>\n",
       "    <tr>\n",
       "      <td>269</td>\n",
       "      <td>False</td>\n",
       "      <td>balanced_subsample</td>\n",
       "      <td>log2</td>\n",
       "      <td>4</td>\n",
       "      <td>0.595701</td>\n",
       "      <td>0.696172</td>\n",
       "      <td>0.520572</td>\n",
       "      <td>0.762411</td>\n",
       "      <td>0.8025</td>\n",
       "    </tr>\n",
       "    <tr>\n",
       "      <td>212</td>\n",
       "      <td>False</td>\n",
       "      <td>balanced</td>\n",
       "      <td>log2</td>\n",
       "      <td>4</td>\n",
       "      <td>0.595701</td>\n",
       "      <td>0.696172</td>\n",
       "      <td>0.520572</td>\n",
       "      <td>0.762411</td>\n",
       "      <td>0.8025</td>\n",
       "    </tr>\n",
       "    <tr>\n",
       "      <td>193</td>\n",
       "      <td>False</td>\n",
       "      <td>balanced</td>\n",
       "      <td>sqrt</td>\n",
       "      <td>4</td>\n",
       "      <td>0.595701</td>\n",
       "      <td>0.696172</td>\n",
       "      <td>0.520572</td>\n",
       "      <td>0.762411</td>\n",
       "      <td>0.8025</td>\n",
       "    </tr>\n",
       "    <tr>\n",
       "      <td>231</td>\n",
       "      <td>False</td>\n",
       "      <td>balanced_subsample</td>\n",
       "      <td>auto</td>\n",
       "      <td>4</td>\n",
       "      <td>0.595701</td>\n",
       "      <td>0.696172</td>\n",
       "      <td>0.520572</td>\n",
       "      <td>0.762411</td>\n",
       "      <td>0.8025</td>\n",
       "    </tr>\n",
       "    <tr>\n",
       "      <td>40</td>\n",
       "      <td>True</td>\n",
       "      <td>balanced</td>\n",
       "      <td>log2</td>\n",
       "      <td>3</td>\n",
       "      <td>0.579297</td>\n",
       "      <td>0.729665</td>\n",
       "      <td>0.480315</td>\n",
       "      <td>0.761786</td>\n",
       "      <td>0.7785</td>\n",
       "    </tr>\n",
       "    <tr>\n",
       "      <td>116</td>\n",
       "      <td>True</td>\n",
       "      <td>None</td>\n",
       "      <td>auto</td>\n",
       "      <td>3</td>\n",
       "      <td>0.579297</td>\n",
       "      <td>0.729665</td>\n",
       "      <td>0.480315</td>\n",
       "      <td>0.761786</td>\n",
       "      <td>0.7785</td>\n",
       "    </tr>\n",
       "    <tr>\n",
       "      <td>21</td>\n",
       "      <td>True</td>\n",
       "      <td>balanced</td>\n",
       "      <td>sqrt</td>\n",
       "      <td>3</td>\n",
       "      <td>0.579297</td>\n",
       "      <td>0.729665</td>\n",
       "      <td>0.480315</td>\n",
       "      <td>0.761786</td>\n",
       "      <td>0.7785</td>\n",
       "    </tr>\n",
       "    <tr>\n",
       "      <td>2</td>\n",
       "      <td>True</td>\n",
       "      <td>balanced</td>\n",
       "      <td>auto</td>\n",
       "      <td>3</td>\n",
       "      <td>0.579297</td>\n",
       "      <td>0.729665</td>\n",
       "      <td>0.480315</td>\n",
       "      <td>0.761786</td>\n",
       "      <td>0.7785</td>\n",
       "    </tr>\n",
       "    <tr>\n",
       "      <td>154</td>\n",
       "      <td>True</td>\n",
       "      <td>None</td>\n",
       "      <td>log2</td>\n",
       "      <td>3</td>\n",
       "      <td>0.579297</td>\n",
       "      <td>0.729665</td>\n",
       "      <td>0.480315</td>\n",
       "      <td>0.761786</td>\n",
       "      <td>0.7785</td>\n",
       "    </tr>\n",
       "  </tbody>\n",
       "</table>\n",
       "</div>"
      ],
      "text/plain": [
       "    bootstrap        class_weight max_features max_depth        f1    recall  \\\n",
       "328     False                None         log2         6  0.608258  0.722488   \n",
       "233     False  balanced_subsample         auto         6  0.608258  0.722488   \n",
       "195     False            balanced         sqrt         6  0.608258  0.722488   \n",
       "309     False                None         sqrt         6  0.608258  0.722488   \n",
       "290     False                None         auto         6  0.608258  0.722488   \n",
       "214     False            balanced         log2         6  0.608258  0.722488   \n",
       "271     False  balanced_subsample         log2         6  0.608258  0.722488   \n",
       "176     False            balanced         auto         6  0.608258  0.722488   \n",
       "252     False  balanced_subsample         sqrt         6  0.608258  0.722488   \n",
       "213     False            balanced         log2         5  0.608237  0.688995   \n",
       "232     False  balanced_subsample         auto         5  0.608237  0.688995   \n",
       "270     False  balanced_subsample         log2         5  0.608237  0.688995   \n",
       "251     False  balanced_subsample         sqrt         5  0.608237  0.688995   \n",
       "289     False                None         auto         5  0.608237  0.688995   \n",
       "308     False                None         sqrt         5  0.608237  0.688995   \n",
       "327     False                None         log2         5  0.608237  0.688995   \n",
       "194     False            balanced         sqrt         5  0.608237  0.688995   \n",
       "175     False            balanced         auto         5  0.608237  0.688995   \n",
       "155      True                None         log2         4  0.606426  0.722488   \n",
       "136      True                None         sqrt         4  0.606426  0.722488   \n",
       "117      True                None         auto         4  0.606426  0.722488   \n",
       "41       True            balanced         log2         4     0.606   0.72488   \n",
       "3        True            balanced         auto         4     0.606   0.72488   \n",
       "22       True            balanced         sqrt         4     0.606   0.72488   \n",
       "137      True                None         sqrt         5  0.602927  0.739234   \n",
       "118      True                None         auto         5  0.602927  0.739234   \n",
       "156      True                None         log2         5  0.602927  0.739234   \n",
       "98       True  balanced_subsample         log2         4  0.602386   0.72488   \n",
       "60       True  balanced_subsample         auto         4  0.602386   0.72488   \n",
       "79       True  balanced_subsample         sqrt         4  0.602386   0.72488   \n",
       "23       True            balanced         sqrt         5  0.601167  0.739234   \n",
       "42       True            balanced         log2         5  0.601167  0.739234   \n",
       "4        True            balanced         auto         5  0.601167  0.739234   \n",
       "99       True  balanced_subsample         log2         5  0.599613  0.741627   \n",
       "61       True  balanced_subsample         auto         5  0.599613  0.741627   \n",
       "80       True  balanced_subsample         sqrt         5  0.599613  0.741627   \n",
       "288     False                None         auto         4  0.598555   0.69378   \n",
       "326     False                None         log2         4  0.598555   0.69378   \n",
       "307     False                None         sqrt         4  0.598555   0.69378   \n",
       "250     False  balanced_subsample         sqrt         4  0.595701  0.696172   \n",
       "174     False            balanced         auto         4  0.595701  0.696172   \n",
       "269     False  balanced_subsample         log2         4  0.595701  0.696172   \n",
       "212     False            balanced         log2         4  0.595701  0.696172   \n",
       "193     False            balanced         sqrt         4  0.595701  0.696172   \n",
       "231     False  balanced_subsample         auto         4  0.595701  0.696172   \n",
       "40       True            balanced         log2         3  0.579297  0.729665   \n",
       "116      True                None         auto         3  0.579297  0.729665   \n",
       "21       True            balanced         sqrt         3  0.579297  0.729665   \n",
       "2        True            balanced         auto         3  0.579297  0.729665   \n",
       "154      True                None         log2         3  0.579297  0.729665   \n",
       "\n",
       "    precision score_train score_valid  \n",
       "328  0.525217    0.796934      0.8055  \n",
       "233  0.525217    0.796829      0.8055  \n",
       "195  0.525217    0.796829      0.8055  \n",
       "309  0.525217    0.796934      0.8055  \n",
       "290  0.525217    0.796934      0.8055  \n",
       "214  0.525217    0.796829      0.8055  \n",
       "271  0.525217    0.796829      0.8055  \n",
       "176  0.525217    0.796829      0.8055  \n",
       "252  0.525217    0.796829      0.8055  \n",
       "213  0.544423    0.779203      0.8145  \n",
       "232  0.544423    0.779203      0.8145  \n",
       "270  0.544423    0.779203      0.8145  \n",
       "251  0.544423    0.779203      0.8145  \n",
       "289  0.544423    0.778786      0.8145  \n",
       "308  0.544423    0.778786      0.8145  \n",
       "327  0.544423    0.778786      0.8145  \n",
       "194  0.544423    0.779203      0.8145  \n",
       "175  0.544423    0.779203      0.8145  \n",
       "155  0.522491    0.763559       0.804  \n",
       "136  0.522491    0.763559       0.804  \n",
       "117  0.522491    0.763559       0.804  \n",
       "41   0.520619    0.767522       0.803  \n",
       "3    0.520619    0.767522       0.803  \n",
       "22   0.520619    0.767522       0.803  \n",
       "137  0.509061    0.782645      0.7965  \n",
       "118  0.509061    0.782645      0.7965  \n",
       "156  0.509061    0.782645      0.7965  \n",
       "98   0.515306    0.766896         0.8  \n",
       "60   0.515306    0.766896         0.8  \n",
       "79   0.515306    0.766896         0.8  \n",
       "23   0.506557    0.781602       0.795  \n",
       "42   0.506557    0.781602       0.795  \n",
       "4    0.506557    0.781602       0.795  \n",
       "99   0.503247    0.782854       0.793  \n",
       "61   0.503247    0.782854       0.793  \n",
       "80   0.503247    0.782854       0.793  \n",
       "288  0.526316    0.762933      0.8055  \n",
       "326  0.526316    0.762933      0.8055  \n",
       "307  0.526316    0.762933      0.8055  \n",
       "250  0.520572    0.762411      0.8025  \n",
       "174  0.520572    0.762411      0.8025  \n",
       "269  0.520572    0.762411      0.8025  \n",
       "212  0.520572    0.762411      0.8025  \n",
       "193  0.520572    0.762411      0.8025  \n",
       "231  0.520572    0.762411      0.8025  \n",
       "40   0.480315    0.761786      0.7785  \n",
       "116  0.480315    0.761786      0.7785  \n",
       "21   0.480315    0.761786      0.7785  \n",
       "2    0.480315    0.761786      0.7785  \n",
       "154  0.480315    0.761786      0.7785  "
      ]
     },
     "execution_count": 69,
     "metadata": {},
     "output_type": "execute_result"
    }
   ],
   "source": [
    "quality_table.query('score_valid>=score_train').sort_values('f1', ascending = False).head(50)"
   ]
  },
  {
   "cell_type": "markdown",
   "metadata": {
    "scrolled": false
   },
   "source": [
    "<div style=\"background: #ffeeaa; padding: 5px; border: 1px solid green; border-radius: 5px;\">\n",
    "<font color='green'> \n",
    "    <b><u>КОММЕНТАРИЙ РЕВЬЮЕРА</u></b>\n",
    "<font color='green'><br>Что-то ответ получился - знак в знак всё совпадает по метрикам у всех моделей? Это наводит на размышления, что надо бы проверить код... посмотри, пожалуйста, всё ли ок."
   ]
  },
  {
   "cell_type": "markdown",
   "metadata": {
    "scrolled": false
   },
   "source": [
    "<div style=\"background: #ffeeaa; padding: 5px; border: 1px solid green; border-radius: 5px;\">\n",
    "<font color='blue'> \n",
    "    <b><u>КОММЕНТАРИЙ СТУДЕНТА</u></b>\n",
    "<font color='blue'><br>Ты прав, ошибка где-то в коде, но я не могу понять где, может натолкнешь меня?!"
   ]
  },
  {
   "cell_type": "markdown",
   "metadata": {
    "scrolled": false
   },
   "source": []
  },
  {
   "cell_type": "markdown",
   "metadata": {},
   "source": [
    "## Тестирование модели"
   ]
  },
  {
   "cell_type": "code",
   "execution_count": null,
   "metadata": {},
   "outputs": [],
   "source": []
  },
  {
   "cell_type": "code",
   "execution_count": 152,
   "metadata": {
    "scrolled": true
   },
   "outputs": [
    {
     "data": {
      "text/plain": [
       "RandomForestClassifier(bootstrap=True, class_weight='balanced',\n",
       "                       criterion='gini', max_depth=7, max_features='auto',\n",
       "                       max_leaf_nodes=None, min_impurity_decrease=0.0,\n",
       "                       min_impurity_split=None, min_samples_leaf=1,\n",
       "                       min_samples_split=2, min_weight_fraction_leaf=0.0,\n",
       "                       n_estimators=100, n_jobs=None, oob_score=False,\n",
       "                       random_state=12345, verbose=0, warm_start=False)"
      ]
     },
     "execution_count": 152,
     "metadata": {},
     "output_type": "execute_result"
    }
   ],
   "source": [
    "model_RFC_final = RandomForestClassifier(\n",
    "    bootstrap = True, class_weight = 'balanced', max_depth= 7,  n_estimators = 100, random_state=12345)\n",
    "model_RFC_final.fit(features_train_upsampled, target_train_upsampled)"
   ]
  },
  {
   "cell_type": "code",
   "execution_count": 153,
   "metadata": {
    "scrolled": true
   },
   "outputs": [
    {
     "name": "stdout",
     "output_type": "stream",
     "text": [
      "Полнота 0.7296650717703349\n",
      "Точность 0.5388692579505301\n",
      "F1-мера 0.6199186991869918\n",
      "AUC-ROC 0.7823420175539412\n"
     ]
    }
   ],
   "source": [
    "model_RFC_final_prediction = model_RFC_final.predict(features_valid)\n",
    "rec_prec_f1(target_valid, model_RFC_final_prediction)"
   ]
  },
  {
   "cell_type": "markdown",
   "metadata": {},
   "source": [
    "<div style=\"background: #cceeaa; padding: 5px; border: 1px solid green; border-radius: 5px;\">\n",
    "<font color='green'> \n",
    "    <b><u>КОММЕНТАРИЙ РЕВЬЮЕРА</u></b>\n",
    "<font color='green'><br>тааак, а тестировать же надо на тесте....ааа, вижу дальше..."
   ]
  },
  {
   "cell_type": "code",
   "execution_count": 154,
   "metadata": {
    "scrolled": true
   },
   "outputs": [
    {
     "data": {
      "text/plain": [
       "0    2000\n",
       "dtype: int64"
      ]
     },
     "execution_count": 154,
     "metadata": {},
     "output_type": "execute_result"
    }
   ],
   "source": [
    "#Создаем константную модель\n",
    "target_predict_constant = pd.Series([0]*len(target_valid))\n",
    "target_predict_constant.value_counts()"
   ]
  },
  {
   "cell_type": "code",
   "execution_count": 155,
   "metadata": {
    "scrolled": true
   },
   "outputs": [
    {
     "name": "stdout",
     "output_type": "stream",
     "text": [
      "accuracy_score константой модели: 0.791\n",
      "accuracy_score финальной модели: 0.813\n",
      "AUC-ROC константой модели: 0.5\n",
      "AUC-ROC финальной модели: 0.7823420175539412\n"
     ]
    }
   ],
   "source": [
    "#Сравним показатель точности (accuracy_score) константной модели и финальной\n",
    "print('accuracy_score константой модели:', accuracy_score(target_valid, target_predict_constant))\n",
    "print('accuracy_score финальной модели:', accuracy_score(target_valid, model_RFC_final_prediction))\n",
    "#Дополнительно сравним AUC-ROC — единственный параметр подающийся сравнению, потому что константная подель содержит только негативные ответы\n",
    "print('AUC-ROC константой модели:', roc_auc_score(target_valid, target_predict_constant))\n",
    "print('AUC-ROC финальной модели:', roc_auc_score(target_valid, model_RFC_final_prediction))"
   ]
  },
  {
   "cell_type": "code",
   "execution_count": null,
   "metadata": {
    "scrolled": true
   },
   "outputs": [],
   "source": []
  },
  {
   "cell_type": "code",
   "execution_count": 156,
   "metadata": {
    "scrolled": true
   },
   "outputs": [
    {
     "name": "stdout",
     "output_type": "stream",
     "text": [
      "accuracy_score константой модели: 0.791\n",
      "accuracy_score финальной модели: 0.813\n",
      "AUC-ROC константой модели: 0.5\n",
      "AUC-ROC финальной модели: 0.7823420175539412\n"
     ]
    }
   ],
   "source": [
    "#Сравним показатель точности (accuracy_score) константной модели и финальной\n",
    "print('accuracy_score константой модели:', accuracy_score(target_valid, target_predict_constant))\n",
    "print('accuracy_score финальной модели:', accuracy_score(target_valid, model_RFC_final_prediction))\n",
    "#Дополнительно сравним AUC-ROC — единственный параметр подающийся сравнению, потому что константная подель содержит только негативные ответы\n",
    "print('AUC-ROC константой модели:', roc_auc_score(target_valid, target_predict_constant))\n",
    "print('AUC-ROC финальной модели:', roc_auc_score(target_valid, model_RFC_final_prediction))"
   ]
  },
  {
   "cell_type": "code",
   "execution_count": null,
   "metadata": {
    "scrolled": true
   },
   "outputs": [],
   "source": []
  },
  {
   "cell_type": "code",
   "execution_count": 157,
   "metadata": {
    "scrolled": false
   },
   "outputs": [
    {
     "name": "stdout",
     "output_type": "stream",
     "text": [
      "Полнота 0.7304964539007093\n",
      "Точность 0.5219594594594594\n",
      "F1-мера 0.6088669950738916\n",
      "AUC-ROC 0.7755208965762265\n"
     ]
    }
   ],
   "source": [
    "model_RFC_final\n",
    "model_RFC_final_prediction = model_RFC_final.predict(features_test)\n",
    "rec_prec_f1(target_test, model_RFC_final_prediction)"
   ]
  },
  {
   "cell_type": "markdown",
   "metadata": {},
   "source": [
    "<div style=\"background: #cceeaa; padding: 5px; border: 1px solid green; border-radius: 5px;\">\n",
    "<font color='green'> \n",
    "    <b><u>КОММЕНТАРИЙ РЕВЬЮЕРА</u></b>\n",
    "<font color='green'><br>Вот, на тесте)"
   ]
  },
  {
   "cell_type": "code",
   "execution_count": 158,
   "metadata": {
    "scrolled": false
   },
   "outputs": [
    {
     "data": {
      "image/png": "[encoded data removed]",
      "text/plain": [
       "<Figure size 432x288 with 1 Axes>"
      ]
     },
     "metadata": {
      "needs_background": "light"
     },
     "output_type": "display_data"
    }
   ],
   "source": [
    "final_model_probabilities_one = model_LgR.predict_proba(features_test)[:, 1]\n",
    "\n",
    "fpr, tpr, thresholds = roc_curve(target_test, final_model_probabilities_one) \n",
    "\n",
    "plt.figure()\n",
    "plt.plot(fpr, tpr)\n",
    "plt.plot([0, 1], [0, 1], linestyle='--')\n",
    "plt.xlim([0.0, 1.0])\n",
    "plt.ylim([0.0, 1.0])\n",
    "plt.xlabel('False Positive Rate')\n",
    "plt.ylabel('True Positive Rate')\n",
    "plt.title('ROC-кривая')\n",
    "plt.show()"
   ]
  },
  {
   "cell_type": "markdown",
   "metadata": {
    "scrolled": false
   },
   "source": [
    "ВЫвод:\n",
    "\n",
    "С точки зрения бизнеса полученная модель поможет маркетологам лучше определять килентов, которые могут уйти в ближайшее время. Важно, что модель покрывает большое количество клиентов, в данном случае это важнее чем точность."
   ]
  },
  {
   "cell_type": "markdown",
   "metadata": {
    "scrolled": false
   },
   "source": [
    "<div style=\"background: #cceeaa; padding: 5px; border: 1px solid green; border-radius: 5px;\">\n",
    "<font color='green'><u><b>КОММЕНТАРИЙ РЕВЬЮЕРА</b></u>\n",
    "<font color='green'><br>\n",
    "<br/>Сергей , добротная и качественная работа! <br>\n",
    "Подготовка данных, разносторонняя работа с диссбалансом и исследование моделей и поиск парамтров для них - ничего не забыто <br>\n",
    "И видно, что проделана рабочая аналитическая работа: результативно и с выводами.<br>  \n",
    "\n",
    "<font color='green'>\n",
    "Если говорить, что можно ещё улучшить в подобных проектах, то я бы выделили такие моменты:<br>\n",
    "1) После подбора параметров модели, когда уже настаёт этап тестировани. Можно обучить на обобщённой выборке (трайн + валидация) ну и тестировать потом. Это может ещё прибавить точности.(если не использовать кросс-валидации)<br>\n",
    "    \n",
    "2) Для понимания, а какие в итоге факторы важны при моделировании, можно выводить их важность, использую feature_importances_, ну и график заодно. Это будет смотреться очнь здорово: результативная метрика и график важности факторов)))<br> Очень ВАЖНАЯ для аналитики штука. Ведь нам не просто модель с метрикой нужна, а ещё и причины понять высокой/низкой метрики. Т.е. понять с какой силой сами факторы влияют на целевую.<br>\n",
    "    \n",
    "3) Ты используешь матрицу, поэтому просто акцетрирую ещё раз: F1 и AUC - отличные метрики, но нужно держать в голове, что это лишь бобщённые характеристики. А в реальной практике бизнесу часто важно знать детали самой ошибки - из каких ошибок/успехов она складывается. И в этом случае очень кстати будут меры полноты и точности. Рассмотри возможность их использования для своих проектов. Только через них можно выйти на финансовые возможности модели. Ведь перед запуском её в бой, будет сравнение стоимости создания и поддержки модели со стомостью \"оставить как есть\" <br>   \n",
    "\n",
    "    \n",
    "Критических моментов у тебя, вроде, нет, Мне понравился проект свой чёткостью решения поставленных задач.<br>\n",
    "Оставил несколько комментариев, посмотри, пожалуйста. Также, могут быть дополнительные вопросы у тебя?"
   ]
  },
  {
   "cell_type": "markdown",
   "metadata": {
    "scrolled": false
   },
   "source": [
    "<div style=\"background: #ffeeaa; padding: 5px; border: 1px solid green; border-radius: 5px;\">\n",
    "<font color='blue'> \n",
    "    <b><u>КОММЕНТАРИЙ СТУДЕНТА</u></b>\n",
    "<font color='blue'><br>Николай,  спасибо тебе! Есть вопрос, мне не доконца понятно, где можно это найти как модельдает предсказания о \"выходе клиента\", на мой взгляд у неё мало данных, это можно как-то визуализировать, или где можно почитать. Плюс не подскжешь, может знаешь примеры статей как и где используется ML и data science в сфере автосервиса, это моя сфера работы и я хотел бы полученные знания применить и внедрить, т.к. в РФ это, на сколько мне известно, вообще нигде не используется. Также буду благодарен, если поможешь разобраться с pipeline:)\n"
   ]
  },
  {
   "cell_type": "markdown",
   "metadata": {},
   "source": [
    "<div style=\"background: #cceeaa; padding: 5px; border: 1px solid green; border-radius: 5px;\">\n",
    "<font color='green'> \n",
    "    <b><u>КОММЕНТАРИЙ РЕВЬЮЕРА 2</u></b>\n",
    "<font color='green'><br>Привет, Сергей!<br>\n",
    "Хорошие вопросы, попробую ответить.<br>\n",
    "1) Наверной, ты спрашиваешь о такой матрице, как привёл ниже в коде? А то, что данных мало - это вопрос к количеству факторов - его можно отдельно решать. Действительно, лучше нагенерить побольше разных признаков. А потом просто проверять их работу в модели.<br>\n",
    "На самом деле, модель сама по себе действительно не нужна. Нужен эффект от неё. Т.е. какая выгода от использования может быть. (для твоей отрасли по услугам в автосервисе тоже может импользоваться...). Условный пример расчёта: Итак, у нас есть отток клиента. Наш финансовый отдел посчитал: уход одного клиента стоит нам 100 рублей. СТОимость рекламного канала - 30 рублей на клиента.<br>\n",
    "Теперь, наша модель: мы прогнозируем отток. и у нас есть два типа ошибок: мы подумаем, что клиент хочет уйти, а на самом деле он никуда не собирался. И - мы подумаем, что клиент никуда не собирается, а он взял и ушёл.<br>\n",
    "Какую ошибку минимизировать нам выгоднее с позиции экономики? Тут надо считать. Предположим, что по первой ошибке мы не угадываем 20 человек, по второй ошибке мы не угадываем 30 человек. Что это в деньгах? В перврм случае (мы пользовались рекламным каналом, а этого можно было и не делать) - потратили зря 30 рублей * 20 = 600 рублей. Во втором случае: ничего не делали и потеряли 100*30=3000 рублей. По такой логике, можно построить равновесную финансовую кривую, по которой будет понятно где для нас лучший балланс ошибок. Примерно так. Тут, пока может быть не совсем понятно (это нормально. Когда мы такую штуку для банка разрабатывали, то на презентации тоже долго с \"раскуривали\" ). Просто надо сесть в экселе и по-упражняться в расчётах....А потом, посчитав выгоду работы модели за год, можно сравниваеть её со стоимостью разработки и поддержки модельного решения.<br> <br>  \n",
    "    \n",
    "    \n",
    "    \n",
    "2) Конкретно - не подскажу( Не встречал и специально не интересовался... Но щзнаю, что над качеством услуг - всегда велись работы. Тот же самый ГОСТ по качеству в автомобилестроении... там есть несколько классных подходов и к качеству услуг....<br>\n",
    "Но, на мой взгляд, тут надо отталкиваться от задач. ЧТо мы хотим для своего бизнеса (у тебя сфера оказания услуг)<br>\n",
    "- аналиировать, почему клиенты не возвращаются, т.е. мало повторных обращений?<br>\n",
    "- Анализировать качество оказываемых услуг? Тогда какие метрики качества: удовлетворён/не удовлетворён, время оказания услуги....??<br>\n",
    "- Прогноз выручки/прибыли (это спринт 11 - прогнозирование временных рядов) и т.д.<br>\n",
    "И под каждую задачу можно придумать разное количество модельных решений. Сейчас, в нашей школе, как раз изучаются разные модельные подходы. А как конкретно к своему бизнесу их применить - тоже важный скил и его надо прорабатывать сечас тоже. Т.е. отрабатывать связку: задача бизнеса - метод решения.<br>\n",
    "    \n",
    "3) Тут так с наскока не смогу....Да и темы эти будут дальше по курсу.... Может лучше не торопить события). Давай оставлю пару вариантов кода (ниже). Можно с ними поразбираться...<bf>\n",
    "    \n",
    "В целом - всё ОК)<br>\n",
    "В общем-то всё тогда..<br>\n",
    "УСПЕШНОГО ДАЛЬНЕЙШЕГО ОБУЧЕНИЯ!"
   ]
  },
  {
   "cell_type": "raw",
   "metadata": {},
   "source": [
    "# ПОСМОТРЕТЬ НА РАБОТУ МОДЕЛИ ВОТ В ТАКОМ РАЗРЕЗЕ\n",
    "cf_matrix = confusion_matrix(target_test, predicted_test)\n",
    "\n",
    "plt.figure(figsize = (10,7))\n",
    "group_names = ['Истинно-отрицательные ответы\\n\\n\\nTrue Negative (TN)', \n",
    "               'Ложно-положительные ответы\\n(Ошибка 1 рода - ошибочное отвержение)\\n\\nFalse Positive (FP), Error Type 1', \n",
    "               'Лолжно-отрицательные ответы\\n(Ошибка 2 рода - ошибочное принятие)\\n\\nFalse Negative (FN), Error Type 2', \n",
    "               'Истинно-положительные ответы\\n\\n\\nTrue Positive (TP)']\n",
    "group_counts = ['{0:0.0f}'.format(value) for value in cf_matrix.flatten()]\n",
    "group_percentages = ['{0:.2%}'.format(value) for value in cf_matrix.flatten()/np.sum(cf_matrix)]\n",
    "labels = [f'{v1}\\n{v2}\\n{v3}' for v1, v2, v3 in zip(group_names, group_counts, group_percentages)]\n",
    "labels = np.asarray(labels).reshape(2,2)\n",
    "sns.heatmap(cf_matrix, annot=labels, fmt='', cmap='Blues', cbar=False)\n",
    "plt.title('Матрица ошибок')\n",
    "plt.ylabel('Целевой признак')\n",
    "plt.xlabel('Предсказанные значения')"
   ]
  },
  {
   "cell_type": "raw",
   "metadata": {},
   "source": [
    "*# Извлекаем все сущности, имеющие числовой формат:\n",
    "get_numeric_data = FunctionTransformer(\n",
    "    lambda x: x[features_train.select_dtypes(include=np.number).columns.tolist()], validate=False)\n",
    "\n",
    "# Создаем конвейер машинного обучения, который выполняет все стадии построения и обучения модели:\n",
    "Preprocess_pipeline = Pipeline([\n",
    "    \n",
    "    # 1 Стадия:  подготовка фичей - отбор, стандартизация, нормализация\n",
    "    ('features', FeatureUnion([\n",
    "        \n",
    "                ('numeric_features', Pipeline([\n",
    "                ('selector', get_numeric_data),\n",
    "                ('standartization', StandardScaler()),\n",
    "                ('minmax_scaler', MinMaxScaler())\n",
    "            ]))\n",
    "        \n",
    "         ])),\n",
    "    \n",
    "    # 2 Стадия: Инициализация модели\n",
    "    ('cls', RandomForestClassifier(random_state = 12345) )\n",
    " ])\n",
    "\n",
    "# Инициализируем сеть с гиперпараметрами для перебора и оптимизации при обучении модели\n",
    "param_grid = {\n",
    "               'cls__max_depth': [4, 6, 8, 10],\n",
    "               'cls__min_samples_leaf': [2, 3, 4, 6],\n",
    "               'cls__max_features': [4, 8, 10, 12],  \n",
    "               'cls__n_jobs': [-1],\n",
    "               'cls__n_estimators': [100, 150, 200, 250]\n",
    "             }\n",
    "\n",
    "# 3 Стадия: подготовка сети с гиперпараметрами для оптимизации параметров \n",
    "# обучения под целевую метрику для достижения наилучших результатов\n",
    "grid = GridSearchCV(\n",
    "                Preprocess_pipeline, \n",
    "                param_grid, \n",
    "                n_jobs=-1, \n",
    "                scoring='roc_auc',\n",
    "                return_train_score = True,\n",
    "                verbose = 1\n",
    "                   )"
   ]
  },
  {
   "cell_type": "code",
   "execution_count": null,
   "metadata": {},
   "outputs": [],
   "source": [
    "pipe = Pipeline([\n",
    "    ('model', LogisticRegression(random_state=SEED))\n",
    "])\n",
    "\n",
    "params = [{\n",
    "        'model': [LogisticRegression(random_state=SEED, solver='liblinear')],\n",
    "        'model__penalty': ['l1', 'l2'],\n",
    "        'model__C': [0.001, 1, 100],\n",
    "        'model__class_weight' : [None, 'balanced']\n",
    "     }, {\n",
    "         'model': [DecisionTreeClassifier(random_state=SEED)],\n",
    "         'model__max_depth': list(range(5, 16, 5)),\n",
    "         'model__max_features': range(1, 4),\n",
    "         'model__min_samples_leaf':range(5, 16, 5),\n",
    "         'model__class_weight' : [None, 'balanced']\n",
    "     }, {\n",
    "         'model': [RandomForestClassifier(random_state=SEED)],\n",
    "         'model__n_estimators': list(range(10, 201, 10)),\n",
    "         'model__max_depth': list(range(5, 16)),\n",
    "         'model__class_weight' : [None, 'balanced']\n",
    "     }, {\n",
    "         'model': [CatBoostClassifier(random_state=SEED, logging_level='Silent')]\n",
    "     }, {\n",
    "         'model': [GradientBoostingClassifier(random_state=SEED)]\n",
    "}\n",
    "]\n",
    "\n",
    "kf = StratifiedKFold(n_splits=4, shuffle=True, random_state=SEED)\n",
    "rs = RandomizedSearchCV(pipe, params, scoring='f1', cv=kf, verbose=False, return_train_score=True, n_iter=200, random_state=SEED)\n",
    "rs = rs.fit(features_train, target_train)"
   ]
  },
  {
   "cell_type": "code",
   "execution_count": null,
   "metadata": {},
   "outputs": [],
   "source": []
  },
  {
   "cell_type": "code",
   "execution_count": null,
   "metadata": {},
   "outputs": [],
   "source": []
  },
  {
   "cell_type": "code",
   "execution_count": null,
   "metadata": {},
   "outputs": [],
   "source": []
  },
  {
   "cell_type": "code",
   "execution_count": 159,
   "metadata": {
    "scrolled": false
   },
   "outputs": [],
   "source": [
    "from sklearn.pipeline import Pipeline\n",
    "from sklearn.svm import SVC\n",
    "from sklearn.preprocessing import StandardScaler\n",
    "from sklearn.model_selection import GridSearchCV\n",
    "from sklearn.decomposition import PCA\n"
   ]
  },
  {
   "cell_type": "code",
   "execution_count": null,
   "metadata": {
    "scrolled": false
   },
   "outputs": [],
   "source": []
  },
  {
   "cell_type": "code",
   "execution_count": null,
   "metadata": {
    "scrolled": false
   },
   "outputs": [],
   "source": [
    "pipe = Pipeline([\n",
    "        ('scale', StandardScaler()),\n",
    "        ('reduce_dims', PCA(n_components=4)),\n",
    "        ('clf', SVC(kernel = 'linear', C = 1))])\n",
    "\n",
    "param_grid = dict(reduce_dims__n_components=[4,6,8],\n",
    "                  clf__C=np.logspace(-4, 1, 6),\n",
    "                  clf__kernel=['rbf','linear'])\n",
    "\n",
    "grid = GridSearchCV(pipe, param_grid=param_grid, cv=3, n_jobs=1, verbose=2, scoring= 'accuracy')\n",
    "grid.fit(features, target)\n",
    "print(grid.best_score_)\n",
    "print(grid.cv_results_)"
   ]
  },
  {
   "cell_type": "code",
   "execution_count": null,
   "metadata": {
    "scrolled": false
   },
   "outputs": [],
   "source": []
  },
  {
   "cell_type": "code",
   "execution_count": null,
   "metadata": {
    "scrolled": false
   },
   "outputs": [],
   "source": []
  },
  {
   "cell_type": "markdown",
   "metadata": {},
   "source": [
    "## Чек-лист готовности проекта"
   ]
  },
  {
   "cell_type": "markdown",
   "metadata": {},
   "source": [
    "Поставьте 'x' в выполненных пунктах. Далее нажмите Shift+Enter."
   ]
  },
  {
   "cell_type": "markdown",
   "metadata": {},
   "source": [
    "- [x]  Jupyter Notebook открыт\n",
    "- [ ]  Весь код выполняется без ошибок\n",
    "- [ ]  Ячейки с кодом расположены в порядке исполнения\n",
    "- [ ]  Выполнен шаг 1: данные подготовлены\n",
    "- [ ]  Выполнен шаг 2: задача исследована\n",
    "    - [ ]  Исследован баланс классов\n",
    "    - [ ]  Изучены модели без учёта дисбаланса\n",
    "    - [ ]  Написаны выводы по результатам исследования\n",
    "- [ ]  Выполнен шаг 3: учтён дисбаланс\n",
    "    - [ ]  Применено несколько способов борьбы с дисбалансом\n",
    "    - [ ]  Написаны выводы по результатам исследования\n",
    "- [ ]  Выполнен шаг 4: проведено тестирование\n",
    "- [ ]  Удалось достичь *F1*-меры не менее 0.59\n",
    "- [ ]  Исследована метрика *AUC-ROC*"
   ]
  },
  {
   "cell_type": "code",
   "execution_count": null,
   "metadata": {},
   "outputs": [],
   "source": []
  }
 ],
 "metadata": {
  "ExecuteTimeLog": [
   {
    "duration": 1163,
    "start_time": "2021-09-04T16:26:25.775Z"
   },
   {
    "duration": 4,
    "start_time": "2021-09-04T16:26:30.002Z"
   },
   {
    "duration": 81,
    "start_time": "2021-09-04T16:28:13.870Z"
   },
   {
    "duration": 2578,
    "start_time": "2021-09-04T16:28:44.657Z"
   },
   {
    "duration": 31,
    "start_time": "2021-09-04T16:29:54.535Z"
   },
   {
    "duration": 40,
    "start_time": "2021-09-04T16:30:06.933Z"
   },
   {
    "duration": 16,
    "start_time": "2021-09-04T16:34:30.134Z"
   },
   {
    "duration": 9,
    "start_time": "2021-09-04T16:34:35.069Z"
   },
   {
    "duration": 4,
    "start_time": "2021-09-04T16:36:46.981Z"
   },
   {
    "duration": 6,
    "start_time": "2021-09-04T16:37:00.159Z"
   },
   {
    "duration": 4,
    "start_time": "2021-09-04T16:37:08.207Z"
   },
   {
    "duration": 6,
    "start_time": "2021-09-04T16:37:09.104Z"
   },
   {
    "duration": 5,
    "start_time": "2021-09-04T16:37:16.791Z"
   },
   {
    "duration": 4,
    "start_time": "2021-09-04T16:37:36.698Z"
   },
   {
    "duration": 39,
    "start_time": "2021-09-04T16:37:36.704Z"
   },
   {
    "duration": 8,
    "start_time": "2021-09-04T16:37:36.745Z"
   },
   {
    "duration": 3,
    "start_time": "2021-09-04T16:37:36.755Z"
   },
   {
    "duration": 8,
    "start_time": "2021-09-04T16:37:36.760Z"
   },
   {
    "duration": 5,
    "start_time": "2021-09-04T16:37:54.680Z"
   },
   {
    "duration": 3,
    "start_time": "2021-09-04T16:40:06.242Z"
   },
   {
    "duration": 1683,
    "start_time": "2021-09-06T13:42:03.632Z"
   },
   {
    "duration": 52,
    "start_time": "2021-09-06T13:42:05.317Z"
   },
   {
    "duration": 9,
    "start_time": "2021-09-06T13:42:05.371Z"
   },
   {
    "duration": 8,
    "start_time": "2021-09-06T13:42:05.382Z"
   },
   {
    "duration": 11,
    "start_time": "2021-09-06T13:42:05.391Z"
   },
   {
    "duration": 6,
    "start_time": "2021-09-06T13:42:05.404Z"
   },
   {
    "duration": 15,
    "start_time": "2021-09-06T13:42:05.412Z"
   },
   {
    "duration": 6,
    "start_time": "2021-09-06T13:42:24.806Z"
   },
   {
    "duration": 4,
    "start_time": "2021-09-06T13:56:26.049Z"
   },
   {
    "duration": 222,
    "start_time": "2021-09-06T13:58:23.120Z"
   },
   {
    "duration": 2293,
    "start_time": "2021-09-06T13:58:45.413Z"
   },
   {
    "duration": 1680,
    "start_time": "2021-09-06T13:58:54.067Z"
   },
   {
    "duration": 4,
    "start_time": "2021-09-06T13:59:07.964Z"
   },
   {
    "duration": 1553,
    "start_time": "2021-09-06T14:03:00.824Z"
   },
   {
    "duration": 3,
    "start_time": "2021-09-06T14:03:24.808Z"
   },
   {
    "duration": 764,
    "start_time": "2021-09-06T14:03:28.246Z"
   },
   {
    "duration": 1042,
    "start_time": "2021-09-06T14:03:33.148Z"
   },
   {
    "duration": 828,
    "start_time": "2021-09-06T14:04:13.880Z"
   },
   {
    "duration": 4,
    "start_time": "2021-09-06T14:04:48.755Z"
   },
   {
    "duration": 48,
    "start_time": "2021-09-06T14:04:48.760Z"
   },
   {
    "duration": 8,
    "start_time": "2021-09-06T14:04:48.810Z"
   },
   {
    "duration": 4,
    "start_time": "2021-09-06T14:04:48.820Z"
   },
   {
    "duration": 9,
    "start_time": "2021-09-06T14:04:48.826Z"
   },
   {
    "duration": 6,
    "start_time": "2021-09-06T14:04:48.837Z"
   },
   {
    "duration": 38,
    "start_time": "2021-09-06T14:04:48.846Z"
   },
   {
    "duration": 8,
    "start_time": "2021-09-06T14:04:48.886Z"
   },
   {
    "duration": 5,
    "start_time": "2021-09-06T14:04:48.896Z"
   },
   {
    "duration": 3,
    "start_time": "2021-09-06T14:04:48.903Z"
   },
   {
    "duration": 15,
    "start_time": "2021-09-06T14:04:48.908Z"
   },
   {
    "duration": 4,
    "start_time": "2021-09-06T14:05:02.967Z"
   },
   {
    "duration": 4,
    "start_time": "2021-09-06T14:05:41.348Z"
   },
   {
    "duration": 50,
    "start_time": "2021-09-06T14:05:41.354Z"
   },
   {
    "duration": 10,
    "start_time": "2021-09-06T14:05:41.407Z"
   },
   {
    "duration": 4,
    "start_time": "2021-09-06T14:05:41.420Z"
   },
   {
    "duration": 8,
    "start_time": "2021-09-06T14:05:41.427Z"
   },
   {
    "duration": 8,
    "start_time": "2021-09-06T14:05:41.437Z"
   },
   {
    "duration": 40,
    "start_time": "2021-09-06T14:05:41.447Z"
   },
   {
    "duration": 8,
    "start_time": "2021-09-06T14:05:41.489Z"
   },
   {
    "duration": 6,
    "start_time": "2021-09-06T14:05:41.500Z"
   },
   {
    "duration": 6,
    "start_time": "2021-09-06T14:05:41.508Z"
   },
   {
    "duration": 15,
    "start_time": "2021-09-06T14:05:41.516Z"
   },
   {
    "duration": 5,
    "start_time": "2021-09-06T14:05:41.533Z"
   },
   {
    "duration": 23,
    "start_time": "2021-09-06T14:06:12.970Z"
   },
   {
    "duration": 4,
    "start_time": "2021-09-06T14:06:26.146Z"
   },
   {
    "duration": 5,
    "start_time": "2021-09-06T14:32:46.775Z"
   },
   {
    "duration": 11,
    "start_time": "2021-09-06T14:33:38.392Z"
   },
   {
    "duration": 5,
    "start_time": "2021-09-06T14:33:42.158Z"
   },
   {
    "duration": 7,
    "start_time": "2021-09-06T14:36:40.262Z"
   },
   {
    "duration": 5,
    "start_time": "2021-09-06T14:36:48.129Z"
   },
   {
    "duration": 258,
    "start_time": "2021-09-06T14:41:11.560Z"
   },
   {
    "duration": 7,
    "start_time": "2021-09-06T14:41:26.575Z"
   },
   {
    "duration": 5,
    "start_time": "2021-09-06T14:42:04.991Z"
   },
   {
    "duration": 5,
    "start_time": "2021-09-06T14:42:52.896Z"
   },
   {
    "duration": 3,
    "start_time": "2021-09-06T14:50:27.212Z"
   },
   {
    "duration": 3,
    "start_time": "2021-09-06T14:51:01.425Z"
   },
   {
    "duration": 132,
    "start_time": "2021-09-06T14:51:02.079Z"
   },
   {
    "duration": 355,
    "start_time": "2021-09-06T14:51:30.450Z"
   },
   {
    "duration": 4,
    "start_time": "2021-09-06T14:51:43.854Z"
   },
   {
    "duration": 38,
    "start_time": "2021-09-06T14:51:43.860Z"
   },
   {
    "duration": 10,
    "start_time": "2021-09-06T14:51:43.901Z"
   },
   {
    "duration": 5,
    "start_time": "2021-09-06T14:51:43.914Z"
   },
   {
    "duration": 8,
    "start_time": "2021-09-06T14:51:43.921Z"
   },
   {
    "duration": 6,
    "start_time": "2021-09-06T14:51:43.931Z"
   },
   {
    "duration": 14,
    "start_time": "2021-09-06T14:51:43.977Z"
   },
   {
    "duration": 6,
    "start_time": "2021-09-06T14:51:43.993Z"
   },
   {
    "duration": 4,
    "start_time": "2021-09-06T14:51:44.003Z"
   },
   {
    "duration": 4,
    "start_time": "2021-09-06T14:51:44.009Z"
   },
   {
    "duration": 17,
    "start_time": "2021-09-06T14:51:44.015Z"
   },
   {
    "duration": 55,
    "start_time": "2021-09-06T14:51:44.033Z"
   },
   {
    "duration": 3,
    "start_time": "2021-09-06T14:51:44.090Z"
   },
   {
    "duration": 8,
    "start_time": "2021-09-06T14:51:44.095Z"
   },
   {
    "duration": 11,
    "start_time": "2021-09-06T14:51:44.105Z"
   },
   {
    "duration": 7,
    "start_time": "2021-09-06T14:51:44.119Z"
   },
   {
    "duration": 8,
    "start_time": "2021-09-06T14:51:44.128Z"
   },
   {
    "duration": 39,
    "start_time": "2021-09-06T14:51:44.138Z"
   },
   {
    "duration": 6,
    "start_time": "2021-09-06T14:51:44.179Z"
   },
   {
    "duration": 5,
    "start_time": "2021-09-06T14:51:44.187Z"
   },
   {
    "duration": 10,
    "start_time": "2021-09-06T14:51:44.193Z"
   },
   {
    "duration": 117,
    "start_time": "2021-09-06T14:51:44.205Z"
   },
   {
    "duration": -53,
    "start_time": "2021-09-06T14:51:44.377Z"
   },
   {
    "duration": 3,
    "start_time": "2021-09-06T14:52:09.444Z"
   },
   {
    "duration": 139,
    "start_time": "2021-09-06T14:52:11.089Z"
   },
   {
    "duration": 380,
    "start_time": "2021-09-06T14:52:12.466Z"
   },
   {
    "duration": 5,
    "start_time": "2021-09-06T14:52:42.197Z"
   },
   {
    "duration": 3,
    "start_time": "2021-09-06T14:52:51.654Z"
   },
   {
    "duration": 4,
    "start_time": "2021-09-06T14:52:54.788Z"
   },
   {
    "duration": 51,
    "start_time": "2021-09-06T14:52:54.794Z"
   },
   {
    "duration": 8,
    "start_time": "2021-09-06T14:52:54.848Z"
   },
   {
    "duration": 11,
    "start_time": "2021-09-06T14:52:54.858Z"
   },
   {
    "duration": 14,
    "start_time": "2021-09-06T14:52:54.871Z"
   },
   {
    "duration": 8,
    "start_time": "2021-09-06T14:52:54.887Z"
   },
   {
    "duration": 12,
    "start_time": "2021-09-06T14:52:54.897Z"
   },
   {
    "duration": 5,
    "start_time": "2021-09-06T14:52:54.912Z"
   },
   {
    "duration": 3,
    "start_time": "2021-09-06T14:52:54.920Z"
   },
   {
    "duration": 3,
    "start_time": "2021-09-06T14:52:54.925Z"
   },
   {
    "duration": 15,
    "start_time": "2021-09-06T14:52:54.930Z"
   },
   {
    "duration": 46,
    "start_time": "2021-09-06T14:52:54.946Z"
   },
   {
    "duration": 4,
    "start_time": "2021-09-06T14:52:54.994Z"
   },
   {
    "duration": 10,
    "start_time": "2021-09-06T14:52:54.999Z"
   },
   {
    "duration": 13,
    "start_time": "2021-09-06T14:52:55.011Z"
   },
   {
    "duration": 7,
    "start_time": "2021-09-06T14:52:55.025Z"
   },
   {
    "duration": 9,
    "start_time": "2021-09-06T14:52:55.034Z"
   },
   {
    "duration": 32,
    "start_time": "2021-09-06T14:52:55.045Z"
   },
   {
    "duration": 5,
    "start_time": "2021-09-06T14:52:55.079Z"
   },
   {
    "duration": 6,
    "start_time": "2021-09-06T14:52:55.086Z"
   },
   {
    "duration": 4,
    "start_time": "2021-09-06T14:52:55.093Z"
   },
   {
    "duration": 120,
    "start_time": "2021-09-06T14:52:55.099Z"
   },
   {
    "duration": -61,
    "start_time": "2021-09-06T14:52:55.282Z"
   },
   {
    "duration": 2,
    "start_time": "2021-09-06T14:53:24.973Z"
   },
   {
    "duration": 3,
    "start_time": "2021-09-06T14:53:25.850Z"
   },
   {
    "duration": 114,
    "start_time": "2021-09-06T14:53:26.578Z"
   },
   {
    "duration": 8,
    "start_time": "2021-09-06T14:54:44.142Z"
   },
   {
    "duration": 24,
    "start_time": "2021-09-06T14:54:44.955Z"
   },
   {
    "duration": 19,
    "start_time": "2021-09-06T14:55:34.059Z"
   },
   {
    "duration": 20,
    "start_time": "2021-09-06T14:55:58.300Z"
   },
   {
    "duration": 3,
    "start_time": "2021-09-06T14:59:42.940Z"
   },
   {
    "duration": 4,
    "start_time": "2021-09-06T15:01:11.809Z"
   },
   {
    "duration": 66,
    "start_time": "2021-09-06T15:04:06.532Z"
   },
   {
    "duration": 8,
    "start_time": "2021-09-06T15:04:46.125Z"
   },
   {
    "duration": 1559,
    "start_time": "2021-09-07T15:47:19.855Z"
   },
   {
    "duration": 54,
    "start_time": "2021-09-07T15:47:21.417Z"
   },
   {
    "duration": 12,
    "start_time": "2021-09-07T15:47:21.475Z"
   },
   {
    "duration": 8,
    "start_time": "2021-09-07T15:47:21.490Z"
   },
   {
    "duration": 14,
    "start_time": "2021-09-07T15:47:21.500Z"
   },
   {
    "duration": 13,
    "start_time": "2021-09-07T15:47:21.517Z"
   },
   {
    "duration": 37,
    "start_time": "2021-09-07T15:47:21.533Z"
   },
   {
    "duration": 7,
    "start_time": "2021-09-07T15:47:21.575Z"
   },
   {
    "duration": 12,
    "start_time": "2021-09-07T15:47:21.585Z"
   },
   {
    "duration": 13,
    "start_time": "2021-09-07T15:47:21.599Z"
   },
   {
    "duration": 45,
    "start_time": "2021-09-07T15:47:21.615Z"
   },
   {
    "duration": 39,
    "start_time": "2021-09-07T15:47:21.662Z"
   },
   {
    "duration": 6,
    "start_time": "2021-09-07T15:47:21.705Z"
   },
   {
    "duration": 16,
    "start_time": "2021-09-07T15:47:21.714Z"
   },
   {
    "duration": 45,
    "start_time": "2021-09-07T15:47:21.733Z"
   },
   {
    "duration": 7,
    "start_time": "2021-09-07T15:47:21.781Z"
   },
   {
    "duration": 19,
    "start_time": "2021-09-07T15:47:21.791Z"
   },
   {
    "duration": 7,
    "start_time": "2021-09-07T15:47:21.813Z"
   },
   {
    "duration": 41,
    "start_time": "2021-09-07T15:47:21.823Z"
   },
   {
    "duration": 20,
    "start_time": "2021-09-07T15:47:21.867Z"
   },
   {
    "duration": 13,
    "start_time": "2021-09-07T15:47:21.890Z"
   },
   {
    "duration": 19,
    "start_time": "2021-09-07T15:47:21.906Z"
   },
   {
    "duration": 42,
    "start_time": "2021-09-07T15:47:21.932Z"
   },
   {
    "duration": 29,
    "start_time": "2021-09-07T15:47:21.977Z"
   },
   {
    "duration": 59,
    "start_time": "2021-09-07T15:47:22.010Z"
   },
   {
    "duration": 18,
    "start_time": "2021-09-07T15:47:22.073Z"
   },
   {
    "duration": 13,
    "start_time": "2021-09-07T15:47:22.094Z"
   },
   {
    "duration": 123,
    "start_time": "2021-09-07T15:47:22.110Z"
   },
   {
    "duration": 636,
    "start_time": "2021-09-07T15:47:44.379Z"
   },
   {
    "duration": 370,
    "start_time": "2021-09-07T15:49:26.741Z"
   },
   {
    "duration": 447,
    "start_time": "2021-09-07T15:50:58.118Z"
   },
   {
    "duration": 7,
    "start_time": "2021-09-07T15:51:12.409Z"
   },
   {
    "duration": 59,
    "start_time": "2021-09-07T15:51:12.419Z"
   },
   {
    "duration": 13,
    "start_time": "2021-09-07T15:51:12.482Z"
   },
   {
    "duration": 4,
    "start_time": "2021-09-07T15:51:12.498Z"
   },
   {
    "duration": 11,
    "start_time": "2021-09-07T15:51:12.505Z"
   },
   {
    "duration": 40,
    "start_time": "2021-09-07T15:51:12.519Z"
   },
   {
    "duration": 20,
    "start_time": "2021-09-07T15:51:12.562Z"
   },
   {
    "duration": 9,
    "start_time": "2021-09-07T15:51:12.587Z"
   },
   {
    "duration": 5,
    "start_time": "2021-09-07T15:51:12.600Z"
   },
   {
    "duration": 4,
    "start_time": "2021-09-07T15:51:12.655Z"
   },
   {
    "duration": 27,
    "start_time": "2021-09-07T15:51:12.662Z"
   },
   {
    "duration": 32,
    "start_time": "2021-09-07T15:51:12.692Z"
   },
   {
    "duration": 30,
    "start_time": "2021-09-07T15:51:12.727Z"
   },
   {
    "duration": 7,
    "start_time": "2021-09-07T15:51:12.759Z"
   },
   {
    "duration": 22,
    "start_time": "2021-09-07T15:51:12.769Z"
   },
   {
    "duration": 12,
    "start_time": "2021-09-07T15:51:12.794Z"
   },
   {
    "duration": 10,
    "start_time": "2021-09-07T15:51:12.808Z"
   },
   {
    "duration": 38,
    "start_time": "2021-09-07T15:51:12.820Z"
   },
   {
    "duration": 9,
    "start_time": "2021-09-07T15:51:12.860Z"
   },
   {
    "duration": 10,
    "start_time": "2021-09-07T15:51:12.872Z"
   },
   {
    "duration": 21,
    "start_time": "2021-09-07T15:51:12.884Z"
   },
   {
    "duration": 13,
    "start_time": "2021-09-07T15:51:12.907Z"
   },
   {
    "duration": 46,
    "start_time": "2021-09-07T15:51:12.925Z"
   },
   {
    "duration": 26,
    "start_time": "2021-09-07T15:51:12.974Z"
   },
   {
    "duration": 53,
    "start_time": "2021-09-07T15:51:13.003Z"
   },
   {
    "duration": 8,
    "start_time": "2021-09-07T15:51:13.059Z"
   },
   {
    "duration": 11,
    "start_time": "2021-09-07T15:51:13.070Z"
   },
   {
    "duration": 341,
    "start_time": "2021-09-07T15:51:13.083Z"
   },
   {
    "duration": 9,
    "start_time": "2021-09-07T15:51:35.272Z"
   },
   {
    "duration": 365,
    "start_time": "2021-09-07T15:51:41.294Z"
   },
   {
    "duration": 378,
    "start_time": "2021-09-07T15:52:54.800Z"
   },
   {
    "duration": 360,
    "start_time": "2021-09-07T15:53:43.280Z"
   },
   {
    "duration": 1467,
    "start_time": "2021-09-07T15:54:02.361Z"
   },
   {
    "duration": 1257,
    "start_time": "2021-09-07T15:54:12.202Z"
   },
   {
    "duration": 1237,
    "start_time": "2021-09-07T15:54:28.778Z"
   },
   {
    "duration": 5,
    "start_time": "2021-09-07T15:54:58.844Z"
   },
   {
    "duration": 1076,
    "start_time": "2021-09-07T15:55:20.379Z"
   },
   {
    "duration": 405,
    "start_time": "2021-09-07T15:56:36.261Z"
   },
   {
    "duration": 1425,
    "start_time": "2021-09-08T07:54:17.084Z"
   },
   {
    "duration": 369,
    "start_time": "2021-09-08T08:10:31.048Z"
   },
   {
    "duration": 7,
    "start_time": "2021-09-08T08:10:34.801Z"
   },
   {
    "duration": 80,
    "start_time": "2021-09-08T08:10:34.811Z"
   },
   {
    "duration": 12,
    "start_time": "2021-09-08T08:10:34.894Z"
   },
   {
    "duration": 13,
    "start_time": "2021-09-08T08:10:34.909Z"
   },
   {
    "duration": 13,
    "start_time": "2021-09-08T08:10:34.925Z"
   },
   {
    "duration": 21,
    "start_time": "2021-09-08T08:10:34.941Z"
   },
   {
    "duration": 22,
    "start_time": "2021-09-08T08:10:34.966Z"
   },
   {
    "duration": 7,
    "start_time": "2021-09-08T08:10:34.990Z"
   },
   {
    "duration": 5,
    "start_time": "2021-09-08T08:10:35.001Z"
   },
   {
    "duration": 7,
    "start_time": "2021-09-08T08:10:35.009Z"
   },
   {
    "duration": 53,
    "start_time": "2021-09-08T08:10:35.018Z"
   },
   {
    "duration": 41,
    "start_time": "2021-09-08T08:10:35.074Z"
   },
   {
    "duration": 6,
    "start_time": "2021-09-08T08:10:35.118Z"
   },
   {
    "duration": 46,
    "start_time": "2021-09-08T08:10:35.127Z"
   },
   {
    "duration": 18,
    "start_time": "2021-09-08T08:10:35.176Z"
   },
   {
    "duration": 10,
    "start_time": "2021-09-08T08:10:35.197Z"
   },
   {
    "duration": 14,
    "start_time": "2021-09-08T08:10:35.209Z"
   },
   {
    "duration": 6,
    "start_time": "2021-09-08T08:10:35.226Z"
   },
   {
    "duration": 28,
    "start_time": "2021-09-08T08:10:35.234Z"
   },
   {
    "duration": 10,
    "start_time": "2021-09-08T08:10:35.264Z"
   },
   {
    "duration": 5,
    "start_time": "2021-09-08T08:10:35.277Z"
   },
   {
    "duration": 24,
    "start_time": "2021-09-08T08:10:35.285Z"
   },
   {
    "duration": 63,
    "start_time": "2021-09-08T08:10:35.311Z"
   },
   {
    "duration": 28,
    "start_time": "2021-09-08T08:10:35.376Z"
   },
   {
    "duration": 33,
    "start_time": "2021-09-08T08:10:35.407Z"
   },
   {
    "duration": 17,
    "start_time": "2021-09-08T08:10:35.462Z"
   },
   {
    "duration": 11,
    "start_time": "2021-09-08T08:10:35.483Z"
   },
   {
    "duration": 14,
    "start_time": "2021-09-08T08:10:35.497Z"
   },
   {
    "duration": 1166,
    "start_time": "2021-09-08T08:10:35.513Z"
   },
   {
    "duration": 84,
    "start_time": "2021-09-08T08:10:36.682Z"
   },
   {
    "duration": 5,
    "start_time": "2021-09-08T08:10:54.031Z"
   },
   {
    "duration": 174,
    "start_time": "2021-09-08T08:11:02.792Z"
   },
   {
    "duration": 8,
    "start_time": "2021-09-08T08:21:31.263Z"
   },
   {
    "duration": 22,
    "start_time": "2021-09-08T08:21:46.292Z"
   },
   {
    "duration": 11,
    "start_time": "2021-09-08T08:22:22.811Z"
   },
   {
    "duration": 21,
    "start_time": "2021-09-08T08:22:31.951Z"
   },
   {
    "duration": 185,
    "start_time": "2021-09-08T08:22:42.691Z"
   },
   {
    "duration": 1106,
    "start_time": "2021-09-08T08:23:43.963Z"
   },
   {
    "duration": 1529,
    "start_time": "2021-09-08T08:24:02.773Z"
   },
   {
    "duration": 1511,
    "start_time": "2021-09-08T08:24:21.691Z"
   },
   {
    "duration": 344,
    "start_time": "2021-09-08T08:25:53.437Z"
   },
   {
    "duration": 1763,
    "start_time": "2021-09-08T08:26:09.845Z"
   },
   {
    "duration": 428,
    "start_time": "2021-09-08T08:26:15.367Z"
   },
   {
    "duration": 1209,
    "start_time": "2021-09-08T08:28:18.359Z"
   },
   {
    "duration": 7,
    "start_time": "2021-09-08T08:29:06.406Z"
   },
   {
    "duration": 9,
    "start_time": "2021-09-08T08:29:14.099Z"
   },
   {
    "duration": 49,
    "start_time": "2021-09-08T08:29:47.369Z"
   },
   {
    "duration": 93,
    "start_time": "2021-09-08T08:30:12.673Z"
   },
   {
    "duration": 7,
    "start_time": "2021-09-08T08:30:18.203Z"
   },
   {
    "duration": 16,
    "start_time": "2021-09-08T08:30:26.401Z"
   },
   {
    "duration": 987,
    "start_time": "2021-09-08T08:31:01.995Z"
   },
   {
    "duration": 16,
    "start_time": "2021-09-08T08:31:21.867Z"
   },
   {
    "duration": 119,
    "start_time": "2021-09-08T08:31:51.756Z"
   },
   {
    "duration": 13,
    "start_time": "2021-09-08T08:32:29.302Z"
   },
   {
    "duration": 265,
    "start_time": "2021-09-08T08:32:45.579Z"
   },
   {
    "duration": 65,
    "start_time": "2021-09-08T08:32:56.421Z"
   },
   {
    "duration": 285,
    "start_time": "2021-09-08T08:33:05.157Z"
   },
   {
    "duration": 397,
    "start_time": "2021-09-08T08:33:16.597Z"
   },
   {
    "duration": 411,
    "start_time": "2021-09-08T08:33:38.398Z"
   },
   {
    "duration": 66,
    "start_time": "2021-09-08T08:34:36.856Z"
   },
   {
    "duration": 1401,
    "start_time": "2021-09-08T08:34:38.118Z"
   },
   {
    "duration": 153,
    "start_time": "2021-09-08T08:34:39.522Z"
   },
   {
    "duration": 420,
    "start_time": "2021-09-08T08:36:47.177Z"
   },
   {
    "duration": 13,
    "start_time": "2021-09-08T08:37:04.530Z"
   },
   {
    "duration": 2017,
    "start_time": "2021-09-08T08:37:15.841Z"
   },
   {
    "duration": 11,
    "start_time": "2021-09-08T08:37:47.975Z"
   },
   {
    "duration": 13,
    "start_time": "2021-09-08T08:37:47.989Z"
   },
   {
    "duration": 58271,
    "start_time": "2021-09-08T08:37:48.004Z"
   },
   {
    "duration": 22,
    "start_time": "2021-09-08T08:39:01.781Z"
   },
   {
    "duration": 927,
    "start_time": "2021-09-08T08:40:07.579Z"
   },
   {
    "duration": 55,
    "start_time": "2021-09-08T08:40:31.539Z"
   },
   {
    "duration": 10,
    "start_time": "2021-09-08T08:40:44.956Z"
   },
   {
    "duration": 14,
    "start_time": "2021-09-08T08:41:06.993Z"
   },
   {
    "duration": 2251,
    "start_time": "2021-09-08T08:43:02.822Z"
   },
   {
    "duration": 1215,
    "start_time": "2021-09-08T08:43:16.103Z"
   },
   {
    "duration": 1067,
    "start_time": "2021-09-08T08:43:35.462Z"
   },
   {
    "duration": 14,
    "start_time": "2021-09-08T08:44:50.513Z"
   },
   {
    "duration": 21,
    "start_time": "2021-09-08T08:45:12.976Z"
   },
   {
    "duration": 284,
    "start_time": "2021-09-08T08:45:26.418Z"
   },
   {
    "duration": 12,
    "start_time": "2021-09-08T08:46:13.790Z"
   },
   {
    "duration": 42,
    "start_time": "2021-09-08T08:46:20.457Z"
   },
   {
    "duration": 463,
    "start_time": "2021-09-08T08:46:25.469Z"
   },
   {
    "duration": 13,
    "start_time": "2021-09-08T08:46:52.115Z"
   },
   {
    "duration": 12,
    "start_time": "2021-09-08T08:47:08.523Z"
   },
   {
    "duration": 28,
    "start_time": "2021-09-08T08:47:10.256Z"
   },
   {
    "duration": 247,
    "start_time": "2021-09-08T08:47:26.036Z"
   },
   {
    "duration": 14,
    "start_time": "2021-09-08T08:48:15.452Z"
   },
   {
    "duration": 7,
    "start_time": "2021-09-08T08:55:29.584Z"
   },
   {
    "duration": 68,
    "start_time": "2021-09-08T08:55:29.593Z"
   },
   {
    "duration": 13,
    "start_time": "2021-09-08T08:55:29.667Z"
   },
   {
    "duration": 5,
    "start_time": "2021-09-08T08:55:29.683Z"
   },
   {
    "duration": 306,
    "start_time": "2021-09-08T08:55:29.690Z"
   },
   {
    "duration": 29,
    "start_time": "2021-09-08T08:55:29.998Z"
   },
   {
    "duration": 48,
    "start_time": "2021-09-08T08:55:30.030Z"
   },
   {
    "duration": 10,
    "start_time": "2021-09-08T08:55:30.082Z"
   },
   {
    "duration": 5,
    "start_time": "2021-09-08T08:55:30.095Z"
   },
   {
    "duration": 13,
    "start_time": "2021-09-08T08:55:30.102Z"
   },
   {
    "duration": 29,
    "start_time": "2021-09-08T08:55:30.117Z"
   },
   {
    "duration": 36,
    "start_time": "2021-09-08T08:55:30.162Z"
   },
   {
    "duration": 5,
    "start_time": "2021-09-08T08:55:30.201Z"
   },
   {
    "duration": 16,
    "start_time": "2021-09-08T08:55:30.208Z"
   },
   {
    "duration": 54,
    "start_time": "2021-09-08T08:55:30.226Z"
   },
   {
    "duration": 6,
    "start_time": "2021-09-08T08:55:30.282Z"
   },
   {
    "duration": 15,
    "start_time": "2021-09-08T08:55:30.290Z"
   },
   {
    "duration": 11,
    "start_time": "2021-09-08T08:55:30.307Z"
   },
   {
    "duration": 16,
    "start_time": "2021-09-08T08:55:30.321Z"
   },
   {
    "duration": 31,
    "start_time": "2021-09-08T08:55:30.339Z"
   },
   {
    "duration": 23,
    "start_time": "2021-09-08T08:55:30.374Z"
   },
   {
    "duration": 37,
    "start_time": "2021-09-08T08:55:30.399Z"
   },
   {
    "duration": 45,
    "start_time": "2021-09-08T08:55:30.443Z"
   },
   {
    "duration": 35,
    "start_time": "2021-09-08T08:55:30.491Z"
   },
   {
    "duration": 719,
    "start_time": "2021-09-08T08:55:30.528Z"
   },
   {
    "duration": 25,
    "start_time": "2021-09-08T08:55:31.249Z"
   },
   {
    "duration": 1111,
    "start_time": "2021-09-08T08:55:31.276Z"
   },
   {
    "duration": 171,
    "start_time": "2021-09-08T08:55:32.393Z"
   },
   {
    "duration": -71,
    "start_time": "2021-09-08T08:55:32.645Z"
   },
   {
    "duration": -76,
    "start_time": "2021-09-08T08:55:32.652Z"
   },
   {
    "duration": -86,
    "start_time": "2021-09-08T08:55:32.663Z"
   },
   {
    "duration": -90,
    "start_time": "2021-09-08T08:55:32.669Z"
   },
   {
    "duration": -165,
    "start_time": "2021-09-08T08:55:32.746Z"
   },
   {
    "duration": -178,
    "start_time": "2021-09-08T08:55:32.760Z"
   },
   {
    "duration": -185,
    "start_time": "2021-09-08T08:55:32.769Z"
   },
   {
    "duration": -193,
    "start_time": "2021-09-08T08:55:32.779Z"
   },
   {
    "duration": -281,
    "start_time": "2021-09-08T08:55:32.869Z"
   },
   {
    "duration": -284,
    "start_time": "2021-09-08T08:55:32.874Z"
   },
   {
    "duration": -290,
    "start_time": "2021-09-08T08:55:32.881Z"
   },
   {
    "duration": -292,
    "start_time": "2021-09-08T08:55:32.884Z"
   },
   {
    "duration": -296,
    "start_time": "2021-09-08T08:55:32.890Z"
   },
   {
    "duration": -298,
    "start_time": "2021-09-08T08:55:32.893Z"
   },
   {
    "duration": -300,
    "start_time": "2021-09-08T08:55:32.897Z"
   },
   {
    "duration": -301,
    "start_time": "2021-09-08T08:55:32.900Z"
   },
   {
    "duration": -303,
    "start_time": "2021-09-08T08:55:32.904Z"
   },
   {
    "duration": -319,
    "start_time": "2021-09-08T08:55:32.921Z"
   },
   {
    "duration": -321,
    "start_time": "2021-09-08T08:55:32.925Z"
   },
   {
    "duration": -324,
    "start_time": "2021-09-08T08:55:32.929Z"
   },
   {
    "duration": -327,
    "start_time": "2021-09-08T08:55:32.933Z"
   },
   {
    "duration": -329,
    "start_time": "2021-09-08T08:55:32.936Z"
   },
   {
    "duration": -332,
    "start_time": "2021-09-08T08:55:32.940Z"
   },
   {
    "duration": -334,
    "start_time": "2021-09-08T08:55:32.943Z"
   },
   {
    "duration": -336,
    "start_time": "2021-09-08T08:55:32.946Z"
   },
   {
    "duration": -339,
    "start_time": "2021-09-08T08:55:32.950Z"
   },
   {
    "duration": -292,
    "start_time": "2021-09-08T08:55:32.953Z"
   },
   {
    "duration": -294,
    "start_time": "2021-09-08T08:55:32.957Z"
   },
   {
    "duration": -296,
    "start_time": "2021-09-08T08:55:32.960Z"
   },
   {
    "duration": -298,
    "start_time": "2021-09-08T08:55:32.963Z"
   },
   {
    "duration": -336,
    "start_time": "2021-09-08T08:55:33.003Z"
   },
   {
    "duration": -344,
    "start_time": "2021-09-08T08:55:33.012Z"
   },
   {
    "duration": -376,
    "start_time": "2021-09-08T08:55:33.045Z"
   },
   {
    "duration": -379,
    "start_time": "2021-09-08T08:55:33.050Z"
   },
   {
    "duration": -384,
    "start_time": "2021-09-08T08:55:33.056Z"
   },
   {
    "duration": -389,
    "start_time": "2021-09-08T08:55:33.062Z"
   },
   {
    "duration": -392,
    "start_time": "2021-09-08T08:55:33.067Z"
   },
   {
    "duration": -399,
    "start_time": "2021-09-08T08:55:33.075Z"
   },
   {
    "duration": -402,
    "start_time": "2021-09-08T08:55:33.079Z"
   },
   {
    "duration": 7,
    "start_time": "2021-09-08T08:56:07.843Z"
   },
   {
    "duration": 53,
    "start_time": "2021-09-08T08:56:07.853Z"
   },
   {
    "duration": 12,
    "start_time": "2021-09-08T08:56:07.909Z"
   },
   {
    "duration": 4,
    "start_time": "2021-09-08T08:56:07.924Z"
   },
   {
    "duration": 39,
    "start_time": "2021-09-08T08:56:07.930Z"
   },
   {
    "duration": 14,
    "start_time": "2021-09-08T08:56:07.971Z"
   },
   {
    "duration": 41,
    "start_time": "2021-09-08T08:56:07.987Z"
   },
   {
    "duration": 42,
    "start_time": "2021-09-08T08:56:08.033Z"
   },
   {
    "duration": 5,
    "start_time": "2021-09-08T08:56:08.078Z"
   },
   {
    "duration": 4,
    "start_time": "2021-09-08T08:56:08.086Z"
   },
   {
    "duration": 22,
    "start_time": "2021-09-08T08:56:08.093Z"
   },
   {
    "duration": 77,
    "start_time": "2021-09-08T08:56:08.118Z"
   },
   {
    "duration": 6,
    "start_time": "2021-09-08T08:56:08.197Z"
   },
   {
    "duration": 19,
    "start_time": "2021-09-08T08:56:08.205Z"
   },
   {
    "duration": 43,
    "start_time": "2021-09-08T08:56:08.227Z"
   },
   {
    "duration": 13,
    "start_time": "2021-09-08T08:56:08.272Z"
   },
   {
    "duration": 12,
    "start_time": "2021-09-08T08:56:08.288Z"
   },
   {
    "duration": 11,
    "start_time": "2021-09-08T08:56:08.303Z"
   },
   {
    "duration": 14,
    "start_time": "2021-09-08T08:56:08.317Z"
   },
   {
    "duration": 10,
    "start_time": "2021-09-08T08:56:08.333Z"
   },
   {
    "duration": 18,
    "start_time": "2021-09-08T08:56:08.346Z"
   },
   {
    "duration": 20,
    "start_time": "2021-09-08T08:56:08.367Z"
   },
   {
    "duration": 31,
    "start_time": "2021-09-08T08:56:08.393Z"
   },
   {
    "duration": 58,
    "start_time": "2021-09-08T08:56:08.428Z"
   },
   {
    "duration": 26,
    "start_time": "2021-09-08T08:56:08.488Z"
   },
   {
    "duration": 6,
    "start_time": "2021-09-08T08:56:08.516Z"
   },
   {
    "duration": 1059,
    "start_time": "2021-09-08T08:56:08.524Z"
   },
   {
    "duration": 227,
    "start_time": "2021-09-08T08:56:09.586Z"
   },
   {
    "duration": -74,
    "start_time": "2021-09-08T08:56:09.889Z"
   },
   {
    "duration": -83,
    "start_time": "2021-09-08T08:56:09.899Z"
   },
   {
    "duration": -85,
    "start_time": "2021-09-08T08:56:09.903Z"
   },
   {
    "duration": -88,
    "start_time": "2021-09-08T08:56:09.907Z"
   },
   {
    "duration": -89,
    "start_time": "2021-09-08T08:56:09.910Z"
   },
   {
    "duration": -92,
    "start_time": "2021-09-08T08:56:09.914Z"
   },
   {
    "duration": -95,
    "start_time": "2021-09-08T08:56:09.918Z"
   },
   {
    "duration": -96,
    "start_time": "2021-09-08T08:56:09.921Z"
   },
   {
    "duration": -99,
    "start_time": "2021-09-08T08:56:09.925Z"
   },
   {
    "duration": -103,
    "start_time": "2021-09-08T08:56:09.931Z"
   },
   {
    "duration": -105,
    "start_time": "2021-09-08T08:56:09.934Z"
   },
   {
    "duration": -108,
    "start_time": "2021-09-08T08:56:09.938Z"
   },
   {
    "duration": -121,
    "start_time": "2021-09-08T08:56:09.952Z"
   },
   {
    "duration": -127,
    "start_time": "2021-09-08T08:56:09.960Z"
   },
   {
    "duration": -131,
    "start_time": "2021-09-08T08:56:09.965Z"
   },
   {
    "duration": -133,
    "start_time": "2021-09-08T08:56:09.969Z"
   },
   {
    "duration": -135,
    "start_time": "2021-09-08T08:56:09.972Z"
   },
   {
    "duration": -138,
    "start_time": "2021-09-08T08:56:09.976Z"
   },
   {
    "duration": -140,
    "start_time": "2021-09-08T08:56:09.980Z"
   },
   {
    "duration": -142,
    "start_time": "2021-09-08T08:56:09.983Z"
   },
   {
    "duration": -145,
    "start_time": "2021-09-08T08:56:09.987Z"
   },
   {
    "duration": -147,
    "start_time": "2021-09-08T08:56:09.991Z"
   },
   {
    "duration": -149,
    "start_time": "2021-09-08T08:56:09.994Z"
   },
   {
    "duration": -152,
    "start_time": "2021-09-08T08:56:09.998Z"
   },
   {
    "duration": -154,
    "start_time": "2021-09-08T08:56:10.002Z"
   },
   {
    "duration": -157,
    "start_time": "2021-09-08T08:56:10.006Z"
   },
   {
    "duration": -141,
    "start_time": "2021-09-08T08:56:10.010Z"
   },
   {
    "duration": -141,
    "start_time": "2021-09-08T08:56:10.014Z"
   },
   {
    "duration": -142,
    "start_time": "2021-09-08T08:56:10.017Z"
   },
   {
    "duration": -141,
    "start_time": "2021-09-08T08:56:10.020Z"
   },
   {
    "duration": -143,
    "start_time": "2021-09-08T08:56:10.024Z"
   },
   {
    "duration": -144,
    "start_time": "2021-09-08T08:56:10.027Z"
   },
   {
    "duration": -147,
    "start_time": "2021-09-08T08:56:10.031Z"
   },
   {
    "duration": -150,
    "start_time": "2021-09-08T08:56:10.035Z"
   },
   {
    "duration": -151,
    "start_time": "2021-09-08T08:56:10.038Z"
   },
   {
    "duration": -154,
    "start_time": "2021-09-08T08:56:10.042Z"
   },
   {
    "duration": -156,
    "start_time": "2021-09-08T08:56:10.045Z"
   },
   {
    "duration": -157,
    "start_time": "2021-09-08T08:56:10.048Z"
   },
   {
    "duration": -169,
    "start_time": "2021-09-08T08:56:10.061Z"
   },
   {
    "duration": 271,
    "start_time": "2021-09-08T08:56:19.362Z"
   },
   {
    "duration": 7,
    "start_time": "2021-09-08T08:56:41.740Z"
   },
   {
    "duration": 75,
    "start_time": "2021-09-08T08:56:41.749Z"
   },
   {
    "duration": 15,
    "start_time": "2021-09-08T08:56:41.828Z"
   },
   {
    "duration": 6,
    "start_time": "2021-09-08T08:56:41.868Z"
   },
   {
    "duration": 9,
    "start_time": "2021-09-08T08:56:41.878Z"
   },
   {
    "duration": 8,
    "start_time": "2021-09-08T08:56:41.889Z"
   },
   {
    "duration": 17,
    "start_time": "2021-09-08T08:56:41.899Z"
   },
   {
    "duration": 9,
    "start_time": "2021-09-08T08:56:41.961Z"
   },
   {
    "duration": 9,
    "start_time": "2021-09-08T08:56:41.973Z"
   },
   {
    "duration": 4,
    "start_time": "2021-09-08T08:56:41.984Z"
   },
   {
    "duration": 21,
    "start_time": "2021-09-08T08:56:41.991Z"
   },
   {
    "duration": 75,
    "start_time": "2021-09-08T08:56:42.015Z"
   },
   {
    "duration": 5,
    "start_time": "2021-09-08T08:56:42.092Z"
   },
   {
    "duration": 13,
    "start_time": "2021-09-08T08:56:42.100Z"
   },
   {
    "duration": 61,
    "start_time": "2021-09-08T08:56:42.116Z"
   },
   {
    "duration": 15,
    "start_time": "2021-09-08T08:56:42.180Z"
   },
   {
    "duration": 17,
    "start_time": "2021-09-08T08:56:42.197Z"
   },
   {
    "duration": 5,
    "start_time": "2021-09-08T08:56:42.217Z"
   },
   {
    "duration": 43,
    "start_time": "2021-09-08T08:56:42.224Z"
   },
   {
    "duration": 11,
    "start_time": "2021-09-08T08:56:42.270Z"
   },
   {
    "duration": 17,
    "start_time": "2021-09-08T08:56:42.283Z"
   },
   {
    "duration": 18,
    "start_time": "2021-09-08T08:56:42.302Z"
   },
   {
    "duration": 57,
    "start_time": "2021-09-08T08:56:42.326Z"
   },
   {
    "duration": 30,
    "start_time": "2021-09-08T08:56:42.386Z"
   },
   {
    "duration": 65,
    "start_time": "2021-09-08T08:56:42.419Z"
   },
   {
    "duration": 6,
    "start_time": "2021-09-08T08:56:42.487Z"
   },
   {
    "duration": 1085,
    "start_time": "2021-09-08T08:56:42.495Z"
   },
   {
    "duration": 84,
    "start_time": "2021-09-08T08:56:43.583Z"
   },
   {
    "duration": 15,
    "start_time": "2021-09-08T08:56:43.670Z"
   },
   {
    "duration": 1096,
    "start_time": "2021-09-08T08:56:43.688Z"
   },
   {
    "duration": 95,
    "start_time": "2021-09-08T08:56:44.787Z"
   },
   {
    "duration": 91,
    "start_time": "2021-09-08T08:56:44.886Z"
   },
   {
    "duration": 64,
    "start_time": "2021-09-08T08:56:44.982Z"
   },
   {
    "duration": 5,
    "start_time": "2021-09-08T08:56:45.063Z"
   },
   {
    "duration": 27,
    "start_time": "2021-09-08T08:56:45.070Z"
   },
   {
    "duration": 986,
    "start_time": "2021-09-08T08:56:45.099Z"
   },
   {
    "duration": 15,
    "start_time": "2021-09-08T08:56:46.087Z"
   },
   {
    "duration": 165,
    "start_time": "2021-09-08T08:56:46.104Z"
   },
   {
    "duration": 13,
    "start_time": "2021-09-08T08:56:46.271Z"
   },
   {
    "duration": 418,
    "start_time": "2021-09-08T08:56:46.287Z"
   },
   {
    "duration": 60,
    "start_time": "2021-09-08T08:56:46.707Z"
   },
   {
    "duration": 374,
    "start_time": "2021-09-08T08:56:46.773Z"
   },
   {
    "duration": 549,
    "start_time": "2021-09-08T08:56:47.150Z"
   },
   {
    "duration": 522,
    "start_time": "2021-09-08T08:56:47.702Z"
   },
   {
    "duration": 8,
    "start_time": "2021-09-08T08:56:48.227Z"
   },
   {
    "duration": 8,
    "start_time": "2021-09-08T08:56:48.237Z"
   },
   {
    "duration": 199,
    "start_time": "2021-09-08T08:56:48.264Z"
   },
   {
    "duration": 7,
    "start_time": "2021-09-08T08:56:48.466Z"
   },
   {
    "duration": 31,
    "start_time": "2021-09-08T08:56:48.475Z"
   },
   {
    "duration": 11,
    "start_time": "2021-09-08T08:56:48.508Z"
   },
   {
    "duration": 52,
    "start_time": "2021-09-08T08:56:48.522Z"
   },
   {
    "duration": 192,
    "start_time": "2021-09-08T08:56:48.578Z"
   },
   {
    "duration": 1027,
    "start_time": "2021-09-08T08:56:48.772Z"
   },
   {
    "duration": 1528,
    "start_time": "2021-09-08T08:56:49.877Z"
   },
   {
    "duration": 147,
    "start_time": "2021-09-08T08:56:51.463Z"
   },
   {
    "duration": 1797,
    "start_time": "2021-09-08T08:56:51.614Z"
   },
   {
    "duration": 163,
    "start_time": "2021-09-08T08:56:53.413Z"
   },
   {
    "duration": 6,
    "start_time": "2021-09-08T08:56:53.581Z"
   },
   {
    "duration": 17,
    "start_time": "2021-09-08T08:56:53.663Z"
   },
   {
    "duration": 58544,
    "start_time": "2021-09-08T08:56:53.683Z"
   },
   {
    "duration": 42,
    "start_time": "2021-09-08T08:57:52.229Z"
   },
   {
    "duration": 895,
    "start_time": "2021-09-08T08:57:52.275Z"
   },
   {
    "duration": 52,
    "start_time": "2021-09-08T08:57:53.173Z"
   },
   {
    "duration": 9,
    "start_time": "2021-09-08T08:57:53.228Z"
   },
   {
    "duration": 15,
    "start_time": "2021-09-08T08:57:53.269Z"
   },
   {
    "duration": 20,
    "start_time": "2021-09-08T08:57:53.287Z"
   },
   {
    "duration": 57,
    "start_time": "2021-09-08T08:58:39.512Z"
   },
   {
    "duration": 380,
    "start_time": "2021-09-08T08:58:57.622Z"
   },
   {
    "duration": 1355,
    "start_time": "2021-09-08T10:05:08.831Z"
   },
   {
    "duration": 51,
    "start_time": "2021-09-08T10:05:10.189Z"
   },
   {
    "duration": 12,
    "start_time": "2021-09-08T10:05:42.103Z"
   },
   {
    "duration": 5,
    "start_time": "2021-09-08T10:05:47.624Z"
   },
   {
    "duration": 8,
    "start_time": "2021-09-08T10:05:48.151Z"
   },
   {
    "duration": 6,
    "start_time": "2021-09-08T10:05:54.711Z"
   },
   {
    "duration": 17,
    "start_time": "2021-09-08T10:05:55.220Z"
   },
   {
    "duration": 8,
    "start_time": "2021-09-08T10:05:55.408Z"
   },
   {
    "duration": 5,
    "start_time": "2021-09-08T10:06:58.270Z"
   },
   {
    "duration": 3,
    "start_time": "2021-09-08T10:06:58.887Z"
   },
   {
    "duration": 17,
    "start_time": "2021-09-08T10:06:59.121Z"
   },
   {
    "duration": 31,
    "start_time": "2021-09-08T10:07:26.071Z"
   },
   {
    "duration": 5,
    "start_time": "2021-09-08T10:07:26.791Z"
   },
   {
    "duration": 7,
    "start_time": "2021-09-08T10:10:28.117Z"
   },
   {
    "duration": 15,
    "start_time": "2021-09-08T10:10:28.648Z"
   },
   {
    "duration": 6,
    "start_time": "2021-09-08T10:10:29.425Z"
   },
   {
    "duration": 10,
    "start_time": "2021-09-08T10:10:32.271Z"
   },
   {
    "duration": 5,
    "start_time": "2021-09-08T10:10:32.784Z"
   },
   {
    "duration": 8,
    "start_time": "2021-09-08T10:10:33.527Z"
   },
   {
    "duration": 5,
    "start_time": "2021-09-08T10:10:34.687Z"
   },
   {
    "duration": 4,
    "start_time": "2021-09-08T10:13:25.692Z"
   },
   {
    "duration": 10,
    "start_time": "2021-09-08T10:13:30.189Z"
   },
   {
    "duration": 33,
    "start_time": "2021-09-08T10:13:42.445Z"
   },
   {
    "duration": 26,
    "start_time": "2021-09-08T10:13:52.457Z"
   },
   {
    "duration": 24,
    "start_time": "2021-09-08T10:13:56.522Z"
   },
   {
    "duration": 5,
    "start_time": "2021-09-08T10:15:38.536Z"
   },
   {
    "duration": 1699,
    "start_time": "2021-09-08T10:15:38.788Z"
   },
   {
    "duration": 116,
    "start_time": "2021-09-08T10:15:40.492Z"
   },
   {
    "duration": 16,
    "start_time": "2021-09-08T10:15:40.611Z"
   },
   {
    "duration": 971,
    "start_time": "2021-09-08T10:17:21.121Z"
   },
   {
    "duration": 9,
    "start_time": "2021-09-08T10:17:22.185Z"
   },
   {
    "duration": 16,
    "start_time": "2021-09-08T10:17:22.268Z"
   },
   {
    "duration": 46,
    "start_time": "2021-09-08T10:25:00.965Z"
   },
   {
    "duration": 4,
    "start_time": "2021-09-08T10:25:01.730Z"
   },
   {
    "duration": 16,
    "start_time": "2021-09-08T10:25:01.937Z"
   },
   {
    "duration": 883,
    "start_time": "2021-09-08T10:25:05.076Z"
   },
   {
    "duration": 29,
    "start_time": "2021-09-08T10:25:05.962Z"
   },
   {
    "duration": 96,
    "start_time": "2021-09-08T10:25:07.992Z"
   },
   {
    "duration": 12,
    "start_time": "2021-09-08T10:25:08.323Z"
   },
   {
    "duration": 237,
    "start_time": "2021-09-08T10:25:09.440Z"
   },
   {
    "duration": 20,
    "start_time": "2021-09-08T10:25:10.000Z"
   },
   {
    "duration": 242,
    "start_time": "2021-09-08T10:25:10.505Z"
   },
   {
    "duration": 473,
    "start_time": "2021-09-08T10:25:10.749Z"
   },
   {
    "duration": 494,
    "start_time": "2021-09-08T10:25:11.224Z"
   },
   {
    "duration": 9,
    "start_time": "2021-09-08T10:29:59.993Z"
   },
   {
    "duration": 5,
    "start_time": "2021-09-08T10:30:00.123Z"
   },
   {
    "duration": 156,
    "start_time": "2021-09-08T10:30:00.305Z"
   },
   {
    "duration": 7,
    "start_time": "2021-09-08T10:30:00.537Z"
   },
   {
    "duration": 22,
    "start_time": "2021-09-08T10:30:00.753Z"
   },
   {
    "duration": 11,
    "start_time": "2021-09-08T10:30:01.931Z"
   },
   {
    "duration": 19,
    "start_time": "2021-09-08T10:30:02.844Z"
   },
   {
    "duration": 155,
    "start_time": "2021-09-08T10:30:03.041Z"
   },
   {
    "duration": 968,
    "start_time": "2021-09-08T10:30:56.624Z"
   },
   {
    "duration": 1598,
    "start_time": "2021-09-08T10:30:57.684Z"
   },
   {
    "duration": 60,
    "start_time": "2021-09-08T10:31:19.906Z"
   },
   {
    "duration": 1289,
    "start_time": "2021-09-08T10:31:20.538Z"
   },
   {
    "duration": 155,
    "start_time": "2021-09-08T10:31:21.829Z"
   },
   {
    "duration": 11,
    "start_time": "2021-09-08T10:32:34.338Z"
   },
   {
    "duration": 11,
    "start_time": "2021-09-08T10:33:33.330Z"
   },
   {
    "duration": 52658,
    "start_time": "2021-09-08T10:33:45.101Z"
   },
   {
    "duration": 35,
    "start_time": "2021-09-08T10:34:37.762Z"
   },
   {
    "duration": 830,
    "start_time": "2021-09-08T10:37:11.753Z"
   },
   {
    "duration": 47,
    "start_time": "2021-09-08T10:37:12.586Z"
   },
   {
    "duration": 1296,
    "start_time": "2021-09-09T13:56:19.890Z"
   },
   {
    "duration": 45,
    "start_time": "2021-09-09T13:56:21.188Z"
   },
   {
    "duration": 9,
    "start_time": "2021-09-09T13:56:21.235Z"
   },
   {
    "duration": 3,
    "start_time": "2021-09-09T13:56:21.246Z"
   },
   {
    "duration": 8,
    "start_time": "2021-09-09T13:56:21.251Z"
   },
   {
    "duration": 8,
    "start_time": "2021-09-09T13:56:21.261Z"
   },
   {
    "duration": 21,
    "start_time": "2021-09-09T13:56:21.270Z"
   },
   {
    "duration": 5,
    "start_time": "2021-09-09T13:56:21.294Z"
   },
   {
    "duration": 9,
    "start_time": "2021-09-09T13:56:21.301Z"
   },
   {
    "duration": 7,
    "start_time": "2021-09-09T13:56:21.312Z"
   },
   {
    "duration": 28,
    "start_time": "2021-09-09T13:56:21.321Z"
   },
   {
    "duration": 25,
    "start_time": "2021-09-09T13:56:21.350Z"
   },
   {
    "duration": 4,
    "start_time": "2021-09-09T13:56:21.377Z"
   },
   {
    "duration": 13,
    "start_time": "2021-09-09T13:56:21.382Z"
   },
   {
    "duration": 11,
    "start_time": "2021-09-09T13:56:21.397Z"
   },
   {
    "duration": 33,
    "start_time": "2021-09-09T13:56:21.410Z"
   },
   {
    "duration": 7,
    "start_time": "2021-09-09T13:56:21.445Z"
   },
   {
    "duration": 6,
    "start_time": "2021-09-09T13:56:21.454Z"
   },
   {
    "duration": 15,
    "start_time": "2021-09-09T13:56:21.461Z"
   },
   {
    "duration": 14,
    "start_time": "2021-09-09T13:56:21.478Z"
   },
   {
    "duration": 8,
    "start_time": "2021-09-09T13:56:21.494Z"
   },
   {
    "duration": 14,
    "start_time": "2021-09-09T13:56:21.504Z"
   },
   {
    "duration": 40,
    "start_time": "2021-09-09T13:56:21.522Z"
   },
   {
    "duration": 19,
    "start_time": "2021-09-09T13:56:21.565Z"
   },
   {
    "duration": 19,
    "start_time": "2021-09-09T13:56:21.585Z"
   },
   {
    "duration": 36,
    "start_time": "2021-09-09T13:56:21.606Z"
   },
   {
    "duration": 973,
    "start_time": "2021-09-09T13:56:21.644Z"
   },
   {
    "duration": -82,
    "start_time": "2021-09-09T13:56:22.701Z"
   },
   {
    "duration": -87,
    "start_time": "2021-09-09T13:56:22.707Z"
   },
   {
    "duration": -91,
    "start_time": "2021-09-09T13:56:22.712Z"
   },
   {
    "duration": -95,
    "start_time": "2021-09-09T13:56:22.717Z"
   },
   {
    "duration": -100,
    "start_time": "2021-09-09T13:56:22.722Z"
   },
   {
    "duration": -104,
    "start_time": "2021-09-09T13:56:22.728Z"
   },
   {
    "duration": -108,
    "start_time": "2021-09-09T13:56:22.733Z"
   },
   {
    "duration": -113,
    "start_time": "2021-09-09T13:56:22.739Z"
   },
   {
    "duration": -115,
    "start_time": "2021-09-09T13:56:22.742Z"
   },
   {
    "duration": -119,
    "start_time": "2021-09-09T13:56:22.746Z"
   },
   {
    "duration": -122,
    "start_time": "2021-09-09T13:56:22.750Z"
   },
   {
    "duration": -126,
    "start_time": "2021-09-09T13:56:22.755Z"
   },
   {
    "duration": -128,
    "start_time": "2021-09-09T13:56:22.758Z"
   },
   {
    "duration": -132,
    "start_time": "2021-09-09T13:56:22.763Z"
   },
   {
    "duration": -134,
    "start_time": "2021-09-09T13:56:22.766Z"
   },
   {
    "duration": -148,
    "start_time": "2021-09-09T13:56:22.781Z"
   },
   {
    "duration": -154,
    "start_time": "2021-09-09T13:56:22.788Z"
   },
   {
    "duration": -157,
    "start_time": "2021-09-09T13:56:22.792Z"
   },
   {
    "duration": -161,
    "start_time": "2021-09-09T13:56:22.796Z"
   },
   {
    "duration": -164,
    "start_time": "2021-09-09T13:56:22.800Z"
   },
   {
    "duration": -168,
    "start_time": "2021-09-09T13:56:22.805Z"
   },
   {
    "duration": -171,
    "start_time": "2021-09-09T13:56:22.809Z"
   },
   {
    "duration": -174,
    "start_time": "2021-09-09T13:56:22.813Z"
   },
   {
    "duration": -178,
    "start_time": "2021-09-09T13:56:22.817Z"
   },
   {
    "duration": -181,
    "start_time": "2021-09-09T13:56:22.821Z"
   },
   {
    "duration": -183,
    "start_time": "2021-09-09T13:56:22.825Z"
   },
   {
    "duration": -186,
    "start_time": "2021-09-09T13:56:22.829Z"
   },
   {
    "duration": -190,
    "start_time": "2021-09-09T13:56:22.833Z"
   },
   {
    "duration": -194,
    "start_time": "2021-09-09T13:56:22.838Z"
   },
   {
    "duration": -196,
    "start_time": "2021-09-09T13:56:22.841Z"
   },
   {
    "duration": -199,
    "start_time": "2021-09-09T13:56:22.845Z"
   },
   {
    "duration": -202,
    "start_time": "2021-09-09T13:56:22.849Z"
   },
   {
    "duration": -205,
    "start_time": "2021-09-09T13:56:22.853Z"
   },
   {
    "duration": -208,
    "start_time": "2021-09-09T13:56:22.857Z"
   },
   {
    "duration": -212,
    "start_time": "2021-09-09T13:56:22.861Z"
   },
   {
    "duration": -215,
    "start_time": "2021-09-09T13:56:22.865Z"
   },
   {
    "duration": -218,
    "start_time": "2021-09-09T13:56:22.869Z"
   },
   {
    "duration": -221,
    "start_time": "2021-09-09T13:56:22.873Z"
   },
   {
    "duration": -224,
    "start_time": "2021-09-09T13:56:22.877Z"
   },
   {
    "duration": -238,
    "start_time": "2021-09-09T13:56:22.892Z"
   },
   {
    "duration": -244,
    "start_time": "2021-09-09T13:56:22.898Z"
   },
   {
    "duration": 6,
    "start_time": "2021-09-09T13:56:39.017Z"
   },
   {
    "duration": 11,
    "start_time": "2021-09-09T13:56:54.925Z"
   },
   {
    "duration": 6,
    "start_time": "2021-09-09T13:56:57.362Z"
   },
   {
    "duration": 659,
    "start_time": "2021-09-09T13:56:59.871Z"
   },
   {
    "duration": 6,
    "start_time": "2021-09-09T13:57:09.157Z"
   },
   {
    "duration": 6,
    "start_time": "2021-09-09T13:57:10.077Z"
   },
   {
    "duration": 490,
    "start_time": "2021-09-09T13:57:15.038Z"
   },
   {
    "duration": 5,
    "start_time": "2021-09-09T13:57:55.822Z"
   },
   {
    "duration": 47,
    "start_time": "2021-09-09T13:57:55.829Z"
   },
   {
    "duration": 8,
    "start_time": "2021-09-09T13:57:55.878Z"
   },
   {
    "duration": 3,
    "start_time": "2021-09-09T13:57:55.888Z"
   },
   {
    "duration": 7,
    "start_time": "2021-09-09T13:57:55.893Z"
   },
   {
    "duration": 6,
    "start_time": "2021-09-09T13:57:55.902Z"
   },
   {
    "duration": 40,
    "start_time": "2021-09-09T13:57:55.909Z"
   },
   {
    "duration": 5,
    "start_time": "2021-09-09T13:57:55.952Z"
   },
   {
    "duration": 9,
    "start_time": "2021-09-09T13:57:55.959Z"
   },
   {
    "duration": 9,
    "start_time": "2021-09-09T13:57:55.969Z"
   },
   {
    "duration": 23,
    "start_time": "2021-09-09T13:57:55.980Z"
   },
   {
    "duration": 43,
    "start_time": "2021-09-09T13:57:56.005Z"
   },
   {
    "duration": 4,
    "start_time": "2021-09-09T13:57:56.050Z"
   },
   {
    "duration": 12,
    "start_time": "2021-09-09T13:57:56.055Z"
   },
   {
    "duration": 18,
    "start_time": "2021-09-09T13:57:56.069Z"
   },
   {
    "duration": 19,
    "start_time": "2021-09-09T13:57:56.089Z"
   },
   {
    "duration": 16,
    "start_time": "2021-09-09T13:57:56.110Z"
   },
   {
    "duration": 18,
    "start_time": "2021-09-09T13:57:56.128Z"
   },
   {
    "duration": 20,
    "start_time": "2021-09-09T13:57:56.147Z"
   },
   {
    "duration": 9,
    "start_time": "2021-09-09T13:57:56.169Z"
   },
   {
    "duration": 5,
    "start_time": "2021-09-09T13:57:56.180Z"
   },
   {
    "duration": 11,
    "start_time": "2021-09-09T13:57:56.187Z"
   },
   {
    "duration": 23,
    "start_time": "2021-09-09T13:57:56.203Z"
   },
   {
    "duration": 19,
    "start_time": "2021-09-09T13:57:56.242Z"
   },
   {
    "duration": 18,
    "start_time": "2021-09-09T13:57:56.263Z"
   },
   {
    "duration": 5,
    "start_time": "2021-09-09T13:57:56.283Z"
   },
   {
    "duration": 856,
    "start_time": "2021-09-09T13:57:56.289Z"
   },
   {
    "duration": 98,
    "start_time": "2021-09-09T13:57:57.148Z"
   },
   {
    "duration": 10,
    "start_time": "2021-09-09T13:57:57.247Z"
   },
   {
    "duration": 786,
    "start_time": "2021-09-09T13:57:57.259Z"
   },
   {
    "duration": 97,
    "start_time": "2021-09-09T13:57:58.049Z"
   },
   {
    "duration": 101,
    "start_time": "2021-09-09T13:57:58.151Z"
   },
   {
    "duration": 41,
    "start_time": "2021-09-09T13:57:58.254Z"
   },
   {
    "duration": 5,
    "start_time": "2021-09-09T13:57:58.297Z"
   },
   {
    "duration": 38,
    "start_time": "2021-09-09T13:57:58.304Z"
   },
   {
    "duration": 941,
    "start_time": "2021-09-09T13:57:58.345Z"
   },
   {
    "duration": 10,
    "start_time": "2021-09-09T13:57:59.288Z"
   },
   {
    "duration": 143,
    "start_time": "2021-09-09T13:57:59.300Z"
   },
   {
    "duration": 121,
    "start_time": "2021-09-09T13:57:59.446Z"
   },
   {
    "duration": 186,
    "start_time": "2021-09-09T13:57:59.642Z"
   },
   {
    "duration": 21,
    "start_time": "2021-09-09T13:57:59.831Z"
   },
   {
    "duration": 266,
    "start_time": "2021-09-09T13:57:59.943Z"
   },
   {
    "duration": 397,
    "start_time": "2021-09-09T13:58:00.211Z"
   },
   {
    "duration": 399,
    "start_time": "2021-09-09T13:58:00.610Z"
   },
   {
    "duration": 7,
    "start_time": "2021-09-09T13:58:01.011Z"
   },
   {
    "duration": 26,
    "start_time": "2021-09-09T13:58:01.020Z"
   },
   {
    "duration": 133,
    "start_time": "2021-09-09T13:58:01.049Z"
   },
   {
    "duration": 6,
    "start_time": "2021-09-09T13:58:01.184Z"
   },
   {
    "duration": 54,
    "start_time": "2021-09-09T13:58:01.192Z"
   },
   {
    "duration": 13,
    "start_time": "2021-09-09T13:58:01.248Z"
   },
   {
    "duration": 28,
    "start_time": "2021-09-09T13:58:01.263Z"
   },
   {
    "duration": 131,
    "start_time": "2021-09-09T13:58:01.293Z"
   },
   {
    "duration": 915,
    "start_time": "2021-09-09T13:58:01.426Z"
   },
   {
    "duration": 1198,
    "start_time": "2021-09-09T13:58:02.343Z"
   },
   {
    "duration": 141,
    "start_time": "2021-09-09T13:58:03.544Z"
   },
   {
    "duration": 1036,
    "start_time": "2021-09-09T13:58:03.687Z"
   },
   {
    "duration": 118,
    "start_time": "2021-09-09T13:58:04.725Z"
   },
   {
    "duration": 114,
    "start_time": "2021-09-09T13:58:04.845Z"
   },
   {
    "duration": 9,
    "start_time": "2021-09-09T13:58:04.960Z"
   },
   {
    "duration": 42135,
    "start_time": "2021-09-09T13:58:04.971Z"
   },
   {
    "duration": 14,
    "start_time": "2021-09-09T13:58:47.108Z"
   },
   {
    "duration": 682,
    "start_time": "2021-09-09T13:58:47.124Z"
   },
   {
    "duration": 41,
    "start_time": "2021-09-09T13:58:47.808Z"
   },
   {
    "duration": 7,
    "start_time": "2021-09-09T13:58:47.851Z"
   },
   {
    "duration": 13,
    "start_time": "2021-09-09T13:58:47.860Z"
   },
   {
    "duration": 12,
    "start_time": "2021-09-09T13:58:47.875Z"
   },
   {
    "duration": 66,
    "start_time": "2021-09-09T13:58:47.889Z"
   },
   {
    "duration": 333,
    "start_time": "2021-09-09T13:58:47.960Z"
   },
   {
    "duration": 1490,
    "start_time": "2021-09-10T08:44:41.965Z"
   },
   {
    "duration": 53,
    "start_time": "2021-09-10T08:44:43.457Z"
   },
   {
    "duration": 11,
    "start_time": "2021-09-10T08:44:43.513Z"
   },
   {
    "duration": 5,
    "start_time": "2021-09-10T08:44:43.527Z"
   },
   {
    "duration": 8,
    "start_time": "2021-09-10T08:44:43.534Z"
   },
   {
    "duration": 6,
    "start_time": "2021-09-10T08:44:43.544Z"
   },
   {
    "duration": 16,
    "start_time": "2021-09-10T08:44:43.552Z"
   },
   {
    "duration": 49,
    "start_time": "2021-09-10T08:44:43.572Z"
   },
   {
    "duration": 5,
    "start_time": "2021-09-10T08:44:43.624Z"
   },
   {
    "duration": 8,
    "start_time": "2021-09-10T08:44:43.631Z"
   },
   {
    "duration": 20,
    "start_time": "2021-09-10T08:44:43.641Z"
   },
   {
    "duration": 69,
    "start_time": "2021-09-10T08:44:43.663Z"
   },
   {
    "duration": 5,
    "start_time": "2021-09-10T08:44:43.734Z"
   },
   {
    "duration": 13,
    "start_time": "2021-09-10T08:44:43.741Z"
   },
   {
    "duration": 14,
    "start_time": "2021-09-10T08:44:43.757Z"
   },
   {
    "duration": 6,
    "start_time": "2021-09-10T08:44:43.774Z"
   },
   {
    "duration": 42,
    "start_time": "2021-09-10T08:44:43.782Z"
   },
   {
    "duration": 7,
    "start_time": "2021-09-10T08:44:43.826Z"
   },
   {
    "duration": 7,
    "start_time": "2021-09-10T08:44:43.836Z"
   },
   {
    "duration": 7,
    "start_time": "2021-09-10T08:44:43.846Z"
   },
   {
    "duration": 3,
    "start_time": "2021-09-10T08:44:43.855Z"
   },
   {
    "duration": 57,
    "start_time": "2021-09-10T08:44:43.861Z"
   },
   {
    "duration": 30,
    "start_time": "2021-09-10T08:44:43.924Z"
   },
   {
    "duration": 26,
    "start_time": "2021-09-10T08:44:43.958Z"
   },
   {
    "duration": 52,
    "start_time": "2021-09-10T08:44:43.987Z"
   },
   {
    "duration": 6,
    "start_time": "2021-09-10T08:44:44.041Z"
   },
   {
    "duration": 1170,
    "start_time": "2021-09-10T08:44:44.049Z"
   },
   {
    "duration": 106,
    "start_time": "2021-09-10T08:44:45.222Z"
   },
   {
    "duration": 9,
    "start_time": "2021-09-10T08:44:45.330Z"
   },
   {
    "duration": 1077,
    "start_time": "2021-09-10T08:44:45.342Z"
   },
   {
    "duration": 100,
    "start_time": "2021-09-10T08:44:46.421Z"
   },
   {
    "duration": 98,
    "start_time": "2021-09-10T08:44:46.525Z"
   },
   {
    "duration": 45,
    "start_time": "2021-09-10T08:44:46.625Z"
   },
   {
    "duration": 4,
    "start_time": "2021-09-10T08:44:46.673Z"
   },
   {
    "duration": 45,
    "start_time": "2021-09-10T08:44:46.680Z"
   },
   {
    "duration": 971,
    "start_time": "2021-09-10T08:44:46.728Z"
   },
   {
    "duration": 27,
    "start_time": "2021-09-10T08:44:47.702Z"
   },
   {
    "duration": 92,
    "start_time": "2021-09-10T08:44:47.731Z"
   },
   {
    "duration": 192,
    "start_time": "2021-09-10T08:44:47.825Z"
   },
   {
    "duration": 361,
    "start_time": "2021-09-10T08:44:48.020Z"
   },
   {
    "duration": 34,
    "start_time": "2021-09-10T08:44:48.384Z"
   },
   {
    "duration": 395,
    "start_time": "2021-09-10T08:44:48.421Z"
   },
   {
    "duration": 454,
    "start_time": "2021-09-10T08:44:48.820Z"
   },
   {
    "duration": 502,
    "start_time": "2021-09-10T08:44:49.276Z"
   },
   {
    "duration": 8,
    "start_time": "2021-09-10T08:44:49.780Z"
   },
   {
    "duration": 25,
    "start_time": "2021-09-10T08:44:49.791Z"
   },
   {
    "duration": 182,
    "start_time": "2021-09-10T08:44:49.818Z"
   },
   {
    "duration": 7,
    "start_time": "2021-09-10T08:44:50.002Z"
   },
   {
    "duration": 35,
    "start_time": "2021-09-10T08:44:50.017Z"
   },
   {
    "duration": 11,
    "start_time": "2021-09-10T08:44:50.054Z"
   },
   {
    "duration": 20,
    "start_time": "2021-09-10T08:44:50.067Z"
   },
   {
    "duration": 199,
    "start_time": "2021-09-10T08:44:50.089Z"
   },
   {
    "duration": 1056,
    "start_time": "2021-09-10T08:44:50.291Z"
   },
   {
    "duration": 1736,
    "start_time": "2021-09-10T08:44:51.420Z"
   },
   {
    "duration": 157,
    "start_time": "2021-09-10T08:44:53.219Z"
   },
   {
    "duration": 1406,
    "start_time": "2021-09-10T08:44:53.379Z"
   },
   {
    "duration": 229,
    "start_time": "2021-09-10T08:44:54.788Z"
   },
   {
    "duration": 15,
    "start_time": "2021-09-10T08:44:55.020Z"
   },
   {
    "duration": 13,
    "start_time": "2021-09-10T08:44:55.038Z"
   },
   {
    "duration": 56414,
    "start_time": "2021-09-10T08:44:55.054Z"
   },
   {
    "duration": 22,
    "start_time": "2021-09-10T08:45:51.470Z"
   },
   {
    "duration": 879,
    "start_time": "2021-09-10T08:45:51.517Z"
   },
   {
    "duration": 61,
    "start_time": "2021-09-10T08:45:52.398Z"
   },
   {
    "duration": 8,
    "start_time": "2021-09-10T08:45:52.462Z"
   },
   {
    "duration": 13,
    "start_time": "2021-09-10T08:45:52.472Z"
   },
   {
    "duration": 12,
    "start_time": "2021-09-10T08:45:52.515Z"
   },
   {
    "duration": 53,
    "start_time": "2021-09-10T08:45:52.530Z"
   },
   {
    "duration": 460,
    "start_time": "2021-09-10T08:45:52.589Z"
   },
   {
    "duration": 685,
    "start_time": "2021-09-10T08:52:54.419Z"
   },
   {
    "duration": 15,
    "start_time": "2021-09-10T08:53:01.387Z"
   },
   {
    "duration": 21,
    "start_time": "2021-09-10T08:53:12.782Z"
   },
   {
    "duration": 21,
    "start_time": "2021-09-10T08:53:26.129Z"
   },
   {
    "duration": 21,
    "start_time": "2021-09-10T08:53:42.601Z"
   },
   {
    "duration": 775,
    "start_time": "2021-09-10T09:30:51.573Z"
   },
   {
    "duration": 134,
    "start_time": "2021-09-10T09:31:38.990Z"
   },
   {
    "duration": 131,
    "start_time": "2021-09-10T09:31:52.652Z"
   },
   {
    "duration": 6,
    "start_time": "2021-09-10T09:31:57.965Z"
   },
   {
    "duration": 357539,
    "start_time": "2021-09-10T09:32:00.198Z"
   },
   {
    "duration": 900,
    "start_time": "2021-09-10T09:38:08.234Z"
   },
   {
    "duration": 71733,
    "start_time": "2021-09-10T09:38:36.477Z"
   },
   {
    "duration": 340,
    "start_time": "2021-09-10T09:40:51.808Z"
   },
   {
    "duration": 134,
    "start_time": "2021-09-10T09:41:40.588Z"
   },
   {
    "duration": 160,
    "start_time": "2021-09-10T09:41:54.886Z"
   },
   {
    "duration": 3,
    "start_time": "2021-09-10T09:42:36.624Z"
   },
   {
    "duration": 3,
    "start_time": "2021-09-10T09:42:37.487Z"
   },
   {
    "duration": 9,
    "start_time": "2021-09-10T09:42:38.071Z"
   },
   {
    "duration": 29,
    "start_time": "2021-09-10T09:42:38.820Z"
   },
   {
    "duration": 26,
    "start_time": "2021-09-10T09:42:39.685Z"
   },
   {
    "duration": 26,
    "start_time": "2021-09-10T09:42:40.444Z"
   },
   {
    "duration": 7,
    "start_time": "2021-09-10T09:43:50.161Z"
   },
   {
    "duration": 53,
    "start_time": "2021-09-10T09:43:50.171Z"
   },
   {
    "duration": 11,
    "start_time": "2021-09-10T09:43:50.228Z"
   },
   {
    "duration": 5,
    "start_time": "2021-09-10T09:43:50.241Z"
   },
   {
    "duration": 10,
    "start_time": "2021-09-10T09:43:50.249Z"
   },
   {
    "duration": 9,
    "start_time": "2021-09-10T09:43:50.261Z"
   },
   {
    "duration": 53,
    "start_time": "2021-09-10T09:43:50.272Z"
   },
   {
    "duration": 7,
    "start_time": "2021-09-10T09:43:50.328Z"
   },
   {
    "duration": 5,
    "start_time": "2021-09-10T09:43:50.339Z"
   },
   {
    "duration": 4,
    "start_time": "2021-09-10T09:43:50.348Z"
   },
   {
    "duration": 64,
    "start_time": "2021-09-10T09:43:50.354Z"
   },
   {
    "duration": 48,
    "start_time": "2021-09-10T09:43:50.420Z"
   },
   {
    "duration": 6,
    "start_time": "2021-09-10T09:43:50.471Z"
   },
   {
    "duration": 9,
    "start_time": "2021-09-10T09:43:50.480Z"
   },
   {
    "duration": 35,
    "start_time": "2021-09-10T09:43:50.492Z"
   },
   {
    "duration": 18,
    "start_time": "2021-09-10T09:43:50.529Z"
   },
   {
    "duration": 20,
    "start_time": "2021-09-10T09:43:50.550Z"
   },
   {
    "duration": 43,
    "start_time": "2021-09-10T09:43:50.573Z"
   },
   {
    "duration": 10,
    "start_time": "2021-09-10T09:43:50.619Z"
   },
   {
    "duration": 16,
    "start_time": "2021-09-10T09:43:50.631Z"
   },
   {
    "duration": 13,
    "start_time": "2021-09-10T09:43:50.650Z"
   },
   {
    "duration": 13,
    "start_time": "2021-09-10T09:43:50.666Z"
   },
   {
    "duration": 37,
    "start_time": "2021-09-10T09:43:50.682Z"
   },
   {
    "duration": 34,
    "start_time": "2021-09-10T09:43:50.722Z"
   },
   {
    "duration": 70,
    "start_time": "2021-09-10T09:43:50.759Z"
   },
   {
    "duration": 26,
    "start_time": "2021-09-10T09:43:50.831Z"
   },
   {
    "duration": 5,
    "start_time": "2021-09-10T09:43:50.864Z"
   },
   {
    "duration": 1143,
    "start_time": "2021-09-10T09:43:50.873Z"
   },
   {
    "duration": 99,
    "start_time": "2021-09-10T09:43:52.019Z"
   },
   {
    "duration": 8,
    "start_time": "2021-09-10T09:43:52.120Z"
   },
   {
    "duration": 1189,
    "start_time": "2021-09-10T09:43:52.130Z"
   },
   {
    "duration": 96,
    "start_time": "2021-09-10T09:43:53.322Z"
   },
   {
    "duration": 7,
    "start_time": "2021-09-10T09:43:53.421Z"
   },
   {
    "duration": 50,
    "start_time": "2021-09-10T09:43:53.430Z"
   },
   {
    "duration": 34,
    "start_time": "2021-09-10T09:43:53.483Z"
   },
   {
    "duration": 17,
    "start_time": "2021-09-10T09:43:53.519Z"
   },
   {
    "duration": 1025,
    "start_time": "2021-09-10T09:43:53.538Z"
   },
   {
    "duration": 14,
    "start_time": "2021-09-10T09:43:54.566Z"
   },
   {
    "duration": 141,
    "start_time": "2021-09-10T09:43:54.583Z"
   },
   {
    "duration": 99,
    "start_time": "2021-09-10T09:43:54.727Z"
   },
   {
    "duration": 461,
    "start_time": "2021-09-10T09:43:54.918Z"
   },
   {
    "duration": 42,
    "start_time": "2021-09-10T09:43:55.381Z"
   },
   {
    "duration": 307,
    "start_time": "2021-09-10T09:43:55.515Z"
   },
   {
    "duration": 432,
    "start_time": "2021-09-10T09:43:55.825Z"
   },
   {
    "duration": 496,
    "start_time": "2021-09-10T09:43:56.259Z"
   },
   {
    "duration": 9,
    "start_time": "2021-09-10T09:43:56.757Z"
   },
   {
    "duration": 7,
    "start_time": "2021-09-10T09:43:56.769Z"
   },
   {
    "duration": 219,
    "start_time": "2021-09-10T09:43:56.779Z"
   },
   {
    "duration": 15,
    "start_time": "2021-09-10T09:43:57.001Z"
   },
   {
    "duration": 31,
    "start_time": "2021-09-10T09:43:57.019Z"
   },
   {
    "duration": 11,
    "start_time": "2021-09-10T09:43:57.052Z"
   },
   {
    "duration": 19,
    "start_time": "2021-09-10T09:43:57.066Z"
   },
   {
    "duration": 213,
    "start_time": "2021-09-10T09:43:57.087Z"
   },
   {
    "duration": 1020,
    "start_time": "2021-09-10T09:43:57.303Z"
   },
   {
    "duration": 1640,
    "start_time": "2021-09-10T09:43:58.418Z"
   },
   {
    "duration": 158,
    "start_time": "2021-09-10T09:44:00.118Z"
   },
   {
    "duration": 1461,
    "start_time": "2021-09-10T09:44:00.278Z"
   },
   {
    "duration": 85,
    "start_time": "2021-09-10T09:44:01.741Z"
   },
   {
    "duration": 4,
    "start_time": "2021-09-10T09:44:01.917Z"
   },
   {
    "duration": 15,
    "start_time": "2021-09-10T09:44:01.923Z"
   },
   {
    "duration": 56823,
    "start_time": "2021-09-10T09:44:01.941Z"
   },
   {
    "duration": 21,
    "start_time": "2021-09-10T09:44:58.768Z"
   },
   {
    "duration": 899,
    "start_time": "2021-09-10T09:44:58.817Z"
   },
   {
    "duration": 52,
    "start_time": "2021-09-10T09:44:59.718Z"
   },
   {
    "duration": 9,
    "start_time": "2021-09-10T09:44:59.773Z"
   },
   {
    "duration": 40,
    "start_time": "2021-09-10T09:44:59.784Z"
   },
   {
    "duration": 14,
    "start_time": "2021-09-10T09:44:59.827Z"
   },
   {
    "duration": 85,
    "start_time": "2021-09-10T09:44:59.844Z"
   },
   {
    "duration": 453,
    "start_time": "2021-09-10T09:44:59.931Z"
   },
   {
    "duration": 4,
    "start_time": "2021-09-10T09:45:00.389Z"
   },
   {
    "duration": 8041,
    "start_time": "2021-09-10T09:45:00.396Z"
   },
   {
    "duration": 103,
    "start_time": "2021-09-10T09:45:08.337Z"
   },
   {
    "duration": 96,
    "start_time": "2021-09-10T09:45:08.345Z"
   },
   {
    "duration": 178,
    "start_time": "2021-09-10T09:46:50.446Z"
   },
   {
    "duration": 1318,
    "start_time": "2021-09-10T13:46:03.735Z"
   },
   {
    "duration": 45,
    "start_time": "2021-09-10T13:46:05.055Z"
   },
   {
    "duration": 10,
    "start_time": "2021-09-10T13:46:05.102Z"
   },
   {
    "duration": 19,
    "start_time": "2021-09-10T13:46:05.114Z"
   },
   {
    "duration": 6,
    "start_time": "2021-09-10T13:46:05.767Z"
   },
   {
    "duration": 5,
    "start_time": "2021-09-10T13:46:05.974Z"
   },
   {
    "duration": 13,
    "start_time": "2021-09-10T13:46:06.157Z"
   },
   {
    "duration": 6,
    "start_time": "2021-09-10T13:46:06.319Z"
   },
   {
    "duration": 4,
    "start_time": "2021-09-10T13:46:06.829Z"
   },
   {
    "duration": 3,
    "start_time": "2021-09-10T13:46:07.006Z"
   },
   {
    "duration": 13,
    "start_time": "2021-09-10T13:46:07.176Z"
   },
   {
    "duration": 22,
    "start_time": "2021-09-10T13:46:07.519Z"
   },
   {
    "duration": 4,
    "start_time": "2021-09-10T13:46:07.691Z"
   },
   {
    "duration": 7,
    "start_time": "2021-09-10T13:46:08.398Z"
   },
   {
    "duration": 11,
    "start_time": "2021-09-10T13:46:08.558Z"
   },
   {
    "duration": 5,
    "start_time": "2021-09-10T13:46:08.735Z"
   },
   {
    "duration": 6,
    "start_time": "2021-09-10T13:46:09.070Z"
   },
   {
    "duration": 4,
    "start_time": "2021-09-10T13:46:09.242Z"
   },
   {
    "duration": 7,
    "start_time": "2021-09-10T13:46:09.415Z"
   },
   {
    "duration": 4,
    "start_time": "2021-09-10T13:46:09.575Z"
   },
   {
    "duration": 3,
    "start_time": "2021-09-10T13:46:10.078Z"
   },
   {
    "duration": 3,
    "start_time": "2021-09-10T13:46:10.254Z"
   },
   {
    "duration": 8,
    "start_time": "2021-09-10T13:46:10.430Z"
   },
   {
    "duration": 20,
    "start_time": "2021-09-10T13:46:10.603Z"
   },
   {
    "duration": 18,
    "start_time": "2021-09-10T13:46:10.798Z"
   },
   {
    "duration": 16,
    "start_time": "2021-09-10T13:46:10.989Z"
   },
   {
    "duration": 4,
    "start_time": "2021-09-10T13:46:12.550Z"
   },
   {
    "duration": 780,
    "start_time": "2021-09-10T13:46:13.070Z"
   },
   {
    "duration": 192,
    "start_time": "2021-09-10T13:46:13.852Z"
   },
   {
    "duration": 5,
    "start_time": "2021-09-10T13:46:14.046Z"
   },
   {
    "duration": 796,
    "start_time": "2021-09-10T13:46:16.550Z"
   },
   {
    "duration": 5,
    "start_time": "2021-09-10T13:46:24.478Z"
   },
   {
    "duration": 5,
    "start_time": "2021-09-10T13:46:25.109Z"
   },
   {
    "duration": 37,
    "start_time": "2021-09-10T13:46:27.090Z"
   },
   {
    "duration": 4,
    "start_time": "2021-09-10T13:46:27.309Z"
   },
   {
    "duration": 12,
    "start_time": "2021-09-10T13:46:28.504Z"
   },
   {
    "duration": 699,
    "start_time": "2021-09-10T13:46:41.173Z"
   },
   {
    "duration": 10,
    "start_time": "2021-09-10T13:46:42.959Z"
   },
   {
    "duration": 51,
    "start_time": "2021-09-10T13:46:44.390Z"
   },
   {
    "duration": 11,
    "start_time": "2021-09-10T13:46:45.649Z"
   },
   {
    "duration": 171,
    "start_time": "2021-09-10T13:46:45.841Z"
   },
   {
    "duration": 11,
    "start_time": "2021-09-10T13:46:46.037Z"
   },
   {
    "duration": 167,
    "start_time": "2021-09-10T13:46:46.241Z"
   },
   {
    "duration": 329,
    "start_time": "2021-09-10T13:46:46.866Z"
   },
   {
    "duration": 394,
    "start_time": "2021-09-10T13:46:52.202Z"
   },
   {
    "duration": 6,
    "start_time": "2021-09-10T13:46:55.390Z"
   },
   {
    "duration": 4,
    "start_time": "2021-09-10T13:46:55.574Z"
   },
   {
    "duration": 110,
    "start_time": "2021-09-10T13:46:55.776Z"
   },
   {
    "duration": 6,
    "start_time": "2021-09-10T13:46:55.994Z"
   },
   {
    "duration": 17,
    "start_time": "2021-09-10T13:46:57.094Z"
   },
   {
    "duration": 9,
    "start_time": "2021-09-10T13:46:58.014Z"
   },
   {
    "duration": 15,
    "start_time": "2021-09-10T13:46:58.470Z"
   },
   {
    "duration": 112,
    "start_time": "2021-09-10T13:46:58.662Z"
   },
   {
    "duration": 939,
    "start_time": "2021-09-10T13:46:59.703Z"
   },
   {
    "duration": 1198,
    "start_time": "2021-09-10T13:47:00.644Z"
   },
   {
    "duration": 136,
    "start_time": "2021-09-10T13:47:01.844Z"
   },
   {
    "duration": 1029,
    "start_time": "2021-09-10T13:47:01.982Z"
   },
   {
    "duration": 130,
    "start_time": "2021-09-10T13:47:03.012Z"
   },
   {
    "duration": 99,
    "start_time": "2021-09-10T13:47:03.144Z"
   },
   {
    "duration": 9,
    "start_time": "2021-09-10T13:47:04.053Z"
   },
   {
    "duration": 39732,
    "start_time": "2021-09-10T13:47:04.623Z"
   },
   {
    "duration": 8,
    "start_time": "2021-09-10T13:48:04.534Z"
   },
   {
    "duration": 44350,
    "start_time": "2021-09-10T13:48:05.695Z"
   },
   {
    "duration": 14,
    "start_time": "2021-09-10T13:48:55.454Z"
   },
   {
    "duration": 17,
    "start_time": "2021-09-10T13:58:55.760Z"
   },
   {
    "duration": 18,
    "start_time": "2021-09-10T13:59:21.168Z"
   },
   {
    "duration": 10,
    "start_time": "2021-09-10T14:01:26.672Z"
   },
   {
    "duration": 41808,
    "start_time": "2021-09-10T14:01:29.583Z"
   },
   {
    "duration": 22,
    "start_time": "2021-09-10T14:16:27.923Z"
   }
  ],
  "celltoolbar": "Tags",
  "kernelspec": {
   "display_name": "Python 3",
   "language": "python",
   "name": "python3"
  },
  "language_info": {
   "codemirror_mode": {
    "name": "ipython",
    "version": 3
   },
   "file_extension": ".py",
   "mimetype": "text/x-python",
   "name": "python",
   "nbconvert_exporter": "python",
   "pygments_lexer": "ipython3",
   "version": "3.7.8"
  },
  "toc": {
   "base_numbering": 1,
   "nav_menu": {},
   "number_sections": true,
   "sideBar": true,
   "skip_h1_title": true,
   "title_cell": "Содержание",
   "title_sidebar": "Contents",
   "toc_cell": true,
   "toc_position": {},
   "toc_section_display": true,
   "toc_window_display": true
  }
 },
 "nbformat": 4,
 "nbformat_minor": 2
}
